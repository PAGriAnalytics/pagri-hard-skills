{
 "cells": [
  {
   "cell_type": "code",
   "execution_count": 1,
   "metadata": {},
   "outputs": [],
   "source": [
    "import json"
   ]
  },
  {
   "cell_type": "markdown",
   "metadata": {},
   "source": [
    "### Чтобы быстро получить из строки с джейсоном словарь питона используем `eval`"
   ]
  },
  {
   "cell_type": "markdown",
   "metadata": {},
   "source": [
    "важно, чтобы `{` была либо после `\"\"\"`, либо в начлае строки без отступа"
   ]
  },
  {
   "cell_type": "code",
   "execution_count": 31,
   "metadata": {},
   "outputs": [],
   "source": [
    "jsons = \"\"\"{\"id\": 4723897926680576,\n",
    "    \"weather_state_name\": \"Heavy Rain\",\n",
    "    \"weather_state_abbr\": \"hr\"}\n",
    "\"\"\""
   ]
  },
  {
   "cell_type": "code",
   "execution_count": 35,
   "metadata": {},
   "outputs": [
    {
     "data": {
      "text/plain": [
       "{'id': 4723897926680576,\n",
       " 'weather_state_name': 'Heavy Rain',\n",
       " 'weather_state_abbr': 'hr'}"
      ]
     },
     "execution_count": 35,
     "metadata": {},
     "output_type": "execute_result"
    }
   ],
   "source": [
    "eval(jsons)"
   ]
  },
  {
   "cell_type": "code",
   "execution_count": 34,
   "metadata": {},
   "outputs": [
    {
     "data": {
      "text/plain": [
       "dict"
      ]
     },
     "execution_count": 34,
     "metadata": {},
     "output_type": "execute_result"
    }
   ],
   "source": [
    "type(eval(jsons))"
   ]
  },
  {
   "cell_type": "markdown",
   "metadata": {},
   "source": [
    "Можно конечно использовать `json.loads`, который вернет словарь"
   ]
  },
  {
   "cell_type": "code",
   "execution_count": 13,
   "metadata": {},
   "outputs": [
    {
     "data": {
      "text/plain": [
       "dict"
      ]
     },
     "execution_count": 13,
     "metadata": {},
     "output_type": "execute_result"
    }
   ],
   "source": [
    "type(json.loads(jsons))"
   ]
  },
  {
   "cell_type": "markdown",
   "metadata": {},
   "source": [
    "load - принимает объект файла и возвращает объект json. Он используется для чтения данных в кодировке JSON из файла, преобразования их в словарь Python и десериализации самого файла, т. е. принимает файловый объект.  \n",
    "dump(), используемый для записи сериализованного объекта Python в виде данных в формате JSON в файл."
   ]
  },
  {
   "cell_type": "markdown",
   "metadata": {},
   "source": [
    "loads - можно использовать для анализа допустимой строки JSON и преобразования ее в словарь Python. Он в основном используется для десериализации собственной строки, байта или массива байтов, состоящего из данных JSON, в словарь Python.  \n",
    "dumps() используется для кодирования любого объекта Python в строку в формате JSON."
   ]
  },
  {
   "cell_type": "code",
   "execution_count": 2,
   "metadata": {},
   "outputs": [],
   "source": [
    "with open('test.json', 'r') as f:\n",
    "    json_t = json.load(f)"
   ]
  },
  {
   "cell_type": "code",
   "execution_count": 3,
   "metadata": {},
   "outputs": [
    {
     "data": {
      "text/plain": [
       "list"
      ]
     },
     "execution_count": 3,
     "metadata": {},
     "output_type": "execute_result"
    }
   ],
   "source": [
    "type(json_t)"
   ]
  },
  {
   "cell_type": "code",
   "execution_count": 4,
   "metadata": {},
   "outputs": [
    {
     "data": {
      "text/plain": [
       "{'id': 4723897926680576,\n",
       " 'weather_state_name': 'Heavy Rain',\n",
       " 'weather_state_abbr': 'hr',\n",
       " 'wind_direction_compass': 'NE',\n",
       " 'created': '2020-06-20T18:28:31.731018Z',\n",
       " 'applicable_date': '2020-06-20',\n",
       " 'min_temp': 18.674999999999997,\n",
       " 'max_temp': 25.810000000000002,\n",
       " 'the_temp': 24.695,\n",
       " 'wind_speed': 4.646417370025716,\n",
       " 'wind_direction': 40.0,\n",
       " 'air_pressure': 1014.0,\n",
       " 'humidity': 72,\n",
       " 'visibility': 14.283459595959595,\n",
       " 'predictability': 77}"
      ]
     },
     "execution_count": 4,
     "metadata": {},
     "output_type": "execute_result"
    }
   ],
   "source": [
    "json_t[0]"
   ]
  },
  {
   "cell_type": "markdown",
   "metadata": {},
   "source": [
    "indent - необязательный параметр, который позволяет получить форматированный json"
   ]
  },
  {
   "cell_type": "code",
   "execution_count": 4,
   "metadata": {},
   "outputs": [],
   "source": [
    "with open('test.json', 'w') as f:\n",
    "    json.dump(json_t, f, indent=4)"
   ]
  },
  {
   "cell_type": "code",
   "execution_count": null,
   "metadata": {},
   "outputs": [],
   "source": []
  }
 ],
 "metadata": {
  "kernelspec": {
   "display_name": "Python 3.7.1 64-bit",
   "language": "python",
   "name": "python3"
  },
  "language_info": {
   "codemirror_mode": {
    "name": "ipython",
    "version": 3
   },
   "file_extension": ".py",
   "mimetype": "text/x-python",
   "name": "python",
   "nbconvert_exporter": "python",
   "pygments_lexer": "ipython3",
   "version": "3.7.1"
  },
  "orig_nbformat": 4,
  "vscode": {
   "interpreter": {
    "hash": "fbe58ca63fe33f9eeae9e71d10368d2b4a57f2b1b395836210cc60d362c66949"
   }
  }
 },
 "nbformat": 4,
 "nbformat_minor": 2
}
