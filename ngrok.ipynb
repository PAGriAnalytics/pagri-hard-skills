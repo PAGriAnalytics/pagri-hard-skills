{
 "cells": [
  {
   "cell_type": "markdown",
   "metadata": {},
   "source": [
    "pyngrok — это оболочка Python для ngrok. В то время как Ngrok — это сервис,  \n",
    "который позволяет вам открывать порты TCP, HTTP и HTTPS внешнему миру без необходимости в публичном IP-адресе"
   ]
  },
  {
   "cell_type": "markdown",
   "metadata": {},
   "source": [
    "Чтобы создать безопасные туннели из вашей локальной системы, которые могут быть доступны публично, вам необходимо создать учетную запись в ngrok . \n",
    "После создания учетной записи вам необходимо получить доступ и получить токен аутентификации."
   ]
  },
  {
   "cell_type": "code",
   "execution_count": null,
   "metadata": {},
   "outputs": [],
   "source": [
    "https://colab.research.google.com/github/Paul-mwaura/Deploy-Web-Apps-Using-Google-Colab-and-Ngrok/blob/main/Deploy_Titanic_Data_Project_with_Colab_and_Ngrok.ipynb"
   ]
  },
  {
   "cell_type": "code",
   "execution_count": null,
   "metadata": {},
   "outputs": [],
   "source": [
    "https://dashboard.ngrok.com/get-started/setup/windows"
   ]
  },
  {
   "cell_type": "code",
   "execution_count": null,
   "metadata": {},
   "outputs": [],
   "source": [
    "!pip install pyngrok"
   ]
  },
  {
   "cell_type": "code",
   "execution_count": null,
   "metadata": {},
   "outputs": [],
   "source": [
    "ngrok config add-authtoken 2ojv2G8kdwBT97Yy3xrTGGjZRXv_3gTEDqLGwEPz1mCLvUrVu"
   ]
  },
  {
   "cell_type": "markdown",
   "metadata": {},
   "source": [
    "Сначала запускаем эту ячейку"
   ]
  },
  {
   "cell_type": "code",
   "execution_count": null,
   "metadata": {},
   "outputs": [
    {
     "data": {
      "text/plain": [
       "<NgrokTunnel: \"https://3840-34-127-69-91.ngrok-free.app\" -> \"http://localhost:8051\">"
      ]
     },
     "execution_count": 1,
     "metadata": {},
     "output_type": "execute_result"
    },
    {
     "name": "stderr",
     "output_type": "stream",
     "text": [
      "WARNING:pyngrok.process.ngrok:t=2024-11-12T07:16:17+0000 lvl=warn msg=\"Not Found\" pg=/favicon.ico id=8eefeacbd305f229 path=/favicon.ico\n"
     ]
    }
   ],
   "source": [
    "from pyngrok import ngrok\n",
    "tunnel = ngrok.connect(8051)\n",
    "tunnel"
   ]
  },
  {
   "cell_type": "markdown",
   "metadata": {},
   "source": [
    "теперь запускаем dash"
   ]
  },
  {
   "cell_type": "code",
   "execution_count": null,
   "metadata": {},
   "outputs": [],
   "source": [
    "python app.py"
   ]
  },
  {
   "cell_type": "markdown",
   "metadata": {},
   "source": [
    "теперь мы можем открыть дашборд по адресу, который нам дал ngrok выше"
   ]
  },
  {
   "cell_type": "markdown",
   "metadata": {},
   "source": [
    "После того, как вы закончите свою работу, не забудьте закрыть туннель, просто используя ngrok.kill().  \n",
    "Это закроет любой активный туннель к вашему локальному хосту."
   ]
  },
  {
   "cell_type": "code",
   "execution_count": null,
   "metadata": {},
   "outputs": [],
   "source": [
    "ngrok.kill()"
   ]
  }
 ],
 "metadata": {
  "kernelspec": {
   "display_name": "Python 3",
   "language": "python",
   "name": "python3"
  },
  "language_info": {
   "codemirror_mode": {
    "name": "ipython",
    "version": 3
   },
   "file_extension": ".py",
   "mimetype": "text/x-python",
   "name": "python",
   "nbconvert_exporter": "python",
   "pygments_lexer": "ipython3",
   "version": "3.10.12"
  },
  "orig_nbformat": 4
 },
 "nbformat": 4,
 "nbformat_minor": 2
}
