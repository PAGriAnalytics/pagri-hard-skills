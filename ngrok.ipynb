{
 "cells": [
  {
   "cell_type": "markdown",
   "metadata": {},
   "source": [
    "pyngrok — это оболочка Python для ngrok. В то время как Ngrok — это сервис,  \n",
    "который позволяет вам открывать порты TCP, HTTP и HTTPS внешнему миру без необходимости в публичном IP-адресе"
   ]
  },
  {
   "cell_type": "markdown",
   "metadata": {},
   "source": [
    "Чтобы создать безопасные туннели из вашей локальной системы, которые могут быть доступны публично, вам необходимо создать учетную запись в ngrok . \n",
    "После создания учетной записи вам необходимо получить доступ и получить токен аутентификации."
   ]
  },
  {
   "cell_type": "code",
   "execution_count": null,
   "metadata": {},
   "outputs": [],
   "source": [
    "https://colab.research.google.com/github/Paul-mwaura/Deploy-Web-Apps-Using-Google-Colab-and-Ngrok/blob/main/Deploy_Titanic_Data_Project_with_Colab_and_Ngrok.ipynb"
   ]
  },
  {
   "cell_type": "code",
   "execution_count": null,
   "metadata": {},
   "outputs": [],
   "source": [
    "https://dashboard.ngrok.com/get-started/setup/windows"
   ]
  },
  {
   "cell_type": "code",
   "execution_count": null,
   "metadata": {},
   "outputs": [],
   "source": [
    "!pip install pyngrok"
   ]
  },
  {
   "cell_type": "code",
   "execution_count": null,
   "metadata": {},
   "outputs": [],
   "source": [
    "ngrok config add-authtoken 2jb5GzQrXUPtQMTwavRIvJtCQdX_5GtEqQ1KUxgvNtvazt2Vb"
   ]
  },
  {
   "cell_type": "markdown",
   "metadata": {},
   "source": [
    "Сначала запускаем эту ячейку"
   ]
  },
  {
   "cell_type": "code",
   "execution_count": null,
   "metadata": {},
   "outputs": [],
   "source": [
    "from pyngrok import ngrok\n",
    "tunnel = ngrok.connect(8050)\n",
    "tunnel"
   ]
  },
  {
   "cell_type": "markdown",
   "metadata": {},
   "source": [
    "теперь запускаем dash"
   ]
  },
  {
   "cell_type": "code",
   "execution_count": null,
   "metadata": {},
   "outputs": [],
   "source": [
    "python app.py"
   ]
  },
  {
   "cell_type": "markdown",
   "metadata": {},
   "source": [
    "теперь мы можем открыть дашборд по адресу, который нам дал ngrok выше"
   ]
  },
  {
   "cell_type": "markdown",
   "metadata": {},
   "source": [
    "После того, как вы закончите свою работу, не забудьте закрыть туннель, просто используя ngrok.kill().  \n",
    "Это закроет любой активный туннель к вашему локальному хосту."
   ]
  },
  {
   "cell_type": "code",
   "execution_count": null,
   "metadata": {},
   "outputs": [],
   "source": [
    "ngrok.kill()"
   ]
  }
 ],
 "metadata": {
  "kernelspec": {
   "display_name": "Python 3.7.1 64-bit",
   "language": "python",
   "name": "python3"
  },
  "language_info": {
   "name": "python",
   "version": "3.7.1"
  },
  "orig_nbformat": 4,
  "vscode": {
   "interpreter": {
    "hash": "fbe58ca63fe33f9eeae9e71d10368d2b4a57f2b1b395836210cc60d362c66949"
   }
  }
 },
 "nbformat": 4,
 "nbformat_minor": 2
}
