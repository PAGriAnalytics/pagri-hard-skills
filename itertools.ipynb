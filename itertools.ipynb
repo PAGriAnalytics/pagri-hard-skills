{
 "cells": [
  {
   "cell_type": "markdown",
   "metadata": {},
   "source": [
    "https://habr.com/ru/companies/otus/articles/529356/"
   ]
  },
  {
   "cell_type": "markdown",
   "metadata": {},
   "source": [
    "Модуль itertools стандартизирует основной набор быстрых эффективных по памяти инструментов,   \n",
    "которые полезны сами по себе или в связке с другими инструментами.   \n",
    "Вместе они формируют «алгебру итераторов», которая позволяет лаконично и эффективно создавать специализированные инструменты на чистом Python."
   ]
  },
  {
   "cell_type": "markdown",
   "metadata": {},
   "source": [
    "Модуль представляет следующие типы итераторов: \n",
    "- Бесконечные итераторы;\n",
    "- Конечные итераторы;\n",
    "- Комбинаторные генераторы.\n",
    "\n",
    "Возвращаемый объект также будет итератором. Мы можем проходиться по итератору с помощью:\n",
    "- функции `next`\n",
    "- цикла `for`\n",
    "- конвертации в список с помощью `list()`"
   ]
  },
  {
   "cell_type": "code",
   "execution_count": 2,
   "metadata": {},
   "outputs": [],
   "source": [
    "import itertools"
   ]
  },
  {
   "cell_type": "markdown",
   "metadata": {},
   "source": [
    "### Бесконечные итераторы:  "
   ]
  },
  {
   "cell_type": "markdown",
   "metadata": {},
   "source": [
    "count() "
   ]
  },
  {
   "cell_type": "code",
   "execution_count": 5,
   "metadata": {},
   "outputs": [
    {
     "name": "stdout",
     "output_type": "stream",
     "text": [
      "0\n",
      "1\n",
      "2\n"
     ]
    }
   ],
   "source": [
    "# count() создает итератор, который возвращает равномерно распределенные значения, начиная с числа, указанного в аргументе start.  \n",
    "# По умолчанию start равен 0, а step -1. Шаг также может быть нецелым значением. Эта функция вернет бесконечный итератор.\n",
    "c=itertools.count()\n",
    "print(next(c))\n",
    "print(next(c))\n",
    "print(next(c))"
   ]
  },
  {
   "cell_type": "code",
   "execution_count": 6,
   "metadata": {},
   "outputs": [
    {
     "name": "stdout",
     "output_type": "stream",
     "text": [
      "2.5 5.0 7.5 10.0 12.5 15.0 17.5 20.0 22.5 25.0 2\n",
      "-0.5\n",
      "-3.0\n"
     ]
    }
   ],
   "source": [
    "#accessing values in the iterator using for loop.step argument can be float values also.\n",
    "c2=itertools.count(2.5,2.5)\n",
    "for i in c2:\n",
    "    #including terminating condition, else loop will keep on going.(infinite loop)\n",
    "    if i>25:\n",
    "        break\n",
    "    else:\n",
    "        print (i,end=\" \") #Output:2.5 5.0 7.5 10.0 12.5 15.0 17.5 20.0 22.5 25.0\n",
    "        \n",
    "\n",
    "#step can be negative numbers also.negative numbers count backwards.\n",
    "c3=itertools.count(2,-2.5)\n",
    "print (next(c3))#Output:2\n",
    "print (next(c3))#Output:-0.5\n",
    "print (next(c3))#Output:-3.0"
   ]
  },
  {
   "cell_type": "code",
   "execution_count": 9,
   "metadata": {},
   "outputs": [
    {
     "name": "stdout",
     "output_type": "stream",
     "text": [
      "[(0, 5), (1, 15), (2, 25)]\n"
     ]
    }
   ],
   "source": [
    "# itertools.count() можно использовать в качестве входной последовательности для функции zip()\n",
    "l1=[5,15,25]\n",
    "l2=zip(itertools.count(),l1)\n",
    "print (list(l2))#Output:[(0, 5), (1, 15), (2, 25)]"
   ]
  },
  {
   "cell_type": "code",
   "execution_count": 11,
   "metadata": {},
   "outputs": [
    {
     "name": "stdout",
     "output_type": "stream",
     "text": [
      "0\n",
      "1\n"
     ]
    }
   ],
   "source": [
    "# также можно использовать в map\n",
    "l1=map(lambda x:x**2,itertools.count())\n",
    "print(next(l1))\n",
    "print(next(l1))"
   ]
  },
  {
   "cell_type": "markdown",
   "metadata": {},
   "source": [
    "cycle()"
   ]
  },
  {
   "cell_type": "code",
   "execution_count": 13,
   "metadata": {},
   "outputs": [
    {
     "name": "stdout",
     "output_type": "stream",
     "text": [
      "1 2 3 1 2 3 1 2 3 1 2 3 1 2 3 1 \n",
      "h\n",
      "e\n",
      "l\n",
      "l\n",
      "o\n"
     ]
    }
   ],
   "source": [
    "# Создает итератор, возвращающий элементы из итерируемого объекта и сохраняющий копию каждого из них.   \n",
    "# Когда итерируемый объект заканчивается, возвращается элемент из сохраненной копии. Работает бесконечно.\n",
    "l1=[1,2,3]\n",
    "#using list iterable as an argument in itertools.cycle()\n",
    "l2=itertools.cycle(l1)\n",
    "count=0\n",
    "for i in l2:\n",
    "    #It will end in infinite loop. So have to define terminating condition.\n",
    "    if count > 15:\n",
    "        break\n",
    "    else:\n",
    "        print (i,end=\" \")#Output:1 2 3 1 2 3 1 2 3 1 2 3 1 2 3 1\n",
    "        count+=1      \n",
    "#string is given as an argument in itertools.cycle() function.\n",
    "print()\n",
    "s1=\"hello\"\n",
    "l3=itertools.cycle(s1)\n",
    "#accessing the iterator using next()\n",
    "print (next(l3))#Output:h\n",
    "print (next(l3))#Output:e\n",
    "print (next(l3))#Output:l\n",
    "print (next(l3))#Output:l\n",
    "print (next(l3))#Output:o\n"
   ]
  },
  {
   "cell_type": "markdown",
   "metadata": {},
   "source": [
    "repeat()"
   ]
  },
  {
   "cell_type": "markdown",
   "metadata": {},
   "source": [
    "Создает итератор, который возвращает объект снова и снова.   \n",
    "Выполняется бесконечно, если не указано значение аргумента times.  \n",
    "Может использоваться как аргумент в функциях map() и zip()."
   ]
  },
  {
   "cell_type": "code",
   "execution_count": 14,
   "metadata": {},
   "outputs": [
    {
     "name": "stdout",
     "output_type": "stream",
     "text": [
      "2\n",
      "2\n",
      "hello hello hello hello hello hello hello hello hello hello  \n",
      "[1, 2, 3] [1, 2, 3] [1, 2, 3]  \n",
      "('red', 'blue') ('red', 'blue') ('red', 'blue') "
     ]
    }
   ],
   "source": [
    "#times argument is not mentioned. It will result in infinite loop.\n",
    "l1=itertools.repeat(2)\n",
    "print (next(l1))#Output:2\n",
    "print (next(l1))#Output:2\n",
    "\n",
    "\n",
    "#string is used as an argument.times argument is mentioned as 10.It will repeat the string 10 times.\n",
    "l2=itertools.repeat(\"hello\",times=10)\n",
    "for i in l2:\n",
    "    print (i,end=\" \")#Output:hello hello hello hello hello hello hello hello hello hello\n",
    "print (\" \")\n",
    "\n",
    "\n",
    "#list is used as argument\n",
    "l3=itertools.repeat([1,2,3],times=3)\n",
    "for i in l3:\n",
    "    print (i,end=\" \")#Output:[1, 2, 3] [1, 2, 3] [1, 2, 3]\n",
    "print (\" \")\n",
    "\n",
    "\n",
    "#tuple is used as an argument\n",
    "l4=itertools.repeat(('red','blue'),times=3)\n",
    "for i in l4:\n",
    "    print (i,end=\" \")#Output:('red', 'blue') ('red', 'blue') ('red', 'blue')"
   ]
  },
  {
   "cell_type": "code",
   "execution_count": null,
   "metadata": {},
   "outputs": [],
   "source": [
    "# Здесь функция используется в качестве аргумента функции map().\n",
    "import itertools\n",
    "#It will return square of numbers from 0 to 9.\n",
    "l1=map(pow,range(10),itertools.repeat(2))\n",
    "print(l1)#Output:<map object at 0x011CEC10>\n",
    "\n",
    "#iterate through map object using for loop\n",
    "for i in l1:\n",
    "    print (i,end=\" \") #Output:0 1 4 9 16 25 36 49 64 81"
   ]
  },
  {
   "cell_type": "code",
   "execution_count": 3,
   "metadata": {},
   "outputs": [
    {
     "name": "stdout",
     "output_type": "stream",
     "text": [
      "('hello', 2)\n",
      "('hello', 3)\n",
      "('hello', 4)\n"
     ]
    }
   ],
   "source": [
    "l1 = [2, 3, 4]\n",
    "l3=zip(itertools.repeat(\"hello\"),l1)\n",
    "for i in l3:\n",
    "    print (i)"
   ]
  },
  {
   "cell_type": "markdown",
   "metadata": {},
   "source": [
    "### Конечные итераторы"
   ]
  },
  {
   "cell_type": "markdown",
   "metadata": {},
   "source": [
    "accumulate()  \n",
    "Создает итератор, который возвращает накопленную сумму или накопленный результат других бинарных функций, которые указаны в параметре func.   \n",
    "functools.reduce() возвращает только конечное накопленное значение для аналогичной функции.   "
   ]
  },
  {
   "cell_type": "code",
   "execution_count": 5,
   "metadata": {},
   "outputs": [
    {
     "name": "stdout",
     "output_type": "stream",
     "text": [
      "[1, 3, 6, 10, 15]\n",
      "15\n"
     ]
    }
   ],
   "source": [
    "import operator\n",
    "from functools import reduce\n",
    "l1=itertools.accumulate([1,2,3,4,5])\n",
    "print (list(l1))#Output:[1, 3, 6, 10, 15]\n",
    "#using reduce() for same function\n",
    "r1=reduce(operator.add,[1,2,3,4,5])\n",
    "print (r1)#Output:15"
   ]
  },
  {
   "cell_type": "markdown",
   "metadata": {},
   "source": [
    "Важно  \n",
    "Параметр initial добавлен в Python версии 3.8."
   ]
  },
  {
   "cell_type": "code",
   "execution_count": 7,
   "metadata": {},
   "outputs": [
    {
     "name": "stdout",
     "output_type": "stream",
     "text": [
      "[1, 2, 6, 30, 150]\n",
      "120\n",
      "[2, 4, 6, 6, 6]\n",
      "6\n",
      "[2, 2, 2, 2, 1]\n",
      "1\n"
     ]
    }
   ],
   "source": [
    "#If initial parameter is mentioned, it will start accumulating from the initial value.\n",
    "#It will contain more than one element in the ouptut iterable.\n",
    "\n",
    "# l2=itertools.accumulate([1,2,3,4,5],operator.add,initial=10)\n",
    "# print (list(l2))#Output:[10, 11, 13, 16, 20, 25]\n",
    "\n",
    "\n",
    "#it takes operator mul as function\n",
    "# It will perform multiplication on first two elements, then it will perform multiplication of next two element in the iterable.\n",
    "l3=itertools.accumulate([1,2,3,5,5],operator.mul)\n",
    "print (list(l3))#Output:[1, 2, 6, 30, 150]\n",
    "#using reduce() for same function mul.\n",
    "r2=reduce(operator.mul,[1,2,3,4,5])\n",
    "print (r2)#Output:120\n",
    "\n",
    "\n",
    "l4=itertools.accumulate([2,4,6,3,1],max)\n",
    "print (list(l4))#Output:[2, 4, 6, 6, 6]\n",
    "#using reduce for same function max\n",
    "r3=reduce(max,[2,4,6,3,1])\n",
    "print (r3)#Output:6\n",
    "\n",
    "\n",
    "#It takes min function as parameter.\n",
    "# It will compare two elements and find the minimum element,then compare the other elements and find the mininum element.\n",
    "l5=itertools.accumulate([2,4,6,3,1],min)\n",
    "print (list(l5))#Output:[2, 2, 2, 2, 1]\n",
    "#using reduce() for same function min\n",
    "r4=reduce(min,[2,4,6,3,1])\n",
    "print (r4)#Output:1"
   ]
  },
  {
   "cell_type": "markdown",
   "metadata": {},
   "source": [
    "chain()  \n",
    "Создает итератор, который возвращает элемент из итерируемого объекта до тех пор, пока он не закончится, а потом переходит к следующему.  \n",
    "Он будет рассматривать последовательности, идущие друг за другом, как одну. "
   ]
  },
  {
   "cell_type": "code",
   "execution_count": 11,
   "metadata": {},
   "outputs": [
    {
     "name": "stdout",
     "output_type": "stream",
     "text": [
      "['red', 'blue', 1, 2, 3, 'h', 'e', 'l', 'l', 'o']\n"
     ]
    }
   ],
   "source": [
    "l1=itertools.chain([\"red\",\"blue\"],[1,2,3],\"hello\")\n",
    "print(list(l1))#Output:['red', 'blue', 1, 2, 3, 'h', 'e', 'l', 'l', 'o']"
   ]
  },
  {
   "cell_type": "markdown",
   "metadata": {},
   "source": [
    "chain.from_iterable()  \n",
    "Эта функция берет один итерируемый объект в качестве входного аргумента и возвращает «склеенный» итерируемый объект,   \n",
    "содержащий все элементы входного. Все элементы, подаваемые на вход, должны быть итерируемыми, иначе выпадет исключение TypeError."
   ]
  },
  {
   "cell_type": "code",
   "execution_count": null,
   "metadata": {},
   "outputs": [],
   "source": [
    "import itertools\n",
    "l1=itertools.chain.from_iterable([\"ABC\",\"DEF\",\"GHI\"])\n",
    "print (list(l1))#Output:['A', 'B', 'C', 'D', 'E', 'F', 'G', 'H', 'I']\n",
    "\n",
    "l2=itertools.chain([\"ABC\",\"DEF\",\"GHI\"])\n",
    "print (list(l2))#Output:['ABC', 'DEF', 'GHI']\n",
    "\n",
    "#all elements in the input iterable should be iterable.Otherwise it will raise TypeError.\n",
    "l3=itertools.chain.from_iterable([1,2,3])\n",
    "print (list(l3))#Output:TypeError: 'int' object is not iterable"
   ]
  },
  {
   "cell_type": "markdown",
   "metadata": {},
   "source": [
    "compress()  \n",
    "Создает итератор, который фильтрует элементы data, возвращая только те,   \n",
    "которые содержат соответствующий элемент в селекторах (selectors), стоящих в True. Прекращает выполнение, когда либо данные, либо селекторы закончились. "
   ]
  },
  {
   "cell_type": "code",
   "execution_count": 12,
   "metadata": {},
   "outputs": [
    {
     "name": "stdout",
     "output_type": "stream",
     "text": [
      "[1, 3]\n",
      "[1, 3]\n"
     ]
    }
   ],
   "source": [
    "selectors=[True,False,True,False]\n",
    "l1=itertools.compress([1,2,3,4],selectors)\n",
    "#Only returns element whose corresponding selector is True.\n",
    "print (list(l1))#Output:[1,3]\n",
    "\n",
    "#filter - instead of passing an iterable of True and False. function is used to determine the value \"True or False\"\n",
    "l2=filter(lambda x:x%2!=0,[1,2,3,4])\n",
    "print (list(l2))#Output:[1,3]"
   ]
  },
  {
   "cell_type": "markdown",
   "metadata": {},
   "source": [
    "zip_longest()\n",
    "\n",
    "Создает итератор, который агрегирует элементы из каждого итерируемого объекта.   \n",
    "Если итераторы имеют неравномерную длину, то на место пропущенных значений ставится fillvalue.  \n",
    "Итерация будет продолжаться до тех пор, пока не закончится самый длинный итерируемый объект.  \n",
    "В zip() итерация продолжается до тех пор, пока не закончится самый короткий итерируемый объект."
   ]
  },
  {
   "cell_type": "code",
   "execution_count": 14,
   "metadata": {},
   "outputs": [
    {
     "name": "stdout",
     "output_type": "stream",
     "text": [
      "[(1, 'a'), (2, 'b'), (3, 'c'), (4, None), (5, None)]\n",
      "[(1, 'a'), (2, 'b'), (3, 'c'), (4, 'z'), (5, 'z')]\n"
     ]
    }
   ],
   "source": [
    "#fillvalue is not given,by default it will be None.\n",
    "#iteration continues until longest iterable is exhausted.\n",
    "z1=itertools.zip_longest([1,2,3,4,5],['a','b','c'])\n",
    "#we can iterate through zip object using for loop or we can convert to list object.\n",
    "print (list(z1))#Output:[(1, 'a'), (2, 'b'), (3, 'c'), (4, None), (5, None)]\n",
    "\n",
    "\n",
    "#fillvalue is mentioned\n",
    "z2=itertools.zip_longest([1,2,3,4,5],['a','b','c'],fillvalue=\"z\")\n",
    "print (list(z2))#Output:[(1, 'a'), (2, 'b'), (3, 'c'), (4, 'z'), (5, 'z')]"
   ]
  },
  {
   "cell_type": "markdown",
   "metadata": {},
   "source": [
    "groupby():\n",
    "\n",
    "Создает итератор, который возвращает последовательно ключи и группы из итерируемого объекта.\n",
    "\n",
    "key – это функция, вычисляющая значение ключа для каждого элемента по умолчанию.  \n",
    "Если ключ не указан или в значении None, то по умолчанию ключ является функцией идентификации, которая возвращает элемент без изменений. \n",
    "\n",
    "itertools.groupby(iterable,key=None)"
   ]
  },
  {
   "cell_type": "code",
   "execution_count": 15,
   "metadata": {},
   "outputs": [
    {
     "name": "stdout",
     "output_type": "stream",
     "text": [
      "<itertools.groupby object at 0x0000000008395FC0>\n",
      "{'color': [('color', 'red'), ('color', 'blue'), ('color', 'green')]}\n",
      "{'Numbers': [('Numbers', 1), ('Numbers', 5)]}\n"
     ]
    }
   ],
   "source": [
    "l1=[('color','red'),('color','blue'),('color','green'),('Numbers',1),('Numbers',5)]\n",
    "l2=itertools.groupby(l1,key=lambda x:x[0])\n",
    "print (l2)#Output:<itertools.groupby object at 0x0305F528>\n",
    "for key,group in l2:\n",
    "    result={key:list(group)}\n",
    "    print (result)"
   ]
  },
  {
   "cell_type": "markdown",
   "metadata": {},
   "source": [
    "### Комбинаторные генераторы"
   ]
  },
  {
   "cell_type": "markdown",
   "metadata": {},
   "source": [
    "product()  \n",
    "Декартово произведение итерируемых объектов, подаваемых на вход."
   ]
  },
  {
   "cell_type": "code",
   "execution_count": 16,
   "metadata": {},
   "outputs": [
    {
     "data": {
      "text/plain": [
       "[(1, 4), (1, 5), (1, 6), (2, 4), (2, 5), (2, 6), (3, 4), (3, 5), (3, 6)]"
      ]
     },
     "execution_count": 16,
     "metadata": {},
     "output_type": "execute_result"
    }
   ],
   "source": [
    "# itertools.product созадет все пары между двумя списками\n",
    "list(itertools. product([1,2,3], [4,5,6]))"
   ]
  },
  {
   "cell_type": "markdown",
   "metadata": {},
   "source": [
    "permutations()  \n",
    "Возвращает последовательные r перестановок элементов в итерируемом объекте.     \n",
    "С параметром r возвращает количестов перестановок $A^{k}_{n} = \\frac{n!}{(n-k)!}$\n",
    "Если параметр r не указан или стоит в значении None, то по умолчанию r принимает длину итерируемого объекта и    \n",
    "генерирует все возможные полноценные перестановки. Кортежи перестановок выдаются в лексикографическим порядке    \n",
    "в соответствии с порядком итерации входных данных. Таким образом, если входные данные итерируемого объекта отсортированы,     \n",
    "то комбинация кортежей будет выдаваться в отсортированном порядке.  "
   ]
  },
  {
   "cell_type": "code",
   "execution_count": 17,
   "metadata": {},
   "outputs": [
    {
     "name": "stdout",
     "output_type": "stream",
     "text": [
      "[('A', 'B', 'C'), ('A', 'C', 'B'), ('B', 'A', 'C'), ('B', 'C', 'A'), ('C', 'A', 'B'), ('C', 'B', 'A')]\n",
      "[(3, 2, 1), (3, 1, 2), (2, 3, 1), (2, 1, 3), (1, 3, 2), (1, 2, 3)]\n",
      "[(1, 1), (1, 1)]\n",
      "[('ABC',)]\n",
      "[(1, 2), (1, 3), (1, 4), (2, 1), (2, 3), (2, 4), (3, 1), (3, 2), (3, 4), (4, 1), (4, 2), (4, 3)]\n"
     ]
    }
   ],
   "source": [
    "l1=itertools.permutations(\"ABC\")\n",
    "print (list(l1))#Output:[('A', 'B', 'C'), ('A', 'C', 'B'), ('B', 'A', 'C'), ('B', 'C', 'A'), ('C', 'A', 'B'), ('C', 'B', 'A')]\n",
    "\n",
    "l2=itertools.permutations([3,2,1])\n",
    "print (list(l2))#Output:[(3, 2, 1), (3, 1, 2), (2, 3, 1), (2, 1, 3), (1, 3, 2), (1, 2, 3)]\n",
    "\n",
    "#elements are treated as unique based on their position and not by their value.\n",
    "l3=itertools.permutations([1,1])\n",
    "print (list(l3))#Output:[(1, 1), (1, 1)]\n",
    "\n",
    "l4=itertools.permutations([\"ABC\"])\n",
    "print (list(l4))#Output:[('ABC',)]\n",
    "\n",
    "#r value is mentioned as 2. It will return all different permutations in 2 values.\n",
    "l5=itertools.permutations([1,2,3,4],2)\n",
    "print (list(l5))#Output:[(1, 2), (1, 3), (1, 4), (2, 1), (2, 3), (2, 4), (3, 1), (3, 2), (3, 4), (4, 1), (4, 2), (4, 3)]"
   ]
  },
  {
   "cell_type": "code",
   "execution_count": 21,
   "metadata": {},
   "outputs": [
    {
     "name": "stdout",
     "output_type": "stream",
     "text": [
      "[(3, 2), (3, 1), (2, 3), (2, 1), (1, 3), (1, 2)]\n"
     ]
    }
   ],
   "source": [
    "l2=itertools.permutations([3,2,1], 2)\n",
    "print (list(l2))"
   ]
  },
  {
   "cell_type": "markdown",
   "metadata": {},
   "source": [
    "combinations()  \n",
    "Ваозращает количетство сочетаний $C^{k}_{n} = \\frac{n!}{k!(n-k)!}$"
   ]
  },
  {
   "cell_type": "code",
   "execution_count": 22,
   "metadata": {},
   "outputs": [
    {
     "name": "stdout",
     "output_type": "stream",
     "text": [
      "[(3, 2), (3, 1), (2, 1)]\n"
     ]
    }
   ],
   "source": [
    "l2=itertools.combinations([3,2,1], 2)\n",
    "print (list(l2))"
   ]
  },
  {
   "cell_type": "markdown",
   "metadata": {},
   "source": [
    "combinations_with_replacement():\n",
    "\n",
    "Возвращает подпоследовательности длины r из элементов итерируемого объекта,   \n",
    "подаваемого на вход, при этом отдельные элементы могут повторяться больше одного раза. "
   ]
  },
  {
   "cell_type": "code",
   "execution_count": 23,
   "metadata": {},
   "outputs": [
    {
     "name": "stdout",
     "output_type": "stream",
     "text": [
      "[(3, 3), (3, 2), (3, 1), (2, 2), (2, 1), (1, 1)]\n"
     ]
    }
   ],
   "source": [
    "l2=itertools.combinations_with_replacement([3,2,1], 2)\n",
    "print (list(l2))"
   ]
  },
  {
   "cell_type": "code",
   "execution_count": null,
   "metadata": {},
   "outputs": [],
   "source": []
  }
 ],
 "metadata": {
  "kernelspec": {
   "display_name": "Python 3.7.1 64-bit",
   "language": "python",
   "name": "python3"
  },
  "language_info": {
   "codemirror_mode": {
    "name": "ipython",
    "version": 3
   },
   "file_extension": ".py",
   "mimetype": "text/x-python",
   "name": "python",
   "nbconvert_exporter": "python",
   "pygments_lexer": "ipython3",
   "version": "3.7.1"
  },
  "orig_nbformat": 4,
  "vscode": {
   "interpreter": {
    "hash": "fbe58ca63fe33f9eeae9e71d10368d2b4a57f2b1b395836210cc60d362c66949"
   }
  }
 },
 "nbformat": 4,
 "nbformat_minor": 2
}
