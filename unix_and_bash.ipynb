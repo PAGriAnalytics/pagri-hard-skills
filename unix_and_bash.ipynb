{
 "cells": [
  {
   "cell_type": "markdown",
   "metadata": {},
   "source": [
    "Задачки Linux Shell  \n",
    "https://www.hackerrank.com/domains/shell  \n",
    "https://leetcode.com/problemset/shell/"
   ]
  },
  {
   "cell_type": "markdown",
   "metadata": {},
   "source": [
    "### Unix"
   ]
  },
  {
   "cell_type": "markdown",
   "metadata": {},
   "source": [
    "Навигация по директориям"
   ]
  },
  {
   "cell_type": "markdown",
   "metadata": {},
   "source": [
    "`cd` - change directory  \n",
    "`~` - это alias домашней директории  \n",
    "если написать название папки без указания пути к ней, то подразумевается, что она в текущей папке  \n",
    "`./` - текущая дериктория  \n",
    "`../` - директория выше (родительская директория)  "
   ]
  },
  {
   "cell_type": "code",
   "execution_count": null,
   "metadata": {
    "vscode": {
     "languageId": "shellscript"
    }
   },
   "outputs": [],
   "source": [
    "cd … # перейти в папку …\n",
    "cd # перейти в домашнюю директорию\n",
    "cd ~ # перейти в домашнюю директорию\n",
    "# pushd помещает текущую директорию в стек и переходит в указаную  \n",
    "# в стек можно помещать много путей до папок, тогда popd будет разворачивать стек  \n",
    "# и будет переход к папке, которая вверху стека\n",
    "# pwd по сути показывает какая папка лежит вверху стека  \n",
    "# если в стек ничего не добавлялось, то там будет только pwd\n",
    "pushd … # запомнить текущий путь и перейти впапку …\n",
    "popd # “вспомнить” путь и вернуться"
   ]
  },
  {
   "cell_type": "markdown",
   "metadata": {},
   "source": [
    "Отображаем содержимое"
   ]
  },
  {
   "cell_type": "code",
   "execution_count": null,
   "metadata": {
    "vscode": {
     "languageId": "shellscript"
    }
   },
   "outputs": [],
   "source": [
    "ls … # отображает список файлов в папке …\n",
    "ls -a … # в том числе и скрытые\n",
    "ls -l … # в том числе и показать права\n",
    "pwd # напечатать абсолютный путь к текущей папке"
   ]
  },
  {
   "cell_type": "markdown",
   "metadata": {},
   "source": [
    "Узнаем больше о мире вокруг"
   ]
  },
  {
   "cell_type": "code",
   "execution_count": null,
   "metadata": {
    "vscode": {
     "languageId": "shellscript"
    }
   },
   "outputs": [],
   "source": [
    "file … # узнать, что это за файл\n",
    "locate … # найти файл с именем … \n",
    "find … -name “<name>” # найти файл с именем <name> в папке … (если вместо названия папки указать точку, то будет искать в текущей папке и всех входящих в нее)\n",
    "sudo updatedb # обновиться, чтобы поиск работал\n",
    "which … # узнать путь к исполняемой команде"
   ]
  },
  {
   "cell_type": "markdown",
   "metadata": {},
   "source": [
    "find"
   ]
  },
  {
   "cell_type": "markdown",
   "metadata": {},
   "source": [
    "При работе с командой find всегда заключайте поисковое выражение в двойные кавычки."
   ]
  },
  {
   "cell_type": "markdown",
   "metadata": {},
   "source": [
    " Чтобы выполнить поиск по имени файла без учёта регистра, надо ввести опцию -iname вместо -name."
   ]
  },
  {
   "cell_type": "code",
   "execution_count": null,
   "metadata": {
    "vscode": {
     "languageId": "shellscript"
    }
   },
   "outputs": [],
   "source": [
    "# Такая команда выполнит поиск файла (именно файла, не папки) с именем myfile в текущей папке и подпапках.   \n",
    "# Опция -type f сужает поиск до файлов. Точка (.) указывает на текущую папку.\n",
    "find . -type f -name myfile\n",
    "# Опция -type d ищет среди имен папок\n",
    "find . -type d -name SEARCH_NAME"
   ]
  },
  {
   "cell_type": "markdown",
   "metadata": {},
   "source": [
    "Поиск файлов по расширению"
   ]
  },
  {
   "cell_type": "code",
   "execution_count": null,
   "metadata": {
    "vscode": {
     "languageId": "shellscript"
    }
   },
   "outputs": [],
   "source": [
    "find . -type f -name \"*.cpp\""
   ]
  },
  {
   "cell_type": "markdown",
   "metadata": {},
   "source": [
    "Поиск нескольких файлов с несколькими расширениями (или условием)"
   ]
  },
  {
   "cell_type": "code",
   "execution_count": null,
   "metadata": {
    "vscode": {
     "languageId": "shellscript"
    }
   },
   "outputs": [],
   "source": [
    "# Вместо того чтобы прогонять команду find несколько раз, введите её один раз с опцией -o, которая работает как логическое условие «или»:\n",
    "find . -type f -name \"*.cpp\" -o -name \"*.txt\" "
   ]
  },
  {
   "cell_type": "markdown",
   "metadata": {},
   "source": [
    "Поиск файлов в заданной папке"
   ]
  },
  {
   "cell_type": "code",
   "execution_count": null,
   "metadata": {
    "vscode": {
     "languageId": "shellscript"
    }
   },
   "outputs": [],
   "source": [
    "find ./new -name mystuff"
   ]
  },
  {
   "cell_type": "markdown",
   "metadata": {},
   "source": [
    "Поиск файлов в нескольких папках"
   ]
  },
  {
   "cell_type": "code",
   "execution_count": null,
   "metadata": {
    "vscode": {
     "languageId": "shellscript"
    }
   },
   "outputs": [],
   "source": [
    "find ./location1 /second/location -type f -name \"pattern\""
   ]
  },
  {
   "cell_type": "markdown",
   "metadata": {},
   "source": [
    "Поиск пустых файлов и папок"
   ]
  },
  {
   "cell_type": "code",
   "execution_count": null,
   "metadata": {
    "vscode": {
     "languageId": "shellscript"
    }
   },
   "outputs": [],
   "source": [
    "# любыве файлы\n",
    "find . -empty -type f\n",
    "# указанные пустые файлы\n",
    "find . -empty -type f -name \"*.cpp\""
   ]
  },
  {
   "cell_type": "markdown",
   "metadata": {},
   "source": [
    "Поиск крупных и мелких файлов (поиск по размеру файла)"
   ]
  },
  {
   "cell_type": "code",
   "execution_count": null,
   "metadata": {
    "vscode": {
     "languageId": "shellscript"
    }
   },
   "outputs": [],
   "source": [
    "# c – байты\n",
    "# k – килобайты\n",
    "# M – мегабайты\n",
    "# G – гигабайты\n",
    "# точный размер\n",
    "find . -size 50k\n",
    "# бльше 1G\n",
    "find . -size +1G\n",
    "# меньше 20с \n",
    "find . -size -20c"
   ]
  },
  {
   "cell_type": "markdown",
   "metadata": {},
   "source": [
    "Осуществляйте поиск с помощью регулярных выражения  \n",
    "ВАЖНО - ищет в полном путе файла,  \n",
    "то есть если файл называется `file.txt`   \n",
    "то регулярку нужно писать с учетом `путь до файла/file.txt`   \n"
   ]
  },
  {
   "cell_type": "code",
   "execution_count": null,
   "metadata": {
    "vscode": {
     "languageId": "shellscript"
    }
   },
   "outputs": [],
   "source": [
    "find ./ -type f -regex '\\.\\/a[01].*'"
   ]
  },
  {
   "cell_type": "markdown",
   "metadata": {},
   "source": [
    "Для переименования файла в Linux можно использовать утилиту mv"
   ]
  },
  {
   "cell_type": "code",
   "execution_count": null,
   "metadata": {
    "vscode": {
     "languageId": "shellscript"
    }
   },
   "outputs": [],
   "source": [
    "# Основные опции утилиты:\n",
    "# -f — заменять файл, если он уже существует;\n",
    "# -i — спрашивать, нужно ли заменять существующие файлы;\n",
    "# -n — не заменять существующие файлы;\n",
    "# -u — заменять файл только если он был изменён;\n",
    "# -v — вывести список обработанных файлов.\n",
    "# Чтобы переименовать файл, достаточно вызвать утилиту без дополнительных опций, передав ей имя нужного файла и новое имя.\n",
    "mv [опции] [файл-источник] [файл-приемник]"
   ]
  },
  {
   "cell_type": "code",
   "execution_count": null,
   "metadata": {
    "vscode": {
     "languageId": "shellscript"
    }
   },
   "outputs": [],
   "source": [
    "history # отобразить список последних введенных команд\n",
    "whatis … # рассказать про команду … \n",
    "man …  # вывести подробную справку по команде …"
   ]
  },
  {
   "cell_type": "markdown",
   "metadata": {},
   "source": [
    "Оперируем папками и файлами"
   ]
  },
  {
   "cell_type": "code",
   "execution_count": null,
   "metadata": {
    "vscode": {
     "languageId": "shellscript"
    }
   },
   "outputs": [],
   "source": [
    "mkdir … # создать директорию\n",
    "touch … # обновить время последнего изменения, если файл существует, или создать его, если нет\n",
    "cp … … # копировать что-то куда-то\n",
    "mv … … # переместить что-то куда-топ\n",
    "rm -rf … # удалить полностью файл …"
   ]
  },
  {
   "cell_type": "markdown",
   "metadata": {},
   "source": [
    "Если нужно удалить файлы соответствующие регулярному выражению "
   ]
  },
  {
   "cell_type": "code",
   "execution_count": null,
   "metadata": {
    "vscode": {
     "languageId": "shellscript"
    }
   },
   "outputs": [],
   "source": [
    "find your-directory/ -name 'A*[0-9][0-9]' -delete"
   ]
  },
  {
   "cell_type": "markdown",
   "metadata": {},
   "source": [
    "или"
   ]
  },
  {
   "cell_type": "markdown",
   "metadata": {},
   "source": [
    "Для поиска в названиях файлов в Linux можно использовать команду grep.  \n",
    "Например, чтобы найти конкретную папку или один файл среди сотни других, можно передать вывод команды ls в grep через вертикальную черту (|),     \n",
    "а уже grep-у параметром передать нужное слово.  \n",
    "Если команда grep ничего не вернула, значит искомого файла или папки не существует в данной директории.  "
   ]
  },
  {
   "cell_type": "code",
   "execution_count": null,
   "metadata": {
    "vscode": {
     "languageId": "shellscript"
    }
   },
   "outputs": [],
   "source": [
    "ls | grep -P \"^A.*[0-9]{2}$\" | xargs -d\"\\n\" rm\n",
    "# ls lists all files (one by line since the result is piped).\n",
    "# grep -P \"^A.*[0-9]{2}$\" filters the list of files and leaves only those that match the regular expression ^A.*[0-9]{2}$\n",
    "# .* indicates any number of occurrences of ., where . is a wildcard matching any character.\n",
    "# [0-9]{2} indicates exactly two occurrences of [0-9], that is, any digit.\n",
    "# xargs -d\"\\n\" rm executes rm line once for every line that is piped to it."
   ]
  },
  {
   "cell_type": "markdown",
   "metadata": {},
   "source": [
    "Выводим на экран содержимое"
   ]
  },
  {
   "cell_type": "code",
   "execution_count": null,
   "metadata": {
    "vscode": {
     "languageId": "shellscript"
    }
   },
   "outputs": [],
   "source": [
    "cat … # вывести содержимое файла\n",
    "more … # вывести содержимое файла (с коекакими элементами управления)\n",
    "less … # вывести содержимое (с продвинутыми элементами управления)"
   ]
  },
  {
   "cell_type": "markdown",
   "metadata": {},
   "source": [
    "Становимся супер-пользователями"
   ]
  },
  {
   "cell_type": "code",
   "execution_count": null,
   "metadata": {
    "vscode": {
     "languageId": "shellscript"
    }
   },
   "outputs": [],
   "source": [
    "sudo … # выполнить команду … от имени суперпользователя\n",
    "sudo -s # начать сессию суперпользователя\n",
    "sudo -i # начать сессию суперпользователя\n",
    "exit # выйти из режима суперпользователя"
   ]
  },
  {
   "cell_type": "markdown",
   "metadata": {},
   "source": [
    "Разбираемся в правах"
   ]
  },
  {
   "cell_type": "code",
   "execution_count": null,
   "metadata": {
    "vscode": {
     "languageId": "shellscript"
    }
   },
   "outputs": [],
   "source": [
    "Если на месте одного из rwx стоит - значит этого права нет\n",
    "user group everyone\n",
    "-rwx  rwx    rwx\n",
    "421   421    421\n",
    "7     7       7"
   ]
  },
  {
   "cell_type": "code",
   "execution_count": null,
   "metadata": {
    "vscode": {
     "languageId": "shellscript"
    }
   },
   "outputs": [],
   "source": [
    "ls -l # вывести список файлов с правами\n",
    "chmod 644 … # добавить права, зная их коды файлу\n",
    "chmod +x … # добавить права на исполнение конкретному файлу"
   ]
  },
  {
   "cell_type": "code",
   "execution_count": null,
   "metadata": {
    "vscode": {
     "languageId": "shellscript"
    }
   },
   "outputs": [],
   "source": []
  },
  {
   "cell_type": "markdown",
   "metadata": {},
   "source": [
    "### Bash"
   ]
  },
  {
   "cell_type": "markdown",
   "metadata": {},
   "source": [
    "https://habr.com/ru/articles/726316/  \n",
    "https://gist.github.com/Den787/59627959899f533118978f97edf9d2b5"
   ]
  },
  {
   "cell_type": "markdown",
   "metadata": {},
   "source": [
    "sha-bang"
   ]
  },
  {
   "cell_type": "markdown",
   "metadata": {},
   "source": [
    "Скрипт на bash состоит из 2 частей\n",
    "- заголовок\n",
    "- тело"
   ]
  },
  {
   "cell_type": "markdown",
   "metadata": {},
   "source": [
    "В заголовке мы даем компьюхтеру понять, чем этот скрипт открывать и,  \n",
    "возможно, кодировку. А сочетание символов #! и называется sha-bang.  \n",
    "В теле скрипта – весь наш код.  "
   ]
  },
  {
   "cell_type": "markdown",
   "metadata": {},
   "source": [
    "Основные команды bash\n",
    "- cd: Изменение директории на другую.\n",
    "- ls: Отображение содержимого в текущей директории.\n",
    "- mkdir: Создание новой директории.\n",
    "- touch: Создать новый файл.\n",
    "- rm: Удаление файла или директории.\n",
    "- cp: Копирование файла или директории.\n",
    "- mv: Перемещение или переименование файла или директории.\n",
    "- echo: Печать текста в терминал.\n",
    "- cat: Читает данные из файла и выводит их на экран.\n",
    "- grep: Поиск в файлах.\n",
    "- chmod: Изменение прав доступа к файлу или директории.\n",
    "- sudo: Запуск команд с правами администратора.\n",
    "- df: Отображение дискового пространства.\n",
    "- history: Отображение истории предыдущих комманд.\n",
    "- ps: Отображение информации о запущенных процессах."
   ]
  },
  {
   "cell_type": "code",
   "execution_count": null,
   "metadata": {
    "vscode": {
     "languageId": "shellscript"
    }
   },
   "outputs": [],
   "source": [
    "echo ~  # напечатает текущий каталог"
   ]
  },
  {
   "cell_type": "markdown",
   "metadata": {},
   "source": [
    "Как создать в git bash использовать bashrc  \n",
    "файл уже лежит в `/etc/bash.bashrc`  \n",
    "но чтобы использовать алиасы, которые в него запишем,  \n",
    "нужно чтобы такой файл был в рабочей директории git bash  \n",
    "это директоря в которой открывается git bash  \n",
    "по умолчанию это папка пользователя"
   ]
  },
  {
   "cell_type": "code",
   "execution_count": null,
   "metadata": {
    "vscode": {
     "languageId": "shellscript"
    }
   },
   "outputs": [],
   "source": [
    "echo ~ # смотрим текущую дерикторию  \n",
    "cat /etc/bash.bashrc > ~/.bashrc # создаем копию системаного .bashrc\n",
    "# теперь добавляем в этот файл алиасы и радуемся"
   ]
  },
  {
   "cell_type": "markdown",
   "metadata": {},
   "source": [
    "Скрипты Bash начинаются с шебанга. Шебанг(Shebang) — это комбинация bash # и bang ! за которым следует путь оболочки bash.   \n",
    "Это первая строка скрипта. Шебанг говорит оболочке выполнить его через оболочку bash. Shebang — это просто абсолютный путь к интерпретатору bash."
   ]
  },
  {
   "cell_type": "markdown",
   "metadata": {},
   "source": [
    "`#!/bin/sh` - так мы больше охватываем, но…  \n",
    "`#!/bin/bash` - …лишаемся некоторых фишек bash’а  \n",
    "`#!/usr/bin/python -O` — Execute using Python with optimizations to code"
   ]
  },
  {
   "cell_type": "markdown",
   "metadata": {},
   "source": [
    "Вы можете найти путь к оболочке bash (который может отличаться от указанного выше) с помощью команды:  \n",
    "`which bash`    "
   ]
  },
  {
   "cell_type": "markdown",
   "metadata": {},
   "source": [
    "в гит на винде путь  \n",
    "`#!/usr/bin/bash`"
   ]
  },
  {
   "cell_type": "markdown",
   "metadata": {},
   "source": [
    "Создайте файл с именем show_all.sh с помощью команды vi. Вы можете использовать любой редактор по вашему выбору.  \n",
    "`vi show_all.sh`"
   ]
  },
  {
   "cell_type": "markdown",
   "metadata": {},
   "source": [
    "Добавьте следующие команды в свой файл и сохраните его:"
   ]
  },
  {
   "cell_type": "markdown",
   "metadata": {},
   "source": [
    "`shift + insert` - вставить текст в vi  \n",
    "`esc + shift + z + z` - сохранить и выйти\n"
   ]
  },
  {
   "cell_type": "markdown",
   "metadata": {},
   "source": [
    "Сохранение и выход из редактора  \n",
    "Нажимаем esc и набираем (внизу будет писаться)  \n",
    ":w - сохранить файл  \n",
    "\n",
    ":q - выйти из Vim\n",
    "\n",
    ":wq - сохранить файл и выйти"
   ]
  },
  {
   "cell_type": "markdown",
   "metadata": {},
   "source": [
    "шпаргалка по vim  \n",
    "https://habr.com/ru/articles/772914/"
   ]
  },
  {
   "cell_type": "code",
   "execution_count": null,
   "metadata": {
    "vscode": {
     "languageId": "shellscript"
    }
   },
   "outputs": [],
   "source": [
    "#!/bin/bash\n",
    "echo \"сегодня \" `date`\n",
    "\n",
    "echo -e \"\\n введите путь к директории:\"\n",
    "read path_to\n",
    "\n",
    "echo -e \"\\n ваша директория содержит файлы и папки:\"\n",
    "ls $path_to"
   ]
  },
  {
   "cell_type": "markdown",
   "metadata": {},
   "source": [
    "Как сделать скрипт и запускать его одной командой"
   ]
  },
  {
   "cell_type": "markdown",
   "metadata": {},
   "source": [
    "1) Написать свой скрипт и сделать его исполняемым:\n",
    "chmod +x my_cool_script.sh\n",
    "2) Положить его в домашнюю директорию ~\n",
    "3) Открыть ~/.bashrc\n",
    "4) Дописать в него:\n",
    "alias cool=“~/my_cool_script.sh”\n",
    "5) Вызвать команду source ~/.bashrc (или просто перезагрузить терминал)\n",
    "6) Пользоваться командой cool!"
   ]
  },
  {
   "cell_type": "markdown",
   "metadata": {},
   "source": [
    "Чтобы сделать скрипт исполняемым, назначьте права на выполнение своему пользователю с помощью команды:  \n",
    "`chmod u+x show_all.sh`  \n",
    "Где,  \n",
    "chmod изменяет владельца файла для текущего пользователя u:.  \n",
    "+x добавляет права на выполнение текущему пользователю. Это означает, что пользователь, являющийся владельцем, теперь может запустить сценарий.  \n",
    "show_all.sh — это файл, который мы хотим запустить.  \n",
    "Вы можете запустить скрипт любым из указанных способов:  \n",
    "sh show_all.sh  \n",
    "bash show_all.sh  \n",
    "./show_all.sh  "
   ]
  },
  {
   "cell_type": "markdown",
   "metadata": {},
   "source": [
    "Комментарии начинаются с # в сценариях bash. Это означает, что любая строка, начинающаяся с #, является комментарием и будет игнорироваться интерпретатором."
   ]
  },
  {
   "cell_type": "markdown",
   "metadata": {},
   "source": [
    "В Bash вы можете использовать и устанавливать значения переменных следующими способами:  \n",
    "Важно - пробелы до и после = не ставим\n",
    "\n",
    "Назначьте значение напрямую:\n",
    "\n",
    "country=Russia\n",
    "2. Присвоение значение на основе вывода, полученного от программы или команды, используя подстановку команд.   \n",
    "Обратите внимание, что $ требуется для доступа к значению существующей переменной.\n",
    "\n",
    "same_country=$country"
   ]
  },
  {
   "cell_type": "code",
   "execution_count": null,
   "metadata": {
    "vscode": {
     "languageId": "shellscript"
    }
   },
   "outputs": [],
   "source": [
    "# чтбы в переменную положить null\n",
    "b = "
   ]
  },
  {
   "cell_type": "markdown",
   "metadata": {},
   "source": [
    "Чтение пользовательского ввода и сохранение его в переменной"
   ]
  },
  {
   "cell_type": "code",
   "execution_count": null,
   "metadata": {
    "vscode": {
     "languageId": "shellscript"
    }
   },
   "outputs": [],
   "source": [
    "#!/bin/bash\n",
    "\n",
    "echo -e \"\\n Enter your name:\"\n",
    "read the_name\n",
    "\n",
    "echo -e \"\\n welcome to Medium $the_name\""
   ]
  },
  {
   "cell_type": "markdown",
   "metadata": {},
   "source": [
    "Если нам нужен массив, то мы используем обязательно двойные ковычки и ставим пробел между элементами"
   ]
  },
  {
   "cell_type": "code",
   "execution_count": null,
   "metadata": {
    "vscode": {
     "languageId": "shellscript"
    }
   },
   "outputs": [],
   "source": [
    "с=\"1 2\""
   ]
  },
  {
   "cell_type": "markdown",
   "metadata": {},
   "source": [
    "В bash нет четкого разделения на то что строка, а что число, поэтому строка  \n",
    "это массив букв  \n",
    "Строки обязательно в двойных ковычках"
   ]
  },
  {
   "cell_type": "code",
   "execution_count": null,
   "metadata": {
    "vscode": {
     "languageId": "shellscript"
    }
   },
   "outputs": [],
   "source": [
    "d=\"Hellow world!\"\n",
    "\n",
    "# также можно писать без ковычек, экранируя пробел\n",
    "d=Hellow\\ world!"
   ]
  },
  {
   "cell_type": "markdown",
   "metadata": {},
   "source": [
    "Если в эхо отдать переменную без ковычек  \n",
    "`echo $d`  \n",
    "то он не выведит переносы строк и пробелы сократит до одного  \n",
    "Чтобы вывод был как есть, нужно добавить двойные ковычки  \n",
    "`echo \"$d\"`    \n",
    "А если нужно распечатать именно `$d` то есть симово доллара и букуву d,  \n",
    "то используем одинарные ковычки  \n",
    "`echo '$d'`    "
   ]
  },
  {
   "cell_type": "code",
   "execution_count": null,
   "metadata": {
    "vscode": {
     "languageId": "shellscript"
    }
   },
   "outputs": [],
   "source": [
    "# это будет просто строка 2+2\n",
    "f=2+2\n",
    "# let превратит в оператор\n",
    "let f=2+2\n",
    "# если используем let, то для обращения к переменной можно не ставить $\n",
    "let f=f+2\n",
    "# присваивать можно в одну строку\n",
    "a=1 b=2\n",
    "# let позволяет ставить пробелы\n",
    "let f = a + b"
   ]
  },
  {
   "cell_type": "markdown",
   "metadata": {},
   "source": [
    "Считывание со ввода"
   ]
  },
  {
   "cell_type": "code",
   "execution_count": null,
   "metadata": {
    "vscode": {
     "languageId": "shellscript"
    }
   },
   "outputs": [],
   "source": [
    "read age"
   ]
  },
  {
   "cell_type": "markdown",
   "metadata": {},
   "source": [
    "Чтобы вывести приглашение для ввода"
   ]
  },
  {
   "cell_type": "code",
   "execution_count": null,
   "metadata": {
    "vscode": {
     "languageId": "shellscript"
    }
   },
   "outputs": [],
   "source": [
    "read -p \"Enter your age: \" age"
   ]
  },
  {
   "cell_type": "markdown",
   "metadata": {},
   "source": [
    "Если нужен скрытый ввод, например, ввод пароля,  \n",
    "то используем -s (secure)"
   ]
  },
  {
   "cell_type": "code",
   "execution_count": null,
   "metadata": {
    "vscode": {
     "languageId": "shellscript"
    }
   },
   "outputs": [],
   "source": [
    "read -s password"
   ]
  },
  {
   "cell_type": "markdown",
   "metadata": {},
   "source": [
    "Мы можем объединять флаги"
   ]
  },
  {
   "cell_type": "code",
   "execution_count": null,
   "metadata": {
    "vscode": {
     "languageId": "shellscript"
    }
   },
   "outputs": [],
   "source": [
    "read -p -s \"Enter your password: \" pwd\n",
    "# аналогично следующему\n",
    "read -ps \"Enter your password: \" pwd"
   ]
  },
  {
   "cell_type": "markdown",
   "metadata": {},
   "source": [
    "`${...}` - параметр expansion"
   ]
  },
  {
   "cell_type": "markdown",
   "metadata": {},
   "source": [
    "Если нам нужно вывести переменную и ещё к ней дописать что-то  \n",
    "напрмер имя's  \n",
    "То если мы не поставим фигурные скобки, то будет искаться перменная имя's  \n",
    "чтобы все сработало ставим фигурные скобки"
   ]
  },
  {
   "cell_type": "code",
   "execution_count": null,
   "metadata": {
    "vscode": {
     "languageId": "shellscript"
    }
   },
   "outputs": [],
   "source": [
    "read -p “Enter your age: “ age\n",
    "read -p “Enter your name: “ name\n",
    "echo “${name}s age is: $age“\n",
    "# вводим возраст\n",
    "# и имя\n",
    "# Выводим так: Alex’s age…"
   ]
  },
  {
   "cell_type": "markdown",
   "metadata": {},
   "source": [
    "Если нужно возвести в степень, то можно обратиься к языку С  \n",
    "Для этого ставим двойные скобки, все что в них будет восприниматься как код на С  \n"
   ]
  },
  {
   "cell_type": "code",
   "execution_count": null,
   "metadata": {
    "vscode": {
     "languageId": "shellscript"
    }
   },
   "outputs": [],
   "source": [
    "c=$((b**b + a))"
   ]
  },
  {
   "cell_type": "markdown",
   "metadata": {},
   "source": [
    "Если поставить одни скобки, то будет блок на bash"
   ]
  },
  {
   "cell_type": "code",
   "execution_count": null,
   "metadata": {
    "vscode": {
     "languageId": "shellscript"
    }
   },
   "outputs": [],
   "source": [
    "# нам нужно в переменную d поместить результат выполенения ls\n",
    "# для этого ls помещаем в круглые скобки\n",
    "d=$(ls)"
   ]
  },
  {
   "cell_type": "markdown",
   "metadata": {},
   "source": [
    "Команда `c=$(ls)`, как и `с='ls'` выполнят одно и то же: поместят в  \n",
    "переменную c список файлов в текущей директории.   \n",
    "Во втором нужно поставить `"
   ]
  },
  {
   "cell_type": "code",
   "execution_count": null,
   "metadata": {
    "vscode": {
     "languageId": "shellscript"
    }
   },
   "outputs": [],
   "source": []
  },
  {
   "cell_type": "code",
   "execution_count": null,
   "metadata": {
    "vscode": {
     "languageId": "shellscript"
    }
   },
   "outputs": [],
   "source": []
  },
  {
   "cell_type": "markdown",
   "metadata": {},
   "source": [
    "Чтение из файла"
   ]
  },
  {
   "cell_type": "code",
   "execution_count": null,
   "metadata": {
    "vscode": {
     "languageId": "shellscript"
    }
   },
   "outputs": [],
   "source": [
    "while read line\n",
    "do\n",
    "  echo $line\n",
    "done < input.txt"
   ]
  },
  {
   "cell_type": "markdown",
   "metadata": {},
   "source": [
    "Запись в файл:"
   ]
  },
  {
   "cell_type": "markdown",
   "metadata": {},
   "source": [
    "`>` - перетерает содержимое файла  \n",
    "`>>` - добавляет в файл"
   ]
  },
  {
   "cell_type": "code",
   "execution_count": null,
   "metadata": {
    "vscode": {
     "languageId": "shellscript"
    }
   },
   "outputs": [],
   "source": [
    "echo \"let's write text.\" > output.txt"
   ]
  },
  {
   "cell_type": "markdown",
   "metadata": {},
   "source": [
    "Добавление в файл:"
   ]
  },
  {
   "cell_type": "code",
   "execution_count": null,
   "metadata": {
    "vscode": {
     "languageId": "shellscript"
    }
   },
   "outputs": [],
   "source": [
    "echo \"More text.\" >> output.txt"
   ]
  },
  {
   "cell_type": "markdown",
   "metadata": {},
   "source": [
    "Перенаправление вывода:  \n",
    "Перечисляем файлы в текущем каталоге и записываем вывод в файл с именем files.txt.  \n",
    "Таким образом вы можете перенаправить вывод любой команды в файл.  "
   ]
  },
  {
   "cell_type": "code",
   "execution_count": null,
   "metadata": {
    "vscode": {
     "languageId": "shellscript"
    }
   },
   "outputs": [],
   "source": [
    "ls > files.txt"
   ]
  },
  {
   "cell_type": "markdown",
   "metadata": {},
   "source": [
    "`/dev/null` - типа черная дыра, все принимает, но если прочитать, то там пусто"
   ]
  },
  {
   "cell_type": "markdown",
   "metadata": {},
   "source": [
    "Если нам не нужен вывод, то мы его как раз можем отправить в `/dev/null`, чтобы очистить переменную  "
   ]
  },
  {
   "cell_type": "code",
   "execution_count": null,
   "metadata": {
    "vscode": {
     "languageId": "shellscript"
    }
   },
   "outputs": [],
   "source": [
    "ls > /dev/null"
   ]
  },
  {
   "cell_type": "markdown",
   "metadata": {},
   "source": [
    "Собираем в цепочки"
   ]
  },
  {
   "cell_type": "markdown",
   "metadata": {},
   "source": [
    "Например, мы хотим считать файл и прочитать его в консоли,  \n",
    "тогда `cat` считает, а `less` выведет красиво  \n",
    "То есть будет цепочка, так можно через `|` писать любые цепочки  \n",
    "`|` - это pipe, называется труба, так как он создает трубу и вывод первой команды отдает на вход второй"
   ]
  },
  {
   "cell_type": "code",
   "execution_count": null,
   "metadata": {
    "vscode": {
     "languageId": "shellscript"
    }
   },
   "outputs": [],
   "source": [
    "cat long_file | less # символ | означает перенаправление вывода одной команды в другую"
   ]
  },
  {
   "cell_type": "code",
   "execution_count": null,
   "metadata": {
    "vscode": {
     "languageId": "shellscript"
    }
   },
   "outputs": [],
   "source": [
    "cat test.txt | sort | uniq"
   ]
  },
  {
   "cell_type": "markdown",
   "metadata": {},
   "source": [
    "grep"
   ]
  },
  {
   "cell_type": "markdown",
   "metadata": {},
   "source": [
    "grep расшифровывается как \"глобальный поиск строк, соответствующих регулярному выражению и их вывод\"   \n",
    "(globally search for a regular expression and print matching lines)"
   ]
  },
  {
   "cell_type": "markdown",
   "metadata": {},
   "source": [
    "grep в основном ищет на основе указанного посредством стандартного ввода или файла шаблона,   \n",
    "или регулярного выражения и печатает строки, соответствующие заданным критериям.   \n",
    "Часто используется для фильтрации ненужных деталей при печати только необходимой информации из больших файлов журнала."
   ]
  },
  {
   "cell_type": "markdown",
   "metadata": {},
   "source": [
    "Команда grep принимает шаблон и необязательные аргументы вместе со перечислять файлов, если используется без трубопровода.  \n",
    "в `pattern` можно писать регулярное выражение"
   ]
  },
  {
   "cell_type": "code",
   "execution_count": null,
   "metadata": {
    "vscode": {
     "languageId": "shellscript"
    }
   },
   "outputs": [],
   "source": [
    "grep [options] pattern [files]\n",
    "# пример\n",
    "# если в файле есть строчки со словом my, то они выведутся\n",
    "grep my file.txt"
   ]
  },
  {
   "cell_type": "markdown",
   "metadata": {},
   "source": [
    "grep позволяет выполнять поиск заданного шаблона не только в одном, но и среди нескольких файлах.   \n",
    "Для этого можно использовать подстановочный символ *.  \n",
    "То есть будет искать в файлах начинающихся на слово и дополнительно вместо * может быть любые буквы,  \n",
    "То есть если нам нужно искать в файлах messages...  \n",
    "то можно использовать "
   ]
  },
  {
   "cell_type": "code",
   "execution_count": null,
   "metadata": {
    "vscode": {
     "languageId": "shellscript"
    }
   },
   "outputs": [],
   "source": [
    "grep err /var/log/messages*"
   ]
  },
  {
   "cell_type": "markdown",
   "metadata": {},
   "source": [
    "grep позволяет искать шаблон без учета регистра. Чтобы указать grep игнорировать регистр используется флаг –i"
   ]
  },
  {
   "cell_type": "markdown",
   "metadata": {},
   "source": [
    "Иногда появляется необходимость поиска не части, а целого слова. В таких случаях утилита запускается с флагом -w."
   ]
  },
  {
   "cell_type": "code",
   "execution_count": null,
   "metadata": {
    "vscode": {
     "languageId": "shellscript"
    }
   },
   "outputs": [],
   "source": [
    "grep -w [pattern] [file]"
   ]
  },
  {
   "cell_type": "markdown",
   "metadata": {},
   "source": [
    "Не всегда нужно выводить результат совпадения. Иногда достаточно только количества совпадений с заданным шаблоном.   \n",
    "Эту информацию мы можем получить с помощью параметра -c."
   ]
  },
  {
   "cell_type": "code",
   "execution_count": null,
   "metadata": {
    "vscode": {
     "languageId": "shellscript"
    }
   },
   "outputs": [],
   "source": [
    "grep -c [pattern] [file]"
   ]
  },
  {
   "cell_type": "markdown",
   "metadata": {},
   "source": [
    "Часто необходимо искать файлы не только в текущей директории, но и в подкаталогах. grep позволяет легко сделать это с флагом -r."
   ]
  },
  {
   "cell_type": "code",
   "execution_count": null,
   "metadata": {
    "vscode": {
     "languageId": "shellscript"
    }
   },
   "outputs": [],
   "source": [
    "grep -r [pattern] *"
   ]
  },
  {
   "cell_type": "markdown",
   "metadata": {},
   "source": [
    "Если вы хотите найти что-то, что не соответствует заданному шаблону, grep позволяет сделать только это с флагом -v."
   ]
  },
  {
   "cell_type": "code",
   "execution_count": null,
   "metadata": {
    "vscode": {
     "languageId": "shellscript"
    }
   },
   "outputs": [],
   "source": [
    "grep -v [pattern] [file]"
   ]
  },
  {
   "cell_type": "markdown",
   "metadata": {
    "vscode": {
     "languageId": "shellscript"
    }
   },
   "source": [
    "grep позволяет нумеровать совпавшие строки, что позволяет легко определить, где строка находится в файле.   \n",
    "Чтобы получить номера строк в выходных данных. используйте параметр –n:  "
   ]
  },
  {
   "cell_type": "code",
   "execution_count": null,
   "metadata": {
    "vscode": {
     "languageId": "shellscript"
    }
   },
   "outputs": [],
   "source": [
    "grep -n [pattern] [file]"
   ]
  },
  {
   "cell_type": "markdown",
   "metadata": {},
   "source": [
    "Результат вывода grep для файлов вроде журналов событий и т.д. может быть длинным, и вам может просто понадобиться фиксированное количество строк.   \n",
    "Мы можем использовать -m [num], чтобы ограничить выводимые строки."
   ]
  },
  {
   "cell_type": "code",
   "execution_count": null,
   "metadata": {
    "vscode": {
     "languageId": "shellscript"
    }
   },
   "outputs": [],
   "source": [
    "grep -m[num] [pattern] [file]\n",
    "# пример\n",
    "# выведет только 2 строчки совпадения\n",
    "grep -m2 is file.txt"
   ]
  },
  {
   "cell_type": "markdown",
   "metadata": {},
   "source": [
    "Часто нам нужны не только строки, которые совпали с шаблоном, но некоторые строки выше или ниже их для понимания контекста."
   ]
  },
  {
   "cell_type": "markdown",
   "metadata": {},
   "source": [
    "С помощью флагов -A, -B или -C со значением num можно выводить строки выше или ниже (или и то, и другое) совпавшей строки.   \n",
    "Здесь число обозначает количество дополнительных печатаемых строк, которое находится чуть выше или ниже соответствующей строки.   \n",
    "Это применимо ко всем совпадениям, найденным grep в указанном файле или списке файлов."
   ]
  },
  {
   "cell_type": "code",
   "execution_count": null,
   "metadata": {
    "vscode": {
     "languageId": "shellscript"
    }
   },
   "outputs": [],
   "source": [
    "# С флагом -A1 grep печатает 1 строку, которая следует сразу после соответствующей строки.\n",
    "grep -A[num] [pattern] [file]\n",
    "# Аналогично, с флагом -B1 он печатает 1 строку непосредственно перед соответствующей строкой. \n",
    "grep -B[num] [pattern] [file]\n",
    "# С флагом -C1 он печатает 1 строку, которая находится до и после соответствующей строки.\n",
    "grep -C[num] [pattern] [file]\t"
   ]
  },
  {
   "cell_type": "markdown",
   "metadata": {},
   "source": [
    "Вывод списка файлов  \n",
    "Чтобы напечатать только имя файлов, в которых найден образец, а не сами совпадающие строки, используйте флаг -l."
   ]
  },
  {
   "cell_type": "code",
   "execution_count": null,
   "metadata": {
    "vscode": {
     "languageId": "shellscript"
    }
   },
   "outputs": [],
   "source": [
    "grep -l [pattern] [file]"
   ]
  },
  {
   "cell_type": "markdown",
   "metadata": {
    "vscode": {
     "languageId": "shellscript"
    }
   },
   "source": [
    "Alias"
   ]
  },
  {
   "cell_type": "markdown",
   "metadata": {},
   "source": [
    "при помощи alias можно создать alias любой команде с параметрами"
   ]
  },
  {
   "cell_type": "code",
   "execution_count": null,
   "metadata": {
    "vscode": {
     "languageId": "shellscript"
    }
   },
   "outputs": [],
   "source": [
    "alias gc=“git checkout” # сделали новую команду gc\n",
    "alias ga=“git add -A” # сделали новую команду ga\n",
    "unalias gc # надоела? забыли gc\n",
    "unalias ga # надоела? забыли ga"
   ]
  },
  {
   "cell_type": "markdown",
   "metadata": {
    "vscode": {
     "languageId": "shellscript"
    }
   },
   "source": [
    "Вывод абсолютных совпадений\n",
    "Иногда нам нужно печатать строки, которые точно соответствуют заданному образцу, а не какой-то его части. Флаг -x grep позволяет делать именно это."
   ]
  },
  {
   "cell_type": "code",
   "execution_count": null,
   "metadata": {
    "vscode": {
     "languageId": "shellscript"
    }
   },
   "outputs": [],
   "source": [
    "grep -x [pattern] [file]"
   ]
  },
  {
   "cell_type": "markdown",
   "metadata": {},
   "source": [
    "Использования файла шаблонов"
   ]
  },
  {
   "cell_type": "markdown",
   "metadata": {},
   "source": [
    "Могут возникнуть ситуации, когда у вас есть сложный список шаблонов, которые вы часто используете.   \n",
    "Вместо записи его каждый раз можно указать список этих образцов в файле и использовать с флагом -f.   \n",
    "Файл должен содержать по одному образцу на каждой строке."
   ]
  },
  {
   "cell_type": "code",
   "execution_count": null,
   "metadata": {
    "vscode": {
     "languageId": "shellscript"
    }
   },
   "outputs": [],
   "source": [
    "grep -f [pattern_file] [file_to_match]\n",
    "# например в файл pattern_file можно поместить  \n",
    "# my\n",
    "# is\n",
    "# тогда будут искаться все шаблоны которые есть в этом файле"
   ]
  },
  {
   "cell_type": "markdown",
   "metadata": {},
   "source": [
    "Поиск по нескольким шаблонам  \n",
    "если файл делать не охота, то можно использовать -e  \n",
    "grep позволяет задать несколько шаблонов с помощью флага -e."
   ]
  },
  {
   "cell_type": "code",
   "execution_count": null,
   "metadata": {
    "vscode": {
     "languageId": "shellscript"
    }
   },
   "outputs": [],
   "source": [
    "grep -e [pattern1] -e [pattern2] -e [pattern3]...[file]"
   ]
  },
  {
   "cell_type": "markdown",
   "metadata": {},
   "source": [
    "Указание расширенных регулярных выражений"
   ]
  },
  {
   "cell_type": "markdown",
   "metadata": {},
   "source": [
    "grep также поддерживает расширенные регулярные выражения (Extended Regular Expressions – ERE) или с использованием флага -E.   \n",
    "Это похоже на команду egrep в Linux.  \n",
    "буз -E не все функции регулярынх выражений будут работать"
   ]
  },
  {
   "cell_type": "code",
   "execution_count": null,
   "metadata": {
    "vscode": {
     "languageId": "shellscript"
    }
   },
   "outputs": [],
   "source": [
    "grep -E '[Extended RegEx]' [file]"
   ]
  },
  {
   "cell_type": "code",
   "execution_count": null,
   "metadata": {
    "vscode": {
     "languageId": "shellscript"
    }
   },
   "outputs": [],
   "source": []
  },
  {
   "cell_type": "code",
   "execution_count": null,
   "metadata": {
    "vscode": {
     "languageId": "shellscript"
    }
   },
   "outputs": [],
   "source": []
  },
  {
   "cell_type": "markdown",
   "metadata": {},
   "source": [
    "Условные операторы (if/else)"
   ]
  },
  {
   "cell_type": "code",
   "execution_count": null,
   "metadata": {
    "vscode": {
     "languageId": "shellscript"
    }
   },
   "outputs": [],
   "source": [
    "# Синтаксис:\n",
    "if [[ condition ]];\n",
    "then\n",
    " statement\n",
    "elif [[ condition ]]; then\n",
    " statement \n",
    "else\n",
    " do this by default\n",
    "fi"
   ]
  },
  {
   "cell_type": "markdown",
   "metadata": {},
   "source": [
    "Можно использовать логические операторы, такие как AND `-a` и OR `-o`, чтобы делать сравнения, которые имеют большее значение."
   ]
  },
  {
   "cell_type": "code",
   "execution_count": null,
   "metadata": {},
   "outputs": [],
   "source": [
    "if [ $a -gt 60 -a $b -lt 100 ]"
   ]
  },
  {
   "cell_type": "markdown",
   "metadata": {},
   "source": [
    "Пример.  \n",
    "Является ли введенное пользователем число положительным, отрицательным или нулевым:"
   ]
  },
  {
   "cell_type": "code",
   "execution_count": null,
   "metadata": {
    "vscode": {
     "languageId": "shellscript"
    }
   },
   "outputs": [],
   "source": [
    "#!/bin/bash\n",
    "\n",
    "echo \"Please enter a number: \"\n",
    "read num\n",
    "\n",
    "if [ $num -gt 0 ]; then\n",
    "  echo \"$num is positive\"\n",
    "elif [ $num -lt 0 ]; then\n",
    "  echo \"$num is negative\"\n",
    "else\n",
    "  echo \"$num is zero\"\n",
    "fi"
   ]
  },
  {
   "cell_type": "markdown",
   "metadata": {},
   "source": [
    "Цикл While"
   ]
  },
  {
   "cell_type": "markdown",
   "metadata": {},
   "source": [
    "В приведенном ниже примере (( i += 1 )) — это оператор счетчика, который увеличивает значение i. Цикл будет выполняться ровно 10 раз."
   ]
  },
  {
   "cell_type": "markdown",
   "metadata": {},
   "source": [
    "Точно так же, как и в Python, здесь есть ключевые слова continue и break,  \n",
    "работающие точно так же.  "
   ]
  },
  {
   "cell_type": "code",
   "execution_count": null,
   "metadata": {
    "vscode": {
     "languageId": "shellscript"
    }
   },
   "outputs": [],
   "source": [
    "#!/bin/bash\n",
    "i=1\n",
    "while [[ $i -le 10 ]] ; do\n",
    "   echo \"$i\"\n",
    "  (( i += 1 ))\n",
    "done"
   ]
  },
  {
   "cell_type": "code",
   "execution_count": null,
   "metadata": {
    "vscode": {
     "languageId": "shellscript"
    }
   },
   "outputs": [],
   "source": [
    "read -p \"Enter a filename: \" fname\n",
    "line_num=0\n",
    "while read line; do\n",
    "    let line_num+=1\n",
    "    echo \"$line_num $line\"\n",
    "done < $fname\n",
    "# Консоль:\n",
    "# Enter a filename: hello.txt\n",
    "# 1 Первая строка файла\n",
    "# 2 Вторая\n",
    "# 3 Вот и все!"
   ]
  },
  {
   "cell_type": "code",
   "execution_count": null,
   "metadata": {
    "vscode": {
     "languageId": "shellscript"
    }
   },
   "outputs": [],
   "source": []
  },
  {
   "cell_type": "code",
   "execution_count": null,
   "metadata": {
    "vscode": {
     "languageId": "shellscript"
    }
   },
   "outputs": [],
   "source": []
  },
  {
   "cell_type": "code",
   "execution_count": null,
   "metadata": {
    "vscode": {
     "languageId": "shellscript"
    }
   },
   "outputs": [],
   "source": []
  },
  {
   "cell_type": "markdown",
   "metadata": {},
   "source": [
    "Цикл For"
   ]
  },
  {
   "cell_type": "code",
   "execution_count": null,
   "metadata": {
    "vscode": {
     "languageId": "shellscript"
    }
   },
   "outputs": [],
   "source": [
    "#!/bin/bash\n",
    "\n",
    "for i in {1..5}\n",
    "do\n",
    "    echo $i\n",
    "done"
   ]
  },
  {
   "cell_type": "code",
   "execution_count": null,
   "metadata": {
    "vscode": {
     "languageId": "shellscript"
    }
   },
   "outputs": [],
   "source": [
    "#!/bin/bash\n",
    "\n",
    "for i in 1 2 3 4 5 6\n",
    "do\n",
    "    echo -n \"$i \" # -n в echo не дает переносить на новую строку\n",
    "done"
   ]
  },
  {
   "cell_type": "markdown",
   "metadata": {},
   "source": [
    "Оператор Case"
   ]
  },
  {
   "cell_type": "markdown",
   "metadata": {},
   "source": [
    "Здесь expression— это значение, которое мы хотим сравнить, а pattern1, pattern2, pattern3 и т. д. — это шаблоны, с которыми мы хотим его сравнить.  \n",
    "Двойная точка с запятой “;;” отделяет каждый блок кода для выполнения для каждого шаблона.  \n",
    "Звездочка “*” представляет случай по умолчанию, который выполняется, если ни один из указанных шаблонов не соответствует выражению."
   ]
  },
  {
   "cell_type": "code",
   "execution_count": null,
   "metadata": {
    "vscode": {
     "languageId": "shellscript"
    }
   },
   "outputs": [],
   "source": [
    "case expression in\n",
    "    pattern1)\n",
    "        # code to execute if expression matches pattern1\n",
    "        ;;\n",
    "    pattern2)\n",
    "        # code to execute if expression matches pattern2\n",
    "        ;;\n",
    "    pattern3)\n",
    "        # code to execute if expression matches pattern3\n",
    "        ;;\n",
    "    *)\n",
    "        # code to execute if none of the above patterns match expression\n",
    "        ;;\n",
    "esac"
   ]
  },
  {
   "cell_type": "markdown",
   "metadata": {},
   "source": [
    "Предикаты  "
   ]
  },
  {
   "cell_type": "code",
   "execution_count": null,
   "metadata": {
    "vscode": {
     "languageId": "shellscript"
    }
   },
   "outputs": [],
   "source": [
    "&& # ... и ...\n",
    "|| # ... или ...\n",
    "! # ... не ..."
   ]
  },
  {
   "cell_type": "markdown",
   "metadata": {},
   "source": [
    "Полезные условия"
   ]
  },
  {
   "cell_type": "code",
   "execution_count": null,
   "metadata": {
    "vscode": {
     "languageId": "shellscript"
    }
   },
   "outputs": [],
   "source": [
    "-d my_folder # существует ли папка my_folder\n",
    "-e my_file.txt # существует ли файл my_file.txt\n",
    "-r my_file.txt # можно ли из файла читать\n",
    "-w my_file.txt # можно ли в файл писать\n",
    "-x my_file.txt # можно ли файл запустить (как программу)"
   ]
  },
  {
   "cell_type": "markdown",
   "metadata": {},
   "source": [
    "Например, если мы не хотим созадавать файл, если он уже есть, то проверяем"
   ]
  },
  {
   "cell_type": "code",
   "execution_count": null,
   "metadata": {
    "vscode": {
     "languageId": "shellscript"
    }
   },
   "outputs": [],
   "source": [
    "if [ -e my_file.txt ]; then\n",
    "  echo \"не создаем\"\n",
    "else\n",
    "  echo \"создаем\"\n",
    "fi  "
   ]
  },
  {
   "cell_type": "markdown",
   "metadata": {
    "vscode": {
     "languageId": "shellscript"
    }
   },
   "source": [
    "### Cron"
   ]
  },
  {
   "cell_type": "markdown",
   "metadata": {},
   "source": [
    "Планирование сценариев с помощью Сron"
   ]
  },
  {
   "cell_type": "markdown",
   "metadata": {},
   "source": [
    "Ниже приведен синтаксис для планирования crons:"
   ]
  },
  {
   "cell_type": "code",
   "execution_count": null,
   "metadata": {
    "vscode": {
     "languageId": "shellscript"
    }
   },
   "outputs": [],
   "source": [
    "# Cron job example* * * * * sh /path/to/script.sh"
   ]
  },
  {
   "cell_type": "markdown",
   "metadata": {},
   "source": [
    "Здесь * представляют собой минуты (минуты), часы (часы), день (дни), месяцы и дни недели соответственно."
   ]
  },
  {
   "cell_type": "markdown",
   "metadata": {
    "vscode": {
     "languageId": "shellscript"
    }
   },
   "source": [
    "Теперь настроим cron, чтобы автоматизировать процесс\n",
    "cron это демон в линуксе, который может по расписанию запускать скрипты (по сути он выполняет по расписанию bash команды)  \n"
   ]
  },
  {
   "cell_type": "markdown",
   "metadata": {},
   "source": [
    "\n",
    "crontab -e (создает файл, если его нет, если есть, то открывает на редактирование)  \n",
    "crontab -l (открывает список задача в кроне)  \n",
    "crontab -r (удаляет крон файл)  \n",
    "crontab -v (показывает время, когда последний раз редактировался крон файл)  \n",
    "Пользователь сам может выбрать подходящий для него формат, снимая или устанавливая \"галочку\" в опции \"Поле года\" (Year field)  \n",
    "диалогового окна \"Параметры\" (двойной щелчок на иконке nnCron в системном трее). По умолчанию nnCron использует \"улучшенный\" формат.\n",
    "\n",
    "Вот его схема:\n",
    "https://nncron.ru/help/RU/working/cron-format.htm\n"
   ]
  },
  {
   "cell_type": "code",
   "execution_count": null,
   "metadata": {},
   "outputs": [],
   "source": [
    "* * * * * \n",
    "| | | | | \n",
    "| | | | | \n",
    "| | | | +----- Дни недели (диапазон: 1-7)\n",
    "| | | +------- Месяцы     (диапазон: 1-12)\n",
    "| | +--------- Дни месяца (диапазон: 1-31)\n",
    "| +----------- Часы       (диапазон: 0-23)\n",
    "+------------- Минуты     (диапазон: 0-59)    "
   ]
  },
  {
   "cell_type": "code",
   "execution_count": null,
   "metadata": {
    "vscode": {
     "languageId": "shellscript"
    }
   },
   "outputs": [],
   "source": [
    "\n",
    "создадим распсание крона\n",
    "crontab -e\n",
    "выбираем редактор, например, nano\n",
    "# вначале пишем эту строчку, это значит каждую минуту будет запускаться эта команда\n",
    "* * * * * python3 cron_testing.py\n",
    "сохраняем ctrl + o\n",
    "можно протестиьть работу крона,  \n",
    "для этого загрузим файл cron_testing.py на машину\n",
    "# проверим, что все записалось\n",
    "crontab -l\n",
    "все ок, теперь можно смотреть в базе, что наш крон работает\n",
    "теперь настроим крон, чтобы он ночью заливал данные\n",
    "crontab -e\n",
    "# в будет каждый день в 0:00 по времени гугла запускаться\n",
    "0 0 * * * python3 app.py"
   ]
  },
  {
   "cell_type": "code",
   "execution_count": null,
   "metadata": {
    "vscode": {
     "languageId": "shellscript"
    }
   },
   "outputs": [],
   "source": []
  }
 ],
 "metadata": {
  "kernelspec": {
   "display_name": "Python 3.7.1 64-bit",
   "language": "python",
   "name": "python3"
  },
  "language_info": {
   "name": "python",
   "version": "3.7.1"
  },
  "orig_nbformat": 4,
  "vscode": {
   "interpreter": {
    "hash": "fbe58ca63fe33f9eeae9e71d10368d2b4a57f2b1b395836210cc60d362c66949"
   }
  }
 },
 "nbformat": 4,
 "nbformat_minor": 2
}
