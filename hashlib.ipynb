{
 "cells": [
  {
   "cell_type": "code",
   "execution_count": 1,
   "metadata": {},
   "outputs": [],
   "source": [
    "# плохой вариант для аналитики\n",
    "database_rows = [\n",
    "    {'name': 'Натальяgp7', 'emailgp7': 'nata123@mail.rugp7', 'ipgp7': '127.0.0.1gp7'},\n",
    "    {'name': 'Михаилgp7', 'emailgp7': 'mikha@yandex.rugp7', 'ipgp7': '127.0.0.1gp7'},\n",
    "]"
   ]
  },
  {
   "cell_type": "code",
   "execution_count": 2,
   "metadata": {},
   "outputs": [],
   "source": [
    "import hashlib"
   ]
  },
  {
   "cell_type": "code",
   "execution_count": 3,
   "metadata": {},
   "outputs": [
    {
     "data": {
      "text/plain": [
       "{'BLAKE2b512',\n",
       " 'BLAKE2s256',\n",
       " 'MD4',\n",
       " 'MD5',\n",
       " 'MD5-SHA1',\n",
       " 'MDC2',\n",
       " 'RIPEMD160',\n",
       " 'SHA1',\n",
       " 'SHA224',\n",
       " 'SHA256',\n",
       " 'SHA384',\n",
       " 'SHA512',\n",
       " 'blake2b',\n",
       " 'blake2b512',\n",
       " 'blake2s',\n",
       " 'blake2s256',\n",
       " 'md4',\n",
       " 'md5',\n",
       " 'md5-sha1',\n",
       " 'mdc2',\n",
       " 'ripemd160',\n",
       " 'sha1',\n",
       " 'sha224',\n",
       " 'sha256',\n",
       " 'sha384',\n",
       " 'sha3_224',\n",
       " 'sha3_256',\n",
       " 'sha3_384',\n",
       " 'sha3_512',\n",
       " 'sha512',\n",
       " 'shake_128',\n",
       " 'shake_256',\n",
       " 'whirlpool'}"
      ]
     },
     "execution_count": 3,
     "metadata": {},
     "output_type": "execute_result"
    }
   ],
   "source": [
    "hashlib.algorithms_available"
   ]
  },
  {
   "cell_type": "code",
   "execution_count": 4,
   "metadata": {},
   "outputs": [
    {
     "data": {
      "text/plain": [
       "'c1527fb63ff80c7cbae0ab842c86b3d436571a6a157c2f8c7eb772a363bb3e4b'"
      ]
     },
     "execution_count": 4,
     "metadata": {},
     "output_type": "execute_result"
    }
   ],
   "source": [
    "m = hashlib.sha256()\n",
    "\n",
    "m.update(bytes('usernameyandex.ru', encoding=\"cp1251\"))\n",
    "m.hexdigest()"
   ]
  },
  {
   "cell_type": "code",
   "execution_count": 5,
   "metadata": {},
   "outputs": [
    {
     "data": {
      "text/plain": [
       "'c1527fb63ff80c7cbae0ab842c86b3d436571a6a157c2f8c7eb772a363bb3e4b'"
      ]
     },
     "execution_count": 5,
     "metadata": {},
     "output_type": "execute_result"
    }
   ],
   "source": [
    "m = hashlib.sha256()\n",
    "\n",
    "m.update(b'usernameyandex.ru')\n",
    "m.hexdigest()"
   ]
  },
  {
   "cell_type": "code",
   "execution_count": 6,
   "metadata": {},
   "outputs": [
    {
     "data": {
      "text/plain": [
       "[{'name': '4b025856b0559a6522d3d24ca712648ccc0fd7943adb0b2615d8ce8e981244e7',\n",
       "  'emailgp7': 'fa86ed04417d1c9ad40bf13e32d636fc3376d40d5a9fe01b41151ce8701eef30',\n",
       "  'ipgp7': '753073db78328f2e9ea25e91f2cbaee8dbe1d943b44971a8b31597b9350ef07e'},\n",
       " {'name': '80bd4e460f542209cceb7a85736e4643f83994cfad2043b523a8cc933e3ebfd4',\n",
       "  'emailgp7': 'b245d5be81e7c7377cdf4a9ac8c76d02d04dec27eed29ea1cdd623abb2c93b30',\n",
       "  'ipgp7': '753073db78328f2e9ea25e91f2cbaee8dbe1d943b44971a8b31597b9350ef07e'}]"
      ]
     },
     "execution_count": 6,
     "metadata": {},
     "output_type": "execute_result"
    }
   ],
   "source": [
    "database_rows = [\n",
    "    {'name': 'Натальяgp7', 'emailgp7': 'nata123@mail.rugp7', 'ipgp7': '127.0.0.1gp7'},\n",
    "    {'name': 'Михаилgp7', 'emailgp7': 'mikha@yandex.rugp7', 'ipgp7': '127.0.0.1gp7'},\n",
    "]\n",
    "for el in database_rows:\n",
    "    for k, v in el.items():\n",
    "        m = hashlib.sha256()\n",
    "        m.update(bytes(v, encoding=\"utf-8\"))\n",
    "        el[k] = m.hexdigest()\n",
    "database_rows\n"
   ]
  },
  {
   "cell_type": "code",
   "execution_count": null,
   "metadata": {},
   "outputs": [],
   "source": []
  }
 ],
 "metadata": {
  "kernelspec": {
   "display_name": "Python 3.7.1 64-bit",
   "language": "python",
   "name": "python3"
  },
  "language_info": {
   "codemirror_mode": {
    "name": "ipython",
    "version": 3
   },
   "file_extension": ".py",
   "mimetype": "text/x-python",
   "name": "python",
   "nbconvert_exporter": "python",
   "pygments_lexer": "ipython3",
   "version": "3.7.1"
  },
  "orig_nbformat": 4,
  "vscode": {
   "interpreter": {
    "hash": "fbe58ca63fe33f9eeae9e71d10368d2b4a57f2b1b395836210cc60d362c66949"
   }
  }
 },
 "nbformat": 4,
 "nbformat_minor": 2
}
