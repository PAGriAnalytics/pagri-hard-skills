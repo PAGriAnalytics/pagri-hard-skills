{
 "cells": [
  {
   "cell_type": "markdown",
   "metadata": {},
   "source": [
    "https://mermaid.js.org/syntax/flowchart.html"
   ]
  },
  {
   "cell_type": "markdown",
   "metadata": {},
   "source": [
    "https://github.com/innovationOUtside/nb_js_diagrammers"
   ]
  },
  {
   "cell_type": "markdown",
   "metadata": {},
   "source": [
    "https://github.com/PetterTech/DemoStuff/blob/main/Mermaid/mermaid.md?plain=1#flowchart-with-some-colors-and-shapes-and-stuff"
   ]
  },
  {
   "cell_type": "markdown",
   "metadata": {},
   "source": [
    "https://yamadharma.github.io/ru/post/2021/01/03/diagrams-mermaid/"
   ]
  },
  {
   "cell_type": "markdown",
   "metadata": {},
   "source": [
    "https://mermaid.js.org/ecosystem/tutorials.html#jupyter-integration-with-mermaid-js"
   ]
  },
  {
   "cell_type": "markdown",
   "metadata": {},
   "source": [
    "установите библиотеку nb-js-diagrammers \n"
   ]
  },
  {
   "cell_type": "code",
   "execution_count": 5,
   "metadata": {},
   "outputs": [
    {
     "ename": "ImportError",
     "evalue": "cannot import name 'Mermaid' from 'mermaid' (c:\\python\\lib\\site-packages\\mermaid\\__init__.py)",
     "output_type": "error",
     "traceback": [
      "\u001b[1;31m---------------------------------------------------------------------------\u001b[0m",
      "\u001b[1;31mImportError\u001b[0m                               Traceback (most recent call last)",
      "\u001b[1;32m~\\AppData\\Local\\Temp\\ipykernel_3212\\4162811656.py\u001b[0m in \u001b[0;36m<module>\u001b[1;34m\u001b[0m\n\u001b[1;32m----> 1\u001b[1;33m \u001b[1;32mfrom\u001b[0m \u001b[0mmermaid\u001b[0m \u001b[1;32mimport\u001b[0m \u001b[0mMermaid\u001b[0m\u001b[1;33m\u001b[0m\u001b[1;33m\u001b[0m\u001b[0m\n\u001b[0m\u001b[0;32m      2\u001b[0m \u001b[1;33m\u001b[0m\u001b[0m\n\u001b[0;32m      3\u001b[0m Mermaid(\"\"\"\n\u001b[0;32m      4\u001b[0m \u001b[0mflowchart\u001b[0m \u001b[0mLR\u001b[0m\u001b[1;33m\u001b[0m\u001b[1;33m\u001b[0m\u001b[0m\n\u001b[0;32m      5\u001b[0m \u001b[1;33m\u001b[0m\u001b[0m\n",
      "\u001b[1;31mImportError\u001b[0m: cannot import name 'Mermaid' from 'mermaid' (c:\\python\\lib\\site-packages\\mermaid\\__init__.py)"
     ]
    }
   ],
   "source": []
  },
  {
   "cell_type": "code",
   "execution_count": null,
   "metadata": {},
   "outputs": [],
   "source": [
    "!pip install --upgrade nb-js-diagrammers"
   ]
  },
  {
   "cell_type": "markdown",
   "metadata": {},
   "source": [
    "перед использованием в блокноте загружайте расширение\n"
   ]
  },
  {
   "cell_type": "code",
   "execution_count": null,
   "metadata": {},
   "outputs": [],
   "source": [
    "%load_ext nb_js_diagrammers"
   ]
  },
  {
   "cell_type": "markdown",
   "metadata": {},
   "source": [
    "рисуйте в кодовой ячейке, начинающейся с магической команды (%%mermaid_magic)"
   ]
  },
  {
   "cell_type": "code",
   "execution_count": 13,
   "metadata": {},
   "outputs": [
    {
     "ename": "SyntaxError",
     "evalue": "invalid syntax (3018362857.py, line 3)",
     "output_type": "error",
     "traceback": [
      "\u001b[1;36m  File \u001b[1;32m\"C:\\Users\\Алексей\\AppData\\Local\\Temp\\ipykernel_3924\\3018362857.py\"\u001b[1;36m, line \u001b[1;32m3\u001b[0m\n\u001b[1;33m    flowchart LR\u001b[0m\n\u001b[1;37m               ^\u001b[0m\n\u001b[1;31mSyntaxError\u001b[0m\u001b[1;31m:\u001b[0m invalid syntax\n"
     ]
    }
   ],
   "source": [
    "# %load_ext nb_js_diagrammers\n",
    "%%mermaid_magic\n",
    "flowchart LR\n",
    "    id"
   ]
  },
  {
   "cell_type": "code",
   "execution_count": 39,
   "metadata": {},
   "outputs": [
    {
     "name": "stderr",
     "output_type": "stream",
     "text": [
      "UsageError: %%mermaid_magic is a cell magic, but the cell body is empty. Did you mean the line magic %mermaid_magic (single %)?\n"
     ]
    }
   ],
   "source": [
    "%%mermaid_magic -h 500"
   ]
  },
  {
   "cell_type": "code",
   "execution_count": null,
   "metadata": {},
   "outputs": [],
   "source": [
    "style: задаёт оформление диаграммы.\n",
    "\n",
    "style <узел> <style_tag:значение>,<style_tag:значение>\n",
    "Теги стилей:\n",
    "\n",
    "fill: заливка;\n",
    "stroke: цвет границы;\n",
    "stroke-width: толщина границы;\n",
    "color: цвет текста;\n",
    "stroke-dasharray: пунктирная граница."
   ]
  },
  {
   "cell_type": "code",
   "execution_count": 4,
   "metadata": {},
   "outputs": [
    {
     "data": {
      "text/html": [
       "<img src=\"https://mermaid.ink/img/CgpmbG93Y2hhcnQgTFIKICAgIHMxLS0+czI7CiAgICBzdHlsZSBzMSBmaWxsOiBncmVlbgogICAgczItLnRyYW5zZm9ybWF0aW9uLi0+czM7CiAgICBzdHlsZSBzMyBzdHJva2U6IHJlZAogICAgY2xhc3NEZWYgbXlfY2xhc3MgZmlsbDojZjAwLGNvbG9yOndoaXRlLGZvbnQtd2VpZ2h0OmJvbGQsc3Ryb2tlLXdpZHRoOjJweCxzdHJva2U6eWVsbG93CiAgICBjbGFzcyBzMiBteV9jbGFzcwo=\"/>"
      ],
      "text/plain": [
       "<IPython.core.display.Image object>"
      ]
     },
     "metadata": {},
     "output_type": "display_data"
    }
   ],
   "source": [
    "# %%{init: {'theme': 'forest', \"flowchart\" : { \"curve\" : \"basis\" } } }%%\n",
    "import base64\n",
    "from IPython.display import Image, display\n",
    "\n",
    "def mm(graph):\n",
    "  graphbytes = graph.encode(\"ascii\")\n",
    "  base64_bytes = base64.b64encode(graphbytes)\n",
    "  base64_string = base64_bytes.decode(\"ascii\")\n",
    "  display(Image(url=\"https://mermaid.ink/img/\" + base64_string))\n",
    "\n",
    "mm(\"\"\"\n",
    "\n",
    "flowchart LR\n",
    "    s1-->s2;\n",
    "    style s1 fill: green\n",
    "    s2-.transformation.->s3;\n",
    "    style s3 stroke: red\n",
    "    classDef my_class fill:#f00,color:white,font-weight:bold,stroke-width:2px,stroke:yellow\n",
    "    class s2 my_class\n",
    "\"\"\")\n"
   ]
  },
  {
   "cell_type": "code",
   "execution_count": 7,
   "metadata": {},
   "outputs": [
    {
     "data": {
      "text/html": [
       "<img src=\"https://mermaid.ink/img/CiAgICBmbG93Y2hhcnQgVEQ7CiAgICAgICAgQS0tPkI7CiAgICAgICAgQS0tPkM7CiAgICAgICAgQi0tPkQ7CiAgICAgICAgQy0tPkQ7CiAgICAgICAgRC0tPkU7IAo=\"/>"
      ],
      "text/plain": [
       "<IPython.core.display.Image object>"
      ]
     },
     "metadata": {},
     "output_type": "display_data"
    }
   ],
   "source": [
    "mm(\"\"\"\n",
    "    flowchart TD;\n",
    "        A-->B;\n",
    "        A-->C;\n",
    "        B-->D;\n",
    "        C-->D;\n",
    "        D-->E; \n",
    "\"\"\")    "
   ]
  },
  {
   "cell_type": "code",
   "execution_count": 8,
   "metadata": {},
   "outputs": [
    {
     "data": {
      "text/html": [
       "<img src=\"https://mermaid.ink/img/CmZsb3djaGFydCBMUjsKICAgIEEtLT5COwogICAgQS0tPkM7CiAgICBCLS0+RDsKICAgIEMtLT5EOwogICAgRC0tPkU7CiAgICBFLS0+QTsKICAgIEQtLT5DOwogICAgRC0tPkI7CiAgICBFLS0+QjsKICAgIEEtLT5FOwogICAgQi0tPkE7CiAgICBCLS0+RTsK\"/>"
      ],
      "text/plain": [
       "<IPython.core.display.Image object>"
      ]
     },
     "metadata": {},
     "output_type": "display_data"
    }
   ],
   "source": [
    "mm(\"\"\"\n",
    "flowchart LR;\n",
    "    A-->B;\n",
    "    A-->C;\n",
    "    B-->D;\n",
    "    C-->D;\n",
    "    D-->E;\n",
    "    E-->A;\n",
    "    D-->C;\n",
    "    D-->B;\n",
    "    E-->B;\n",
    "    A-->E;\n",
    "    B-->A;\n",
    "    B-->E;\n",
    "\"\"\")  "
   ]
  },
  {
   "cell_type": "code",
   "execution_count": 9,
   "metadata": {},
   "outputs": [
    {
     "data": {
      "text/html": [
       "<img src=\"https://mermaid.ink/img/CmZsb3djaGFydCBURAogICAgQShDaHJpc3RtYXMpIC0tPnxHZXQgbW9uZXl8IEIoR28gc2hvcHBpbmcpCiAgICBzdHlsZSBBIGZpbGw6cmVkLHN0cm9rZTpibGFjayxzdHJva2Utd2lkdGg6NHB4LHNoYWRvdzpzaGFkb3cKICAgIEIgLS0+IEN7TGV0IG1lIHRoaW5rfQogICAgc3R5bGUgQiBmaWxsOmdyZWVuLHN0cm9rZTpibGFjayxzdHJva2Utd2lkdGg6NHB4LHNoYWRvdzpzaGFkb3cKICAgIEMgLS0+fE9uZXwgRFtMYXB0b3BdCiAgICBzdHlsZSBDIGZpbGw6Ymx1ZSxzdHJva2U6YmxhY2ssc3Ryb2tlLXdpZHRoOjRweCxzaGFkb3c6c2hhZG93CiAgICBDIC0tPnxUd298IEVbaVBob25lXQogICAgQyAtLT58VGhyZWV8IEZbZmE6ZmEtY2FyIENhcl0KICAgIHN0eWxlIEQgZmlsbDp5ZWxsb3csc3Ryb2tlOmJsYWNrLHN0cm9rZS13aWR0aDoycHgsc2hhZG93OnNoYWRvdwogICAgc3R5bGUgRSBmaWxsOmJyb3duLHN0cm9rZTpibGFjayxzdHJva2Utd2lkdGg6MnB4LHNoYWRvdzpzaGFkb3cKICAgIHN0eWxlIEYgZmlsbDpuYXZ5LHN0cm9rZTpibGFjayxzdHJva2Utd2lkdGg6MnB4LHNoYWRvdzpzaGFkb3cK\"/>"
      ],
      "text/plain": [
       "<IPython.core.display.Image object>"
      ]
     },
     "metadata": {},
     "output_type": "display_data"
    }
   ],
   "source": [
    "mm(\"\"\"\n",
    "flowchart TD\n",
    "    A(Christmas) -->|Get money| B(Go shopping)\n",
    "    style A fill:red,stroke:black,stroke-width:4px,shadow:shadow\n",
    "    B --> C{Let me think}\n",
    "    style B fill:green,stroke:black,stroke-width:4px,shadow:shadow\n",
    "    C -->|One| D[Laptop]\n",
    "    style C fill:blue,stroke:black,stroke-width:4px,shadow:shadow\n",
    "    C -->|Two| E[iPhone]\n",
    "    C -->|Three| F[fa:fa-car Car]\n",
    "    style D fill:yellow,stroke:black,stroke-width:2px,shadow:shadow\n",
    "    style E fill:brown,stroke:black,stroke-width:2px,shadow:shadow\n",
    "    style F fill:navy,stroke:black,stroke-width:2px,shadow:shadow\n",
    "\"\"\")  "
   ]
  },
  {
   "cell_type": "code",
   "execution_count": 10,
   "metadata": {},
   "outputs": [
    {
     "data": {
      "text/html": [
       "<img src=\"https://mermaid.ink/img/CmZsb3djaGFydCBMUgogICAgaWQxKEJveCB3aXRoIHJvdW5kIGNvcm5lcikKICAgIGlkMihbU3RhZGl1bV0pCiAgICBpZDNbKERhdGFiYXNlKV0KICAgIGlkNCgoQ2lyY2xlKSkKICAgIGlkNXt7SGV4fX0KICAgIGlkNltcUGFyYWxsZWxvZ3JhbVxdCiAgICBpZDdbXFRyYXBlem9pZC9dCgogICAgaWQxLS0gMXN0IGxpbmUgLS0taWQyCiAgICBpZDEtLT4gfDJuZCBsaW5lfCBpZDMKICAgIGlkMS0tLSB8M3JkIGxpbmV8IGlkNAogICAgaWQyLS4tfDR0aCBsaW5lfCBpZDUKICAgIHN1YmdyYXBoIEEgYm94IGFyb3VuZCBzdHVmCiAgICBpZDMgPT0gNXRoIGxpbmUgPT0+IGlkNgogICAgZW5kCiAgICBzdWJncmFwaCBBbm90aGVyIGJveCBhcm91bmQgc3R1ZmYKICAgIGlkNCA8LS0+IGlkNyAtLT4gaWQ2CiAgICBlbmQKCiAgICBzdHlsZSBpZDEgZmlsbDpncmVlbixzdHJva2U6YmxhY2sKICAgIHN0eWxlIGlkMiBmaWxsOndoaXRlLHN0cm9rZTojZjY2LHN0cm9rZS1kYXNoYXJyYXk6IDUsIDUKICAgIHN0eWxlIGlkMyBmaWxsOiM2NmYsc3Ryb2tlOiNmNmYsc3Ryb2tlLXdpZHRoOjRweAogICAgc3R5bGUgaWQ0IGZpbGw6cmVkLHN0cm9rZTp5ZWxsb3cKICAgIHN0eWxlIGlkNSBmaWxsOm9yYW5nZSxzdHJva2U6d2hpdGUKICAgIHN0eWxlIGlkNiBmaWxsOnllbGxvdyxzdHJva2U6Ymx1ZQogICAgc3R5bGUgaWQ3IGZpbGw6YnJvd24sc3Ryb2tlOmJsdWUK\"/>"
      ],
      "text/plain": [
       "<IPython.core.display.Image object>"
      ]
     },
     "metadata": {},
     "output_type": "display_data"
    }
   ],
   "source": [
    "mm(\"\"\"\n",
    "flowchart LR\n",
    "    id1(Box with round corner)\n",
    "    id2([Stadium])\n",
    "    id3[(Database)]\n",
    "    id4((Circle))\n",
    "    id5{{Hex}}\n",
    "    id6[\\Parallelogram\\]\n",
    "    id7[\\Trapezoid/]\n",
    "\n",
    "    id1-- 1st line ---id2\n",
    "    id1--> |2nd line| id3\n",
    "    id1--- |3rd line| id4\n",
    "    id2-.-|4th line| id5\n",
    "    subgraph A box around stuf\n",
    "    id3 == 5th line ==> id6\n",
    "    end\n",
    "    subgraph Another box around stuff\n",
    "    id4 <--> id7 --> id6\n",
    "    end\n",
    "\n",
    "    style id1 fill:green,stroke:black\n",
    "    style id2 fill:white,stroke:#f66,stroke-dasharray: 5, 5\n",
    "    style id3 fill:#66f,stroke:#f6f,stroke-width:4px\n",
    "    style id4 fill:red,stroke:yellow\n",
    "    style id5 fill:orange,stroke:white\n",
    "    style id6 fill:yellow,stroke:blue\n",
    "    style id7 fill:brown,stroke:blue\n",
    "\"\"\")  "
   ]
  },
  {
   "cell_type": "code",
   "execution_count": 11,
   "metadata": {},
   "outputs": [
    {
     "data": {
      "text/html": [
       "<img src=\"https://mermaid.ink/img/CmdhbnR0CiAgICB0aXRsZSBBIEdhbnR0IERpYWdyYW0KCiAgICBDb21wbGV0ZWQgdGFzayAgICAgICAgICAgIDpkb25lLCAgICB0YXNrLCAyMDI0LTAxLTA2LDIwMjQtMDEtMDgKICAgIEFjdGl2ZSB0YXNrICAgICAgICAgICAgICAgOmFjdGl2ZSwgIHRhc2syLCAyMDI0LTAxLTA5LCAzZAogICAgRnV0dXJlIHRhc2sgICAgICAgICAgICAgICA6ICAgICAgICAgdGFzazMsIGFmdGVyIHRhc2syLCA1ZAogICAgRnV0dXJlIHRhc2syICAgICAgICAgICAgICA6ICAgICAgICAgdGFzazQsIGFmdGVyIHRhc2szLCA1ZAoK\"/>"
      ],
      "text/plain": [
       "<IPython.core.display.Image object>"
      ]
     },
     "metadata": {},
     "output_type": "display_data"
    }
   ],
   "source": [
    "mm(\"\"\"\n",
    "gantt\n",
    "    title A Gantt Diagram\n",
    "\n",
    "    Completed task            :done,    task, 2024-01-06,2024-01-08\n",
    "    Active task               :active,  task2, 2024-01-09, 3d\n",
    "    Future task               :         task3, after task2, 5d\n",
    "    Future task2              :         task4, after task3, 5d\n",
    "\n",
    "\"\"\")  "
   ]
  },
  {
   "cell_type": "code",
   "execution_count": 12,
   "metadata": {},
   "outputs": [
    {
     "data": {
      "text/html": [
       "<img src=\"https://mermaid.ink/img/CmdhbnR0CiAgICB0aXRsZSBBIEdhbnR0IERpYWdyYW0KICAgIGRhdGVGb3JtYXQgIFlZWVktTU0tREQKICAgIGV4Y2x1ZGVzIHdlZWtlbmRzCiAgICAKICAgIHNlY3Rpb24gRGVtbyBTZWN0aW9uCiAgICBGaXJzdCB0YXNrICA6IGRvbmUsYTEsIDIwMjMtMTItMjQsIDlkCiAgICBTZWNvbmQgdGFzayA6IGFjdGl2ZSxhMiwgMjAyNC0wMS0wMSwgMTRkCiAgICBNaWxlc3RvbmUgICA6IG1pbGVzdG9uZSwgbTEsIGFmdGVyIGEyLCAwZAogICAgQ3JpdGljYWwgdGFzayAgIDogY3JpdCxhMywgMjAyNC0wMS0xMCwgOWQKICAgIExhc3QgdGFzayAgIDogYTQsYWZ0ZXIgYTIsIDhkCiAgICBQcm9qZWN0IGVuZCA6IG1pbGVzdG9uZSwgbTIsIDIwMjQtMDItMDIsIDBkCgogICAgc2VjdGlvbiBIZWxwIHRoZSBjaGFubmVsIG91dAogICAgTGlrZSAgICAgIDphY3RpdmUsYTUsMjAyNC0wMS01ICAsIDJkCiAgICBDb21tZW50IDogYTYsYWZ0ZXIgYTUsIDdkCiAgICBTdWJzY3JpYmUgICA6IGNyaXQsYTcsYWZ0ZXIgYTYsOGQKCgo=\"/>"
      ],
      "text/plain": [
       "<IPython.core.display.Image object>"
      ]
     },
     "metadata": {},
     "output_type": "display_data"
    }
   ],
   "source": [
    "mm(\"\"\"\n",
    "gantt\n",
    "    title A Gantt Diagram\n",
    "    dateFormat  YYYY-MM-DD\n",
    "    excludes weekends\n",
    "    \n",
    "    section Demo Section\n",
    "    First task  : done,a1, 2023-12-24, 9d\n",
    "    Second task : active,a2, 2024-01-01, 14d\n",
    "    Milestone   : milestone, m1, after a2, 0d\n",
    "    Critical task   : crit,a3, 2024-01-10, 9d\n",
    "    Last task   : a4,after a2, 8d\n",
    "    Project end : milestone, m2, 2024-02-02, 0d\n",
    "\n",
    "    section Help the channel out\n",
    "    Like      :active,a5,2024-01-5  , 2d\n",
    "    Comment : a6,after a5, 7d\n",
    "    Subscribe   : crit,a7,after a6,8d\n",
    "\n",
    "\n",
    "\"\"\")  "
   ]
  },
  {
   "cell_type": "code",
   "execution_count": 13,
   "metadata": {},
   "outputs": [
    {
     "data": {
      "text/html": [
       "<img src=\"https://mermaid.ink/img/CnBpZSAKICAgIHNob3dEYXRhCiAgICB0aXRsZSBQZXR0ZXJUZWNoJ3MgY29udGVudAogICAgIldpbmRvd3MgMzY1IiA6IDEzCiAgICAiQXp1cmUiIDogMjgKICAgICJQb3dlclNoZWxsIiA6IDMKCgo=\"/>"
      ],
      "text/plain": [
       "<IPython.core.display.Image object>"
      ]
     },
     "metadata": {},
     "output_type": "display_data"
    }
   ],
   "source": [
    "mm(\"\"\"\n",
    "pie \n",
    "    showData\n",
    "    title PetterTech's content\n",
    "    \"Windows 365\" : 13\n",
    "    \"Azure\" : 28\n",
    "    \"PowerShell\" : 3\n",
    "\n",
    "\n",
    "\"\"\")  "
   ]
  },
  {
   "cell_type": "code",
   "execution_count": 14,
   "metadata": {},
   "outputs": [
    {
     "data": {
      "text/html": [
       "<img src=\"https://mermaid.ink/img/CgpzYW5rZXktYmV0YQpXb3JrLXdlZWssV3JpdGluZywxNApXb3JrLXdlZWssRHJhd2luZywxMApXb3JrLXdlZWssTWVldGluZ3MsMTYKCg==\"/>"
      ],
      "text/plain": [
       "<IPython.core.display.Image object>"
      ]
     },
     "metadata": {},
     "output_type": "display_data"
    }
   ],
   "source": [
    "mm(\"\"\"\n",
    "\n",
    "sankey-beta\n",
    "Work-week,Writing,14\n",
    "Work-week,Drawing,10\n",
    "Work-week,Meetings,16\n",
    "\n",
    "\"\"\")  "
   ]
  },
  {
   "cell_type": "code",
   "execution_count": 15,
   "metadata": {},
   "outputs": [
    {
     "data": {
      "text/html": [
       "<img src=\"https://mermaid.ink/img/CmdpdEdyYXBoOgogICAgY29tbWl0IGlkOiAiSW5pdGlhbCBjb21taXQiCiAgICBjb21taXQgaWQ6ICJEaWQgc3R1ZmYiCiAgICAKICAgIGJyYW5jaCBicmFuY2hpbmdPZmYKICAgIAogICAgY2hlY2tvdXQgYnJhbmNoaW5nT2ZmCiAgICBjb21taXQgaWQ6ICJEaWQgc29tZSBicmFuY2ggc3R1ZmYiCiAgICBjb21taXQgaWQ6ICJEaWQgbW9yZSBicmFuY2ggc3R1ZmYiCiAgICBjaGVja291dCBtYWluCiAgICBjb21taXQgaWQ6ICJEaWQgc29tZSBtb3JlIHN0dWZmIgogICAgbWVyZ2UgYnJhbmNoaW5nT2ZmIGlkOiAiTWVyZ2luZyBiYWNrIgoKICAgIGNvbW1pdCBpZDogIlBvc3QgbWVyZ2Ugc3R1ZmYiCiAgICBjb21taXQgaWQ6ICJGaW5hbD8iCgoK\"/>"
      ],
      "text/plain": [
       "<IPython.core.display.Image object>"
      ]
     },
     "metadata": {},
     "output_type": "display_data"
    }
   ],
   "source": [
    "mm(\"\"\"\n",
    "gitGraph:\n",
    "    commit id: \"Initial commit\"\n",
    "    commit id: \"Did stuff\"\n",
    "    \n",
    "    branch branchingOff\n",
    "    \n",
    "    checkout branchingOff\n",
    "    commit id: \"Did some branch stuff\"\n",
    "    commit id: \"Did more branch stuff\"\n",
    "    checkout main\n",
    "    commit id: \"Did some more stuff\"\n",
    "    merge branchingOff id: \"Merging back\"\n",
    "\n",
    "    commit id: \"Post merge stuff\"\n",
    "    commit id: \"Final?\"\n",
    "\n",
    "\n",
    "\"\"\")  "
   ]
  },
  {
   "cell_type": "code",
   "execution_count": 16,
   "metadata": {},
   "outputs": [
    {
     "data": {
      "text/html": [
       "<img src=\"https://mermaid.ink/img/Cm1pbmRtYXAKICByb290KChNeSBicmFpbikpCiAgICApKUR1bmdlb25zICYgRHJhZ29ucygoCiAgICAgIHt7T25lIGNhbXBhaWdufX0KICAgICAgICAoKERNIHRhc2tzKSkKICAgICAgICAgIEFldGhlbmlhCiAgICAgICAgICAgIEtpbmdkb21zCiAgICAgICAgICAgIENpdGllcwogICAgICAgICAgICBWaWxsYWdlcwogICAgICAgICAgICBOUENzCiAgICAgICAgICAgIERlaXRpZXMKICAgICAgICAgIFByZXBhcmUKICAgICAgICAgIFJ1bgogICAgICAgICAgRm9sbG93IHVwCiAgICAgICAgICBIZWxwIHBsYXllcnMKICAgICAge3tBbm90aGVyIENhbXBhaWdufX0KICAgICAgICAoKEhhbGxkdXIKICAgICAgICBUcnViYWR1cikpCiAgICAgICAgICBCYXJkCiAgICAgICAgICBEd2FydmVuIGhlcml0YWdlCiAgICAgICAgICBTdXBwb3J0CiAgICAgICAgICBTcGVsbHMKICAgICAgICAgIExpbmVuZQogICAgKSlZb3VUdWJlKCgKICAgICAge3tGb2xsb3cgdXB9fQogICAgICAgIENvbW1lbnRzCiAgICAgICAgU3VnZ2VzdGlvbnMKICAgICAge3tDcmVhdGUgY29udGVudH19CiAgICAgICAgKUF6dXJlKAogICAgICAgICAgRVBBQwogICAgICAgICAgQXJjCiAgICAgICAgICBBVkQKICAgICAgICAgIERldiBCb3gKICAgICAgICAgIFNwb3QgVk1zCiAgICAgICAgQ29kZSBzdHVmZgogICAgICAgICAgUG93ZXJzaGVsbAogICAgICAgICAgQmljZXAKICAgICAgICAgIE1lcm1haWQKICAgICAgICAgIElhQwogICAgICAgIClXaW5kb3dzIDM2NSgKICAgICAgICAgICAgQm9vdAogICAgICAgICAgICBVc2UKICAgICAgICAgICAgRmVhdHVyZXMKICAgICAgICAgICAgTmV3cwoKCg==\"/>"
      ],
      "text/plain": [
       "<IPython.core.display.Image object>"
      ]
     },
     "metadata": {},
     "output_type": "display_data"
    }
   ],
   "source": [
    "mm(\"\"\"\n",
    "mindmap\n",
    "  root((My brain))\n",
    "    ))Dungeons & Dragons((\n",
    "      {{One campaign}}\n",
    "        ((DM tasks))\n",
    "          Aethenia\n",
    "            Kingdoms\n",
    "            Cities\n",
    "            Villages\n",
    "            NPCs\n",
    "            Deities\n",
    "          Prepare\n",
    "          Run\n",
    "          Follow up\n",
    "          Help players\n",
    "      {{Another Campaign}}\n",
    "        ((Halldur\n",
    "        Trubadur))\n",
    "          Bard\n",
    "          Dwarven heritage\n",
    "          Support\n",
    "          Spells\n",
    "          Linene\n",
    "    ))YouTube((\n",
    "      {{Follow up}}\n",
    "        Comments\n",
    "        Suggestions\n",
    "      {{Create content}}\n",
    "        )Azure(\n",
    "          EPAC\n",
    "          Arc\n",
    "          AVD\n",
    "          Dev Box\n",
    "          Spot VMs\n",
    "        Code stuff\n",
    "          Powershell\n",
    "          Bicep\n",
    "          Mermaid\n",
    "          IaC\n",
    "        )Windows 365(\n",
    "            Boot\n",
    "            Use\n",
    "            Features\n",
    "            News\n",
    "\n",
    "\n",
    "\"\"\")  "
   ]
  },
  {
   "cell_type": "code",
   "execution_count": 1,
   "metadata": {},
   "outputs": [],
   "source": [
    "%load_ext nb_js_diagrammers"
   ]
  },
  {
   "cell_type": "code",
   "execution_count": 2,
   "metadata": {},
   "outputs": [
    {
     "data": {
      "text/html": [
       "<iframe srcdoc=\"&lt;!DOCTYPE html&gt;\n",
       "&lt;html&gt;\n",
       "    &lt;head&gt;\n",
       "        &lt;meta charset=&quot;UTF-8&quot;&gt;\n",
       "        &lt;title&gt;Flowchart.js&lt;/title&gt;\n",
       "        &lt;script type=&quot;text/javascript&quot; src=&quot;https://cdnjs.cloudflare.com/ajax/libs/raphael/2.3.0/raphael.min.js&quot;&gt;&lt;/script&gt;\n",
       "        &lt;script type=&quot;text/javascript&quot; src=&quot;https://cdnjs.cloudflare.com/ajax/libs/flowchart/1.14.1/flowchart.js&quot;&gt;&lt;/script&gt;\n",
       "        &lt;/head&gt;\n",
       "        &lt;body&gt;\n",
       "         \n",
       "        &lt;div id=&quot;diagram&quot;&gt;&lt;/div&gt;\n",
       "&lt;script&gt;\n",
       "  var diagram = flowchart.parse(`\n",
       "st=&gt;start: Start\n",
       "e=&gt;end: End\n",
       "op1=&gt;operation: Generate\n",
       "op2=&gt;parallel: Evaluate\n",
       "st(right)-&gt;op1(right)-&gt;op2\n",
       "op2(path1, top)-&gt;op1\n",
       "op2(path2, right)-&gt;e\n",
       "`);\n",
       "  diagram.drawSVG(&#x27;diagram&#x27;);\n",
       "&lt;/script&gt;\n",
       " \n",
       "        &lt;/body&gt;\n",
       "&lt;/html&gt;\n",
       "\" width=\"100%\" height=\"100\"style=\"border:none !important;\" \"allowfullscreen\" \"webkitallowfullscreen\" \"mozallowfullscreen\"></iframe>"
      ],
      "text/plain": [
       "<nb_js_diagrammers.magics.JSDiagram at 0x843d4e0>"
      ]
     },
     "execution_count": 2,
     "metadata": {},
     "output_type": "execute_result"
    }
   ],
   "source": [
    "%%flowchart_magic -h 100\n",
    "\n",
    "st=>start: Start\n",
    "e=>end: End\n",
    "op1=>operation: Generate\n",
    "op2=>parallel: Evaluate\n",
    "st(right)->op1(right)->op2\n",
    "op2(path1, top)->op1\n",
    "op2(path2, right)->e"
   ]
  },
  {
   "cell_type": "code",
   "execution_count": 3,
   "metadata": {},
   "outputs": [
    {
     "data": {
      "text/html": [
       "<iframe srcdoc=\"&lt;!DOCTYPE html&gt;\n",
       "&lt;html&gt;\n",
       "    &lt;head&gt;\n",
       "        &lt;meta charset=&quot;UTF-8&quot;&gt;\n",
       "        &lt;title&gt;wavedrom.js&lt;/title&gt;\n",
       "&lt;script src=&quot;https://cdnjs.cloudflare.com/ajax/libs/wavedrom/2.6.8/skins/default.js&quot; type=&quot;text/javascript&quot;&gt;&lt;/script&gt;\n",
       "&lt;script src=&quot;https://cdnjs.cloudflare.com/ajax/libs/wavedrom/2.6.8/wavedrom.min.js&quot; type=&quot;text/javascript&quot;&gt;&lt;/script&gt;\n",
       "&lt;/head&gt;\n",
       "        &lt;body onload=&quot;WaveDrom.ProcessAll()&quot;&gt;\n",
       "&lt;script type=&quot;WaveDrom&quot;&gt;\n",
       "\n",
       "{ signal : [\n",
       "  { name: &quot;clk&quot;,  wave: &quot;p......&quot; },\n",
       "  { name: &quot;bus&quot;,  wave: &quot;x.34.5x&quot;,   data: &quot;head body tail&quot; },\n",
       "  { name: &quot;wire&quot;, wave: &quot;0.1..0.&quot; },\n",
       "]}\n",
       "\n",
       "&lt;/script&gt;\n",
       "        &lt;/body&gt;\n",
       "&lt;/html&gt;\n",
       "\" width=\"100%\" height=\"100\"style=\"border:none !important;\" \"allowfullscreen\" \"webkitallowfullscreen\" \"mozallowfullscreen\"></iframe>"
      ],
      "text/plain": [
       "<nb_js_diagrammers.magics.JSDiagram at 0x89d8da0>"
      ]
     },
     "execution_count": 3,
     "metadata": {},
     "output_type": "execute_result"
    }
   ],
   "source": [
    "%%wavedrom_magic -h 100\n",
    "\n",
    "{ signal : [\n",
    "  { name: \"clk\",  wave: \"p......\" },\n",
    "  { name: \"bus\",  wave: \"x.34.5x\",   data: \"head body tail\" },\n",
    "  { name: \"wire\", wave: \"0.1..0.\" },\n",
    "]}"
   ]
  },
  {
   "cell_type": "code",
   "execution_count": 11,
   "metadata": {},
   "outputs": [
    {
     "data": {
      "text/html": [
       "<iframe srcdoc=\"&lt;html&gt;\n",
       "    &lt;body&gt;\n",
       "        &lt;script src=&quot;https://cdn.jsdelivr.net/npm/mermaid/dist/mermaid.min.js&quot;&gt;&lt;/script&gt;\n",
       "        &lt;script&gt;\n",
       "            mermaid.initialize({ startOnLoad: true });\n",
       "        &lt;/script&gt;\n",
       " \n",
       "        &lt;div class=&quot;mermaid&quot;&gt;\n",
       "            %%{init: {&#x27;theme&#x27;: &#x27;forest&#x27;, &quot;flowchart&quot; : { &quot;curve&quot; : &quot;basis&quot; } } }%%\n",
       "flowchart TD\n",
       "    A[Start] --&gt; B{Is it?};\n",
       "    B --&gt;|Yes| C[OK];\n",
       "    C --&gt; D[Rethink];\n",
       "    D --&gt; B;\n",
       "    B ----&gt;|No| E[End];\n",
       "        &lt;/div&gt;\n",
       " \n",
       "    &lt;/body&gt;\n",
       "&lt;/html&gt;\n",
       "\" width=\"100%\" height=\"400\"style=\"border:none !important;\" \"allowfullscreen\" \"webkitallowfullscreen\" \"mozallowfullscreen\"></iframe>"
      ],
      "text/plain": [
       "<nb_js_diagrammers.magics.JSDiagram at 0x85d1fd0>"
      ]
     },
     "execution_count": 11,
     "metadata": {},
     "output_type": "execute_result"
    }
   ],
   "source": [
    "%%mermaid_magic -h 400\n",
    "%%{init: {'theme': 'forest', \"flowchart\" : { \"curve\" : \"basis\" } } }%%\n",
    "flowchart TD\n",
    "    A[Start] --> B{Is it?};\n",
    "    B -->|Yes| C[OK];\n",
    "    C --> D[Rethink];\n",
    "    D --> B;\n",
    "    B ---->|No| E[End];"
   ]
  }
 ],
 "metadata": {
  "kernelspec": {
   "display_name": "Python 3 (ipykernel)",
   "language": "python",
   "name": "python3"
  },
  "language_info": {
   "codemirror_mode": {
    "name": "ipython",
    "version": 3
   },
   "file_extension": ".py",
   "mimetype": "text/x-python",
   "name": "python",
   "nbconvert_exporter": "python",
   "pygments_lexer": "ipython3",
   "version": "3.7.1"
  },
  "vscode": {
   "interpreter": {
    "hash": "fbe58ca63fe33f9eeae9e71d10368d2b4a57f2b1b395836210cc60d362c66949"
   }
  }
 },
 "nbformat": 4,
 "nbformat_minor": 2
}
