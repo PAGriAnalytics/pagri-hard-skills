{
 "cells": [
  {
   "cell_type": "markdown",
   "metadata": {},
   "source": [
    "https://github.com/kepatopoc/vkapi-course"
   ]
  },
  {
   "cell_type": "markdown",
   "metadata": {},
   "source": [
    "https://github.com/kepatopoc/vk-scripts"
   ]
  },
  {
   "cell_type": "markdown",
   "metadata": {},
   "source": [
    "https://habr.com/ru/articles/319178/"
   ]
  },
  {
   "cell_type": "markdown",
   "metadata": {},
   "source": [
    "https://<адрес-сервера>/method/<имя-API-метода>?<параметры>  \n",
    "https://api.vk.com/method/friends.get?fields=sex&access_token=0394a2ede332c9a13eb82e9b24631604c31df978b4e2f0fbd2c549944f9d79a5bc866455623bd560732ab&v=5.126"
   ]
  },
  {
   "cell_type": "markdown",
   "metadata": {},
   "source": [
    "методы находятся в секциях  \n",
    "секция отделена от метода точкой, например  \n",
    "friends.get - метод get из секции friends"
   ]
  },
  {
   "cell_type": "code",
   "execution_count": null,
   "metadata": {},
   "outputs": [],
   "source": [
    "import requests\n",
    "\n",
    "server = 'https://api.vk.com/method/'\n",
    "method = 'friends.get'\n",
    "token = 'this is your token'\n",
    "user_id = 'this is user id'\n",
    "version = 'this is version'\n",
    "params = {\n",
    "    'access_token': token\n",
    "    , 'user_id': user_id\n",
    "    , 'v': version\n",
    "    , 'fields': 'sex'\n",
    "}\n",
    "url = server + method\n",
    "res = requests.get(url, params)\n",
    "res_json = res.json()"
   ]
  },
  {
   "cell_type": "code",
   "execution_count": null,
   "metadata": {},
   "outputs": [],
   "source": [
    "!pip install vk_api"
   ]
  },
  {
   "cell_type": "code",
   "execution_count": null,
   "metadata": {},
   "outputs": [],
   "source": [
    "import vk_api\n",
    "vk_session = vk_api.VkApi(token=TOKEN)\n",
    "vk = vk_session.get_api()\n",
    "\n",
    "user_id = 'ваш_id_пользователя'\n",
    "friends = vk.friends.get(user_id=user_id, fields='nickname')"
   ]
  },
  {
   "cell_type": "markdown",
   "metadata": {},
   "source": [
    "Пример выкачки данных из VK какого-нибудь паблика"
   ]
  },
  {
   "cell_type": "code",
   "execution_count": null,
   "metadata": {},
   "outputs": [],
   "source": [
    "import vk\n",
    "#передаешь id сессии\n",
    "session = vk.Session(access_token='')\n",
    "# URL для получения access_token, вместо tvoi_id вставляете id созданного приложения Вк:\n",
    "# https://oauth.vk.com/authorize?client_id=tvoi_id&scope=friends,pages,groups,offline&redirect_uri=https://oauth.vk.com/blank.html&display=page&v=5.21&response_type=token \n",
    "api = vk.API(session)\n",
    "poss=[]\n",
    "id_pab=-59229916 #id пабликов начинаются с минуса, id стены пользователя без минуса\n",
    "info=api.wall.get(owner_id=id_pab, offset=0, count=1)\n",
    "kolvo = (info[0]//100)+1\n",
    "\n",
    "shag=100\n",
    "sdvig=0\n",
    "h=0\n",
    "\n",
    "import time\n",
    "\n",
    "while h<kolvo:\n",
    "    if(h>70):\n",
    "        print(h) #не обязательное условие, просто для контроля примерного окончания процесса\n",
    "    pubpost=api.wall.get(owner_id=id_pab, offset=sdvig, count=100)\n",
    "    i=1\n",
    "    while i < len(pubpost):\n",
    "        b=pubpost[i]['text']\n",
    "        poss.append(b)\n",
    "        i=i+1\n",
    "    h=h+1\n",
    "    sdvig=sdvig+shag\n",
    "    time.sleep(1)\n",
    "len(poss)\n",
    "\n",
    "import io\n",
    "with io.open(\"public.txt\", 'w', encoding='utf-8', errors='ignore') as file:\n",
    "    for line in poss:\n",
    "        file.write(\"%s\\n\" % line)\n",
    "file.close()\n",
    "\n",
    "titles = open('public.txt', encoding='utf-8', errors='ignore').read().split('\\n')\n",
    "\n",
    "print(str(len(titles)) + ' постов считано')\n",
    "\n",
    "import re\n",
    "posti=[]\n",
    "\n",
    "#удалим все знаки препинания и цифры\n",
    "for line in titles:\n",
    "    chis = re.sub(r'(\\<(/?[^>]+)>)', ' ', line)\n",
    "    #chis = re.sub()\n",
    "    chis = re.sub('[^а-яА-Я ]', '', chis)\n",
    "    posti.append(chis)"
   ]
  }
 ],
 "metadata": {
  "kernelspec": {
   "display_name": "Python 3.7.1 64-bit",
   "language": "python",
   "name": "python3"
  },
  "language_info": {
   "codemirror_mode": {
    "name": "ipython",
    "version": 3
   },
   "file_extension": ".py",
   "mimetype": "text/x-python",
   "name": "python",
   "nbconvert_exporter": "python",
   "pygments_lexer": "ipython3",
   "version": "3.7.1"
  },
  "orig_nbformat": 4,
  "vscode": {
   "interpreter": {
    "hash": "fbe58ca63fe33f9eeae9e71d10368d2b4a57f2b1b395836210cc60d362c66949"
   }
  }
 },
 "nbformat": 4,
 "nbformat_minor": 2
}
