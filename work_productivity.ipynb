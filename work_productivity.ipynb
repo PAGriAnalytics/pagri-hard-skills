{
 "cells": [
  {
   "cell_type": "markdown",
   "metadata": {},
   "source": [
    "Как правильно задавать вопросы\n",
    "- Сначала ещё раз внимательно прочитай задачу и подумай, может что-то упустил\n",
    "- Поищи ответ в интернете\n",
    "- Если не получается, тогда задаем вопрос\n",
    "- Пишем название задачи или ссылку на задачу\n",
    "- Пишем что уже сделали\n",
    "- Пишем где поискали и не нашли\n",
    "- Пишем в каком конкретно месте возникла проблема и код ошибки, если есть\n",
    "- Либо кусок кода или скриншот с ошибкой, также это может быть ссылка на код в репозитории"
   ]
  },
  {
   "cell_type": "code",
   "execution_count": null,
   "metadata": {
    "vscode": {
     "languageId": "plaintext"
    }
   },
   "outputs": [],
   "source": []
  },
  {
   "cell_type": "code",
   "execution_count": null,
   "metadata": {
    "vscode": {
     "languageId": "plaintext"
    }
   },
   "outputs": [],
   "source": []
  }
 ],
 "metadata": {
  "language_info": {
   "name": "python"
  }
 },
 "nbformat": 4,
 "nbformat_minor": 2
}
