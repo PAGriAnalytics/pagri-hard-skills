{
 "cells": [
  {
   "cell_type": "markdown",
   "metadata": {},
   "source": [
    "https://habr.com/ru/articles/566568/"
   ]
  },
  {
   "cell_type": "code",
   "execution_count": null,
   "metadata": {},
   "outputs": [],
   "source": [
    "# устанавливаем необходимые для работы в colab зависимости\n",
    "# !pip install plotly chart_studio"
   ]
  },
  {
   "cell_type": "code",
   "execution_count": 46,
   "metadata": {},
   "outputs": [],
   "source": [
    "import os\n",
    "import re\n",
    "import requests\n",
    "import numpy as np\n",
    "import pandas as pd\n",
    "from tqdm.auto import tqdm\n",
    "# import chart_studio.plotly as py\n",
    "import plotly.graph_objects as go\n",
    "import json"
   ]
  },
  {
   "cell_type": "markdown",
   "metadata": {},
   "source": [
    "## Пример 1"
   ]
  },
  {
   "cell_type": "markdown",
   "metadata": {},
   "source": [
    "У нас есть следующий датафрейь"
   ]
  },
  {
   "cell_type": "code",
   "execution_count": 92,
   "metadata": {},
   "outputs": [
    {
     "data": {
      "text/html": [
       "<div>\n",
       "<style scoped>\n",
       "    .dataframe tbody tr th:only-of-type {\n",
       "        vertical-align: middle;\n",
       "    }\n",
       "\n",
       "    .dataframe tbody tr th {\n",
       "        vertical-align: top;\n",
       "    }\n",
       "\n",
       "    .dataframe thead th {\n",
       "        text-align: right;\n",
       "    }\n",
       "</style>\n",
       "<table border=\"1\" class=\"dataframe\">\n",
       "  <thead>\n",
       "    <tr style=\"text-align: right;\">\n",
       "      <th></th>\n",
       "      <th>Vendor Name</th>\n",
       "      <th>Category</th>\n",
       "      <th>Count</th>\n",
       "    </tr>\n",
       "  </thead>\n",
       "  <tbody>\n",
       "    <tr>\n",
       "      <th>0</th>\n",
       "      <td>AKJ Education</td>\n",
       "      <td>Books</td>\n",
       "      <td>84688</td>\n",
       "    </tr>\n",
       "    <tr>\n",
       "      <th>1</th>\n",
       "      <td>AKJ Education</td>\n",
       "      <td>Computers &amp; Tablets</td>\n",
       "      <td>10045</td>\n",
       "    </tr>\n",
       "    <tr>\n",
       "      <th>2</th>\n",
       "      <td>Amazon</td>\n",
       "      <td>Books</td>\n",
       "      <td>12944</td>\n",
       "    </tr>\n",
       "    <tr>\n",
       "      <th>3</th>\n",
       "      <td>Amazon</td>\n",
       "      <td>Computers &amp; Tablets</td>\n",
       "      <td>42165</td>\n",
       "    </tr>\n",
       "    <tr>\n",
       "      <th>4</th>\n",
       "      <td>Amazon</td>\n",
       "      <td>Other</td>\n",
       "      <td>4150</td>\n",
       "    </tr>\n",
       "    <tr>\n",
       "      <th>5</th>\n",
       "      <td>Flipkart</td>\n",
       "      <td>Books</td>\n",
       "      <td>10230</td>\n",
       "    </tr>\n",
       "  </tbody>\n",
       "</table>\n",
       "</div>"
      ],
      "text/plain": [
       "     Vendor Name             Category  Count\n",
       "0  AKJ Education                Books  84688\n",
       "1  AKJ Education  Computers & Tablets  10045\n",
       "2         Amazon                Books  12944\n",
       "3         Amazon  Computers & Tablets  42165\n",
       "4         Amazon                Other   4150\n",
       "5       Flipkart                Books  10230"
      ]
     },
     "execution_count": 92,
     "metadata": {},
     "output_type": "execute_result"
    }
   ],
   "source": [
    "df = pd.DataFrame({\n",
    "    'Vendor Name': ['AKJ Education', 'AKJ Education', 'Amazon', 'Amazon', 'Amazon', 'Flipkart'],\n",
    "    'Category': ['Books', 'Computers & Tablets', 'Books', 'Computers & Tablets', 'Other', 'Books'],\n",
    "    'Count': [84688, 10045, 12944, 42165, 4150, 10230]\n",
    "})\n",
    "df"
   ]
  },
  {
   "cell_type": "markdown",
   "metadata": {},
   "source": [
    "Мы хотим построить Sankey диаграмму где источниками будет `Vendor Name`, а целями `Category`"
   ]
  },
  {
   "cell_type": "markdown",
   "metadata": {},
   "source": [
    "Сначла создаем узлы  \n",
    "Для этого мы берем все уникаьные занчения из испточников и целей выстраиваем в ряд и даем им индексы  \n"
   ]
  },
  {
   "cell_type": "code",
   "execution_count": 107,
   "metadata": {},
   "outputs": [
    {
     "data": {
      "text/plain": [
       "{'AKJ Education': [0, 'rgba(42, 157, 143, 1)'],\n",
       " 'Amazon': [1, 'rgba(38, 70, 83, 1)'],\n",
       " 'Flipkart': [2, 'rgba(233, 196, 106, 1)'],\n",
       " 'Books': [3, 'rgba(244, 162, 97, 1)'],\n",
       " 'Computers & Tablets': [4, 'rgba(231, 111, 81, 1)'],\n",
       " 'Other': [5, 'rgba(230, 57, 70, 1)']}"
      ]
     },
     "execution_count": 107,
     "metadata": {},
     "output_type": "execute_result"
    }
   ],
   "source": [
    "node_colors = [\"rgba(42, 157, 143, 1)\", \"rgba(38, 70, 83, 1)\", \"rgba(233, 196, 106, 1)\", \"rgba(244, 162, 97, 1)\", \"rgba(231, 111, 81, 1)\", \"rgba(230, 57, 70, 1)\"]\n",
    "nodes_with_indexes = {key: [val, node_colors[val]] for val, key in enumerate(df['Vendor Name'].unique().tolist() + df['Category'].unique().tolist())}\n",
    "nodes_with_indexes"
   ]
  },
  {
   "cell_type": "markdown",
   "metadata": {},
   "source": [
    "Создадим цвета связей    \n",
    "цвет связи должен быть как цвет источника, из которого она идет  \n",
    "Тут не берем уникальные источники, так как у нас связей будет столько сколько значений в столбце источников  "
   ]
  },
  {
   "cell_type": "code",
   "execution_count": 108,
   "metadata": {},
   "outputs": [
    {
     "data": {
      "text/plain": [
       "['rgba(42, 157, 143, 0.2)',\n",
       " 'rgba(42, 157, 143, 0.2)',\n",
       " 'rgba(38, 70, 83, 0.2)',\n",
       " 'rgba(38, 70, 83, 0.2)',\n",
       " 'rgba(38, 70, 83, 0.2)',\n",
       " 'rgba(233, 196, 106, 0.2)']"
      ]
     },
     "execution_count": 108,
     "metadata": {},
     "output_type": "execute_result"
    }
   ],
   "source": [
    "link_color = [nodes_with_indexes[source][1].replace(', 1)', ', 0.2)') for source in df['Vendor Name']]\n",
    "link_color"
   ]
  },
  {
   "cell_type": "markdown",
   "metadata": {},
   "source": [
    "Создадим источники"
   ]
  },
  {
   "cell_type": "code",
   "execution_count": 94,
   "metadata": {},
   "outputs": [],
   "source": [
    "df['source'] = df['Vendor Name'].apply(lambda x: nodes_with_indexes[x][0])"
   ]
  },
  {
   "cell_type": "markdown",
   "metadata": {},
   "source": [
    "Создадим цели"
   ]
  },
  {
   "cell_type": "code",
   "execution_count": 96,
   "metadata": {},
   "outputs": [],
   "source": [
    "df['target'] = df['Category'].apply(lambda x: nodes_with_indexes[x][0])"
   ]
  },
  {
   "cell_type": "markdown",
   "metadata": {},
   "source": [
    "Посчитаем суммарное значение value для каждого источника, чтобы в ховерах показать процент от общего  "
   ]
  },
  {
   "cell_type": "code",
   "execution_count": 97,
   "metadata": {},
   "outputs": [],
   "source": [
    "df['sum_value'] = df.groupby('Vendor Name')['Count'].transform('sum')"
   ]
  },
  {
   "cell_type": "code",
   "execution_count": 98,
   "metadata": {},
   "outputs": [
    {
     "data": {
      "text/html": [
       "<div>\n",
       "<style scoped>\n",
       "    .dataframe tbody tr th:only-of-type {\n",
       "        vertical-align: middle;\n",
       "    }\n",
       "\n",
       "    .dataframe tbody tr th {\n",
       "        vertical-align: top;\n",
       "    }\n",
       "\n",
       "    .dataframe thead th {\n",
       "        text-align: right;\n",
       "    }\n",
       "</style>\n",
       "<table border=\"1\" class=\"dataframe\">\n",
       "  <thead>\n",
       "    <tr style=\"text-align: right;\">\n",
       "      <th></th>\n",
       "      <th>Vendor Name</th>\n",
       "      <th>Category</th>\n",
       "      <th>Count</th>\n",
       "      <th>source</th>\n",
       "      <th>target</th>\n",
       "      <th>sum_value</th>\n",
       "      <th>value_percent</th>\n",
       "    </tr>\n",
       "  </thead>\n",
       "  <tbody>\n",
       "    <tr>\n",
       "      <th>0</th>\n",
       "      <td>AKJ Education</td>\n",
       "      <td>Books</td>\n",
       "      <td>84688</td>\n",
       "      <td>0</td>\n",
       "      <td>3</td>\n",
       "      <td>94733</td>\n",
       "      <td>89.4%</td>\n",
       "    </tr>\n",
       "    <tr>\n",
       "      <th>1</th>\n",
       "      <td>AKJ Education</td>\n",
       "      <td>Computers &amp; Tablets</td>\n",
       "      <td>10045</td>\n",
       "      <td>0</td>\n",
       "      <td>4</td>\n",
       "      <td>94733</td>\n",
       "      <td>10.6%</td>\n",
       "    </tr>\n",
       "    <tr>\n",
       "      <th>2</th>\n",
       "      <td>Amazon</td>\n",
       "      <td>Books</td>\n",
       "      <td>12944</td>\n",
       "      <td>1</td>\n",
       "      <td>3</td>\n",
       "      <td>59259</td>\n",
       "      <td>21.84%</td>\n",
       "    </tr>\n",
       "    <tr>\n",
       "      <th>3</th>\n",
       "      <td>Amazon</td>\n",
       "      <td>Computers &amp; Tablets</td>\n",
       "      <td>42165</td>\n",
       "      <td>1</td>\n",
       "      <td>4</td>\n",
       "      <td>59259</td>\n",
       "      <td>71.15%</td>\n",
       "    </tr>\n",
       "    <tr>\n",
       "      <th>4</th>\n",
       "      <td>Amazon</td>\n",
       "      <td>Other</td>\n",
       "      <td>4150</td>\n",
       "      <td>1</td>\n",
       "      <td>5</td>\n",
       "      <td>59259</td>\n",
       "      <td>7.0%</td>\n",
       "    </tr>\n",
       "    <tr>\n",
       "      <th>5</th>\n",
       "      <td>Flipkart</td>\n",
       "      <td>Books</td>\n",
       "      <td>10230</td>\n",
       "      <td>2</td>\n",
       "      <td>3</td>\n",
       "      <td>10230</td>\n",
       "      <td>100.0%</td>\n",
       "    </tr>\n",
       "  </tbody>\n",
       "</table>\n",
       "</div>"
      ],
      "text/plain": [
       "     Vendor Name             Category  Count  source  target  sum_value  \\\n",
       "0  AKJ Education                Books  84688       0       3      94733   \n",
       "1  AKJ Education  Computers & Tablets  10045       0       4      94733   \n",
       "2         Amazon                Books  12944       1       3      59259   \n",
       "3         Amazon  Computers & Tablets  42165       1       4      59259   \n",
       "4         Amazon                Other   4150       1       5      59259   \n",
       "5       Flipkart                Books  10230       2       3      10230   \n",
       "\n",
       "  value_percent  \n",
       "0         89.4%  \n",
       "1         10.6%  \n",
       "2        21.84%  \n",
       "3        71.15%  \n",
       "4          7.0%  \n",
       "5        100.0%  "
      ]
     },
     "execution_count": 98,
     "metadata": {},
     "output_type": "execute_result"
    }
   ],
   "source": [
    "df['value_percent'] = round(df['Count'] * 100 / df['sum_value'], 2)\n",
    "df['value_percent'] = df['value_percent'].apply(lambda x: f\"{x}%\")\n",
    "df"
   ]
  },
  {
   "cell_type": "code",
   "execution_count": 109,
   "metadata": {},
   "outputs": [
    {
     "data": {
      "application/vnd.plotly.v1+json": {
       "config": {
        "plotlyServerURL": "https://plot.ly"
       },
       "data": [
        {
         "domain": {
          "x": [
           0,
           1
          ],
          "y": [
           0,
           1
          ]
         },
         "link": {
          "color": [
           "rgba(42, 157, 143, 0.2)",
           "rgba(42, 157, 143, 0.2)",
           "rgba(38, 70, 83, 0.2)",
           "rgba(38, 70, 83, 0.2)",
           "rgba(38, 70, 83, 0.2)",
           "rgba(233, 196, 106, 0.2)"
          ],
          "label": [
           "89.4%",
           "10.6%",
           "21.84%",
           "71.15%",
           "7.0%",
           "100.0%"
          ],
          "source": [
           0,
           0,
           1,
           1,
           1,
           2
          ],
          "target": [
           3,
           4,
           3,
           4,
           5,
           3
          ],
          "value": [
           84688,
           10045,
           12944,
           42165,
           4150,
           10230
          ]
         },
         "node": {
          "color": [
           "rgba(42, 157, 143, 1)",
           "rgba(38, 70, 83, 1)",
           "rgba(233, 196, 106, 1)",
           "rgba(244, 162, 97, 1)",
           "rgba(231, 111, 81, 1)",
           "rgba(230, 57, 70, 1)"
          ],
          "label": [
           "AKJ Education",
           "Amazon",
           "Flipkart",
           "Books",
           "Computers & Tablets",
           "Other"
          ],
          "line": {
           "color": "black",
           "width": 0.1
          },
          "pad": 10,
          "thickness": 15
         },
         "orientation": "h",
         "type": "sankey",
         "valueformat": ".0f"
        }
       ],
       "layout": {
        "font": {
         "size": 10
        },
        "height": 772,
        "template": {
         "data": {
          "bar": [
           {
            "error_x": {
             "color": "#2a3f5f"
            },
            "error_y": {
             "color": "#2a3f5f"
            },
            "marker": {
             "line": {
              "color": "#E5ECF6",
              "width": 0.5
             },
             "pattern": {
              "fillmode": "overlay",
              "size": 10,
              "solidity": 0.2
             }
            },
            "type": "bar"
           }
          ],
          "barpolar": [
           {
            "marker": {
             "line": {
              "color": "#E5ECF6",
              "width": 0.5
             },
             "pattern": {
              "fillmode": "overlay",
              "size": 10,
              "solidity": 0.2
             }
            },
            "type": "barpolar"
           }
          ],
          "carpet": [
           {
            "aaxis": {
             "endlinecolor": "#2a3f5f",
             "gridcolor": "white",
             "linecolor": "white",
             "minorgridcolor": "white",
             "startlinecolor": "#2a3f5f"
            },
            "baxis": {
             "endlinecolor": "#2a3f5f",
             "gridcolor": "white",
             "linecolor": "white",
             "minorgridcolor": "white",
             "startlinecolor": "#2a3f5f"
            },
            "type": "carpet"
           }
          ],
          "choropleth": [
           {
            "colorbar": {
             "outlinewidth": 0,
             "ticks": ""
            },
            "type": "choropleth"
           }
          ],
          "contour": [
           {
            "colorbar": {
             "outlinewidth": 0,
             "ticks": ""
            },
            "colorscale": [
             [
              0,
              "#0d0887"
             ],
             [
              0.1111111111111111,
              "#46039f"
             ],
             [
              0.2222222222222222,
              "#7201a8"
             ],
             [
              0.3333333333333333,
              "#9c179e"
             ],
             [
              0.4444444444444444,
              "#bd3786"
             ],
             [
              0.5555555555555556,
              "#d8576b"
             ],
             [
              0.6666666666666666,
              "#ed7953"
             ],
             [
              0.7777777777777778,
              "#fb9f3a"
             ],
             [
              0.8888888888888888,
              "#fdca26"
             ],
             [
              1,
              "#f0f921"
             ]
            ],
            "type": "contour"
           }
          ],
          "contourcarpet": [
           {
            "colorbar": {
             "outlinewidth": 0,
             "ticks": ""
            },
            "type": "contourcarpet"
           }
          ],
          "heatmap": [
           {
            "colorbar": {
             "outlinewidth": 0,
             "ticks": ""
            },
            "colorscale": [
             [
              0,
              "#0d0887"
             ],
             [
              0.1111111111111111,
              "#46039f"
             ],
             [
              0.2222222222222222,
              "#7201a8"
             ],
             [
              0.3333333333333333,
              "#9c179e"
             ],
             [
              0.4444444444444444,
              "#bd3786"
             ],
             [
              0.5555555555555556,
              "#d8576b"
             ],
             [
              0.6666666666666666,
              "#ed7953"
             ],
             [
              0.7777777777777778,
              "#fb9f3a"
             ],
             [
              0.8888888888888888,
              "#fdca26"
             ],
             [
              1,
              "#f0f921"
             ]
            ],
            "type": "heatmap"
           }
          ],
          "heatmapgl": [
           {
            "colorbar": {
             "outlinewidth": 0,
             "ticks": ""
            },
            "colorscale": [
             [
              0,
              "#0d0887"
             ],
             [
              0.1111111111111111,
              "#46039f"
             ],
             [
              0.2222222222222222,
              "#7201a8"
             ],
             [
              0.3333333333333333,
              "#9c179e"
             ],
             [
              0.4444444444444444,
              "#bd3786"
             ],
             [
              0.5555555555555556,
              "#d8576b"
             ],
             [
              0.6666666666666666,
              "#ed7953"
             ],
             [
              0.7777777777777778,
              "#fb9f3a"
             ],
             [
              0.8888888888888888,
              "#fdca26"
             ],
             [
              1,
              "#f0f921"
             ]
            ],
            "type": "heatmapgl"
           }
          ],
          "histogram": [
           {
            "marker": {
             "pattern": {
              "fillmode": "overlay",
              "size": 10,
              "solidity": 0.2
             }
            },
            "type": "histogram"
           }
          ],
          "histogram2d": [
           {
            "colorbar": {
             "outlinewidth": 0,
             "ticks": ""
            },
            "colorscale": [
             [
              0,
              "#0d0887"
             ],
             [
              0.1111111111111111,
              "#46039f"
             ],
             [
              0.2222222222222222,
              "#7201a8"
             ],
             [
              0.3333333333333333,
              "#9c179e"
             ],
             [
              0.4444444444444444,
              "#bd3786"
             ],
             [
              0.5555555555555556,
              "#d8576b"
             ],
             [
              0.6666666666666666,
              "#ed7953"
             ],
             [
              0.7777777777777778,
              "#fb9f3a"
             ],
             [
              0.8888888888888888,
              "#fdca26"
             ],
             [
              1,
              "#f0f921"
             ]
            ],
            "type": "histogram2d"
           }
          ],
          "histogram2dcontour": [
           {
            "colorbar": {
             "outlinewidth": 0,
             "ticks": ""
            },
            "colorscale": [
             [
              0,
              "#0d0887"
             ],
             [
              0.1111111111111111,
              "#46039f"
             ],
             [
              0.2222222222222222,
              "#7201a8"
             ],
             [
              0.3333333333333333,
              "#9c179e"
             ],
             [
              0.4444444444444444,
              "#bd3786"
             ],
             [
              0.5555555555555556,
              "#d8576b"
             ],
             [
              0.6666666666666666,
              "#ed7953"
             ],
             [
              0.7777777777777778,
              "#fb9f3a"
             ],
             [
              0.8888888888888888,
              "#fdca26"
             ],
             [
              1,
              "#f0f921"
             ]
            ],
            "type": "histogram2dcontour"
           }
          ],
          "mesh3d": [
           {
            "colorbar": {
             "outlinewidth": 0,
             "ticks": ""
            },
            "type": "mesh3d"
           }
          ],
          "parcoords": [
           {
            "line": {
             "colorbar": {
              "outlinewidth": 0,
              "ticks": ""
             }
            },
            "type": "parcoords"
           }
          ],
          "pie": [
           {
            "automargin": true,
            "type": "pie"
           }
          ],
          "scatter": [
           {
            "fillpattern": {
             "fillmode": "overlay",
             "size": 10,
             "solidity": 0.2
            },
            "type": "scatter"
           }
          ],
          "scatter3d": [
           {
            "line": {
             "colorbar": {
              "outlinewidth": 0,
              "ticks": ""
             }
            },
            "marker": {
             "colorbar": {
              "outlinewidth": 0,
              "ticks": ""
             }
            },
            "type": "scatter3d"
           }
          ],
          "scattercarpet": [
           {
            "marker": {
             "colorbar": {
              "outlinewidth": 0,
              "ticks": ""
             }
            },
            "type": "scattercarpet"
           }
          ],
          "scattergeo": [
           {
            "marker": {
             "colorbar": {
              "outlinewidth": 0,
              "ticks": ""
             }
            },
            "type": "scattergeo"
           }
          ],
          "scattergl": [
           {
            "marker": {
             "colorbar": {
              "outlinewidth": 0,
              "ticks": ""
             }
            },
            "type": "scattergl"
           }
          ],
          "scattermapbox": [
           {
            "marker": {
             "colorbar": {
              "outlinewidth": 0,
              "ticks": ""
             }
            },
            "type": "scattermapbox"
           }
          ],
          "scatterpolar": [
           {
            "marker": {
             "colorbar": {
              "outlinewidth": 0,
              "ticks": ""
             }
            },
            "type": "scatterpolar"
           }
          ],
          "scatterpolargl": [
           {
            "marker": {
             "colorbar": {
              "outlinewidth": 0,
              "ticks": ""
             }
            },
            "type": "scatterpolargl"
           }
          ],
          "scatterternary": [
           {
            "marker": {
             "colorbar": {
              "outlinewidth": 0,
              "ticks": ""
             }
            },
            "type": "scatterternary"
           }
          ],
          "surface": [
           {
            "colorbar": {
             "outlinewidth": 0,
             "ticks": ""
            },
            "colorscale": [
             [
              0,
              "#0d0887"
             ],
             [
              0.1111111111111111,
              "#46039f"
             ],
             [
              0.2222222222222222,
              "#7201a8"
             ],
             [
              0.3333333333333333,
              "#9c179e"
             ],
             [
              0.4444444444444444,
              "#bd3786"
             ],
             [
              0.5555555555555556,
              "#d8576b"
             ],
             [
              0.6666666666666666,
              "#ed7953"
             ],
             [
              0.7777777777777778,
              "#fb9f3a"
             ],
             [
              0.8888888888888888,
              "#fdca26"
             ],
             [
              1,
              "#f0f921"
             ]
            ],
            "type": "surface"
           }
          ],
          "table": [
           {
            "cells": {
             "fill": {
              "color": "#EBF0F8"
             },
             "line": {
              "color": "white"
             }
            },
            "header": {
             "fill": {
              "color": "#C8D4E3"
             },
             "line": {
              "color": "white"
             }
            },
            "type": "table"
           }
          ]
         },
         "layout": {
          "annotationdefaults": {
           "arrowcolor": "#2a3f5f",
           "arrowhead": 0,
           "arrowwidth": 1
          },
          "autotypenumbers": "strict",
          "coloraxis": {
           "colorbar": {
            "outlinewidth": 0,
            "ticks": ""
           }
          },
          "colorscale": {
           "diverging": [
            [
             0,
             "#8e0152"
            ],
            [
             0.1,
             "#c51b7d"
            ],
            [
             0.2,
             "#de77ae"
            ],
            [
             0.3,
             "#f1b6da"
            ],
            [
             0.4,
             "#fde0ef"
            ],
            [
             0.5,
             "#f7f7f7"
            ],
            [
             0.6,
             "#e6f5d0"
            ],
            [
             0.7,
             "#b8e186"
            ],
            [
             0.8,
             "#7fbc41"
            ],
            [
             0.9,
             "#4d9221"
            ],
            [
             1,
             "#276419"
            ]
           ],
           "sequential": [
            [
             0,
             "#0d0887"
            ],
            [
             0.1111111111111111,
             "#46039f"
            ],
            [
             0.2222222222222222,
             "#7201a8"
            ],
            [
             0.3333333333333333,
             "#9c179e"
            ],
            [
             0.4444444444444444,
             "#bd3786"
            ],
            [
             0.5555555555555556,
             "#d8576b"
            ],
            [
             0.6666666666666666,
             "#ed7953"
            ],
            [
             0.7777777777777778,
             "#fb9f3a"
            ],
            [
             0.8888888888888888,
             "#fdca26"
            ],
            [
             1,
             "#f0f921"
            ]
           ],
           "sequentialminus": [
            [
             0,
             "#0d0887"
            ],
            [
             0.1111111111111111,
             "#46039f"
            ],
            [
             0.2222222222222222,
             "#7201a8"
            ],
            [
             0.3333333333333333,
             "#9c179e"
            ],
            [
             0.4444444444444444,
             "#bd3786"
            ],
            [
             0.5555555555555556,
             "#d8576b"
            ],
            [
             0.6666666666666666,
             "#ed7953"
            ],
            [
             0.7777777777777778,
             "#fb9f3a"
            ],
            [
             0.8888888888888888,
             "#fdca26"
            ],
            [
             1,
             "#f0f921"
            ]
           ]
          },
          "colorway": [
           "#636efa",
           "#EF553B",
           "#00cc96",
           "#ab63fa",
           "#FFA15A",
           "#19d3f3",
           "#FF6692",
           "#B6E880",
           "#FF97FF",
           "#FECB52"
          ],
          "font": {
           "color": "#2a3f5f"
          },
          "geo": {
           "bgcolor": "white",
           "lakecolor": "white",
           "landcolor": "#E5ECF6",
           "showlakes": true,
           "showland": true,
           "subunitcolor": "white"
          },
          "hoverlabel": {
           "align": "left"
          },
          "hovermode": "closest",
          "mapbox": {
           "style": "light"
          },
          "paper_bgcolor": "white",
          "plot_bgcolor": "#E5ECF6",
          "polar": {
           "angularaxis": {
            "gridcolor": "white",
            "linecolor": "white",
            "ticks": ""
           },
           "bgcolor": "#E5ECF6",
           "radialaxis": {
            "gridcolor": "white",
            "linecolor": "white",
            "ticks": ""
           }
          },
          "scene": {
           "xaxis": {
            "backgroundcolor": "#E5ECF6",
            "gridcolor": "white",
            "gridwidth": 2,
            "linecolor": "white",
            "showbackground": true,
            "ticks": "",
            "zerolinecolor": "white"
           },
           "yaxis": {
            "backgroundcolor": "#E5ECF6",
            "gridcolor": "white",
            "gridwidth": 2,
            "linecolor": "white",
            "showbackground": true,
            "ticks": "",
            "zerolinecolor": "white"
           },
           "zaxis": {
            "backgroundcolor": "#E5ECF6",
            "gridcolor": "white",
            "gridwidth": 2,
            "linecolor": "white",
            "showbackground": true,
            "ticks": "",
            "zerolinecolor": "white"
           }
          },
          "shapedefaults": {
           "line": {
            "color": "#2a3f5f"
           }
          },
          "ternary": {
           "aaxis": {
            "gridcolor": "white",
            "linecolor": "white",
            "ticks": ""
           },
           "baxis": {
            "gridcolor": "white",
            "linecolor": "white",
            "ticks": ""
           },
           "bgcolor": "#E5ECF6",
           "caxis": {
            "gridcolor": "white",
            "linecolor": "white",
            "ticks": ""
           }
          },
          "title": {
           "x": 0.05
          },
          "xaxis": {
           "automargin": true,
           "gridcolor": "white",
           "linecolor": "white",
           "ticks": "",
           "title": {
            "standoff": 15
           },
           "zerolinecolor": "white",
           "zerolinewidth": 2
          },
          "yaxis": {
           "automargin": true,
           "gridcolor": "white",
           "linecolor": "white",
           "ticks": "",
           "title": {
            "standoff": 15
           },
           "zerolinecolor": "white",
           "zerolinewidth": 2
          }
         }
        },
        "title": {
         "text": "Draw Sankey Diagram"
        }
       }
      }
     },
     "metadata": {},
     "output_type": "display_data"
    }
   ],
   "source": [
    "# Sankey plot setup\n",
    "fig = go.Figure(data=[go.Sankey(\n",
    "    domain = dict(\n",
    "      x =  [0,1],\n",
    "      y =  [0,1]\n",
    "    ),\n",
    "    orientation = \"h\",\n",
    "    valueformat = \".0f\",\n",
    "    node = dict(\n",
    "      pad = 10,\n",
    "      thickness = 15,\n",
    "      line = dict(color = \"black\", width = 0.1),\n",
    "      label =  list(nodes_with_indexes.keys()),\n",
    "      color = node_colors\n",
    "    ),\n",
    "    link = dict(\n",
    "      source = df['source'],\n",
    "      target = df['target'],\n",
    "      value  = df['Count'],\n",
    "      label = df['value_percent'],\n",
    "      color = link_color\n",
    "  )\n",
    ")])\n",
    "\n",
    "layout = dict(\n",
    "        title = \"Draw Sankey Diagram\",\n",
    "        height = 772,\n",
    "        font = dict(\n",
    "        size = 10),)\n",
    "\n",
    "fig.update_layout(layout)  \n",
    "  "
   ]
  },
  {
   "cell_type": "markdown",
   "metadata": {},
   "source": [
    "## Пример 2"
   ]
  },
  {
   "cell_type": "markdown",
   "metadata": {},
   "source": [
    "### Подготовка данных"
   ]
  },
  {
   "cell_type": "code",
   "execution_count": 110,
   "metadata": {},
   "outputs": [],
   "source": [
    "PATH_TO_CSV = 'https://raw.githubusercontent.com/rusantsovsv/senkey_tutorial/main/csv/senkey_data_tutorial.csv'"
   ]
  },
  {
   "cell_type": "code",
   "execution_count": 111,
   "metadata": {},
   "outputs": [
    {
     "data": {
      "text/html": [
       "<div>\n",
       "<style scoped>\n",
       "    .dataframe tbody tr th:only-of-type {\n",
       "        vertical-align: middle;\n",
       "    }\n",
       "\n",
       "    .dataframe tbody tr th {\n",
       "        vertical-align: top;\n",
       "    }\n",
       "\n",
       "    .dataframe thead th {\n",
       "        text-align: right;\n",
       "    }\n",
       "</style>\n",
       "<table border=\"1\" class=\"dataframe\">\n",
       "  <thead>\n",
       "    <tr style=\"text-align: right;\">\n",
       "      <th></th>\n",
       "      <th>user_id</th>\n",
       "      <th>event_timestamp</th>\n",
       "      <th>event_name</th>\n",
       "    </tr>\n",
       "  </thead>\n",
       "  <tbody>\n",
       "    <tr>\n",
       "      <th>0</th>\n",
       "      <td>0003da5682126e66414958d58022fea7</td>\n",
       "      <td>2021-05-21 18:31:09.677329001</td>\n",
       "      <td>app_opened_via_icon</td>\n",
       "    </tr>\n",
       "    <tr>\n",
       "      <th>1</th>\n",
       "      <td>0003da5682126e66414958d58022fea7</td>\n",
       "      <td>2021-05-21 18:31:09.679674004</td>\n",
       "      <td>history_opened</td>\n",
       "    </tr>\n",
       "    <tr>\n",
       "      <th>2</th>\n",
       "      <td>0003da5682126e66414958d58022fea7</td>\n",
       "      <td>2021-05-21 18:31:09.679818007</td>\n",
       "      <td>sales_category_selected</td>\n",
       "    </tr>\n",
       "    <tr>\n",
       "      <th>3</th>\n",
       "      <td>0003da5682126e66414958d58022fea7</td>\n",
       "      <td>2021-05-21 18:31:09.688039010</td>\n",
       "      <td>app_remove</td>\n",
       "    </tr>\n",
       "    <tr>\n",
       "      <th>4</th>\n",
       "      <td>00058a2e86c1e535e63b980fbda964b3</td>\n",
       "      <td>2021-05-21 18:30:29.121452000</td>\n",
       "      <td>app_remove</td>\n",
       "    </tr>\n",
       "  </tbody>\n",
       "</table>\n",
       "</div>"
      ],
      "text/plain": [
       "                            user_id                event_timestamp  \\\n",
       "0  0003da5682126e66414958d58022fea7  2021-05-21 18:31:09.677329001   \n",
       "1  0003da5682126e66414958d58022fea7  2021-05-21 18:31:09.679674004   \n",
       "2  0003da5682126e66414958d58022fea7  2021-05-21 18:31:09.679818007   \n",
       "3  0003da5682126e66414958d58022fea7  2021-05-21 18:31:09.688039010   \n",
       "4  00058a2e86c1e535e63b980fbda964b3  2021-05-21 18:30:29.121452000   \n",
       "\n",
       "                event_name  \n",
       "0      app_opened_via_icon  \n",
       "1           history_opened  \n",
       "2  sales_category_selected  \n",
       "3               app_remove  \n",
       "4               app_remove  "
      ]
     },
     "execution_count": 111,
     "metadata": {},
     "output_type": "execute_result"
    }
   ],
   "source": [
    "df = pd.read_csv(PATH_TO_CSV)\n",
    "df.head()"
   ]
  },
  {
   "cell_type": "code",
   "execution_count": 112,
   "metadata": {},
   "outputs": [],
   "source": [
    "df.sort_values(['user_id', 'event_timestamp'], inplace=True)"
   ]
  },
  {
   "cell_type": "markdown",
   "metadata": {},
   "source": [
    "добавим шаги событий"
   ]
  },
  {
   "cell_type": "code",
   "execution_count": 113,
   "metadata": {},
   "outputs": [],
   "source": [
    "df['step'] = df.groupby('user_id').cumcount()+1"
   ]
  },
  {
   "cell_type": "markdown",
   "metadata": {},
   "source": [
    "добавим узлы источники (это сами события)"
   ]
  },
  {
   "cell_type": "code",
   "execution_count": 114,
   "metadata": {},
   "outputs": [],
   "source": [
    "df['source'] = df.event_name"
   ]
  },
  {
   "cell_type": "markdown",
   "metadata": {},
   "source": [
    "добавим целевые узлы"
   ]
  },
  {
   "cell_type": "code",
   "execution_count": 115,
   "metadata": {},
   "outputs": [],
   "source": [
    "df['target'] = df.groupby('user_id')['source'].shift(-1)"
   ]
  },
  {
   "cell_type": "markdown",
   "metadata": {},
   "source": [
    "удалим лишнюю колонку `event_name`"
   ]
  },
  {
   "cell_type": "code",
   "execution_count": 116,
   "metadata": {},
   "outputs": [
    {
     "data": {
      "text/html": [
       "<div>\n",
       "<style scoped>\n",
       "    .dataframe tbody tr th:only-of-type {\n",
       "        vertical-align: middle;\n",
       "    }\n",
       "\n",
       "    .dataframe tbody tr th {\n",
       "        vertical-align: top;\n",
       "    }\n",
       "\n",
       "    .dataframe thead th {\n",
       "        text-align: right;\n",
       "    }\n",
       "</style>\n",
       "<table border=\"1\" class=\"dataframe\">\n",
       "  <thead>\n",
       "    <tr style=\"text-align: right;\">\n",
       "      <th></th>\n",
       "      <th>user_id</th>\n",
       "      <th>event_timestamp</th>\n",
       "      <th>step</th>\n",
       "      <th>source</th>\n",
       "      <th>target</th>\n",
       "    </tr>\n",
       "  </thead>\n",
       "  <tbody>\n",
       "    <tr>\n",
       "      <th>0</th>\n",
       "      <td>0003da5682126e66414958d58022fea7</td>\n",
       "      <td>2021-05-21 18:31:09.677329001</td>\n",
       "      <td>1</td>\n",
       "      <td>app_opened_via_icon</td>\n",
       "      <td>history_opened</td>\n",
       "    </tr>\n",
       "    <tr>\n",
       "      <th>1</th>\n",
       "      <td>0003da5682126e66414958d58022fea7</td>\n",
       "      <td>2021-05-21 18:31:09.679674004</td>\n",
       "      <td>2</td>\n",
       "      <td>history_opened</td>\n",
       "      <td>sales_category_selected</td>\n",
       "    </tr>\n",
       "    <tr>\n",
       "      <th>2</th>\n",
       "      <td>0003da5682126e66414958d58022fea7</td>\n",
       "      <td>2021-05-21 18:31:09.679818007</td>\n",
       "      <td>3</td>\n",
       "      <td>sales_category_selected</td>\n",
       "      <td>app_remove</td>\n",
       "    </tr>\n",
       "    <tr>\n",
       "      <th>3</th>\n",
       "      <td>0003da5682126e66414958d58022fea7</td>\n",
       "      <td>2021-05-21 18:31:09.688039010</td>\n",
       "      <td>4</td>\n",
       "      <td>app_remove</td>\n",
       "      <td>NaN</td>\n",
       "    </tr>\n",
       "    <tr>\n",
       "      <th>4</th>\n",
       "      <td>00058a2e86c1e535e63b980fbda964b3</td>\n",
       "      <td>2021-05-21 18:30:29.121452000</td>\n",
       "      <td>1</td>\n",
       "      <td>app_remove</td>\n",
       "      <td>NaN</td>\n",
       "    </tr>\n",
       "  </tbody>\n",
       "</table>\n",
       "</div>"
      ],
      "text/plain": [
       "                            user_id                event_timestamp  step  \\\n",
       "0  0003da5682126e66414958d58022fea7  2021-05-21 18:31:09.677329001     1   \n",
       "1  0003da5682126e66414958d58022fea7  2021-05-21 18:31:09.679674004     2   \n",
       "2  0003da5682126e66414958d58022fea7  2021-05-21 18:31:09.679818007     3   \n",
       "3  0003da5682126e66414958d58022fea7  2021-05-21 18:31:09.688039010     4   \n",
       "4  00058a2e86c1e535e63b980fbda964b3  2021-05-21 18:30:29.121452000     1   \n",
       "\n",
       "                    source                   target  \n",
       "0      app_opened_via_icon           history_opened  \n",
       "1           history_opened  sales_category_selected  \n",
       "2  sales_category_selected               app_remove  \n",
       "3               app_remove                      NaN  \n",
       "4               app_remove                      NaN  "
      ]
     },
     "execution_count": 116,
     "metadata": {},
     "output_type": "execute_result"
    }
   ],
   "source": [
    "df.drop('event_name', axis=1, inplace=True)\n",
    "df.head()"
   ]
  },
  {
   "cell_type": "code",
   "execution_count": 138,
   "metadata": {},
   "outputs": [],
   "source": [
    "# удалим все пары source-target, шаг которых превышает 7\n",
    "# и сохраним полученную таблицу в отдельную переменную\n",
    "df_comp = df[df['step'] <= 7].reset_index(drop=True)"
   ]
  },
  {
   "cell_type": "markdown",
   "metadata": {},
   "source": [
    "### Создание индексов для source"
   ]
  },
  {
   "cell_type": "markdown",
   "metadata": {},
   "source": [
    "Важным следующим шагом в подготовке данных является создание индексов для source.   \n",
    "На каждом следующем шаге target становится source,   \n",
    "и чтобы диаграмма коррректно генерировалась нужна правильная индексация source на каждом шаге."
   ]
  },
  {
   "cell_type": "markdown",
   "metadata": {},
   "source": [
    "у каждого узла индексы испточников не должоны начинаться с нуля,  \n",
    "поэтому нужно проиндексировать все элементы узлов разными индексами"
   ]
  },
  {
   "cell_type": "code",
   "execution_count": 139,
   "metadata": {},
   "outputs": [],
   "source": [
    "source_indexes = {}\n",
    "count = 0\n",
    "\n",
    "# получаем индексы источников\n",
    "for step in df_comp.step.unique():\n",
    "    source_indexes[step] = {}\n",
    "    source_indexes[step]['sources'] = df_comp[df_comp.step == step]['source'].unique().tolist()\n",
    "    source_indexes[step]['sources_index'] = []\n",
    "    for _ in source_indexes[step]['sources']:\n",
    "        source_indexes[step]['sources_index'].append(count)\n",
    "        count += 1\n",
    "# для каждого шага соединим списки в словарь, где ключом будет источник, а значение индекс        \n",
    "for step in source_indexes:\n",
    "    source_indexes[step]['sources_dict'] = {}\n",
    "    for source, indx in zip(source_indexes[step]['sources'], source_indexes[step]['sources_index']):\n",
    "        source_indexes[step]['sources_dict'][source] = indx           "
   ]
  },
  {
   "cell_type": "code",
   "execution_count": 119,
   "metadata": {},
   "outputs": [
    {
     "data": {
      "text/plain": [
       "['app_opened_via_icon',\n",
       " 'app_remove',\n",
       " 'item_opened',\n",
       " 'app_opened_from_market',\n",
       " 'first_open']"
      ]
     },
     "execution_count": 119,
     "metadata": {},
     "output_type": "execute_result"
    }
   ],
   "source": [
    "source_indexes[1]['sources'][:5]"
   ]
  },
  {
   "cell_type": "code",
   "execution_count": 120,
   "metadata": {},
   "outputs": [
    {
     "data": {
      "text/plain": [
       "[0, 1, 2, 3, 4]"
      ]
     },
     "execution_count": 120,
     "metadata": {},
     "output_type": "execute_result"
    }
   ],
   "source": [
    "source_indexes[1]['sources_index'][:5]"
   ]
  },
  {
   "cell_type": "code",
   "execution_count": 121,
   "metadata": {},
   "outputs": [
    {
     "data": {
      "text/plain": [
       "[('app_opened_via_icon', 0),\n",
       " ('app_remove', 1),\n",
       " ('item_opened', 2),\n",
       " ('app_opened_from_market', 3),\n",
       " ('first_open', 4)]"
      ]
     },
     "execution_count": 121,
     "metadata": {},
     "output_type": "execute_result"
    }
   ],
   "source": [
    "list(source_indexes[1]['sources_dict'].items())[:5]"
   ]
  },
  {
   "cell_type": "markdown",
   "metadata": {},
   "source": [
    "### Генерация цветов для source"
   ]
  },
  {
   "cell_type": "markdown",
   "metadata": {},
   "source": [
    "Для более наглядного представления можно разукрасить каждый source-target в разные цвета. Я рассмотрел 2 способа - случайная генерация и ручной выбор цветов.\n",
    "\n",
    "Цвета выберем в цветовой модели RGBA. Это необходимо, чтобы сделать каналы source-target более прозрачными, по отношению к блокам для лучшей читаемости схемы.\n",
    "\n",
    "Цвет будем генерировать для каждого уникального источника."
   ]
  },
  {
   "cell_type": "code",
   "execution_count": 122,
   "metadata": {},
   "outputs": [],
   "source": [
    "def colors_for_sources(df_comp, mode):\n",
    "    \"\"\"Генерация цветов rgba\n",
    "\n",
    "    Args:\n",
    "        mode (str): сгенерировать случайные цвета, если 'random', а если 'custom' - \n",
    "                    использовать заранее подготовленные\n",
    "    Returns:\n",
    "        dict: словарь с цветами, соответствующими каждому индексу\n",
    "    \"\"\"    \n",
    "    colors_dict = {}\n",
    "    \n",
    "    if mode == 'random':\n",
    "        for source in df_comp.source.unique():\n",
    "            r, g, b = np.random.randint(255, size = 3)\n",
    "            colors_dict[source] = f'rgba({r}, {g}, {b}, 1)'\n",
    "    elif mode == 'custom':\n",
    "        # colors = requests.get('https://raw.githubusercontent.com/rusantsovsv/senkey_tutorial/main/json/colors_senkey.json').json()\n",
    "        colors = {\"custom_colors\": [\"rgba(42, 157, 143, 1)\", \"rgba(38, 70, 83, 1)\", \"rgba(233, 196, 106, 1)\", \"rgba(244, 162, 97, 1)\", \"rgba(231, 111, 81, 1)\", \"rgba(230, 57, 70, 1)\", \"rgba(168, 218, 220, 1)\", \"rgba(69, 123, 157, 1)\", \"rgba(29, 53, 87, 1)\", \"rgba(107, 112, 92, 1)\", \"rgba(183, 183, 164, 1)\", \"rgba(221, 190, 169, 1)\", \"rgba(142, 202, 230, 1)\", \"rgba(33, 158, 188, 1)\", \"rgba(2, 48, 71, 1)\", \"rgba(255, 183, 3, 1)\", \"rgba(251, 133, 0, 1)\", \"rgba(153, 217, 140, 1)\", \"rgba(118, 200, 147, 1)\", \"rgba(52, 160, 164, 1)\", \"rgba(26, 117, 159, 1)\", \"rgba(247, 37, 133, 1)\", \"rgba(181, 23, 158, 1)\", \"rgba(114, 9, 183, 1)\", \"rgba(86, 11, 173, 1)\", \"rgba(72, 149, 239, 1)\", \"rgba(76, 201, 240, 1)\", \"rgba(242, 132, 130, 1)\", \"rgba(132, 165, 157, 1)\", \"rgba(246, 189, 96, 1)\", \"rgba(187, 62, 3, 1)\", \"rgba(204, 213, 174, 1)\", \"rgba(233, 237, 201, 1)\", \"rgba(254, 250, 224, 1)\", \"rgba(212, 163, 115, 1)\", \"rgba(96, 108, 56, 1)\", \"rgba(40, 54, 24, 1)\", \"rgba(249, 199, 79, 1)\", \"rgba(144, 190, 109, 1)\", \"rgba(67, 170, 139, 1)\", \"rgba(77, 144, 142, 1)\", \"rgba(87, 117, 144, 1)\", \"rgba(39, 125, 161, 1)\", \"rgba(239, 71, 111, 1)\", \"rgba(255, 209, 102, 1)\", \"rgba(6, 214, 160, 1)\", \"rgba(17, 138, 178, 1)\", \"rgba(7, 59, 76, 1)\", \"rgba(0, 53, 102, 1)\", \"rgba(226, 175, 255, 1)\", \"rgba(248, 173, 157, 1)\", \"rgba(211, 211, 211, 1)\", \"rgba(254, 228, 64, 1)\", \"rgba(241, 91, 181, 1)\", \"rgba(155, 93, 229, 1)\", \"rgba(0, 187, 249, 1)\", \"rgba(0, 245, 212, 1)\", \"rgba(130, 192, 204, 1)\", \"rgba(128, 185, 24, 1)\", \"rgba(43, 147, 72, 1)\"]}\n",
    "        for i, source in enumerate(df_comp.source.unique()):\n",
    "            colors_dict[source] = colors[\"custom_colors\"][i]\n",
    "    return colors_dict            "
   ]
  },
  {
   "cell_type": "code",
   "execution_count": null,
   "metadata": {},
   "outputs": [],
   "source": [
    "# генерим цвета\n",
    "colors_dict = colors_for_sources(df_comp, mode='custom')\n",
    "colors_dict"
   ]
  },
  {
   "cell_type": "markdown",
   "metadata": {},
   "source": [
    "### Создаем словарь с данными"
   ]
  },
  {
   "cell_type": "markdown",
   "metadata": {},
   "source": [
    "Диаграмму будем отрисовывать с помощью Plotly. Для корректной (и более полной) отрисовки нужны следующие данные:\n",
    "\n",
    "sources - список с индексами source;\n",
    "\n",
    "targets - список с индексами target;\n",
    "\n",
    "values - количество уникальных пользователей, совершивших переход между узлами source-target (\"объем\" потока между узлами);\n",
    "\n",
    "labels - названия узлов;\n",
    "\n",
    "colors_labels - цвет узлов;\n",
    "\n",
    "link_color - цвет потоков между узлами;\n",
    "\n",
    "link_text - дополнительная информация."
   ]
  },
  {
   "cell_type": "markdown",
   "metadata": {},
   "source": [
    "Также не будем брать переходы, с малым количеством пользователей  \n",
    "для этого используемтся параметр `frac`"
   ]
  },
  {
   "cell_type": "code",
   "execution_count": 124,
   "metadata": {},
   "outputs": [],
   "source": [
    "def percent_users(sources, targets, values):\n",
    "    \n",
    "    \"\"\"\n",
    "    Расчет уникальных id в процентах (для вывода в hover text каждого узла)\n",
    "    \n",
    "    Args:\n",
    "        sources (list): список с индексами source.\n",
    "        targets (list): список с индексами target.\n",
    "        values (list): список с \"объемами\" потоков.\n",
    "        \n",
    "    Returns:\n",
    "        list: список с \"объемами\" потоков в процентах\n",
    "    \"\"\"\n",
    "    \n",
    "    # объединим источники и метки и найдем пары\n",
    "    zip_lists = list(zip(sources, targets, values))\n",
    "    \n",
    "    new_list = []\n",
    "    \n",
    "    # подготовим список словарь с общим объемом трафика в узлах\n",
    "    unique_dict = {}\n",
    "    \n",
    "    # проходим по каждому узлу\n",
    "    for source, target, value in zip_lists:\n",
    "        if source not in unique_dict:\n",
    "            # находим все источники и считаем общий трафик\n",
    "            unique_dict[source] = 0\n",
    "            for sr, tg, vl in zip_lists:\n",
    "                if sr == source:\n",
    "                    unique_dict[source] += vl\n",
    "                    \n",
    "    # считаем проценты\n",
    "    for source, target, value in zip_lists:\n",
    "        new_list.append(round(100 * value / unique_dict[source], 1))\n",
    "    \n",
    "    return new_list\n",
    "        "
   ]
  },
  {
   "cell_type": "code",
   "execution_count": 131,
   "metadata": {},
   "outputs": [],
   "source": [
    "def lists_for_plot(df_comp, source_indexes, colors, frac=10):\n",
    "    \n",
    "    \"\"\"\n",
    "    Создаем необходимые для отрисовки диаграммы переменные списков и возвращаем\n",
    "    их в виде словаря\n",
    "    \n",
    "    Args:\n",
    "        source_indexes (dict): словарь с именами и индексами source.\n",
    "        colors (dict): словарь с цветами source.\n",
    "        frac (int): ограничение на минимальный \"объем\" между узлами.\n",
    "        \n",
    "    Returns:\n",
    "        dict: словарь со списками, необходимыми для диаграммы.\n",
    "    \"\"\"\n",
    "    \n",
    "    sources = []\n",
    "    targets = []\n",
    "    values = []\n",
    "    labels = []\n",
    "    link_color = []\n",
    "    link_text = []\n",
    "    \n",
    "    # проходим по каждому шагу\n",
    "    for step in tqdm(sorted(df_comp['step'].unique()), desc='Шаг'):\n",
    "        # номер шага больше, чем мы взяли, то пропускаем итерацию\n",
    "        if step + 1 not in source_indexes:\n",
    "            continue\n",
    "        # получаем индекс источника\n",
    "        temp_dict_source = source_indexes[step]['sources_dict']\n",
    "\n",
    "        # получаем индексы цели\n",
    "        temp_dict_target = source_indexes[step+1]['sources_dict']\n",
    "        \n",
    "        # проходим по каждой возможной паре, считаем количество таких пар\n",
    "        for source, index_source in tqdm(temp_dict_source.items()):\n",
    "            for target, index_target in temp_dict_target.items():\n",
    "                # делаем срез данных и считаем количество id            \n",
    "                temp_df = df_comp[(df_comp['step'] == step)&(df_comp['source'] == source)&(df_comp['target'] == target)]\n",
    "                value = len(temp_df)\n",
    "                # проверяем минимальный объем потока и добавляем нужные данные\n",
    "                if value > frac:\n",
    "                    sources.append(index_source)\n",
    "                    targets.append(index_target)\n",
    "                    values.append(value)\n",
    "                    # делаем поток прозрачным для лучшего отображения\n",
    "                    link_color.append(colors[source].replace(', 1)', ', 0.2)'))\n",
    "    labels = []\n",
    "    colors_labels = []\n",
    "    for step in source_indexes:\n",
    "        for name in source_indexes[step]['sources']:\n",
    "            labels.append(name)\n",
    "            colors_labels.append(colors[name])\n",
    "            \n",
    "    # посчитаем проценты всех потоков\n",
    "    perc_values = percent_users(sources, targets, values)\n",
    "    \n",
    "    # добавим значения процентов для howertext\n",
    "    link_text = []\n",
    "    for perc in perc_values:\n",
    "        link_text.append(f\"{perc}%\")\n",
    "    \n",
    "    # возвратим словарь с вложенными списками\n",
    "    return {'sources': sources, \n",
    "            'targets': targets, \n",
    "            'values': values, \n",
    "            'labels': labels, \n",
    "            'colors_labels': colors_labels, \n",
    "            'link_color': link_color, \n",
    "            'link_text': link_text}\n",
    "        "
   ]
  },
  {
   "cell_type": "code",
   "execution_count": 142,
   "metadata": {},
   "outputs": [
    {
     "data": {
      "application/vnd.jupyter.widget-view+json": {
       "model_id": "55b4591fa27a4ff4a2c4e3125584a987",
       "version_major": 2,
       "version_minor": 0
      },
      "text/plain": [
       "Шаг:   0%|          | 0/7 [00:00<?, ?it/s]"
      ]
     },
     "metadata": {},
     "output_type": "display_data"
    },
    {
     "data": {
      "application/vnd.jupyter.widget-view+json": {
       "model_id": "dd4625da74dc4394abb4f35fe938651c",
       "version_major": 2,
       "version_minor": 0
      },
      "text/plain": [
       "  0%|          | 0/20 [00:00<?, ?it/s]"
      ]
     },
     "metadata": {},
     "output_type": "display_data"
    },
    {
     "data": {
      "application/vnd.jupyter.widget-view+json": {
       "model_id": "ec9879b8814949328967c256a18fd502",
       "version_major": 2,
       "version_minor": 0
      },
      "text/plain": [
       "  0%|          | 0/28 [00:00<?, ?it/s]"
      ]
     },
     "metadata": {},
     "output_type": "display_data"
    },
    {
     "data": {
      "application/vnd.jupyter.widget-view+json": {
       "model_id": "6487acb55d8248fd8c74b1107df8b982",
       "version_major": 2,
       "version_minor": 0
      },
      "text/plain": [
       "  0%|          | 0/31 [00:00<?, ?it/s]"
      ]
     },
     "metadata": {},
     "output_type": "display_data"
    },
    {
     "data": {
      "application/vnd.jupyter.widget-view+json": {
       "model_id": "5a3eda52b88b40a8b19c5d2484e29d90",
       "version_major": 2,
       "version_minor": 0
      },
      "text/plain": [
       "  0%|          | 0/34 [00:00<?, ?it/s]"
      ]
     },
     "metadata": {},
     "output_type": "display_data"
    },
    {
     "data": {
      "application/vnd.jupyter.widget-view+json": {
       "model_id": "1874d915b0404869a25cbd439c7d3921",
       "version_major": 2,
       "version_minor": 0
      },
      "text/plain": [
       "  0%|          | 0/35 [00:00<?, ?it/s]"
      ]
     },
     "metadata": {},
     "output_type": "display_data"
    },
    {
     "data": {
      "application/vnd.jupyter.widget-view+json": {
       "model_id": "f1983fa3f39d483688c938240395a2c1",
       "version_major": 2,
       "version_minor": 0
      },
      "text/plain": [
       "  0%|          | 0/35 [00:00<?, ?it/s]"
      ]
     },
     "metadata": {},
     "output_type": "display_data"
    }
   ],
   "source": [
    "# создаем словарь\n",
    "data_for_plot = lists_for_plot(df_comp, source_indexes, colors_dict)"
   ]
  },
  {
   "cell_type": "markdown",
   "metadata": {},
   "source": [
    "Теперь создадим функцию, которая создаст объект plotly (сам график)"
   ]
  },
  {
   "cell_type": "code",
   "execution_count": 145,
   "metadata": {},
   "outputs": [],
   "source": [
    "def plot_senkey_diagram(data_dict):    \n",
    "    \n",
    "    \"\"\"\n",
    "    Функция для генерации объекта диаграммы Сенкей \n",
    "    \n",
    "    Args:\n",
    "        data_dict (dict): словарь со списками данных для построения.\n",
    "        \n",
    "    Returns:\n",
    "        plotly.graph_objs._figure.Figure: объект изображения.\n",
    "    \"\"\"\n",
    "    \n",
    "    fig = go.Figure(data=[go.Sankey(\n",
    "        domain = dict(\n",
    "          x =  [0,1],\n",
    "          y =  [0,1]\n",
    "        ),\n",
    "        orientation = \"h\",\n",
    "        valueformat = \".0f\",\n",
    "        node = dict(\n",
    "          pad = 50,\n",
    "          thickness = 15,\n",
    "          line = dict(color = \"black\", width = 0.1),\n",
    "          label = data_dict['labels'],\n",
    "          color = data_dict['colors_labels']\n",
    "        ),\n",
    "        link = dict(\n",
    "          source = data_dict['sources'],\n",
    "          target = data_dict['targets'],\n",
    "          value = data_dict['values'],\n",
    "          label = data_dict['link_text'],\n",
    "          color = data_dict['link_color']\n",
    "      ))])\n",
    "    fig.update_layout(title_text=\"Sankey Diagram\", font_size=10, width=3000, height=1200)\n",
    "    \n",
    "    # возвращаем объект диаграммы\n",
    "    return fig\n",
    "  "
   ]
  },
  {
   "cell_type": "code",
   "execution_count": 146,
   "metadata": {},
   "outputs": [],
   "source": [
    "\n",
    "# сохраняем диаграмму в переменную\n",
    "senkey_diagram = plot_senkey_diagram(data_for_plot)"
   ]
  },
  {
   "cell_type": "code",
   "execution_count": 147,
   "metadata": {},
   "outputs": [
    {
     "data": {
      "application/vnd.plotly.v1+json": {
       "config": {
        "plotlyServerURL": "https://plot.ly"
       },
       "data": [
        {
         "domain": {
          "x": [
           0,
           1
          ],
          "y": [
           0,
           1
          ]
         },
         "link": {
          "color": [
           "rgba(42, 157, 143, 0.2)",
           "rgba(42, 157, 143, 0.2)",
           "rgba(42, 157, 143, 0.2)",
           "rgba(42, 157, 143, 0.2)",
           "rgba(42, 157, 143, 0.2)",
           "rgba(42, 157, 143, 0.2)",
           "rgba(42, 157, 143, 0.2)",
           "rgba(42, 157, 143, 0.2)",
           "rgba(168, 218, 220, 0.2)",
           "rgba(168, 218, 220, 0.2)",
           "rgba(168, 218, 220, 0.2)",
           "rgba(168, 218, 220, 0.2)",
           "rgba(69, 123, 157, 0.2)",
           "rgba(69, 123, 157, 0.2)",
           "rgba(26, 117, 159, 0.2)",
           "rgba(26, 117, 159, 0.2)",
           "rgba(247, 37, 133, 0.2)",
           "rgba(247, 37, 133, 0.2)",
           "rgba(38, 70, 83, 0.2)",
           "rgba(29, 53, 87, 0.2)",
           "rgba(233, 196, 106, 0.2)",
           "rgba(233, 196, 106, 0.2)",
           "rgba(183, 183, 164, 0.2)",
           "rgba(118, 200, 147, 0.2)",
           "rgba(38, 70, 83, 0.2)",
           "rgba(38, 70, 83, 0.2)",
           "rgba(38, 70, 83, 0.2)",
           "rgba(69, 123, 157, 0.2)",
           "rgba(69, 123, 157, 0.2)",
           "rgba(69, 123, 157, 0.2)",
           "rgba(69, 123, 157, 0.2)",
           "rgba(69, 123, 157, 0.2)",
           "rgba(69, 123, 157, 0.2)",
           "rgba(69, 123, 157, 0.2)",
           "rgba(69, 123, 157, 0.2)",
           "rgba(69, 123, 157, 0.2)",
           "rgba(233, 196, 106, 0.2)",
           "rgba(233, 196, 106, 0.2)",
           "rgba(233, 196, 106, 0.2)",
           "rgba(233, 196, 106, 0.2)",
           "rgba(233, 196, 106, 0.2)",
           "rgba(233, 196, 106, 0.2)",
           "rgba(233, 196, 106, 0.2)",
           "rgba(233, 196, 106, 0.2)",
           "rgba(233, 196, 106, 0.2)",
           "rgba(233, 196, 106, 0.2)",
           "rgba(118, 200, 147, 0.2)",
           "rgba(118, 200, 147, 0.2)",
           "rgba(168, 218, 220, 0.2)",
           "rgba(168, 218, 220, 0.2)",
           "rgba(168, 218, 220, 0.2)",
           "rgba(168, 218, 220, 0.2)",
           "rgba(168, 218, 220, 0.2)",
           "rgba(42, 157, 143, 0.2)",
           "rgba(42, 157, 143, 0.2)",
           "rgba(42, 157, 143, 0.2)",
           "rgba(42, 157, 143, 0.2)",
           "rgba(42, 157, 143, 0.2)",
           "rgba(247, 37, 133, 0.2)",
           "rgba(29, 53, 87, 0.2)",
           "rgba(29, 53, 87, 0.2)",
           "rgba(29, 53, 87, 0.2)",
           "rgba(183, 183, 164, 0.2)",
           "rgba(221, 190, 169, 0.2)",
           "rgba(221, 190, 169, 0.2)",
           "rgba(233, 196, 106, 0.2)",
           "rgba(233, 196, 106, 0.2)",
           "rgba(233, 196, 106, 0.2)",
           "rgba(233, 196, 106, 0.2)",
           "rgba(233, 196, 106, 0.2)",
           "rgba(233, 196, 106, 0.2)",
           "rgba(233, 196, 106, 0.2)",
           "rgba(233, 196, 106, 0.2)",
           "rgba(233, 196, 106, 0.2)",
           "rgba(233, 196, 106, 0.2)",
           "rgba(233, 196, 106, 0.2)",
           "rgba(233, 196, 106, 0.2)",
           "rgba(233, 196, 106, 0.2)",
           "rgba(29, 53, 87, 0.2)",
           "rgba(29, 53, 87, 0.2)",
           "rgba(29, 53, 87, 0.2)",
           "rgba(29, 53, 87, 0.2)",
           "rgba(29, 53, 87, 0.2)",
           "rgba(29, 53, 87, 0.2)",
           "rgba(183, 183, 164, 0.2)",
           "rgba(183, 183, 164, 0.2)",
           "rgba(183, 183, 164, 0.2)",
           "rgba(183, 183, 164, 0.2)",
           "rgba(183, 183, 164, 0.2)",
           "rgba(183, 183, 164, 0.2)",
           "rgba(183, 183, 164, 0.2)",
           "rgba(230, 57, 70, 0.2)",
           "rgba(230, 57, 70, 0.2)",
           "rgba(230, 57, 70, 0.2)",
           "rgba(230, 57, 70, 0.2)",
           "rgba(251, 133, 0, 0.2)",
           "rgba(251, 133, 0, 0.2)",
           "rgba(251, 133, 0, 0.2)",
           "rgba(118, 200, 147, 0.2)",
           "rgba(118, 200, 147, 0.2)",
           "rgba(168, 218, 220, 0.2)",
           "rgba(168, 218, 220, 0.2)",
           "rgba(168, 218, 220, 0.2)",
           "rgba(168, 218, 220, 0.2)",
           "rgba(168, 218, 220, 0.2)",
           "rgba(221, 190, 169, 0.2)",
           "rgba(221, 190, 169, 0.2)",
           "rgba(221, 190, 169, 0.2)",
           "rgba(221, 190, 169, 0.2)",
           "rgba(221, 190, 169, 0.2)",
           "rgba(221, 190, 169, 0.2)",
           "rgba(221, 190, 169, 0.2)",
           "rgba(221, 190, 169, 0.2)",
           "rgba(69, 123, 157, 0.2)",
           "rgba(69, 123, 157, 0.2)",
           "rgba(69, 123, 157, 0.2)",
           "rgba(69, 123, 157, 0.2)",
           "rgba(38, 70, 83, 0.2)",
           "rgba(38, 70, 83, 0.2)",
           "rgba(38, 70, 83, 0.2)",
           "rgba(38, 70, 83, 0.2)",
           "rgba(38, 70, 83, 0.2)",
           "rgba(38, 70, 83, 0.2)",
           "rgba(38, 70, 83, 0.2)",
           "rgba(2, 48, 71, 0.2)",
           "rgba(2, 48, 71, 0.2)",
           "rgba(132, 165, 157, 0.2)",
           "rgba(42, 157, 143, 0.2)",
           "rgba(42, 157, 143, 0.2)",
           "rgba(42, 157, 143, 0.2)",
           "rgba(231, 111, 81, 0.2)",
           "rgba(153, 217, 140, 0.2)",
           "rgba(231, 111, 81, 0.2)",
           "rgba(231, 111, 81, 0.2)",
           "rgba(231, 111, 81, 0.2)",
           "rgba(231, 111, 81, 0.2)",
           "rgba(231, 111, 81, 0.2)",
           "rgba(107, 112, 92, 0.2)",
           "rgba(107, 112, 92, 0.2)",
           "rgba(38, 70, 83, 0.2)",
           "rgba(38, 70, 83, 0.2)",
           "rgba(38, 70, 83, 0.2)",
           "rgba(38, 70, 83, 0.2)",
           "rgba(38, 70, 83, 0.2)",
           "rgba(38, 70, 83, 0.2)",
           "rgba(38, 70, 83, 0.2)",
           "rgba(221, 190, 169, 0.2)",
           "rgba(221, 190, 169, 0.2)",
           "rgba(221, 190, 169, 0.2)",
           "rgba(221, 190, 169, 0.2)",
           "rgba(221, 190, 169, 0.2)",
           "rgba(221, 190, 169, 0.2)",
           "rgba(221, 190, 169, 0.2)",
           "rgba(221, 190, 169, 0.2)",
           "rgba(221, 190, 169, 0.2)",
           "rgba(2, 48, 71, 0.2)",
           "rgba(2, 48, 71, 0.2)",
           "rgba(2, 48, 71, 0.2)",
           "rgba(2, 48, 71, 0.2)",
           "rgba(2, 48, 71, 0.2)",
           "rgba(2, 48, 71, 0.2)",
           "rgba(29, 53, 87, 0.2)",
           "rgba(29, 53, 87, 0.2)",
           "rgba(29, 53, 87, 0.2)",
           "rgba(29, 53, 87, 0.2)",
           "rgba(29, 53, 87, 0.2)",
           "rgba(29, 53, 87, 0.2)",
           "rgba(29, 53, 87, 0.2)",
           "rgba(153, 217, 140, 0.2)",
           "rgba(153, 217, 140, 0.2)",
           "rgba(153, 217, 140, 0.2)",
           "rgba(153, 217, 140, 0.2)",
           "rgba(153, 217, 140, 0.2)",
           "rgba(233, 196, 106, 0.2)",
           "rgba(233, 196, 106, 0.2)",
           "rgba(233, 196, 106, 0.2)",
           "rgba(233, 196, 106, 0.2)",
           "rgba(233, 196, 106, 0.2)",
           "rgba(233, 196, 106, 0.2)",
           "rgba(233, 196, 106, 0.2)",
           "rgba(183, 183, 164, 0.2)",
           "rgba(183, 183, 164, 0.2)",
           "rgba(183, 183, 164, 0.2)",
           "rgba(183, 183, 164, 0.2)",
           "rgba(183, 183, 164, 0.2)",
           "rgba(183, 183, 164, 0.2)",
           "rgba(183, 183, 164, 0.2)",
           "rgba(183, 183, 164, 0.2)",
           "rgba(183, 183, 164, 0.2)",
           "rgba(69, 123, 157, 0.2)",
           "rgba(69, 123, 157, 0.2)",
           "rgba(69, 123, 157, 0.2)",
           "rgba(69, 123, 157, 0.2)",
           "rgba(181, 23, 158, 0.2)",
           "rgba(181, 23, 158, 0.2)",
           "rgba(168, 218, 220, 0.2)",
           "rgba(168, 218, 220, 0.2)",
           "rgba(168, 218, 220, 0.2)",
           "rgba(168, 218, 220, 0.2)",
           "rgba(168, 218, 220, 0.2)",
           "rgba(168, 218, 220, 0.2)",
           "rgba(168, 218, 220, 0.2)",
           "rgba(168, 218, 220, 0.2)",
           "rgba(42, 157, 143, 0.2)",
           "rgba(42, 157, 143, 0.2)",
           "rgba(230, 57, 70, 0.2)",
           "rgba(230, 57, 70, 0.2)",
           "rgba(230, 57, 70, 0.2)",
           "rgba(230, 57, 70, 0.2)",
           "rgba(230, 57, 70, 0.2)",
           "rgba(230, 57, 70, 0.2)",
           "rgba(230, 57, 70, 0.2)",
           "rgba(230, 57, 70, 0.2)",
           "rgba(230, 57, 70, 0.2)",
           "rgba(251, 133, 0, 0.2)",
           "rgba(251, 133, 0, 0.2)",
           "rgba(251, 133, 0, 0.2)",
           "rgba(118, 200, 147, 0.2)",
           "rgba(118, 200, 147, 0.2)",
           "rgba(118, 200, 147, 0.2)",
           "rgba(187, 62, 3, 0.2)",
           "rgba(187, 62, 3, 0.2)",
           "rgba(255, 183, 3, 0.2)",
           "rgba(255, 183, 3, 0.2)",
           "rgba(142, 202, 230, 0.2)",
           "rgba(246, 189, 96, 0.2)",
           "rgba(254, 250, 224, 0.2)",
           "rgba(254, 250, 224, 0.2)",
           "rgba(230, 57, 70, 0.2)",
           "rgba(230, 57, 70, 0.2)",
           "rgba(230, 57, 70, 0.2)",
           "rgba(230, 57, 70, 0.2)",
           "rgba(230, 57, 70, 0.2)",
           "rgba(230, 57, 70, 0.2)",
           "rgba(230, 57, 70, 0.2)",
           "rgba(107, 112, 92, 0.2)",
           "rgba(107, 112, 92, 0.2)",
           "rgba(107, 112, 92, 0.2)",
           "rgba(107, 112, 92, 0.2)",
           "rgba(107, 112, 92, 0.2)",
           "rgba(233, 196, 106, 0.2)",
           "rgba(233, 196, 106, 0.2)",
           "rgba(233, 196, 106, 0.2)",
           "rgba(233, 196, 106, 0.2)",
           "rgba(233, 196, 106, 0.2)",
           "rgba(233, 196, 106, 0.2)",
           "rgba(142, 202, 230, 0.2)",
           "rgba(142, 202, 230, 0.2)",
           "rgba(142, 202, 230, 0.2)",
           "rgba(142, 202, 230, 0.2)",
           "rgba(142, 202, 230, 0.2)",
           "rgba(142, 202, 230, 0.2)",
           "rgba(142, 202, 230, 0.2)",
           "rgba(142, 202, 230, 0.2)",
           "rgba(255, 183, 3, 0.2)",
           "rgba(255, 183, 3, 0.2)",
           "rgba(255, 183, 3, 0.2)",
           "rgba(221, 190, 169, 0.2)",
           "rgba(221, 190, 169, 0.2)",
           "rgba(221, 190, 169, 0.2)",
           "rgba(221, 190, 169, 0.2)",
           "rgba(221, 190, 169, 0.2)",
           "rgba(221, 190, 169, 0.2)",
           "rgba(221, 190, 169, 0.2)",
           "rgba(221, 190, 169, 0.2)",
           "rgba(221, 190, 169, 0.2)",
           "rgba(168, 218, 220, 0.2)",
           "rgba(168, 218, 220, 0.2)",
           "rgba(168, 218, 220, 0.2)",
           "rgba(168, 218, 220, 0.2)",
           "rgba(168, 218, 220, 0.2)",
           "rgba(168, 218, 220, 0.2)",
           "rgba(168, 218, 220, 0.2)",
           "rgba(118, 200, 147, 0.2)",
           "rgba(118, 200, 147, 0.2)",
           "rgba(183, 183, 164, 0.2)",
           "rgba(183, 183, 164, 0.2)",
           "rgba(183, 183, 164, 0.2)",
           "rgba(183, 183, 164, 0.2)",
           "rgba(183, 183, 164, 0.2)",
           "rgba(183, 183, 164, 0.2)",
           "rgba(29, 53, 87, 0.2)",
           "rgba(29, 53, 87, 0.2)",
           "rgba(29, 53, 87, 0.2)",
           "rgba(29, 53, 87, 0.2)",
           "rgba(29, 53, 87, 0.2)",
           "rgba(29, 53, 87, 0.2)",
           "rgba(29, 53, 87, 0.2)",
           "rgba(29, 53, 87, 0.2)",
           "rgba(181, 23, 158, 0.2)",
           "rgba(181, 23, 158, 0.2)",
           "rgba(181, 23, 158, 0.2)",
           "rgba(38, 70, 83, 0.2)",
           "rgba(38, 70, 83, 0.2)",
           "rgba(38, 70, 83, 0.2)",
           "rgba(38, 70, 83, 0.2)",
           "rgba(38, 70, 83, 0.2)",
           "rgba(38, 70, 83, 0.2)",
           "rgba(38, 70, 83, 0.2)",
           "rgba(153, 217, 140, 0.2)",
           "rgba(153, 217, 140, 0.2)",
           "rgba(153, 217, 140, 0.2)",
           "rgba(72, 149, 239, 0.2)",
           "rgba(52, 160, 164, 0.2)",
           "rgba(52, 160, 164, 0.2)",
           "rgba(52, 160, 164, 0.2)",
           "rgba(52, 160, 164, 0.2)",
           "rgba(52, 160, 164, 0.2)",
           "rgba(42, 157, 143, 0.2)",
           "rgba(42, 157, 143, 0.2)",
           "rgba(69, 123, 157, 0.2)",
           "rgba(69, 123, 157, 0.2)",
           "rgba(69, 123, 157, 0.2)",
           "rgba(69, 123, 157, 0.2)",
           "rgba(69, 123, 157, 0.2)",
           "rgba(76, 201, 240, 0.2)",
           "rgba(114, 9, 183, 0.2)",
           "rgba(114, 9, 183, 0.2)",
           "rgba(114, 9, 183, 0.2)",
           "rgba(114, 9, 183, 0.2)",
           "rgba(114, 9, 183, 0.2)",
           "rgba(2, 48, 71, 0.2)",
           "rgba(2, 48, 71, 0.2)",
           "rgba(2, 48, 71, 0.2)",
           "rgba(2, 48, 71, 0.2)",
           "rgba(2, 48, 71, 0.2)",
           "rgba(187, 62, 3, 0.2)",
           "rgba(187, 62, 3, 0.2)",
           "rgba(187, 62, 3, 0.2)",
           "rgba(33, 158, 188, 0.2)",
           "rgba(33, 158, 188, 0.2)",
           "rgba(33, 158, 188, 0.2)",
           "rgba(33, 158, 188, 0.2)",
           "rgba(33, 158, 188, 0.2)",
           "rgba(251, 133, 0, 0.2)",
           "rgba(251, 133, 0, 0.2)",
           "rgba(251, 133, 0, 0.2)",
           "rgba(251, 133, 0, 0.2)",
           "rgba(251, 133, 0, 0.2)",
           "rgba(246, 189, 96, 0.2)",
           "rgba(246, 189, 96, 0.2)",
           "rgba(246, 189, 96, 0.2)",
           "rgba(254, 250, 224, 0.2)",
           "rgba(254, 250, 224, 0.2)",
           "rgba(254, 250, 224, 0.2)",
           "rgba(231, 111, 81, 0.2)",
           "rgba(231, 111, 81, 0.2)",
           "rgba(38, 70, 83, 0.2)",
           "rgba(38, 70, 83, 0.2)",
           "rgba(38, 70, 83, 0.2)",
           "rgba(38, 70, 83, 0.2)",
           "rgba(38, 70, 83, 0.2)",
           "rgba(38, 70, 83, 0.2)",
           "rgba(221, 190, 169, 0.2)",
           "rgba(221, 190, 169, 0.2)",
           "rgba(221, 190, 169, 0.2)",
           "rgba(221, 190, 169, 0.2)",
           "rgba(221, 190, 169, 0.2)",
           "rgba(221, 190, 169, 0.2)",
           "rgba(221, 190, 169, 0.2)",
           "rgba(221, 190, 169, 0.2)",
           "rgba(221, 190, 169, 0.2)",
           "rgba(221, 190, 169, 0.2)",
           "rgba(107, 112, 92, 0.2)",
           "rgba(107, 112, 92, 0.2)",
           "rgba(107, 112, 92, 0.2)",
           "rgba(107, 112, 92, 0.2)",
           "rgba(107, 112, 92, 0.2)",
           "rgba(230, 57, 70, 0.2)",
           "rgba(230, 57, 70, 0.2)",
           "rgba(230, 57, 70, 0.2)",
           "rgba(230, 57, 70, 0.2)",
           "rgba(230, 57, 70, 0.2)",
           "rgba(230, 57, 70, 0.2)",
           "rgba(230, 57, 70, 0.2)",
           "rgba(230, 57, 70, 0.2)",
           "rgba(142, 202, 230, 0.2)",
           "rgba(142, 202, 230, 0.2)",
           "rgba(142, 202, 230, 0.2)",
           "rgba(142, 202, 230, 0.2)",
           "rgba(142, 202, 230, 0.2)",
           "rgba(142, 202, 230, 0.2)",
           "rgba(142, 202, 230, 0.2)",
           "rgba(233, 196, 106, 0.2)",
           "rgba(233, 196, 106, 0.2)",
           "rgba(233, 196, 106, 0.2)",
           "rgba(233, 196, 106, 0.2)",
           "rgba(233, 196, 106, 0.2)",
           "rgba(233, 196, 106, 0.2)",
           "rgba(233, 196, 106, 0.2)",
           "rgba(233, 196, 106, 0.2)",
           "rgba(183, 183, 164, 0.2)",
           "rgba(183, 183, 164, 0.2)",
           "rgba(183, 183, 164, 0.2)",
           "rgba(183, 183, 164, 0.2)",
           "rgba(183, 183, 164, 0.2)",
           "rgba(183, 183, 164, 0.2)",
           "rgba(183, 183, 164, 0.2)",
           "rgba(183, 183, 164, 0.2)",
           "rgba(183, 183, 164, 0.2)",
           "rgba(118, 200, 147, 0.2)",
           "rgba(118, 200, 147, 0.2)",
           "rgba(118, 200, 147, 0.2)",
           "rgba(33, 158, 188, 0.2)",
           "rgba(33, 158, 188, 0.2)",
           "rgba(33, 158, 188, 0.2)",
           "rgba(33, 158, 188, 0.2)",
           "rgba(33, 158, 188, 0.2)",
           "rgba(33, 158, 188, 0.2)",
           "rgba(33, 158, 188, 0.2)",
           "rgba(33, 158, 188, 0.2)",
           "rgba(33, 158, 188, 0.2)",
           "rgba(52, 160, 164, 0.2)",
           "rgba(52, 160, 164, 0.2)",
           "rgba(52, 160, 164, 0.2)",
           "rgba(52, 160, 164, 0.2)",
           "rgba(29, 53, 87, 0.2)",
           "rgba(29, 53, 87, 0.2)",
           "rgba(29, 53, 87, 0.2)",
           "rgba(29, 53, 87, 0.2)",
           "rgba(29, 53, 87, 0.2)",
           "rgba(29, 53, 87, 0.2)",
           "rgba(29, 53, 87, 0.2)",
           "rgba(29, 53, 87, 0.2)",
           "rgba(29, 53, 87, 0.2)",
           "rgba(29, 53, 87, 0.2)",
           "rgba(114, 9, 183, 0.2)",
           "rgba(114, 9, 183, 0.2)",
           "rgba(114, 9, 183, 0.2)",
           "rgba(114, 9, 183, 0.2)",
           "rgba(114, 9, 183, 0.2)",
           "rgba(114, 9, 183, 0.2)",
           "rgba(114, 9, 183, 0.2)",
           "rgba(181, 23, 158, 0.2)",
           "rgba(181, 23, 158, 0.2)",
           "rgba(168, 218, 220, 0.2)",
           "rgba(168, 218, 220, 0.2)",
           "rgba(168, 218, 220, 0.2)",
           "rgba(168, 218, 220, 0.2)",
           "rgba(168, 218, 220, 0.2)",
           "rgba(168, 218, 220, 0.2)",
           "rgba(168, 218, 220, 0.2)",
           "rgba(255, 183, 3, 0.2)",
           "rgba(255, 183, 3, 0.2)",
           "rgba(251, 133, 0, 0.2)",
           "rgba(251, 133, 0, 0.2)",
           "rgba(69, 123, 157, 0.2)",
           "rgba(69, 123, 157, 0.2)",
           "rgba(69, 123, 157, 0.2)",
           "rgba(69, 123, 157, 0.2)",
           "rgba(69, 123, 157, 0.2)",
           "rgba(246, 189, 96, 0.2)",
           "rgba(246, 189, 96, 0.2)",
           "rgba(246, 189, 96, 0.2)",
           "rgba(246, 189, 96, 0.2)",
           "rgba(204, 213, 174, 0.2)",
           "rgba(187, 62, 3, 0.2)",
           "rgba(187, 62, 3, 0.2)",
           "rgba(2, 48, 71, 0.2)",
           "rgba(2, 48, 71, 0.2)",
           "rgba(2, 48, 71, 0.2)",
           "rgba(2, 48, 71, 0.2)",
           "rgba(2, 48, 71, 0.2)",
           "rgba(72, 149, 239, 0.2)",
           "rgba(86, 11, 173, 0.2)",
           "rgba(86, 11, 173, 0.2)",
           "rgba(42, 157, 143, 0.2)",
           "rgba(42, 157, 143, 0.2)",
           "rgba(254, 250, 224, 0.2)",
           "rgba(254, 250, 224, 0.2)",
           "rgba(76, 201, 240, 0.2)",
           "rgba(153, 217, 140, 0.2)",
           "rgba(153, 217, 140, 0.2)",
           "rgba(153, 217, 140, 0.2)",
           "rgba(231, 111, 81, 0.2)"
          ],
          "label": [
           "57.7%",
           "31.4%",
           "7.2%",
           "0.6%",
           "2.2%",
           "0.2%",
           "0.3%",
           "0.4%",
           "97.0%",
           "1.2%",
           "1.0%",
           "0.8%",
           "87.7%",
           "12.3%",
           "11.0%",
           "89.0%",
           "38.7%",
           "61.3%",
           "100.0%",
           "100.0%",
           "61.3%",
           "38.7%",
           "100.0%",
           "100.0%",
           "98.4%",
           "0.9%",
           "0.7%",
           "0.5%",
           "22.0%",
           "28.9%",
           "0.3%",
           "26.9%",
           "0.3%",
           "19.8%",
           "1.0%",
           "0.3%",
           "3.6%",
           "9.4%",
           "18.7%",
           "7.6%",
           "40.2%",
           "8.7%",
           "5.2%",
           "2.9%",
           "2.2%",
           "1.5%",
           "5.0%",
           "95.0%",
           "25.2%",
           "19.9%",
           "13.8%",
           "18.8%",
           "22.2%",
           "89.2%",
           "1.4%",
           "2.8%",
           "2.5%",
           "4.0%",
           "100.0%",
           "13.8%",
           "26.0%",
           "60.2%",
           "100.0%",
           "36.7%",
           "63.3%",
           "2.4%",
           "4.8%",
           "12.6%",
           "12.9%",
           "3.2%",
           "2.8%",
           "1.0%",
           "34.9%",
           "7.6%",
           "15.4%",
           "0.8%",
           "0.9%",
           "0.5%",
           "2.2%",
           "90.7%",
           "1.5%",
           "1.9%",
           "2.7%",
           "1.0%",
           "0.5%",
           "94.4%",
           "0.8%",
           "2.0%",
           "1.1%",
           "0.5%",
           "0.8%",
           "15.2%",
           "22.2%",
           "13.1%",
           "49.5%",
           "7.2%",
           "73.7%",
           "19.1%",
           "58.0%",
           "42.0%",
           "11.7%",
           "11.7%",
           "43.0%",
           "12.2%",
           "21.3%",
           "1.4%",
           "2.3%",
           "25.7%",
           "61.0%",
           "0.8%",
           "4.9%",
           "2.0%",
           "1.9%",
           "16.0%",
           "21.1%",
           "34.7%",
           "28.2%",
           "15.1%",
           "6.1%",
           "27.3%",
           "3.4%",
           "29.5%",
           "12.6%",
           "6.1%",
           "17.6%",
           "82.4%",
           "100.0%",
           "15.1%",
           "75.6%",
           "9.2%",
           "100.0%",
           "100.0%",
           "15.9%",
           "12.4%",
           "46.2%",
           "9.0%",
           "16.6%",
           "75.4%",
           "24.6%",
           "6.4%",
           "25.2%",
           "28.6%",
           "18.8%",
           "3.1%",
           "10.9%",
           "7.0%",
           "30.1%",
           "9.3%",
           "22.2%",
           "0.9%",
           "9.3%",
           "15.3%",
           "3.8%",
           "7.9%",
           "1.3%",
           "10.7%",
           "65.4%",
           "7.2%",
           "7.0%",
           "6.8%",
           "2.8%",
           "7.0%",
           "5.3%",
           "5.9%",
           "76.3%",
           "4.3%",
           "0.5%",
           "0.7%",
           "12.7%",
           "45.1%",
           "12.7%",
           "11.8%",
           "17.6%",
           "5.9%",
           "15.5%",
           "16.9%",
           "46.8%",
           "6.8%",
           "3.8%",
           "4.3%",
           "20.5%",
           "16.5%",
           "32.9%",
           "3.0%",
           "14.7%",
           "3.2%",
           "1.5%",
           "1.1%",
           "6.5%",
           "14.1%",
           "29.3%",
           "20.7%",
           "35.9%",
           "72.5%",
           "27.5%",
           "2.6%",
           "5.5%",
           "3.8%",
           "47.8%",
           "1.8%",
           "27.5%",
           "3.2%",
           "7.9%",
           "33.9%",
           "66.1%",
           "25.6%",
           "2.4%",
           "18.8%",
           "11.9%",
           "2.4%",
           "5.9%",
           "4.4%",
           "26.4%",
           "2.1%",
           "44.3%",
           "25.1%",
           "30.5%",
           "34.8%",
           "55.6%",
           "9.6%",
           "44.7%",
           "55.3%",
           "46.7%",
           "53.3%",
           "100.0%",
           "100.0%",
           "41.2%",
           "58.8%",
           "1.4%",
           "5.1%",
           "88.4%",
           "2.5%",
           "1.1%",
           "0.8%",
           "0.7%",
           "2.3%",
           "83.5%",
           "4.4%",
           "4.9%",
           "4.9%",
           "12.2%",
           "12.2%",
           "43.5%",
           "15.8%",
           "9.7%",
           "6.5%",
           "23.2%",
           "2.8%",
           "1.4%",
           "1.0%",
           "8.9%",
           "54.9%",
           "1.0%",
           "6.9%",
           "66.9%",
           "29.6%",
           "3.5%",
           "11.0%",
           "24.3%",
           "14.6%",
           "13.8%",
           "3.6%",
           "6.0%",
           "23.7%",
           "1.7%",
           "1.2%",
           "3.2%",
           "4.1%",
           "21.6%",
           "16.0%",
           "2.6%",
           "46.2%",
           "6.2%",
           "4.5%",
           "95.5%",
           "22.4%",
           "36.9%",
           "11.7%",
           "5.5%",
           "8.0%",
           "15.4%",
           "13.0%",
           "31.0%",
           "16.1%",
           "23.8%",
           "11.9%",
           "1.1%",
           "2.0%",
           "1.1%",
           "25.4%",
           "72.0%",
           "2.6%",
           "10.3%",
           "4.8%",
           "62.7%",
           "8.0%",
           "7.3%",
           "4.3%",
           "2.8%",
           "23.7%",
           "57.6%",
           "18.6%",
           "100.0%",
           "34.6%",
           "10.1%",
           "31.7%",
           "15.4%",
           "8.2%",
           "42.6%",
           "57.4%",
           "14.4%",
           "31.1%",
           "21.7%",
           "4.2%",
           "28.6%",
           "100.0%",
           "45.8%",
           "22.9%",
           "5.7%",
           "3.6%",
           "22.0%",
           "9.7%",
           "13.3%",
           "53.1%",
           "10.6%",
           "13.3%",
           "35.2%",
           "15.5%",
           "49.3%",
           "17.4%",
           "19.6%",
           "8.0%",
           "8.0%",
           "47.1%",
           "23.1%",
           "8.7%",
           "15.0%",
           "41.0%",
           "12.1%",
           "38.0%",
           "26.0%",
           "36.0%",
           "35.4%",
           "26.3%",
           "38.4%",
           "66.7%",
           "33.3%",
           "20.1%",
           "6.7%",
           "9.8%",
           "45.7%",
           "7.9%",
           "9.8%",
           "10.5%",
           "6.1%",
           "20.2%",
           "16.3%",
           "13.0%",
           "6.6%",
           "3.1%",
           "9.4%",
           "7.1%",
           "7.7%",
           "84.6%",
           "1.1%",
           "2.4%",
           "7.2%",
           "4.7%",
           "90.3%",
           "1.3%",
           "4.5%",
           "0.9%",
           "0.6%",
           "0.6%",
           "0.8%",
           "0.9%",
           "58.8%",
           "1.7%",
           "16.3%",
           "11.9%",
           "6.4%",
           "1.7%",
           "3.3%",
           "22.2%",
           "4.8%",
           "7.8%",
           "11.3%",
           "33.0%",
           "3.5%",
           "9.8%",
           "7.6%",
           "2.5%",
           "33.2%",
           "3.9%",
           "20.2%",
           "20.5%",
           "1.4%",
           "8.3%",
           "7.8%",
           "2.2%",
           "91.9%",
           "4.9%",
           "3.2%",
           "24.9%",
           "1.1%",
           "14.2%",
           "8.1%",
           "21.1%",
           "8.0%",
           "17.3%",
           "1.7%",
           "3.7%",
           "28.2%",
           "42.5%",
           "13.8%",
           "15.5%",
           "13.0%",
           "0.9%",
           "49.5%",
           "7.7%",
           "9.2%",
           "0.9%",
           "2.5%",
           "12.6%",
           "2.2%",
           "1.5%",
           "14.4%",
           "23.7%",
           "32.5%",
           "6.5%",
           "2.5%",
           "17.8%",
           "2.7%",
           "15.7%",
           "84.3%",
           "2.2%",
           "2.4%",
           "2.3%",
           "72.4%",
           "15.7%",
           "1.6%",
           "3.5%",
           "71.1%",
           "28.9%",
           "21.6%",
           "78.4%",
           "10.2%",
           "18.4%",
           "25.4%",
           "23.4%",
           "22.7%",
           "33.8%",
           "24.3%",
           "25.7%",
           "16.2%",
           "100.0%",
           "47.8%",
           "52.2%",
           "14.4%",
           "14.4%",
           "46.7%",
           "12.2%",
           "12.2%",
           "100.0%",
           "37.2%",
           "62.8%",
           "47.3%",
           "52.7%",
           "48.0%",
           "52.0%",
           "100.0%",
           "46.3%",
           "26.8%",
           "26.8%",
           "100.0%"
          ],
          "source": [
           0,
           0,
           0,
           0,
           0,
           0,
           0,
           0,
           2,
           2,
           2,
           2,
           3,
           3,
           4,
           4,
           5,
           5,
           6,
           7,
           8,
           8,
           9,
           14,
           20,
           20,
           20,
           21,
           21,
           21,
           21,
           21,
           21,
           21,
           21,
           21,
           22,
           22,
           22,
           22,
           22,
           22,
           22,
           22,
           22,
           22,
           23,
           23,
           24,
           24,
           24,
           24,
           24,
           25,
           25,
           25,
           25,
           25,
           26,
           27,
           27,
           27,
           29,
           30,
           30,
           48,
           48,
           48,
           48,
           48,
           48,
           48,
           48,
           48,
           48,
           48,
           48,
           48,
           49,
           49,
           49,
           49,
           49,
           49,
           50,
           50,
           50,
           50,
           50,
           50,
           50,
           51,
           51,
           51,
           51,
           52,
           52,
           52,
           53,
           53,
           54,
           54,
           54,
           54,
           54,
           55,
           55,
           55,
           55,
           55,
           55,
           55,
           55,
           56,
           56,
           56,
           56,
           57,
           57,
           57,
           57,
           57,
           57,
           57,
           58,
           58,
           59,
           60,
           60,
           60,
           62,
           64,
           80,
           80,
           80,
           80,
           80,
           81,
           81,
           82,
           82,
           82,
           82,
           82,
           82,
           82,
           83,
           83,
           83,
           83,
           83,
           83,
           83,
           83,
           83,
           84,
           84,
           84,
           84,
           84,
           84,
           85,
           85,
           85,
           85,
           85,
           85,
           85,
           86,
           86,
           86,
           86,
           86,
           87,
           87,
           87,
           87,
           87,
           87,
           87,
           88,
           88,
           88,
           88,
           88,
           88,
           88,
           88,
           88,
           89,
           89,
           89,
           89,
           90,
           90,
           91,
           91,
           91,
           91,
           91,
           91,
           91,
           91,
           92,
           92,
           93,
           93,
           93,
           93,
           93,
           93,
           93,
           93,
           93,
           94,
           94,
           94,
           95,
           95,
           95,
           96,
           96,
           97,
           97,
           99,
           100,
           103,
           103,
           113,
           113,
           113,
           113,
           113,
           113,
           113,
           114,
           114,
           114,
           114,
           114,
           115,
           115,
           115,
           115,
           115,
           115,
           116,
           116,
           116,
           116,
           116,
           116,
           116,
           116,
           117,
           117,
           117,
           118,
           118,
           118,
           118,
           118,
           118,
           118,
           118,
           118,
           119,
           119,
           119,
           119,
           119,
           119,
           119,
           120,
           120,
           121,
           121,
           121,
           121,
           121,
           121,
           122,
           122,
           122,
           122,
           122,
           122,
           122,
           122,
           123,
           123,
           123,
           124,
           124,
           124,
           124,
           124,
           124,
           124,
           125,
           125,
           125,
           126,
           127,
           127,
           127,
           127,
           127,
           128,
           128,
           129,
           129,
           129,
           129,
           129,
           130,
           131,
           131,
           131,
           131,
           131,
           132,
           132,
           132,
           132,
           132,
           133,
           133,
           133,
           134,
           134,
           134,
           134,
           134,
           135,
           135,
           135,
           135,
           135,
           136,
           136,
           136,
           137,
           137,
           137,
           140,
           140,
           148,
           148,
           148,
           148,
           148,
           148,
           149,
           149,
           149,
           149,
           149,
           149,
           149,
           149,
           149,
           149,
           150,
           150,
           150,
           150,
           150,
           151,
           151,
           151,
           151,
           151,
           151,
           151,
           151,
           152,
           152,
           152,
           152,
           152,
           152,
           152,
           153,
           153,
           153,
           153,
           153,
           153,
           153,
           153,
           154,
           154,
           154,
           154,
           154,
           154,
           154,
           154,
           154,
           155,
           155,
           155,
           156,
           156,
           156,
           156,
           156,
           156,
           156,
           156,
           156,
           157,
           157,
           157,
           157,
           158,
           158,
           158,
           158,
           158,
           158,
           158,
           158,
           158,
           158,
           159,
           159,
           159,
           159,
           159,
           159,
           159,
           160,
           160,
           161,
           161,
           161,
           161,
           161,
           161,
           161,
           162,
           162,
           163,
           163,
           165,
           165,
           165,
           165,
           165,
           166,
           166,
           166,
           166,
           167,
           169,
           169,
           170,
           170,
           170,
           170,
           170,
           171,
           172,
           172,
           173,
           173,
           176,
           176,
           177,
           178,
           178,
           178,
           179
          ],
          "target": [
           20,
           22,
           23,
           24,
           25,
           28,
           31,
           36,
           21,
           27,
           29,
           30,
           24,
           27,
           24,
           25,
           24,
           26,
           22,
           20,
           20,
           23,
           20,
           23,
           48,
           54,
           57,
           48,
           49,
           50,
           51,
           52,
           54,
           55,
           57,
           59,
           48,
           51,
           53,
           54,
           57,
           58,
           60,
           62,
           64,
           73,
           48,
           53,
           49,
           50,
           52,
           55,
           56,
           48,
           51,
           54,
           57,
           60,
           70,
           50,
           54,
           55,
           55,
           49,
           50,
           79,
           80,
           82,
           84,
           86,
           87,
           90,
           91,
           92,
           93,
           95,
           97,
           100,
           81,
           83,
           88,
           93,
           94,
           99,
           82,
           83,
           85,
           93,
           94,
           96,
           99,
           87,
           91,
           92,
           93,
           83,
           85,
           88,
           87,
           95,
           83,
           88,
           89,
           90,
           103,
           81,
           82,
           85,
           88,
           91,
           93,
           94,
           96,
           83,
           85,
           88,
           94,
           82,
           84,
           87,
           90,
           91,
           92,
           93,
           84,
           97,
           91,
           82,
           87,
           92,
           98,
           87,
           124,
           125,
           130,
           132,
           140,
           114,
           118,
           113,
           115,
           119,
           124,
           125,
           128,
           132,
           113,
           114,
           116,
           119,
           121,
           122,
           127,
           131,
           133,
           113,
           117,
           124,
           125,
           132,
           140,
           113,
           114,
           116,
           118,
           121,
           122,
           127,
           113,
           115,
           124,
           125,
           140,
           113,
           115,
           119,
           120,
           124,
           128,
           132,
           113,
           116,
           118,
           121,
           122,
           127,
           131,
           133,
           135,
           119,
           121,
           122,
           135,
           119,
           122,
           118,
           121,
           122,
           123,
           126,
           129,
           135,
           137,
           115,
           124,
           113,
           115,
           119,
           124,
           125,
           128,
           132,
           134,
           140,
           118,
           121,
           122,
           119,
           120,
           124,
           124,
           133,
           117,
           136,
           118,
           136,
           118,
           122,
           148,
           151,
           156,
           161,
           170,
           173,
           179,
           149,
           150,
           151,
           152,
           154,
           148,
           151,
           153,
           161,
           170,
           173,
           151,
           152,
           154,
           157,
           158,
           161,
           169,
           171,
           162,
           166,
           175,
           150,
           151,
           152,
           154,
           157,
           158,
           159,
           161,
           169,
           149,
           154,
           158,
           160,
           163,
           165,
           176,
           153,
           155,
           149,
           151,
           152,
           154,
           157,
           158,
           149,
           150,
           151,
           152,
           154,
           157,
           158,
           159,
           154,
           158,
           161,
           148,
           151,
           153,
           161,
           170,
           173,
           178,
           151,
           153,
           179,
           154,
           151,
           152,
           154,
           157,
           158,
           148,
           153,
           149,
           154,
           158,
           161,
           163,
           167,
           151,
           152,
           154,
           157,
           158,
           148,
           151,
           162,
           170,
           178,
           151,
           158,
           169,
           148,
           149,
           165,
           168,
           172,
           151,
           152,
           154,
           158,
           159,
           161,
           162,
           166,
           149,
           154,
           158,
           177,
           179,
           185,
           189,
           192,
           194,
           205,
           209,
           183,
           185,
           188,
           189,
           190,
           192,
           198,
           200,
           203,
           210,
           183,
           186,
           188,
           189,
           200,
           184,
           185,
           189,
           192,
           194,
           196,
           205,
           209,
           185,
           188,
           189,
           190,
           197,
           198,
           200,
           185,
           187,
           189,
           192,
           194,
           196,
           205,
           209,
           185,
           186,
           188,
           189,
           190,
           192,
           198,
           200,
           203,
           187,
           194,
           205,
           185,
           187,
           188,
           190,
           191,
           192,
           193,
           194,
           201,
           188,
           189,
           198,
           200,
           183,
           185,
           186,
           188,
           189,
           190,
           192,
           200,
           203,
           207,
           183,
           188,
           189,
           190,
           198,
           200,
           203,
           188,
           190,
           186,
           188,
           190,
           197,
           201,
           206,
           213,
           195,
           199,
           188,
           190,
           185,
           186,
           188,
           190,
           207,
           185,
           195,
           199,
           205,
           202,
           189,
           203,
           189,
           192,
           195,
           196,
           209,
           185,
           188,
           208,
           192,
           194,
           186,
           190,
           217,
           194,
           196,
           211,
           215
          ],
          "value": [
           3108,
           1690,
           388,
           33,
           120,
           12,
           14,
           19,
           7384,
           91,
           73,
           61,
           779,
           109,
           181,
           1458,
           12,
           19,
           96,
           17,
           19,
           12,
           15,
           15,
           2989,
           28,
           22,
           39,
           1624,
           2127,
           22,
           1981,
           23,
           1458,
           70,
           24,
           45,
           117,
           232,
           94,
           498,
           108,
           64,
           36,
           27,
           18,
           20,
           380,
           251,
           199,
           138,
           188,
           222,
           1237,
           20,
           39,
           34,
           56,
           11,
           27,
           51,
           118,
           71,
           22,
           38,
           77,
           153,
           402,
           411,
           101,
           90,
           33,
           1109,
           243,
           490,
           25,
           28,
           17,
           42,
           1705,
           28,
           36,
           50,
           18,
           12,
           2240,
           18,
           47,
           26,
           12,
           19,
           15,
           22,
           13,
           49,
           153,
           1561,
           404,
           338,
           245,
           27,
           27,
           99,
           28,
           49,
           25,
           41,
           458,
           1088,
           14,
           87,
           36,
           34,
           34,
           45,
           74,
           60,
           67,
           27,
           121,
           15,
           131,
           56,
           27,
           15,
           70,
           15,
           18,
           90,
           11,
           12,
           18,
           23,
           18,
           67,
           13,
           24,
           49,
           16,
           23,
           90,
           102,
           67,
           11,
           39,
           25,
           1223,
           376,
           901,
           37,
           376,
           620,
           153,
           322,
           51,
           46,
           280,
           31,
           30,
           29,
           12,
           144,
           110,
           123,
           1577,
           88,
           11,
           15,
           13,
           46,
           13,
           12,
           18,
           34,
           89,
           97,
           269,
           39,
           22,
           25,
           327,
           263,
           524,
           48,
           235,
           51,
           24,
           18,
           104,
           13,
           27,
           19,
           33,
           50,
           19,
           34,
           73,
           50,
           632,
           24,
           364,
           42,
           104,
           105,
           205,
           168,
           16,
           123,
           78,
           16,
           39,
           29,
           173,
           14,
           74,
           42,
           51,
           69,
           110,
           19,
           17,
           21,
           43,
           49,
           30,
           12,
           14,
           20,
           28,
           98,
           1711,
           49,
           21,
           16,
           13,
           12,
           439,
           23,
           26,
           26,
           34,
           34,
           121,
           44,
           27,
           18,
           291,
           35,
           18,
           12,
           112,
           689,
           12,
           87,
           210,
           93,
           11,
           247,
           544,
           326,
           309,
           81,
           135,
           530,
           39,
           26,
           17,
           22,
           115,
           85,
           14,
           246,
           33,
           16,
           339,
           138,
           227,
           72,
           34,
           49,
           95,
           128,
           306,
           159,
           235,
           117,
           11,
           20,
           11,
           159,
           451,
           16,
           41,
           19,
           250,
           32,
           29,
           17,
           11,
           14,
           34,
           11,
           14,
           72,
           21,
           66,
           32,
           17,
           46,
           62,
           52,
           112,
           78,
           15,
           103,
           39,
           152,
           76,
           19,
           12,
           73,
           11,
           15,
           60,
           12,
           15,
           25,
           11,
           35,
           24,
           27,
           11,
           11,
           65,
           40,
           15,
           26,
           71,
           21,
           19,
           13,
           18,
           35,
           26,
           38,
           22,
           11,
           33,
           11,
           16,
           75,
           13,
           16,
           41,
           24,
           79,
           64,
           51,
           26,
           12,
           37,
           28,
           30,
           825,
           11,
           23,
           70,
           46,
           1533,
           22,
           76,
           15,
           11,
           11,
           14,
           16,
           461,
           13,
           128,
           93,
           50,
           13,
           26,
           88,
           19,
           31,
           45,
           131,
           14,
           39,
           30,
           23,
           305,
           36,
           186,
           188,
           13,
           76,
           72,
           20,
           317,
           17,
           11,
           354,
           15,
           202,
           115,
           300,
           113,
           245,
           24,
           52,
           49,
           74,
           24,
           27,
           157,
           11,
           597,
           93,
           111,
           11,
           30,
           152,
           26,
           18,
           80,
           132,
           181,
           36,
           14,
           99,
           15,
           13,
           70,
           21,
           23,
           22,
           699,
           152,
           15,
           34,
           192,
           78,
           25,
           91,
           26,
           47,
           65,
           60,
           58,
           25,
           18,
           19,
           12,
           39,
           33,
           36,
           13,
           13,
           42,
           11,
           11,
           90,
           16,
           27,
           35,
           39,
           12,
           13,
           12,
           19,
           11,
           11,
           17
          ]
         },
         "node": {
          "color": [],
          "label": [
           "app_opened_via_icon",
           "app_remove",
           "item_opened",
           "app_opened_from_market",
           "first_open",
           "market_opened_without_referral",
           "history_opened",
           "price_history_opened",
           "sales_category_selected",
           "seller_info_opened",
           "chart_click",
           "reviews_tab_opened",
           "item_loaded_from_store",
           "similar_tab_opened",
           "favorites_opened",
           "marketApp_opened",
           "auth_opened",
           "search_tab_opened",
           "item_info_click",
           "similars_not_fetched_from_server",
           "history_opened",
           "app_opened_from_market",
           "sales_category_selected",
           "favorites_opened",
           "item_opened",
           "app_opened_via_icon",
           "market_opened_without_referral",
           "price_history_opened",
           "search_tab_opened",
           "seller_info_opened",
           "item_loaded_from_store",
           "marketApp_opened",
           "chart_click",
           "item_opened_from_history",
           "similar_tab_opened",
           "reviews_tab_opened",
           "app_remove",
           "similar_item_opened",
           "marketApp_opened_from_item",
           "sales_item_opened_from_main",
           "auth_opened",
           "search_request_entered",
           "item_info_click",
           "sales_opened",
           "settings_opened",
           "similars_not_fetched_from_server",
           "auth_user_succeeded",
           "search_results_loaded",
           "sales_category_selected",
           "price_history_opened",
           "seller_info_opened",
           "marketApp_opened",
           "similars_not_fetched_from_server",
           "favorites_opened",
           "item_opened",
           "item_loaded_from_store",
           "app_opened_from_market",
           "history_opened",
           "search_tab_opened",
           "search_result_opened",
           "app_opened_via_icon",
           "item_info_click",
           "settings_opened",
           "chart_click",
           "sales_opened",
           "reviews_tab_opened",
           "sales_item_opened_from_main",
           "marketApp_opened_from_item",
           "item_opened_from_history",
           "rate_this_app",
           "market_opened_without_referral",
           "similar_item_opened",
           "search_request_entered",
           "app_remove",
           "similar_tab_opened",
           "auth_google_succeeded",
           "sales_filter_opened",
           "open_item_on_market_click",
           "search_results_loaded",
           "app_remove",
           "settings_opened",
           "chart_click",
           "history_opened",
           "item_loaded_from_store",
           "search_tab_opened",
           "price_history_opened",
           "sales_opened",
           "sales_category_selected",
           "seller_info_opened",
           "app_opened_from_market",
           "item_opened_from_history",
           "item_opened",
           "app_opened_via_icon",
           "marketApp_opened",
           "similars_not_fetched_from_server",
           "favorites_opened",
           "item_info_click",
           "search_request_entered",
           "auth_opened",
           "similar_tab_opened",
           "search_results_loaded",
           "reviews_tab_opened",
           "item_seller_loaded_from_market",
           "sales_item_opened_from_main",
           "market_opened_without_referral",
           "rate_this_app",
           "similar_item_opened",
           "rate_this_app_displayed",
           "search_result_opened",
           "auth_user_succeeded",
           "marketApp_opened_from_item",
           "sales_filter_opened",
           "marketApp_opened_from_price_history",
           "marketApp_opened",
           "chart_click",
           "sales_category_selected",
           "similar_tab_opened",
           "search_request_entered",
           "item_loaded_from_store",
           "item_opened",
           "favorites_opened",
           "seller_info_opened",
           "price_history_opened",
           "item_opened_from_history",
           "history_opened",
           "sales_opened",
           "similar_item_opened",
           "reviews_tab_opened",
           "app_opened_via_icon",
           "app_opened_from_market",
           "auth_opened",
           "item_seller_loaded_from_market",
           "search_tab_opened",
           "item_info_click",
           "marketApp_opened_from_item",
           "similars_not_fetched_from_server",
           "search_results_loaded",
           "sales_item_opened_from_main",
           "auth_google_succeeded",
           "search_result_opened",
           "settings_opened",
           "sales_filter_opened",
           "market_opened_without_referral",
           "rate_this_app_displayed",
           "app_remove",
           "auth_user_succeeded",
           "open_item_on_market_click",
           "market_opened_from_search_item",
           "history_opened",
           "item_loaded_from_store",
           "chart_click",
           "marketApp_opened",
           "similar_tab_opened",
           "sales_category_selected",
           "seller_info_opened",
           "favorites_opened",
           "marketApp_opened_from_item",
           "reviews_tab_opened",
           "price_history_opened",
           "item_seller_loaded_from_market",
           "item_opened_from_history",
           "item_opened",
           "search_request_entered",
           "similars_not_fetched_from_server",
           "auth_user_succeeded",
           "app_opened_from_market",
           "search_results_loaded",
           "auth_google_succeeded",
           "market_opened_without_referral",
           "item_info_click",
           "search_tab_opened",
           "similar_item_opened",
           "open_item_on_market_click",
           "app_opened_via_icon",
           "app_remove",
           "sales_filter_opened",
           "sales_item_opened_from_main",
           "auth_opened",
           "sales_opened",
           "settings_opened",
           "rate_this_app",
           "marketApp_opened_from_price_history",
           "search_result_opened",
           "chart_click",
           "marketApp_opened_from_item",
           "item_opened",
           "item_loaded_from_store",
           "favorites_opened",
           "seller_info_opened",
           "marketApp_opened",
           "price_history_opened",
           "market_opened_without_referral",
           "history_opened",
           "open_item_on_market_click",
           "sales_category_selected",
           "search_request_entered",
           "sales_opened",
           "similar_item_opened",
           "reviews_tab_opened",
           "search_results_loaded",
           "similar_tab_opened",
           "app_opened_from_market",
           "auth_user_succeeded",
           "item_info_click",
           "rate_this_app",
           "app_opened_via_icon",
           "sales_item_opened_from_main",
           "similars_not_fetched_from_server",
           "marketApp_opened_from_price_history",
           "search_tab_opened",
           "item_seller_loaded_from_market",
           "settings_opened",
           "sales_filter_opened",
           "item_opened_from_history",
           "app_remove",
           "auth_opened",
           "search_result_opened",
           "auth_google_succeeded",
           "rate_this_app_displayed"
          ],
          "line": {
           "color": "black",
           "width": 0.1
          },
          "pad": 50,
          "thickness": 15
         },
         "orientation": "h",
         "type": "sankey",
         "valueformat": ".0f"
        }
       ],
       "layout": {
        "font": {
         "size": 10
        },
        "height": 1200,
        "template": {
         "data": {
          "bar": [
           {
            "error_x": {
             "color": "#2a3f5f"
            },
            "error_y": {
             "color": "#2a3f5f"
            },
            "marker": {
             "line": {
              "color": "#E5ECF6",
              "width": 0.5
             },
             "pattern": {
              "fillmode": "overlay",
              "size": 10,
              "solidity": 0.2
             }
            },
            "type": "bar"
           }
          ],
          "barpolar": [
           {
            "marker": {
             "line": {
              "color": "#E5ECF6",
              "width": 0.5
             },
             "pattern": {
              "fillmode": "overlay",
              "size": 10,
              "solidity": 0.2
             }
            },
            "type": "barpolar"
           }
          ],
          "carpet": [
           {
            "aaxis": {
             "endlinecolor": "#2a3f5f",
             "gridcolor": "white",
             "linecolor": "white",
             "minorgridcolor": "white",
             "startlinecolor": "#2a3f5f"
            },
            "baxis": {
             "endlinecolor": "#2a3f5f",
             "gridcolor": "white",
             "linecolor": "white",
             "minorgridcolor": "white",
             "startlinecolor": "#2a3f5f"
            },
            "type": "carpet"
           }
          ],
          "choropleth": [
           {
            "colorbar": {
             "outlinewidth": 0,
             "ticks": ""
            },
            "type": "choropleth"
           }
          ],
          "contour": [
           {
            "colorbar": {
             "outlinewidth": 0,
             "ticks": ""
            },
            "colorscale": [
             [
              0,
              "#0d0887"
             ],
             [
              0.1111111111111111,
              "#46039f"
             ],
             [
              0.2222222222222222,
              "#7201a8"
             ],
             [
              0.3333333333333333,
              "#9c179e"
             ],
             [
              0.4444444444444444,
              "#bd3786"
             ],
             [
              0.5555555555555556,
              "#d8576b"
             ],
             [
              0.6666666666666666,
              "#ed7953"
             ],
             [
              0.7777777777777778,
              "#fb9f3a"
             ],
             [
              0.8888888888888888,
              "#fdca26"
             ],
             [
              1,
              "#f0f921"
             ]
            ],
            "type": "contour"
           }
          ],
          "contourcarpet": [
           {
            "colorbar": {
             "outlinewidth": 0,
             "ticks": ""
            },
            "type": "contourcarpet"
           }
          ],
          "heatmap": [
           {
            "colorbar": {
             "outlinewidth": 0,
             "ticks": ""
            },
            "colorscale": [
             [
              0,
              "#0d0887"
             ],
             [
              0.1111111111111111,
              "#46039f"
             ],
             [
              0.2222222222222222,
              "#7201a8"
             ],
             [
              0.3333333333333333,
              "#9c179e"
             ],
             [
              0.4444444444444444,
              "#bd3786"
             ],
             [
              0.5555555555555556,
              "#d8576b"
             ],
             [
              0.6666666666666666,
              "#ed7953"
             ],
             [
              0.7777777777777778,
              "#fb9f3a"
             ],
             [
              0.8888888888888888,
              "#fdca26"
             ],
             [
              1,
              "#f0f921"
             ]
            ],
            "type": "heatmap"
           }
          ],
          "heatmapgl": [
           {
            "colorbar": {
             "outlinewidth": 0,
             "ticks": ""
            },
            "colorscale": [
             [
              0,
              "#0d0887"
             ],
             [
              0.1111111111111111,
              "#46039f"
             ],
             [
              0.2222222222222222,
              "#7201a8"
             ],
             [
              0.3333333333333333,
              "#9c179e"
             ],
             [
              0.4444444444444444,
              "#bd3786"
             ],
             [
              0.5555555555555556,
              "#d8576b"
             ],
             [
              0.6666666666666666,
              "#ed7953"
             ],
             [
              0.7777777777777778,
              "#fb9f3a"
             ],
             [
              0.8888888888888888,
              "#fdca26"
             ],
             [
              1,
              "#f0f921"
             ]
            ],
            "type": "heatmapgl"
           }
          ],
          "histogram": [
           {
            "marker": {
             "pattern": {
              "fillmode": "overlay",
              "size": 10,
              "solidity": 0.2
             }
            },
            "type": "histogram"
           }
          ],
          "histogram2d": [
           {
            "colorbar": {
             "outlinewidth": 0,
             "ticks": ""
            },
            "colorscale": [
             [
              0,
              "#0d0887"
             ],
             [
              0.1111111111111111,
              "#46039f"
             ],
             [
              0.2222222222222222,
              "#7201a8"
             ],
             [
              0.3333333333333333,
              "#9c179e"
             ],
             [
              0.4444444444444444,
              "#bd3786"
             ],
             [
              0.5555555555555556,
              "#d8576b"
             ],
             [
              0.6666666666666666,
              "#ed7953"
             ],
             [
              0.7777777777777778,
              "#fb9f3a"
             ],
             [
              0.8888888888888888,
              "#fdca26"
             ],
             [
              1,
              "#f0f921"
             ]
            ],
            "type": "histogram2d"
           }
          ],
          "histogram2dcontour": [
           {
            "colorbar": {
             "outlinewidth": 0,
             "ticks": ""
            },
            "colorscale": [
             [
              0,
              "#0d0887"
             ],
             [
              0.1111111111111111,
              "#46039f"
             ],
             [
              0.2222222222222222,
              "#7201a8"
             ],
             [
              0.3333333333333333,
              "#9c179e"
             ],
             [
              0.4444444444444444,
              "#bd3786"
             ],
             [
              0.5555555555555556,
              "#d8576b"
             ],
             [
              0.6666666666666666,
              "#ed7953"
             ],
             [
              0.7777777777777778,
              "#fb9f3a"
             ],
             [
              0.8888888888888888,
              "#fdca26"
             ],
             [
              1,
              "#f0f921"
             ]
            ],
            "type": "histogram2dcontour"
           }
          ],
          "mesh3d": [
           {
            "colorbar": {
             "outlinewidth": 0,
             "ticks": ""
            },
            "type": "mesh3d"
           }
          ],
          "parcoords": [
           {
            "line": {
             "colorbar": {
              "outlinewidth": 0,
              "ticks": ""
             }
            },
            "type": "parcoords"
           }
          ],
          "pie": [
           {
            "automargin": true,
            "type": "pie"
           }
          ],
          "scatter": [
           {
            "fillpattern": {
             "fillmode": "overlay",
             "size": 10,
             "solidity": 0.2
            },
            "type": "scatter"
           }
          ],
          "scatter3d": [
           {
            "line": {
             "colorbar": {
              "outlinewidth": 0,
              "ticks": ""
             }
            },
            "marker": {
             "colorbar": {
              "outlinewidth": 0,
              "ticks": ""
             }
            },
            "type": "scatter3d"
           }
          ],
          "scattercarpet": [
           {
            "marker": {
             "colorbar": {
              "outlinewidth": 0,
              "ticks": ""
             }
            },
            "type": "scattercarpet"
           }
          ],
          "scattergeo": [
           {
            "marker": {
             "colorbar": {
              "outlinewidth": 0,
              "ticks": ""
             }
            },
            "type": "scattergeo"
           }
          ],
          "scattergl": [
           {
            "marker": {
             "colorbar": {
              "outlinewidth": 0,
              "ticks": ""
             }
            },
            "type": "scattergl"
           }
          ],
          "scattermapbox": [
           {
            "marker": {
             "colorbar": {
              "outlinewidth": 0,
              "ticks": ""
             }
            },
            "type": "scattermapbox"
           }
          ],
          "scatterpolar": [
           {
            "marker": {
             "colorbar": {
              "outlinewidth": 0,
              "ticks": ""
             }
            },
            "type": "scatterpolar"
           }
          ],
          "scatterpolargl": [
           {
            "marker": {
             "colorbar": {
              "outlinewidth": 0,
              "ticks": ""
             }
            },
            "type": "scatterpolargl"
           }
          ],
          "scatterternary": [
           {
            "marker": {
             "colorbar": {
              "outlinewidth": 0,
              "ticks": ""
             }
            },
            "type": "scatterternary"
           }
          ],
          "surface": [
           {
            "colorbar": {
             "outlinewidth": 0,
             "ticks": ""
            },
            "colorscale": [
             [
              0,
              "#0d0887"
             ],
             [
              0.1111111111111111,
              "#46039f"
             ],
             [
              0.2222222222222222,
              "#7201a8"
             ],
             [
              0.3333333333333333,
              "#9c179e"
             ],
             [
              0.4444444444444444,
              "#bd3786"
             ],
             [
              0.5555555555555556,
              "#d8576b"
             ],
             [
              0.6666666666666666,
              "#ed7953"
             ],
             [
              0.7777777777777778,
              "#fb9f3a"
             ],
             [
              0.8888888888888888,
              "#fdca26"
             ],
             [
              1,
              "#f0f921"
             ]
            ],
            "type": "surface"
           }
          ],
          "table": [
           {
            "cells": {
             "fill": {
              "color": "#EBF0F8"
             },
             "line": {
              "color": "white"
             }
            },
            "header": {
             "fill": {
              "color": "#C8D4E3"
             },
             "line": {
              "color": "white"
             }
            },
            "type": "table"
           }
          ]
         },
         "layout": {
          "annotationdefaults": {
           "arrowcolor": "#2a3f5f",
           "arrowhead": 0,
           "arrowwidth": 1
          },
          "autotypenumbers": "strict",
          "coloraxis": {
           "colorbar": {
            "outlinewidth": 0,
            "ticks": ""
           }
          },
          "colorscale": {
           "diverging": [
            [
             0,
             "#8e0152"
            ],
            [
             0.1,
             "#c51b7d"
            ],
            [
             0.2,
             "#de77ae"
            ],
            [
             0.3,
             "#f1b6da"
            ],
            [
             0.4,
             "#fde0ef"
            ],
            [
             0.5,
             "#f7f7f7"
            ],
            [
             0.6,
             "#e6f5d0"
            ],
            [
             0.7,
             "#b8e186"
            ],
            [
             0.8,
             "#7fbc41"
            ],
            [
             0.9,
             "#4d9221"
            ],
            [
             1,
             "#276419"
            ]
           ],
           "sequential": [
            [
             0,
             "#0d0887"
            ],
            [
             0.1111111111111111,
             "#46039f"
            ],
            [
             0.2222222222222222,
             "#7201a8"
            ],
            [
             0.3333333333333333,
             "#9c179e"
            ],
            [
             0.4444444444444444,
             "#bd3786"
            ],
            [
             0.5555555555555556,
             "#d8576b"
            ],
            [
             0.6666666666666666,
             "#ed7953"
            ],
            [
             0.7777777777777778,
             "#fb9f3a"
            ],
            [
             0.8888888888888888,
             "#fdca26"
            ],
            [
             1,
             "#f0f921"
            ]
           ],
           "sequentialminus": [
            [
             0,
             "#0d0887"
            ],
            [
             0.1111111111111111,
             "#46039f"
            ],
            [
             0.2222222222222222,
             "#7201a8"
            ],
            [
             0.3333333333333333,
             "#9c179e"
            ],
            [
             0.4444444444444444,
             "#bd3786"
            ],
            [
             0.5555555555555556,
             "#d8576b"
            ],
            [
             0.6666666666666666,
             "#ed7953"
            ],
            [
             0.7777777777777778,
             "#fb9f3a"
            ],
            [
             0.8888888888888888,
             "#fdca26"
            ],
            [
             1,
             "#f0f921"
            ]
           ]
          },
          "colorway": [
           "#636efa",
           "#EF553B",
           "#00cc96",
           "#ab63fa",
           "#FFA15A",
           "#19d3f3",
           "#FF6692",
           "#B6E880",
           "#FF97FF",
           "#FECB52"
          ],
          "font": {
           "color": "#2a3f5f"
          },
          "geo": {
           "bgcolor": "white",
           "lakecolor": "white",
           "landcolor": "#E5ECF6",
           "showlakes": true,
           "showland": true,
           "subunitcolor": "white"
          },
          "hoverlabel": {
           "align": "left"
          },
          "hovermode": "closest",
          "mapbox": {
           "style": "light"
          },
          "paper_bgcolor": "white",
          "plot_bgcolor": "#E5ECF6",
          "polar": {
           "angularaxis": {
            "gridcolor": "white",
            "linecolor": "white",
            "ticks": ""
           },
           "bgcolor": "#E5ECF6",
           "radialaxis": {
            "gridcolor": "white",
            "linecolor": "white",
            "ticks": ""
           }
          },
          "scene": {
           "xaxis": {
            "backgroundcolor": "#E5ECF6",
            "gridcolor": "white",
            "gridwidth": 2,
            "linecolor": "white",
            "showbackground": true,
            "ticks": "",
            "zerolinecolor": "white"
           },
           "yaxis": {
            "backgroundcolor": "#E5ECF6",
            "gridcolor": "white",
            "gridwidth": 2,
            "linecolor": "white",
            "showbackground": true,
            "ticks": "",
            "zerolinecolor": "white"
           },
           "zaxis": {
            "backgroundcolor": "#E5ECF6",
            "gridcolor": "white",
            "gridwidth": 2,
            "linecolor": "white",
            "showbackground": true,
            "ticks": "",
            "zerolinecolor": "white"
           }
          },
          "shapedefaults": {
           "line": {
            "color": "#2a3f5f"
           }
          },
          "ternary": {
           "aaxis": {
            "gridcolor": "white",
            "linecolor": "white",
            "ticks": ""
           },
           "baxis": {
            "gridcolor": "white",
            "linecolor": "white",
            "ticks": ""
           },
           "bgcolor": "#E5ECF6",
           "caxis": {
            "gridcolor": "white",
            "linecolor": "white",
            "ticks": ""
           }
          },
          "title": {
           "x": 0.05
          },
          "xaxis": {
           "automargin": true,
           "gridcolor": "white",
           "linecolor": "white",
           "ticks": "",
           "title": {
            "standoff": 15
           },
           "zerolinecolor": "white",
           "zerolinewidth": 2
          },
          "yaxis": {
           "automargin": true,
           "gridcolor": "white",
           "linecolor": "white",
           "ticks": "",
           "title": {
            "standoff": 15
           },
           "zerolinecolor": "white",
           "zerolinewidth": 2
          }
         }
        },
        "title": {
         "text": "Sankey Diagram"
        },
        "width": 3000
       }
      }
     },
     "metadata": {},
     "output_type": "display_data"
    }
   ],
   "source": [
    "senkey_diagram"
   ]
  }
 ],
 "metadata": {
  "kernelspec": {
   "display_name": "Python 3.7.1 64-bit",
   "language": "python",
   "name": "python3"
  },
  "language_info": {
   "codemirror_mode": {
    "name": "ipython",
    "version": 3
   },
   "file_extension": ".py",
   "mimetype": "text/x-python",
   "name": "python",
   "nbconvert_exporter": "python",
   "pygments_lexer": "ipython3",
   "version": "3.7.1"
  },
  "orig_nbformat": 4,
  "vscode": {
   "interpreter": {
    "hash": "fbe58ca63fe33f9eeae9e71d10368d2b4a57f2b1b395836210cc60d362c66949"
   }
  }
 },
 "nbformat": 4,
 "nbformat_minor": 2
}
