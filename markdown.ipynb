{
 "cells": [
  {
   "cell_type": "markdown",
   "metadata": {},
   "source": [
    "https://skillbox.ru/media/code/yazyk-razmetki-markdown-shpargalka-po-sintaksisu-s-primerami/  \n",
    "https://paulradzkov.com/2014/markdown_cheatsheet/"
   ]
  },
  {
   "cell_type": "markdown",
   "metadata": {},
   "source": [
    "https://www.dmitrymakarov.ru/python/jupyter-notebook-14-02/"
   ]
  },
  {
   "cell_type": "markdown",
   "metadata": {},
   "source": [
    "Наводим красоту  \n",
    "\n",
    "https://habr.com/ru/articles/485318/"
   ]
  },
  {
   "cell_type": "markdown",
   "metadata": {},
   "source": [
    "сайт со специальными символами, которых нет на  клавиатуре,  \n",
    "можно скопировать и вставить в ячейку  \n",
    "https://fancy-text.net/en/special-characters.php"
   ]
  },
  {
   "cell_type": "markdown",
   "metadata": {},
   "source": [
    "в айди нельзя ставить символ _"
   ]
  },
  {
   "cell_type": "markdown",
   "metadata": {},
   "source": [
    "юпитер сам умеет формировать оглавления, его можно увидеть нажав на кнопку в юпитере  \n",
    "но можно сделать самому, если нужно, чтобы в начале было оглавление с кросс ссылками  "
   ]
  },
  {
   "cell_type": "markdown",
   "metadata": {},
   "source": [
    "Хороший шрифт для текста в jupyter  \n",
    "sans-serif"
   ]
  },
  {
   "cell_type": "markdown",
   "metadata": {},
   "source": [
    "### Table of Contents\n",
    "* [Название пункта](#name-id)"
   ]
  },
  {
   "cell_type": "markdown",
   "metadata": {},
   "source": [
    "### Название пункта <a class=\"anchor\" id=\"name-id\"></a>"
   ]
  },
  {
   "cell_type": "markdown",
   "metadata": {},
   "source": [
    "если нужно, чтобы заголовок не попал в оглавление, которое сделает юпитер,    \n",
    "то после заголовка пишем `<a class=\"tocSkip\"> `"
   ]
  },
  {
   "cell_type": "markdown",
   "metadata": {},
   "source": [
    "Если мы хотим создать вложенный заголовок и создать иерархию, то используем дополнительный # перед заголовком  \n",
    "то есть у нас заголовок первого уровня имеет 1 хэштэг, потом идет заголовок с двумя хэштэгами и потом снова 1 хэштэг  \n",
    "в оглавление это будет иерархически и появяться цифры перед заголовками  \n",
    "но в vs коде этого нет"
   ]
  },
  {
   "cell_type": "markdown",
   "metadata": {},
   "source": [
    "### Использоватение HTML"
   ]
  },
  {
   "cell_type": "markdown",
   "metadata": {},
   "source": [
    "Булиты внутри раскрывающегося содеражания можно делать \n",
    "- булитами (тогда нужно поставить пустую строку перед ним)\n",
    "- с помощью html (`<p style=\"margin: 20px;\">Тут текст</p>`)"
   ]
  },
  {
   "cell_type": "markdown",
   "metadata": {},
   "source": [
    "<details>\n",
    "    <summary>Это заголовок уровень 1</summary>\n",
    "    <details style=\"margin: 20px;\"> \n",
    "        <summary>Это первый заголовок уровень 2</summary>\n",
    "        <details style=\"margin: 20px;\">\n",
    "            <summary>Это первый заголовок уровень 3</summary>\n",
    "\n",
    "- sdfjkasjd\n",
    "- sdjfasjdfj\n",
    "        </details>\n",
    "        <details style=\"margin: 20px;\">\n",
    "            <summary>Это второй заголовок уровень 3</summary>\n",
    "\n",
    "    - sdfjkasjd\n",
    "    - sdjfasjdfj            \n",
    "        </details>\n",
    "    </details>\n",
    "    <details style=\"margin: 20px;\">\n",
    "    <summary>Это второй заголовок уровень 2</summary>\n",
    "        \n",
    "    - sdfjkasjd\n",
    "    - sdjfasjdfj            \n",
    "    </details>\n",
    "</details>\n"
   ]
  },
  {
   "cell_type": "markdown",
   "metadata": {},
   "source": [
    "Можно использовать кусок кода со стилем\n"
   ]
  },
  {
   "cell_type": "code",
   "execution_count": null,
   "metadata": {},
   "outputs": [],
   "source": [
    "%%html\n",
    "<style>\n",
    "summary::-webkit-details-marker{display:none;}\n",
    "summary::-moz-list-bullet{list-style-type:none;}\n",
    "summary::marker{display:none;} \n",
    "summary {\n",
    "   display:inline-block;\n",
    "   padding: .3em .6em .3em 1.5em;\n",
    "   font-size:1.4em;\n",
    "   cursor: pointer;\n",
    "   position: relative;\n",
    "}\n",
    "summary:before {  \n",
    "  left: .3em;\n",
    "  top: .4em;\n",
    "  color: transparent;\n",
    "  background: url(\"data:image/svg+xml;base64,PHN2ZyBoZWlnaHQ9IjM0IiB2aWV3Qm94PSIwIDAgMjQgMjQiIHdpZHRoPSIzNCIgeG1sbnM9Imh0dHA6Ly93d3cudzMub3JnLzIwMDAvc3ZnIj48cGF0aCBkPSJNOC41OSAxNi4zNGw0LjU4LTQuNTktNC41OC00LjU5TDEwIDUuNzVsNiA2LTYgNnoiLz48L3N2Zz4=\") no-repeat 50% 50% / 1em 1em;\n",
    "  width: 1em;\n",
    "  height: 1em;  \n",
    "  content: \"\";\n",
    "  position: absolute;\n",
    "  transition: transform .5s;\n",
    "}\n",
    "details[open] > summary:before {\n",
    "  transform: rotateZ(90deg);\n",
    "}\n",
    "summary ~ * {\n",
    "   padding:0 1em 0 1em;\n",
    "}\n",
    "details[open] summary ~ *{ \n",
    "  animation: sweep .5s ease-in-out;\n",
    "}\n",
    "@keyframes sweep {\n",
    "  0%    {opacity: 0;}\n",
    "  100%  {opacity: 1;}\n",
    "}\n",
    "summary:focus {\n",
    "  outline:0;\n",
    "  box-shadow: inset 0 0 1px rgba(0,0,0,0.3), inset 0 0 2px rgba(0,0,0,0.3);\n",
    "}\n",
    "details{\n",
    "  display:block;\n",
    "  margin-bottom: .5rem;\n",
    "}\n",
    "</style>"
   ]
  },
  {
   "cell_type": "code",
   "execution_count": null,
   "metadata": {},
   "outputs": [],
   "source": [
    "<ul class=\"tree\">\n",
    "  <span class=\"trian\"></span>\n",
    "  <li>\n",
    "    <details open>\n",
    "      <summary><a href=\"#name_link\">Название ссылки</a> </summary>\n",
    "      <ul>\n",
    "        <li>\n",
    "          <details>\n",
    "            <summary>Газовые</summary>\n",
    "            <ul>\n",
    "              <li>Юпитер</li>\n",
    "              <li>Сатурн</li>\n",
    "            </ul>\n",
    "          </details>\n",
    "        </li>\n",
    "        <li>\n",
    "          <details>\n",
    "            <summary>Ледяные</summary>\n",
    "            <ul>\n",
    "              <li>Уран</li>\n",
    "              <li>Нептун</li>\n",
    "            </ul>\n",
    "          </details>\n",
    "        </li>\n",
    "      </ul>\n",
    "    </details>\n",
    "  </li>\n",
    "</ul>"
   ]
  },
  {
   "cell_type": "markdown",
   "metadata": {},
   "source": [
    "# Заголовок 1 уровня\n",
    "## Заголовок 2 уровня    <a class=\"tocSkip\"> (этот заголовок не попадет в оглавление)\n",
    "### Заголовок 3 уровня\n",
    "\n",
    "Всего 6 уровней заголовков    \n"
   ]
  },
  {
   "cell_type": "markdown",
   "metadata": {},
   "source": [
    "Цветные блоки (работают в юпитере)"
   ]
  },
  {
   "cell_type": "markdown",
   "metadata": {},
   "source": [
    "<div class=\"alert alert-success\">\n",
    "    Этими \n",
    "</div>\n",
    "\n",
    "<div class=\"alert alert-warning\">\n",
    "    цветными блоками\n",
    "</div>\n",
    "\n",
    "<div class=\"alert alert-danger\">\n",
    "    пользуются ревьюеры\n",
    "</div>"
   ]
  },
  {
   "cell_type": "markdown",
   "metadata": {},
   "source": [
    "<div class=\"alert alert-info\"> <b>Студент</b> может выбрать такой цвет</div>"
   ]
  },
  {
   "cell_type": "markdown",
   "metadata": {},
   "source": [
    "*coursive*"
   ]
  },
  {
   "cell_type": "markdown",
   "metadata": {},
   "source": [
    "**bold text**"
   ]
  },
  {
   "cell_type": "markdown",
   "metadata": {},
   "source": [
    "* point 1\n",
    "* poin 2"
   ]
  },
  {
   "cell_type": "markdown",
   "metadata": {},
   "source": [
    "1. point 1\n",
    "2. point 2"
   ]
  },
  {
   "cell_type": "markdown",
   "metadata": {},
   "source": [
    "Абзацы отделяются пустой строкой до и после текста\n",
    "\n",
    "это абзац\n",
    "\n",
    "текст"
   ]
  },
  {
   "cell_type": "markdown",
   "metadata": {},
   "source": [
    "линия  --- или ***\n",
    "\n",
    "---"
   ]
  },
  {
   "cell_type": "markdown",
   "metadata": {},
   "source": [
    "**<font color=\"blue\">синий</font>**"
   ]
  },
  {
   "cell_type": "markdown",
   "metadata": {},
   "source": [
    "<div style=\"border:solid green 2px; padding: 20px\">\n",
    "рамка  \n",
    "\n",
    "рамка"
   ]
  },
  {
   "cell_type": "markdown",
   "metadata": {},
   "source": [
    "Возможно выделение и текстовых абзацев (так называемые blockquotes).\n",
    "\n",
    "> Markdown позволяет форматировать текст без использования тэгов.\n",
    ">\n",
    "> Он был создан в 2004 году Джоном Грубером и Аароном Шварцем."
   ]
  },
  {
   "cell_type": "markdown",
   "metadata": {},
   "source": [
    "Если нужно в текстовой ячейке написать код и чтобы он был красивым, то используем ``` код ``` (знак апострофа буква ё)  \n",
    "если код в одной строке, то можно один апостроф `import pandas as pd`  \n",
    "для многострочных кодов используем 3 апострофа в начале и в конце  "
   ]
  },
  {
   "cell_type": "markdown",
   "metadata": {},
   "source": [
    "``` \n",
    "import pandas as pd\n",
    "\n",
    "var = 10\n",
    "res = var * 100\n",
    "```"
   ]
  },
  {
   "cell_type": "markdown",
   "metadata": {},
   "source": [
    "Можно после открывающейся ``` написать язык, на котором написан код, тогда будет подсветка кода"
   ]
  },
  {
   "cell_type": "markdown",
   "metadata": {},
   "source": [
    "```python\n",
    "import pandas as pd\n",
    "\n",
    "var = 10\n",
    "res = var * 100\n",
    "```"
   ]
  },
  {
   "cell_type": "markdown",
   "metadata": {},
   "source": [
    "Ссылки"
   ]
  },
  {
   "cell_type": "markdown",
   "metadata": {},
   "source": [
    "[This is reference to google.com](https://google.com)"
   ]
  },
  {
   "cell_type": "markdown",
   "metadata": {},
   "source": [
    "<https://google.com>"
   ]
  },
  {
   "cell_type": "markdown",
   "metadata": {},
   "source": [
    "$\n",
    "y_i = \\beta_0 + \\beta_i \\cdot x_i\n",
    "$"
   ]
  },
  {
   "cell_type": "markdown",
   "metadata": {},
   "source": [
    "$$\n",
    "y_i = \\beta_0 + \\beta_i \\cdot x_i\n",
    "$$"
   ]
  },
  {
   "cell_type": "markdown",
   "metadata": {},
   "source": [
    "![title](test.png)"
   ]
  },
  {
   "cell_type": "markdown",
   "metadata": {},
   "source": [
    "![title2](https://avatars.mds.yandex.net/i?id=e1fb222c3891394a2d2a71bf6ca1efe92249d1e9-12802892-images-thumbs&n=13)"
   ]
  }
 ],
 "metadata": {
  "kernelspec": {
   "display_name": "Python 3.7.1 64-bit",
   "language": "python",
   "name": "python3"
  },
  "language_info": {
   "codemirror_mode": {
    "name": "ipython",
    "version": 3
   },
   "file_extension": ".py",
   "mimetype": "text/x-python",
   "name": "python",
   "nbconvert_exporter": "python",
   "pygments_lexer": "ipython3",
   "version": "3.7.1"
  },
  "orig_nbformat": 4,
  "vscode": {
   "interpreter": {
    "hash": "fbe58ca63fe33f9eeae9e71d10368d2b4a57f2b1b395836210cc60d362c66949"
   }
  }
 },
 "nbformat": 4,
 "nbformat_minor": 2
}
