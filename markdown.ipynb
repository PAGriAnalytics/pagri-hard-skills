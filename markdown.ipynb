{
 "cells": [
  {
   "cell_type": "markdown",
   "metadata": {},
   "source": [
    "https://skillbox.ru/media/code/yazyk-razmetki-markdown-shpargalka-po-sintaksisu-s-primerami/  \n",
    "https://paulradzkov.com/2014/markdown_cheatsheet/"
   ]
  },
  {
   "cell_type": "markdown",
   "metadata": {},
   "source": [
    "https://www.dmitrymakarov.ru/python/jupyter-notebook-14-02/"
   ]
  },
  {
   "cell_type": "markdown",
   "metadata": {},
   "source": [
    "Наводим красоту  \n",
    "\n",
    "https://habr.com/ru/articles/485318/"
   ]
  },
  {
   "cell_type": "markdown",
   "metadata": {},
   "source": [
    "сайт со специальными символами, которых нет на  клавиатуре,  \n",
    "можно скопировать и вставить в ячейку  \n",
    "https://fancy-text.net/en/special-characters.php"
   ]
  },
  {
   "cell_type": "markdown",
   "metadata": {},
   "source": [
    "в айди нельзя ставить символ _"
   ]
  },
  {
   "cell_type": "markdown",
   "metadata": {},
   "source": [
    "юпитер сам умеет формировать оглавления, его можно увидеть нажав на кнопку в юпитере  \n",
    "но можно сделать самому, если нужно, чтобы в начале было оглавление с кросс ссылками  "
   ]
  },
  {
   "cell_type": "markdown",
   "metadata": {},
   "source": [
    "Хороший шрифт для текста в jupyter  \n",
    "sans-serif"
   ]
  },
  {
   "cell_type": "code",
   "execution_count": null,
   "metadata": {},
   "outputs": [],
   "source": [
    "Этот код работает только в jupyter notebook\n",
    "Выводит графики в новых ячейках  \n",
    "Между ними можно в ручную добавить текстовые ячейки\n"
   ]
  },
  {
   "cell_type": "code",
   "execution_count": 2,
   "metadata": {},
   "outputs": [
    {
     "data": {
      "application/javascript": "\n        var cell = IPython.notebook.insert_cell_below(\"code\")\n        cell.set_text(\"graphs[1]\")\n        cell.execute()\n        ",
      "text/plain": [
       "<IPython.core.display.Javascript object>"
      ]
     },
     "metadata": {},
     "output_type": "display_data"
    }
   ],
   "source": [
    "from IPython.display import display, Javascript\n",
    "\n",
    "def add_cell(text,  type='code', direct='below'):\n",
    "    text = text.replace('\\n','\\\\n').replace(\"\\\"\", \"\\\\\\\"\").replace(\"'\", \"\\\\'\")\n",
    "    display(Javascript('''\n",
    "        var cell = IPython.notebook.insert_cell_{}(\"{}\")\n",
    "        cell.set_text(\"{}\")\n",
    "        cell.execute()\n",
    "        '''.format(direct, type, text)))\n",
    "graphs = []\n",
    "for i in range(3):\n",
    "    fig, _ = plt.subplots()\n",
    "    sns.lineplot([i,2,3])\n",
    "    plt.close()\n",
    "    graphs.append(fig)\n",
    "for i in range(len(graphs)-1, -1, -1):\n",
    "    add_cell(f'graphs[{i}]')\n"
   ]
  },
  {
   "cell_type": "code",
   "execution_count": null,
   "metadata": {},
   "outputs": [],
   "source": [
    "Следующий код скрывет содержимое ячейки  \n",
    "переменная в функции `toggle_text` дает название кнопки для открытия и скрытия\n",
    "This is an extension of Mathmagician's answer, which enables you to:\n",
    "\n",
    "toggle just a single cell (the JS function name has a random suffix, so if used more than one time, it would not conflict with other usages)\n",
    "toggle the cell below the current cell - this is super handy in RISE presentations where you may want to show the code, but then hide it to display its output\n"
   ]
  },
  {
   "cell_type": "code",
   "execution_count": null,
   "metadata": {},
   "outputs": [],
   "source": [
    "from IPython.display import HTML\n",
    "import random\n",
    "\n",
    "def hide_toggle(for_next=False):\n",
    "    this_cell = \"\"\"$('div.cell.code_cell.rendered.selected')\"\"\"\n",
    "    next_cell = this_cell + '.next()'\n",
    "\n",
    "    toggle_text = 'Toggle show/hide'  # text shown on toggle link\n",
    "    target_cell = this_cell  # target cell to control with toggle\n",
    "    js_hide_current = ''  # bit of JS to permanently hide code in current cell (only when toggling next cell)\n",
    "\n",
    "    if for_next:\n",
    "        target_cell = next_cell\n",
    "        toggle_text += ' next cell'\n",
    "        js_hide_current = this_cell + '.find(\"div.input\").hide();'\n",
    "\n",
    "    js_f_name = 'code_toggle_{}'.format(str(random.randint(1,2**64)))\n",
    "\n",
    "    html = \"\"\"\n",
    "        <script>\n",
    "            function {f_name}() {{\n",
    "                {cell_selector}.find('div.input').toggle();\n",
    "            }}\n",
    "\n",
    "            {js_hide_current}\n",
    "        </script>\n",
    "\n",
    "        <a href=\"javascript:{f_name}()\">{toggle_text}</a>\n",
    "    \"\"\".format(\n",
    "        f_name=js_f_name,\n",
    "        cell_selector=target_cell,\n",
    "        js_hide_current=js_hide_current, \n",
    "        toggle_text=toggle_text\n",
    "    )\n",
    "\n",
    "    return HTML(html)\n",
    "x = 1\n",
    "y = 2\n",
    "print('Result is {} + {}'.format(x, y))\n",
    "\n",
    "hide_toggle()"
   ]
  },
  {
   "cell_type": "markdown",
   "metadata": {},
   "source": [
    "<a href=\"#Глава-1\">Ссылка на главу 1</a>"
   ]
  },
  {
   "cell_type": "markdown",
   "metadata": {},
   "source": [
    "#### Промежуточный вывод"
   ]
  },
  {
   "cell_type": "markdown",
   "metadata": {},
   "source": [
    "выафывафыва\n",
    "#### Промежуточный вывод\n",
    "#### выафыа<a name='Промежуточный-вывод'></a>"
   ]
  },
  {
   "cell_type": "markdown",
   "metadata": {},
   "source": [
    "### Table of Contents\n",
    "* [Название пункта](#name-id)\n",
    "* [Название пункта](#name-id1)\n",
    "* [Введение](#Введение)"
   ]
  },
  {
   "cell_type": "markdown",
   "metadata": {},
   "source": [
    "<a name=\"name-id\"></a>\n",
    "<a class=\"anchor\" id=\"name-id\"></a>\n",
    "### Название пункта "
   ]
  },
  {
   "cell_type": "markdown",
   "metadata": {},
   "source": [
    "если нужно, чтобы заголовок не попал в оглавление, которое сделает юпитер,    \n",
    "то после заголовка пишем `<a class=\"tocSkip\"> `"
   ]
  },
  {
   "cell_type": "markdown",
   "metadata": {},
   "source": [
    "Если мы хотим создать вложенный заголовок и создать иерархию, то используем дополнительный # перед заголовком  \n",
    "то есть у нас заголовок первого уровня имеет 1 хэштэг, потом идет заголовок с двумя хэштэгами и потом снова 1 хэштэг  \n",
    "в оглавление это будет иерархически и появяться цифры перед заголовками  \n",
    "но в vs коде этого нет"
   ]
  },
  {
   "cell_type": "markdown",
   "metadata": {},
   "source": [
    "### Использоватение HTML <a class=\"anchor\" id=\"name-id1\"></a>"
   ]
  },
  {
   "cell_type": "markdown",
   "metadata": {},
   "source": [
    "<a name=\"Введение\"></a>\n",
    "# Введение"
   ]
  },
  {
   "cell_type": "markdown",
   "metadata": {},
   "source": [
    "<a name=\"Глава-1\"></a>\n",
    "# Глава 1"
   ]
  },
  {
   "cell_type": "markdown",
   "metadata": {},
   "source": [
    "Булиты внутри раскрывающегося содеражания можно делать \n",
    "- булитами (тогда нужно поставить пустую строку перед ним)\n",
    "- с помощью html (`<p style=\"margin: 20px;\">Тут текст</p>`)"
   ]
  },
  {
   "cell_type": "markdown",
   "metadata": {},
   "source": [
    "<details>\n",
    "    <summary>Это заголовок уровень 1</summary>\n",
    "    <details style=\"margin: 20px;\"> \n",
    "        <summary>Это первый заголовок уровень 2</summary>\n",
    "        <details style=\"margin: 20px;\">\n",
    "            <summary>Это первый заголовок уровень 3</summary>\n",
    "\n",
    "- sdfjkasjd\n",
    "- sdjfasjdfj\n",
    "        </details>\n",
    "        <details style=\"margin: 20px;\">\n",
    "            <summary>Это второй заголовок уровень 3</summary>\n",
    "\n",
    "    - sdfjkasjd\n",
    "    - sdjfasjdfj            \n",
    "        </details>\n",
    "    </details>\n",
    "    <details style=\"margin: 20px;\">\n",
    "    <summary>Это второй заголовок уровень 2</summary>\n",
    "        \n",
    "    - sdfjkasjd\n",
    "    - sdjfasjdfj            \n",
    "    </details>\n",
    "</details>\n"
   ]
  },
  {
   "cell_type": "markdown",
   "metadata": {},
   "source": [
    "Можно использовать кусок кода со стилем\n"
   ]
  },
  {
   "cell_type": "code",
   "execution_count": null,
   "metadata": {},
   "outputs": [],
   "source": [
    "%%html\n",
    "<style>\n",
    "summary::-webkit-details-marker{display:none;}\n",
    "summary::-moz-list-bullet{list-style-type:none;}\n",
    "summary::marker{display:none;} \n",
    "summary {\n",
    "   display:inline-block;\n",
    "   padding: .3em .6em .3em 1.5em;\n",
    "   font-size:1.4em;\n",
    "   cursor: pointer;\n",
    "   position: relative;\n",
    "}\n",
    "summary:before {  \n",
    "  left: .3em;\n",
    "  top: .4em;\n",
    "  color: transparent;\n",
    "  background: url(\"data:image/svg+xml;base64,PHN2ZyBoZWlnaHQ9IjM0IiB2aWV3Qm94PSIwIDAgMjQgMjQiIHdpZHRoPSIzNCIgeG1sbnM9Imh0dHA6Ly93d3cudzMub3JnLzIwMDAvc3ZnIj48cGF0aCBkPSJNOC41OSAxNi4zNGw0LjU4LTQuNTktNC41OC00LjU5TDEwIDUuNzVsNiA2LTYgNnoiLz48L3N2Zz4=\") no-repeat 50% 50% / 1em 1em;\n",
    "  width: 1em;\n",
    "  height: 1em;  \n",
    "  content: \"\";\n",
    "  position: absolute;\n",
    "  transition: transform .5s;\n",
    "}\n",
    "details[open] > summary:before {\n",
    "  transform: rotateZ(90deg);\n",
    "}\n",
    "summary ~ * {\n",
    "   padding:0 1em 0 1em;\n",
    "}\n",
    "details[open] summary ~ *{ \n",
    "  animation: sweep .5s ease-in-out;\n",
    "}\n",
    "@keyframes sweep {\n",
    "  0%    {opacity: 0;}\n",
    "  100%  {opacity: 1;}\n",
    "}\n",
    "summary:focus {\n",
    "  outline:0;\n",
    "  box-shadow: inset 0 0 1px rgba(0,0,0,0.3), inset 0 0 2px rgba(0,0,0,0.3);\n",
    "}\n",
    "details{\n",
    "  display:block;\n",
    "  margin-bottom: .5rem;\n",
    "}\n",
    "</style>"
   ]
  },
  {
   "cell_type": "code",
   "execution_count": null,
   "metadata": {},
   "outputs": [],
   "source": [
    "<ul class=\"tree\">\n",
    "  <span class=\"trian\"></span>\n",
    "  <li>\n",
    "    <details open>\n",
    "      <summary><a href=\"#name_link\">Название ссылки</a> </summary>\n",
    "      <ul>\n",
    "        <li>\n",
    "          <details>\n",
    "            <summary>Газовые</summary>\n",
    "            <ul>\n",
    "              <li>Юпитер</li>\n",
    "              <li>Сатурн</li>\n",
    "            </ul>\n",
    "          </details>\n",
    "        </li>\n",
    "        <li>\n",
    "          <details>\n",
    "            <summary>Ледяные</summary>\n",
    "            <ul>\n",
    "              <li>Уран</li>\n",
    "              <li>Нептун</li>\n",
    "            </ul>\n",
    "          </details>\n",
    "        </li>\n",
    "      </ul>\n",
    "    </details>\n",
    "  </li>\n",
    "</ul>"
   ]
  },
  {
   "cell_type": "markdown",
   "metadata": {},
   "source": [
    "# Заголовок 1 уровня\n",
    "## Заголовок 2 уровня    <a class=\"tocSkip\"> (этот заголовок не попадет в оглавление)\n",
    "### Заголовок 3 уровня\n",
    "\n",
    "Всего 6 уровней заголовков    \n"
   ]
  },
  {
   "cell_type": "markdown",
   "metadata": {},
   "source": [
    "Цветные блоки (работают в юпитере)"
   ]
  },
  {
   "cell_type": "markdown",
   "metadata": {},
   "source": [
    "<div class=\"alert alert-success\">\n",
    "    Этими \n",
    "</div>\n",
    "\n",
    "<div class=\"alert alert-warning\">\n",
    "    цветными блоками\n",
    "</div>\n",
    "\n",
    "<div class=\"alert alert-danger\">\n",
    "    пользуются ревьюеры\n",
    "</div>"
   ]
  },
  {
   "cell_type": "markdown",
   "metadata": {},
   "source": [
    "<div class=\"alert alert-info\"> <b>Студент</b> может выбрать такой цвет</div>"
   ]
  },
  {
   "cell_type": "markdown",
   "metadata": {},
   "source": [
    "*coursive*"
   ]
  },
  {
   "cell_type": "markdown",
   "metadata": {},
   "source": [
    "**bold text**"
   ]
  },
  {
   "cell_type": "markdown",
   "metadata": {},
   "source": [
    "* point 1\n",
    "* poin 2"
   ]
  },
  {
   "cell_type": "markdown",
   "metadata": {},
   "source": [
    "1. point 1\n",
    "2. point 2"
   ]
  },
  {
   "cell_type": "markdown",
   "metadata": {},
   "source": [
    "Абзацы отделяются пустой строкой до и после текста\n",
    "\n",
    "это абзац\n",
    "\n",
    "текст"
   ]
  },
  {
   "cell_type": "markdown",
   "metadata": {},
   "source": [
    "линия  --- или ***\n",
    "\n",
    "---"
   ]
  },
  {
   "cell_type": "markdown",
   "metadata": {},
   "source": [
    "**<font color=\"blue\">синий</font>**"
   ]
  },
  {
   "cell_type": "markdown",
   "metadata": {},
   "source": [
    "<div style=\"border:solid green 2px; padding: 20px\">\n",
    "рамка  \n",
    "\n",
    "рамка"
   ]
  },
  {
   "cell_type": "markdown",
   "metadata": {},
   "source": [
    "Возможно выделение и текстовых абзацев (так называемые blockquotes).\n",
    "\n",
    "> Markdown позволяет форматировать текст без использования тэгов.\n",
    ">\n",
    "> Он был создан в 2004 году Джоном Грубером и Аароном Шварцем."
   ]
  },
  {
   "cell_type": "markdown",
   "metadata": {},
   "source": [
    "Если нужно в текстовой ячейке написать код и чтобы он был красивым, то используем ``` код ``` (знак апострофа буква ё)  \n",
    "если код в одной строке, то можно один апостроф `import pandas as pd`  \n",
    "для многострочных кодов используем 3 апострофа в начале и в конце  "
   ]
  },
  {
   "cell_type": "markdown",
   "metadata": {},
   "source": [
    "``` \n",
    "import pandas as pd\n",
    "\n",
    "var = 10\n",
    "res = var * 100\n",
    "```"
   ]
  },
  {
   "cell_type": "markdown",
   "metadata": {},
   "source": [
    "Можно после открывающейся ``` написать язык, на котором написан код, тогда будет подсветка кода"
   ]
  },
  {
   "cell_type": "markdown",
   "metadata": {},
   "source": [
    "```python\n",
    "import pandas as pd\n",
    "\n",
    "var = 10\n",
    "res = var * 100\n",
    "```"
   ]
  },
  {
   "cell_type": "markdown",
   "metadata": {},
   "source": [
    "Ссылки"
   ]
  },
  {
   "cell_type": "markdown",
   "metadata": {},
   "source": [
    "[This is reference to google.com](https://google.com)"
   ]
  },
  {
   "cell_type": "markdown",
   "metadata": {},
   "source": [
    "<https://google.com>"
   ]
  },
  {
   "cell_type": "markdown",
   "metadata": {},
   "source": [
    "$\n",
    "y_i = \\beta_0 + \\beta_i \\cdot x_i\n",
    "$"
   ]
  },
  {
   "cell_type": "markdown",
   "metadata": {},
   "source": [
    "$$\n",
    "y_i = \\beta_0 + \\beta_i \\cdot x_i\n",
    "$$"
   ]
  },
  {
   "cell_type": "markdown",
   "metadata": {},
   "source": [
    "![title](test.png)"
   ]
  },
  {
   "cell_type": "markdown",
   "metadata": {},
   "source": [
    "![title2](https://avatars.mds.yandex.net/i?id=e1fb222c3891394a2d2a71bf6ca1efe92249d1e9-12802892-images-thumbs&n=13)"
   ]
  },
  {
   "cell_type": "markdown",
   "metadata": {},
   "source": [
    "Если нужно извлечь из notebook что-то"
   ]
  },
  {
   "cell_type": "code",
   "execution_count": null,
   "metadata": {},
   "outputs": [],
   "source": [
    "from nbformat import read\n",
    "\n",
    "with open('notebook.ipynb', 'r') as f:\n",
    "    notebook = read(f, as_version=4)\n",
    "\n",
    "# Пройдитесь по ячейкам ноутбука и выведите заголовки\n",
    "for cell in notebook.cells:\n",
    "    if cell.cell_type == 'markdown':\n",
    "        for line in cell.source.splitlines():\n",
    "            if line.startswith('#'):\n",
    "                print(line.strip())"
   ]
  },
  {
   "cell_type": "markdown",
   "metadata": {},
   "source": [
    "Функция для создания содержания"
   ]
  },
  {
   "cell_type": "code",
   "execution_count": null,
   "metadata": {},
   "outputs": [],
   "source": [
    "import urllib, json\n",
    "def generate_toc(notebook_path, indent_char=\"&emsp;\"):\n",
    "    is_markdown = lambda it: \"markdown\" == it[\"cell_type\"]\n",
    "    is_title = lambda it: it.strip().startswith(\"#\") and it.strip().lstrip(\"#\").lstrip()\n",
    "    with open(notebook_path, 'r') as in_f:\n",
    "        nb_json = json.load(in_f)\n",
    "    for cell in filter(is_markdown, nb_json[\"cells\"]):\n",
    "        for line in filter(is_title, cell[\"source\"]):\n",
    "            line = line.strip()\n",
    "            indent = indent_char * (line.index(\" \") - 1)\n",
    "            title = line.lstrip(\"#\").lstrip()\n",
    "            url = urllib.parse.quote(title.replace(\" \", \"-\"))\n",
    "            out_line = f\"{indent}[{title}](#{url})<br>\\n\"\n",
    "            print(out_line, end=\"\")\n",
    "generate_toc('notebook.ipynb')"
   ]
  }
 ],
 "metadata": {
  "kernelspec": {
   "display_name": "Python 3.7.1 64-bit",
   "language": "python",
   "name": "python3"
  },
  "language_info": {
   "codemirror_mode": {
    "name": "ipython",
    "version": 3
   },
   "file_extension": ".py",
   "mimetype": "text/x-python",
   "name": "python",
   "nbconvert_exporter": "python",
   "pygments_lexer": "ipython3",
   "version": "3.7.1"
  },
  "orig_nbformat": 4,
  "vscode": {
   "interpreter": {
    "hash": "fbe58ca63fe33f9eeae9e71d10368d2b4a57f2b1b395836210cc60d362c66949"
   }
  }
 },
 "nbformat": 4,
 "nbformat_minor": 2
}
