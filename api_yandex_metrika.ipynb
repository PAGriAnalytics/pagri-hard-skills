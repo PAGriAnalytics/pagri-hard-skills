{
 "cells": [
  {
   "cell_type": "markdown",
   "metadata": {},
   "source": [
    "https://yandex.ru/dev/metrika/doc/api2/concept/about.html"
   ]
  },
  {
   "cell_type": "markdown",
   "metadata": {},
   "source": [
    "открытый счетчик яндекс метрики 44147844  \n",
    "https://metrika.yandex.ru/dashboard?group=day&period=week&id=44147844"
   ]
  },
  {
   "cell_type": "markdown",
   "metadata": {},
   "source": [
    "### Оценка возможности создания запроса"
   ]
  },
  {
   "cell_type": "markdown",
   "metadata": {},
   "source": [
    "Первым сделаем запрос метода evaluate (англ. «оценивать»). Этот метод оценивает возможность создания запроса логов по его примерному размеру. Дело в том, что по заданным параметрам в Яндекс.Метрике может храниться слишком большой объём данных. Он будет слишком долго подготавливаться на серверах Яндекс.Метрики. Потому существуют ограничения: для одного счётчика Яндекс.Метрики суммарный размер данных в запросе не превышает 10 ГБ."
   ]
  },
  {
   "cell_type": "markdown",
   "metadata": {},
   "source": [
    "Запрос к методу evaluate выглядит так:"
   ]
  },
  {
   "cell_type": "raw",
   "metadata": {},
   "source": [
    "<https://api-metrika.yandex.net/management/v1/counter/{counterId}/logrequests/evaluate>\n",
    " ? [date1=<string>]\n",
    " & [date2=<string>]\n",
    " & [fields=<string>]\n",
    " & [source=<log_request_source>] "
   ]
  },
  {
   "cell_type": "markdown",
   "metadata": {},
   "source": [
    "counterId в URL — идентификатор счётчика."
   ]
  },
  {
   "cell_type": "markdown",
   "metadata": {
    "vscode": {
     "languageId": "raw"
    }
   },
   "source": [
    "Также передаётся несколько параметров get-запроса:\n",
    "- date1 — Первый день сбора статистики;\n",
    "- date2 — Последний день (не может быть текущим днём);\n",
    "- fields — Список полей через запятую. Этот параметр задаёт, какие поля из базы Яндекс.Метрики надо получать;\n",
    "- source — Источник логов. Может принимать одно из двух значений: visits или hits. В зависимости от выбранного значения будет происходить получение либо данных по посещениям, либо данных по хитам (просмотрам определённых страниц, выполнению целей)."
   ]
  },
  {
   "cell_type": "markdown",
   "metadata": {},
   "source": [
    "Осталось определиться с тем, из какого источника получать данные и какие поля выбрать. Это всегда зависит от задачи. Запросим, например, данные о посещениях с такими полями:\n",
    "- ym:s:visitID — идентификатор посещения;\n",
    "- ym:s:dateTime — время посещения;\n",
    "- ym:s:isNewUser — пользователь зашёл на сайт впервые или уже бывал;\n",
    "- ym:s:visitDuration — длительность посещения в секундах;\n",
    "- ym:s:startURL — URL страницы входа;\n",
    "- ym:s:clientID — идентификатор пользователя;\n",
    "- ym:s:lastTrafficSource — источник трафика посещения.\n",
    "\n",
    "Зададим все нужные параметры в соответствующих переменных:"
   ]
  },
  {
   "cell_type": "code",
   "execution_count": null,
   "metadata": {},
   "outputs": [],
   "source": [
    "COUNTER_ID = 44147844\n",
    "DATE1 = '2019-04-01'\n",
    "DATE2 = '2019-05-31'\n",
    "SOURCE = 'visits'\n",
    "FIELDS = ['ym:s:visitID', 'ym:s:dateTime', 'ym:s:isNewUser','ym:s:visitDuration',\n",
    "                 'ym:s:startURL', 'ym:s:clientID', 'ym:s:lastTrafficSource'] "
   ]
  },
  {
   "cell_type": "markdown",
   "metadata": {},
   "source": [
    "Сформируем словарь с параметрами:"
   ]
  },
  {
   "cell_type": "code",
   "execution_count": null,
   "metadata": {},
   "outputs": [],
   "source": [
    "PARAM = {\n",
    "        'date1': DATE1,\n",
    "        'date2':DATE2,\n",
    "        'source':SOURCE,\n",
    "        'fields':','.join(FIELDS)\n",
    "} "
   ]
  },
  {
   "cell_type": "markdown",
   "metadata": {},
   "source": [
    "Обратите внимание, поля FIELDS передают одной строкой. Чтобы сцепить строки из списка FIELDS вместе, вызывают метод join().\n",
    "\n",
    "Объявим URL для запроса. Подставим идентификатор счётчика counter_id в URL-адрес метода evaluate:"
   ]
  },
  {
   "cell_type": "code",
   "execution_count": null,
   "metadata": {},
   "outputs": [],
   "source": [
    "URL = 'https://api-metrika.yandex.ru/management/v1/counter/{counter_id}/logrequests/evaluate?'\\\n",
    "        .format(counter_id=COUNTER_ID) "
   ]
  },
  {
   "cell_type": "markdown",
   "metadata": {},
   "source": [
    "выполним GET-запрос и запишем результаты выполнения запроса в переменной r:"
   ]
  },
  {
   "cell_type": "code",
   "execution_count": null,
   "metadata": {},
   "outputs": [],
   "source": [
    "r = requests.get(URL,headers={'Authorization': 'OAuth {0}'.format(TOKEN)},params=PARA"
   ]
  },
  {
   "cell_type": "markdown",
   "metadata": {},
   "source": [
    "Обратите внимание, что помимо params, метод get() принимает параметр headers. Там содержатся HTTP-заголовки — служебные данные, которые передают серверу дополнительную информацию. Например, в каком формате должен быть возвращен ответ. В HTTP-заголовке 'Authorization' указали авторизационный токен."
   ]
  },
  {
   "cell_type": "code",
   "execution_count": null,
   "metadata": {},
   "outputs": [],
   "source": [
    "data = json.loads(r.text) \n"
   ]
  },
  {
   "cell_type": "markdown",
   "metadata": {},
   "source": [
    "Можно ли выполнить запрос получения данных из Logs API Яндекс.Метрики?"
   ]
  },
  {
   "cell_type": "code",
   "execution_count": null,
   "metadata": {},
   "outputs": [],
   "source": [
    "data['log_request_evaluation']['possible'] "
   ]
  },
  {
   "cell_type": "markdown",
   "metadata": {},
   "source": [
    "Результат:  \n",
    "True "
   ]
  },
  {
   "cell_type": "markdown",
   "metadata": {},
   "source": [
    "Можно!"
   ]
  },
  {
   "cell_type": "markdown",
   "metadata": {},
   "source": [
    "### Создание запроса логов"
   ]
  },
  {
   "cell_type": "markdown",
   "metadata": {},
   "source": [
    "Такие большие данные нельзя получить сразу! Сперва создают запрос логов: отправляют к API Яндекс.Метрики информацию о том, какой запрос хочется получить. Тогда сервера Яндекс.Метрики начнут его готовить.\n",
    "\n",
    "Запрос на отчёт создают методом logrequests. Вот как он выглядит:"
   ]
  },
  {
   "cell_type": "raw",
   "metadata": {
    "vscode": {
     "languageId": "raw"
    }
   },
   "source": [
    "<https://api-metrika.yandex.net/management/v1/counter/{counterId}/logrequests>\n",
    " ? [date1=<string>]\n",
    " & [date2=<string>]\n",
    " & [fields=<string>]\n",
    " & [source=<log_request_source>] "
   ]
  },
  {
   "cell_type": "markdown",
   "metadata": {},
   "source": [
    "Параметры get-запроса к методу logrequests такие же, как у метода evaluate:\n",
    "- date1 — Первый день сбора статистики;\n",
    "- date2 — Последний день (не может быть текущим днём);\n",
    "- fields — Список полей через запятую;\n",
    "- source — Источник логов."
   ]
  },
  {
   "cell_type": "markdown",
   "metadata": {},
   "source": [
    "Объявим URL запроса:"
   ]
  },
  {
   "cell_type": "code",
   "execution_count": null,
   "metadata": {},
   "outputs": [],
   "source": [
    "URL = 'https://api-metrika.yandex.ru/management/v1/counter/{counter_id}/logrequests?'\\\n",
    "        .format(counter_id=COUNTER_ID) "
   ]
  },
  {
   "cell_type": "markdown",
   "metadata": {},
   "source": [
    "Отправим post-запрос:"
   ]
  },
  {
   "cell_type": "code",
   "execution_count": null,
   "metadata": {},
   "outputs": [],
   "source": [
    "\n",
    "r = requests.post(URL,headers={'Authorization': 'OAuth {0}'.format(TOKEN)},params=PARAM) "
   ]
  },
  {
   "cell_type": "code",
   "execution_count": null,
   "metadata": {},
   "outputs": [],
   "source": [
    "data = json.loads(r.text)\n",
    "print(data) "
   ]
  },
  {
   "cell_type": "markdown",
   "metadata": {},
   "source": [
    "Получили те же параметры запроса, которые указали. А ещё request_id. Это идентификатор запроса логов. Сохраним его в переменной:\n"
   ]
  },
  {
   "cell_type": "code",
   "execution_count": null,
   "metadata": {},
   "outputs": [],
   "source": [
    "request_id = data['log_request']['request_id'] "
   ]
  },
  {
   "cell_type": "code",
   "execution_count": null,
   "metadata": {},
   "outputs": [],
   "source": []
  },
  {
   "cell_type": "code",
   "execution_count": null,
   "metadata": {},
   "outputs": [],
   "source": []
  },
  {
   "cell_type": "code",
   "execution_count": null,
   "metadata": {},
   "outputs": [],
   "source": []
  },
  {
   "cell_type": "code",
   "execution_count": null,
   "metadata": {},
   "outputs": [],
   "source": []
  },
  {
   "cell_type": "code",
   "execution_count": 1,
   "metadata": {},
   "outputs": [
    {
     "name": "stdout",
     "output_type": "stream",
     "text": [
      "total Count_1 ['10.33894029']\n"
     ]
    }
   ],
   "source": [
    "import requests\n",
    "import sys\n",
    "import pprint\n",
    "\n",
    "\n",
    "ids = {\n",
    "\n",
    "    'Count_1': 44147844,\n",
    "    # 'Count_2': 42219334,\n",
    "    # 'Count_3': 21781912,\n",
    "}\n",
    "\n",
    "# Адрес api метода для запроса get \n",
    "# data_format = 'csv'\n",
    "report_format = 'json'\n",
    "url = f\"https://api-metrika.yandex.net/stat/v1/data.{report_format}\"\n",
    "payload = {\n",
    "    'metrics': 'ym:s:avgPageViews', \n",
    "    'dimensions': 'ym:s:operatingSystem',\n",
    "    'date1': '2018-09-01',\n",
    "    'date2': '2018-11-30',\n",
    "    # 'filters': \"ym:s:deviceCategory!='mobile'\",\n",
    "    'ids': 44147844,\n",
    "    # 'accuracy': 'full',\n",
    "    'pretty': True,\n",
    "    # 'oauth_token': '05dd3dd84ff948fdae2bc4fb91f13e22bb1f289ceef0037',\n",
    "    # 'limit': 100,\n",
    "# Важный момент! Когда вы смотрите данные на сайте «Яндекс.Метрики», во всех отчетах отображаются данные без учета статистик, которые формируются при посещении сайта поисковыми и иными техническими роботами.\n",
    "# А данные, возвращаемые API «Яндекс.Метрики», по умолчанию содержат всю информацию, в том числе с учетом «роботов». Разница может быть достаточно ощутимой    \n",
    "    'filters' : \"ym:s:isRobot=='No'\"\n",
    "}\n",
    "\n",
    "\n",
    "for key, value in ids.items():\n",
    "    payload['ids'] = value\n",
    "    r = requests.get(url, params=payload)\n",
    "    # pprint.pprint(r.json())\n",
    "    data = str(r.json()['max'])[1:-1].split(\",\")\n",
    "    print('total', key, data)\n",
    "\n",
    "    \n",
    "\n",
    "\n"
   ]
  },
  {
   "cell_type": "code",
   "execution_count": 42,
   "metadata": {},
   "outputs": [
    {
     "name": "stdout",
     "output_type": "stream",
     "text": [
      "Счетчик Count_1 ['36551.0', ' 10112.0', ' 17309.0']\n",
      "Счетчик Count_2 ['22768699.0', ' 584861.0', ' 2656932.0']\n",
      "Счетчик Count_3 ['13693.0', ' 7848.0', ' 10047.0']\n",
      "Счетчик Count_4 ['36551.0', ' 10112.0', ' 17309.0']\n",
      "Счетчик Count_5 ['22768699.0', ' 584861.0', ' 2656932.0']\n",
      "Счетчик Count_6 ['13693.0', ' 7848.0', ' 10047.0']\n"
     ]
    }
   ],
   "source": [
    "import requests\n",
    "import xlsxwriter\n",
    "\n",
    "\n",
    "workbook = xlsxwriter.Workbook('/Users/sashashi/Desktop/File.xlsx')\n",
    "worksheet = workbook.add_worksheet()\n",
    "bold = workbook.add_format({'bold': True})\n",
    "worksheet.write(0, 0, 'Название счетчика', bold)\n",
    "worksheet.write(0, 1, 'Номер счетчика', bold)\n",
    "worksheet.write(0, 2, 'Pageviews', bold)\n",
    "worksheet.write(0, 3, 'Users', bold)\n",
    "worksheet.write(0, 4, 'Visits', bold)\n",
    "\n",
    "\n",
    "ids = {\n",
    "\n",
    "    'Count_1': 49948510,\n",
    "    'Count_2': 42219334,\n",
    "    'Count_3': 21781912,\n",
    "}\n",
    "\n",
    "payload = {\n",
    "    'metrics': 'ym:s:pageviews, ym:s:users, ym:s:visits',\n",
    "    'date1': '2018-09-01',\n",
    "    'date2': '2018-11-30',\n",
    "    'filters': \"ym:s:deviceCategory!='mobile'\",\n",
    "    'ids': 49948510,\n",
    "    'accuracy': 'high',\n",
    "    'limit': 10000,\n",
    "    'pretty': True,\n",
    "    'oauth_token':'AQAEA7qiTBNJAAVUsos1JB7stE6fiJV_SG11uso'\n",
    "}\n",
    "\n",
    "for key, value in ids.items():\n",
    "    payload['ids'] = value\n",
    "    r = requests.get('https://api-metrika.yandex.ru/stat/v1/data', params=payload)\n",
    "    worksheet.write(i, 0, key)\n",
    "    worksheet.write(i, 1, str(payload['ids']))\n",
    "    data = str(r.json()['max'])[1:-1].split(\",\")\n",
    "    worksheet.write(i, 2, data[0])\n",
    "    worksheet.write(i, 3, data[1])\n",
    "    worksheet.write(i, 4, data[2])\n",
    "    payload['ids'] = value\n",
    "    print('Счетчик', key, data)\n",
    "\n",
    "\n",
    "workbook.close()\n"
   ]
  },
  {
   "cell_type": "markdown",
   "metadata": {},
   "source": [
    "tapi_yandex_metrika"
   ]
  },
  {
   "cell_type": "code",
   "execution_count": null,
   "metadata": {},
   "outputs": [],
   "source": [
    "!pip install tapi_yandex_metrika"
   ]
  },
  {
   "cell_type": "markdown",
   "metadata": {},
   "source": [
    "https://github.com/pavelmaksimov/tapi-yandex-metrika"
   ]
  },
  {
   "cell_type": "code",
   "execution_count": null,
   "metadata": {},
   "outputs": [],
   "source": [
    "from tapi_yandex_metrika import YandexMetrikaStats\n",
    "ACCESS_TOKEN = \"AgAAAAAJ8KAaAAYl4OT0R-7vKU3IkJuf0A0lN5M\"\n",
    "# По умолчанию возвращаются только 10000 строк отчета, \n",
    "# если не указать другое кол-во в параметре limit.\n",
    "# В отчете может быть больше строк, чем указано в limit \n",
    "# Тогда необходимо сделать несколько запросов для получения всего отчета.\n",
    "# Чтоб сделать это автоматически вы можете указать \n",
    "# параметр receive_all_data=True при инициализации класса.\n",
    "api = YandexMetrikaStats(\n",
    "    access_token=ACCESS_TOKEN, \n",
    "    # Если True, будет скачивать все части отчета. По умолчанию False.\n",
    "    receive_all_data=True\n",
    ")\n",
    "params = dict(\n",
    "    ids=\"44147844\",\n",
    "    metrics=\"ym:s:visits,ym:s:bounces\",\n",
    "    dimensions=\"ym:s:date,ym:s:startOfMonth\",\n",
    "    sort=\"ym:s:date\",\n",
    "    limit=10\n",
    ")\n",
    "result = api.stats().get(params=params)\n",
    "print(result().data)"
   ]
  },
  {
   "cell_type": "code",
   "execution_count": null,
   "metadata": {},
   "outputs": [],
   "source": [
    "from tapi_yandex_metrika import YandexMetrikaStats\n",
    "import json\n",
    "import pandas as pd\n",
    "ACCESS_TOKEN = \"AgAAdsf4fffaAAYl4OT0R-7vKU3IkJuf0A0lN5M\"\n",
    "METRIC_IDS = \"54333315\"\n",
    "# По умолчанию возвращаются только 10000 строк отчета, \n",
    "# если не указать другое кол-во в параметре limit.\n",
    "# В отчете может быть больше строк, чем указано в limit \n",
    "# Тогда необходимо сделать несколько запросов для получения всего отчета.\n",
    "# Чтоб сделать это автоматически вы можете указать \n",
    "# параметр receive_all_data=True при инициализации класса.\n",
    "#Параметры запроса для библиотеки tapi_yandex_metrika\n",
    "api = YandexMetrikaStats(\n",
    "    access_token=ACCESS_TOKEN, \n",
    "    # Если True, будет скачивать все части отчета. По умолчанию False.\n",
    "    receive_all_data=True\n",
    ")\n",
    "#Параметры запроса для библиотеки tapi_yandex_metrika\n",
    "params = dict(\n",
    "    ids = METRIC_IDS,\n",
    "    metrics = \"ym:s:users,ym:s:visits,ym:s:pageviews,ym:s:bounceRate,ym:s:pageDepth,ym:s:avgVisitDurationSeconds\",\n",
    "    dimensions = \"ym:s:date,ym:s:<attribution>TrafficSource,ym:s:<attribution>SourceEngine,ym:s:gender\",\n",
    "    date1 = \"2daysAgo\",\n",
    "    date2 = \"yesterday\",\n",
    "    sort = \"ym:s:date\",\n",
    "    accuracy=\"full\",\n",
    "    limit = 200\n",
    ")\n",
    "#Получаем данные из Yandex.Metrika API\n",
    "result = api.stats().get(params=params)\n",
    "result = result().data\n",
    "result = result[0]['data']\n",
    "#Создаем пустой dict (словать данных)\n",
    "dict_data = {}\n",
    "#Парсим исходный list формата Json в dictionary (словарь данных)\n",
    "for i in range(0, len(result)-1):\n",
    "    dict_data[i] = {\n",
    "            'date':result[i][\"dimensions\"][0][\"name\"],\n",
    "            'traffic-source':result[i][\"dimensions\"][1][\"name\"],\n",
    "            'traffic-details':result[i][\"dimensions\"][2][\"name\"],\n",
    "            'users':result[i][\"metrics\"][0],\n",
    "            'visits':result[i][\"metrics\"][1],\n",
    "            'pageviews':result[i][\"metrics\"][2],\n",
    "            'bounceRate':result[i][\"metrics\"][3],\n",
    "            'pageDepth':result[i][\"metrics\"][4],\n",
    "            'avgVisitDurationSeconds':result[i][\"metrics\"][5]\n",
    "          }\n",
    "#Создаем DataFrame из dict (словаря данных или массива данных)\n",
    "dict_keys = dict_data[0].keys()\n",
    "df = pd.DataFrame.from_dict(dict_data, orient='index',columns=dict_keys)\n",
    "#Выгрузка данных из DataFrame в Excel\n",
    "df.to_excel(\"Трафик.xlsx\",\n",
    "        sheet_name='data',\n",
    "        index=False)"
   ]
  },
  {
   "cell_type": "code",
   "execution_count": null,
   "metadata": {},
   "outputs": [],
   "source": []
  },
  {
   "cell_type": "code",
   "execution_count": null,
   "metadata": {},
   "outputs": [],
   "source": []
  }
 ],
 "metadata": {
  "kernelspec": {
   "display_name": "Python 3.7.1 64-bit",
   "language": "python",
   "name": "python3"
  },
  "language_info": {
   "codemirror_mode": {
    "name": "ipython",
    "version": 3
   },
   "file_extension": ".py",
   "mimetype": "text/x-python",
   "name": "python",
   "nbconvert_exporter": "python",
   "pygments_lexer": "ipython3",
   "version": "3.7.1"
  },
  "vscode": {
   "interpreter": {
    "hash": "fbe58ca63fe33f9eeae9e71d10368d2b4a57f2b1b395836210cc60d362c66949"
   }
  }
 },
 "nbformat": 4,
 "nbformat_minor": 2
}
