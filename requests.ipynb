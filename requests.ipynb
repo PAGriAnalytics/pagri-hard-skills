{
 "cells": [
  {
   "cell_type": "markdown",
   "metadata": {},
   "source": [
    "HTTP-МЕТОД\tОПИСАНИЕ  \n",
    "GET\tПолучить существующие данные  \n",
    "POST\tДобавить новые данные  \n",
    "PUT\tОбновить существующие данные  \n",
    "PATCH\tЧастично обновить существующие данные  \n",
    "DELETE\tУдалить данные  "
   ]
  },
  {
   "cell_type": "markdown",
   "metadata": {},
   "source": [
    "КОД\tКАТЕГОРИЯ РЕЗУЛЬТАТА  \n",
    "1хх\tИнформационный ответ  \n",
    "2хх\tУспешная операция  \n",
    "3хх\tПеренаправление  \n",
    "4хх\tОшибка на стороне клиента  \n",
    "5хх\tОшибка на стороне сервера  "
   ]
  },
  {
   "cell_type": "code",
   "execution_count": 1,
   "metadata": {},
   "outputs": [
    {
     "data": {
      "text/plain": [
       "<Response [200]>"
      ]
     },
     "execution_count": 1,
     "metadata": {},
     "output_type": "execute_result"
    }
   ],
   "source": [
    "import requests, json\n",
    " \n",
    "# Enter your API key here\n",
    "api_key = \"8ac2a8d783817ebd7954d7292a2fd3ce\"\n",
    " \n",
    "# base_url variable to store url\n",
    "base_url = \"http://api.openweathermap.org/data/2.5/weather?\"\n",
    " \n",
    "# Give city name\n",
    "city_name = 'moscow'\n",
    " \n",
    "# complete_url variable to store\n",
    "# complete url address\n",
    "complete_url = base_url + \"appid=\" + api_key + \"&q=\" + city_name\n",
    " \n",
    "# get method of requests module\n",
    "# return response object\n",
    "response = requests.get(complete_url)\n",
    " \n",
    "# json method of response object \n",
    "# convert json format data into\n",
    "# python format data\n",
    "x = response.json()\n",
    "\n",
    "# Now x contains list of nested dictionaries\n",
    "# Check the value of \"cod\" key is equal to\n",
    "# \"404\", means city is found otherwise,\n",
    "# city is not found\n",
    "\n",
    "# if x[\"cod\"] != \"404\":\n",
    " \n",
    "#     # store the value of \"main\"\n",
    "#     # key in variable y\n",
    "#     y = x[\"main\"]\n",
    " \n",
    "#     # store the value corresponding\n",
    "#     # to the \"temp\" key of y\n",
    "#     current_temperature = y[\"temp\"]\n",
    " \n",
    "#     # store the value corresponding\n",
    "#     # to the \"pressure\" key of y\n",
    "#     current_pressure = y[\"pressure\"]\n",
    " \n",
    "#     # store the value corresponding\n",
    "#     # to the \"humidity\" key of y\n",
    "#     current_humidity = y[\"humidity\"]\n",
    " \n",
    "#     # store the value of \"weather\"\n",
    "#     # key in variable z\n",
    "#     z = x[\"weather\"]\n",
    " \n",
    "#     # store the value corresponding \n",
    "#     # to the \"description\" key at \n",
    "#     # the 0th index of z\n",
    "#     weather_description = z[0][\"description\"]\n",
    " \n",
    "#     # print following values\n",
    "#     print(\" Temperature (in kelvin unit) = \" +\n",
    "#                     str(current_temperature) +\n",
    "#           \"\\n atmospheric pressure (in hPa unit) = \" +\n",
    "#                     str(current_pressure) +\n",
    "#           \"\\n humidity (in percentage) = \" +\n",
    "#                     str(current_humidity) +\n",
    "#           \"\\n description = \" +\n",
    "#                     str(weather_description))\n",
    " \n",
    "# else:\n",
    "#     print(\" City Not Found \")"
   ]
  },
  {
   "cell_type": "code",
   "execution_count": null,
   "metadata": {},
   "outputs": [],
   "source": [
    "headers = {\n",
    "    \"User-Agent\":\n",
    "        \"Mozilla/5.0 (Windows NT 6.3; WOW64) AppleWebKit/537.36 (KHTML, like Gecko) Chrome/44.0.2403.157 Safari/537.36\"\n",
    "}\n",
    "payload = {'as_epq': 'James Clark', 'tbs':'cdr:1,cd_min:01/01/2015,cd_max:01/01/2015', 'tbm':'nws'}\n",
    "r = requests.get(\"https://www.google.com/search\", params=payload, headers=headers)"
   ]
  },
  {
   "cell_type": "code",
   "execution_count": 6,
   "metadata": {},
   "outputs": [],
   "source": []
  },
  {
   "cell_type": "code",
   "execution_count": 8,
   "metadata": {},
   "outputs": [],
   "source": [
    "import json"
   ]
  },
  {
   "cell_type": "code",
   "execution_count": null,
   "metadata": {},
   "outputs": [],
   "source": []
  },
  {
   "cell_type": "code",
   "execution_count": null,
   "metadata": {},
   "outputs": [],
   "source": []
  },
  {
   "cell_type": "code",
   "execution_count": 2,
   "metadata": {},
   "outputs": [
    {
     "name": "stdout",
     "output_type": "stream",
     "text": [
      "-------------New Delhi-------------\n",
      "City ID: 1261481\n",
      "Temperature: 307.24\n",
      "Feel Like: 314.24\n",
      "Humidity: 62\n",
      "Pressure: 992\n",
      "Weather Report: haze\n",
      "Wind Speed: 2.57\n",
      "Time Zone: 19800\n"
     ]
    }
   ],
   "source": [
    "import requests, json\n",
    "\n",
    "# API base URL\n",
    "BASE_URL = \"https://api.openweathermap.org/data/2.5/weather?\"\n",
    "\n",
    "# City Name\n",
    "CITY = \"New Delhi\"\n",
    "\n",
    "# Your API key\n",
    "API_KEY = \"8ac2a8d783817ebd7954d7292a2fd3ce\"\n",
    "\n",
    "# updating the URL\n",
    "URL = BASE_URL + \"q=\" + CITY + \"&appid=\" + API_KEY\n",
    "\n",
    "# Sending HTTP request\n",
    "response = requests.get(URL)\n",
    "\n",
    "# checking the status code of the request\n",
    "if response.status_code == 200:\n",
    "    \n",
    "   # retrieving data in the json format\n",
    "   data = response.json()\n",
    "   \n",
    "   # take the main dict block\n",
    "   main = data['main']\n",
    "   \n",
    "   # getting temperature\n",
    "   temperature = main['temp']\n",
    "   # getting feel like\n",
    "   temp_feel_like = main['feels_like']  \n",
    "   # getting the humidity\n",
    "   humidity = main['humidity']\n",
    "   # getting the pressure\n",
    "   pressure = main['pressure']\n",
    "   \n",
    "   # weather report\n",
    "   weather_report = data['weather']\n",
    "   # wind report\n",
    "   wind_report = data['wind']\n",
    "   \n",
    "   print(f\"{CITY:-^35}\")\n",
    "   print(f\"City ID: {data['id']}\")   \n",
    "   print(f\"Temperature: {temperature}\")\n",
    "   print(f\"Feel Like: {temp_feel_like}\")    \n",
    "   print(f\"Humidity: {humidity}\")\n",
    "   print(f\"Pressure: {pressure}\")\n",
    "   print(f\"Weather Report: {weather_report[0]['description']}\")\n",
    "   print(f\"Wind Speed: {wind_report['speed']}\")\n",
    "   print(f\"Time Zone: {data['timezone']}\")\n",
    "else:\n",
    "   # showing the error message\n",
    "   print(\"Error in the HTTP request\")"
   ]
  }
 ],
 "metadata": {
  "kernelspec": {
   "display_name": "Python 3.7.1 64-bit",
   "language": "python",
   "name": "python3"
  },
  "language_info": {
   "codemirror_mode": {
    "name": "ipython",
    "version": 3
   },
   "file_extension": ".py",
   "mimetype": "text/x-python",
   "name": "python",
   "nbconvert_exporter": "python",
   "pygments_lexer": "ipython3",
   "version": "3.7.1"
  },
  "orig_nbformat": 4,
  "vscode": {
   "interpreter": {
    "hash": "fbe58ca63fe33f9eeae9e71d10368d2b4a57f2b1b395836210cc60d362c66949"
   }
  }
 },
 "nbformat": 4,
 "nbformat_minor": 2
}
