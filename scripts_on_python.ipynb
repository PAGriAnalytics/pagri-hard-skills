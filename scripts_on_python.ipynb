{
 "cells": [
  {
   "cell_type": "markdown",
   "metadata": {},
   "source": [
    "getopt (от англ. get options, «получить опции») считывает входные параметры, или опции. Это могут быть даты, параметры подключения к базам данных или имена файлов. В общем, всё что угодно!\n",
    "\n",
    "Библиотека sys (от англ. system, «система») импортирует системные функции. В скрипте пригодится её функция sys.exit(): она прервёт выполнение скрипта, если он будет запущен без входных параметров. "
   ]
  },
  {
   "cell_type": "code",
   "execution_count": null,
   "metadata": {},
   "outputs": [],
   "source": [
    "#!/usr/bin/python\n",
    "# -*- coding: utf-8 -*-\n",
    "\n",
    "# Импортируем нужные библиотеки\n",
    "import sys\n",
    "import getopt\n",
    "\n",
    "if __name__ == '__main__':\n",
    "\n",
    "    # Задаём формат входных параметров\n",
    "    unixOptions = 's:e'  \n",
    "    gnuOptions = ['start_dt=', 'end_dt=']\n",
    "\n",
    "    # Получаем строку входных параметров\n",
    "    fullCmdArguments = sys.argv\n",
    "    argumentList = fullCmdArguments[1:]\n",
    "\n",
    "    # Проверяем входные параметры на соответствие формату,\n",
    "    # заданному в unixOptions и gnuOptions\n",
    "    try:  \n",
    "        arguments, values = getopt.getopt(argumentList, unixOptions, gnuOptions)\n",
    "    except getopt.error as err:  \n",
    "        print (str(err))\n",
    "        sys.exit(2)      # Прерываем выполнение, если входные параметры некорректны\n",
    "\n",
    "    # Считываем значения из строки входных параметров\n",
    "    start_dt = ''\n",
    "    end_dt = ''   \n",
    "    for currentArgument, currentValue in arguments:  \n",
    "        if currentArgument in ('-s', '--start_dt'):\n",
    "            start_dt = currentValue                                   \n",
    "        elif currentArgument in ('-e', '--end_dt'):\n",
    "            end_dt = currentValue        \n",
    "\n",
    "    # Выводим результат\n",
    "    print(start_dt, end_dt) "
   ]
  }
 ],
 "metadata": {
  "language_info": {
   "name": "python"
  }
 },
 "nbformat": 4,
 "nbformat_minor": 2
}
