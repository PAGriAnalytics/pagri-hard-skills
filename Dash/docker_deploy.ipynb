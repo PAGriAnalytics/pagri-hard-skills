{
 "cells": [
  {
   "cell_type": "markdown",
   "metadata": {},
   "source": [
    "## Вариант деплоя номер 1"
   ]
  },
  {
   "cell_type": "markdown",
   "metadata": {},
   "source": [
    "https://github.com/quant-aq/Plotly-Dash-Traefik-Example  \n",
    "https://blog.quant-aq.com/deploying-web-based-analytic-dashboards-using-plotly-dash-docker-and-traefik/"
   ]
  },
  {
   "cell_type": "markdown",
   "metadata": {},
   "source": [
    "## Вариант деплоя номер 2"
   ]
  },
  {
   "cell_type": "markdown",
   "metadata": {},
   "source": [
    "Докер оперирует двумя терминами \n",
    "- контейнер \n",
    "это размороженный (развернутый) образ  \n",
    "то есть мы берем образ и разворачиваем его в контейнер  \n",
    "- образ  \n",
    "это что-то настроенное и замороженной (операционная система, база данных)"
   ]
  },
  {
   "cell_type": "markdown",
   "metadata": {},
   "source": [
    "Докер образ собирается из докер файла.   \n",
    "Докер файл - это последовательность команд, которая собирает образ (например какую-то операционную систему с той начинкой, которая нам нужна)"
   ]
  },
  {
   "cell_type": "markdown",
   "metadata": {},
   "source": [
    "Последовательность следующая  \n",
    "- создается докер файл\n",
    "- билдится докер файл и получается образ\n",
    "- далее разворачивается образ в контейнер и можно работать"
   ]
  },
  {
   "cell_type": "markdown",
   "metadata": {},
   "source": [
    "Образ для дэша можно создать на основае образа `tiangolo/uwsgi-nginx-flask`"
   ]
  },
  {
   "cell_type": "markdown",
   "metadata": {},
   "source": [
    "У нас должна быть папка с приложениями (дашбордами)    \n",
    "Какждая папка внутри этой папки это отдельное приложение (дашборд)  \n",
    "И в этой же папке лежит `docker-compose.yml`  \n",
    "Далее в какждой папке дашборда должен лежать свой `Dockerfile`  \n",
    "Нам нужно в `docker-compose.yml` прописать в `services`    \n",
    "наши апки (пути до них и как билдить)\n",
    "далее мы можем находясь в папке с `docker-compose.yml`  \n",
    "запускать отдельные дашборды или все вместе и управлять ими    "
   ]
  },
  {
   "cell_type": "markdown",
   "metadata": {},
   "source": [
    "Важно файл с дашбордом называть  `main.py`  \n",
    "и в этом фале должно быть (в отличии от обычного  запуска дэша)"
   ]
  },
  {
   "cell_type": "code",
   "execution_count": null,
   "metadata": {},
   "outputs": [],
   "source": [
    "# В этом файле нужно прописать строчку для фласка вместе со строчкой для дэша\n",
    "#  в сервер в даше прокинуть сервер фласка\n",
    "# и конечно имопртировать flask  \n",
    "# Инициализируем сервер\n",
    "import flask\n",
    "import dash\n",
    "app = flask.Flask(__name__)\n",
    "dash_app = dash.Dash(__name__, server = app, url_base_pathname = '/')\n",
    "# Запускаем приложение так\n",
    "if __name__ == '__main__':\n",
    "    dash_app.run_server(host=\"0.0.0.0\", debug=True, port=80)"
   ]
  },
  {
   "cell_type": "markdown",
   "metadata": {},
   "source": [
    "Докер файл выглядит так"
   ]
  },
  {
   "cell_type": "code",
   "execution_count": null,
   "metadata": {
    "vscode": {
     "languageId": "shellscript"
    }
   },
   "outputs": [],
   "source": [
    "# Dockerfile название без расширений\n",
    "FROM tiangolo/uwsgi-nginx-flask:python3.8\n",
    "\n",
    "COPY ./app /app\n",
    "\n",
    "WORKDIR /app\n",
    "\n",
    "RUN pip install --upgrade pip\n",
    "\n",
    "RUN pip install -r requirements.txt"
   ]
  },
  {
   "cell_type": "markdown",
   "metadata": {},
   "source": [
    "docker-compose выглядит так  \n",
    "лежит в той же папке где докер файл"
   ]
  },
  {
   "cell_type": "code",
   "execution_count": null,
   "metadata": {
    "vscode": {
     "languageId": "shellscript"
    }
   },
   "outputs": [],
   "source": [
    "# docker-compose.yml\n",
    "version: '3'\n",
    "services:\n",
    "  web:\n",
    "    # Ключевое слово \"build\" позволяет задать\n",
    "    # путь к файлу Dockerfile, который нужно использовать для создания образа,\n",
    "    # который позволит запустить сервис.\n",
    "    build: ./app1\n",
    "    volumes:\n",
    "      - ./app:/app\n",
    "    # Вспомните о том, что в качестве порта в 'server/server.py' указан порт 80.\n",
    "    # Если мы хотим обратиться к серверу с нашего компьютера (находясь за пределами контейнера),\n",
    "    # мы должны организовать перенаправление этого порта на порт компьютера.\n",
    "    # Сделать это нам поможет ключевое слово 'ports'.\n",
    "    # При его использовании применяется следующая конструкция: [порт компьютера]:[порт контейнера]\n",
    "    # В нашем случае нужно использовать порт компьютера 80 и организовать его связь с портом\n",
    "    # 80 контейнера (так как именно на этот порт сервер \n",
    "    # ожидает поступления запросов).      \n",
    "    ports:\n",
    "      - \"80:80\"\n",
    "    # environment - настройки переменных окружения\n",
    "    environment:\n",
    "      - FLASK_APP=main.py\n",
    "      - FLASK_DEBUG=1\n",
    "      - 'RUN=flask run --host=0.0.0.0 --port=80'\n",
    "    # 'command' - Команда, которую нужно запустить после создания образа.\n",
    "    # command: flask run --host=0.0.0.0 --port=80\n",
    "    # Infinite loop, to keep it alive, for debugging\n",
    "    # command: bash -c \"while true; do echo 'sleeping...' && sleep 10; done\""
   ]
  },
  {
   "cell_type": "markdown",
   "metadata": {},
   "source": [
    "Сборка проекта"
   ]
  },
  {
   "cell_type": "markdown",
   "metadata": {},
   "source": [
    "После того, как в docker-compose.yml внесены все необходимые инструкции, проект нужно собрать.   \n",
    "Этот шаг нашей работы напоминает использование команды docker build, но соответствующая команда имеет отношение к нескольким сервисам:"
   ]
  },
  {
   "cell_type": "code",
   "execution_count": null,
   "metadata": {
    "vscode": {
     "languageId": "shellscript"
    }
   },
   "outputs": [],
   "source": [
    "docker-compose build"
   ]
  },
  {
   "cell_type": "markdown",
   "metadata": {},
   "source": [
    "Запуск проекта"
   ]
  },
  {
   "cell_type": "markdown",
   "metadata": {},
   "source": [
    "Теперь, когда проект собран, пришло время его запустить. Этот шаг нашей работы соответствует шагу,   \n",
    "на котором, при работе с отдельными контейнерами, выполняется команда docker run"
   ]
  },
  {
   "cell_type": "code",
   "execution_count": null,
   "metadata": {
    "vscode": {
     "languageId": "shellscript"
    }
   },
   "outputs": [],
   "source": [
    "docker-compose up"
   ]
  },
  {
   "cell_type": "markdown",
   "metadata": {},
   "source": [
    "Полезные команды"
   ]
  },
  {
   "cell_type": "code",
   "execution_count": null,
   "metadata": {
    "vscode": {
     "languageId": "shellscript"
    }
   },
   "outputs": [],
   "source": [
    "# Эта команда позволяет останавливать и удалять контейнеры и другие ресурсы, созданные командой docker-compose up:\n",
    "docker-compose down"
   ]
  },
  {
   "cell_type": "code",
   "execution_count": null,
   "metadata": {
    "vscode": {
     "languageId": "shellscript"
    }
   },
   "outputs": [],
   "source": [
    "# Эта команда выводит журналы сервисов:\n",
    "docker-compose logs -f [service name]"
   ]
  },
  {
   "cell_type": "code",
   "execution_count": null,
   "metadata": {
    "vscode": {
     "languageId": "shellscript"
    }
   },
   "outputs": [],
   "source": [
    "# С помощью такой команды можно вывести список контейнеров:\n",
    "docker-compose ps"
   ]
  },
  {
   "cell_type": "code",
   "execution_count": null,
   "metadata": {
    "vscode": {
     "languageId": "shellscript"
    }
   },
   "outputs": [],
   "source": [
    "# Данная команда позволяет выполнить команду в выполняющемся контейнере:\n",
    "docker-compose exec [service name] [command]"
   ]
  },
  {
   "cell_type": "code",
   "execution_count": null,
   "metadata": {
    "vscode": {
     "languageId": "shellscript"
    }
   },
   "outputs": [],
   "source": [
    "# Такая команда позволяет вывести список образов:\n",
    "docker-compose images"
   ]
  },
  {
   "cell_type": "code",
   "execution_count": null,
   "metadata": {
    "vscode": {
     "languageId": "shellscript"
    }
   },
   "outputs": [],
   "source": []
  }
 ],
 "metadata": {
  "kernelspec": {
   "display_name": "Python 3.7.1 64-bit",
   "language": "python",
   "name": "python3"
  },
  "language_info": {
   "name": "python",
   "version": "3.7.1"
  },
  "orig_nbformat": 4,
  "vscode": {
   "interpreter": {
    "hash": "fbe58ca63fe33f9eeae9e71d10368d2b4a57f2b1b395836210cc60d362c66949"
   }
  }
 },
 "nbformat": 4,
 "nbformat_minor": 2
}
