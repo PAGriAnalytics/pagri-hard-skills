{
 "cells": [
  {
   "cell_type": "markdown",
   "metadata": {},
   "source": [
    "https://coderzcolumn.com/tutorials/data-science/build-dashboard-using-python-dash-plotly-and-deploy-online-pythonanywhere"
   ]
  },
  {
   "cell_type": "markdown",
   "metadata": {},
   "source": [
    "We'll now provide step by step guide on deploying above server to pythonanywhere.com.   \n",
    "Please create a free beginner account with pythonanywhere.com to follow along.  \n",
    "\n",
    "Login to pythonanywhere.com  \n",
    "Go to Web tab from top and click on Add a new web app button to create new web app.  \n",
    "\n",
    "Select Flask as framework for keeping dashboard.\n",
    "\n",
    "Select Python 3.8 from next screen and click on next.  \n",
    "It'll create flask project named mysite and keep flask server file(flask_app.py) in that folder file.   \n",
    "Clicking next on that screen will create our flask app which will be used for deploying our dashboard and handling requests.  \n",
    "\n",
    "Go to Dashboard of pythonanywhere.com by clicking on the link at the top.\n",
    "\n",
    "Click on the bash button below New Console. It'll start a new bash shell for us.  \n",
    "Install dash, plotly, and sklearn using this bash shell. Please execute below command in shell.\n",
    "\n",
    "pip3.8 install --upgrade --user plotly dash sklearn  \n",
    "\n",
    "Please make a note that you need to use pip version according to your python version else you'll face an error saying no dash module found.  \n",
    "Go to Dashboard of pythonanywhere.com click on Browse files  \n",
    "Go to mysite folder and upload iris_analysis.py file there. Please delete flask_app.py file.  \n",
    "Click on Web link at the top again to go to settings of a web app. Scroll below and an open file named WSGI Configuration file.  \n",
    "Make below-mentioned changes to file whose name ends with _wsgi.py.  \n",
    "\n",
    "Comment line which imports flask_app  \n",
    "Import app from iris_analysis as plotly_app  \n",
    "Set value of application variable as plotly_app.server   and save changes.  \n",
    "\n"
   ]
  },
  {
   "cell_type": "markdown",
   "metadata": {},
   "source": [
    "файл будет выглядить так  \n",
    "from app - тут файл питона, который мы загрузили, в котором наш дашборд"
   ]
  },
  {
   "cell_type": "code",
   "execution_count": null,
   "metadata": {},
   "outputs": [],
   "source": [
    "# This file contains the WSGI configuration required to serve up your\n",
    "# web application at http://<your-username>.pythonanywhere.com/\n",
    "# It works by setting the variable 'application' to a WSGI handler of some\n",
    "# description.\n",
    "#\n",
    "# The below has been auto-generated for your Flask project\n",
    "\n",
    "import sys\n",
    "\n",
    "# add your project directory to the sys.path\n",
    "project_home = '/home/bestorlov1992/mysite'\n",
    "if project_home not in sys.path:\n",
    "    sys.path = [project_home] + sys.path\n",
    "\n",
    "# import flask app but need to call it \"application\" for WSGI to work\n",
    "# from flask_app import app as application  # noqa\n",
    "from app import app as plotly_app\n",
    "application = plotly_app.server"
   ]
  },
  {
   "cell_type": "markdown",
   "metadata": {},
   "source": [
    "Go to Web app setting tab by clicking on Web from the dashboard of pythonanywhere.com.   \n",
    "Click on the reload button to bring up a server with the above-mentioned changes to the WSGI Configuration file.  "
   ]
  },
  {
   "cell_type": "markdown",
   "metadata": {},
   "source": [
    "теперь можно открыть апку"
   ]
  }
 ],
 "metadata": {
  "kernelspec": {
   "display_name": "Python 3.7.1 64-bit",
   "language": "python",
   "name": "python3"
  },
  "language_info": {
   "name": "python",
   "version": "3.7.1"
  },
  "orig_nbformat": 4,
  "vscode": {
   "interpreter": {
    "hash": "fbe58ca63fe33f9eeae9e71d10368d2b4a57f2b1b395836210cc60d362c66949"
   }
  }
 },
 "nbformat": 4,
 "nbformat_minor": 2
}
