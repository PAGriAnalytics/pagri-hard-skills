{
 "cells": [
  {
   "cell_type": "markdown",
   "metadata": {},
   "source": [
    "https://proglib.io/p/tutorial-vizualizaciya-dannyh-v-vebe-s-pomoshchyu-python-i-dash-2021-01-11"
   ]
  },
  {
   "cell_type": "markdown",
   "metadata": {},
   "source": [
    "Настройка виртуального окружения  \n",
    "Для разработки приложения понадобится каталог для хранения кода и данных, а также чистая виртуальная среда Python 3.   \n",
    "Чтобы их создать, следуйте следующим инструкциям для вашей операционной системы.  \n",
    "Windows. Откройте командную строку и выполните следующие команды:  "
   ]
  },
  {
   "cell_type": "code",
   "execution_count": null,
   "metadata": {
    "vscode": {
     "languageId": "shellscript"
    }
   },
   "outputs": [],
   "source": [
    "mkdir avocado_analytics && cd avocado_analytics\n",
    "python -m venv venv\n",
    "venv\\Scripts\\activate.bat"
   ]
  },
  {
   "cell_type": "markdown",
   "metadata": {},
   "source": [
    "Первая команда создаст каталог проекта и поменяет текущую рабочую директорию.     \n",
    "Вторая команда создаст виртуальную среду, а последняя команда её активирует. Вместо команды python может потребоваться указать путь к файлу python.exe.  \n",
    "macOS или Linux. Смысл следующих команд терминала идентичен командам для Windows:  "
   ]
  },
  {
   "cell_type": "code",
   "execution_count": null,
   "metadata": {
    "vscode": {
     "languageId": "shellscript"
    }
   },
   "outputs": [],
   "source": [
    "mkdir avocado_analytics && cd avocado_analytics\n",
    "python3 -m venv venv\n",
    "source venv/bin/activate"
   ]
  },
  {
   "cell_type": "markdown",
   "metadata": {},
   "source": [
    "Далее необходимо установить в виртуальное окружение следующие библиотеки:  \n",
    "python -m pip install dash==1.13.3 pandas==1.0.5  "
   ]
  },
  {
   "cell_type": "markdown",
   "metadata": {},
   "source": [
    "Пример расположения файлов в директориях"
   ]
  },
  {
   "cell_type": "code",
   "execution_count": null,
   "metadata": {
    "vscode": {
     "languageId": "shellscript"
    }
   },
   "outputs": [],
   "source": [
    "avocado_analytics/\n",
    "├── assets/\n",
    "│   ├── favicon.ico\n",
    "│   └── style.css\n",
    "├── venv/\n",
    "├── app.py\n",
    "└── avocado.csv"
   ]
  },
  {
   "cell_type": "markdown",
   "metadata": {},
   "source": [
    "Стилизовать компоненты можно двумя способами:\n",
    "- Использовать аргумент style отдельных компонентов.  \n",
    "- Предоставить внешний CSS-файл.  "
   ]
  },
  {
   "cell_type": "markdown",
   "metadata": {},
   "source": [
    "При указании свойств CSS в аргументе styleнеобходимо использовать синтаксис вида mixedCaseвместо слов, разделенных дефисом.   \n",
    "Например, чтобы изменить цвет фона элемента, необходимо указывать backgroundColor, а не background-color."
   ]
  },
  {
   "cell_type": "markdown",
   "metadata": {},
   "source": [
    "Если вы хотите включить собственные локальные CSS- или JavaScript-файлы,  \n",
    "необходимо создать в корневом каталоге проекта папку с именем assets/ и сохранить в ней необходимые файлы.\n",
    "Затем вы можете использовать аргументы className или id компонентов, чтобы настроить с помощью CSS их стили.   \n",
    "При преобразовании в HTML-теги эти аргументы соответствуют атрибутам class и id.\n",
    "Захотев настроить размер шрифта и цвет текста элемента H1 в app.py, мы можем использовать аргумент className:"
   ]
  },
  {
   "cell_type": "code",
   "execution_count": null,
   "metadata": {
    "vscode": {
     "languageId": "shellscript"
    }
   },
   "outputs": [],
   "source": [
    "html.H1(\n",
    "    children=\"Avocado Analytics\",\n",
    "    className=\"header-title\",\n",
    "),"
   ]
  },
  {
   "cell_type": "markdown",
   "metadata": {},
   "source": [
    "Установка аргумента className определяет атрибут класса для элемента H1.   \n",
    "Затем в CSS-файле style.css в папке assets/ мы указываем, как хотим, чтобы он выглядел:"
   ]
  },
  {
   "cell_type": "code",
   "execution_count": null,
   "metadata": {
    "vscode": {
     "languageId": "html"
    }
   },
   "outputs": [],
   "source": [
    ".header-title {\n",
    "  font-size: 48px;\n",
    "  color: red;\n",
    "}"
   ]
  },
  {
   "cell_type": "markdown",
   "metadata": {},
   "source": [
    "Теперь app.py требует нескольких изменений. Необходимо включить внешнюю таблицу стилей,   \n",
    "добавить заголовок на панель инструментов   и стилизовать компоненты с помощью файла style.css:"
   ]
  },
  {
   "cell_type": "code",
   "execution_count": null,
   "metadata": {
    "vscode": {
     "languageId": "html"
    }
   },
   "outputs": [],
   "source": [
    "external_stylesheets = [\n",
    "    {\n",
    "        \"href\": \"https://fonts.googleapis.com/css2?\"\n",
    "                \"family=Lato:wght@400;700&display=swap\",\n",
    "        \"rel\": \"stylesheet\",\n",
    "    },\n",
    "]\n",
    "app = dash.Dash(__name__, external_stylesheets=external_stylesheets)\n",
    "app.title = \"Avocado Analytics: Understand Your Avocados!\""
   ]
  },
  {
   "cell_type": "markdown",
   "metadata": {},
   "source": [
    "Здесь мы указываем CSS-файл и семейство шрифтов, которое хотим загрузить в приложение.   \n",
    "Внешние файлы загружаются до загрузки тела приложения. Аргумент external_stylesheets используется для добавления внешних CSS-файлов,   \n",
    "а external_scripts ― для внешних файлов JavaScript, таких как скрипт Google Analytics."
   ]
  },
  {
   "cell_type": "code",
   "execution_count": null,
   "metadata": {
    "vscode": {
     "languageId": "html"
    }
   },
   "outputs": [],
   "source": []
  },
  {
   "cell_type": "code",
   "execution_count": null,
   "metadata": {
    "vscode": {
     "languageId": "html"
    }
   },
   "outputs": [],
   "source": []
  },
  {
   "cell_type": "code",
   "execution_count": null,
   "metadata": {
    "vscode": {
     "languageId": "html"
    }
   },
   "outputs": [],
   "source": []
  },
  {
   "cell_type": "code",
   "execution_count": null,
   "metadata": {
    "vscode": {
     "languageId": "shellscript"
    }
   },
   "outputs": [],
   "source": []
  },
  {
   "cell_type": "code",
   "execution_count": null,
   "metadata": {
    "vscode": {
     "languageId": "shellscript"
    }
   },
   "outputs": [],
   "source": []
  },
  {
   "cell_type": "code",
   "execution_count": null,
   "metadata": {
    "vscode": {
     "languageId": "shellscript"
    }
   },
   "outputs": [],
   "source": []
  },
  {
   "cell_type": "code",
   "execution_count": null,
   "metadata": {
    "vscode": {
     "languageId": "shellscript"
    }
   },
   "outputs": [],
   "source": []
  },
  {
   "cell_type": "code",
   "execution_count": null,
   "metadata": {
    "vscode": {
     "languageId": "shellscript"
    }
   },
   "outputs": [],
   "source": []
  }
 ],
 "metadata": {
  "kernelspec": {
   "display_name": "Python 3.7.1 64-bit",
   "language": "python",
   "name": "python3"
  },
  "language_info": {
   "codemirror_mode": {
    "name": "ipython",
    "version": 3
   },
   "file_extension": ".py",
   "mimetype": "text/x-python",
   "name": "python",
   "nbconvert_exporter": "python",
   "pygments_lexer": "ipython3",
   "version": "3.7.1"
  },
  "orig_nbformat": 4,
  "vscode": {
   "interpreter": {
    "hash": "fbe58ca63fe33f9eeae9e71d10368d2b4a57f2b1b395836210cc60d362c66949"
   }
  }
 },
 "nbformat": 4,
 "nbformat_minor": 2
}
