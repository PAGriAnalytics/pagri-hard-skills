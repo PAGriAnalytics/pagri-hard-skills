{
 "cells": [
  {
   "cell_type": "code",
   "execution_count": 5,
   "metadata": {},
   "outputs": [
    {
     "data": {
      "text/html": [
       "\n",
       "        <iframe\n",
       "            width=\"100%\"\n",
       "            height=\"650\"\n",
       "            src=\"http://127.0.0.1:8050/\"\n",
       "            frameborder=\"0\"\n",
       "            allowfullscreen\n",
       "            \n",
       "        ></iframe>\n",
       "        "
      ],
      "text/plain": [
       "<IPython.lib.display.IFrame at 0xd75e5f8>"
      ]
     },
     "metadata": {},
     "output_type": "display_data"
    }
   ],
   "source": [
    "import pandas as pd\n",
    "from dash import Dash, Input, Output, dcc, html\n",
    "import dash_bootstrap_components as dbc\n",
    "\n",
    "data = (\n",
    "    pd.read_csv(\"avocado.csv\")\n",
    "    .assign(Date=lambda data: pd.to_datetime(data[\"Date\"], format=\"%Y-%m-%d\"))\n",
    "    .sort_values(by=\"Date\")\n",
    ")\n",
    "regions = data[\"region\"].sort_values().unique()\n",
    "avocado_types = data[\"type\"].sort_values().unique()\n",
    "\n",
    "external_stylesheets = [\n",
    "    {\n",
    "        \"href\": (\n",
    "            \"https://fonts.googleapis.com/css2?\"\n",
    "            \"family=Lato:wght@400;700&display=swap\"\n",
    "        ),\n",
    "        \"rel\": \"stylesheet\",\n",
    "    },\n",
    "]\n",
    "app = Dash(__name__, external_stylesheets=external_stylesheets)\n",
    "app.title = \"Avocado Analytics: Understand Your Avocados!\"\n",
    "\n",
    "app.layout = html.Div(\n",
    "    children=[\n",
    "        html.Div(\n",
    "            children=[\n",
    "                dbc.Row([\n",
    "                    dbc.Col(html.Img(src=\"assets/favicon.ico\"),\n",
    "                            width=4, className=\"header-emoji\"),\n",
    "                    dbc.Col(html.H1(\n",
    "                        children=['Avocado Analytics'], className=\"header-title\"), width=8),\n",
    "                    html.Link(rel='icon', href='assets/favicon.ico')\n",
    "                ], justify='start'),\n",
    "                html.P(\n",
    "                    children=(\n",
    "                        \"Analyze the behavior of avocado prices and the number\"\n",
    "                        \" of avocados sold in the US between 2015 and 2018\"\n",
    "                    ),\n",
    "                    className=\"header-description\",\n",
    "                ),\n",
    "            ],\n",
    "            className=\"header\",\n",
    "        )])\n",
    "if __name__ == \"__main__\":\n",
    "    app.run_server(debug=True)        "
   ]
  }
 ],
 "metadata": {
  "kernelspec": {
   "display_name": "Python 3.7.1 64-bit",
   "language": "python",
   "name": "python3"
  },
  "language_info": {
   "codemirror_mode": {
    "name": "ipython",
    "version": 3
   },
   "file_extension": ".py",
   "mimetype": "text/x-python",
   "name": "python",
   "nbconvert_exporter": "python",
   "pygments_lexer": "ipython3",
   "version": "3.7.1"
  },
  "orig_nbformat": 4,
  "vscode": {
   "interpreter": {
    "hash": "fbe58ca63fe33f9eeae9e71d10368d2b4a57f2b1b395836210cc60d362c66949"
   }
  }
 },
 "nbformat": 4,
 "nbformat_minor": 2
}
