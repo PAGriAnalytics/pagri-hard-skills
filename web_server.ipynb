{
 "cells": [
  {
   "cell_type": "markdown",
   "metadata": {},
   "source": [
    "Google colab as 12 hour server"
   ]
  },
  {
   "cell_type": "markdown",
   "metadata": {},
   "source": [
    "https://pythonhint.com/post/3217031380622683/run-localhost-server-in-google-colab-notebook  \n",
    "https://pbseven.medium.com/distributing-google-colab-container-image-to-achieve-persistent-linux-vps-server-for-12-hours-free-c124b1413a9c  \n",
    "https://github.com/Raguggg/colab-as-Vps/blob/main/colab_as_VPS.ipynb"
   ]
  }
 ],
 "metadata": {
  "language_info": {
   "name": "python"
  },
  "orig_nbformat": 4
 },
 "nbformat": 4,
 "nbformat_minor": 2
}
