{
 "cells": [
  {
   "cell_type": "markdown",
   "metadata": {
    "vscode": {
     "languageId": "shellscript"
    }
   },
   "source": [
    "### Airflow"
   ]
  },
  {
   "cell_type": "markdown",
   "metadata": {
    "vscode": {
     "languageId": "shellscript"
    }
   },
   "source": [
    "Apache Airflow — это платформа для управления рабочими процессами (workflow), которая позволяет пользователям автоматизировать, планировать и мониторить сложные процессы обработки данных. "
   ]
  },
  {
   "cell_type": "markdown",
   "metadata": {
    "vscode": {
     "languageId": "shellscript"
    }
   },
   "source": [
    "Основные концепции\n",
    "1. DAG (Directed Acyclic Graph):\n",
    "    - DAG — это основной строительный блок в Airflow. Он представляет собой граф, в котором узлы — это задачи (tasks), а ребра — зависимости между ними. DAG всегда направленный и ациклический, что означает, что он не может содержать циклы.\n",
    "    - DAG описывается в Python-файле, где вы определяете задачи и их зависимости.\n",
    "2. Задачи (Tasks):\n",
    "    - Задачи — это отдельные шаги в вашем рабочем процессе. Каждая задача может выполнять определенную операцию, такую как извлечение данных, их обработка или загрузка в хранилище.\n",
    "    - Задачи могут быть реализованы с помощью операторов (operators), которые предоставляют готовые реализации для выполнения различных действий (например, BashOperator, PythonOperator, и т.д.).\n",
    "3. Операторы (Operators):\n",
    "    - Операторы — это абстракции, которые определяют, что будет делать задача. Например, BashOperator выполняет команды оболочки, а PythonOperator выполняет функции Python.\n",
    "    - Airflow предоставляет множество встроенных операторов, а также возможность создавать свои собственные.\n",
    "4. Планировщик (Scheduler):\n",
    "    - Планировщик отвечает за выполнение задач в соответствии с расписанием, определенным в DAG. Он отслеживает состояние задач и запускает их, когда все зависимости выполнены.\n",
    "5. Веб-интерфейс (Web UI):\n",
    "    - Airflow предоставляет веб-интерфейс для мониторинга и управления DAG. Вы можете видеть состояние задач, их логи, а также запускать и останавливать DAG.\n",
    "6. Экзекьюторы (Executors):\n",
    "    - Экзекьюторы определяют, как задачи будут выполняться. Airflow поддерживает различные типы экзекьюторов, такие как SequentialExecutor, LocalExecutor, CeleryExecutor и другие, которые позволяют выполнять задачи локально или распределенно."
   ]
  },
  {
   "cell_type": "markdown",
   "metadata": {
    "vscode": {
     "languageId": "shellscript"
    }
   },
   "source": [
    "installation  \n",
    "https://airflow.apache.org/docs/apache-airflow/stable/installation/index.html"
   ]
  },
  {
   "cell_type": "markdown",
   "metadata": {
    "vscode": {
     "languageId": "shellscript"
    }
   },
   "source": [
    "https://habr.com/ru/articles/860900/"
   ]
  },
  {
   "cell_type": "markdown",
   "metadata": {
    "vscode": {
     "languageId": "shellscript"
    }
   },
   "source": [
    "Через pip"
   ]
  },
  {
   "cell_type": "code",
   "execution_count": null,
   "metadata": {
    "vscode": {
     "languageId": "shellscript"
    }
   },
   "outputs": [],
   "source": [
    "mkdir ~/airflow\n",
    "cd ~/airflow\n",
    "python -m venv airflow\n",
    "source airflow/bin/activate \n",
    "# следующую строку лучше взять со свежей версией тут\n",
    "# https://airflow.apache.org/docs/apache-airflow/stable/installation/installing-from-pypi.html\n",
    "pip install \"apache-airflow[celery]==2.10.4\" --constraint \"https://raw.githubusercontent.com/apache/airflow/constraints-2.10.4/constraints-3.8.txt\""
   ]
  },
  {
   "cell_type": "code",
   "execution_count": null,
   "metadata": {
    "vscode": {
     "languageId": "shellscript"
    }
   },
   "outputs": [],
   "source": [
    "# инициализации и миграции базы данных\n",
    "airflow db migrate"
   ]
  },
  {
   "cell_type": "code",
   "execution_count": null,
   "metadata": {
    "vscode": {
     "languageId": "shellscript"
    }
   },
   "outputs": [],
   "source": [
    "#Создание стандартных подключений: Если вам нужно создать стандартные подключения, используйте следующую команду\n",
    "airflow connections create-default-connections"
   ]
  },
  {
   "cell_type": "code",
   "execution_count": null,
   "metadata": {
    "vscode": {
     "languageId": "shellscript"
    }
   },
   "outputs": [],
   "source": [
    "# Создаем пользователя\n",
    "airflow users create --username admin --password admin --firstname Firstname --lastname Lastname --role Admin --email your_email@gmail.com    "
   ]
  },
  {
   "cell_type": "code",
   "execution_count": null,
   "metadata": {
    "vscode": {
     "languageId": "shellscript"
    }
   },
   "outputs": [],
   "source": [
    "# Запустите веб-сервер:\n",
    "airflow webserver --port 8080"
   ]
  },
  {
   "cell_type": "code",
   "execution_count": null,
   "metadata": {
    "vscode": {
     "languageId": "shellscript"
    }
   },
   "outputs": [],
   "source": [
    "# В другом терминале запустите планировщик:\n",
    "airflow scheduler"
   ]
  },
  {
   "cell_type": "markdown",
   "metadata": {
    "vscode": {
     "languageId": "shellscript"
    }
   },
   "source": [
    "Теперь вы можете получить доступ к веб-интерфейсу Airflow, открыв браузер и перейдя по адресу http://localhost:8080."
   ]
  },
  {
   "cell_type": "markdown",
   "metadata": {
    "vscode": {
     "languageId": "shellscript"
    }
   },
   "source": [
    "Вы можете настроить Airflow, изменив файл конфигурации airflow.cfg, который находится в директории ~/airflow/airflow.cfg."
   ]
  },
  {
   "cell_type": "markdown",
   "metadata": {
    "vscode": {
     "languageId": "shellscript"
    }
   },
   "source": [
    "Пример простого дага"
   ]
  },
  {
   "cell_type": "code",
   "execution_count": null,
   "metadata": {},
   "outputs": [],
   "source": [
    "from airflow import DAG\n",
    "from airflow.operators.python import PythonOperator\n",
    "from datetime import datetime, timedelta\n",
    "import requests\n",
    "from zipfile import ZipFile\n",
    "from io import BytesIO\n",
    "import pandas as pd\n",
    "\n",
    "TOP_1M_DOMAINS = 'http://s3-us-west-1.amazonaws.com/umbrella-static/top-1m.csv.zip'\n",
    "TOP_1M_DOMAINS_FILE = 'top-1m.csv'\n",
    "\n",
    "def get_data():\n",
    "    top_doms = requests.get(TOP_1M_DOMAINS, stream=True)\n",
    "    zipfile = ZipFile(BytesIO(top_doms.content))\n",
    "    top_data = zipfile.read(TOP_1M_DOMAINS_FILE).decode('utf-8')\n",
    "    with open (TOP_1M_DOMAINS_FILE, 'w') as f:\n",
    "        f.write(top_data)\n",
    "\n",
    "def get_stat_ru():\n",
    "    top_data_df = pd.read_csv(TOP_1M_DOMAINS_FILE, names=['rank', 'domain'])\n",
    "    top_data_top_10 = top_data_df[top_data_df.domain.str.endswith('.ru')].head(10)\n",
    "    with open('top_data_top_10_ru.csv', 'w') as f:\n",
    "        top_data_top_10.to_csv(f, index=False, header=False)\n",
    "\n",
    "\n",
    "def get_stat_com():\n",
    "    top_data_df = pd.read_csv(TOP_1M_DOMAINS_FILE, names=['rank', 'domain'])\n",
    "    top_data_top_10 = top_data_df[top_data_df.domain.str.endswith('.com')].head(10)\n",
    "    with open('top_data_top_10_com.csv', 'w') as f:\n",
    "        top_data_top_10.to_csv(f, index=False, header=False)\n",
    "# Если мы хотим передать параметр airflow в функцию, например, дату выполнения дага, то просто передаем ее в функцию, главное чтобы название параметра совпадало с параметром в airflow\n",
    "def print_data(ts):\n",
    "    with open('top_data_top_10_ru.csv', 'r') as f:\n",
    "        all_data = f.read()\n",
    "    print(f'Top 10 domains with .ru for date {ts}:')\n",
    "    print(all_data)\n",
    "    with open('top_data_top_10_com.csv', 'r') as f:\n",
    "        all_data = f.read()\n",
    "    print(f'Top 10 domains with .com for date {ts}:')\n",
    "    print(all_data)\n",
    "\n",
    "# Определяем параметры DAG\n",
    "default_args = {\n",
    "    'owner': 'admin',\n",
    "    'depends_on_past': False,\n",
    "    'start_date': datetime(2025, 1, 23),\n",
    "    # 'end_date': datetime(2025, 1, 25),\n",
    "    'retries': 2,\n",
    "    'retry_delay': timedelta(minutes=5),\n",
    "    # 'on_failure_callback': None, # тут можно прописать функцию для отправки сообщения в телеграм и сообщить информацию о падении дага\n",
    "    # 'email_on_failure': True,\n",
    "    # 'email': ['airflow@example.com'],\n",
    "}\n",
    "\n",
    "# Создаем DAG\n",
    "dag = DAG(\n",
    "    'top_10_ru',\n",
    "    default_args=default_args,\n",
    "    description='Dag for get top 10 domains with .ru',\n",
    "    schedule_interval='0 12 * * *',  # можно задать через timedelta(days=1) и также через константы airflow @hourly, @daily, @weekly, @monthly\n",
    ")\n",
    "\n",
    "t1 = PythonOperator(python_callable=get_data, task_id='get_data', dag=dag)\n",
    "t2_ru = PythonOperator(python_callable=get_stat_ru, task_id='get_stat_ru', dag=dag)\n",
    "t2_com = PythonOperator(python_callable=get_stat_com, task_id='get_stat_com', dag=dag)\n",
    "t3 = PythonOperator(python_callable=print_data, task_id='print_data', dag=dag)\n",
    "\n",
    "t1 >> [t2_ru, t2_com] >> t3\n",
    "\n",
    "# t1.set_downstream(t2_ru)\n",
    "# t1.set_downstream(t2_com)\n",
    "# t2_ru.set_downstream(t3)\n",
    "# t2_com.set_downstream(t3)\n"
   ]
  },
  {
   "cell_type": "markdown",
   "metadata": {
    "vscode": {
     "languageId": "shellscript"
    }
   },
   "source": [
    "Пример более сложного дага"
   ]
  },
  {
   "cell_type": "code",
   "execution_count": null,
   "metadata": {},
   "outputs": [],
   "source": []
  },
  {
   "cell_type": "markdown",
   "metadata": {},
   "source": [
    "### Cron"
   ]
  },
  {
   "cell_type": "markdown",
   "metadata": {},
   "source": [
    "Планирование сценариев с помощью Сron"
   ]
  },
  {
   "cell_type": "markdown",
   "metadata": {},
   "source": [
    "Cron это просто файл  \n",
    "сам cron постоянно работает в unix  \n",
    "добавил в него файл - он работает по расписанию  \n",
    "удалил - перестал работать"
   ]
  },
  {
   "cell_type": "markdown",
   "metadata": {},
   "source": [
    "Ниже приведен синтаксис для планирования crons:"
   ]
  },
  {
   "cell_type": "code",
   "execution_count": null,
   "metadata": {
    "vscode": {
     "languageId": "shellscript"
    }
   },
   "outputs": [],
   "source": [
    "# Cron job example* * * * * sh /path/to/script.sh"
   ]
  },
  {
   "cell_type": "markdown",
   "metadata": {},
   "source": [
    "Здесь * представляют собой минуты (минуты), часы (часы), день (дни), месяцы и дни недели соответственно."
   ]
  },
  {
   "cell_type": "markdown",
   "metadata": {},
   "source": [
    "Теперь настроим cron, чтобы автоматизировать процесс\n",
    "cron это демон в линуксе, который может по расписанию запускать скрипты (по сути он выполняет по расписанию bash команды)  \n"
   ]
  },
  {
   "cell_type": "markdown",
   "metadata": {},
   "source": [
    "\n",
    "crontab -e (создает файл, если его нет, если есть, то открывает на редактирование)  \n",
    "crontab -l (открывает список задача в кроне)  \n",
    "crontab -r (удаляет крон файл)  \n",
    "crontab -v (показывает время, когда последний раз редактировался крон файл)  \n",
    "Пользователь сам может выбрать подходящий для него формат, снимая или устанавливая \"галочку\" в опции \"Поле года\" (Year field)  \n",
    "диалогового окна \"Параметры\" (двойной щелчок на иконке nnCron в системном трее). По умолчанию nnCron использует \"улучшенный\" формат.\n",
    "\n",
    "Вот его схема:\n",
    "https://nncron.ru/help/RU/working/cron-format.htm\n"
   ]
  },
  {
   "cell_type": "markdown",
   "metadata": {},
   "source": [
    "На этом сайте можно проверить правильность указания времени для крона  \n",
    "https://crontab.guru/"
   ]
  },
  {
   "cell_type": "code",
   "execution_count": null,
   "metadata": {},
   "outputs": [],
   "source": [
    "* * * * * \n",
    "| | | | | \n",
    "| | | | | \n",
    "| | | | +----- Дни недели (диапазон: 0-6)\n",
    "| | | +------- Месяцы     (диапазон: 1-12)\n",
    "| | +--------- Дни месяца (диапазон: 1-31)\n",
    "| +----------- Часы       (диапазон: 0-23)\n",
    "+------------- Минуты     (диапазон: 0-59)    "
   ]
  },
  {
   "cell_type": "code",
   "execution_count": null,
   "metadata": {
    "vscode": {
     "languageId": "shellscript"
    }
   },
   "outputs": [],
   "source": [
    "*\tany value\n",
    ",\tvalue list separator\n",
    "-\trange of values\n",
    "/\tstep values"
   ]
  },
  {
   "cell_type": "markdown",
   "metadata": {},
   "source": [
    "Очень важный момент, не все команды, которые мы можем выполнить в баше в терминале запустятся в кроне,  \n",
    "для них нужно указать полный путь до экзешника.  \n",
    "Очевидное не всегда очевидно: простая команда вроде python3 не  \n",
    "выполнится!  \n",
    "Что делать? Посмотреть, где он лежит через which python3 и  \n",
    "использовать полный путь.  "
   ]
  },
  {
   "cell_type": "code",
   "execution_count": null,
   "metadata": {
    "vscode": {
     "languageId": "shellscript"
    }
   },
   "outputs": [],
   "source": [
    "Важно, если мы хотим указать точное время, то нужно указать нули во времени в предыдущих разрядах,  \n",
    "нарпимер, чтобы запускался в 3 утра кадый день, мы не можем написать  \n",
    "* 3 * * *\n",
    "так будет с 3:00 до 3:59 запускатся каждую минуту, так как стоит * это любое количество  \n",
    "поэтому нужно  \n",
    "0 3 * * *"
   ]
  },
  {
   "cell_type": "code",
   "execution_count": null,
   "metadata": {
    "vscode": {
     "languageId": "shellscript"
    }
   },
   "outputs": [],
   "source": [
    "\n",
    "создадим распсание крона\n",
    "crontab -e\n",
    "выбираем редактор, например, nano\n",
    "# вначале пишем эту строчку, это значит каждую минуту будет запускаться эта команда\n",
    "* * * * * python ~/cron_testing.py\n",
    "сохраняем ctrl + o\n",
    "можно протестиьть работу крона,  \n",
    "для этого загрузим файл cron_testing.py на машину\n",
    "# проверим, что все записалось\n",
    "crontab -l\n",
    "все ок, теперь можно смотреть в базе, что наш крон работает\n",
    "теперь настроим крон, чтобы он ночью заливал данные\n",
    "crontab -e\n",
    "# в будет каждый день в 0:00 \n",
    "0 0 * * * python3 ~/work.sh\n",
    "# будет запускаться в субботу и воскресенье в 4 утра\n",
    "0 4 * * 0,6 python3 ~/work.sh\n",
    "# будет запускаться каждые 2 часа  \n",
    "0 */2 * * *\n",
    "# будет запускаться  1-го 5го 11го и 20го числа кадого месяца  \n",
    "0 0 1, 5, 11, 20 * *\n"
   ]
  },
  {
   "cell_type": "markdown",
   "metadata": {},
   "source": [
    "Пример использования с перенаправлением вываода"
   ]
  },
  {
   "cell_type": "code",
   "execution_count": null,
   "metadata": {},
   "outputs": [],
   "source": [
    "# Это файл test.py\n",
    "\n",
    "if __name__ == '__main__':\n",
    "    print('a minute passed')"
   ]
  },
  {
   "cell_type": "markdown",
   "metadata": {},
   "source": [
    "Следующая записи в крон файле будет каждую минуту запускаь файл `test.py` и перенаправлять вывод этого скприпта в лог  \n",
    "(это просто пример, можно конечно сделать логер внутри скрипта, но может и так будет нужно)"
   ]
  },
  {
   "cell_type": "markdown",
   "metadata": {},
   "source": [
    "Тут важно, что когда мы кроном запускаем скрипт, то сообщения о ошибках или прудупреждения питона потеряются  \n",
    "Чтобы они логировались, мы перенаправляем стандартный вывод в файл и указываем, что ошибки также выводить туда"
   ]
  },
  {
   "cell_type": "code",
   "execution_count": null,
   "metadata": {
    "vscode": {
     "languageId": "shellscript"
    }
   },
   "outputs": [],
   "source": [
    "* * * * * /opt/anaconda3/bin/python3 ~/scripts/test.py >> ~/log.txt 2>&1"
   ]
  },
  {
   "cell_type": "code",
   "execution_count": null,
   "metadata": {
    "vscode": {
     "languageId": "shellscript"
    }
   },
   "outputs": [],
   "source": [
    "Символ 2>&1 значит\n",
    "“направляй поток ошибок туда же, куда и\n",
    "простой вывод”. Основной вывод здесь скрывается за константой 1, а\n",
    "поток ошибок – 2.\n",
    "Это приведет к тому, что в одном месте будут собраны все логи, – а тогото мы и добивались."
   ]
  },
  {
   "cell_type": "code",
   "execution_count": null,
   "metadata": {
    "vscode": {
     "languageId": "shellscript"
    }
   },
   "outputs": [],
   "source": []
  }
 ],
 "metadata": {
  "language_info": {
   "name": "python"
  }
 },
 "nbformat": 4,
 "nbformat_minor": 2
}
