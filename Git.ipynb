{
 "cells": [
  {
   "cell_type": "markdown",
   "metadata": {},
   "source": [
    "https://habr.com/ru/companies/ruvds/articles/599929/"
   ]
  },
  {
   "cell_type": "markdown",
   "metadata": {},
   "source": [
    "Создание шаблона для сообщений комита"
   ]
  },
  {
   "cell_type": "markdown",
   "metadata": {},
   "source": [
    "1. Создание глобального хука  \n",
    "Создайте директорию для глобальных хуков (если она еще не существует):\n"
   ]
  },
  {
   "cell_type": "code",
   "execution_count": null,
   "metadata": {
    "vscode": {
     "languageId": "shellscript"
    }
   },
   "outputs": [],
   "source": [
    "mkdir -p ~/.git-templates/hooks "
   ]
  },
  {
   "cell_type": "markdown",
   "metadata": {},
   "source": [
    "\n",
    "Создайте файл prepare-commit-msg в этой директории:\n"
   ]
  },
  {
   "cell_type": "code",
   "execution_count": null,
   "metadata": {
    "vscode": {
     "languageId": "shellscript"
    }
   },
   "outputs": [],
   "source": [
    "touch ~/.git-templates/hooks/prepare-commit-msg"
   ]
  },
  {
   "cell_type": "markdown",
   "metadata": {},
   "source": [
    "Откройте файл prepare-commit-msg в текстовом редакторе и добавьте следующий код:\n"
   ]
  },
  {
   "cell_type": "code",
   "execution_count": null,
   "metadata": {
    "vscode": {
     "languageId": "shellscript"
    }
   },
   "outputs": [],
   "source": [
    "#!/bin/bash\n",
    "\n",
    "# Путь к файлу шаблона\n",
    "\n",
    "template_file=\"$HOME/.git-commit-template.txt\"\n",
    "\n",
    "\n",
    "# Получаем текущее время\n",
    "\n",
    "current_time=$(date +\"%Y-%m-%d %H:%M:%S\")\n",
    "\n",
    "\n",
    "# Записываем текущее время в файл шаблона\n",
    "\n",
    "echo \"# Коммит от: $current_time\" > \"$template_file\""
   ]
  },
  {
   "cell_type": "markdown",
   "metadata": {},
   "source": [
    "\n",
    "Сделайте хук исполняемым:\n"
   ]
  },
  {
   "cell_type": "code",
   "execution_count": null,
   "metadata": {
    "vscode": {
     "languageId": "shellscript"
    }
   },
   "outputs": [],
   "source": [
    "chmod +x ~/.git-templates/hooks/prepare-commit-msg\n"
   ]
  },
  {
   "cell_type": "markdown",
   "metadata": {},
   "source": [
    "2. Настройка Git для использования глобальных хуков\n",
    "\n",
    "Теперь вам нужно настроить Git, чтобы он использовал вашу директорию хуков:  \n",
    "Команда `git config --global init.templatedir '~/.git-templates'` устанавливает глобальную директорию для хуков. Это означает, что все хуки, которые находятся в этой директории, будут автоматически копироваться в директорию .git/hooks каждого нового репозитория, который вы создадите."
   ]
  },
  {
   "cell_type": "code",
   "execution_count": null,
   "metadata": {
    "vscode": {
     "languageId": "shellscript"
    }
   },
   "outputs": [],
   "source": [
    "git config --global init.templatedir '~/.git-templates'\n"
   ]
  },
  {
   "cell_type": "markdown",
   "metadata": {},
   "source": [
    "3. Настройка глобального шаблона сообщения коммита\n",
    "\n",
    "Также настройте Git для использования глобального файла шаблона:  \n"
   ]
  },
  {
   "cell_type": "code",
   "execution_count": null,
   "metadata": {
    "vscode": {
     "languageId": "shellscript"
    }
   },
   "outputs": [],
   "source": [
    "git config --global commit.template \"$HOME/.git-commit-template.txt\""
   ]
  },
  {
   "cell_type": "markdown",
   "metadata": {},
   "source": [
    "4. Применение изменений\n",
    "\n",
    "Теперь, когда вы создаете новый репозиторий или инициализируете существующий, Git будет использовать ваш глобальный хук prepare-commit-msg.\n",
    "\n",
    "Чтобы применить изменения к существующим репозиториям, вам нужно будет выполнить команду:"
   ]
  },
  {
   "cell_type": "code",
   "execution_count": null,
   "metadata": {
    "vscode": {
     "languageId": "shellscript"
    }
   },
   "outputs": [],
   "source": []
  },
  {
   "cell_type": "markdown",
   "metadata": {},
   "source": [
    "если нужно загрузить данные с гитхаба, то нужно зайти на гит хаб, открыть фалй и нажать raw  \n",
    "теперь можно скопировать url"
   ]
  },
  {
   "cell_type": "markdown",
   "metadata": {},
   "source": [
    "Если нужно создать репозиторий на компе и разместить на github"
   ]
  },
  {
   "cell_type": "code",
   "execution_count": null,
   "metadata": {},
   "outputs": [],
   "source": [
    "- Создаем папку на компе\n",
    "cd где_будет_папка\n",
    "mkdir имя_папки\n",
    "- Переходим в нее\n",
    "cd имя_папки\n",
    "- создаем файл, например, read.md\n",
    "code read.md\n",
    "- пишем в него что хотим и сохраняем\n",
    "- создаем новый репозиторий в этой папке\n",
    "git init\n"
   ]
  },
  {
   "cell_type": "code",
   "execution_count": null,
   "metadata": {},
   "outputs": [],
   "source": [
    "git status "
   ]
  },
  {
   "cell_type": "markdown",
   "metadata": {},
   "source": [
    "origin это типа названия пользователя от которого идут действия"
   ]
  },
  {
   "cell_type": "markdown",
   "metadata": {},
   "source": [
    "* Чтобы связать гит и комп, лучше сначала создать репозиторий на гит хабе,\n",
    "а потом клонировать его на комп следующей командой"
   ]
  },
  {
   "cell_type": "code",
   "execution_count": null,
   "metadata": {},
   "outputs": [],
   "source": [
    "git clone <repostory name>"
   ]
  },
  {
   "cell_type": "markdown",
   "metadata": {},
   "source": [
    "Чтобы с компа подтянуть изменения на гитхабе, находясь в репозитории на компе выполнем команду"
   ]
  },
  {
   "cell_type": "code",
   "execution_count": null,
   "metadata": {},
   "outputs": [],
   "source": [
    "git pull"
   ]
  },
  {
   "cell_type": "markdown",
   "metadata": {},
   "source": [
    "Чтобы создать ветку, выполняем команду"
   ]
  },
  {
   "cell_type": "code",
   "execution_count": null,
   "metadata": {},
   "outputs": [],
   "source": [
    "git branch <branch name>"
   ]
  },
  {
   "cell_type": "markdown",
   "metadata": {},
   "source": [
    "Ветка это просто последовательность коммитов, то есть можно в любой момент создать ветку и с этого момента это будет как бы ответвление от комита, который был.\n",
    "И далее можно слать коммиты в эту ветку и они будут отмечаться только здесь, в главной ветке их не будет, пока их туда не закомитить.\n",
    "Чтобы коммитить в ветку, нужно ее выбрать командой"
   ]
  },
  {
   "cell_type": "code",
   "execution_count": null,
   "metadata": {},
   "outputs": [],
   "source": [
    "git switch <branch name>"
   ]
  },
  {
   "cell_type": "markdown",
   "metadata": {},
   "source": [
    "Чтобы закомитить нужно сначала добавить в очередь командой"
   ]
  },
  {
   "cell_type": "code",
   "execution_count": null,
   "metadata": {},
   "outputs": [],
   "source": [
    "git add *"
   ]
  },
  {
   "cell_type": "markdown",
   "metadata": {},
   "source": [
    "Чтобы удалить файл, мы его удаляем из папки и потом также выполняем команду add, удаление попадет в очередь для коммитов.\n",
    "Теперь можно коммиитить командой "
   ]
  },
  {
   "cell_type": "code",
   "execution_count": null,
   "metadata": {},
   "outputs": [],
   "source": [
    "git commit -m \"comment\""
   ]
  },
  {
   "cell_type": "markdown",
   "metadata": {},
   "source": [
    "Теперь нужно обновить гит хаб командой"
   ]
  },
  {
   "cell_type": "code",
   "execution_count": null,
   "metadata": {},
   "outputs": [],
   "source": [
    "git push origin <name branch>"
   ]
  },
  {
   "cell_type": "markdown",
   "metadata": {},
   "source": [
    "Если часто отправляем от одной ветки, то пишем так и потом можно прсото писать git push"
   ]
  },
  {
   "cell_type": "code",
   "execution_count": null,
   "metadata": {},
   "outputs": [],
   "source": [
    "git push -u origin <name branch>"
   ]
  },
  {
   "cell_type": "markdown",
   "metadata": {},
   "source": [
    "Теперь если просто написать git push, то мы отправим в эту ветку и будем слать в нее каждый раз"
   ]
  },
  {
   "cell_type": "code",
   "execution_count": 5,
   "metadata": {},
   "outputs": [
    {
     "name": "stderr",
     "output_type": "stream",
     "text": [
      "To github.com:bestorlov1992/Data_science.git\n",
      "   031397e..98c0d24  main -> main\n"
     ]
    }
   ],
   "source": [
    "! git push"
   ]
  },
  {
   "cell_type": "markdown",
   "metadata": {},
   "source": [
    "## Команды"
   ]
  },
  {
   "cell_type": "markdown",
   "metadata": {},
   "source": [
    "Как задать имя пользователя и адрес электронной почты"
   ]
  },
  {
   "cell_type": "code",
   "execution_count": null,
   "metadata": {
    "vscode": {
     "languageId": "shellscript"
    }
   },
   "outputs": [],
   "source": [
    "git config --global user.name \"Tara Routray\""
   ]
  },
  {
   "cell_type": "code",
   "execution_count": null,
   "metadata": {
    "vscode": {
     "languageId": "shellscript"
    }
   },
   "outputs": [],
   "source": [
    "git config --global user.email \"dev@tararoutray.com\""
   ]
  },
  {
   "cell_type": "markdown",
   "metadata": {},
   "source": [
    "Кэширование учётных данных  \n",
    "Кэшировать учётные данные можно с помощью параметра config с флагом --global.   \n",
    "Так вы избавитесь от необходимости вручную вводить имя пользователя и пароль при создании нового коммита."
   ]
  },
  {
   "cell_type": "code",
   "execution_count": null,
   "metadata": {
    "vscode": {
     "languageId": "shellscript"
    }
   },
   "outputs": [],
   "source": [
    "git config --global credential.helper cache"
   ]
  },
  {
   "cell_type": "markdown",
   "metadata": {},
   "source": [
    "Инициализация репозитория"
   ]
  },
  {
   "cell_type": "code",
   "execution_count": null,
   "metadata": {
    "vscode": {
     "languageId": "shellscript"
    }
   },
   "outputs": [],
   "source": [
    "git init"
   ]
  },
  {
   "cell_type": "markdown",
   "metadata": {},
   "source": [
    "Добавление отдельных файлов или всех файлов в область подготовленных файлов"
   ]
  },
  {
   "cell_type": "code",
   "execution_count": null,
   "metadata": {
    "vscode": {
     "languageId": "shellscript"
    }
   },
   "outputs": [],
   "source": [
    "git add somefile.js"
   ]
  },
  {
   "cell_type": "markdown",
   "metadata": {},
   "source": [
    "Кроме того, можно добавить все файлы и папки в эту область"
   ]
  },
  {
   "cell_type": "code",
   "execution_count": null,
   "metadata": {
    "vscode": {
     "languageId": "shellscript"
    }
   },
   "outputs": [],
   "source": [
    "git add ."
   ]
  },
  {
   "cell_type": "markdown",
   "metadata": {},
   "source": [
    "Проверка статуса репозитория"
   ]
  },
  {
   "cell_type": "code",
   "execution_count": null,
   "metadata": {
    "vscode": {
     "languageId": "shellscript"
    }
   },
   "outputs": [],
   "source": [
    "git status"
   ]
  },
  {
   "cell_type": "markdown",
   "metadata": {},
   "source": [
    "Внесение изменений однострочным сообщением или через редактор  \n",
    "При создании коммита в репозитории можно добавить однострочное сообщение с помощью параметра commit с флагом -m.   \n",
    "Само сообщение вводится непосредственно после флага, в кавычках"
   ]
  },
  {
   "cell_type": "code",
   "execution_count": null,
   "metadata": {
    "vscode": {
     "languageId": "shellscript"
    }
   },
   "outputs": [],
   "source": [
    "git commit -m \"Your short summary about the commit\""
   ]
  },
  {
   "cell_type": "markdown",
   "metadata": {},
   "source": [
    "Также можно открыть текстовый редактор в терминале для написания полного сообщения коммита.  \n",
    "Оно может состоять из нескольких строк текста, в котором подробно характеризуются изменения, внесённые в репозиторий.  \n",
    "Выйти из редактора `esc` и `:wq`"
   ]
  },
  {
   "cell_type": "code",
   "execution_count": null,
   "metadata": {
    "vscode": {
     "languageId": "shellscript"
    }
   },
   "outputs": [],
   "source": [
    "git commit"
   ]
  },
  {
   "cell_type": "markdown",
   "metadata": {},
   "source": [
    "Просмотр истории коммитов с изменениями"
   ]
  },
  {
   "cell_type": "code",
   "execution_count": null,
   "metadata": {
    "vscode": {
     "languageId": "shellscript"
    }
   },
   "outputs": [],
   "source": [
    "git log -p"
   ]
  },
  {
   "cell_type": "markdown",
   "metadata": {},
   "source": [
    "Просмотр заданного коммита  \n",
    "хэш коммита смотрим в `git log`"
   ]
  },
  {
   "cell_type": "code",
   "execution_count": null,
   "metadata": {
    "vscode": {
     "languageId": "shellscript"
    }
   },
   "outputs": [],
   "source": [
    "git show 1af17e73721dbe0c40011b82ed4bb1a7dbe3ce29"
   ]
  },
  {
   "cell_type": "code",
   "execution_count": null,
   "metadata": {
    "vscode": {
     "languageId": "shellscript"
    }
   },
   "outputs": [],
   "source": [
    "# Также можно использовать сокращённый хеш.\n",
    "git show 1af17e"
   ]
  },
  {
   "cell_type": "markdown",
   "metadata": {},
   "source": [
    "Просмотр изменений до коммита"
   ]
  },
  {
   "cell_type": "code",
   "execution_count": null,
   "metadata": {
    "vscode": {
     "languageId": "shellscript"
    }
   },
   "outputs": [],
   "source": [
    "# По умолчанию отображаются только изменения, не подготовленные для фиксации\n",
    "git diff"
   ]
  },
  {
   "cell_type": "code",
   "execution_count": null,
   "metadata": {
    "vscode": {
     "languageId": "shellscript"
    }
   },
   "outputs": [],
   "source": [
    "# Для просмотра подготовленных изменений необходимо добавить флаг --staged..\n",
    "git diff --staged"
   ]
  },
  {
   "cell_type": "markdown",
   "metadata": {},
   "source": [
    "Также можно указать имя файла как параметр и просмотреть изменения, внесённые только в этот файл."
   ]
  },
  {
   "cell_type": "code",
   "execution_count": null,
   "metadata": {
    "vscode": {
     "languageId": "shellscript"
    }
   },
   "outputs": [],
   "source": [
    "git diff somefile.js"
   ]
  },
  {
   "cell_type": "markdown",
   "metadata": {},
   "source": [
    "Удаление отслеживаемых файлов из текущего рабочего дерева"
   ]
  },
  {
   "cell_type": "code",
   "execution_count": null,
   "metadata": {
    "vscode": {
     "languageId": "shellscript"
    }
   },
   "outputs": [],
   "source": [
    "# Удалять файлы из текущего рабочего дерева можно с помощью параметра rm. При этом файлы удаляются и из индекса.\n",
    "git rm dirname/somefile.js"
   ]
  },
  {
   "cell_type": "code",
   "execution_count": null,
   "metadata": {
    "vscode": {
     "languageId": "shellscript"
    }
   },
   "outputs": [],
   "source": [
    "# Можно также использовать маски файлов (например *.js) для удаления всех файлов, соответствующих критерию.\n",
    "git rm dirname/*.html"
   ]
  },
  {
   "cell_type": "markdown",
   "metadata": {},
   "source": [
    "Переименование файлов"
   ]
  },
  {
   "cell_type": "code",
   "execution_count": null,
   "metadata": {
    "vscode": {
     "languageId": "shellscript"
    }
   },
   "outputs": [],
   "source": [
    "git mv dir1/somefile.js dir2"
   ]
  },
  {
   "cell_type": "markdown",
   "metadata": {},
   "source": [
    " Отмена подготовленных и неподготовленных изменений"
   ]
  },
  {
   "cell_type": "markdown",
   "metadata": {},
   "source": [
    "Восстановить файлы рабочего дерева, не подготовленные к коммиту, можно параметром checkout.   \n",
    "Для проведения операции требуется указать путь к файлу.   \n",
    "Если путь не указан, параметр git checkout изменит указатель HEAD, чтобы задать указанную ветку как текущую."
   ]
  },
  {
   "cell_type": "code",
   "execution_count": null,
   "metadata": {
    "vscode": {
     "languageId": "shellscript"
    }
   },
   "outputs": [],
   "source": [
    "git checkout somefile.js"
   ]
  },
  {
   "cell_type": "markdown",
   "metadata": {},
   "source": [
    "HEAD - это символическое имя текущего выбранного коммита — это, по сути, тот коммит, над которым мы в данным момент работаем.  \n",
    "HEAD всегда указывает на последний коммит из вашего локального дерева.  \n",
    "Большинство команд Git, изменяющих рабочее дерево, начнут с изменения HEAD."
   ]
  },
  {
   "cell_type": "markdown",
   "metadata": {},
   "source": [
    "Восстановить подготовленный файл рабочего дерева можно параметром reset"
   ]
  },
  {
   "cell_type": "code",
   "execution_count": null,
   "metadata": {
    "vscode": {
     "languageId": "shellscript"
    }
   },
   "outputs": [],
   "source": [
    "git reset HEAD somefile.js"
   ]
  },
  {
   "cell_type": "code",
   "execution_count": null,
   "metadata": {
    "vscode": {
     "languageId": "shellscript"
    }
   },
   "outputs": [],
   "source": [
    "# Если нужно выполнить это действие для всех подготовленных файлов, путь к ним указывать не надо.\n",
    "git reset HEAD"
   ]
  },
  {
   "cell_type": "markdown",
   "metadata": {},
   "source": [
    "Изменение последнего коммита  \n",
    "Внести изменения в последний коммит можно параметром commit с флагом --amend.   \n",
    "Например, вы записали изменения, внесённые в ряд файлов, и поняли, что допустили ошибку в сообщении коммита.  \n",
    " В этом случае можете воспользоваться указанной командой, чтобы отредактировать сообщение предыдущего коммита, не изменяя его снимок."
   ]
  },
  {
   "cell_type": "code",
   "execution_count": null,
   "metadata": {
    "vscode": {
     "languageId": "shellscript"
    }
   },
   "outputs": [],
   "source": [
    "git commit --amend -m \"Updated message for the previous commit\""
   ]
  },
  {
   "cell_type": "markdown",
   "metadata": {},
   "source": [
    "Также можно вносить изменения в файлы, отправленные ранее. Например, вы изменили несколько файлов в ряде папок и хотите их записать как единый снимок,   \n",
    "но забыли добавить в коммит одну из папок. Чтобы исправить такую ошибку, достаточно подготовить для фиксации остальные файлы и   \n",
    "папки и создать коммит с флагами --amend и --no-edit."
   ]
  },
  {
   "cell_type": "markdown",
   "metadata": {},
   "source": [
    "Флаг --no-edit позволит внести в коммит поправку без изменения сообщения коммита.   \n",
    "В этом случае итоговый коммит заменит неполный, а выглядеть это будет так,  \n",
    " как будто мы отправили изменения ко всем файлам в нужных папках как единый снимок."
   ]
  },
  {
   "cell_type": "code",
   "execution_count": null,
   "metadata": {
    "vscode": {
     "languageId": "shellscript"
    }
   },
   "outputs": [],
   "source": [
    "git add dir1\n",
    "git commit\n",
    "\n",
    "# Here you forgot to add dir2 to commit, you can execute the\n",
    "following command to amend the other files and folders.\n",
    "\n",
    "git add dir2\n",
    "git commit --amend --no-edit"
   ]
  },
  {
   "cell_type": "markdown",
   "metadata": {},
   "source": [
    "Откат последнего коммита"
   ]
  },
  {
   "cell_type": "code",
   "execution_count": null,
   "metadata": {
    "vscode": {
     "languageId": "shellscript"
    }
   },
   "outputs": [],
   "source": [
    "# Создастся новый коммит, содержащий обратные преобразования относительно предыдущего, и добавится к истории текущей ветки.\n",
    "git revert HEAD"
   ]
  },
  {
   "cell_type": "markdown",
   "metadata": {},
   "source": [
    "Разница между revert и reset\n",
    "\n",
    "Команда git revert отменяет изменения, записанные только одним коммитом.  \n",
    " Она не откатывает проект к более раннему состоянию, удаляя все последующие коммиты, как это делает команда git reset."
   ]
  },
  {
   "cell_type": "markdown",
   "metadata": {},
   "source": [
    "Откат заданного коммита"
   ]
  },
  {
   "cell_type": "code",
   "execution_count": null,
   "metadata": {
    "vscode": {
     "languageId": "shellscript"
    }
   },
   "outputs": [],
   "source": [
    "# Создастся новый коммит — копия коммита с предоставленным идентификатором — и добавится к истории текущей ветки.\n",
    "git revert 1af17e"
   ]
  },
  {
   "cell_type": "markdown",
   "metadata": {},
   "source": [
    "Создание новой ветки и переход в неё"
   ]
  },
  {
   "cell_type": "code",
   "execution_count": null,
   "metadata": {
    "vscode": {
     "languageId": "shellscript"
    }
   },
   "outputs": [],
   "source": [
    "git branch new_branch_name"
   ]
  },
  {
   "cell_type": "code",
   "execution_count": null,
   "metadata": {
    "vscode": {
     "languageId": "shellscript"
    }
   },
   "outputs": [],
   "source": [
    "# Но Git не переключится на неё автоматически.  \n",
    "# Для автоматического перехода нужно добавить флаг -b и параметр checkout.\n",
    "git checkout -b new_branch_name"
   ]
  },
  {
   "cell_type": "markdown",
   "metadata": {},
   "source": [
    "Перейти к ветке"
   ]
  },
  {
   "cell_type": "code",
   "execution_count": null,
   "metadata": {
    "vscode": {
     "languageId": "shellscript"
    }
   },
   "outputs": [],
   "source": [
    "git checkout new_branch_name"
   ]
  },
  {
   "cell_type": "markdown",
   "metadata": {},
   "source": [
    "Переименовать ветку"
   ]
  },
  {
   "cell_type": "code",
   "execution_count": null,
   "metadata": {
    "vscode": {
     "languageId": "shellscript"
    }
   },
   "outputs": [],
   "source": [
    "git branch -M new_branch_name"
   ]
  },
  {
   "cell_type": "markdown",
   "metadata": {},
   "source": [
    "Просмотр списка веток"
   ]
  },
  {
   "cell_type": "code",
   "execution_count": null,
   "metadata": {
    "vscode": {
     "languageId": "shellscript"
    }
   },
   "outputs": [],
   "source": [
    "git branch"
   ]
  },
  {
   "cell_type": "code",
   "execution_count": null,
   "metadata": {
    "vscode": {
     "languageId": "shellscript"
    }
   },
   "outputs": [],
   "source": [
    "# Также можно вывести список удалённых веток с помощью флага -a.\n",
    "git branch -a"
   ]
  },
  {
   "cell_type": "markdown",
   "metadata": {},
   "source": [
    "Удаление ветки"
   ]
  },
  {
   "cell_type": "markdown",
   "metadata": {},
   "source": [
    "Удалить ветку можно параметром branch с добавлением флага -d и указанием имени ветки.   \n",
    "Если вы завершили работу над веткой и объединили её с основной, можно её удалить без потери истории.   \n",
    "Однако, если выполнить команду удаления до слияния — в результате появится сообщение об ошибке. Этот защитный механизм предотвращает потерю доступа к файлам."
   ]
  },
  {
   "cell_type": "code",
   "execution_count": null,
   "metadata": {
    "vscode": {
     "languageId": "shellscript"
    }
   },
   "outputs": [],
   "source": [
    "git branch -d existing_branch_name"
   ]
  },
  {
   "cell_type": "markdown",
   "metadata": {},
   "source": [
    "Для принудительного удаления ветки используется флаг -D с заглавной буквой.   \n",
    "В этом случае ветка будет удалена независимо от текущего статуса, без предупреждений."
   ]
  },
  {
   "cell_type": "code",
   "execution_count": null,
   "metadata": {
    "vscode": {
     "languageId": "shellscript"
    }
   },
   "outputs": [],
   "source": [
    "git branch -D existing_branch_name"
   ]
  },
  {
   "cell_type": "markdown",
   "metadata": {},
   "source": [
    "Вышеуказанные команды удаляют только локальную копию ветки. В удалённом репозитории она может сохраниться.   \n",
    "Если хотите стереть удалённую ветку, выполните следующую команду:"
   ]
  },
  {
   "cell_type": "markdown",
   "metadata": {},
   "source": [
    "ВАЖНО удаляемая ветка не должна стоять по умаолчанию в гитхабе  \n",
    "Если стоит, то нужно сменить на другую, а потом удалять"
   ]
  },
  {
   "cell_type": "code",
   "execution_count": null,
   "metadata": {
    "vscode": {
     "languageId": "shellscript"
    }
   },
   "outputs": [],
   "source": [
    "git push origin --delete existing_branch_name"
   ]
  },
  {
   "cell_type": "markdown",
   "metadata": {},
   "source": [
    "Слияние двух веток"
   ]
  },
  {
   "cell_type": "code",
   "execution_count": null,
   "metadata": {
    "vscode": {
     "languageId": "shellscript"
    }
   },
   "outputs": [],
   "source": [
    "# Объединить две ветки можно параметром merge с указанием имени ветки. Команда объединит указанную ветку с основной.\n",
    "git merge existing_branch_name"
   ]
  },
  {
   "cell_type": "code",
   "execution_count": null,
   "metadata": {
    "vscode": {
     "languageId": "shellscript"
    }
   },
   "outputs": [],
   "source": [
    "# Если надо выполнить коммит слияния, выполните команду git merge с флагом --no-ff.  \n",
    "# Указанная команда объединит заданную ветку с основной и произведёт коммит слияния. \n",
    "# Это необходимо для фиксации всех слияний в вашем репозитории.\n",
    "git merge --no-ff existing_branch_name"
   ]
  },
  {
   "cell_type": "markdown",
   "metadata": {},
   "source": [
    "Отображение журнала фиксации в виде графика для текущей или всех веток"
   ]
  },
  {
   "cell_type": "markdown",
   "metadata": {},
   "source": [
    "Просмотреть историю коммитов в виде графика для текущей ветки можно с помощью параметра log и флагов   \n",
    "--graph  выведет график в формате ASCII, отражающий структуру ветвления истории коммитов  \n",
    "--oneline  \n",
    "--decorate.   \n",
    "В связке с флагами --oneline и --decorate, этот флаг упрощает понимание того, к какой ветке относится каждый коммит.  "
   ]
  },
  {
   "cell_type": "code",
   "execution_count": null,
   "metadata": {
    "vscode": {
     "languageId": "shellscript"
    }
   },
   "outputs": [],
   "source": [
    "git log --graph --oneline --decorate"
   ]
  },
  {
   "cell_type": "code",
   "execution_count": null,
   "metadata": {
    "vscode": {
     "languageId": "shellscript"
    }
   },
   "outputs": [],
   "source": [
    "# Для просмотра истории коммитов по всем веткам используется флаг --all.\n",
    "git log --all --graph --oneline --decorate"
   ]
  },
  {
   "cell_type": "markdown",
   "metadata": {},
   "source": [
    "Добавление удалённого репозитория"
   ]
  },
  {
   "cell_type": "markdown",
   "metadata": {},
   "source": [
    "Краткое имя будет использоваться для push и pull  \n",
    "принято использовать имя origin, но можно и другие  \n",
    "в remote будут графиться ссылки на репозитории и имена этих ссылок  \n",
    "Далее в push и pull мы указываем имя репозитория, то есть переменную в которой храниться ссылка  "
   ]
  },
  {
   "cell_type": "markdown",
   "metadata": {},
   "source": [
    "Для добавления удалённого репозитория в Git используйте следующую команду:\n",
    "\n",
    "git remote add <краткое имя> <url>  \n",
    "Здесь <краткое имя> — это ссылка или указатель, который указывает на удалённый репозиторий Git.\n",
    "\n",
    "Например:\n",
    "\n",
    "git remote add myremoterepo https://github.com/abc/sample.git  \n",
    "Когда вы клонируете репозиторий, Git неявно добавляет его в качестве удалённого origin.\n",
    "\n",
    "Чтобы просмотреть список добавленных вами удалённых URL, выполните команду:\n",
    "\n",
    "git remote -v  \n",
    "Она выводит список всех удалённых имён и их URL, которые вы добавили в Git."
   ]
  },
  {
   "cell_type": "markdown",
   "metadata": {},
   "source": [
    "ВАЖНО  \n",
    "вставляем ssh ссылку"
   ]
  },
  {
   "cell_type": "code",
   "execution_count": null,
   "metadata": {
    "vscode": {
     "languageId": "shellscript"
    }
   },
   "outputs": [],
   "source": [
    "# Добавить удалённый репозиторий можно параметром remote add, указав shortname и url требуемого репозитория.\n",
    "git remote add awesomeapp git@github.com:..."
   ]
  },
  {
   "cell_type": "markdown",
   "metadata": {},
   "source": [
    "Просмотр удалённых URL-адресов"
   ]
  },
  {
   "cell_type": "code",
   "execution_count": null,
   "metadata": {
    "vscode": {
     "languageId": "shellscript"
    }
   },
   "outputs": [],
   "source": [
    "git remote -v"
   ]
  },
  {
   "cell_type": "markdown",
   "metadata": {},
   "source": [
    "Удалить удаленный репозиторий из списка"
   ]
  },
  {
   "cell_type": "code",
   "execution_count": null,
   "metadata": {
    "vscode": {
     "languageId": "shellscript"
    }
   },
   "outputs": [],
   "source": [
    "git remote remove origin"
   ]
  },
  {
   "cell_type": "markdown",
   "metadata": {},
   "source": [
    "Получение дополнительных сведений об удалённом репозитории"
   ]
  },
  {
   "cell_type": "code",
   "execution_count": null,
   "metadata": {
    "vscode": {
     "languageId": "shellscript"
    }
   },
   "outputs": [],
   "source": [
    "git remote show origin"
   ]
  },
  {
   "cell_type": "markdown",
   "metadata": {},
   "source": [
    "Отправка изменений в удалённый репозиторий"
   ]
  },
  {
   "cell_type": "markdown",
   "metadata": {},
   "source": [
    "ВАЖНО  \n",
    "Если кто-то изменил версию на гитхабе, а ты будешь пушить,  \n",
    "то будет ошибка  \n",
    "По правильному нужно сначала сделать пулл  \n",
    "Если не будет конфликтов, занчит все ОК и можно пушить,  \n",
    "но если будут конфликты, то в файле будет написано   \n",
    "хэш коммита, который сделали до нас  \n",
    "и HEAD это наши изменения, которые мы хотим внести  \n",
    "Мы берем убираем все строки с хэшами и с HEAD   \n",
    "и соединяем нашу версию и спуленую в одну версию как хотим  \n",
    "и сохраняем   \n",
    "далее    \n",
    "git add .  \n",
    "git commit -m \"this is commit\"    \n",
    "можно сделать просто git commit и почитать инфу про этот файл, елси нужно дописать свои комментарии и сохранить  \n",
    "теперь можно пушить  "
   ]
  },
  {
   "cell_type": "code",
   "execution_count": null,
   "metadata": {
    "vscode": {
     "languageId": "shellscript"
    }
   },
   "outputs": [],
   "source": [
    "# Отправлять изменения в удалённый репозиторий можно параметром push с указанием имени репозитория и ветки.  \n",
    "# Эта команда передаёт локальные изменения в центральный репозиторий, где с ними могут ознакомиться другие участники проекта.\n",
    "git push origin main"
   ]
  },
  {
   "cell_type": "markdown",
   "metadata": {},
   "source": [
    "Получение изменений из удалённого репозитория"
   ]
  },
  {
   "cell_type": "code",
   "execution_count": null,
   "metadata": {
    "vscode": {
     "languageId": "shellscript"
    }
   },
   "outputs": [],
   "source": [
    "# Он скачивает копию текущей ветки с указанного удалённого репозитория и объединяет её с локальной копией.\n",
    "git pull origin имя_ветки_которую_хотим_подтянуть"
   ]
  },
  {
   "cell_type": "code",
   "execution_count": null,
   "metadata": {
    "vscode": {
     "languageId": "shellscript"
    }
   },
   "outputs": [],
   "source": [
    "# Также можно просмотреть подробные сведения о загруженных файлах с помощью флага --verbose.\n",
    "git pull --verbose"
   ]
  },
  {
   "cell_type": "markdown",
   "metadata": {},
   "source": [
    "Слияние удалённого репозитория с локальным"
   ]
  },
  {
   "cell_type": "code",
   "execution_count": null,
   "metadata": {
    "vscode": {
     "languageId": "shellscript"
    }
   },
   "outputs": [],
   "source": [
    "# Слияние удалённого репозитория с локальным выполняется параметром merge с указанием имени удалённого репозитория.\n",
    "git merge origin"
   ]
  },
  {
   "cell_type": "markdown",
   "metadata": {},
   "source": [
    "Отправка новой ветки в удалённый репозиторий"
   ]
  },
  {
   "cell_type": "code",
   "execution_count": null,
   "metadata": {
    "vscode": {
     "languageId": "shellscript"
    }
   },
   "outputs": [],
   "source": [
    "# Передать новую ветку в удалённый репозиторий можно параметром push с флагом -u, указав имя репозитория и имя ветки.\n",
    "git push -u origin new_branch"
   ]
  },
  {
   "cell_type": "markdown",
   "metadata": {},
   "source": [
    "Удаление удалённой ветки"
   ]
  },
  {
   "cell_type": "markdown",
   "metadata": {},
   "source": [
    "ВАЖНО удаляемая ветка не должна стоять по умаолчанию в гитхабе  \n",
    "Если стоит, то нужно сменить на другую, а потом удалять"
   ]
  },
  {
   "cell_type": "code",
   "execution_count": null,
   "metadata": {
    "vscode": {
     "languageId": "shellscript"
    }
   },
   "outputs": [],
   "source": [
    "# Чтобы избавиться от удалённой ветки, используйте параметр push с флагом --delete,   \n",
    "# указав имя удалённого репозитория и имя ветки.\n",
    "git push --delete origin existing_branch"
   ]
  },
  {
   "cell_type": "markdown",
   "metadata": {},
   "source": [
    "Использование перебазирования"
   ]
  },
  {
   "cell_type": "code",
   "execution_count": null,
   "metadata": {
    "vscode": {
     "languageId": "shellscript"
    }
   },
   "outputs": [],
   "source": [
    "# Для доступа к этой функции используйте параметр rebase с указанием имени ветки.  \n",
    "# Перебазирование — это процесс объединения или перемещения последовательности коммитов на новый родительский снимок.\n",
    "git rebase branch_name"
   ]
  },
  {
   "cell_type": "markdown",
   "metadata": {},
   "source": [
    "Скопировать репозиторий"
   ]
  },
  {
   "cell_type": "code",
   "execution_count": null,
   "metadata": {
    "vscode": {
     "languageId": "shellscript"
    }
   },
   "outputs": [],
   "source": [
    "git clone ссылка_на_репо"
   ]
  },
  {
   "cell_type": "markdown",
   "metadata": {},
   "source": [
    "Создание ssh соединения  \n",
    "https://habr.com/ru/articles/755036/"
   ]
  },
  {
   "cell_type": "markdown",
   "metadata": {},
   "source": [
    "- Создаем ssh-ключи  \n",
    "    - Если у вас уже имеется пара ключей, которые вы хотите использовать для доступа к удалённым репозиториям,  \n",
    "    убедитесь, что файл с приватным ключом имеет права доступа rw------- и при необходимости установите их командой:  \n",
    "    chmod 600 ~/.ssh/personal_key\n",
    "    - Если у вас ещё нет пары ssh-ключей (приватного и публичного), их необходимо сгенерировать при помощи утилиты ssh-keygen.  \n",
    "    Через флаг -t задаём алгоритм, на основе которого будут сгенерированы ключи. GitHub, GitLab и Yandex рекомендуют использовать ed25519.   \n",
    "    ssh-keygen -t ed25519\n",
    "- В папке ~/.ssh/ появятся два файла: id_ed25519 и id_ed25519.pub с приватным и публичным ключами соответственно.   \n",
    "Далее по желанию можно задать пароль на генерируемый ключ. Если вы сделаете это, ssh будет требовать его при каждом использовании ключа.   \n",
    "Чтобы не вводить пароль каждый раз, можно немного настроить ssh-agent - менеджер ключей для ssh.   \n",
    "https://www.ssh.com/academy/ssh/agent  \n",
    "Для удобства работы эти файлы можно переименовать:  \n",
    "    - переходим в папку с ключами    \n",
    "    cd .ssh\n",
    "    - переименоываем  \n",
    "    mv ~/.ssh/id_ed25519 ~/.ssh/personal_key\n",
    "    mv ~/.ssh/id_ed25519.pub ~/.ssh/personal_key.pub\n",
    "- По желанию Настраиваем ssh config, должно и без этого работать\n",
    "Чтобы ssh мог автоматически использовать правильные ключи при работе с удалёнными репозиториями,   \n",
    "необходимо задать некоторые настройки. А именно - добавить в файл ~/.ssh/config следующие строки:  \n",
    "Host github.com\n",
    "    HostName github.com\n",
    "    User git\n",
    "    IdentityFile ~/.ssh/personal_key\n",
    "    IdentitiesOnly yes\n",
    "где:  \n",
    "gihub.com - url сервиса, с которым будем работать (указываем одинаковым в Host и HostName).  \n",
    "~/.ssh/personal_key - путь до файла с приватным ключом, который необходимо использовать для подключения.    \n",
    "- Указываем публичный ключ на GitHub  \n",
    "На github.com эта процедура делается следующим образом:  \n",
    "Переходим в \"Settings\" -> \"SSH and GPG keys\" (https://github.com/settings/keys).   \n",
    "Нажимаем \"New SSH key\".  \n",
    "В поле \"Key\" вставляем содержимое файла personal_key.pub (либо id_ed25519.pub, если вы не переименовывали файлы).  \n",
    "Нажимаем \"Add SSH key\".    "
   ]
  },
  {
   "cell_type": "markdown",
   "metadata": {
    "vscode": {
     "languageId": "shellscript"
    }
   },
   "source": [
    "Тэги"
   ]
  },
  {
   "cell_type": "markdown",
   "metadata": {
    "vscode": {
     "languageId": "shellscript"
    }
   },
   "source": [
    "Теги (tags) и ветки (branches) в Git служат разным целям и имеют разные характеристики. "
   ]
  },
  {
   "cell_type": "markdown",
   "metadata": {
    "vscode": {
     "languageId": "shellscript"
    }
   },
   "source": [
    "Branches"
   ]
  },
  {
   "cell_type": "markdown",
   "metadata": {
    "vscode": {
     "languageId": "shellscript"
    }
   },
   "source": [
    "- Ветки используются для разработки новых функций, исправления ошибок или других изменений в коде. Они позволяют параллельно работать над разными задачами, не мешая основной (или стабильной) версии кода.  \n",
    "- Ветки являются изменяемыми. Вы можете вносить изменения в код, коммитить их и обновлять ветку. Ветки могут быть объединены (merged) с другими ветками, например, с основной веткой.\n",
    "- Ветки могут быть созданы и удалены по мере необходимости. Например, вы можете создать ветку для новой функции, поработать над ней, а затем удалить, если она больше не нужна."
   ]
  },
  {
   "cell_type": "markdown",
   "metadata": {
    "vscode": {
     "languageId": "shellscript"
    }
   },
   "source": [
    "Tags"
   ]
  },
  {
   "cell_type": "markdown",
   "metadata": {
    "vscode": {
     "languageId": "shellscript"
    }
   },
   "source": [
    "- Теги используются для создания фиксированных точек в истории проекта, обычно для обозначения релизов или значимых изменений. Они позволяют легко ссылаться на конкретные версии кода. \n",
    "- Теги являются неизменяемыми. После создания тега его содержимое не меняется. Если вам нужно внести изменения, вы должны создать новый тег.\n",
    "- Теги обычно используются для обозначения версий (например, v1.0.0, v2.0.0). Они не предназначены для активной разработки, как ветки."
   ]
  },
  {
   "cell_type": "code",
   "execution_count": null,
   "metadata": {
    "vscode": {
     "languageId": "shellscript"
    }
   },
   "outputs": [],
   "source": []
  },
  {
   "cell_type": "code",
   "execution_count": null,
   "metadata": {
    "vscode": {
     "languageId": "shellscript"
    }
   },
   "outputs": [],
   "source": []
  }
 ],
 "metadata": {
  "kernelspec": {
   "display_name": "Python 3.7.1 64-bit",
   "language": "python",
   "name": "python3"
  },
  "language_info": {
   "codemirror_mode": {
    "name": "ipython",
    "version": 3
   },
   "file_extension": ".py",
   "mimetype": "text/x-python",
   "name": "python",
   "nbconvert_exporter": "python",
   "pygments_lexer": "ipython3",
   "version": "3.7.1"
  },
  "orig_nbformat": 4,
  "vscode": {
   "interpreter": {
    "hash": "fbe58ca63fe33f9eeae9e71d10368d2b4a57f2b1b395836210cc60d362c66949"
   }
  }
 },
 "nbformat": 4,
 "nbformat_minor": 2
}
