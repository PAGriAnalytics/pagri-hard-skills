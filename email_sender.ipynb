{
 "cells": [
  {
   "cell_type": "markdown",
   "metadata": {},
   "source": [
    "For gmail  \n",
    "https://www.techgeekbuzz.com/blog/how-to-use-gmail-api-in-python-to-send-mail/  \n",
    "Step one: enable 2FA  \n",
    "\n",
    "https://myaccount.google.com/signinoptions/two-step-verification/enroll-welcome  \n",
    "Step two: create an app-specific password  \n",
    "\n",
    "https://myaccount.google.com/apppasswords  "
   ]
  },
  {
   "cell_type": "code",
   "execution_count": null,
   "metadata": {},
   "outputs": [],
   "source": [
    "def send_email(mail_from: str, password: str, mail_to: list, subject: str, body: str, attachements: list):  \n",
    "\n",
    "    \"\"\"\n",
    "    Эта функция посылает файл/файлы по почте указаным адресам.\n",
    "    \n",
    "    subject - тема письма\n",
    "    body - тест письма\n",
    "    attachements - список с путями до файлов, которые нужно послать\n",
    "    mail_to - список почт получателей\n",
    "    \n",
    "    1) Константы и переменные которые остаются неизменными, либо меняются нечасто.\n",
    "    2) Параметры для письма.\n",
    "    3) Список всех путей до документов, которые нужно послать.\n",
    "    4) Цикл для присоединения документов к письму.\n",
    "    5) Цикл для посылки письма. Тестирует на соединение и посылает письмо.\n",
    "    \n",
    "    \"\"\"\n",
    "    import smtplib, os, sys\n",
    "    from email.mime.multipart import MIMEMultipart\n",
    "    from email.mime.text import MIMEText\n",
    "    from email.mime.base import MIMEBase\n",
    "    from email import encoders\n",
    "    \n",
    "    # 1\n",
    "    RESULTS_PATH = ''\n",
    "    SENDER = str(mail_from)\n",
    "    PASSWORD = str(password)\n",
    "    RECEPIENTS = mail_to\n",
    "    COMMASPACE = ', '\n",
    "    \n",
    "    # 2\n",
    "    outer = MIMEMultipart()\n",
    "    outer['Subject'] = subject\n",
    "    outer['To'] =  COMMASPACE.join(RECEPIENTS) #RECEPIENTS\n",
    "    outer['From'] = SENDER\n",
    "    # outer.preamble = ''\n",
    "    body = MIMEText(body) # convert the body to a MIME compatible string\n",
    "    outer.attach(body) # attach it to your main message\n",
    "    # 3\n",
    "    ATTACHEMENTS = attachements\n",
    "\n",
    "    # 4\n",
    "    for file in ATTACHEMENTS:\n",
    "        try:\n",
    "            with open(file, 'rb') as fp:\n",
    "                msg = MIMEBase('application', \"octet-stream\")\n",
    "                msg.set_payload(fp.read())\n",
    "            encoders.encode_base64(msg)\n",
    "            msg.add_header('Content-Disposition', 'attachment', filename=os.path.basename(file))\n",
    "            outer.attach(msg)\n",
    "        except:\n",
    "            print(\"Unable to open one of the attachments. Error: \", sys.exc_info()[0])\n",
    "            raise\n",
    "\n",
    "    COMPOSED = outer.as_string()            \n",
    "    # 5\n",
    "    try:\n",
    "        with smtplib.SMTP('smtp.gmail.com', 587) as s:\n",
    "            s.ehlo()\n",
    "            s.starttls()\n",
    "            s.ehlo()\n",
    "            s.login(SENDER, PASSWORD)\n",
    "            s.sendmail(SENDER, RECEPIENTS, COMPOSED)\n",
    "            s.close()\n",
    "            \n",
    "    except:\n",
    "        print(\"Unable to send the email. Error: \", sys.exc_info()[0])\n",
    "        raise"
   ]
  },
  {
   "cell_type": "code",
   "execution_count": null,
   "metadata": {},
   "outputs": [],
   "source": [
    "attachments = ['churn.xlsx', 'report.xlsx', 'image/newplot.png']\n",
    "body = '''\n",
    "    asdfasdfas\n",
    "    sdfdasf\n",
    "    sdafasdfasdfas\n",
    "    sdfdas\n",
    "    sdfasfasdf\n",
    "    sdfasdfasdfasdf\n",
    "'''\n",
    "send_email('bestorlov1992@gmail.com', 'vmri ddvu yprf eptl', ['bestorlov1992@gmail.com', 'zver.step@yandex.com'], 'тема письма', body, attachments)"
   ]
  }
 ],
 "metadata": {
  "kernelspec": {
   "display_name": "Python 3.7.1 64-bit",
   "language": "python",
   "name": "python3"
  },
  "language_info": {
   "codemirror_mode": {
    "name": "ipython",
    "version": 3
   },
   "file_extension": ".py",
   "mimetype": "text/x-python",
   "name": "python",
   "nbconvert_exporter": "python",
   "pygments_lexer": "ipython3",
   "version": "3.7.1"
  },
  "orig_nbformat": 4,
  "vscode": {
   "interpreter": {
    "hash": "fbe58ca63fe33f9eeae9e71d10368d2b4a57f2b1b395836210cc60d362c66949"
   }
  }
 },
 "nbformat": 4,
 "nbformat_minor": 2
}
