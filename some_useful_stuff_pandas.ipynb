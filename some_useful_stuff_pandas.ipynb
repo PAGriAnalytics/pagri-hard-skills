{
 "cells": [
  {
   "cell_type": "markdown",
   "metadata": {},
   "source": [
    "Pivot"
   ]
  },
  {
   "cell_type": "code",
   "execution_count": 33,
   "metadata": {},
   "outputs": [],
   "source": [
    "df = pd.DataFrame({'foo': ['one', 'one', 'one', 'two', 'two',\n",
    "                           'two'],\n",
    "                   'bar': ['A', 'B', 'C', 'A', 'B', 'C'],\n",
    "                   'baz': [1, 2, 3, 4, 5, 6],\n",
    "                   'zoo': ['x', 'y', 'z', 'q', 'w', 't']})"
   ]
  },
  {
   "cell_type": "code",
   "execution_count": 34,
   "metadata": {},
   "outputs": [
    {
     "data": {
      "text/html": [
       "<div>\n",
       "<style scoped>\n",
       "    .dataframe tbody tr th:only-of-type {\n",
       "        vertical-align: middle;\n",
       "    }\n",
       "\n",
       "    .dataframe tbody tr th {\n",
       "        vertical-align: top;\n",
       "    }\n",
       "\n",
       "    .dataframe thead th {\n",
       "        text-align: right;\n",
       "    }\n",
       "</style>\n",
       "<table border=\"1\" class=\"dataframe\">\n",
       "  <thead>\n",
       "    <tr style=\"text-align: right;\">\n",
       "      <th></th>\n",
       "      <th>foo</th>\n",
       "      <th>bar</th>\n",
       "      <th>baz</th>\n",
       "      <th>zoo</th>\n",
       "    </tr>\n",
       "  </thead>\n",
       "  <tbody>\n",
       "    <tr>\n",
       "      <th>0</th>\n",
       "      <td>one</td>\n",
       "      <td>A</td>\n",
       "      <td>1</td>\n",
       "      <td>x</td>\n",
       "    </tr>\n",
       "    <tr>\n",
       "      <th>1</th>\n",
       "      <td>one</td>\n",
       "      <td>B</td>\n",
       "      <td>2</td>\n",
       "      <td>y</td>\n",
       "    </tr>\n",
       "    <tr>\n",
       "      <th>2</th>\n",
       "      <td>one</td>\n",
       "      <td>C</td>\n",
       "      <td>3</td>\n",
       "      <td>z</td>\n",
       "    </tr>\n",
       "    <tr>\n",
       "      <th>3</th>\n",
       "      <td>two</td>\n",
       "      <td>A</td>\n",
       "      <td>4</td>\n",
       "      <td>q</td>\n",
       "    </tr>\n",
       "    <tr>\n",
       "      <th>4</th>\n",
       "      <td>two</td>\n",
       "      <td>B</td>\n",
       "      <td>5</td>\n",
       "      <td>w</td>\n",
       "    </tr>\n",
       "    <tr>\n",
       "      <th>5</th>\n",
       "      <td>two</td>\n",
       "      <td>C</td>\n",
       "      <td>6</td>\n",
       "      <td>t</td>\n",
       "    </tr>\n",
       "  </tbody>\n",
       "</table>\n",
       "</div>"
      ],
      "text/plain": [
       "   foo bar  baz zoo\n",
       "0  one   A    1   x\n",
       "1  one   B    2   y\n",
       "2  one   C    3   z\n",
       "3  two   A    4   q\n",
       "4  two   B    5   w\n",
       "5  two   C    6   t"
      ]
     },
     "execution_count": 34,
     "metadata": {},
     "output_type": "execute_result"
    }
   ],
   "source": [
    "df"
   ]
  },
  {
   "cell_type": "code",
   "execution_count": 35,
   "metadata": {
    "collapsed": true,
    "jupyter": {
     "outputs_hidden": true
    }
   },
   "outputs": [
    {
     "data": {
      "text/html": [
       "<div>\n",
       "<style scoped>\n",
       "    .dataframe tbody tr th:only-of-type {\n",
       "        vertical-align: middle;\n",
       "    }\n",
       "\n",
       "    .dataframe tbody tr th {\n",
       "        vertical-align: top;\n",
       "    }\n",
       "\n",
       "    .dataframe thead th {\n",
       "        text-align: right;\n",
       "    }\n",
       "</style>\n",
       "<table border=\"1\" class=\"dataframe\">\n",
       "  <thead>\n",
       "    <tr style=\"text-align: right;\">\n",
       "      <th>bar</th>\n",
       "      <th>A</th>\n",
       "      <th>B</th>\n",
       "      <th>C</th>\n",
       "    </tr>\n",
       "    <tr>\n",
       "      <th>baz</th>\n",
       "      <th></th>\n",
       "      <th></th>\n",
       "      <th></th>\n",
       "    </tr>\n",
       "  </thead>\n",
       "  <tbody>\n",
       "    <tr>\n",
       "      <th>1</th>\n",
       "      <td>x</td>\n",
       "      <td>NaN</td>\n",
       "      <td>NaN</td>\n",
       "    </tr>\n",
       "    <tr>\n",
       "      <th>2</th>\n",
       "      <td>NaN</td>\n",
       "      <td>y</td>\n",
       "      <td>NaN</td>\n",
       "    </tr>\n",
       "    <tr>\n",
       "      <th>3</th>\n",
       "      <td>NaN</td>\n",
       "      <td>NaN</td>\n",
       "      <td>z</td>\n",
       "    </tr>\n",
       "    <tr>\n",
       "      <th>4</th>\n",
       "      <td>q</td>\n",
       "      <td>NaN</td>\n",
       "      <td>NaN</td>\n",
       "    </tr>\n",
       "    <tr>\n",
       "      <th>5</th>\n",
       "      <td>NaN</td>\n",
       "      <td>w</td>\n",
       "      <td>NaN</td>\n",
       "    </tr>\n",
       "    <tr>\n",
       "      <th>6</th>\n",
       "      <td>NaN</td>\n",
       "      <td>NaN</td>\n",
       "      <td>t</td>\n",
       "    </tr>\n",
       "  </tbody>\n",
       "</table>\n",
       "</div>"
      ],
      "text/plain": [
       "bar    A    B    C\n",
       "baz               \n",
       "1      x  NaN  NaN\n",
       "2    NaN    y  NaN\n",
       "3    NaN  NaN    z\n",
       "4      q  NaN  NaN\n",
       "5    NaN    w  NaN\n",
       "6    NaN  NaN    t"
      ]
     },
     "execution_count": 35,
     "metadata": {},
     "output_type": "execute_result"
    }
   ],
   "source": [
    "df.pivot(index='baz', columns='bar', values='zoo')"
   ]
  },
  {
   "cell_type": "code",
   "execution_count": 36,
   "metadata": {
    "collapsed": true,
    "jupyter": {
     "outputs_hidden": true
    }
   },
   "outputs": [
    {
     "data": {
      "text/html": [
       "<div>\n",
       "<style scoped>\n",
       "    .dataframe tbody tr th:only-of-type {\n",
       "        vertical-align: middle;\n",
       "    }\n",
       "\n",
       "    .dataframe tbody tr th {\n",
       "        vertical-align: top;\n",
       "    }\n",
       "\n",
       "    .dataframe thead th {\n",
       "        text-align: right;\n",
       "    }\n",
       "</style>\n",
       "<table border=\"1\" class=\"dataframe\">\n",
       "  <thead>\n",
       "    <tr style=\"text-align: right;\">\n",
       "      <th>bar</th>\n",
       "      <th>A</th>\n",
       "      <th>B</th>\n",
       "      <th>C</th>\n",
       "    </tr>\n",
       "    <tr>\n",
       "      <th>baz</th>\n",
       "      <th></th>\n",
       "      <th></th>\n",
       "      <th></th>\n",
       "    </tr>\n",
       "  </thead>\n",
       "  <tbody>\n",
       "    <tr>\n",
       "      <th>1</th>\n",
       "      <td>x</td>\n",
       "      <td>NaN</td>\n",
       "      <td>NaN</td>\n",
       "    </tr>\n",
       "    <tr>\n",
       "      <th>2</th>\n",
       "      <td>NaN</td>\n",
       "      <td>y</td>\n",
       "      <td>NaN</td>\n",
       "    </tr>\n",
       "    <tr>\n",
       "      <th>3</th>\n",
       "      <td>NaN</td>\n",
       "      <td>NaN</td>\n",
       "      <td>z</td>\n",
       "    </tr>\n",
       "    <tr>\n",
       "      <th>4</th>\n",
       "      <td>q</td>\n",
       "      <td>NaN</td>\n",
       "      <td>NaN</td>\n",
       "    </tr>\n",
       "    <tr>\n",
       "      <th>5</th>\n",
       "      <td>NaN</td>\n",
       "      <td>w</td>\n",
       "      <td>NaN</td>\n",
       "    </tr>\n",
       "    <tr>\n",
       "      <th>6</th>\n",
       "      <td>NaN</td>\n",
       "      <td>NaN</td>\n",
       "      <td>t</td>\n",
       "    </tr>\n",
       "  </tbody>\n",
       "</table>\n",
       "</div>"
      ],
      "text/plain": [
       "bar    A    B    C\n",
       "baz               \n",
       "1      x  NaN  NaN\n",
       "2    NaN    y  NaN\n",
       "3    NaN  NaN    z\n",
       "4      q  NaN  NaN\n",
       "5    NaN    w  NaN\n",
       "6    NaN  NaN    t"
      ]
     },
     "execution_count": 36,
     "metadata": {},
     "output_type": "execute_result"
    }
   ],
   "source": [
    "df.pivot_table('zoo', 'baz', 'bar', aggfunc=min)"
   ]
  },
  {
   "cell_type": "code",
   "execution_count": 8,
   "metadata": {},
   "outputs": [
    {
     "data": {
      "text/html": [
       "<div>\n",
       "<style scoped>\n",
       "    .dataframe tbody tr th:only-of-type {\n",
       "        vertical-align: middle;\n",
       "    }\n",
       "\n",
       "    .dataframe tbody tr th {\n",
       "        vertical-align: top;\n",
       "    }\n",
       "\n",
       "    .dataframe thead th {\n",
       "        text-align: right;\n",
       "    }\n",
       "</style>\n",
       "<table border=\"1\" class=\"dataframe\">\n",
       "  <thead>\n",
       "    <tr style=\"text-align: right;\">\n",
       "      <th></th>\n",
       "      <th>gender</th>\n",
       "    </tr>\n",
       "  </thead>\n",
       "  <tbody>\n",
       "    <tr>\n",
       "      <th>0</th>\n",
       "      <td>female</td>\n",
       "    </tr>\n",
       "    <tr>\n",
       "      <th>1</th>\n",
       "      <td>female</td>\n",
       "    </tr>\n",
       "    <tr>\n",
       "      <th>2</th>\n",
       "      <td>female</td>\n",
       "    </tr>\n",
       "    <tr>\n",
       "      <th>3</th>\n",
       "      <td>female</td>\n",
       "    </tr>\n",
       "    <tr>\n",
       "      <th>4</th>\n",
       "      <td>female</td>\n",
       "    </tr>\n",
       "    <tr>\n",
       "      <th>5</th>\n",
       "      <td>male</td>\n",
       "    </tr>\n",
       "    <tr>\n",
       "      <th>6</th>\n",
       "      <td>female</td>\n",
       "    </tr>\n",
       "    <tr>\n",
       "      <th>7</th>\n",
       "      <td>female</td>\n",
       "    </tr>\n",
       "    <tr>\n",
       "      <th>8</th>\n",
       "      <td>male</td>\n",
       "    </tr>\n",
       "    <tr>\n",
       "      <th>9</th>\n",
       "      <td>female</td>\n",
       "    </tr>\n",
       "  </tbody>\n",
       "</table>\n",
       "</div>"
      ],
      "text/plain": [
       "   gender\n",
       "0  female\n",
       "1  female\n",
       "2  female\n",
       "3  female\n",
       "4  female\n",
       "5    male\n",
       "6  female\n",
       "7  female\n",
       "8    male\n",
       "9  female"
      ]
     },
     "execution_count": 8,
     "metadata": {},
     "output_type": "execute_result"
    }
   ],
   "source": [
    "import pandas as pd\n",
    "from random import choice\n",
    "\n",
    "df = pd.DataFrame({'gender':[choice(['male', 'female']) for _ in range(10)]})\n",
    "df"
   ]
  },
  {
   "cell_type": "code",
   "execution_count": 16,
   "metadata": {},
   "outputs": [
    {
     "data": {
      "text/html": [
       "<div>\n",
       "<style scoped>\n",
       "    .dataframe tbody tr th:only-of-type {\n",
       "        vertical-align: middle;\n",
       "    }\n",
       "\n",
       "    .dataframe tbody tr th {\n",
       "        vertical-align: top;\n",
       "    }\n",
       "\n",
       "    .dataframe thead th {\n",
       "        text-align: right;\n",
       "    }\n",
       "</style>\n",
       "<table border=\"1\" class=\"dataframe\">\n",
       "  <thead>\n",
       "    <tr style=\"text-align: right;\">\n",
       "      <th></th>\n",
       "      <th>gender</th>\n",
       "      <th>digit_gender</th>\n",
       "    </tr>\n",
       "  </thead>\n",
       "  <tbody>\n",
       "    <tr>\n",
       "      <th>0</th>\n",
       "      <td>female</td>\n",
       "      <td>1</td>\n",
       "    </tr>\n",
       "    <tr>\n",
       "      <th>1</th>\n",
       "      <td>female</td>\n",
       "      <td>1</td>\n",
       "    </tr>\n",
       "    <tr>\n",
       "      <th>2</th>\n",
       "      <td>female</td>\n",
       "      <td>1</td>\n",
       "    </tr>\n",
       "    <tr>\n",
       "      <th>3</th>\n",
       "      <td>female</td>\n",
       "      <td>1</td>\n",
       "    </tr>\n",
       "    <tr>\n",
       "      <th>4</th>\n",
       "      <td>female</td>\n",
       "      <td>1</td>\n",
       "    </tr>\n",
       "    <tr>\n",
       "      <th>5</th>\n",
       "      <td>male</td>\n",
       "      <td>0</td>\n",
       "    </tr>\n",
       "    <tr>\n",
       "      <th>6</th>\n",
       "      <td>female</td>\n",
       "      <td>1</td>\n",
       "    </tr>\n",
       "    <tr>\n",
       "      <th>7</th>\n",
       "      <td>female</td>\n",
       "      <td>1</td>\n",
       "    </tr>\n",
       "    <tr>\n",
       "      <th>8</th>\n",
       "      <td>male</td>\n",
       "      <td>0</td>\n",
       "    </tr>\n",
       "    <tr>\n",
       "      <th>9</th>\n",
       "      <td>female</td>\n",
       "      <td>1</td>\n",
       "    </tr>\n",
       "  </tbody>\n",
       "</table>\n",
       "</div>"
      ],
      "text/plain": [
       "   gender  digit_gender\n",
       "0  female             1\n",
       "1  female             1\n",
       "2  female             1\n",
       "3  female             1\n",
       "4  female             1\n",
       "5    male             0\n",
       "6  female             1\n",
       "7  female             1\n",
       "8    male             0\n",
       "9  female             1"
      ]
     },
     "execution_count": 16,
     "metadata": {},
     "output_type": "execute_result"
    }
   ],
   "source": [
    "df['digit_gender'] = df.gender.eq('female').astype(int)\n",
    "df"
   ]
  },
  {
   "cell_type": "code",
   "execution_count": 13,
   "metadata": {},
   "outputs": [
    {
     "data": {
      "text/plain": [
       "0    0\n",
       "1    0\n",
       "2    0\n",
       "3    0\n",
       "4    0\n",
       "5    1\n",
       "6    0\n",
       "7    0\n",
       "8    1\n",
       "9    0\n",
       "Name: gender, dtype: int32"
      ]
     },
     "execution_count": 13,
     "metadata": {},
     "output_type": "execute_result"
    }
   ],
   "source": [
    "df.gender.eq('male').astype(int)"
   ]
  },
  {
   "cell_type": "code",
   "execution_count": 2,
   "metadata": {},
   "outputs": [
    {
     "data": {
      "text/plain": [
       "['male',\n",
       " 'female',\n",
       " 'male',\n",
       " 'male',\n",
       " 'male',\n",
       " 'female',\n",
       " 'male',\n",
       " 'male',\n",
       " 'male',\n",
       " 'female']"
      ]
     },
     "execution_count": 2,
     "metadata": {},
     "output_type": "execute_result"
    }
   ],
   "source": [
    "import random\n",
    "[choice(['male', 'female']) for _ in range(20)]"
   ]
  },
  {
   "cell_type": "code",
   "execution_count": 11,
   "metadata": {},
   "outputs": [],
   "source": [
    "import matplotlib.colors as clr"
   ]
  },
  {
   "cell_type": "code",
   "execution_count": null,
   "metadata": {},
   "outputs": [],
   "source": [
    "colors = {'xkcd:neon red': '#ff073a',\n",
    "          'xkcd:neon green': '#0cff0c',\n",
    "          'xkcd:ultramarine blue': '#1805db',\n",
    "          'xkcd:vivid purple': '#9900fa',\n",
    "          'xkcd:cyan': '#00ffff',\n",
    "          'xkcd:greyish': '#a8a495',\n",
    "          'xkcd:canary yellow': '#fffe40',\n",
    "          'xkcd:bubblegum pink': '#fe83cc',\n",
    "          'xkcd:deep violet': '#490648',\n",
    "          'xkcd:dark blue': '#00035b',\n",
    "          'xkcd:orange': '#f97306',\n",
    "          'xkcd:blood red': '#980002',\n",
    "          'xkcd:blue blue': '#2242c7',\n",
    "          'xkcd:turtle green': '#75b84f',\n",
    "          'xkcd:deep rose': '#c74767'\n",
    "         }"
   ]
  },
  {
   "cell_type": "code",
   "execution_count": 14,
   "metadata": {
    "collapsed": true,
    "jupyter": {
     "outputs_hidden": true
    }
   },
   "outputs": [
    {
     "data": {
      "text/plain": [
       "{'xkcd:cloudy blue': '#acc2d9',\n",
       " 'xkcd:dark pastel green': '#56ae57',\n",
       " 'xkcd:dust': '#b2996e',\n",
       " 'xkcd:electric lime': '#a8ff04',\n",
       " 'xkcd:fresh green': '#69d84f',\n",
       " 'xkcd:light eggplant': '#894585',\n",
       " 'xkcd:nasty green': '#70b23f',\n",
       " 'xkcd:really light blue': '#d4ffff',\n",
       " 'xkcd:tea': '#65ab7c',\n",
       " 'xkcd:warm purple': '#952e8f',\n",
       " 'xkcd:yellowish tan': '#fcfc81',\n",
       " 'xkcd:cement': '#a5a391',\n",
       " 'xkcd:dark grass green': '#388004',\n",
       " 'xkcd:dusty teal': '#4c9085',\n",
       " 'xkcd:grey teal': '#5e9b8a',\n",
       " 'xkcd:macaroni and cheese': '#efb435',\n",
       " 'xkcd:pinkish tan': '#d99b82',\n",
       " 'xkcd:spruce': '#0a5f38',\n",
       " 'xkcd:strong blue': '#0c06f7',\n",
       " 'xkcd:toxic green': '#61de2a',\n",
       " 'xkcd:windows blue': '#3778bf',\n",
       " 'xkcd:blue blue': '#2242c7',\n",
       " 'xkcd:blue with a hint of purple': '#533cc6',\n",
       " 'xkcd:booger': '#9bb53c',\n",
       " 'xkcd:bright sea green': '#05ffa6',\n",
       " 'xkcd:dark green blue': '#1f6357',\n",
       " 'xkcd:deep turquoise': '#017374',\n",
       " 'xkcd:green teal': '#0cb577',\n",
       " 'xkcd:strong pink': '#ff0789',\n",
       " 'xkcd:bland': '#afa88b',\n",
       " 'xkcd:deep aqua': '#08787f',\n",
       " 'xkcd:lavender pink': '#dd85d7',\n",
       " 'xkcd:light moss green': '#a6c875',\n",
       " 'xkcd:light seafoam green': '#a7ffb5',\n",
       " 'xkcd:olive yellow': '#c2b709',\n",
       " 'xkcd:pig pink': '#e78ea5',\n",
       " 'xkcd:deep lilac': '#966ebd',\n",
       " 'xkcd:desert': '#ccad60',\n",
       " 'xkcd:dusty lavender': '#ac86a8',\n",
       " 'xkcd:purpley grey': '#947e94',\n",
       " 'xkcd:purply': '#983fb2',\n",
       " 'xkcd:candy pink': '#ff63e9',\n",
       " 'xkcd:light pastel green': '#b2fba5',\n",
       " 'xkcd:boring green': '#63b365',\n",
       " 'xkcd:kiwi green': '#8ee53f',\n",
       " 'xkcd:light grey green': '#b7e1a1',\n",
       " 'xkcd:orange pink': '#ff6f52',\n",
       " 'xkcd:tea green': '#bdf8a3',\n",
       " 'xkcd:very light brown': '#d3b683',\n",
       " 'xkcd:egg shell': '#fffcc4',\n",
       " 'xkcd:eggplant purple': '#430541',\n",
       " 'xkcd:powder pink': '#ffb2d0',\n",
       " 'xkcd:reddish grey': '#997570',\n",
       " 'xkcd:baby shit brown': '#ad900d',\n",
       " 'xkcd:liliac': '#c48efd',\n",
       " 'xkcd:stormy blue': '#507b9c',\n",
       " 'xkcd:ugly brown': '#7d7103',\n",
       " 'xkcd:custard': '#fffd78',\n",
       " 'xkcd:darkish pink': '#da467d',\n",
       " 'xkcd:deep brown': '#410200',\n",
       " 'xkcd:greenish beige': '#c9d179',\n",
       " 'xkcd:manilla': '#fffa86',\n",
       " 'xkcd:off blue': '#5684ae',\n",
       " 'xkcd:battleship grey': '#6b7c85',\n",
       " 'xkcd:browny green': '#6f6c0a',\n",
       " 'xkcd:bruise': '#7e4071',\n",
       " 'xkcd:kelley green': '#009337',\n",
       " 'xkcd:sickly yellow': '#d0e429',\n",
       " 'xkcd:sunny yellow': '#fff917',\n",
       " 'xkcd:azul': '#1d5dec',\n",
       " 'xkcd:darkgreen': '#054907',\n",
       " 'xkcd:green/yellow': '#b5ce08',\n",
       " 'xkcd:lichen': '#8fb67b',\n",
       " 'xkcd:light light green': '#c8ffb0',\n",
       " 'xkcd:pale gold': '#fdde6c',\n",
       " 'xkcd:sun yellow': '#ffdf22',\n",
       " 'xkcd:tan green': '#a9be70',\n",
       " 'xkcd:burple': '#6832e3',\n",
       " 'xkcd:butterscotch': '#fdb147',\n",
       " 'xkcd:toupe': '#c7ac7d',\n",
       " 'xkcd:dark cream': '#fff39a',\n",
       " 'xkcd:indian red': '#850e04',\n",
       " 'xkcd:light lavendar': '#efc0fe',\n",
       " 'xkcd:poison green': '#40fd14',\n",
       " 'xkcd:baby puke green': '#b6c406',\n",
       " 'xkcd:bright yellow green': '#9dff00',\n",
       " 'xkcd:charcoal grey': '#3c4142',\n",
       " 'xkcd:squash': '#f2ab15',\n",
       " 'xkcd:cinnamon': '#ac4f06',\n",
       " 'xkcd:light pea green': '#c4fe82',\n",
       " 'xkcd:radioactive green': '#2cfa1f',\n",
       " 'xkcd:raw sienna': '#9a6200',\n",
       " 'xkcd:baby purple': '#ca9bf7',\n",
       " 'xkcd:cocoa': '#875f42',\n",
       " 'xkcd:light royal blue': '#3a2efe',\n",
       " 'xkcd:orangeish': '#fd8d49',\n",
       " 'xkcd:rust brown': '#8b3103',\n",
       " 'xkcd:sand brown': '#cba560',\n",
       " 'xkcd:swamp': '#698339',\n",
       " 'xkcd:tealish green': '#0cdc73',\n",
       " 'xkcd:burnt siena': '#b75203',\n",
       " 'xkcd:camo': '#7f8f4e',\n",
       " 'xkcd:dusk blue': '#26538d',\n",
       " 'xkcd:fern': '#63a950',\n",
       " 'xkcd:old rose': '#c87f89',\n",
       " 'xkcd:pale light green': '#b1fc99',\n",
       " 'xkcd:peachy pink': '#ff9a8a',\n",
       " 'xkcd:rosy pink': '#f6688e',\n",
       " 'xkcd:light bluish green': '#76fda8',\n",
       " 'xkcd:light bright green': '#53fe5c',\n",
       " 'xkcd:light neon green': '#4efd54',\n",
       " 'xkcd:light seafoam': '#a0febf',\n",
       " 'xkcd:tiffany blue': '#7bf2da',\n",
       " 'xkcd:washed out green': '#bcf5a6',\n",
       " 'xkcd:browny orange': '#ca6b02',\n",
       " 'xkcd:nice blue': '#107ab0',\n",
       " 'xkcd:sapphire': '#2138ab',\n",
       " 'xkcd:greyish teal': '#719f91',\n",
       " 'xkcd:orangey yellow': '#fdb915',\n",
       " 'xkcd:parchment': '#fefcaf',\n",
       " 'xkcd:straw': '#fcf679',\n",
       " 'xkcd:very dark brown': '#1d0200',\n",
       " 'xkcd:terracota': '#cb6843',\n",
       " 'xkcd:ugly blue': '#31668a',\n",
       " 'xkcd:clear blue': '#247afd',\n",
       " 'xkcd:creme': '#ffffb6',\n",
       " 'xkcd:foam green': '#90fda9',\n",
       " 'xkcd:grey/green': '#86a17d',\n",
       " 'xkcd:light gold': '#fddc5c',\n",
       " 'xkcd:seafoam blue': '#78d1b6',\n",
       " 'xkcd:topaz': '#13bbaf',\n",
       " 'xkcd:violet pink': '#fb5ffc',\n",
       " 'xkcd:wintergreen': '#20f986',\n",
       " 'xkcd:yellow tan': '#ffe36e',\n",
       " 'xkcd:dark fuchsia': '#9d0759',\n",
       " 'xkcd:indigo blue': '#3a18b1',\n",
       " 'xkcd:light yellowish green': '#c2ff89',\n",
       " 'xkcd:pale magenta': '#d767ad',\n",
       " 'xkcd:rich purple': '#720058',\n",
       " 'xkcd:sunflower yellow': '#ffda03',\n",
       " 'xkcd:green/blue': '#01c08d',\n",
       " 'xkcd:leather': '#ac7434',\n",
       " 'xkcd:racing green': '#014600',\n",
       " 'xkcd:vivid purple': '#9900fa',\n",
       " 'xkcd:dark royal blue': '#02066f',\n",
       " 'xkcd:hazel': '#8e7618',\n",
       " 'xkcd:muted pink': '#d1768f',\n",
       " 'xkcd:booger green': '#96b403',\n",
       " 'xkcd:canary': '#fdff63',\n",
       " 'xkcd:cool grey': '#95a3a6',\n",
       " 'xkcd:dark taupe': '#7f684e',\n",
       " 'xkcd:darkish purple': '#751973',\n",
       " 'xkcd:true green': '#089404',\n",
       " 'xkcd:coral pink': '#ff6163',\n",
       " 'xkcd:dark sage': '#598556',\n",
       " 'xkcd:dark slate blue': '#214761',\n",
       " 'xkcd:flat blue': '#3c73a8',\n",
       " 'xkcd:mushroom': '#ba9e88',\n",
       " 'xkcd:rich blue': '#021bf9',\n",
       " 'xkcd:dirty purple': '#734a65',\n",
       " 'xkcd:greenblue': '#23c48b',\n",
       " 'xkcd:icky green': '#8fae22',\n",
       " 'xkcd:light khaki': '#e6f2a2',\n",
       " 'xkcd:warm blue': '#4b57db',\n",
       " 'xkcd:dark hot pink': '#d90166',\n",
       " 'xkcd:deep sea blue': '#015482',\n",
       " 'xkcd:carmine': '#9d0216',\n",
       " 'xkcd:dark yellow green': '#728f02',\n",
       " 'xkcd:pale peach': '#ffe5ad',\n",
       " 'xkcd:plum purple': '#4e0550',\n",
       " 'xkcd:golden rod': '#f9bc08',\n",
       " 'xkcd:neon red': '#ff073a',\n",
       " 'xkcd:old pink': '#c77986',\n",
       " 'xkcd:very pale blue': '#d6fffe',\n",
       " 'xkcd:blood orange': '#fe4b03',\n",
       " 'xkcd:grapefruit': '#fd5956',\n",
       " 'xkcd:sand yellow': '#fce166',\n",
       " 'xkcd:clay brown': '#b2713d',\n",
       " 'xkcd:dark blue grey': '#1f3b4d',\n",
       " 'xkcd:flat green': '#699d4c',\n",
       " 'xkcd:light green blue': '#56fca2',\n",
       " 'xkcd:warm pink': '#fb5581',\n",
       " 'xkcd:dodger blue': '#3e82fc',\n",
       " 'xkcd:gross green': '#a0bf16',\n",
       " 'xkcd:ice': '#d6fffa',\n",
       " 'xkcd:metallic blue': '#4f738e',\n",
       " 'xkcd:pale salmon': '#ffb19a',\n",
       " 'xkcd:sap green': '#5c8b15',\n",
       " 'xkcd:algae': '#54ac68',\n",
       " 'xkcd:bluey grey': '#89a0b0',\n",
       " 'xkcd:greeny grey': '#7ea07a',\n",
       " 'xkcd:highlighter green': '#1bfc06',\n",
       " 'xkcd:light light blue': '#cafffb',\n",
       " 'xkcd:light mint': '#b6ffbb',\n",
       " 'xkcd:raw umber': '#a75e09',\n",
       " 'xkcd:vivid blue': '#152eff',\n",
       " 'xkcd:deep lavender': '#8d5eb7',\n",
       " 'xkcd:dull teal': '#5f9e8f',\n",
       " 'xkcd:light greenish blue': '#63f7b4',\n",
       " 'xkcd:mud green': '#606602',\n",
       " 'xkcd:pinky': '#fc86aa',\n",
       " 'xkcd:red wine': '#8c0034',\n",
       " 'xkcd:shit green': '#758000',\n",
       " 'xkcd:tan brown': '#ab7e4c',\n",
       " 'xkcd:darkblue': '#030764',\n",
       " 'xkcd:rosa': '#fe86a4',\n",
       " 'xkcd:lipstick': '#d5174e',\n",
       " 'xkcd:pale mauve': '#fed0fc',\n",
       " 'xkcd:claret': '#680018',\n",
       " 'xkcd:dandelion': '#fedf08',\n",
       " 'xkcd:orangered': '#fe420f',\n",
       " 'xkcd:poop green': '#6f7c00',\n",
       " 'xkcd:ruby': '#ca0147',\n",
       " 'xkcd:dark': '#1b2431',\n",
       " 'xkcd:greenish turquoise': '#00fbb0',\n",
       " 'xkcd:pastel red': '#db5856',\n",
       " 'xkcd:piss yellow': '#ddd618',\n",
       " 'xkcd:bright cyan': '#41fdfe',\n",
       " 'xkcd:dark coral': '#cf524e',\n",
       " 'xkcd:algae green': '#21c36f',\n",
       " 'xkcd:darkish red': '#a90308',\n",
       " 'xkcd:reddy brown': '#6e1005',\n",
       " 'xkcd:blush pink': '#fe828c',\n",
       " 'xkcd:camouflage green': '#4b6113',\n",
       " 'xkcd:lawn green': '#4da409',\n",
       " 'xkcd:putty': '#beae8a',\n",
       " 'xkcd:vibrant blue': '#0339f8',\n",
       " 'xkcd:dark sand': '#a88f59',\n",
       " 'xkcd:purple/blue': '#5d21d0',\n",
       " 'xkcd:saffron': '#feb209',\n",
       " 'xkcd:twilight': '#4e518b',\n",
       " 'xkcd:warm brown': '#964e02',\n",
       " 'xkcd:bluegrey': '#85a3b2',\n",
       " 'xkcd:bubble gum pink': '#ff69af',\n",
       " 'xkcd:duck egg blue': '#c3fbf4',\n",
       " 'xkcd:greenish cyan': '#2afeb7',\n",
       " 'xkcd:petrol': '#005f6a',\n",
       " 'xkcd:royal': '#0c1793',\n",
       " 'xkcd:butter': '#ffff81',\n",
       " 'xkcd:dusty orange': '#f0833a',\n",
       " 'xkcd:off yellow': '#f1f33f',\n",
       " 'xkcd:pale olive green': '#b1d27b',\n",
       " 'xkcd:orangish': '#fc824a',\n",
       " 'xkcd:leaf': '#71aa34',\n",
       " 'xkcd:light blue grey': '#b7c9e2',\n",
       " 'xkcd:dried blood': '#4b0101',\n",
       " 'xkcd:lightish purple': '#a552e6',\n",
       " 'xkcd:rusty red': '#af2f0d',\n",
       " 'xkcd:lavender blue': '#8b88f8',\n",
       " 'xkcd:light grass green': '#9af764',\n",
       " 'xkcd:light mint green': '#a6fbb2',\n",
       " 'xkcd:sunflower': '#ffc512',\n",
       " 'xkcd:velvet': '#750851',\n",
       " 'xkcd:brick orange': '#c14a09',\n",
       " 'xkcd:lightish red': '#fe2f4a',\n",
       " 'xkcd:pure blue': '#0203e2',\n",
       " 'xkcd:twilight blue': '#0a437a',\n",
       " 'xkcd:violet red': '#a50055',\n",
       " 'xkcd:yellowy brown': '#ae8b0c',\n",
       " 'xkcd:carnation': '#fd798f',\n",
       " 'xkcd:muddy yellow': '#bfac05',\n",
       " 'xkcd:dark seafoam green': '#3eaf76',\n",
       " 'xkcd:deep rose': '#c74767',\n",
       " 'xkcd:dusty red': '#b9484e',\n",
       " 'xkcd:grey/blue': '#647d8e',\n",
       " 'xkcd:lemon lime': '#bffe28',\n",
       " 'xkcd:purple/pink': '#d725de',\n",
       " 'xkcd:brown yellow': '#b29705',\n",
       " 'xkcd:purple brown': '#673a3f',\n",
       " 'xkcd:wisteria': '#a87dc2',\n",
       " 'xkcd:banana yellow': '#fafe4b',\n",
       " 'xkcd:lipstick red': '#c0022f',\n",
       " 'xkcd:water blue': '#0e87cc',\n",
       " 'xkcd:brown grey': '#8d8468',\n",
       " 'xkcd:vibrant purple': '#ad03de',\n",
       " 'xkcd:baby green': '#8cff9e',\n",
       " 'xkcd:barf green': '#94ac02',\n",
       " 'xkcd:eggshell blue': '#c4fff7',\n",
       " 'xkcd:sandy yellow': '#fdee73',\n",
       " 'xkcd:cool green': '#33b864',\n",
       " 'xkcd:pale': '#fff9d0',\n",
       " 'xkcd:blue/grey': '#758da3',\n",
       " 'xkcd:hot magenta': '#f504c9',\n",
       " 'xkcd:greyblue': '#77a1b5',\n",
       " 'xkcd:purpley': '#8756e4',\n",
       " 'xkcd:baby shit green': '#889717',\n",
       " 'xkcd:brownish pink': '#c27e79',\n",
       " 'xkcd:dark aquamarine': '#017371',\n",
       " 'xkcd:diarrhea': '#9f8303',\n",
       " 'xkcd:light mustard': '#f7d560',\n",
       " 'xkcd:pale sky blue': '#bdf6fe',\n",
       " 'xkcd:turtle green': '#75b84f',\n",
       " 'xkcd:bright olive': '#9cbb04',\n",
       " 'xkcd:dark grey blue': '#29465b',\n",
       " 'xkcd:greeny brown': '#696006',\n",
       " 'xkcd:lemon green': '#adf802',\n",
       " 'xkcd:light periwinkle': '#c1c6fc',\n",
       " 'xkcd:seaweed green': '#35ad6b',\n",
       " 'xkcd:sunshine yellow': '#fffd37',\n",
       " 'xkcd:ugly purple': '#a442a0',\n",
       " 'xkcd:medium pink': '#f36196',\n",
       " 'xkcd:puke brown': '#947706',\n",
       " 'xkcd:very light pink': '#fff4f2',\n",
       " 'xkcd:viridian': '#1e9167',\n",
       " 'xkcd:bile': '#b5c306',\n",
       " 'xkcd:faded yellow': '#feff7f',\n",
       " 'xkcd:very pale green': '#cffdbc',\n",
       " 'xkcd:vibrant green': '#0add08',\n",
       " 'xkcd:bright lime': '#87fd05',\n",
       " 'xkcd:spearmint': '#1ef876',\n",
       " 'xkcd:light aquamarine': '#7bfdc7',\n",
       " 'xkcd:light sage': '#bcecac',\n",
       " 'xkcd:yellowgreen': '#bbf90f',\n",
       " 'xkcd:baby poo': '#ab9004',\n",
       " 'xkcd:dark seafoam': '#1fb57a',\n",
       " 'xkcd:deep teal': '#00555a',\n",
       " 'xkcd:heather': '#a484ac',\n",
       " 'xkcd:rust orange': '#c45508',\n",
       " 'xkcd:dirty blue': '#3f829d',\n",
       " 'xkcd:fern green': '#548d44',\n",
       " 'xkcd:bright lilac': '#c95efb',\n",
       " 'xkcd:weird green': '#3ae57f',\n",
       " 'xkcd:peacock blue': '#016795',\n",
       " 'xkcd:avocado green': '#87a922',\n",
       " 'xkcd:faded orange': '#f0944d',\n",
       " 'xkcd:grape purple': '#5d1451',\n",
       " 'xkcd:hot green': '#25ff29',\n",
       " 'xkcd:lime yellow': '#d0fe1d',\n",
       " 'xkcd:mango': '#ffa62b',\n",
       " 'xkcd:shamrock': '#01b44c',\n",
       " 'xkcd:bubblegum': '#ff6cb5',\n",
       " 'xkcd:purplish brown': '#6b4247',\n",
       " 'xkcd:vomit yellow': '#c7c10c',\n",
       " 'xkcd:pale cyan': '#b7fffa',\n",
       " 'xkcd:key lime': '#aeff6e',\n",
       " 'xkcd:tomato red': '#ec2d01',\n",
       " 'xkcd:lightgreen': '#76ff7b',\n",
       " 'xkcd:merlot': '#730039',\n",
       " 'xkcd:night blue': '#040348',\n",
       " 'xkcd:purpleish pink': '#df4ec8',\n",
       " 'xkcd:apple': '#6ecb3c',\n",
       " 'xkcd:baby poop green': '#8f9805',\n",
       " 'xkcd:green apple': '#5edc1f',\n",
       " 'xkcd:heliotrope': '#d94ff5',\n",
       " 'xkcd:yellow/green': '#c8fd3d',\n",
       " 'xkcd:almost black': '#070d0d',\n",
       " 'xkcd:cool blue': '#4984b8',\n",
       " 'xkcd:leafy green': '#51b73b',\n",
       " 'xkcd:mustard brown': '#ac7e04',\n",
       " 'xkcd:dusk': '#4e5481',\n",
       " 'xkcd:dull brown': '#876e4b',\n",
       " 'xkcd:frog green': '#58bc08',\n",
       " 'xkcd:vivid green': '#2fef10',\n",
       " 'xkcd:bright light green': '#2dfe54',\n",
       " 'xkcd:fluro green': '#0aff02',\n",
       " 'xkcd:kiwi': '#9cef43',\n",
       " 'xkcd:seaweed': '#18d17b',\n",
       " 'xkcd:navy green': '#35530a',\n",
       " 'xkcd:ultramarine blue': '#1805db',\n",
       " 'xkcd:iris': '#6258c4',\n",
       " 'xkcd:pastel orange': '#ff964f',\n",
       " 'xkcd:yellowish orange': '#ffab0f',\n",
       " 'xkcd:perrywinkle': '#8f8ce7',\n",
       " 'xkcd:tealish': '#24bca8',\n",
       " 'xkcd:dark plum': '#3f012c',\n",
       " 'xkcd:pear': '#cbf85f',\n",
       " 'xkcd:pinkish orange': '#ff724c',\n",
       " 'xkcd:midnight purple': '#280137',\n",
       " 'xkcd:light urple': '#b36ff6',\n",
       " 'xkcd:dark mint': '#48c072',\n",
       " 'xkcd:greenish tan': '#bccb7a',\n",
       " 'xkcd:light burgundy': '#a8415b',\n",
       " 'xkcd:turquoise blue': '#06b1c4',\n",
       " 'xkcd:ugly pink': '#cd7584',\n",
       " 'xkcd:sandy': '#f1da7a',\n",
       " 'xkcd:electric pink': '#ff0490',\n",
       " 'xkcd:muted purple': '#805b87',\n",
       " 'xkcd:mid green': '#50a747',\n",
       " 'xkcd:greyish': '#a8a495',\n",
       " 'xkcd:neon yellow': '#cfff04',\n",
       " 'xkcd:banana': '#ffff7e',\n",
       " 'xkcd:carnation pink': '#ff7fa7',\n",
       " 'xkcd:tomato': '#ef4026',\n",
       " 'xkcd:sea': '#3c9992',\n",
       " 'xkcd:muddy brown': '#886806',\n",
       " 'xkcd:turquoise green': '#04f489',\n",
       " 'xkcd:buff': '#fef69e',\n",
       " 'xkcd:fawn': '#cfaf7b',\n",
       " 'xkcd:muted blue': '#3b719f',\n",
       " 'xkcd:pale rose': '#fdc1c5',\n",
       " 'xkcd:dark mint green': '#20c073',\n",
       " 'xkcd:amethyst': '#9b5fc0',\n",
       " 'xkcd:blue/green': '#0f9b8e',\n",
       " 'xkcd:chestnut': '#742802',\n",
       " 'xkcd:sick green': '#9db92c',\n",
       " 'xkcd:pea': '#a4bf20',\n",
       " 'xkcd:rusty orange': '#cd5909',\n",
       " 'xkcd:stone': '#ada587',\n",
       " 'xkcd:rose red': '#be013c',\n",
       " 'xkcd:pale aqua': '#b8ffeb',\n",
       " 'xkcd:deep orange': '#dc4d01',\n",
       " 'xkcd:earth': '#a2653e',\n",
       " 'xkcd:mossy green': '#638b27',\n",
       " 'xkcd:grassy green': '#419c03',\n",
       " 'xkcd:pale lime green': '#b1ff65',\n",
       " 'xkcd:light grey blue': '#9dbcd4',\n",
       " 'xkcd:pale grey': '#fdfdfe',\n",
       " 'xkcd:asparagus': '#77ab56',\n",
       " 'xkcd:blueberry': '#464196',\n",
       " 'xkcd:purple red': '#990147',\n",
       " 'xkcd:pale lime': '#befd73',\n",
       " 'xkcd:greenish teal': '#32bf84',\n",
       " 'xkcd:caramel': '#af6f09',\n",
       " 'xkcd:deep magenta': '#a0025c',\n",
       " 'xkcd:light peach': '#ffd8b1',\n",
       " 'xkcd:milk chocolate': '#7f4e1e',\n",
       " 'xkcd:ocher': '#bf9b0c',\n",
       " 'xkcd:off green': '#6ba353',\n",
       " 'xkcd:purply pink': '#f075e6',\n",
       " 'xkcd:lightblue': '#7bc8f6',\n",
       " 'xkcd:dusky blue': '#475f94',\n",
       " 'xkcd:golden': '#f5bf03',\n",
       " 'xkcd:light beige': '#fffeb6',\n",
       " 'xkcd:butter yellow': '#fffd74',\n",
       " 'xkcd:dusky purple': '#895b7b',\n",
       " 'xkcd:french blue': '#436bad',\n",
       " 'xkcd:ugly yellow': '#d0c101',\n",
       " 'xkcd:greeny yellow': '#c6f808',\n",
       " 'xkcd:orangish red': '#f43605',\n",
       " 'xkcd:shamrock green': '#02c14d',\n",
       " 'xkcd:orangish brown': '#b25f03',\n",
       " 'xkcd:tree green': '#2a7e19',\n",
       " 'xkcd:deep violet': '#490648',\n",
       " 'xkcd:gunmetal': '#536267',\n",
       " 'xkcd:blue/purple': '#5a06ef',\n",
       " 'xkcd:cherry': '#cf0234',\n",
       " 'xkcd:sandy brown': '#c4a661',\n",
       " 'xkcd:warm grey': '#978a84',\n",
       " 'xkcd:dark indigo': '#1f0954',\n",
       " 'xkcd:midnight': '#03012d',\n",
       " 'xkcd:bluey green': '#2bb179',\n",
       " 'xkcd:grey pink': '#c3909b',\n",
       " 'xkcd:soft purple': '#a66fb5',\n",
       " 'xkcd:blood': '#770001',\n",
       " 'xkcd:brown red': '#922b05',\n",
       " 'xkcd:medium grey': '#7d7f7c',\n",
       " 'xkcd:berry': '#990f4b',\n",
       " 'xkcd:poo': '#8f7303',\n",
       " 'xkcd:purpley pink': '#c83cb9',\n",
       " 'xkcd:light salmon': '#fea993',\n",
       " 'xkcd:snot': '#acbb0d',\n",
       " 'xkcd:easter purple': '#c071fe',\n",
       " 'xkcd:light yellow green': '#ccfd7f',\n",
       " 'xkcd:dark navy blue': '#00022e',\n",
       " 'xkcd:drab': '#828344',\n",
       " 'xkcd:light rose': '#ffc5cb',\n",
       " 'xkcd:rouge': '#ab1239',\n",
       " 'xkcd:purplish red': '#b0054b',\n",
       " 'xkcd:slime green': '#99cc04',\n",
       " 'xkcd:baby poop': '#937c00',\n",
       " 'xkcd:irish green': '#019529',\n",
       " 'xkcd:pink/purple': '#ef1de7',\n",
       " 'xkcd:dark navy': '#000435',\n",
       " 'xkcd:greeny blue': '#42b395',\n",
       " 'xkcd:light plum': '#9d5783',\n",
       " 'xkcd:pinkish grey': '#c8aca9',\n",
       " 'xkcd:dirty orange': '#c87606',\n",
       " 'xkcd:rust red': '#aa2704',\n",
       " 'xkcd:pale lilac': '#e4cbff',\n",
       " 'xkcd:orangey red': '#fa4224',\n",
       " 'xkcd:primary blue': '#0804f9',\n",
       " 'xkcd:kermit green': '#5cb200',\n",
       " 'xkcd:brownish purple': '#76424e',\n",
       " 'xkcd:murky green': '#6c7a0e',\n",
       " 'xkcd:wheat': '#fbdd7e',\n",
       " 'xkcd:very dark purple': '#2a0134',\n",
       " 'xkcd:bottle green': '#044a05',\n",
       " 'xkcd:watermelon': '#fd4659',\n",
       " 'xkcd:deep sky blue': '#0d75f8',\n",
       " 'xkcd:fire engine red': '#fe0002',\n",
       " 'xkcd:yellow ochre': '#cb9d06',\n",
       " 'xkcd:pumpkin orange': '#fb7d07',\n",
       " 'xkcd:pale olive': '#b9cc81',\n",
       " 'xkcd:light lilac': '#edc8ff',\n",
       " 'xkcd:lightish green': '#61e160',\n",
       " 'xkcd:carolina blue': '#8ab8fe',\n",
       " 'xkcd:mulberry': '#920a4e',\n",
       " 'xkcd:shocking pink': '#fe02a2',\n",
       " 'xkcd:auburn': '#9a3001',\n",
       " 'xkcd:bright lime green': '#65fe08',\n",
       " 'xkcd:celadon': '#befdb7',\n",
       " 'xkcd:pinkish brown': '#b17261',\n",
       " 'xkcd:poo brown': '#885f01',\n",
       " 'xkcd:bright sky blue': '#02ccfe',\n",
       " 'xkcd:celery': '#c1fd95',\n",
       " 'xkcd:dirt brown': '#836539',\n",
       " 'xkcd:strawberry': '#fb2943',\n",
       " 'xkcd:dark lime': '#84b701',\n",
       " 'xkcd:copper': '#b66325',\n",
       " 'xkcd:medium brown': '#7f5112',\n",
       " 'xkcd:muted green': '#5fa052',\n",
       " \"xkcd:robin's egg\": '#6dedfd',\n",
       " 'xkcd:bright aqua': '#0bf9ea',\n",
       " 'xkcd:bright lavender': '#c760ff',\n",
       " 'xkcd:ivory': '#ffffcb',\n",
       " 'xkcd:very light purple': '#f6cefc',\n",
       " 'xkcd:light navy': '#155084',\n",
       " 'xkcd:pink red': '#f5054f',\n",
       " 'xkcd:olive brown': '#645403',\n",
       " 'xkcd:poop brown': '#7a5901',\n",
       " 'xkcd:mustard green': '#a8b504',\n",
       " 'xkcd:ocean green': '#3d9973',\n",
       " 'xkcd:very dark blue': '#000133',\n",
       " 'xkcd:dusty green': '#76a973',\n",
       " 'xkcd:light navy blue': '#2e5a88',\n",
       " 'xkcd:minty green': '#0bf77d',\n",
       " 'xkcd:adobe': '#bd6c48',\n",
       " 'xkcd:barney': '#ac1db8',\n",
       " 'xkcd:jade green': '#2baf6a',\n",
       " 'xkcd:bright light blue': '#26f7fd',\n",
       " 'xkcd:light lime': '#aefd6c',\n",
       " 'xkcd:dark khaki': '#9b8f55',\n",
       " 'xkcd:orange yellow': '#ffad01',\n",
       " 'xkcd:ocre': '#c69c04',\n",
       " 'xkcd:maize': '#f4d054',\n",
       " 'xkcd:faded pink': '#de9dac',\n",
       " 'xkcd:british racing green': '#05480d',\n",
       " 'xkcd:sandstone': '#c9ae74',\n",
       " 'xkcd:mud brown': '#60460f',\n",
       " 'xkcd:light sea green': '#98f6b0',\n",
       " 'xkcd:robin egg blue': '#8af1fe',\n",
       " 'xkcd:aqua marine': '#2ee8bb',\n",
       " 'xkcd:dark sea green': '#11875d',\n",
       " 'xkcd:soft pink': '#fdb0c0',\n",
       " 'xkcd:orangey brown': '#b16002',\n",
       " 'xkcd:cherry red': '#f7022a',\n",
       " 'xkcd:burnt yellow': '#d5ab09',\n",
       " 'xkcd:brownish grey': '#86775f',\n",
       " 'xkcd:camel': '#c69f59',\n",
       " 'xkcd:purplish grey': '#7a687f',\n",
       " 'xkcd:marine': '#042e60',\n",
       " 'xkcd:greyish pink': '#c88d94',\n",
       " 'xkcd:pale turquoise': '#a5fbd5',\n",
       " 'xkcd:pastel yellow': '#fffe71',\n",
       " 'xkcd:bluey purple': '#6241c7',\n",
       " 'xkcd:canary yellow': '#fffe40',\n",
       " 'xkcd:faded red': '#d3494e',\n",
       " 'xkcd:sepia': '#985e2b',\n",
       " 'xkcd:coffee': '#a6814c',\n",
       " 'xkcd:bright magenta': '#ff08e8',\n",
       " 'xkcd:mocha': '#9d7651',\n",
       " 'xkcd:ecru': '#feffca',\n",
       " 'xkcd:purpleish': '#98568d',\n",
       " 'xkcd:cranberry': '#9e003a',\n",
       " 'xkcd:darkish green': '#287c37',\n",
       " 'xkcd:brown orange': '#b96902',\n",
       " 'xkcd:dusky rose': '#ba6873',\n",
       " 'xkcd:melon': '#ff7855',\n",
       " 'xkcd:sickly green': '#94b21c',\n",
       " 'xkcd:silver': '#c5c9c7',\n",
       " 'xkcd:purply blue': '#661aee',\n",
       " 'xkcd:purpleish blue': '#6140ef',\n",
       " 'xkcd:hospital green': '#9be5aa',\n",
       " 'xkcd:shit brown': '#7b5804',\n",
       " 'xkcd:mid blue': '#276ab3',\n",
       " 'xkcd:amber': '#feb308',\n",
       " 'xkcd:easter green': '#8cfd7e',\n",
       " 'xkcd:soft blue': '#6488ea',\n",
       " 'xkcd:cerulean blue': '#056eee',\n",
       " 'xkcd:golden brown': '#b27a01',\n",
       " 'xkcd:bright turquoise': '#0ffef9',\n",
       " 'xkcd:red pink': '#fa2a55',\n",
       " 'xkcd:red purple': '#820747',\n",
       " 'xkcd:greyish brown': '#7a6a4f',\n",
       " 'xkcd:vermillion': '#f4320c',\n",
       " 'xkcd:russet': '#a13905',\n",
       " 'xkcd:steel grey': '#6f828a',\n",
       " 'xkcd:lighter purple': '#a55af4',\n",
       " 'xkcd:bright violet': '#ad0afd',\n",
       " 'xkcd:prussian blue': '#004577',\n",
       " 'xkcd:slate green': '#658d6d',\n",
       " 'xkcd:dirty pink': '#ca7b80',\n",
       " 'xkcd:dark blue green': '#005249',\n",
       " 'xkcd:pine': '#2b5d34',\n",
       " 'xkcd:yellowy green': '#bff128',\n",
       " 'xkcd:dark gold': '#b59410',\n",
       " 'xkcd:bluish': '#2976bb',\n",
       " 'xkcd:darkish blue': '#014182',\n",
       " 'xkcd:dull red': '#bb3f3f',\n",
       " 'xkcd:pinky red': '#fc2647',\n",
       " 'xkcd:bronze': '#a87900',\n",
       " 'xkcd:pale teal': '#82cbb2',\n",
       " 'xkcd:military green': '#667c3e',\n",
       " 'xkcd:barbie pink': '#fe46a5',\n",
       " 'xkcd:bubblegum pink': '#fe83cc',\n",
       " 'xkcd:pea soup green': '#94a617',\n",
       " 'xkcd:dark mustard': '#a88905',\n",
       " 'xkcd:shit': '#7f5f00',\n",
       " 'xkcd:medium purple': '#9e43a2',\n",
       " 'xkcd:very dark green': '#062e03',\n",
       " 'xkcd:dirt': '#8a6e45',\n",
       " 'xkcd:dusky pink': '#cc7a8b',\n",
       " 'xkcd:red violet': '#9e0168',\n",
       " 'xkcd:lemon yellow': '#fdff38',\n",
       " 'xkcd:pistachio': '#c0fa8b',\n",
       " 'xkcd:dull yellow': '#eedc5b',\n",
       " 'xkcd:dark lime green': '#7ebd01',\n",
       " 'xkcd:denim blue': '#3b5b92',\n",
       " 'xkcd:teal blue': '#01889f',\n",
       " 'xkcd:lightish blue': '#3d7afd',\n",
       " 'xkcd:purpley blue': '#5f34e7',\n",
       " 'xkcd:light indigo': '#6d5acf',\n",
       " 'xkcd:swamp green': '#748500',\n",
       " 'xkcd:brown green': '#706c11',\n",
       " 'xkcd:dark maroon': '#3c0008',\n",
       " 'xkcd:hot purple': '#cb00f5',\n",
       " 'xkcd:dark forest green': '#002d04',\n",
       " 'xkcd:faded blue': '#658cbb',\n",
       " 'xkcd:drab green': '#749551',\n",
       " 'xkcd:light lime green': '#b9ff66',\n",
       " 'xkcd:snot green': '#9dc100',\n",
       " 'xkcd:yellowish': '#faee66',\n",
       " 'xkcd:light blue green': '#7efbb3',\n",
       " 'xkcd:bordeaux': '#7b002c',\n",
       " 'xkcd:light mauve': '#c292a1',\n",
       " 'xkcd:ocean': '#017b92',\n",
       " 'xkcd:marigold': '#fcc006',\n",
       " 'xkcd:muddy green': '#657432',\n",
       " 'xkcd:dull orange': '#d8863b',\n",
       " 'xkcd:steel': '#738595',\n",
       " 'xkcd:electric purple': '#aa23ff',\n",
       " 'xkcd:fluorescent green': '#08ff08',\n",
       " 'xkcd:yellowish brown': '#9b7a01',\n",
       " 'xkcd:blush': '#f29e8e',\n",
       " 'xkcd:soft green': '#6fc276',\n",
       " 'xkcd:bright orange': '#ff5b00',\n",
       " 'xkcd:lemon': '#fdff52',\n",
       " 'xkcd:purple grey': '#866f85',\n",
       " 'xkcd:acid green': '#8ffe09',\n",
       " 'xkcd:pale lavender': '#eecffe',\n",
       " 'xkcd:violet blue': '#510ac9',\n",
       " 'xkcd:light forest green': '#4f9153',\n",
       " 'xkcd:burnt red': '#9f2305',\n",
       " 'xkcd:khaki green': '#728639',\n",
       " 'xkcd:cerise': '#de0c62',\n",
       " 'xkcd:faded purple': '#916e99',\n",
       " 'xkcd:apricot': '#ffb16d',\n",
       " 'xkcd:dark olive green': '#3c4d03',\n",
       " 'xkcd:grey brown': '#7f7053',\n",
       " 'xkcd:green grey': '#77926f',\n",
       " 'xkcd:true blue': '#010fcc',\n",
       " 'xkcd:pale violet': '#ceaefa',\n",
       " 'xkcd:periwinkle blue': '#8f99fb',\n",
       " 'xkcd:light sky blue': '#c6fcff',\n",
       " 'xkcd:blurple': '#5539cc',\n",
       " 'xkcd:green brown': '#544e03',\n",
       " 'xkcd:bluegreen': '#017a79',\n",
       " 'xkcd:bright teal': '#01f9c6',\n",
       " 'xkcd:brownish yellow': '#c9b003',\n",
       " 'xkcd:pea soup': '#929901',\n",
       " 'xkcd:forest': '#0b5509',\n",
       " 'xkcd:barney purple': '#a00498',\n",
       " 'xkcd:ultramarine': '#2000b1',\n",
       " 'xkcd:purplish': '#94568c',\n",
       " 'xkcd:puke yellow': '#c2be0e',\n",
       " 'xkcd:bluish grey': '#748b97',\n",
       " 'xkcd:dark periwinkle': '#665fd1',\n",
       " 'xkcd:dark lilac': '#9c6da5',\n",
       " 'xkcd:reddish': '#c44240',\n",
       " 'xkcd:light maroon': '#a24857',\n",
       " 'xkcd:dusty purple': '#825f87',\n",
       " 'xkcd:terra cotta': '#c9643b',\n",
       " 'xkcd:avocado': '#90b134',\n",
       " 'xkcd:marine blue': '#01386a',\n",
       " 'xkcd:teal green': '#25a36f',\n",
       " 'xkcd:slate grey': '#59656d',\n",
       " 'xkcd:lighter green': '#75fd63',\n",
       " 'xkcd:electric green': '#21fc0d',\n",
       " 'xkcd:dusty blue': '#5a86ad',\n",
       " 'xkcd:golden yellow': '#fec615',\n",
       " 'xkcd:bright yellow': '#fffd01',\n",
       " 'xkcd:light lavender': '#dfc5fe',\n",
       " 'xkcd:umber': '#b26400',\n",
       " 'xkcd:poop': '#7f5e00',\n",
       " 'xkcd:dark peach': '#de7e5d',\n",
       " 'xkcd:jungle green': '#048243',\n",
       " 'xkcd:eggshell': '#ffffd4',\n",
       " 'xkcd:denim': '#3b638c',\n",
       " 'xkcd:yellow brown': '#b79400',\n",
       " 'xkcd:dull purple': '#84597e',\n",
       " 'xkcd:chocolate brown': '#411900',\n",
       " 'xkcd:wine red': '#7b0323',\n",
       " 'xkcd:neon blue': '#04d9ff',\n",
       " 'xkcd:dirty green': '#667e2c',\n",
       " 'xkcd:light tan': '#fbeeac',\n",
       " 'xkcd:ice blue': '#d7fffe',\n",
       " 'xkcd:cadet blue': '#4e7496',\n",
       " 'xkcd:dark mauve': '#874c62',\n",
       " 'xkcd:very light blue': '#d5ffff',\n",
       " 'xkcd:grey purple': '#826d8c',\n",
       " 'xkcd:pastel pink': '#ffbacd',\n",
       " 'xkcd:very light green': '#d1ffbd',\n",
       " 'xkcd:dark sky blue': '#448ee4',\n",
       " 'xkcd:evergreen': '#05472a',\n",
       " 'xkcd:dull pink': '#d5869d',\n",
       " 'xkcd:aubergine': '#3d0734',\n",
       " 'xkcd:mahogany': '#4a0100',\n",
       " 'xkcd:reddish orange': '#f8481c',\n",
       " 'xkcd:deep green': '#02590f',\n",
       " 'xkcd:vomit green': '#89a203',\n",
       " 'xkcd:purple pink': '#e03fd8',\n",
       " 'xkcd:dusty pink': '#d58a94',\n",
       " 'xkcd:faded green': '#7bb274',\n",
       " 'xkcd:camo green': '#526525',\n",
       " 'xkcd:pinky purple': '#c94cbe',\n",
       " 'xkcd:pink purple': '#db4bda',\n",
       " 'xkcd:brownish red': '#9e3623',\n",
       " 'xkcd:dark rose': '#b5485d',\n",
       " 'xkcd:mud': '#735c12',\n",
       " 'xkcd:brownish': '#9c6d57',\n",
       " 'xkcd:emerald green': '#028f1e',\n",
       " 'xkcd:pale brown': '#b1916e',\n",
       " 'xkcd:dull blue': '#49759c',\n",
       " 'xkcd:burnt umber': '#a0450e',\n",
       " 'xkcd:medium green': '#39ad48',\n",
       " 'xkcd:clay': '#b66a50',\n",
       " 'xkcd:light aqua': '#8cffdb',\n",
       " 'xkcd:light olive green': '#a4be5c',\n",
       " 'xkcd:brownish orange': '#cb7723',\n",
       " 'xkcd:dark aqua': '#05696b',\n",
       " 'xkcd:purplish pink': '#ce5dae',\n",
       " 'xkcd:dark salmon': '#c85a53',\n",
       " 'xkcd:greenish grey': '#96ae8d',\n",
       " 'xkcd:jade': '#1fa774',\n",
       " 'xkcd:ugly green': '#7a9703',\n",
       " 'xkcd:dark beige': '#ac9362',\n",
       " 'xkcd:emerald': '#01a049',\n",
       " 'xkcd:pale red': '#d9544d',\n",
       " 'xkcd:light magenta': '#fa5ff7',\n",
       " 'xkcd:sky': '#82cafc',\n",
       " 'xkcd:light cyan': '#acfffc',\n",
       " 'xkcd:yellow orange': '#fcb001',\n",
       " 'xkcd:reddish purple': '#910951',\n",
       " 'xkcd:reddish pink': '#fe2c54',\n",
       " 'xkcd:orchid': '#c875c4',\n",
       " 'xkcd:dirty yellow': '#cdc50a',\n",
       " 'xkcd:orange red': '#fd411e',\n",
       " 'xkcd:deep red': '#9a0200',\n",
       " 'xkcd:orange brown': '#be6400',\n",
       " 'xkcd:cobalt blue': '#030aa7',\n",
       " 'xkcd:neon pink': '#fe019a',\n",
       " 'xkcd:rose pink': '#f7879a',\n",
       " 'xkcd:greyish purple': '#887191',\n",
       " 'xkcd:raspberry': '#b00149',\n",
       " 'xkcd:aqua green': '#12e193',\n",
       " 'xkcd:salmon pink': '#fe7b7c',\n",
       " 'xkcd:tangerine': '#ff9408',\n",
       " 'xkcd:brownish green': '#6a6e09',\n",
       " 'xkcd:red brown': '#8b2e16',\n",
       " 'xkcd:greenish brown': '#696112',\n",
       " 'xkcd:pumpkin': '#e17701',\n",
       " 'xkcd:pine green': '#0a481e',\n",
       " 'xkcd:charcoal': '#343837',\n",
       " 'xkcd:baby pink': '#ffb7ce',\n",
       " 'xkcd:cornflower': '#6a79f7',\n",
       " 'xkcd:blue violet': '#5d06e9',\n",
       " 'xkcd:chocolate': '#3d1c02',\n",
       " 'xkcd:greyish green': '#82a67d',\n",
       " 'xkcd:scarlet': '#be0119',\n",
       " 'xkcd:green yellow': '#c9ff27',\n",
       " 'xkcd:dark olive': '#373e02',\n",
       " 'xkcd:sienna': '#a9561e',\n",
       " 'xkcd:pastel purple': '#caa0ff',\n",
       " 'xkcd:terracotta': '#ca6641',\n",
       " 'xkcd:aqua blue': '#02d8e9',\n",
       " 'xkcd:sage green': '#88b378',\n",
       " 'xkcd:blood red': '#980002',\n",
       " 'xkcd:deep pink': '#cb0162',\n",
       " 'xkcd:grass': '#5cac2d',\n",
       " 'xkcd:moss': '#769958',\n",
       " 'xkcd:pastel blue': '#a2bffe',\n",
       " 'xkcd:bluish green': '#10a674',\n",
       " 'xkcd:green blue': '#06b48b',\n",
       " 'xkcd:dark tan': '#af884a',\n",
       " 'xkcd:greenish blue': '#0b8b87',\n",
       " 'xkcd:pale orange': '#ffa756',\n",
       " 'xkcd:vomit': '#a2a415',\n",
       " 'xkcd:forrest green': '#154406',\n",
       " 'xkcd:dark lavender': '#856798',\n",
       " 'xkcd:dark violet': '#34013f',\n",
       " 'xkcd:purple blue': '#632de9',\n",
       " 'xkcd:dark cyan': '#0a888a',\n",
       " 'xkcd:olive drab': '#6f7632',\n",
       " 'xkcd:pinkish': '#d46a7e',\n",
       " 'xkcd:cobalt': '#1e488f',\n",
       " 'xkcd:neon purple': '#bc13fe',\n",
       " 'xkcd:light turquoise': '#7ef4cc',\n",
       " 'xkcd:apple green': '#76cd26',\n",
       " 'xkcd:dull green': '#74a662',\n",
       " 'xkcd:wine': '#80013f',\n",
       " 'xkcd:powder blue': '#b1d1fc',\n",
       " 'xkcd:off white': '#ffffe4',\n",
       " 'xkcd:electric blue': '#0652ff',\n",
       " 'xkcd:dark turquoise': '#045c5a',\n",
       " 'xkcd:blue purple': '#5729ce',\n",
       " 'xkcd:azure': '#069af3',\n",
       " 'xkcd:bright red': '#ff000d',\n",
       " 'xkcd:pinkish red': '#f10c45',\n",
       " 'xkcd:cornflower blue': '#5170d7',\n",
       " 'xkcd:light olive': '#acbf69',\n",
       " 'xkcd:grape': '#6c3461',\n",
       " 'xkcd:greyish blue': '#5e819d',\n",
       " 'xkcd:purplish blue': '#601ef9',\n",
       " 'xkcd:yellowish green': '#b0dd16',\n",
       " 'xkcd:greenish yellow': '#cdfd02',\n",
       " 'xkcd:medium blue': '#2c6fbb',\n",
       " 'xkcd:dusty rose': '#c0737a',\n",
       " 'xkcd:light violet': '#d6b4fc',\n",
       " 'xkcd:midnight blue': '#020035',\n",
       " 'xkcd:bluish purple': '#703be7',\n",
       " 'xkcd:red orange': '#fd3c06',\n",
       " 'xkcd:dark magenta': '#960056',\n",
       " 'xkcd:greenish': '#40a368',\n",
       " 'xkcd:ocean blue': '#03719c',\n",
       " 'xkcd:coral': '#fc5a50',\n",
       " 'xkcd:cream': '#ffffc2',\n",
       " 'xkcd:reddish brown': '#7f2b0a',\n",
       " 'xkcd:burnt sienna': '#b04e0f',\n",
       " 'xkcd:brick': '#a03623',\n",
       " 'xkcd:sage': '#87ae73',\n",
       " 'xkcd:grey green': '#789b73',\n",
       " 'xkcd:white': '#ffffff',\n",
       " \"xkcd:robin's egg blue\": '#98eff9',\n",
       " 'xkcd:moss green': '#658b38',\n",
       " 'xkcd:steel blue': '#5a7d9a',\n",
       " 'xkcd:eggplant': '#380835',\n",
       " 'xkcd:light yellow': '#fffe7a',\n",
       " 'xkcd:leaf green': '#5ca904',\n",
       " 'xkcd:light grey': '#d8dcd6',\n",
       " 'xkcd:puke': '#a5a502',\n",
       " 'xkcd:pinkish purple': '#d648d7',\n",
       " 'xkcd:sea blue': '#047495',\n",
       " 'xkcd:pale purple': '#b790d4',\n",
       " 'xkcd:slate blue': '#5b7c99',\n",
       " 'xkcd:blue grey': '#607c8e',\n",
       " 'xkcd:hunter green': '#0b4008',\n",
       " 'xkcd:fuchsia': '#ed0dd9',\n",
       " 'xkcd:crimson': '#8c000f',\n",
       " 'xkcd:pale yellow': '#ffff84',\n",
       " 'xkcd:ochre': '#bf9005',\n",
       " 'xkcd:mustard yellow': '#d2bd0a',\n",
       " 'xkcd:light red': '#ff474c',\n",
       " 'xkcd:cerulean': '#0485d1',\n",
       " 'xkcd:pale pink': '#ffcfdc',\n",
       " 'xkcd:deep blue': '#040273',\n",
       " 'xkcd:rust': '#a83c09',\n",
       " 'xkcd:light teal': '#90e4c1',\n",
       " 'xkcd:slate': '#516572',\n",
       " 'xkcd:goldenrod': '#fac205',\n",
       " 'xkcd:dark yellow': '#d5b60a',\n",
       " 'xkcd:dark grey': '#363737',\n",
       " 'xkcd:army green': '#4b5d16',\n",
       " 'xkcd:grey blue': '#6b8ba4',\n",
       " 'xkcd:seafoam': '#80f9ad',\n",
       " 'xkcd:puce': '#a57e52',\n",
       " 'xkcd:spring green': '#a9f971',\n",
       " 'xkcd:dark orange': '#c65102',\n",
       " 'xkcd:sand': '#e2ca76',\n",
       " 'xkcd:pastel green': '#b0ff9d',\n",
       " 'xkcd:mint': '#9ffeb0',\n",
       " 'xkcd:light orange': '#fdaa48',\n",
       " 'xkcd:bright pink': '#fe01b1',\n",
       " 'xkcd:chartreuse': '#c1f80a',\n",
       " 'xkcd:deep purple': '#36013f',\n",
       " 'xkcd:dark brown': '#341c02',\n",
       " 'xkcd:taupe': '#b9a281',\n",
       " 'xkcd:pea green': '#8eab12',\n",
       " 'xkcd:puke green': '#9aae07',\n",
       " 'xkcd:kelly green': '#02ab2e',\n",
       " 'xkcd:seafoam green': '#7af9ab',\n",
       " 'xkcd:blue green': '#137e6d',\n",
       " 'xkcd:khaki': '#aaa662',\n",
       " 'xkcd:burgundy': '#610023',\n",
       " 'xkcd:dark teal': '#014d4e',\n",
       " 'xkcd:brick red': '#8f1402',\n",
       " 'xkcd:royal purple': '#4b006e',\n",
       " 'xkcd:plum': '#580f41',\n",
       " 'xkcd:mint green': '#8fff9f',\n",
       " 'xkcd:gold': '#dbb40c',\n",
       " 'xkcd:baby blue': '#a2cffe',\n",
       " 'xkcd:yellow green': '#c0fb2d',\n",
       " 'xkcd:bright purple': '#be03fd',\n",
       " 'xkcd:dark red': '#840000',\n",
       " 'xkcd:pale blue': '#d0fefe',\n",
       " 'xkcd:grass green': '#3f9b0b',\n",
       " 'xkcd:navy': '#01153e',\n",
       " 'xkcd:aquamarine': '#04d8b2',\n",
       " 'xkcd:burnt orange': '#c04e01',\n",
       " 'xkcd:neon green': '#0cff0c',\n",
       " 'xkcd:bright blue': '#0165fc',\n",
       " 'xkcd:rose': '#cf6275',\n",
       " 'xkcd:light pink': '#ffd1df',\n",
       " 'xkcd:mustard': '#ceb301',\n",
       " 'xkcd:indigo': '#380282',\n",
       " 'xkcd:lime': '#aaff32',\n",
       " 'xkcd:sea green': '#53fca1',\n",
       " 'xkcd:periwinkle': '#8e82fe',\n",
       " 'xkcd:dark pink': '#cb416b',\n",
       " 'xkcd:olive green': '#677a04',\n",
       " 'xkcd:peach': '#ffb07c',\n",
       " 'xkcd:pale green': '#c7fdb5',\n",
       " 'xkcd:light brown': '#ad8150',\n",
       " 'xkcd:hot pink': '#ff028d',\n",
       " 'xkcd:black': '#000000',\n",
       " 'xkcd:lilac': '#cea2fd',\n",
       " 'xkcd:navy blue': '#001146',\n",
       " 'xkcd:royal blue': '#0504aa',\n",
       " 'xkcd:beige': '#e6daa6',\n",
       " 'xkcd:salmon': '#ff796c',\n",
       " 'xkcd:olive': '#6e750e',\n",
       " 'xkcd:maroon': '#650021',\n",
       " 'xkcd:bright green': '#01ff07',\n",
       " 'xkcd:dark purple': '#35063e',\n",
       " 'xkcd:mauve': '#ae7181',\n",
       " 'xkcd:forest green': '#06470c',\n",
       " 'xkcd:aqua': '#13eac9',\n",
       " 'xkcd:cyan': '#00ffff',\n",
       " 'xkcd:tan': '#d1b26f',\n",
       " 'xkcd:dark blue': '#00035b',\n",
       " 'xkcd:lavender': '#c79fef',\n",
       " 'xkcd:turquoise': '#06c2ac',\n",
       " 'xkcd:dark green': '#033500',\n",
       " 'xkcd:violet': '#9a0eea',\n",
       " 'xkcd:light purple': '#bf77f6',\n",
       " 'xkcd:lime green': '#89fe05',\n",
       " 'xkcd:grey': '#929591',\n",
       " 'xkcd:sky blue': '#75bbfd',\n",
       " 'xkcd:yellow': '#ffff14',\n",
       " 'xkcd:magenta': '#c20078',\n",
       " 'xkcd:light green': '#96f97b',\n",
       " 'xkcd:orange': '#f97306',\n",
       " 'xkcd:teal': '#029386',\n",
       " 'xkcd:light blue': '#95d0fc',\n",
       " 'xkcd:red': '#e50000',\n",
       " 'xkcd:brown': '#653700',\n",
       " 'xkcd:pink': '#ff81c0',\n",
       " 'xkcd:blue': '#0343df',\n",
       " 'xkcd:green': '#15b01a',\n",
       " 'xkcd:purple': '#7e1e9c',\n",
       " 'xkcd:gray teal': '#5e9b8a',\n",
       " 'xkcd:purpley gray': '#947e94',\n",
       " 'xkcd:light gray green': '#b7e1a1',\n",
       " 'xkcd:reddish gray': '#997570',\n",
       " 'xkcd:battleship gray': '#6b7c85',\n",
       " 'xkcd:charcoal gray': '#3c4142',\n",
       " 'xkcd:grayish teal': '#719f91',\n",
       " 'xkcd:gray/green': '#86a17d',\n",
       " 'xkcd:cool gray': '#95a3a6',\n",
       " 'xkcd:dark blue gray': '#1f3b4d',\n",
       " 'xkcd:bluey gray': '#89a0b0',\n",
       " 'xkcd:greeny gray': '#7ea07a',\n",
       " 'xkcd:bluegray': '#85a3b2',\n",
       " 'xkcd:light blue gray': '#b7c9e2',\n",
       " 'xkcd:gray/blue': '#647d8e',\n",
       " 'xkcd:brown gray': '#8d8468',\n",
       " 'xkcd:blue/gray': '#758da3',\n",
       " 'xkcd:grayblue': '#77a1b5',\n",
       " 'xkcd:dark gray blue': '#29465b',\n",
       " 'xkcd:grayish': '#a8a495',\n",
       " 'xkcd:light gray blue': '#9dbcd4',\n",
       " 'xkcd:pale gray': '#fdfdfe',\n",
       " 'xkcd:warm gray': '#978a84',\n",
       " 'xkcd:gray pink': '#c3909b',\n",
       " 'xkcd:medium gray': '#7d7f7c',\n",
       " 'xkcd:pinkish gray': '#c8aca9',\n",
       " 'xkcd:brownish gray': '#86775f',\n",
       " 'xkcd:purplish gray': '#7a687f',\n",
       " 'xkcd:grayish pink': '#c88d94',\n",
       " 'xkcd:grayish brown': '#7a6a4f',\n",
       " 'xkcd:steel gray': '#6f828a',\n",
       " 'xkcd:purple gray': '#866f85',\n",
       " 'xkcd:gray brown': '#7f7053',\n",
       " 'xkcd:green gray': '#77926f',\n",
       " 'xkcd:bluish gray': '#748b97',\n",
       " 'xkcd:slate gray': '#59656d',\n",
       " 'xkcd:gray purple': '#826d8c',\n",
       " 'xkcd:greenish gray': '#96ae8d',\n",
       " 'xkcd:grayish purple': '#887191',\n",
       " 'xkcd:grayish green': '#82a67d',\n",
       " 'xkcd:grayish blue': '#5e819d',\n",
       " 'xkcd:gray green': '#789b73',\n",
       " 'xkcd:light gray': '#d8dcd6',\n",
       " 'xkcd:blue gray': '#607c8e',\n",
       " 'xkcd:dark gray': '#363737',\n",
       " 'xkcd:gray blue': '#6b8ba4',\n",
       " 'xkcd:gray': '#929591',\n",
       " 'aliceblue': '#F0F8FF',\n",
       " 'antiquewhite': '#FAEBD7',\n",
       " 'aqua': '#00FFFF',\n",
       " 'aquamarine': '#7FFFD4',\n",
       " ...}"
      ]
     },
     "execution_count": 14,
     "metadata": {},
     "output_type": "execute_result"
    }
   ],
   "source": [
    "clr.get_named_colors_mapping()"
   ]
  },
  {
   "cell_type": "code",
   "execution_count": 38,
   "metadata": {},
   "outputs": [
    {
     "data": {
      "text/html": [
       "<div>\n",
       "<style scoped>\n",
       "    .dataframe tbody tr th:only-of-type {\n",
       "        vertical-align: middle;\n",
       "    }\n",
       "\n",
       "    .dataframe tbody tr th {\n",
       "        vertical-align: top;\n",
       "    }\n",
       "\n",
       "    .dataframe thead th {\n",
       "        text-align: right;\n",
       "    }\n",
       "</style>\n",
       "<table border=\"1\" class=\"dataframe\">\n",
       "  <thead>\n",
       "    <tr style=\"text-align: right;\">\n",
       "      <th></th>\n",
       "      <th>B</th>\n",
       "      <th>C</th>\n",
       "    </tr>\n",
       "    <tr>\n",
       "      <th>A</th>\n",
       "      <th></th>\n",
       "      <th></th>\n",
       "    </tr>\n",
       "  </thead>\n",
       "  <tbody>\n",
       "    <tr>\n",
       "      <th>1</th>\n",
       "      <td>3</td>\n",
       "      <td>0</td>\n",
       "    </tr>\n",
       "    <tr>\n",
       "      <th>2</th>\n",
       "      <td>7</td>\n",
       "      <td>2</td>\n",
       "    </tr>\n",
       "    <tr>\n",
       "      <th>3</th>\n",
       "      <td>5</td>\n",
       "      <td>2</td>\n",
       "    </tr>\n",
       "  </tbody>\n",
       "</table>\n",
       "</div>"
      ],
      "text/plain": [
       "   B  C\n",
       "A      \n",
       "1  3  0\n",
       "2  7  2\n",
       "3  5  2"
      ]
     },
     "execution_count": 38,
     "metadata": {},
     "output_type": "execute_result"
    }
   ],
   "source": [
    "df.groupby('A').agg({'B':'sum', 'C':'sum'}, axis=0)"
   ]
  },
  {
   "cell_type": "code",
   "execution_count": 62,
   "metadata": {},
   "outputs": [
    {
     "data": {
      "text/html": [
       "<div>\n",
       "<style scoped>\n",
       "    .dataframe tbody tr th:only-of-type {\n",
       "        vertical-align: middle;\n",
       "    }\n",
       "\n",
       "    .dataframe tbody tr th {\n",
       "        vertical-align: top;\n",
       "    }\n",
       "\n",
       "    .dataframe thead tr th {\n",
       "        text-align: left;\n",
       "    }\n",
       "\n",
       "    .dataframe thead tr:last-of-type th {\n",
       "        text-align: right;\n",
       "    }\n",
       "</style>\n",
       "<table border=\"1\" class=\"dataframe\">\n",
       "  <thead>\n",
       "    <tr>\n",
       "      <th></th>\n",
       "      <th>B</th>\n",
       "      <th>C</th>\n",
       "    </tr>\n",
       "    <tr>\n",
       "      <th></th>\n",
       "      <th>sum</th>\n",
       "      <th>sum</th>\n",
       "    </tr>\n",
       "    <tr>\n",
       "      <th>A</th>\n",
       "      <th></th>\n",
       "      <th></th>\n",
       "    </tr>\n",
       "  </thead>\n",
       "  <tbody>\n",
       "    <tr>\n",
       "      <th>1</th>\n",
       "      <td>3</td>\n",
       "      <td>0</td>\n",
       "    </tr>\n",
       "    <tr>\n",
       "      <th>2</th>\n",
       "      <td>7</td>\n",
       "      <td>2</td>\n",
       "    </tr>\n",
       "    <tr>\n",
       "      <th>3</th>\n",
       "      <td>5</td>\n",
       "      <td>2</td>\n",
       "    </tr>\n",
       "  </tbody>\n",
       "</table>\n",
       "</div>"
      ],
      "text/plain": [
       "    B   C\n",
       "  sum sum\n",
       "A        \n",
       "1   3   0\n",
       "2   7   2\n",
       "3   5   2"
      ]
     },
     "execution_count": 62,
     "metadata": {},
     "output_type": "execute_result"
    }
   ],
   "source": [
    "df.groupby('A').agg({'sum'}, axis=1)"
   ]
  },
  {
   "cell_type": "code",
   "execution_count": 39,
   "metadata": {},
   "outputs": [
    {
     "data": {
      "text/html": [
       "<div>\n",
       "<style scoped>\n",
       "    .dataframe tbody tr th:only-of-type {\n",
       "        vertical-align: middle;\n",
       "    }\n",
       "\n",
       "    .dataframe tbody tr th {\n",
       "        vertical-align: top;\n",
       "    }\n",
       "\n",
       "    .dataframe thead th {\n",
       "        text-align: right;\n",
       "    }\n",
       "</style>\n",
       "<table border=\"1\" class=\"dataframe\">\n",
       "  <thead>\n",
       "    <tr style=\"text-align: right;\">\n",
       "      <th></th>\n",
       "      <th>B</th>\n",
       "      <th>C</th>\n",
       "    </tr>\n",
       "    <tr>\n",
       "      <th>A</th>\n",
       "      <th></th>\n",
       "      <th></th>\n",
       "    </tr>\n",
       "  </thead>\n",
       "  <tbody>\n",
       "    <tr>\n",
       "      <th>1</th>\n",
       "      <td>3</td>\n",
       "      <td>0</td>\n",
       "    </tr>\n",
       "    <tr>\n",
       "      <th>2</th>\n",
       "      <td>7</td>\n",
       "      <td>2</td>\n",
       "    </tr>\n",
       "    <tr>\n",
       "      <th>3</th>\n",
       "      <td>5</td>\n",
       "      <td>2</td>\n",
       "    </tr>\n",
       "  </tbody>\n",
       "</table>\n",
       "</div>"
      ],
      "text/plain": [
       "   B  C\n",
       "A      \n",
       "1  3  0\n",
       "2  7  2\n",
       "3  5  2"
      ]
     },
     "execution_count": 39,
     "metadata": {},
     "output_type": "execute_result"
    }
   ],
   "source": [
    "df.groupby('A').agg(lambda row: row.sum())"
   ]
  },
  {
   "cell_type": "code",
   "execution_count": 42,
   "metadata": {},
   "outputs": [
    {
     "data": {
      "text/html": [
       "<div>\n",
       "<style scoped>\n",
       "    .dataframe tbody tr th:only-of-type {\n",
       "        vertical-align: middle;\n",
       "    }\n",
       "\n",
       "    .dataframe tbody tr th {\n",
       "        vertical-align: top;\n",
       "    }\n",
       "\n",
       "    .dataframe thead th {\n",
       "        text-align: right;\n",
       "    }\n",
       "</style>\n",
       "<table border=\"1\" class=\"dataframe\">\n",
       "  <thead>\n",
       "    <tr style=\"text-align: right;\">\n",
       "      <th></th>\n",
       "      <th>A</th>\n",
       "      <th>B</th>\n",
       "      <th>C</th>\n",
       "    </tr>\n",
       "  </thead>\n",
       "  <tbody>\n",
       "    <tr>\n",
       "      <th>0</th>\n",
       "      <td>1</td>\n",
       "      <td>1</td>\n",
       "      <td>0</td>\n",
       "    </tr>\n",
       "    <tr>\n",
       "      <th>1</th>\n",
       "      <td>1</td>\n",
       "      <td>2</td>\n",
       "      <td>0</td>\n",
       "    </tr>\n",
       "    <tr>\n",
       "      <th>2</th>\n",
       "      <td>2</td>\n",
       "      <td>3</td>\n",
       "      <td>1</td>\n",
       "    </tr>\n",
       "    <tr>\n",
       "      <th>3</th>\n",
       "      <td>2</td>\n",
       "      <td>4</td>\n",
       "      <td>1</td>\n",
       "    </tr>\n",
       "    <tr>\n",
       "      <th>4</th>\n",
       "      <td>3</td>\n",
       "      <td>5</td>\n",
       "      <td>2</td>\n",
       "    </tr>\n",
       "  </tbody>\n",
       "</table>\n",
       "</div>"
      ],
      "text/plain": [
       "   A  B  C\n",
       "0  1  1  0\n",
       "1  1  2  0\n",
       "2  2  3  1\n",
       "3  2  4  1\n",
       "4  3  5  2"
      ]
     },
     "execution_count": 42,
     "metadata": {},
     "output_type": "execute_result"
    }
   ],
   "source": [
    "import pandas as pd\n",
    "import numpy as np\n",
    "df = pd.DataFrame([[1,1,0],[1,2,0],[2,3,1],[2,4,1],[3,5,2]], columns=['A', 'B', 'C'])\n",
    "df"
   ]
  },
  {
   "cell_type": "code",
   "execution_count": 57,
   "metadata": {},
   "outputs": [
    {
     "data": {
      "text/html": [
       "<div>\n",
       "<style scoped>\n",
       "    .dataframe tbody tr th:only-of-type {\n",
       "        vertical-align: middle;\n",
       "    }\n",
       "\n",
       "    .dataframe tbody tr th {\n",
       "        vertical-align: top;\n",
       "    }\n",
       "\n",
       "    .dataframe thead th {\n",
       "        text-align: right;\n",
       "    }\n",
       "</style>\n",
       "<table border=\"1\" class=\"dataframe\">\n",
       "  <thead>\n",
       "    <tr style=\"text-align: right;\">\n",
       "      <th></th>\n",
       "      <th>0</th>\n",
       "    </tr>\n",
       "  </thead>\n",
       "  <tbody>\n",
       "    <tr>\n",
       "      <th>0</th>\n",
       "      <td>2</td>\n",
       "    </tr>\n",
       "    <tr>\n",
       "      <th>1</th>\n",
       "      <td>3</td>\n",
       "    </tr>\n",
       "    <tr>\n",
       "      <th>2</th>\n",
       "      <td>6</td>\n",
       "    </tr>\n",
       "    <tr>\n",
       "      <th>3</th>\n",
       "      <td>7</td>\n",
       "    </tr>\n",
       "    <tr>\n",
       "      <th>4</th>\n",
       "      <td>10</td>\n",
       "    </tr>\n",
       "  </tbody>\n",
       "</table>\n",
       "</div>"
      ],
      "text/plain": [
       "    0\n",
       "0   2\n",
       "1   3\n",
       "2   6\n",
       "3   7\n",
       "4  10"
      ]
     },
     "execution_count": 57,
     "metadata": {},
     "output_type": "execute_result"
    }
   ],
   "source": [
    "df.agg(np.sum, axis='columns').to_frame()"
   ]
  },
  {
   "cell_type": "code",
   "execution_count": 58,
   "metadata": {},
   "outputs": [
    {
     "data": {
      "text/html": [
       "<div>\n",
       "<style scoped>\n",
       "    .dataframe tbody tr th:only-of-type {\n",
       "        vertical-align: middle;\n",
       "    }\n",
       "\n",
       "    .dataframe tbody tr th {\n",
       "        vertical-align: top;\n",
       "    }\n",
       "\n",
       "    .dataframe thead th {\n",
       "        text-align: right;\n",
       "    }\n",
       "</style>\n",
       "<table border=\"1\" class=\"dataframe\">\n",
       "  <thead>\n",
       "    <tr style=\"text-align: right;\">\n",
       "      <th></th>\n",
       "      <th>0</th>\n",
       "    </tr>\n",
       "  </thead>\n",
       "  <tbody>\n",
       "    <tr>\n",
       "      <th>A</th>\n",
       "      <td>9</td>\n",
       "    </tr>\n",
       "    <tr>\n",
       "      <th>B</th>\n",
       "      <td>15</td>\n",
       "    </tr>\n",
       "    <tr>\n",
       "      <th>C</th>\n",
       "      <td>4</td>\n",
       "    </tr>\n",
       "  </tbody>\n",
       "</table>\n",
       "</div>"
      ],
      "text/plain": [
       "    0\n",
       "A   9\n",
       "B  15\n",
       "C   4"
      ]
     },
     "execution_count": 58,
     "metadata": {},
     "output_type": "execute_result"
    }
   ],
   "source": [
    "df.agg(np.sum, axis='index').to_frame()"
   ]
  },
  {
   "cell_type": "code",
   "execution_count": 63,
   "metadata": {
    "collapsed": true,
    "jupyter": {
     "outputs_hidden": true
    }
   },
   "outputs": [
    {
     "name": "stdout",
     "output_type": "stream",
     "text": [
      "Requirement already up-to-date: jupyterlab-git in c:\\users\\greym\\anaconda3\\lib\\site-packages (0.20.0)\n",
      "Requirement already satisfied, skipping upgrade: pexpect in c:\\users\\greym\\anaconda3\\lib\\site-packages (from jupyterlab-git) (4.8.0)\n",
      "Requirement already satisfied, skipping upgrade: nbdime~=2.0 in c:\\users\\greym\\anaconda3\\lib\\site-packages (from jupyterlab-git) (2.0.0)\n",
      "Requirement already satisfied, skipping upgrade: notebook in c:\\users\\greym\\anaconda3\\lib\\site-packages (from jupyterlab-git) (6.0.3)\n",
      "Requirement already satisfied, skipping upgrade: ptyprocess>=0.5 in c:\\users\\greym\\anaconda3\\lib\\site-packages (from pexpect->jupyterlab-git) (0.6.0)\n",
      "Requirement already satisfied, skipping upgrade: nbformat in c:\\users\\greym\\anaconda3\\lib\\site-packages (from nbdime~=2.0->jupyterlab-git) (5.0.4)\n",
      "Requirement already satisfied, skipping upgrade: GitPython!=2.1.4,!=2.1.5,!=2.1.6 in c:\\users\\greym\\anaconda3\\lib\\site-packages (from nbdime~=2.0->jupyterlab-git) (3.1.3)\n",
      "Requirement already satisfied, skipping upgrade: tornado in c:\\users\\greym\\anaconda3\\lib\\site-packages (from nbdime~=2.0->jupyterlab-git) (6.0.3)\n",
      "Requirement already satisfied, skipping upgrade: six in c:\\users\\greym\\anaconda3\\lib\\site-packages (from nbdime~=2.0->jupyterlab-git) (1.14.0)\n",
      "Requirement already satisfied, skipping upgrade: requests in c:\\users\\greym\\anaconda3\\lib\\site-packages (from nbdime~=2.0->jupyterlab-git) (2.22.0)\n",
      "Requirement already satisfied, skipping upgrade: colorama in c:\\users\\greym\\anaconda3\\lib\\site-packages (from nbdime~=2.0->jupyterlab-git) (0.4.3)\n",
      "Requirement already satisfied, skipping upgrade: pygments in c:\\users\\greym\\anaconda3\\lib\\site-packages (from nbdime~=2.0->jupyterlab-git) (2.5.2)\n",
      "Requirement already satisfied, skipping upgrade: jinja2>=2.9 in c:\\users\\greym\\anaconda3\\lib\\site-packages (from nbdime~=2.0->jupyterlab-git) (2.11.1)\n",
      "Requirement already satisfied, skipping upgrade: ipykernel in c:\\users\\greym\\anaconda3\\lib\\site-packages (from notebook->jupyterlab-git) (5.1.4)\n",
      "Requirement already satisfied, skipping upgrade: terminado>=0.8.1 in c:\\users\\greym\\anaconda3\\lib\\site-packages (from notebook->jupyterlab-git) (0.8.3)\n",
      "Requirement already satisfied, skipping upgrade: Send2Trash in c:\\users\\greym\\anaconda3\\lib\\site-packages (from notebook->jupyterlab-git) (1.5.0)\n",
      "Requirement already satisfied, skipping upgrade: ipython-genutils in c:\\users\\greym\\anaconda3\\lib\\site-packages (from notebook->jupyterlab-git) (0.2.0)\n",
      "Requirement already satisfied, skipping upgrade: jupyter-client>=5.3.4 in c:\\users\\greym\\anaconda3\\lib\\site-packages (from notebook->jupyterlab-git) (5.3.4)\n",
      "Requirement already satisfied, skipping upgrade: nbconvert in c:\\users\\greym\\anaconda3\\lib\\site-packages (from notebook->jupyterlab-git) (5.6.1)\n",
      "Requirement already satisfied, skipping upgrade: jupyter-core>=4.6.1 in c:\\users\\greym\\anaconda3\\lib\\site-packages (from notebook->jupyterlab-git) (4.6.1)\n",
      "Requirement already satisfied, skipping upgrade: pyzmq>=17 in c:\\users\\greym\\anaconda3\\lib\\site-packages (from notebook->jupyterlab-git) (18.1.1)\n",
      "Requirement already satisfied, skipping upgrade: traitlets>=4.2.1 in c:\\users\\greym\\anaconda3\\lib\\site-packages (from notebook->jupyterlab-git) (4.3.3)\n",
      "Requirement already satisfied, skipping upgrade: prometheus-client in c:\\users\\greym\\anaconda3\\lib\\site-packages (from notebook->jupyterlab-git) (0.7.1)\n",
      "Requirement already satisfied, skipping upgrade: jsonschema!=2.5.0,>=2.4 in c:\\users\\greym\\anaconda3\\lib\\site-packages (from nbformat->nbdime~=2.0->jupyterlab-git) (3.2.0)\n",
      "Requirement already satisfied, skipping upgrade: gitdb<5,>=4.0.1 in c:\\users\\greym\\anaconda3\\lib\\site-packages (from GitPython!=2.1.4,!=2.1.5,!=2.1.6->nbdime~=2.0->jupyterlab-git) (4.0.5)\n",
      "Requirement already satisfied, skipping upgrade: chardet<3.1.0,>=3.0.2 in c:\\users\\greym\\anaconda3\\lib\\site-packages (from requests->nbdime~=2.0->jupyterlab-git) (3.0.4)\n",
      "Requirement already satisfied, skipping upgrade: idna<2.9,>=2.5 in c:\\users\\greym\\anaconda3\\lib\\site-packages (from requests->nbdime~=2.0->jupyterlab-git) (2.8)\n",
      "Requirement already satisfied, skipping upgrade: certifi>=2017.4.17 in c:\\users\\greym\\anaconda3\\lib\\site-packages (from requests->nbdime~=2.0->jupyterlab-git) (2019.11.28)\n",
      "Requirement already satisfied, skipping upgrade: urllib3!=1.25.0,!=1.25.1,<1.26,>=1.21.1 in c:\\users\\greym\\anaconda3\\lib\\site-packages (from requests->nbdime~=2.0->jupyterlab-git) (1.25.8)\n",
      "Requirement already satisfied, skipping upgrade: MarkupSafe>=0.23 in c:\\users\\greym\\anaconda3\\lib\\site-packages (from jinja2>=2.9->nbdime~=2.0->jupyterlab-git) (1.1.1)\n",
      "Requirement already satisfied, skipping upgrade: ipython>=5.0.0 in c:\\users\\greym\\anaconda3\\lib\\site-packages (from ipykernel->notebook->jupyterlab-git) (7.12.0)\n",
      "Requirement already satisfied, skipping upgrade: python-dateutil>=2.1 in c:\\users\\greym\\anaconda3\\lib\\site-packages (from jupyter-client>=5.3.4->notebook->jupyterlab-git) (2.8.1)\n",
      "Requirement already satisfied, skipping upgrade: pywin32>=1.0; sys_platform == \"win32\" in c:\\users\\greym\\anaconda3\\lib\\site-packages (from jupyter-client>=5.3.4->notebook->jupyterlab-git) (227)\n",
      "Requirement already satisfied, skipping upgrade: bleach in c:\\users\\greym\\anaconda3\\lib\\site-packages (from nbconvert->notebook->jupyterlab-git) (3.1.0)\n",
      "Requirement already satisfied, skipping upgrade: pandocfilters>=1.4.1 in c:\\users\\greym\\anaconda3\\lib\\site-packages (from nbconvert->notebook->jupyterlab-git) (1.4.2)\n",
      "Requirement already satisfied, skipping upgrade: testpath in c:\\users\\greym\\anaconda3\\lib\\site-packages (from nbconvert->notebook->jupyterlab-git) (0.4.4)\n",
      "Requirement already satisfied, skipping upgrade: entrypoints>=0.2.2 in c:\\users\\greym\\anaconda3\\lib\\site-packages (from nbconvert->notebook->jupyterlab-git) (0.3)\n",
      "Requirement already satisfied, skipping upgrade: defusedxml in c:\\users\\greym\\anaconda3\\lib\\site-packages (from nbconvert->notebook->jupyterlab-git) (0.6.0)\n",
      "Requirement already satisfied, skipping upgrade: mistune<2,>=0.8.1 in c:\\users\\greym\\anaconda3\\lib\\site-packages (from nbconvert->notebook->jupyterlab-git) (0.8.4)\n",
      "Requirement already satisfied, skipping upgrade: decorator in c:\\users\\greym\\anaconda3\\lib\\site-packages (from traitlets>=4.2.1->notebook->jupyterlab-git) (4.4.1)\n",
      "Requirement already satisfied, skipping upgrade: pyrsistent>=0.14.0 in c:\\users\\greym\\anaconda3\\lib\\site-packages (from jsonschema!=2.5.0,>=2.4->nbformat->nbdime~=2.0->jupyterlab-git) (0.15.7)\n",
      "Requirement already satisfied, skipping upgrade: setuptools in c:\\users\\greym\\anaconda3\\lib\\site-packages (from jsonschema!=2.5.0,>=2.4->nbformat->nbdime~=2.0->jupyterlab-git) (45.2.0.post20200210)\n",
      "Requirement already satisfied, skipping upgrade: attrs>=17.4.0 in c:\\users\\greym\\anaconda3\\lib\\site-packages (from jsonschema!=2.5.0,>=2.4->nbformat->nbdime~=2.0->jupyterlab-git) (19.3.0)\n",
      "Requirement already satisfied, skipping upgrade: importlib-metadata; python_version < \"3.8\" in c:\\users\\greym\\anaconda3\\lib\\site-packages (from jsonschema!=2.5.0,>=2.4->nbformat->nbdime~=2.0->jupyterlab-git) (1.5.0)\n",
      "Requirement already satisfied, skipping upgrade: smmap<4,>=3.0.1 in c:\\users\\greym\\anaconda3\\lib\\site-packages (from gitdb<5,>=4.0.1->GitPython!=2.1.4,!=2.1.5,!=2.1.6->nbdime~=2.0->jupyterlab-git) (3.0.4)\n",
      "Requirement already satisfied, skipping upgrade: prompt-toolkit!=3.0.0,!=3.0.1,<3.1.0,>=2.0.0 in c:\\users\\greym\\anaconda3\\lib\\site-packages (from ipython>=5.0.0->ipykernel->notebook->jupyterlab-git) (3.0.3)\n",
      "Requirement already satisfied, skipping upgrade: backcall in c:\\users\\greym\\anaconda3\\lib\\site-packages (from ipython>=5.0.0->ipykernel->notebook->jupyterlab-git) (0.1.0)\n",
      "Requirement already satisfied, skipping upgrade: pickleshare in c:\\users\\greym\\anaconda3\\lib\\site-packages (from ipython>=5.0.0->ipykernel->notebook->jupyterlab-git) (0.7.5)\n",
      "Requirement already satisfied, skipping upgrade: jedi>=0.10 in c:\\users\\greym\\anaconda3\\lib\\site-packages (from ipython>=5.0.0->ipykernel->notebook->jupyterlab-git) (0.14.1)\n",
      "Requirement already satisfied, skipping upgrade: webencodings in c:\\users\\greym\\anaconda3\\lib\\site-packages (from bleach->nbconvert->notebook->jupyterlab-git) (0.5.1)\n",
      "Requirement already satisfied, skipping upgrade: zipp>=0.5 in c:\\users\\greym\\anaconda3\\lib\\site-packages (from importlib-metadata; python_version < \"3.8\"->jsonschema!=2.5.0,>=2.4->nbformat->nbdime~=2.0->jupyterlab-git) (2.2.0)\n",
      "Requirement already satisfied, skipping upgrade: wcwidth in c:\\users\\greym\\anaconda3\\lib\\site-packages (from prompt-toolkit!=3.0.0,!=3.0.1,<3.1.0,>=2.0.0->ipython>=5.0.0->ipykernel->notebook->jupyterlab-git) (0.1.8)\n",
      "Requirement already satisfied, skipping upgrade: parso>=0.5.0 in c:\\users\\greym\\anaconda3\\lib\\site-packages (from jedi>=0.10->ipython>=5.0.0->ipykernel->notebook->jupyterlab-git) (0.5.2)\n"
     ]
    }
   ],
   "source": [
    "!pip install --upgrade jupyterlab-git"
   ]
  },
  {
   "cell_type": "code",
   "execution_count": 1,
   "metadata": {
    "collapsed": true,
    "jupyter": {
     "outputs_hidden": true
    }
   },
   "outputs": [
    {
     "name": "stdout",
     "output_type": "stream",
     "text": [
      "Requirement already satisfied: nbdime in c:\\users\\greym\\anaconda3\\lib\\site-packages (2.0.0)\n",
      "Requirement already satisfied: six in c:\\users\\greym\\anaconda3\\lib\\site-packages (from nbdime) (1.14.0)\n",
      "Requirement already satisfied: nbformat in c:\\users\\greym\\anaconda3\\lib\\site-packages (from nbdime) (5.0.4)\n",
      "Requirement already satisfied: tornado in c:\\users\\greym\\anaconda3\\lib\\site-packages (from nbdime) (6.0.3)\n",
      "Requirement already satisfied: pygments in c:\\users\\greym\\anaconda3\\lib\\site-packages (from nbdime) (2.5.2)\n",
      "Requirement already satisfied: notebook in c:\\users\\greym\\anaconda3\\lib\\site-packages (from nbdime) (6.0.3)\n",
      "Requirement already satisfied: requests in c:\\users\\greym\\anaconda3\\lib\\site-packages (from nbdime) (2.22.0)\n",
      "Requirement already satisfied: jinja2>=2.9 in c:\\users\\greym\\anaconda3\\lib\\site-packages (from nbdime) (2.11.1)\n",
      "Requirement already satisfied: colorama in c:\\users\\greym\\anaconda3\\lib\\site-packages (from nbdime) (0.4.3)\n",
      "Requirement already satisfied: GitPython!=2.1.4,!=2.1.5,!=2.1.6 in c:\\users\\greym\\anaconda3\\lib\\site-packages (from nbdime) (3.1.3)\n",
      "Requirement already satisfied: jupyter-core in c:\\users\\greym\\anaconda3\\lib\\site-packages (from nbformat->nbdime) (4.6.1)\n",
      "Requirement already satisfied: jsonschema!=2.5.0,>=2.4 in c:\\users\\greym\\anaconda3\\lib\\site-packages (from nbformat->nbdime) (3.2.0)\n",
      "Requirement already satisfied: traitlets>=4.1 in c:\\users\\greym\\anaconda3\\lib\\site-packages (from nbformat->nbdime) (4.3.3)\n",
      "Requirement already satisfied: ipython-genutils in c:\\users\\greym\\anaconda3\\lib\\site-packages (from nbformat->nbdime) (0.2.0)\n",
      "Requirement already satisfied: ipykernel in c:\\users\\greym\\anaconda3\\lib\\site-packages (from notebook->nbdime) (5.1.4)\n",
      "Requirement already satisfied: Send2Trash in c:\\users\\greym\\anaconda3\\lib\\site-packages (from notebook->nbdime) (1.5.0)\n",
      "Requirement already satisfied: nbconvert in c:\\users\\greym\\anaconda3\\lib\\site-packages (from notebook->nbdime) (5.6.1)\n",
      "Requirement already satisfied: jupyter-client>=5.3.4 in c:\\users\\greym\\anaconda3\\lib\\site-packages (from notebook->nbdime) (5.3.4)\n",
      "Requirement already satisfied: terminado>=0.8.1 in c:\\users\\greym\\anaconda3\\lib\\site-packages (from notebook->nbdime) (0.8.3)\n",
      "Requirement already satisfied: prometheus-client in c:\\users\\greym\\anaconda3\\lib\\site-packages (from notebook->nbdime) (0.7.1)\n",
      "Requirement already satisfied: pyzmq>=17 in c:\\users\\greym\\anaconda3\\lib\\site-packages (from notebook->nbdime) (18.1.1)\n",
      "Requirement already satisfied: urllib3!=1.25.0,!=1.25.1,<1.26,>=1.21.1 in c:\\users\\greym\\anaconda3\\lib\\site-packages (from requests->nbdime) (1.25.8)\n",
      "Requirement already satisfied: certifi>=2017.4.17 in c:\\users\\greym\\anaconda3\\lib\\site-packages (from requests->nbdime) (2019.11.28)\n",
      "Requirement already satisfied: idna<2.9,>=2.5 in c:\\users\\greym\\anaconda3\\lib\\site-packages (from requests->nbdime) (2.8)\n",
      "Requirement already satisfied: chardet<3.1.0,>=3.0.2 in c:\\users\\greym\\anaconda3\\lib\\site-packages (from requests->nbdime) (3.0.4)\n",
      "Requirement already satisfied: MarkupSafe>=0.23 in c:\\users\\greym\\anaconda3\\lib\\site-packages (from jinja2>=2.9->nbdime) (1.1.1)\n",
      "Requirement already satisfied: gitdb<5,>=4.0.1 in c:\\users\\greym\\anaconda3\\lib\\site-packages (from GitPython!=2.1.4,!=2.1.5,!=2.1.6->nbdime) (4.0.5)\n",
      "Requirement already satisfied: pywin32>=1.0; sys_platform == \"win32\" in c:\\users\\greym\\anaconda3\\lib\\site-packages (from jupyter-core->nbformat->nbdime) (227)\n",
      "Requirement already satisfied: attrs>=17.4.0 in c:\\users\\greym\\anaconda3\\lib\\site-packages (from jsonschema!=2.5.0,>=2.4->nbformat->nbdime) (19.3.0)\n",
      "Requirement already satisfied: pyrsistent>=0.14.0 in c:\\users\\greym\\anaconda3\\lib\\site-packages (from jsonschema!=2.5.0,>=2.4->nbformat->nbdime) (0.15.7)\n",
      "Requirement already satisfied: setuptools in c:\\users\\greym\\anaconda3\\lib\\site-packages (from jsonschema!=2.5.0,>=2.4->nbformat->nbdime) (45.2.0.post20200210)\n",
      "Requirement already satisfied: importlib-metadata; python_version < \"3.8\" in c:\\users\\greym\\anaconda3\\lib\\site-packages (from jsonschema!=2.5.0,>=2.4->nbformat->nbdime) (1.5.0)\n",
      "Requirement already satisfied: decorator in c:\\users\\greym\\anaconda3\\lib\\site-packages (from traitlets>=4.1->nbformat->nbdime) (4.4.1)\n",
      "Requirement already satisfied: ipython>=5.0.0 in c:\\users\\greym\\anaconda3\\lib\\site-packages (from ipykernel->notebook->nbdime) (7.12.0)\n",
      "Requirement already satisfied: entrypoints>=0.2.2 in c:\\users\\greym\\anaconda3\\lib\\site-packages (from nbconvert->notebook->nbdime) (0.3)\n",
      "Requirement already satisfied: bleach in c:\\users\\greym\\anaconda3\\lib\\site-packages (from nbconvert->notebook->nbdime) (3.1.0)\n",
      "Requirement already satisfied: defusedxml in c:\\users\\greym\\anaconda3\\lib\\site-packages (from nbconvert->notebook->nbdime) (0.6.0)\n",
      "Requirement already satisfied: mistune<2,>=0.8.1 in c:\\users\\greym\\anaconda3\\lib\\site-packages (from nbconvert->notebook->nbdime) (0.8.4)\n",
      "Requirement already satisfied: pandocfilters>=1.4.1 in c:\\users\\greym\\anaconda3\\lib\\site-packages (from nbconvert->notebook->nbdime) (1.4.2)\n",
      "Requirement already satisfied: testpath in c:\\users\\greym\\anaconda3\\lib\\site-packages (from nbconvert->notebook->nbdime) (0.4.4)\n",
      "Requirement already satisfied: python-dateutil>=2.1 in c:\\users\\greym\\anaconda3\\lib\\site-packages (from jupyter-client>=5.3.4->notebook->nbdime) (2.8.1)\n",
      "Requirement already satisfied: smmap<4,>=3.0.1 in c:\\users\\greym\\anaconda3\\lib\\site-packages (from gitdb<5,>=4.0.1->GitPython!=2.1.4,!=2.1.5,!=2.1.6->nbdime) (3.0.4)\n",
      "Requirement already satisfied: zipp>=0.5 in c:\\users\\greym\\anaconda3\\lib\\site-packages (from importlib-metadata; python_version < \"3.8\"->jsonschema!=2.5.0,>=2.4->nbformat->nbdime) (2.2.0)\n",
      "Requirement already satisfied: prompt-toolkit!=3.0.0,!=3.0.1,<3.1.0,>=2.0.0 in c:\\users\\greym\\anaconda3\\lib\\site-packages (from ipython>=5.0.0->ipykernel->notebook->nbdime) (3.0.3)\n",
      "Requirement already satisfied: backcall in c:\\users\\greym\\anaconda3\\lib\\site-packages (from ipython>=5.0.0->ipykernel->notebook->nbdime) (0.1.0)\n",
      "Requirement already satisfied: jedi>=0.10 in c:\\users\\greym\\anaconda3\\lib\\site-packages (from ipython>=5.0.0->ipykernel->notebook->nbdime) (0.14.1)\n",
      "Requirement already satisfied: pickleshare in c:\\users\\greym\\anaconda3\\lib\\site-packages (from ipython>=5.0.0->ipykernel->notebook->nbdime) (0.7.5)\n",
      "Requirement already satisfied: webencodings in c:\\users\\greym\\anaconda3\\lib\\site-packages (from bleach->nbconvert->notebook->nbdime) (0.5.1)\n",
      "Requirement already satisfied: wcwidth in c:\\users\\greym\\anaconda3\\lib\\site-packages (from prompt-toolkit!=3.0.0,!=3.0.1,<3.1.0,>=2.0.0->ipython>=5.0.0->ipykernel->notebook->nbdime) (0.1.8)\n",
      "Requirement already satisfied: parso>=0.5.0 in c:\\users\\greym\\anaconda3\\lib\\site-packages (from jedi>=0.10->ipython>=5.0.0->ipykernel->notebook->nbdime) (0.5.2)\n"
     ]
    }
   ],
   "source": [
    "!pip install nbdime"
   ]
  },
  {
   "cell_type": "code",
   "execution_count": 65,
   "metadata": {
    "collapsed": true,
    "jupyter": {
     "outputs_hidden": true
    }
   },
   "outputs": [
    {
     "ename": "SyntaxError",
     "evalue": "invalid syntax (<ipython-input-65-9683ae3d70f1>, line 1)",
     "output_type": "error",
     "traceback": [
      "\u001b[1;36m  File \u001b[1;32m\"<ipython-input-65-9683ae3d70f1>\"\u001b[1;36m, line \u001b[1;32m1\u001b[0m\n\u001b[1;33m    jupyter serverextension list\u001b[0m\n\u001b[1;37m                          ^\u001b[0m\n\u001b[1;31mSyntaxError\u001b[0m\u001b[1;31m:\u001b[0m invalid syntax\n"
     ]
    }
   ],
   "source": [
    "jupyter serverextension list"
   ]
  },
  {
   "cell_type": "code",
   "execution_count": 101,
   "metadata": {},
   "outputs": [
    {
     "name": "stdin",
     "output_type": "stream",
     "text": [
      " d4\n",
      " e8\n"
     ]
    },
    {
     "name": "stdout",
     "output_type": "stream",
     "text": [
      "коорд. 1й клетки: (4, 4)\n",
      "коорд. 2й клетки: (5, 8)\n"
     ]
    }
   ],
   "source": [
    "x1, y1 = list(input().lower())\n",
    "x2, y2 = list(input().lower())\n",
    "y1, y2 = int(y1), int(y2)\n",
    "\n",
    "chessboard = dict(zip(('a','b','c','d','e','f','g','h'),(range(1,9))))\n",
    "x1, x2 = chessboard[x1], chessboard[x2]\n",
    "print(f'коорд. 1й клетки: {x1,y1}',f'коорд. 2й клетки: {x2,y2}', sep='\\n')"
   ]
  },
  {
   "cell_type": "code",
   "execution_count": 96,
   "metadata": {},
   "outputs": [
    {
     "data": {
      "text/plain": [
       "{'a': 1, 'b': 2, 'c': 3, 'd': 4, 'e': 5, 'f': 6, 'g': 7, 'h': 8}"
      ]
     },
     "execution_count": 96,
     "metadata": {},
     "output_type": "execute_result"
    }
   ],
   "source": [
    "dict((chr(i+ord('`')), i) for i in range(1,9))"
   ]
  },
  {
   "cell_type": "code",
   "execution_count": 100,
   "metadata": {
    "jupyter": {
     "source_hidden": true
    }
   },
   "outputs": [
    {
     "name": "stdin",
     "output_type": "stream",
     "text": [
      "введите координаты 1й клетки:  d4\n",
      "введите координаты 2й клетки:  e5\n"
     ]
    },
    {
     "name": "stdout",
     "output_type": "stream",
     "text": [
      "координаты 1й клетки d 4\n",
      "координаты 2й клетки e 5\n"
     ]
    }
   ],
   "source": [
    "input1 = input('введите координаты 1й клетки: ')\n",
    "input2 = input('введите координаты 2й клетки: ')\n",
    "x1 = input1[0]\n",
    "y1 = input1[1]\n",
    "x2 = input2[0]\n",
    "y2 = input2[1]\n",
    "print('координаты 1й клетки', x1,y1)\n",
    "print('координаты 2й клетки', x2,y2)"
   ]
  },
  {
   "cell_type": "code",
   "execution_count": 106,
   "metadata": {},
   "outputs": [
    {
     "data": {
      "text/html": [
       "<div>\n",
       "<style scoped>\n",
       "    .dataframe tbody tr th:only-of-type {\n",
       "        vertical-align: middle;\n",
       "    }\n",
       "\n",
       "    .dataframe tbody tr th {\n",
       "        vertical-align: top;\n",
       "    }\n",
       "\n",
       "    .dataframe thead th {\n",
       "        text-align: right;\n",
       "    }\n",
       "</style>\n",
       "<table border=\"1\" class=\"dataframe\">\n",
       "  <thead>\n",
       "    <tr style=\"text-align: right;\">\n",
       "      <th></th>\n",
       "      <th>key</th>\n",
       "      <th>lvalue</th>\n",
       "      <th>group</th>\n",
       "    </tr>\n",
       "  </thead>\n",
       "  <tbody>\n",
       "    <tr>\n",
       "      <th>0</th>\n",
       "      <td>a</td>\n",
       "      <td>1</td>\n",
       "      <td>a</td>\n",
       "    </tr>\n",
       "    <tr>\n",
       "      <th>1</th>\n",
       "      <td>c</td>\n",
       "      <td>2</td>\n",
       "      <td>a</td>\n",
       "    </tr>\n",
       "    <tr>\n",
       "      <th>2</th>\n",
       "      <td>e</td>\n",
       "      <td>3</td>\n",
       "      <td>a</td>\n",
       "    </tr>\n",
       "    <tr>\n",
       "      <th>3</th>\n",
       "      <td>a</td>\n",
       "      <td>1</td>\n",
       "      <td>b</td>\n",
       "    </tr>\n",
       "    <tr>\n",
       "      <th>4</th>\n",
       "      <td>c</td>\n",
       "      <td>2</td>\n",
       "      <td>b</td>\n",
       "    </tr>\n",
       "    <tr>\n",
       "      <th>5</th>\n",
       "      <td>e</td>\n",
       "      <td>3</td>\n",
       "      <td>b</td>\n",
       "    </tr>\n",
       "  </tbody>\n",
       "</table>\n",
       "</div>"
      ],
      "text/plain": [
       "  key  lvalue group\n",
       "0   a       1     a\n",
       "1   c       2     a\n",
       "2   e       3     a\n",
       "3   a       1     b\n",
       "4   c       2     b\n",
       "5   e       3     b"
      ]
     },
     "execution_count": 106,
     "metadata": {},
     "output_type": "execute_result"
    }
   ],
   "source": [
    "import pandas as pd\n",
    "\n",
    "df1 = pd.DataFrame({\"key\": [\"a\", \"c\", \"e\", \"a\", \"c\", \"e\"], \"lvalue\": [1, 2, 3, 1, 2, 3], \"group\": [\"a\", \"a\", \"a\", \"b\", \"b\", \"b\"]})\n",
    "df1"
   ]
  },
  {
   "cell_type": "code",
   "execution_count": 111,
   "metadata": {},
   "outputs": [
    {
     "data": {
      "text/html": [
       "<div>\n",
       "<style scoped>\n",
       "    .dataframe tbody tr th:only-of-type {\n",
       "        vertical-align: middle;\n",
       "    }\n",
       "\n",
       "    .dataframe tbody tr th {\n",
       "        vertical-align: top;\n",
       "    }\n",
       "\n",
       "    .dataframe thead th {\n",
       "        text-align: right;\n",
       "    }\n",
       "</style>\n",
       "<table border=\"1\" class=\"dataframe\">\n",
       "  <thead>\n",
       "    <tr style=\"text-align: right;\">\n",
       "      <th></th>\n",
       "      <th>key</th>\n",
       "      <th>lvalue</th>\n",
       "      <th>group</th>\n",
       "    </tr>\n",
       "  </thead>\n",
       "  <tbody>\n",
       "    <tr>\n",
       "      <th>3</th>\n",
       "      <td>a</td>\n",
       "      <td>1</td>\n",
       "      <td>b</td>\n",
       "    </tr>\n",
       "    <tr>\n",
       "      <th>4</th>\n",
       "      <td>c</td>\n",
       "      <td>2</td>\n",
       "      <td>b</td>\n",
       "    </tr>\n",
       "    <tr>\n",
       "      <th>5</th>\n",
       "      <td>e</td>\n",
       "      <td>3</td>\n",
       "      <td>b</td>\n",
       "    </tr>\n",
       "  </tbody>\n",
       "</table>\n",
       "</div>"
      ],
      "text/plain": [
       "  key  lvalue group\n",
       "3   a       1     b\n",
       "4   c       2     b\n",
       "5   e       3     b"
      ]
     },
     "execution_count": 111,
     "metadata": {},
     "output_type": "execute_result"
    }
   ],
   "source": [
    "df1.groupby('group').get_group('b')"
   ]
  },
  {
   "cell_type": "code",
   "execution_count": 113,
   "metadata": {},
   "outputs": [
    {
     "data": {
      "text/plain": [
       "[(0.994, 3.0], (5.0, 7.0], (3.0, 5.0], (3.0, 5.0], (5.0, 7.0], (0.994, 3.0]]\n",
       "Categories (3, interval[float64]): [(0.994, 3.0] < (3.0, 5.0] < (5.0, 7.0]]"
      ]
     },
     "execution_count": 113,
     "metadata": {},
     "output_type": "execute_result"
    }
   ],
   "source": [
    "pd.cut(np.array([1, 7, 5, 4, 6, 3]), 3)"
   ]
  },
  {
   "cell_type": "code",
   "execution_count": 3,
   "metadata": {},
   "outputs": [
    {
     "data": {
      "text/plain": [
       "'D:\\\\Курсы\\\\Skillbox\\\\Data Science\\\\16. Чтение и запись данных ч.1\\\\Dzhumurat'"
      ]
     },
     "execution_count": 3,
     "metadata": {},
     "output_type": "execute_result"
    }
   ],
   "source": [
    "import os\n",
    "os.getcwd()"
   ]
  },
  {
   "cell_type": "code",
   "execution_count": 1,
   "metadata": {
    "collapsed": true,
    "jupyter": {
     "outputs_hidden": true
    }
   },
   "outputs": [
    {
     "name": "stdout",
     "output_type": "stream",
     "text": [
      "Requirement already up-to-date: jupyterlab-git in c:\\users\\greym\\anaconda3\\lib\\site-packages (0.20.0)\n",
      "Requirement already satisfied, skipping upgrade: notebook in c:\\users\\greym\\anaconda3\\lib\\site-packages (from jupyterlab-git) (6.0.3)\n",
      "Requirement already satisfied, skipping upgrade: pexpect in c:\\users\\greym\\anaconda3\\lib\\site-packages (from jupyterlab-git) (4.8.0)\n",
      "Requirement already satisfied, skipping upgrade: nbdime~=2.0 in c:\\users\\greym\\anaconda3\\lib\\site-packages (from jupyterlab-git) (2.0.0)\n",
      "Requirement already satisfied, skipping upgrade: ipykernel in c:\\users\\greym\\anaconda3\\lib\\site-packages (from notebook->jupyterlab-git) (5.3.2)\n",
      "Requirement already satisfied, skipping upgrade: Send2Trash in c:\\users\\greym\\anaconda3\\lib\\site-packages (from notebook->jupyterlab-git) (1.5.0)\n",
      "Requirement already satisfied, skipping upgrade: traitlets>=4.2.1 in c:\\users\\greym\\anaconda3\\lib\\site-packages (from notebook->jupyterlab-git) (4.3.3)\n",
      "Requirement already satisfied, skipping upgrade: nbformat in c:\\users\\greym\\anaconda3\\lib\\site-packages (from notebook->jupyterlab-git) (5.0.7)\n",
      "Requirement already satisfied, skipping upgrade: terminado>=0.8.1 in c:\\users\\greym\\anaconda3\\lib\\site-packages (from notebook->jupyterlab-git) (0.8.3)\n",
      "Requirement already satisfied, skipping upgrade: jupyter-core>=4.6.1 in c:\\users\\greym\\anaconda3\\lib\\site-packages (from notebook->jupyterlab-git) (4.6.3)\n",
      "Requirement already satisfied, skipping upgrade: jupyter-client>=5.3.4 in c:\\users\\greym\\anaconda3\\lib\\site-packages (from notebook->jupyterlab-git) (6.1.6)\n",
      "Requirement already satisfied, skipping upgrade: ipython-genutils in c:\\users\\greym\\anaconda3\\lib\\site-packages (from notebook->jupyterlab-git) (0.2.0)\n",
      "Requirement already satisfied, skipping upgrade: pyzmq>=17 in c:\\users\\greym\\anaconda3\\lib\\site-packages (from notebook->jupyterlab-git) (19.0.1)\n",
      "Requirement already satisfied, skipping upgrade: prometheus-client in c:\\users\\greym\\anaconda3\\lib\\site-packages (from notebook->jupyterlab-git) (0.8.0)\n",
      "Requirement already satisfied, skipping upgrade: tornado>=5.0 in c:\\users\\greym\\anaconda3\\lib\\site-packages (from notebook->jupyterlab-git) (6.0.4)\n",
      "Requirement already satisfied, skipping upgrade: nbconvert in c:\\users\\greym\\anaconda3\\lib\\site-packages (from notebook->jupyterlab-git) (5.6.1)\n",
      "Requirement already satisfied, skipping upgrade: jinja2 in c:\\users\\greym\\anaconda3\\lib\\site-packages (from notebook->jupyterlab-git) (2.11.2)\n",
      "Requirement already satisfied, skipping upgrade: ptyprocess>=0.5 in c:\\users\\greym\\anaconda3\\lib\\site-packages (from pexpect->jupyterlab-git) (0.6.0)\n",
      "Requirement already satisfied, skipping upgrade: colorama in c:\\users\\greym\\anaconda3\\lib\\site-packages (from nbdime~=2.0->jupyterlab-git) (0.4.3)\n",
      "Requirement already satisfied, skipping upgrade: requests in c:\\users\\greym\\anaconda3\\lib\\site-packages (from nbdime~=2.0->jupyterlab-git) (2.24.0)\n",
      "Requirement already satisfied, skipping upgrade: pygments in c:\\users\\greym\\anaconda3\\lib\\site-packages (from nbdime~=2.0->jupyterlab-git) (2.6.1)\n",
      "Requirement already satisfied, skipping upgrade: GitPython!=2.1.4,!=2.1.5,!=2.1.6 in c:\\users\\greym\\anaconda3\\lib\\site-packages (from nbdime~=2.0->jupyterlab-git) (3.1.7)\n",
      "Requirement already satisfied, skipping upgrade: six in c:\\users\\greym\\anaconda3\\lib\\site-packages (from nbdime~=2.0->jupyterlab-git) (1.15.0)\n",
      "Requirement already satisfied, skipping upgrade: ipython>=5.0.0 in c:\\users\\greym\\anaconda3\\lib\\site-packages (from ipykernel->notebook->jupyterlab-git) (7.16.1)\n",
      "Requirement already satisfied, skipping upgrade: decorator in c:\\users\\greym\\anaconda3\\lib\\site-packages (from traitlets>=4.2.1->notebook->jupyterlab-git) (4.4.2)\n",
      "Requirement already satisfied, skipping upgrade: jsonschema!=2.5.0,>=2.4 in c:\\users\\greym\\anaconda3\\lib\\site-packages (from nbformat->notebook->jupyterlab-git) (3.2.0)\n",
      "Requirement already satisfied, skipping upgrade: pywin32>=1.0; sys_platform == \"win32\" in c:\\users\\greym\\anaconda3\\lib\\site-packages (from jupyter-core>=4.6.1->notebook->jupyterlab-git) (227)\n",
      "Requirement already satisfied, skipping upgrade: python-dateutil>=2.1 in c:\\users\\greym\\anaconda3\\lib\\site-packages (from jupyter-client>=5.3.4->notebook->jupyterlab-git) (2.8.1)\n",
      "Requirement already satisfied, skipping upgrade: testpath in c:\\users\\greym\\anaconda3\\lib\\site-packages (from nbconvert->notebook->jupyterlab-git) (0.4.4)\n",
      "Requirement already satisfied, skipping upgrade: entrypoints>=0.2.2 in c:\\users\\greym\\anaconda3\\lib\\site-packages (from nbconvert->notebook->jupyterlab-git) (0.3)\n",
      "Requirement already satisfied, skipping upgrade: defusedxml in c:\\users\\greym\\anaconda3\\lib\\site-packages (from nbconvert->notebook->jupyterlab-git) (0.6.0)\n",
      "Requirement already satisfied, skipping upgrade: pandocfilters>=1.4.1 in c:\\users\\greym\\anaconda3\\lib\\site-packages (from nbconvert->notebook->jupyterlab-git) (1.4.2)\n",
      "Requirement already satisfied, skipping upgrade: mistune<2,>=0.8.1 in c:\\users\\greym\\anaconda3\\lib\\site-packages (from nbconvert->notebook->jupyterlab-git) (0.8.4)\n",
      "Requirement already satisfied, skipping upgrade: bleach in c:\\users\\greym\\anaconda3\\lib\\site-packages (from nbconvert->notebook->jupyterlab-git) (3.1.5)\n",
      "Requirement already satisfied, skipping upgrade: MarkupSafe>=0.23 in c:\\users\\greym\\anaconda3\\lib\\site-packages (from jinja2->notebook->jupyterlab-git) (1.1.1)\n",
      "Requirement already satisfied, skipping upgrade: certifi>=2017.4.17 in c:\\users\\greym\\anaconda3\\lib\\site-packages (from requests->nbdime~=2.0->jupyterlab-git) (2020.6.20)\n",
      "Requirement already satisfied, skipping upgrade: idna<3,>=2.5 in c:\\users\\greym\\anaconda3\\lib\\site-packages (from requests->nbdime~=2.0->jupyterlab-git) (2.10)\n",
      "Requirement already satisfied, skipping upgrade: urllib3!=1.25.0,!=1.25.1,<1.26,>=1.21.1 in c:\\users\\greym\\anaconda3\\lib\\site-packages (from requests->nbdime~=2.0->jupyterlab-git) (1.25.9)\n",
      "Requirement already satisfied, skipping upgrade: chardet<4,>=3.0.2 in c:\\users\\greym\\anaconda3\\lib\\site-packages (from requests->nbdime~=2.0->jupyterlab-git) (3.0.4)\n",
      "Requirement already satisfied, skipping upgrade: gitdb<5,>=4.0.1 in c:\\users\\greym\\anaconda3\\lib\\site-packages (from GitPython!=2.1.4,!=2.1.5,!=2.1.6->nbdime~=2.0->jupyterlab-git) (4.0.5)\n",
      "Requirement already satisfied, skipping upgrade: jedi>=0.10 in c:\\users\\greym\\anaconda3\\lib\\site-packages (from ipython>=5.0.0->ipykernel->notebook->jupyterlab-git) (0.17.1)\n",
      "Requirement already satisfied, skipping upgrade: prompt-toolkit!=3.0.0,!=3.0.1,<3.1.0,>=2.0.0 in c:\\users\\greym\\anaconda3\\lib\\site-packages (from ipython>=5.0.0->ipykernel->notebook->jupyterlab-git) (3.0.5)\n",
      "Requirement already satisfied, skipping upgrade: pickleshare in c:\\users\\greym\\anaconda3\\lib\\site-packages (from ipython>=5.0.0->ipykernel->notebook->jupyterlab-git) (0.7.5)\n",
      "Requirement already satisfied, skipping upgrade: backcall in c:\\users\\greym\\anaconda3\\lib\\site-packages (from ipython>=5.0.0->ipykernel->notebook->jupyterlab-git) (0.2.0)\n",
      "Requirement already satisfied, skipping upgrade: setuptools>=18.5 in c:\\users\\greym\\anaconda3\\lib\\site-packages (from ipython>=5.0.0->ipykernel->notebook->jupyterlab-git) (49.2.0.post20200714)\n",
      "Requirement already satisfied, skipping upgrade: pyrsistent>=0.14.0 in c:\\users\\greym\\anaconda3\\lib\\site-packages (from jsonschema!=2.5.0,>=2.4->nbformat->notebook->jupyterlab-git) (0.16.0)\n",
      "Requirement already satisfied, skipping upgrade: attrs>=17.4.0 in c:\\users\\greym\\anaconda3\\lib\\site-packages (from jsonschema!=2.5.0,>=2.4->nbformat->notebook->jupyterlab-git) (19.3.0)\n",
      "Requirement already satisfied, skipping upgrade: webencodings in c:\\users\\greym\\anaconda3\\lib\\site-packages (from bleach->nbconvert->notebook->jupyterlab-git) (0.5.1)\n",
      "Requirement already satisfied, skipping upgrade: packaging in c:\\users\\greym\\anaconda3\\lib\\site-packages (from bleach->nbconvert->notebook->jupyterlab-git) (20.4)\n",
      "Requirement already satisfied, skipping upgrade: smmap<4,>=3.0.1 in c:\\users\\greym\\anaconda3\\lib\\site-packages (from gitdb<5,>=4.0.1->GitPython!=2.1.4,!=2.1.5,!=2.1.6->nbdime~=2.0->jupyterlab-git) (3.0.4)\n",
      "Requirement already satisfied, skipping upgrade: parso<0.8.0,>=0.7.0 in c:\\users\\greym\\anaconda3\\lib\\site-packages (from jedi>=0.10->ipython>=5.0.0->ipykernel->notebook->jupyterlab-git) (0.7.0)\n",
      "Requirement already satisfied, skipping upgrade: wcwidth in c:\\users\\greym\\anaconda3\\lib\\site-packages (from prompt-toolkit!=3.0.0,!=3.0.1,<3.1.0,>=2.0.0->ipython>=5.0.0->ipykernel->notebook->jupyterlab-git) (0.2.5)\n",
      "Requirement already satisfied, skipping upgrade: pyparsing>=2.0.2 in c:\\users\\greym\\anaconda3\\lib\\site-packages (from packaging->bleach->nbconvert->notebook->jupyterlab-git) (2.4.7)\n"
     ]
    }
   ],
   "source": [
    "!pip install --upgrade jupyterlab-git"
   ]
  },
  {
   "cell_type": "code",
   "execution_count": 14,
   "metadata": {},
   "outputs": [
    {
     "data": {
      "text/plain": [
       "['[1', '[12', '[2', '[21']"
      ]
     },
     "execution_count": 14,
     "metadata": {},
     "output_type": "execute_result"
    }
   ],
   "source": [
    "sorted(['[1', '[12', '[21', '[2'])"
   ]
  },
  {
   "cell_type": "code",
   "execution_count": 60,
   "metadata": {},
   "outputs": [
    {
     "data": {
      "text/plain": [
       "['[1', '[2', '[12', '[21']"
      ]
     },
     "execution_count": 60,
     "metadata": {},
     "output_type": "execute_result"
    }
   ],
   "source": [
    "sorted(['[1', '[12', '[21', '[2'], key=lambda x: int(x.strip('[]')))"
   ]
  },
  {
   "cell_type": "code",
   "execution_count": null,
   "metadata": {},
   "outputs": [],
   "source": [
    "word_list = s.split()\n",
    "\n",
    "num_list = [int(num) for num in filter(lambda num: num.isnumeric(), word_list)]\n",
    "\n",
    "print(num_list)"
   ]
  },
  {
   "cell_type": "code",
   "execution_count": 7,
   "metadata": {},
   "outputs": [
    {
     "data": {
      "text/plain": [
       "'-f'"
      ]
     },
     "execution_count": 7,
     "metadata": {},
     "output_type": "execute_result"
    }
   ],
   "source": [
    "import sys\n",
    "sys.argv[1]"
   ]
  },
  {
   "cell_type": "code",
   "execution_count": 17,
   "metadata": {},
   "outputs": [],
   "source": [
    "d = {1.16:'1.2'}"
   ]
  },
  {
   "cell_type": "code",
   "execution_count": 58,
   "metadata": {},
   "outputs": [
    {
     "name": "stdout",
     "output_type": "stream",
     "text": [
      "8. Оценка и декомпозиция\n",
      "digital-проектов\n"
     ]
    }
   ],
   "source": [
    "string = '8. Оценка и декомпозиция digital-проектов'\n",
    "print(string[:20] + string[20:].replace(' ','\\n',1))"
   ]
  },
  {
   "cell_type": "code",
   "execution_count": 63,
   "metadata": {},
   "outputs": [
    {
     "data": {
      "text/plain": [
       "41"
      ]
     },
     "execution_count": 63,
     "metadata": {},
     "output_type": "execute_result"
    }
   ],
   "source": [
    "len(string)"
   ]
  },
  {
   "cell_type": "code",
   "execution_count": 34,
   "metadata": {},
   "outputs": [
    {
     "data": {
      "text/plain": [
       "('/home/sa/somefile', '.txt')"
      ]
     },
     "execution_count": 34,
     "metadata": {},
     "output_type": "execute_result"
    }
   ],
   "source": [
    "import os.path\n",
    "os.path.splitext('/home/sa/somefile.txt')"
   ]
  },
  {
   "cell_type": "code",
   "execution_count": 519,
   "metadata": {},
   "outputs": [
    {
     "data": {
      "text/html": [
       "<div>\n",
       "<style scoped>\n",
       "    .dataframe tbody tr th:only-of-type {\n",
       "        vertical-align: middle;\n",
       "    }\n",
       "\n",
       "    .dataframe tbody tr th {\n",
       "        vertical-align: top;\n",
       "    }\n",
       "\n",
       "    .dataframe thead th {\n",
       "        text-align: right;\n",
       "    }\n",
       "</style>\n",
       "<table border=\"1\" class=\"dataframe\">\n",
       "  <thead>\n",
       "    <tr style=\"text-align: right;\">\n",
       "      <th></th>\n",
       "      <th>col1</th>\n",
       "      <th>col2</th>\n",
       "    </tr>\n",
       "  </thead>\n",
       "  <tbody>\n",
       "    <tr>\n",
       "      <th>0</th>\n",
       "      <td>яблоко</td>\n",
       "      <td>0</td>\n",
       "    </tr>\n",
       "    <tr>\n",
       "      <th>1</th>\n",
       "      <td>груша</td>\n",
       "      <td>1</td>\n",
       "    </tr>\n",
       "    <tr>\n",
       "      <th>2</th>\n",
       "      <td>арбуз</td>\n",
       "      <td>2</td>\n",
       "    </tr>\n",
       "    <tr>\n",
       "      <th>3</th>\n",
       "      <td>дыня</td>\n",
       "      <td>0</td>\n",
       "    </tr>\n",
       "    <tr>\n",
       "      <th>4</th>\n",
       "      <td>виноград</td>\n",
       "      <td>3</td>\n",
       "    </tr>\n",
       "    <tr>\n",
       "      <th>5</th>\n",
       "      <td>арбуз</td>\n",
       "      <td>1</td>\n",
       "    </tr>\n",
       "  </tbody>\n",
       "</table>\n",
       "</div>"
      ],
      "text/plain": [
       "       col1  col2\n",
       "0    яблоко     0\n",
       "1     груша     1\n",
       "2     арбуз     2\n",
       "3      дыня     0\n",
       "4  виноград     3\n",
       "5     арбуз     1"
      ]
     },
     "execution_count": 519,
     "metadata": {},
     "output_type": "execute_result"
    }
   ],
   "source": [
    "import pandas as pd\n",
    "df = pd.DataFrame({'col1':['яблоко','груша','арбуз','дыня','виноград','арбуз'],'col2':[0,1,2,0,3,1]})\n",
    "df"
   ]
  },
  {
   "cell_type": "code",
   "execution_count": 523,
   "metadata": {},
   "outputs": [
    {
     "data": {
      "text/html": [
       "<div>\n",
       "<style scoped>\n",
       "    .dataframe tbody tr th:only-of-type {\n",
       "        vertical-align: middle;\n",
       "    }\n",
       "\n",
       "    .dataframe tbody tr th {\n",
       "        vertical-align: top;\n",
       "    }\n",
       "\n",
       "    .dataframe thead th {\n",
       "        text-align: right;\n",
       "    }\n",
       "</style>\n",
       "<table border=\"1\" class=\"dataframe\">\n",
       "  <thead>\n",
       "    <tr style=\"text-align: right;\">\n",
       "      <th></th>\n",
       "      <th></th>\n",
       "      <th>0</th>\n",
       "    </tr>\n",
       "    <tr>\n",
       "      <th>col1</th>\n",
       "      <th>col2</th>\n",
       "      <th></th>\n",
       "    </tr>\n",
       "  </thead>\n",
       "  <tbody>\n",
       "    <tr>\n",
       "      <th>яблоко</th>\n",
       "      <th>0</th>\n",
       "      <td>1</td>\n",
       "    </tr>\n",
       "    <tr>\n",
       "      <th>дыня</th>\n",
       "      <th>0</th>\n",
       "      <td>1</td>\n",
       "    </tr>\n",
       "    <tr>\n",
       "      <th>груша</th>\n",
       "      <th>1</th>\n",
       "      <td>1</td>\n",
       "    </tr>\n",
       "    <tr>\n",
       "      <th>виноград</th>\n",
       "      <th>3</th>\n",
       "      <td>1</td>\n",
       "    </tr>\n",
       "    <tr>\n",
       "      <th rowspan=\"2\" valign=\"top\">арбуз</th>\n",
       "      <th>2</th>\n",
       "      <td>1</td>\n",
       "    </tr>\n",
       "    <tr>\n",
       "      <th>1</th>\n",
       "      <td>1</td>\n",
       "    </tr>\n",
       "  </tbody>\n",
       "</table>\n",
       "</div>"
      ],
      "text/plain": [
       "               0\n",
       "col1     col2   \n",
       "яблоко   0     1\n",
       "дыня     0     1\n",
       "груша    1     1\n",
       "виноград 3     1\n",
       "арбуз    2     1\n",
       "         1     1"
      ]
     },
     "execution_count": 523,
     "metadata": {},
     "output_type": "execute_result"
    }
   ],
   "source": [
    "df_mod = df.groupby('col2').agg({'col1':'unique'})\n",
    "df.value_counts().to_frame()"
   ]
  },
  {
   "cell_type": "code",
   "execution_count": 553,
   "metadata": {},
   "outputs": [
    {
     "data": {
      "text/html": [
       "<div>\n",
       "<style scoped>\n",
       "    .dataframe tbody tr th:only-of-type {\n",
       "        vertical-align: middle;\n",
       "    }\n",
       "\n",
       "    .dataframe tbody tr th {\n",
       "        vertical-align: top;\n",
       "    }\n",
       "\n",
       "    .dataframe thead th {\n",
       "        text-align: right;\n",
       "    }\n",
       "</style>\n",
       "<table border=\"1\" class=\"dataframe\">\n",
       "  <thead>\n",
       "    <tr style=\"text-align: right;\">\n",
       "      <th></th>\n",
       "      <th>col1</th>\n",
       "    </tr>\n",
       "    <tr>\n",
       "      <th>col2</th>\n",
       "      <th></th>\n",
       "    </tr>\n",
       "  </thead>\n",
       "  <tbody>\n",
       "    <tr>\n",
       "      <th>0</th>\n",
       "      <td>[яблоко, дыня]</td>\n",
       "    </tr>\n",
       "    <tr>\n",
       "      <th>1</th>\n",
       "      <td>[груша, арбуз]</td>\n",
       "    </tr>\n",
       "    <tr>\n",
       "      <th>2</th>\n",
       "      <td>[арбуз]</td>\n",
       "    </tr>\n",
       "    <tr>\n",
       "      <th>3</th>\n",
       "      <td>[виноград]</td>\n",
       "    </tr>\n",
       "  </tbody>\n",
       "</table>\n",
       "</div>"
      ],
      "text/plain": [
       "                col1\n",
       "col2                \n",
       "0     [яблоко, дыня]\n",
       "1     [груша, арбуз]\n",
       "2            [арбуз]\n",
       "3         [виноград]"
      ]
     },
     "execution_count": 553,
     "metadata": {},
     "output_type": "execute_result"
    }
   ],
   "source": [
    "df_mod"
   ]
  },
  {
   "cell_type": "code",
   "execution_count": 537,
   "metadata": {},
   "outputs": [
    {
     "data": {
      "text/plain": [
       "[array(['яблоко', 'дыня'], dtype=object),\n",
       " array(['груша', 'арбуз'], dtype=object),\n",
       " array(['арбуз'], dtype=object),\n",
       " array(['виноград'], dtype=object)]"
      ]
     },
     "execution_count": 537,
     "metadata": {},
     "output_type": "execute_result"
    }
   ],
   "source": [
    "[elem for elem in df_mod.col1]"
   ]
  },
  {
   "cell_type": "code",
   "execution_count": 100,
   "metadata": {},
   "outputs": [
    {
     "data": {
      "text/plain": [
       "(0, 1, 2, 3)"
      ]
     },
     "execution_count": 100,
     "metadata": {},
     "output_type": "execute_result"
    }
   ],
   "source": [
    "tuple(df_mod.index)"
   ]
  },
  {
   "cell_type": "code",
   "execution_count": 549,
   "metadata": {},
   "outputs": [],
   "source": [
    "df_mod1 = pd.DataFrame({'col1': dict(zip(tuple(df_mod.index), (elem for elem in df_mod.col1)))})"
   ]
  },
  {
   "cell_type": "code",
   "execution_count": 551,
   "metadata": {},
   "outputs": [],
   "source": [
    "df_mod1.index.name = 'col2'"
   ]
  },
  {
   "cell_type": "code",
   "execution_count": 552,
   "metadata": {},
   "outputs": [
    {
     "data": {
      "text/html": [
       "<div>\n",
       "<style scoped>\n",
       "    .dataframe tbody tr th:only-of-type {\n",
       "        vertical-align: middle;\n",
       "    }\n",
       "\n",
       "    .dataframe tbody tr th {\n",
       "        vertical-align: top;\n",
       "    }\n",
       "\n",
       "    .dataframe thead th {\n",
       "        text-align: right;\n",
       "    }\n",
       "</style>\n",
       "<table border=\"1\" class=\"dataframe\">\n",
       "  <thead>\n",
       "    <tr style=\"text-align: right;\">\n",
       "      <th></th>\n",
       "      <th>col1</th>\n",
       "    </tr>\n",
       "    <tr>\n",
       "      <th>col2</th>\n",
       "      <th></th>\n",
       "    </tr>\n",
       "  </thead>\n",
       "  <tbody>\n",
       "    <tr>\n",
       "      <th>0</th>\n",
       "      <td>[яблоко, дыня]</td>\n",
       "    </tr>\n",
       "    <tr>\n",
       "      <th>1</th>\n",
       "      <td>[груша, арбуз]</td>\n",
       "    </tr>\n",
       "    <tr>\n",
       "      <th>2</th>\n",
       "      <td>[арбуз]</td>\n",
       "    </tr>\n",
       "    <tr>\n",
       "      <th>3</th>\n",
       "      <td>[виноград]</td>\n",
       "    </tr>\n",
       "  </tbody>\n",
       "</table>\n",
       "</div>"
      ],
      "text/plain": [
       "                col1\n",
       "col2                \n",
       "0     [яблоко, дыня]\n",
       "1     [груша, арбуз]\n",
       "2            [арбуз]\n",
       "3         [виноград]"
      ]
     },
     "execution_count": 552,
     "metadata": {},
     "output_type": "execute_result"
    }
   ],
   "source": [
    "df_mod1"
   ]
  },
  {
   "cell_type": "code",
   "execution_count": 300,
   "metadata": {},
   "outputs": [
    {
     "data": {
      "text/plain": [
       "['1.gjll',\n",
       " '2.fkgjg',\n",
       " '3.fkgkkg',\n",
       " '101.fkfkf',\n",
       " '21.feiiogq',\n",
       " '31.eiqot',\n",
       " '201.dkkd',\n",
       " '12.fksls']"
      ]
     },
     "execution_count": 300,
     "metadata": {},
     "output_type": "execute_result"
    }
   ],
   "source": [
    "# sorter = lambda txt: int(''.join([letter for letter in list(txt)[:5] if letter.isdigit()]))\n",
    "\n",
    "sorted(['1.gjll',\n",
    "'2.fkgjg',\n",
    "'3.fkgkkg',\n",
    "'101.fkfkf',\n",
    "'21.feiiogq',\n",
    "'31.eiqot',\n",
    "'201.dkkd',\n",
    "'12.fksls'], key=lambda x: int(not x.isalpha()))"
   ]
  },
  {
   "cell_type": "code",
   "execution_count": 258,
   "metadata": {},
   "outputs": [
    {
     "data": {
      "text/plain": [
       "True"
      ]
     },
     "execution_count": 258,
     "metadata": {},
     "output_type": "execute_result"
    }
   ],
   "source": [
    "bool(str.isdigit)"
   ]
  },
  {
   "cell_type": "code",
   "execution_count": 242,
   "metadata": {},
   "outputs": [
    {
     "name": "stdout",
     "output_type": "stream",
     "text": [
      "1\n",
      "2\n",
      "3\n",
      "11\n",
      "21\n",
      "31\n",
      "12\n"
     ]
    }
   ],
   "source": [
    "for i in ['1.gjll',\n",
    "'2.fkgjg',\n",
    "'3.fkgkkg',\n",
    "'11.fkfkf',\n",
    "'21.feiiogq',\n",
    "'31.eiqot',\n",
    "'12.fksls']:\n",
    "    print(sorter(i))"
   ]
  },
  {
   "cell_type": "code",
   "execution_count": 303,
   "metadata": {},
   "outputs": [
    {
     "data": {
      "text/plain": [
       "15"
      ]
     },
     "execution_count": 303,
     "metadata": {},
     "output_type": "execute_result"
    }
   ],
   "source": [
    "def sum_numbers(n):\n",
    "    if n == 1:\n",
    "        return 1\n",
    "    return sum_numbers(n-1) + n\n",
    "\n",
    "sum_numbers(5)"
   ]
  },
  {
   "cell_type": "code",
   "execution_count": 32,
   "metadata": {},
   "outputs": [
    {
     "data": {
      "text/plain": [
       "True"
      ]
     },
     "execution_count": 32,
     "metadata": {},
     "output_type": "execute_result"
    }
   ],
   "source": [
    "def is_equal(elems: list) -> bool:\n",
    "    return len({sum(int(num) for num in str(elem)) for elem in elems})<2\n",
    "\n",
    "\n",
    "is_equal([0, 0])"
   ]
  },
  {
   "cell_type": "code",
   "execution_count": 45,
   "metadata": {},
   "outputs": [
    {
     "data": {
      "text/plain": [
       "True"
      ]
     },
     "execution_count": 45,
     "metadata": {},
     "output_type": "execute_result"
    }
   ],
   "source": [
    "def is_equal(elems: list) -> bool:\n",
    "    return len({sum(map(int, str(elem))) for elem in elems})<2\n",
    "\n",
    "\n",
    "is_equal([541, 91])"
   ]
  },
  {
   "cell_type": "code",
   "execution_count": 69,
   "metadata": {},
   "outputs": [
    {
     "name": "stdin",
     "output_type": "stream",
     "text": [
      " 6\n"
     ]
    },
    {
     "name": "stdout",
     "output_type": "stream",
     "text": [
      "1 \n",
      "2 3 \n",
      "3 4 5 \n",
      "4 5 6 7 \n",
      "5 6 7 8 9 \n",
      "6 7 8 9 10 11 \n",
      "7 8 9 10 11 12 13 \n"
     ]
    }
   ],
   "source": [
    "n = int(input())\n",
    "j = 0\n",
    "for i in range(1, n+2):\n",
    "    for j in range(1, i+1):\n",
    "        print(i+j-1, end=' ')\n",
    "    print()"
   ]
  },
  {
   "cell_type": "code",
   "execution_count": 78,
   "metadata": {},
   "outputs": [
    {
     "name": "stdin",
     "output_type": "stream",
     "text": [
      " 6\n"
     ]
    },
    {
     "name": "stdout",
     "output_type": "stream",
     "text": [
      "1\n",
      "2 3\n",
      "4 5 6\n",
      "7 8 9 10\n",
      "11 12 13 14 15\n",
      "16 17 18 19 20 21\n"
     ]
    },
    {
     "data": {
      "text/plain": [
       "[None, None, None, None, None, None]"
      ]
     },
     "execution_count": 78,
     "metadata": {},
     "output_type": "execute_result"
    }
   ],
   "source": [
    "[print(*range(sum(range(i), 1), sum(range(i), 1 + i))) for i in range(1, int(input()) + 1)]"
   ]
  },
  {
   "cell_type": "code",
   "execution_count": 38,
   "metadata": {},
   "outputs": [
    {
     "data": {
      "text/plain": [
       "False"
      ]
     },
     "execution_count": 38,
     "metadata": {},
     "output_type": "execute_result"
    }
   ],
   "source": [
    "def is_equal2(elems: list) -> bool:\n",
    "    return sum(map(int, str(elems[0]))) == sum(map(int, str(elems[1])))\n",
    "\n",
    "is_equal2([105, 41])"
   ]
  },
  {
   "cell_type": "code",
   "execution_count": 133,
   "metadata": {},
   "outputs": [
    {
     "data": {
      "text/plain": [
       "False"
      ]
     },
     "execution_count": 133,
     "metadata": {},
     "output_type": "execute_result"
    }
   ],
   "source": [
    "is_equal = lambda elems: len({sum(int(num) for num in str(elem)) for elem in elems})<2\n",
    "\n",
    "\n",
    "is_equal([2727, 27])"
   ]
  },
  {
   "cell_type": "code",
   "execution_count": 138,
   "metadata": {},
   "outputs": [
    {
     "data": {
      "text/plain": [
       "array([2, 1])"
      ]
     },
     "execution_count": 138,
     "metadata": {},
     "output_type": "execute_result"
    }
   ],
   "source": [
    "# import numpy as np\n",
    "np.array([1, 2, 3])[[1,0]]"
   ]
  },
  {
   "cell_type": "code",
   "execution_count": 83,
   "metadata": {},
   "outputs": [
    {
     "data": {
      "text/plain": [
       "<function __main__.<lambda>(row)>"
      ]
     },
     "execution_count": 83,
     "metadata": {},
     "output_type": "execute_result"
    }
   ],
   "source": [
    "lambda row: float(row) if all([num.isdigit() for num in row.partition('.')[::2]]) else np.nan"
   ]
  },
  {
   "cell_type": "code",
   "execution_count": 81,
   "metadata": {},
   "outputs": [
    {
     "data": {
      "text/plain": [
       "('124', '.', '5.5.45885.4')"
      ]
     },
     "execution_count": 81,
     "metadata": {},
     "output_type": "execute_result"
    }
   ],
   "source": [
    "'124.5.5.45885.4'.partition('.')"
   ]
  },
  {
   "cell_type": "code",
   "execution_count": 168,
   "metadata": {},
   "outputs": [
    {
     "data": {
      "text/plain": [
       "[2, 4, 6, 8]"
      ]
     },
     "execution_count": 168,
     "metadata": {},
     "output_type": "execute_result"
    }
   ],
   "source": [
    "find_even_nums = lambda n: [num for num in range(1, n+1) if not num%2] \n",
    "find_even_nums(8)"
   ]
  },
  {
   "cell_type": "code",
   "execution_count": 266,
   "metadata": {},
   "outputs": [
    {
     "data": {
      "text/plain": [
       "{1, 2, 3, 4, 5, 8, 9, 10, 11, 12, 15, 16, 17, 18, 19}"
      ]
     },
     "execution_count": 266,
     "metadata": {},
     "output_type": "execute_result"
    }
   ],
   "source": [
    "{day for day in range(1,20) if day%7 and (day+1)%7}"
   ]
  },
  {
   "cell_type": "code",
   "execution_count": 273,
   "metadata": {},
   "outputs": [],
   "source": [
    "a_i, b_i, n = 9, 8, 19"
   ]
  },
  {
   "cell_type": "code",
   "execution_count": 275,
   "metadata": {},
   "outputs": [
    {
     "data": {
      "text/plain": [
       "{9, 17}"
      ]
     },
     "execution_count": 275,
     "metadata": {},
     "output_type": "execute_result"
    }
   ],
   "source": [
    "{day for day in range(a_i,n+1) if not (day-a_i)%b_i}"
   ]
  },
  {
   "cell_type": "code",
   "execution_count": 185,
   "metadata": {},
   "outputs": [
    {
     "data": {
      "text/plain": [
       "[1, 2, 5, 10, 14, 24, 50, 79, 199, 799, 5544]"
      ]
     },
     "execution_count": 185,
     "metadata": {},
     "output_type": "execute_result"
    }
   ],
   "source": [
    "A = set([2, 5, 799, 10, 2, 5544, 50, 14, 199, 1, 24, 79])\n",
    "sorted(A)"
   ]
  },
  {
   "cell_type": "code",
   "execution_count": 276,
   "metadata": {},
   "outputs": [],
   "source": [
    "Capitals = dict(zip([\"Russia\", \"Ukraine\", 1], [\"Moscow\", \"Kiev\", \"Washington\"]))"
   ]
  },
  {
   "cell_type": "code",
   "execution_count": 289,
   "metadata": {},
   "outputs": [
    {
     "data": {
      "text/plain": [
       "1"
      ]
     },
     "execution_count": 289,
     "metadata": {},
     "output_type": "execute_result"
    }
   ],
   "source": [
    "list(Capitals.values()).count('Moscow')"
   ]
  },
  {
   "cell_type": "code",
   "execution_count": 572,
   "metadata": {},
   "outputs": [
    {
     "name": "stdout",
     "output_type": "stream",
     "text": [
      "                                                                                                   5:02:01\n"
     ]
    }
   ],
   "source": [
    "print(f'{5:100}:{2:02}:{1:02}')"
   ]
  },
  {
   "cell_type": "code",
   "execution_count": 432,
   "metadata": {},
   "outputs": [
    {
     "name": "stdout",
     "output_type": "stream",
     "text": [
      "30-08-2020\n"
     ]
    }
   ],
   "source": [
    "import re\n",
    "\n",
    "def data_reformer(input_date):\n",
    "    parse_date = re.findall(r\"\\b([0-9]{4})[-/:]([0-9]{2})[-/:]([0-9]{2})\\b\", input_date)\n",
    "    if parse_date:\n",
    "        is_true_month = parse_date[0][1] in [f'{month:02}' for month in range(1,13)]\n",
    "        is_true_day = parse_date[0][2] in [f'{day:02}' for day in range(1,32)]\n",
    "        conditions = all([is_true_month, is_true_day])\n",
    "    else:\n",
    "        conditions = False\n",
    "    if conditions:\n",
    "        output_date = '-'.join(reversed(parse_date[0]))\n",
    "        return output_date\n",
    "    else:\n",
    "        return \"дата некорректна\"\n",
    "\n",
    "\n",
    "input_date = '2020-08-30'\n",
    "print(data_reformer(input_date))"
   ]
  },
  {
   "cell_type": "code",
   "execution_count": 394,
   "metadata": {},
   "outputs": [
    {
     "data": {
      "text/plain": [
       "'3-2-1'"
      ]
     },
     "execution_count": 394,
     "metadata": {},
     "output_type": "execute_result"
    }
   ],
   "source": [
    "d = reversed(('1', '2', '3'))\n",
    "'-'.join(d)"
   ]
  },
  {
   "cell_type": "code",
   "execution_count": 419,
   "metadata": {},
   "outputs": [
    {
     "data": {
      "text/plain": [
       "('2020', '08', '30')"
      ]
     },
     "execution_count": 419,
     "metadata": {},
     "output_type": "execute_result"
    }
   ],
   "source": [
    "parse_date[0]"
   ]
  },
  {
   "cell_type": "code",
   "execution_count": 413,
   "metadata": {},
   "outputs": [
    {
     "data": {
      "text/plain": [
       "'02'"
      ]
     },
     "execution_count": 413,
     "metadata": {},
     "output_type": "execute_result"
    }
   ],
   "source": [
    "f'{2:02}'"
   ]
  },
  {
   "cell_type": "code",
   "execution_count": 13,
   "metadata": {},
   "outputs": [
    {
     "data": {
      "text/plain": [
       "['1', '285599']"
      ]
     },
     "execution_count": 13,
     "metadata": {},
     "output_type": "execute_result"
    }
   ],
   "source": [
    "\"1.285599\".split('.', 1)"
   ]
  },
  {
   "cell_type": "code",
   "execution_count": 90,
   "metadata": {},
   "outputs": [
    {
     "data": {
      "text/plain": [
       "('04.03.2016', '10:53')"
      ]
     },
     "execution_count": 90,
     "metadata": {},
     "output_type": "execute_result"
    }
   ],
   "source": [
    "import re\n",
    "\n",
    "txt = \"04.03.2016, 10:53\"\n",
    "x = re.match('(\\d{2}\\.\\d{2}\\.\\d{4}), (\\d{2}:\\d{2})', txt)\n",
    "x.groups()"
   ]
  },
  {
   "cell_type": "code",
   "execution_count": 91,
   "metadata": {},
   "outputs": [
    {
     "data": {
      "text/plain": [
       "['04.03.2016', '10:53']"
      ]
     },
     "execution_count": 91,
     "metadata": {},
     "output_type": "execute_result"
    }
   ],
   "source": [
    "txt = \"04.03.2016, 10:53\"\n",
    "txt.split(', ')"
   ]
  },
  {
   "cell_type": "code",
   "execution_count": 76,
   "metadata": {},
   "outputs": [
    {
     "data": {
      "text/plain": [
       "'775276'"
      ]
     },
     "execution_count": 76,
     "metadata": {},
     "output_type": "execute_result"
    }
   ],
   "source": [
    "txt[x.start():x.end()]"
   ]
  },
  {
   "cell_type": "code",
   "execution_count": 68,
   "metadata": {},
   "outputs": [
    {
     "data": {
      "text/plain": [
       "Timestamp('2017-04-15 00:00:00')"
      ]
     },
     "execution_count": 68,
     "metadata": {},
     "output_type": "execute_result"
    }
   ],
   "source": [
    "import pandas as pd\n",
    "\n",
    "date = pd.Timestamp(year=2017, month=4, day=15)\n",
    "date"
   ]
  },
  {
   "cell_type": "code",
   "execution_count": 70,
   "metadata": {},
   "outputs": [
    {
     "data": {
      "text/plain": [
       "datetime.date(2017, 4, 15)"
      ]
     },
     "execution_count": 70,
     "metadata": {},
     "output_type": "execute_result"
    }
   ],
   "source": [
    "date.date()"
   ]
  },
  {
   "cell_type": "code",
   "execution_count": 74,
   "metadata": {},
   "outputs": [
    {
     "data": {
      "text/plain": [
       "'15-04-2017'"
      ]
     },
     "execution_count": 74,
     "metadata": {},
     "output_type": "execute_result"
    }
   ],
   "source": [
    "date.strftime('%d-%m-%Y')"
   ]
  },
  {
   "cell_type": "code",
   "execution_count": 18,
   "metadata": {},
   "outputs": [],
   "source": [
    "import pandas as pd\n",
    "df = pd.DataFrame({'A':['foo', 'bar', 'baz', 'zoo'], 'B':[1, 2, 3, 4], 'C':[5, 6, 7, 8]})"
   ]
  },
  {
   "cell_type": "code",
   "execution_count": 43,
   "metadata": {},
   "outputs": [],
   "source": [
    "df = df.groupby('A').agg({'B':lambda x : x, 'C':['mean', 'median']})"
   ]
  },
  {
   "cell_type": "code",
   "execution_count": 53,
   "metadata": {},
   "outputs": [
    {
     "data": {
      "text/plain": [
       "A\n",
       "bar    6\n",
       "baz    7\n",
       "foo    5\n",
       "zoo    8\n",
       "Name: (C, median), dtype: int64"
      ]
     },
     "execution_count": 53,
     "metadata": {},
     "output_type": "execute_result"
    }
   ],
   "source": [
    "df.loc[:, ('C','median')]"
   ]
  },
  {
   "cell_type": "code",
   "execution_count": 56,
   "metadata": {},
   "outputs": [
    {
     "data": {
      "text/plain": [
       "A\n",
       "bar    6\n",
       "baz    7\n",
       "foo    5\n",
       "zoo    8\n",
       "Name: median, dtype: int64"
      ]
     },
     "execution_count": 56,
     "metadata": {},
     "output_type": "execute_result"
    }
   ],
   "source": [
    "df['C']['median']"
   ]
  },
  {
   "cell_type": "code",
   "execution_count": 58,
   "metadata": {},
   "outputs": [
    {
     "data": {
      "text/plain": [
       "A\n",
       "bar    6\n",
       "baz    7\n",
       "foo    5\n",
       "zoo    8\n",
       "Name: (C, median), dtype: int64"
      ]
     },
     "execution_count": 58,
     "metadata": {},
     "output_type": "execute_result"
    }
   ],
   "source": [
    "df['C', 'median']"
   ]
  },
  {
   "cell_type": "code",
   "execution_count": 123,
   "metadata": {},
   "outputs": [
    {
     "data": {
      "text/plain": [
       "Index(['bar', 'baz', 'foo', 'zoo'], dtype='object', name='A')"
      ]
     },
     "execution_count": 123,
     "metadata": {},
     "output_type": "execute_result"
    }
   ],
   "source": [
    "df.index"
   ]
  },
  {
   "cell_type": "code",
   "execution_count": 14,
   "metadata": {},
   "outputs": [
    {
     "data": {
      "text/plain": [
       "MultiIndex([('B', 'C')],\n",
       "           )"
      ]
     },
     "execution_count": 14,
     "metadata": {},
     "output_type": "execute_result"
    }
   ],
   "source": [
    "pd.MultiIndex.from_product([['B'], ['C']])"
   ]
  },
  {
   "cell_type": "code",
   "execution_count": 116,
   "metadata": {},
   "outputs": [
    {
     "data": {
      "text/plain": [
       "0"
      ]
     },
     "execution_count": 116,
     "metadata": {},
     "output_type": "execute_result"
    }
   ],
   "source": [
    "def largest_even(test_list):\n",
    "    evens = []\n",
    "    max_even = -1\n",
    "    for elem in test_list:\n",
    "        if not elem % 2:\n",
    "            evens.append(elem)\n",
    "    if evens:\n",
    "        for even in evens:\n",
    "            if even > max_even:\n",
    "                max_even = even\n",
    "        return max_even\n",
    "    else:\n",
    "        return -1\n",
    "    \n",
    "    \n",
    "largest_even([0, 19, 18973623])"
   ]
  },
  {
   "cell_type": "code",
   "execution_count": 118,
   "metadata": {},
   "outputs": [
    {
     "name": "stdout",
     "output_type": "stream",
     "text": [
      "0\n"
     ]
    }
   ],
   "source": [
    "def largest_even(test_list):\n",
    "    max_dct = dict(max_even=-1)\n",
    "    evens = [elem for elem in test_list if not elem % 2]\n",
    "    max_dct = {'max_even':even for even in evens if even > max_dct['max_even']}\n",
    "    return max_dct.get('max_even', -1)\n",
    "\n",
    "    \n",
    "print(largest_even([0, 19, 18973623]))"
   ]
  },
  {
   "cell_type": "code",
   "execution_count": 151,
   "metadata": {},
   "outputs": [
    {
     "name": "stdout",
     "output_type": "stream",
     "text": [
      "('D:\\\\Курсы\\\\Skillbox\\\\Data Science\\\\16. Чтение и запись данных ч.1\\\\Dzhumurat', ['.ipynb_checkpoints', 'data', 'hw#14(16)'], ['14_data_.zip', '7_4_Работа_с_данными_формата_HTML_Для_нового_сайта.ipynb', 'dicts_help.ipynb', 'Dzhumurat.rar', 'jun_anl_read_data1.ipynb', 'jun_anl_read_data1_hw-extra_reading.ipynb', 'jun_anl_read_data1_les-1.ipynb', 'jun_anl_read_data1_les-2.ipynb', 'jun_anl_read_data1_les-3.ipynb', 'jun_anl_read_data1_les-4.ipynb', 'jun_anl_read_data1_les-5.ipynb', 'jun_anl_read_data1_les-6.ipynb', 'Untitled.ipynb', 'Чтение и запись данных часть 1.zip'])\n",
      "('D:\\\\Курсы\\\\Skillbox\\\\Data Science\\\\16. Чтение и запись данных ч.1\\\\Dzhumurat\\\\.ipynb_checkpoints', [], ['Untitled-checkpoint.ipynb'])\n",
      "('D:\\\\Курсы\\\\Skillbox\\\\Data Science\\\\16. Чтение и запись данных ч.1\\\\Dzhumurat\\\\data', [], ['Analytics_Junior.xlsx', 'task.csv', 'uwsgi.log', 'xml_content_description.xml'])\n",
      "('D:\\\\Курсы\\\\Skillbox\\\\Data Science\\\\16. Чтение и запись данных ч.1\\\\Dzhumurat\\\\hw#14(16)', ['out'], ['jun_anl_read_data1_hw.ipynb'])\n",
      "('D:\\\\Курсы\\\\Skillbox\\\\Data Science\\\\16. Чтение и запись данных ч.1\\\\Dzhumurat\\\\hw#14(16)\\\\out', ['.ipynb_checkpoints'], ['movies.csv'])\n",
      "('D:\\\\Курсы\\\\Skillbox\\\\Data Science\\\\16. Чтение и запись данных ч.1\\\\Dzhumurat\\\\hw#14(16)\\\\out\\\\.ipynb_checkpoints', [], ['movies-checkpoint.csv'])\n"
     ]
    }
   ],
   "source": [
    "import os\n",
    "# os.fspath(os.getcwd())\n",
    "for path in os.walk(os.getcwd()):\n",
    "    print(path)"
   ]
  },
  {
   "cell_type": "code",
   "execution_count": 165,
   "metadata": {},
   "outputs": [
    {
     "data": {
      "text/plain": [
       "'D:\\\\Курсы\\\\Skillbox\\\\Data Science'"
      ]
     },
     "execution_count": 165,
     "metadata": {},
     "output_type": "execute_result"
    }
   ],
   "source": [
    "os.getcwd()"
   ]
  },
  {
   "cell_type": "code",
   "execution_count": 161,
   "metadata": {},
   "outputs": [
    {
     "name": "stdout",
     "output_type": "stream",
     "text": [
      "D:\\Курсы\\Skillbox\\Data Science\n"
     ]
    }
   ],
   "source": [
    "cd .."
   ]
  },
  {
   "cell_type": "code",
   "execution_count": 167,
   "metadata": {},
   "outputs": [
    {
     "data": {
      "text/plain": [
       "'D:\\\\Курсы\\\\Skillbox\\\\Data Science.\\\\hw#'"
      ]
     },
     "execution_count": 167,
     "metadata": {},
     "output_type": "execute_result"
    }
   ],
   "source": [
    "os.getcwd() + '.\\hw#'"
   ]
  },
  {
   "cell_type": "code",
   "execution_count": null,
   "metadata": {},
   "outputs": [],
   "source": [
    "glob.glob()"
   ]
  },
  {
   "cell_type": "code",
   "execution_count": 14,
   "metadata": {},
   "outputs": [],
   "source": [
    "import os, sys, glob, re\n",
    "\n",
    "path = re.search(r'.*Data Science', sys.path[0]).group() # путь базовой директории\n",
    "dirs = glob.glob(path + '/**/hw#*', recursive=True) # список всех поддиректорий рекурсивно\n",
    "for dr in dirs:\n",
    "    numReg = re.compile(r'(\\d+)[(](\\d+)') # регулярка для поиска директорий с домашками\n",
    "    num1, num2 = map(int, numReg.search(dr).groups()) # вытаскиваем нумерацию\n",
    "    new_dir = numReg.sub(f'{num1+1 if num1 not in [1,2,3,4,5] else num1}({num2}', dr) # новый путь и название директории\n",
    "    os.rename(dr, new_dir) # переименовываем директорию"
   ]
  },
  {
   "cell_type": "code",
   "execution_count": 16,
   "metadata": {},
   "outputs": [
    {
     "data": {
      "text/plain": [
       "['D:\\\\Курсы\\\\Skillbox\\\\Data Science\\\\01. Введение в Data Science\\\\hw#1(1)',\n",
       " 'D:\\\\Курсы\\\\Skillbox\\\\Data Science\\\\01. Введение в Data Science\\\\hw#2(1)',\n",
       " 'D:\\\\Курсы\\\\Skillbox\\\\Data Science\\\\02. Введение в Python\\\\hw#3(2)',\n",
       " 'D:\\\\Курсы\\\\Skillbox\\\\Data Science\\\\03-9. Основы Python\\\\hw#4(4)',\n",
       " 'D:\\\\Курсы\\\\Skillbox\\\\Data Science\\\\03-9. Основы Python\\\\hw#5(5)',\n",
       " 'D:\\\\Курсы\\\\Skillbox\\\\Data Science\\\\03-9. Основы Python\\\\hw#6(6)',\n",
       " 'D:\\\\Курсы\\\\Skillbox\\\\Data Science\\\\03-9. Основы Python\\\\hw#8(8)',\n",
       " 'D:\\\\Курсы\\\\Skillbox\\\\Data Science\\\\03-9. Основы Python\\\\hw#9(9)',\n",
       " 'D:\\\\Курсы\\\\Skillbox\\\\Data Science\\\\07. Мастер-класс_воронки\\\\hw#7(7)',\n",
       " 'D:\\\\Курсы\\\\Skillbox\\\\Data Science\\\\10-11. Билбиотека NumPy ч.1-2\\\\hw#10(10)',\n",
       " 'D:\\\\Курсы\\\\Skillbox\\\\Data Science\\\\10-11. Билбиотека NumPy ч.1-2\\\\hw#11(11)',\n",
       " 'D:\\\\Курсы\\\\Skillbox\\\\Data Science\\\\12-13. Билбиотека Pandas ч.1-2\\\\hw#12(12)',\n",
       " 'D:\\\\Курсы\\\\Skillbox\\\\Data Science\\\\12-13. Билбиотека Pandas ч.1-2\\\\hw#13(13)',\n",
       " 'D:\\\\Курсы\\\\Skillbox\\\\Data Science\\\\14. Визуализация данных с помощью Matplotlib\\\\hw#14(14)',\n",
       " 'D:\\\\Курсы\\\\Skillbox\\\\Data Science\\\\15. Мастер класс разведочный анализ (EDA)\\\\hw#15(15)',\n",
       " 'D:\\\\Курсы\\\\Skillbox\\\\Data Science\\\\16. Чтение и запись данных ч.1\\\\hw#16(16)',\n",
       " 'D:\\\\Курсы\\\\Skillbox\\\\Data Science\\\\16. Чтение и запись данных ч.1\\\\Dzhumurat\\\\hw#16(16)',\n",
       " 'D:\\\\Курсы\\\\Skillbox\\\\Data Science\\\\17. Основы SQL\\\\hw#17(17)',\n",
       " 'D:\\\\Курсы\\\\Skillbox\\\\Data Science\\\\18. Чтение и запись данных ч.2\\\\hw#18(18)',\n",
       " 'D:\\\\Курсы\\\\Skillbox\\\\Data Science\\\\18. Чтение и запись данных ч.2\\\\Dzhumurat\\\\hw#18(18)',\n",
       " 'D:\\\\Курсы\\\\Skillbox\\\\Data Science\\\\19. Работа со строками\\\\hw#19(19)']"
      ]
     },
     "execution_count": 16,
     "metadata": {},
     "output_type": "execute_result"
    }
   ],
   "source": [
    "import os, sys, glob, re\n",
    "\n",
    "path = re.search(r'.*Data Science', sys.path[0]).group() # путь базовой директории\n",
    "glob.glob(path + '/**/hw#*', recursive=True)"
   ]
  },
  {
   "cell_type": "code",
   "execution_count": 410,
   "metadata": {},
   "outputs": [],
   "source": [
    "p = 'D:\\\\Курсы\\\\Skillbox\\\\Data Science\\\\19. Работа со строками\\\\hw#17(19)'"
   ]
  },
  {
   "cell_type": "code",
   "execution_count": 573,
   "metadata": {},
   "outputs": [
    {
     "data": {
      "text/plain": [
       "['.ipynb_checkpoints',\n",
       " '01. Введение в Data Science',\n",
       " '02. Введение в Python',\n",
       " '03-9. Основы Python',\n",
       " '07. Мастер-класс_воронки',\n",
       " '10-11. Билбиотека NumPy ч.1-2',\n",
       " '12-13. Билбиотека Pandas ч.1-2',\n",
       " '14. Визуализация данных с помощью Matplotlib',\n",
       " '15. Мастер класс разведочный анализ (EDA)',\n",
       " '16. Чтение и запись данных ч.1',\n",
       " '17. Основы SQL',\n",
       " '18. Чтение и запись данных ч.2',\n",
       " '19. Работа со строками',\n",
       " '26 tricks .ipynb',\n",
       " 'Coursework#1',\n",
       " 'Coursework#2',\n",
       " 'Current task-resolver.ipynb',\n",
       " 'data_science',\n",
       " 'Dicts.pdf',\n",
       " 'Instructions.ipynb',\n",
       " 'Ivan Baumanec',\n",
       " 'Matrix_transpose.ipynb',\n",
       " 'renamer.ipynb',\n",
       " 'Strings_tricks.html',\n",
       " 'Strings_tricks.ipynb',\n",
       " 'Strings_tricks.pdf',\n",
       " 'классы и объекты.jpg',\n",
       " 'Профессия_Data_Scientist.pdf',\n",
       " 'Профессия_Data_Scientist_.pdf',\n",
       " 'Словари,_логические_выражения,_итераторы.ipynb']"
      ]
     },
     "execution_count": 573,
     "metadata": {},
     "output_type": "execute_result"
    }
   ],
   "source": [
    "os.listdir(path)"
   ]
  },
  {
   "cell_type": "code",
   "execution_count": 577,
   "metadata": {},
   "outputs": [
    {
     "data": {
      "text/plain": [
       "'D:\\\\Курсы\\\\Skillbox\\\\Data Science\\\\Dicts.pdf'"
      ]
     },
     "execution_count": 577,
     "metadata": {},
     "output_type": "execute_result"
    }
   ],
   "source": [
    "os.path.join(path, 'Dicts.pdf')"
   ]
  },
  {
   "cell_type": "code",
   "execution_count": 579,
   "metadata": {},
   "outputs": [
    {
     "data": {
      "text/plain": [
       "'D:\\\\Курсы\\\\Skillbox\\\\Data Science\\\\Dicts.pdf'"
      ]
     },
     "execution_count": 579,
     "metadata": {},
     "output_type": "execute_result"
    }
   ],
   "source": [
    "path + '\\\\Dicts.pdf'"
   ]
  },
  {
   "cell_type": "code",
   "execution_count": 459,
   "metadata": {},
   "outputs": [],
   "source": [
    "import os, sys, glob, re"
   ]
  },
  {
   "cell_type": "code",
   "execution_count": 414,
   "metadata": {},
   "outputs": [],
   "source": [
    "numReg = re.compile(r'(\\d+).(\\d+)')"
   ]
  },
  {
   "cell_type": "code",
   "execution_count": 415,
   "metadata": {},
   "outputs": [
    {
     "data": {
      "text/plain": [
       "'D:\\\\Курсы\\\\Skillbox\\\\Data Science\\\\19. Работа со строками\\\\hw#19(20)'"
      ]
     },
     "execution_count": 415,
     "metadata": {},
     "output_type": "execute_result"
    }
   ],
   "source": [
    "numReg.sub(f'{19}({20}', p)"
   ]
  },
  {
   "cell_type": "code",
   "execution_count": 412,
   "metadata": {},
   "outputs": [
    {
     "data": {
      "text/plain": [
       "'D:\\\\Курсы\\\\Skillbox\\\\Data Science\\\\19. Работа со строками\\\\hw#19(20)'"
      ]
     },
     "execution_count": 412,
     "metadata": {},
     "output_type": "execute_result"
    }
   ],
   "source": [
    "re.sub(r'(\\d+).(\\d+)', f'{19}({20}', p)"
   ]
  },
  {
   "cell_type": "code",
   "execution_count": 468,
   "metadata": {},
   "outputs": [],
   "source": [
    "p1 = os.chdir(sys.path[0])"
   ]
  },
  {
   "cell_type": "code",
   "execution_count": 466,
   "metadata": {},
   "outputs": [
    {
     "data": {
      "text/plain": [
       "'D:\\\\Курсы\\\\Skillbox\\\\Data Science\\\\16. Чтение и запись данных ч.1\\\\Dzhumurat'"
      ]
     },
     "execution_count": 466,
     "metadata": {},
     "output_type": "execute_result"
    }
   ],
   "source": [
    "os.getcwd()"
   ]
  },
  {
   "cell_type": "code",
   "execution_count": 470,
   "metadata": {},
   "outputs": [
    {
     "data": {
      "text/plain": [
       "[('17', '19')]"
      ]
     },
     "execution_count": 470,
     "metadata": {},
     "output_type": "execute_result"
    }
   ],
   "source": [
    "re.findall(r'(\\d+)[(](\\d+)', dirs[-1])"
   ]
  },
  {
   "cell_type": "code",
   "execution_count": 417,
   "metadata": {},
   "outputs": [
    {
     "data": {
      "text/plain": [
       "'D:\\\\Курсы\\\\Skillbox\\\\Data Science'"
      ]
     },
     "execution_count": 417,
     "metadata": {},
     "output_type": "execute_result"
    }
   ],
   "source": [
    "sys.path[0].split('Data Science')[0] + 'Data Science'"
   ]
  },
  {
   "cell_type": "code",
   "execution_count": 423,
   "metadata": {},
   "outputs": [
    {
     "data": {
      "text/plain": [
       "'D:\\\\Курсы\\\\Skillbox Science\\\\16. Чтение и запись данных ч.1\\\\Dzhumurat'"
      ]
     },
     "execution_count": 423,
     "metadata": {},
     "output_type": "execute_result"
    }
   ],
   "source": [
    "re.sub(r'.?Data', '', sys.path[0])"
   ]
  },
  {
   "cell_type": "code",
   "execution_count": 515,
   "metadata": {},
   "outputs": [
    {
     "data": {
      "text/plain": [
       "'D:\\\\Курсы\\\\Skillbox\\\\Data'"
      ]
     },
     "execution_count": 515,
     "metadata": {},
     "output_type": "execute_result"
    }
   ],
   "source": [
    "re.search(r'(.*?)(Data)', sys.path[0]).group()"
   ]
  },
  {
   "cell_type": "code",
   "execution_count": 463,
   "metadata": {},
   "outputs": [
    {
     "data": {
      "text/plain": [
       "'D:\\\\Курсы\\\\Skillbox\\\\Data Science'"
      ]
     },
     "execution_count": 463,
     "metadata": {},
     "output_type": "execute_result"
    }
   ],
   "source": [
    "path"
   ]
  },
  {
   "cell_type": "code",
   "execution_count": 457,
   "metadata": {},
   "outputs": [
    {
     "data": {
      "text/plain": [
       "'D:\\\\Курсы\\\\Skillbox\\\\Data Science'"
      ]
     },
     "execution_count": 457,
     "metadata": {},
     "output_type": "execute_result"
    }
   ],
   "source": [
    "re.search(r'.*Data Science', sys.path[0]).group()"
   ]
  },
  {
   "cell_type": "code",
   "execution_count": 344,
   "metadata": {},
   "outputs": [
    {
     "data": {
      "text/plain": [
       "'D:\\\\Курсы\\\\Skillbox\\\\Data Science\\\\16. Чтение и запись данных ч.1\\\\Dzhumurat'"
      ]
     },
     "execution_count": 344,
     "metadata": {},
     "output_type": "execute_result"
    }
   ],
   "source": [
    "import sys\n",
    "\n",
    "sys.path[0]"
   ]
  },
  {
   "cell_type": "code",
   "execution_count": 353,
   "metadata": {},
   "outputs": [
    {
     "data": {
      "text/plain": [
       "'D:\\\\Курсы\\\\Skillbox\\\\Data Science\\\\16. Чтение и запись данных ч.1\\\\Dzhumurat'"
      ]
     },
     "execution_count": 353,
     "metadata": {},
     "output_type": "execute_result"
    }
   ],
   "source": [
    "os.getcwd()"
   ]
  },
  {
   "cell_type": "code",
   "execution_count": 322,
   "metadata": {},
   "outputs": [],
   "source": [
    "path1 = glob.glob(os.getcwd() + '/**/hw*', recursive=True)[0]"
   ]
  },
  {
   "cell_type": "code",
   "execution_count": 323,
   "metadata": {},
   "outputs": [
    {
     "data": {
      "text/plain": [
       "'D:\\\\Курсы\\\\Skillbox\\\\Data Science\\\\01. Введение в Data Science\\\\hw1(1)'"
      ]
     },
     "execution_count": 323,
     "metadata": {},
     "output_type": "execute_result"
    }
   ],
   "source": [
    "path1"
   ]
  },
  {
   "cell_type": "code",
   "execution_count": 317,
   "metadata": {},
   "outputs": [
    {
     "data": {
      "text/plain": [
       "'D:\\\\Курсы\\\\Skillbox\\\\Data Science\\\\01. Введение в Data Science\\\\hw1(1)'"
      ]
     },
     "execution_count": 317,
     "metadata": {},
     "output_type": "execute_result"
    }
   ],
   "source": [
    "path1.split('#')[0] + '1(1)'"
   ]
  },
  {
   "cell_type": "code",
   "execution_count": 324,
   "metadata": {},
   "outputs": [],
   "source": [
    "os.rename(path1, path1.split('hw')[0] + 'hw#1(1)')"
   ]
  },
  {
   "cell_type": "code",
   "execution_count": 233,
   "metadata": {},
   "outputs": [
    {
     "data": {
      "text/plain": [
       "['\\\\hw#1(2)']"
      ]
     },
     "execution_count": 233,
     "metadata": {},
     "output_type": "execute_result"
    }
   ],
   "source": [
    "re.findall(r'\\\\hw.+', dirs[0])"
   ]
  },
  {
   "cell_type": "code",
   "execution_count": null,
   "metadata": {},
   "outputs": [],
   "source": [
    "os.rename"
   ]
  },
  {
   "cell_type": "code",
   "execution_count": 329,
   "metadata": {},
   "outputs": [],
   "source": [
    "sls = slice(None, re.search(r'(\\d+).(\\d+)', dirs[-1]).start())"
   ]
  },
  {
   "cell_type": "code",
   "execution_count": 331,
   "metadata": {},
   "outputs": [
    {
     "data": {
      "text/plain": [
       "'D:\\\\Курсы\\\\Skillbox\\\\Data Science\\\\19. Работа со строками\\\\hw#2(2)'"
      ]
     },
     "execution_count": 331,
     "metadata": {},
     "output_type": "execute_result"
    }
   ],
   "source": [
    "dirs[-1][sls] + f'{2}({2})'"
   ]
  },
  {
   "cell_type": "code",
   "execution_count": 237,
   "metadata": {},
   "outputs": [
    {
     "data": {
      "text/plain": [
       "'1(2)'"
      ]
     },
     "execution_count": 237,
     "metadata": {},
     "output_type": "execute_result"
    }
   ],
   "source": [
    "dirs[0].partition('#')[2]"
   ]
  },
  {
   "cell_type": "code",
   "execution_count": 302,
   "metadata": {},
   "outputs": [
    {
     "data": {
      "text/plain": [
       "('17', '19')"
      ]
     },
     "execution_count": 302,
     "metadata": {},
     "output_type": "execute_result"
    }
   ],
   "source": [
    "re.search(r'hw#(\\d+).(\\d+)', dirs[-1]).groups()"
   ]
  },
  {
   "cell_type": "code",
   "execution_count": 300,
   "metadata": {},
   "outputs": [
    {
     "data": {
      "text/plain": [
       "[('17', '19')]"
      ]
     },
     "execution_count": 300,
     "metadata": {},
     "output_type": "execute_result"
    }
   ],
   "source": [
    "re.findall(r'hw#(\\d+).(\\d+)', dirs[-1])"
   ]
  },
  {
   "cell_type": "code",
   "execution_count": 148,
   "metadata": {},
   "outputs": [
    {
     "data": {
      "text/plain": [
       "True"
      ]
     },
     "execution_count": 148,
     "metadata": {},
     "output_type": "execute_result"
    }
   ],
   "source": [
    "'abs'.endswith('s')"
   ]
  },
  {
   "cell_type": "code",
   "execution_count": 150,
   "metadata": {},
   "outputs": [
    {
     "data": {
      "text/plain": [
       "'abs'"
      ]
     },
     "execution_count": 150,
     "metadata": {},
     "output_type": "execute_result"
    }
   ],
   "source": [
    "os.path.join('abs')"
   ]
  },
  {
   "cell_type": "code",
   "execution_count": 55,
   "metadata": {},
   "outputs": [
    {
     "name": "stdout",
     "output_type": "stream",
     "text": [
      "damme\n",
      "is\n",
      "name\n",
      "van\n",
      "bond\n",
      "claude\n",
      "hi\n",
      "my\n",
      "james\n",
      "jean\n",
      "what\n",
      "your\n"
     ]
    }
   ],
   "source": [
    "s = \"\"\"\n",
    "hi\n",
    "hi\n",
    "what is your name\n",
    "my name is bond\n",
    "james bond\n",
    "my name is damme\n",
    "van damme\n",
    "claude van damme\n",
    "jean claude van damme\"\"\"\n",
    "\n",
    "text = {}\n",
    "for line in s.split('\\n'):\n",
    "    for word in line.split():\n",
    "        text[word] = text.get(word, 0) + 1\n",
    "words = sorted([(-val, key) for key, val in text.items()])\n",
    "words\n",
    "\n",
    "for word in words:\n",
    "    print(word[1])"
   ]
  },
  {
   "cell_type": "code",
   "execution_count": 56,
   "metadata": {},
   "outputs": [
    {
     "name": "stdout",
     "output_type": "stream",
     "text": [
      "damme\n",
      "is\n",
      "name\n",
      "van\n",
      "bond\n",
      "claude\n",
      "hi\n",
      "my\n",
      "james\n",
      "jean\n",
      "what\n",
      "your\n"
     ]
    }
   ],
   "source": [
    "from collections import Counter\n",
    "\n",
    "words = []\n",
    "for line in s.split('\\n'):\n",
    "    words.extend(line.split())\n",
    "\n",
    "counter = Counter(words)\n",
    "pairs = [(-pair[1], pair[0]) for pair in counter.most_common()]\n",
    "words = [pair[1] for pair in sorted(pairs)]\n",
    "print('\\n'.join(words))"
   ]
  },
  {
   "cell_type": "code",
   "execution_count": 60,
   "metadata": {},
   "outputs": [
    {
     "data": {
      "text/plain": [
       "[(-4, 'damme'),\n",
       " (-3, 'is'),\n",
       " (-3, 'name'),\n",
       " (-3, 'van'),\n",
       " (-2, 'bond'),\n",
       " (-2, 'claude'),\n",
       " (-2, 'hi'),\n",
       " (-2, 'my'),\n",
       " (-1, 'james'),\n",
       " (-1, 'jean'),\n",
       " (-1, 'what'),\n",
       " (-1, 'your')]"
      ]
     },
     "execution_count": 60,
     "metadata": {},
     "output_type": "execute_result"
    }
   ],
   "source": [
    "sorted([(-pair[1], pair[0]) for pair in counter.most_common()])"
   ]
  },
  {
   "cell_type": "code",
   "execution_count": 112,
   "metadata": {},
   "outputs": [
    {
     "data": {
      "text/plain": [
       "True"
      ]
     },
     "execution_count": 112,
     "metadata": {},
     "output_type": "execute_result"
    }
   ],
   "source": [
    "def is_repdigit(digit:int):\n",
    "    return len({num for num in str(digit) if not digit or digit//10}) == 1\n",
    "\n",
    "is_repdigit(66)"
   ]
  },
  {
   "cell_type": "code",
   "execution_count": 128,
   "metadata": {},
   "outputs": [
    {
     "data": {
      "text/plain": [
       "True"
      ]
     },
     "execution_count": 128,
     "metadata": {},
     "output_type": "execute_result"
    }
   ],
   "source": [
    "def is_repdigit(digit:int):\n",
    "    return len({*str(digit)}) == 1 and any([not digit, digit//10])\n",
    "\n",
    "is_repdigit(66)"
   ]
  },
  {
   "cell_type": "code",
   "execution_count": 248,
   "metadata": {},
   "outputs": [
    {
     "data": {
      "text/plain": [
       "True"
      ]
     },
     "execution_count": 248,
     "metadata": {},
     "output_type": "execute_result"
    }
   ],
   "source": [
    "def is_repdigit(num):\n",
    "    return len({*str(num)}) == 1\n",
    "\n",
    "is_repdigit(0)"
   ]
  },
  {
   "cell_type": "code",
   "execution_count": 15,
   "metadata": {},
   "outputs": [
    {
     "data": {
      "text/plain": [
       "'HHeelllloo  WWoorrlldd!!'"
      ]
     },
     "execution_count": 15,
     "metadata": {},
     "output_type": "execute_result"
    }
   ],
   "source": [
    "def double_char(txt:str):\n",
    "    return ''.join((map(lambda x: x*2, txt)))\n",
    "\n",
    "double_char('Hello World!')"
   ]
  },
  {
   "cell_type": "code",
   "execution_count": 320,
   "metadata": {},
   "outputs": [
    {
     "name": "stdout",
     "output_type": "stream",
     "text": [
      "                ---------------------------------------------------------------------------\n",
      "                |firstname | lastname |      fullname      |            email             |\n",
      "                ---------------------------------------------------------------------------\n",
      "                |   John   |  Smith   |     John Smith     |    john.smith@company.com    |\n",
      "                --------------------------------------------------------------------------- \n",
      "                |   Mary   |   Sue    |      Mary Sue      |     mary.sue@company.com     |\n",
      "                --------------------------------------------------------------------------- \n",
      "                |  Antony  |  Walker  |   Antony Walker    |  antony.walker@company.com   |\n",
      "                ---------------------------------------------------------------------------\n"
     ]
    }
   ],
   "source": [
    "class Employee:\n",
    "    \"\"\"Employees personal data class\"\"\"\n",
    "    _header = f\"\"\"\n",
    "                {'-':-^75}\n",
    "                |{'firstname':^10}|{'lastname':^10}|{'fullname':^20}|{'email':^30}|\n",
    "                {'-':-^75}\"\"\".strip('\\n')\n",
    "\n",
    "    def __new__(cls, *args):\n",
    "        print(cls._header, end='')\n",
    "        cls._header = ''        \n",
    "        self = super(Employee, cls).__new__(cls)\n",
    "        return self\n",
    "\n",
    "    def __init__(self, firstname:str, lastname:str):\n",
    "        self.firstname, self.lastname = firstname, lastname\n",
    "        self.fullname = f'{firstname} {lastname}'\n",
    "        self.email = f'{firstname.lower()}.{lastname.lower()}@company.com'\n",
    "   \n",
    "    def __str__(self) -> str:\n",
    "        return f\"\"\"\n",
    "                |{self.firstname:^10}|{self.lastname:^10}|{self.fullname:^20}|{self.email:^30}|\n",
    "                {'-':-^75}\"\"\"\n",
    "\n",
    "    def __repr__(self) -> str:\n",
    "        return self.__str__()\n",
    "\n",
    "\n",
    "emp_1 = Employee(\"John\", \"Smith\")\n",
    "emp_2 = Employee(\"Mary\",  \"Sue\")\n",
    "emp_3 = Employee(\"Antony\", \"Walker\")\n",
    "\n",
    "print(emp_1, emp_2, emp_3)"
   ]
  },
  {
   "cell_type": "code",
   "execution_count": 317,
   "metadata": {},
   "outputs": [
    {
     "name": "stdout",
     "output_type": "stream",
     "text": [
      "\n",
      "                |  Antony  |  Walker  |   Antony Walker    |  antony.walker@company.com   |\n",
      "                ---------------------------------------------------------------------------\n"
     ]
    }
   ],
   "source": [
    "print(emp_3)"
   ]
  },
  {
   "cell_type": "code",
   "execution_count": 2,
   "metadata": {},
   "outputs": [
    {
     "data": {
      "text/plain": [
       "'5. Языковые модели. Счетные языковые модели и вероятностные языковые модели'"
      ]
     },
     "execution_count": 2,
     "metadata": {},
     "output_type": "execute_result"
    }
   ],
   "source": [
    "'5.%20Языковые%20модели.%20Счетные%20языковые%20модели%20и%20вероятностные%20языковые%20модели'.replace('%20', ' ')"
   ]
  },
  {
   "cell_type": "code",
   "execution_count": null,
   "metadata": {},
   "outputs": [],
   "source": [
    "#     @staticmethod\n",
    "#     def header() -> str:\n",
    "#         return f\"\"\"\n",
    "#                 {'-':-^75}\n",
    "#                 |{'firstname':^10}|{'lastname':^10}|{'fullname':^20}|{'email':^30}|\n",
    "#                 {'-':-^75}\"\"\".strip('\\n')\n",
    "\n",
    "# print(f\"{'-':-^75}\")\n",
    "# print(f\"|{'firstname':^10}|{'lastname':^10}|{'fullname':^20}|{'email':^30}|\")\n",
    "# print(f\"{'-':-^75}\")\n",
    "# print(f'|{emp_1.firstname:^10}|{emp_1.lastname:^10}|{emp_1.fullname:^20}|{emp_1.email:^30}|')\n",
    "# print(f'|{emp_2.firstname:^10}|{emp_2.lastname:^10}|{emp_2.fullname:^20}|{emp_2.email:^30}|')\n",
    "# print(f'|{emp_3.firstname:^10}|{emp_3.lastname:^10}|{emp_3.fullname:^20}|{emp_3.email:^30}|')\n",
    "# print(f\"{'-':-^75}\")\n",
    "# print(emp_1.fullname)\n",
    "# print(emp_1.email)\n",
    "# print(emp_2.fullname)\n",
    "# print(emp_2.email)\n",
    "# print(emp_3.fullname)\n",
    "# print(emp_3.email)\n",
    "# print(emp_3.firstname)"
   ]
  },
  {
   "cell_type": "code",
   "execution_count": 52,
   "metadata": {},
   "outputs": [
    {
     "data": {
      "text/plain": [
       "[2, 3, 4, 5, 1]"
      ]
     },
     "execution_count": 52,
     "metadata": {},
     "output_type": "execute_result"
    }
   ],
   "source": [
    "def replace_first(items):\n",
    "    return items[1:] + items[:1]\n",
    "\n",
    "my_list = [1,2,3,4,5]\n",
    "replace_first(my_list)\n"
   ]
  },
  {
   "cell_type": "code",
   "execution_count": null,
   "metadata": {},
   "outputs": [],
   "source": [
    "3 4\n",
    "0 3 2 4\n",
    "2 3 5 5\n",
    "5 1 2 3"
   ]
  },
  {
   "cell_type": "code",
   "execution_count": 256,
   "metadata": {},
   "outputs": [
    {
     "name": "stdin",
     "output_type": "stream",
     "text": [
      " 3\n",
      " 4\n",
      " 0 3 2 4\n",
      " 2 3 5 5\n",
      " 5 1 2 3\n"
     ]
    },
    {
     "data": {
      "text/plain": [
       "[[0, 3, 2, 4], [2, 3, 5, 5], [5, 1, 2, 3]]"
      ]
     },
     "execution_count": 256,
     "metadata": {},
     "output_type": "execute_result"
    }
   ],
   "source": [
    "n, m = int(input()), int(input())\n",
    "# зададим пустой массив заданной размерности n x m\n",
    "a = []\n",
    "for i in range(n):\n",
    "    a.append([] * m)\n",
    "# заполним массив значениями из input\n",
    "for i in range(n):\n",
    "    for j in input().split():\n",
    "        j = int(j)\n",
    "        a[i].append(j)\n",
    "a"
   ]
  },
  {
   "cell_type": "code",
   "execution_count": 282,
   "metadata": {},
   "outputs": [],
   "source": [
    "b = [\n",
    " [1,0,1,0],\n",
    " [0,1,1,0],\n",
    " [0,1,0,0],\n",
    " [0,0,0,1]\n",
    "]"
   ]
  },
  {
   "cell_type": "code",
   "execution_count": 283,
   "metadata": {},
   "outputs": [
    {
     "name": "stdout",
     "output_type": "stream",
     "text": [
      "2\n"
     ]
    }
   ],
   "source": [
    "k = 2\n",
    "for i, row in enumerate(b):\n",
    "    if '0' * k in ''.join(map(str, row)):\n",
    "        print(i)\n",
    "        break\n",
    "else:\n",
    "    print(f'свободных мест {k} рядом нет')"
   ]
  },
  {
   "cell_type": "code",
   "execution_count": 320,
   "metadata": {},
   "outputs": [],
   "source": [
    "A = [1, 2, 3, 4, 5]"
   ]
  },
  {
   "cell_type": "code",
   "execution_count": 294,
   "metadata": {},
   "outputs": [],
   "source": [
    "A.remove(1)"
   ]
  },
  {
   "cell_type": "code",
   "execution_count": 305,
   "metadata": {},
   "outputs": [
    {
     "data": {
      "text/plain": [
       "6"
      ]
     },
     "execution_count": 305,
     "metadata": {},
     "output_type": "execute_result"
    }
   ],
   "source": [
    "A.__len__()"
   ]
  },
  {
   "cell_type": "code",
   "execution_count": 56,
   "metadata": {},
   "outputs": [],
   "source": [
    "class A:\n",
    "    x = 1\n",
    "    def __init__(self):\n",
    "        self.y = 2\n",
    "        self.x = 4\n",
    "\n",
    "\n",
    "a = A()\n",
    "a.__getattribute__('y')\n",
    "a.__class__().__delattr__('x')"
   ]
  },
  {
   "cell_type": "code",
   "execution_count": 62,
   "metadata": {},
   "outputs": [],
   "source": [
    "a.__class__.x = 2"
   ]
  },
  {
   "cell_type": "code",
   "execution_count": 69,
   "metadata": {},
   "outputs": [
    {
     "data": {
      "text/plain": [
       "3"
      ]
     },
     "execution_count": 69,
     "metadata": {},
     "output_type": "execute_result"
    }
   ],
   "source": [
    "a.x"
   ]
  },
  {
   "cell_type": "code",
   "execution_count": 396,
   "metadata": {},
   "outputs": [
    {
     "name": "stdout",
     "output_type": "stream",
     "text": [
      "OrderedDict([('собака', 'Жучка'), ('мышка', 'Норушка'), ('кошка', 'Мурка'), ('попугай', 'Кеша'), ('рыбка', 'Геннадий'), ('таракан', 'Виссегауд'), ('кролик', 'Савелий')])\n",
      "собака Жучка\n",
      "мышка Норушка\n",
      "кошка Мурка\n",
      "попугай Кеша\n",
      "рыбка Геннадий\n",
      "таракан Виссегауд\n",
      "кролик Савелий\n"
     ]
    }
   ],
   "source": [
    "from collections import OrderedDict\n",
    "\n",
    "my_pets = OrderedDict()\n",
    "my_pets['собака'] = 'Жучка'\n",
    "my_pets['мышка'] = 'Норушка'\n",
    "my_pets['кошка'] = 'Мурка'\n",
    "my_pets['попугай'] = 'Кеша'\n",
    "my_pets['рыбка'] = 'Геннадий'\n",
    "my_pets['таракан'] = 'Виссегауд'\n",
    "my_pets['кролик'] = 'Савелий'\n",
    "print(my_pets)\n",
    "for k, v in my_pets.items():\n",
    "    print(k, v)"
   ]
  },
  {
   "cell_type": "code",
   "execution_count": 322,
   "metadata": {},
   "outputs": [],
   "source": [
    "A.append(A)"
   ]
  },
  {
   "cell_type": "code",
   "execution_count": 331,
   "metadata": {},
   "outputs": [
    {
     "data": {
      "text/plain": [
       "[1, 2, 3, 4, 5, [...]]"
      ]
     },
     "execution_count": 331,
     "metadata": {},
     "output_type": "execute_result"
    }
   ],
   "source": [
    "A[5][5][5][5][5][5][5][5][5][5][5][5][5][5][5][5][5][5][5][5][5][5][5][5][5][5][5][5][5][5][5][5][5][5][5][5][5][5][5][5][5][5][5][5][5][5][5][5][5][5][5][5][5][5][5][5][5][5][5][5]"
   ]
  },
  {
   "cell_type": "code",
   "execution_count": 385,
   "metadata": {},
   "outputs": [
    {
     "name": "stdout",
     "output_type": "stream",
     "text": [
      "100000000000002963 maximum recursion depth exceeded\n"
     ]
    }
   ],
   "source": [
    "def f(x):    \n",
    "    global num\n",
    "    num = x\n",
    "    return f(x+1)\n",
    "\n",
    "\n",
    "try:\n",
    "    f(100000000000000001)\n",
    "except RecursionError as ext:\n",
    "    print(num, ext.args[0])"
   ]
  },
  {
   "cell_type": "code",
   "execution_count": 166,
   "metadata": {
    "collapsed": true,
    "jupyter": {
     "outputs_hidden": true
    }
   },
   "outputs": [
    {
     "name": "stdout",
     "output_type": "stream",
     "text": [
      "0 X 0\n",
      "0 X 1\n",
      "0 X 2\n",
      "0 X 3\n",
      "0 X 4\n",
      "0 X 5\n",
      "0 X 6\n",
      "0 X 7\n",
      "1 X 0\n",
      "1 X 1\n",
      "1 X 2\n",
      "1 X 3\n",
      "1 X 4\n",
      "1 X 5\n",
      "1 X 6\n",
      "1 X 7\n",
      "2 X 0\n",
      "2 X 1\n",
      "2 X 2\n",
      "2 X 3\n",
      "2 X 4\n",
      "2 X 5\n",
      "2 X 6\n",
      "2 X 7\n",
      "3 X 0\n",
      "3 X 1\n",
      "3 X 2\n",
      "3 X 3\n",
      "3 X 4\n",
      "3 X 5\n",
      "3 X 6\n",
      "3 X 7\n",
      "4 X 0\n",
      "4 X 1\n",
      "4 X 2\n",
      "4 X 3\n",
      "4 X 4\n",
      "4 X 5\n",
      "4 X 6\n",
      "4 X 7\n",
      "5 X 0\n",
      "5 X 1\n",
      "5 X 2\n",
      "5 X 3\n",
      "5 X 4\n",
      "5 X 5\n",
      "5 X 6\n",
      "5 X 7\n"
     ]
    }
   ],
   "source": [
    "import itertools\n",
    "\n",
    "[print(i[0], 'X', i[1]) for i in itertools.product(range(6), range(8))];"
   ]
  },
  {
   "cell_type": "code",
   "execution_count": 421,
   "metadata": {},
   "outputs": [
    {
     "name": "stdin",
     "output_type": "stream",
     "text": [
      " 1\n",
      " 100\n"
     ]
    },
    {
     "name": "stdout",
     "output_type": "stream",
     "text": [
      "96 252 "
     ]
    }
   ],
   "source": [
    "[print(num, end=' ') for num in max({(sum({j for j in range(1, i+1) if not i % j}), i) for i in range(int(input()), int(input())+1)})[::-1]];"
   ]
  },
  {
   "cell_type": "code",
   "execution_count": 423,
   "metadata": {},
   "outputs": [
    {
     "name": "stdin",
     "output_type": "stream",
     "text": [
      " 1\n",
      " 100\n"
     ]
    },
    {
     "name": "stdout",
     "output_type": "stream",
     "text": [
      "96 252\n"
     ]
    }
   ],
   "source": [
    "print(*[max({(i, sum({j for j in range(1, i+1) if not i % j})) for i in range(int(input()), int(input())+1)}, key=lambda x: x[1])][0])"
   ]
  },
  {
   "cell_type": "code",
   "execution_count": 454,
   "metadata": {},
   "outputs": [
    {
     "name": "stdin",
     "output_type": "stream",
     "text": [
      " 1\n",
      " 100\n"
     ]
    },
    {
     "name": "stdout",
     "output_type": "stream",
     "text": [
      "96 252\n"
     ]
    }
   ],
   "source": [
    "print(*max([(i, sum(filter(lambda x: not i % x, range(1, i+1)))) for i in range(int(input()), int(input())+1)], key=lambda x: x[1]))"
   ]
  },
  {
   "cell_type": "code",
   "execution_count": 453,
   "metadata": {},
   "outputs": [
    {
     "name": "stdin",
     "output_type": "stream",
     "text": [
      " 1\n",
      " 100\n"
     ]
    },
    {
     "name": "stdout",
     "output_type": "stream",
     "text": [
      "96 252\n"
     ]
    }
   ],
   "source": [
    "print(*max(map(lambda x: (x, sum(filter(lambda y: not x % y, range(1, x+1)))), range(int(input()), int(input())+1)), key=lambda x: x[1]))"
   ]
  },
  {
   "cell_type": "code",
   "execution_count": 13,
   "metadata": {},
   "outputs": [
    {
     "name": "stdin",
     "output_type": "stream",
     "text": [
      " 1\n",
      " 100\n"
     ]
    },
    {
     "name": "stdout",
     "output_type": "stream",
     "text": [
      "96 252\n"
     ]
    }
   ],
   "source": [
    "# f2 = lambda y: (y, sum(filter(f1, zip(range(1, y+1), (y,)*y))))\n",
    "# f1 = lambda *args: not args[1] % args[0]\n",
    "f3 = lambda z: z[1]\n",
    "\n",
    "def f1(x):\n",
    "    def f2(y):\n",
    "        return not x % y\n",
    "    return x, sum(filter(f2, range(1, x + 1)))\n",
    "    \n",
    "\n",
    "m, n = int(input()), int(input()) + 1\n",
    "print(*max(map(f1, range(m, n)), key=f3))"
   ]
  },
  {
   "cell_type": "code",
   "execution_count": 2,
   "metadata": {},
   "outputs": [
    {
     "name": "stdin",
     "output_type": "stream",
     "text": [
      " 1\n",
      " 100\n"
     ]
    },
    {
     "name": "stdout",
     "output_type": "stream",
     "text": [
      "96 252\n"
     ]
    }
   ],
   "source": [
    "def f1(x):\n",
    "    def f2(y):\n",
    "        return not x % y\n",
    "    return x, sum(filter(f2, range(1, x + 1)))\n",
    "\n",
    "f3 = lambda z: z[1]\n",
    "\n",
    "\n",
    "m, n = int(input()), int(input()) + 1\n",
    "print(*max(map(f1, range(m, n)), key=f3))"
   ]
  },
  {
   "cell_type": "code",
   "execution_count": 87,
   "metadata": {},
   "outputs": [
    {
     "name": "stdout",
     "output_type": "stream",
     "text": [
      "(2, 3) True\n",
      "(3, 2) False\n",
      "(4, 3) False\n",
      "(3, 4) True\n"
     ]
    }
   ],
   "source": [
    "f = lambda a, b: a < b\n",
    "for tup in [(2, 3), (3, 2), (4, 3), (3, 4)]:\n",
    "    print(tup, f(*tup))"
   ]
  },
  {
   "cell_type": "code",
   "execution_count": 5,
   "metadata": {},
   "outputs": [
    {
     "data": {
      "text/plain": [
       "[(1, 5),\n",
       " (2, 5),\n",
       " (3, 5),\n",
       " (4, 5),\n",
       " (5, 5),\n",
       " (6, 5),\n",
       " (7, 5),\n",
       " (8, 5),\n",
       " (9, 5),\n",
       " (10, 5)]"
      ]
     },
     "execution_count": 5,
     "metadata": {},
     "output_type": "execute_result"
    }
   ],
   "source": [
    "list(zip(range(1, 11), (5,)*10))"
   ]
  },
  {
   "cell_type": "code",
   "execution_count": 11,
   "metadata": {},
   "outputs": [
    {
     "data": {
      "text/plain": [
       "1"
      ]
     },
     "execution_count": 11,
     "metadata": {},
     "output_type": "execute_result"
    }
   ],
   "source": [
    "(1, 1)[1]"
   ]
  },
  {
   "cell_type": "code",
   "execution_count": 427,
   "metadata": {},
   "outputs": [
    {
     "data": {
      "text/plain": [
       "{1, 2, 3, 4, 6, 8, 12, 16, 24, 32, 48, 96}"
      ]
     },
     "execution_count": 427,
     "metadata": {},
     "output_type": "execute_result"
    }
   ],
   "source": [
    "{j for j in range(1, 97) if not 96 % j}"
   ]
  },
  {
   "cell_type": "code",
   "execution_count": 456,
   "metadata": {},
   "outputs": [
    {
     "data": {
      "text/plain": [
       "120"
      ]
     },
     "execution_count": 456,
     "metadata": {},
     "output_type": "execute_result"
    }
   ],
   "source": [
    "from functools import reduce\n",
    "\n",
    "n = 5\n",
    "reduce(lambda x, y: x * y, range(1, n + 1))"
   ]
  },
  {
   "cell_type": "code",
   "execution_count": 404,
   "metadata": {
    "collapsed": true,
    "jupyter": {
     "outputs_hidden": true
    }
   },
   "outputs": [
    {
     "data": {
      "text/plain": [
       "[[1],\n",
       " [1, 2],\n",
       " [1, 3],\n",
       " [1, 2, 4],\n",
       " [1, 5],\n",
       " [1, 2, 3, 6],\n",
       " [1, 7],\n",
       " [1, 2, 4, 8],\n",
       " [1, 3, 9],\n",
       " [1, 2, 5, 10],\n",
       " [1, 11],\n",
       " [1, 2, 3, 4, 6, 12],\n",
       " [1, 13],\n",
       " [1, 2, 7, 14],\n",
       " [1, 3, 5, 15],\n",
       " [1, 2, 4, 8, 16],\n",
       " [1, 17],\n",
       " [1, 2, 3, 6, 9, 18],\n",
       " [1, 19],\n",
       " [1, 2, 4, 5, 10, 20],\n",
       " [1, 3, 7, 21],\n",
       " [1, 2, 11, 22],\n",
       " [1, 23],\n",
       " [1, 2, 3, 4, 6, 8, 12, 24],\n",
       " [1, 5, 25],\n",
       " [1, 2, 13, 26],\n",
       " [1, 3, 9, 27],\n",
       " [1, 2, 4, 7, 14, 28],\n",
       " [1, 29],\n",
       " [1, 2, 3, 5, 6, 10, 15, 30],\n",
       " [1, 31],\n",
       " [1, 2, 4, 8, 16, 32],\n",
       " [1, 3, 11, 33],\n",
       " [1, 2, 17, 34],\n",
       " [1, 5, 7, 35],\n",
       " [1, 2, 3, 4, 6, 9, 12, 18, 36],\n",
       " [1, 37],\n",
       " [1, 2, 19, 38],\n",
       " [1, 3, 13, 39],\n",
       " [1, 2, 4, 5, 8, 10, 20, 40],\n",
       " [1, 41],\n",
       " [1, 2, 3, 6, 7, 14, 21, 42],\n",
       " [1, 43],\n",
       " [1, 2, 4, 11, 22, 44],\n",
       " [1, 3, 5, 9, 15, 45],\n",
       " [1, 2, 23, 46],\n",
       " [1, 47],\n",
       " [1, 2, 3, 4, 6, 8, 12, 16, 24, 48],\n",
       " [1, 7, 49],\n",
       " [1, 2, 5, 10, 25, 50],\n",
       " [1, 3, 17, 51],\n",
       " [1, 2, 4, 13, 26, 52],\n",
       " [1, 53],\n",
       " [1, 2, 3, 6, 9, 18, 27, 54],\n",
       " [1, 5, 11, 55],\n",
       " [1, 2, 4, 7, 8, 14, 28, 56],\n",
       " [1, 3, 19, 57],\n",
       " [1, 2, 29, 58],\n",
       " [1, 59],\n",
       " [1, 2, 3, 4, 5, 6, 10, 12, 15, 20, 30, 60],\n",
       " [1, 61],\n",
       " [1, 2, 31, 62],\n",
       " [1, 3, 7, 9, 21, 63],\n",
       " [1, 2, 4, 8, 16, 32, 64],\n",
       " [1, 5, 13, 65],\n",
       " [1, 2, 3, 6, 11, 22, 33, 66],\n",
       " [1, 67],\n",
       " [1, 2, 4, 17, 34, 68],\n",
       " [1, 3, 23, 69],\n",
       " [1, 2, 5, 7, 10, 14, 35, 70],\n",
       " [1, 71],\n",
       " [1, 2, 3, 4, 6, 8, 9, 12, 18, 24, 36, 72],\n",
       " [1, 73],\n",
       " [1, 2, 37, 74],\n",
       " [1, 3, 5, 15, 25, 75],\n",
       " [1, 2, 4, 19, 38, 76],\n",
       " [1, 7, 11, 77],\n",
       " [1, 2, 3, 6, 13, 26, 39, 78],\n",
       " [1, 79],\n",
       " [1, 2, 4, 5, 8, 10, 16, 20, 40, 80],\n",
       " [1, 3, 9, 27, 81],\n",
       " [1, 2, 41, 82],\n",
       " [1, 83],\n",
       " [1, 2, 3, 4, 6, 7, 12, 14, 21, 28, 42, 84],\n",
       " [1, 5, 17, 85],\n",
       " [1, 2, 43, 86],\n",
       " [1, 3, 29, 87],\n",
       " [1, 2, 4, 8, 11, 22, 44, 88],\n",
       " [1, 89],\n",
       " [1, 2, 3, 5, 6, 9, 10, 15, 18, 30, 45, 90],\n",
       " [1, 7, 13, 91],\n",
       " [1, 2, 4, 23, 46, 92],\n",
       " [1, 3, 31, 93],\n",
       " [1, 2, 47, 94],\n",
       " [1, 5, 19, 95],\n",
       " [1, 2, 3, 4, 6, 8, 12, 16, 24, 32, 48, 96],\n",
       " [1, 97],\n",
       " [1, 2, 7, 14, 49, 98],\n",
       " [1, 3, 9, 11, 33, 99],\n",
       " [1, 2, 4, 5, 10, 20, 25, 50, 100]]"
      ]
     },
     "execution_count": 404,
     "metadata": {},
     "output_type": "execute_result"
    }
   ],
   "source": [
    "[[i for i in range(1, j+1) if not j % i] for j in range(1, 101)]"
   ]
  },
  {
   "cell_type": "code",
   "execution_count": 62,
   "metadata": {},
   "outputs": [
    {
     "name": "stdin",
     "output_type": "stream",
     "text": [
      " 1\n",
      " 10\n"
     ]
    },
    {
     "data": {
      "text/plain": [
       "(18, 10)"
      ]
     },
     "execution_count": 62,
     "metadata": {},
     "output_type": "execute_result"
    }
   ],
   "source": [
    "a = int(input())\n",
    "b = int(input())\n",
    "\n",
    "max({(sum({j for j in range(1, i+1) if not i % j}), i) for i in range(a, b+1)})"
   ]
  },
  {
   "cell_type": "code",
   "execution_count": 80,
   "metadata": {},
   "outputs": [
    {
     "name": "stdin",
     "output_type": "stream",
     "text": [
      " 1\n",
      " 100\n"
     ]
    },
    {
     "name": "stdout",
     "output_type": "stream",
     "text": [
      "96 252\n"
     ]
    }
   ],
   "source": [
    "a = int(input())\n",
    "b = int(input())\n",
    "\n",
    "subset = set()\n",
    "for i in range(a, b+1):\n",
    "    subsubset = set()\n",
    "    for j in range(1, i+1):\n",
    "        if not i % j:\n",
    "            subsubset.add(j)\n",
    "    subset.add((sum(subsubset), i))\n",
    "sum_divisors, num = max(subset)\n",
    "print(num, sum_divisors)"
   ]
  },
  {
   "cell_type": "code",
   "execution_count": 41,
   "metadata": {},
   "outputs": [
    {
     "data": {
      "text/plain": [
       "defaultdict(list, {'a': [1]})"
      ]
     },
     "execution_count": 41,
     "metadata": {},
     "output_type": "execute_result"
    }
   ],
   "source": [
    "from collections import defaultdict\n",
    "\n",
    "dct = defaultdict(list)\n",
    "dct['a'].append(1)\n",
    "dct"
   ]
  },
  {
   "cell_type": "code",
   "execution_count": 172,
   "metadata": {},
   "outputs": [
    {
     "data": {
      "text/plain": [
       "2"
      ]
     },
     "execution_count": 172,
     "metadata": {},
     "output_type": "execute_result"
    }
   ],
   "source": [
    "[letter.isupper() for letter in 'cAnnOt'].count(True)"
   ]
  },
  {
   "cell_type": "code",
   "execution_count": 173,
   "metadata": {},
   "outputs": [
    {
     "data": {
      "text/plain": [
       "2"
      ]
     },
     "execution_count": 173,
     "metadata": {},
     "output_type": "execute_result"
    }
   ],
   "source": [
    "len([*filter(str.isupper, 'cAnnOt')])"
   ]
  },
  {
   "cell_type": "code",
   "execution_count": 181,
   "metadata": {},
   "outputs": [
    {
     "data": {
      "text/plain": [
       "{'b': 2}"
      ]
     },
     "execution_count": 181,
     "metadata": {},
     "output_type": "execute_result"
    }
   ],
   "source": [
    "dct = {'b':2}\n",
    "dct.get('a', list()).append(1)\n",
    "dct"
   ]
  },
  {
   "cell_type": "code",
   "execution_count": 180,
   "metadata": {},
   "outputs": [],
   "source": [
    "[].append(1)"
   ]
  },
  {
   "cell_type": "code",
   "execution_count": 169,
   "metadata": {},
   "outputs": [
    {
     "data": {
      "text/plain": [
       "['A', 'O']"
      ]
     },
     "execution_count": 169,
     "metadata": {},
     "output_type": "execute_result"
    }
   ],
   "source": [
    "list(filter(lambda x: len(x) == 1, filter(str.isupper, 'cAnnOt')))"
   ]
  },
  {
   "cell_type": "code",
   "execution_count": 188,
   "metadata": {},
   "outputs": [
    {
     "data": {
      "text/plain": [
       "defaultdict(<function __main__.<lambda>()>,\n",
       "            {'a': defaultdict(<function __main__.<lambda>.<locals>.<lambda>()>,\n",
       "                         {'b': defaultdict(int, {'c': 1})}),\n",
       "             'b': defaultdict(<function __main__.<lambda>.<locals>.<lambda>()>,\n",
       "                         {'d': defaultdict(int, {'e': 2})})})"
      ]
     },
     "execution_count": 188,
     "metadata": {},
     "output_type": "execute_result"
    }
   ],
   "source": [
    "from collections import defaultdict\n",
    "\n",
    "clients = defaultdict(lambda: defaultdict(lambda: defaultdict(int)))\n",
    "clients['a']['b']['c'] = 1\n",
    "clients['a']['b']['c']\n",
    "clients['b']['d']['e'] = 2\n",
    "clients"
   ]
  },
  {
   "cell_type": "code",
   "execution_count": 170,
   "metadata": {},
   "outputs": [
    {
     "data": {
      "text/plain": [
       "False"
      ]
     },
     "execution_count": 170,
     "metadata": {},
     "output_type": "execute_result"
    }
   ],
   "source": [
    "def f(string):\n",
    "    func = lambda x: len(x) == 1\n",
    "    res = list(filter(str.isupper, string))\n",
    "    return func(res)\n",
    "\n",
    "f('cAnnOt')"
   ]
  },
  {
   "cell_type": "code",
   "execution_count": 236,
   "metadata": {},
   "outputs": [
    {
     "name": "stdout",
     "output_type": "stream",
     "text": [
      "{'Peter_II': None}\n",
      "{'Peter_II': None}\n",
      "-----------------\n",
      "{'Peter_III': None}\n",
      "{'Peter_III': None}\n",
      "-----------------\n",
      "{'Paul_I': None}\n",
      "{'Paul_I': None}\n",
      "-----------------\n",
      "{'Alexander_I': None, 'Nicholaus_I': None}\n",
      "{'Alexander_I': None, 'Nicholaus_I': None}\n",
      "-----------------\n",
      "{'Peter_I': {'Alexei': {'Peter_II': None}, 'Anna': {'Peter_III': {'Paul_I': {'Alexander_I': None, 'Nicholaus_I': None}}}, 'Elizabeth': None}, 'Alexei': {'Peter_II': None}, 'Anna': {'Peter_III': {'Paul_I': {'Alexander_I': None, 'Nicholaus_I': None}}}, 'Peter_III': {'Paul_I': {'Alexander_I': None, 'Nicholaus_I': None}}, 'Paul_I': {'Alexander_I': None, 'Nicholaus_I': None}}\n",
      "{'Peter_II': 1, 'Alexei': 1, 'Alexander_I': 4, 'Nicholaus_I': 4, 'Paul_I': 4, 'Peter_III': 3, 'Anna': 2, 'Elizabeth': 2}\n"
     ]
    }
   ],
   "source": [
    "string = \"\"\"Alexei Peter_I\n",
    "Anna Peter_I\n",
    "Elizabeth Peter_I\n",
    "Peter_II Alexei\n",
    "Peter_III Anna\n",
    "Paul_I Peter_III\n",
    "Alexander_I Paul_I\n",
    "Nicholaus_I Paul_I\"\"\"\n",
    "\n",
    "pedigree = {}\n",
    "for i in range(8):\n",
    "    line = string.split('\\n')[i]\n",
    "    child, parent = line.split()\n",
    "    if parent not in pedigree:\n",
    "        pedigree[parent] = {}\n",
    "    pedigree[parent].update(**{child:None})\n",
    "# print(pedigree)\n",
    "\n",
    "for parent in pedigree:\n",
    "    for child in pedigree[parent]:\n",
    "        if child in pedigree:\n",
    "            pedigree[parent][child] = pedigree[child]\n",
    "print(pedigree)\n",
    "\n",
    "heights = {}\n",
    "\n",
    "\n",
    "def recurs(dct, dep=0):\n",
    "    for relative in dct:\n",
    "        \n",
    "        if dct[relative] is not None:\n",
    "            dep += 1\n",
    "            recurs(dct[relative], dep=dep)\n",
    "        heights[relative] = dep\n",
    "    return\n",
    "        \n",
    "recurs(pedigree['Peter_I'])\n",
    "print(heights)"
   ]
  },
  {
   "cell_type": "code",
   "execution_count": 242,
   "metadata": {},
   "outputs": [
    {
     "data": {
      "text/plain": [
       "'Peter_I'"
      ]
     },
     "execution_count": 242,
     "metadata": {},
     "output_type": "execute_result"
    }
   ],
   "source": [
    "children = {'Peter_II', 'Alexei', 'Anna', 'Nicholaus_I', 'Elizabeth', 'Paul_I', 'Alexander_I', 'Peter_III'}\n",
    "parents = {'Alexei', 'Anna', 'Peter_I', 'Paul_I', 'Peter_III'}\n",
    "grnd = (parents - children).pop()\n",
    "grnd"
   ]
  },
  {
   "cell_type": "code",
   "execution_count": 155,
   "metadata": {},
   "outputs": [
    {
     "name": "stdout",
     "output_type": "stream",
     "text": [
      "[('n', 2), ('c', 1), ('A', 1), ('O', 1), ('t', 1)]\n"
     ]
    }
   ],
   "source": [
    "from collections import Counter\n",
    "\n",
    "strng = 'cAnnOt'\n",
    "c = Counter(strng).most_common()\n",
    "print(c)"
   ]
  },
  {
   "cell_type": "code",
   "execution_count": 306,
   "metadata": {},
   "outputs": [],
   "source": [
    "url_mcc = 'https://en.wikipedia.org/wiki/Mobile_Network_Codes_in_ITU_region_2xx_(Europe)#Albania_%E2%80%93_AL'\n",
    "dfs = pd.read_html(url_mcc, match='Telekom Albania', header=0,\n",
    "                   converters={'MNC': str})"
   ]
  },
  {
   "cell_type": "code",
   "execution_count": 11,
   "metadata": {},
   "outputs": [
    {
     "data": {
      "text/plain": [
       "10"
      ]
     },
     "execution_count": 11,
     "metadata": {},
     "output_type": "execute_result"
    }
   ],
   "source": [
    "def int_to_str(digit):\n",
    "    return repr(digit)\n",
    "\n",
    "def str_to_int(string):\n",
    "    return eval(string)\n",
    "\n",
    "int_to_str(10)\n",
    "str_to_int('10')"
   ]
  },
  {
   "cell_type": "code",
   "execution_count": 94,
   "metadata": {},
   "outputs": [],
   "source": [
    "int, str = str, int"
   ]
  },
  {
   "cell_type": "code",
   "execution_count": 190,
   "metadata": {},
   "outputs": [
    {
     "name": "stdout",
     "output_type": "stream",
     "text": [
      "'10'\n"
     ]
    }
   ],
   "source": [
    "def int_to_str(digit):\n",
    "    return repr(f\"{digit}\")\n",
    "def str_to_int(string):\n",
    "    return eval(string)\n",
    "\n",
    "print(int_to_str(10))"
   ]
  },
  {
   "cell_type": "code",
   "execution_count": 197,
   "metadata": {},
   "outputs": [
    {
     "name": "stdout",
     "output_type": "stream",
     "text": [
      "-\n"
     ]
    }
   ],
   "source": [
    "a = 2.1\n",
    "if int(a) == float(a):\n",
    "    print('+')\n",
    "else:\n",
    "    print('-')"
   ]
  },
  {
   "cell_type": "code",
   "execution_count": 200,
   "metadata": {},
   "outputs": [
    {
     "data": {
      "text/plain": [
       "False"
      ]
     },
     "execution_count": 200,
     "metadata": {},
     "output_type": "execute_result"
    }
   ],
   "source": [
    "int(2.1) == float(2.1)"
   ]
  },
  {
   "cell_type": "code",
   "execution_count": 199,
   "metadata": {},
   "outputs": [
    {
     "data": {
      "text/plain": [
       "2.1"
      ]
     },
     "execution_count": 199,
     "metadata": {},
     "output_type": "execute_result"
    }
   ],
   "source": [
    "float(2.1)"
   ]
  },
  {
   "cell_type": "code",
   "execution_count": 194,
   "metadata": {},
   "outputs": [],
   "source": [
    "import numpy as np\n",
    "\n",
    "b = np.array([\n",
    "    [1, 2, 3],\n",
    "    [4, 5, 6]\n",
    "])"
   ]
  },
  {
   "cell_type": "code",
   "execution_count": 196,
   "metadata": {},
   "outputs": [
    {
     "data": {
      "text/plain": [
       "array([[1],\n",
       "       [4]])"
      ]
     },
     "execution_count": 196,
     "metadata": {},
     "output_type": "execute_result"
    }
   ],
   "source": [
    "b[0:2, 0:1]"
   ]
  },
  {
   "cell_type": "code",
   "execution_count": 318,
   "metadata": {},
   "outputs": [
    {
     "data": {
      "text/html": [
       "<div>\n",
       "<style scoped>\n",
       "    .dataframe tbody tr th:only-of-type {\n",
       "        vertical-align: middle;\n",
       "    }\n",
       "\n",
       "    .dataframe tbody tr th {\n",
       "        vertical-align: top;\n",
       "    }\n",
       "\n",
       "    .dataframe thead th {\n",
       "        text-align: right;\n",
       "    }\n",
       "</style>\n",
       "<table border=\"1\" class=\"dataframe\">\n",
       "  <thead>\n",
       "    <tr style=\"text-align: right;\">\n",
       "      <th></th>\n",
       "      <th>MCC</th>\n",
       "      <th>MNC</th>\n",
       "      <th>Brand</th>\n",
       "      <th>Operator</th>\n",
       "      <th>Status</th>\n",
       "      <th>Bands (MHz)</th>\n",
       "      <th>References and notes</th>\n",
       "    </tr>\n",
       "  </thead>\n",
       "  <tbody>\n",
       "    <tr>\n",
       "      <th>0</th>\n",
       "      <td>276</td>\n",
       "      <td>01</td>\n",
       "      <td>Telekom.al</td>\n",
       "      <td>Telekom Albania</td>\n",
       "      <td>Operational</td>\n",
       "      <td>GSM 900 / GSM 1800 / UMTS 2100 / LTE 1800 / LT...</td>\n",
       "      <td>[2]</td>\n",
       "    </tr>\n",
       "    <tr>\n",
       "      <th>1</th>\n",
       "      <td>276</td>\n",
       "      <td>02</td>\n",
       "      <td>Vodafone</td>\n",
       "      <td>Vodafone Albania</td>\n",
       "      <td>Operational</td>\n",
       "      <td>GSM 900 / GSM 1800 / UMTS 2100 / LTE 1800 / LT...</td>\n",
       "      <td>[2]</td>\n",
       "    </tr>\n",
       "    <tr>\n",
       "      <th>2</th>\n",
       "      <td>276</td>\n",
       "      <td>03</td>\n",
       "      <td>Eagle Mobile</td>\n",
       "      <td>Albtelecom</td>\n",
       "      <td>Operational</td>\n",
       "      <td>GSM 900 / GSM 1800 / UMTS 2100 / LTE 1800</td>\n",
       "      <td>[2]</td>\n",
       "    </tr>\n",
       "    <tr>\n",
       "      <th>3</th>\n",
       "      <td>276</td>\n",
       "      <td>04</td>\n",
       "      <td>Plus Communication</td>\n",
       "      <td>Plus Communication</td>\n",
       "      <td>Not operational</td>\n",
       "      <td>GSM 900 / GSM 1800 / UMTS 2100</td>\n",
       "      <td>[3] Shut down Jan 2018[4]</td>\n",
       "    </tr>\n",
       "  </tbody>\n",
       "</table>\n",
       "</div>"
      ],
      "text/plain": [
       "   MCC MNC               Brand            Operator           Status  \\\n",
       "0  276  01          Telekom.al     Telekom Albania      Operational   \n",
       "1  276  02            Vodafone    Vodafone Albania      Operational   \n",
       "2  276  03        Eagle Mobile          Albtelecom      Operational   \n",
       "3  276  04  Plus Communication  Plus Communication  Not operational   \n",
       "\n",
       "                                         Bands (MHz)  \\\n",
       "0  GSM 900 / GSM 1800 / UMTS 2100 / LTE 1800 / LT...   \n",
       "1  GSM 900 / GSM 1800 / UMTS 2100 / LTE 1800 / LT...   \n",
       "2          GSM 900 / GSM 1800 / UMTS 2100 / LTE 1800   \n",
       "3                     GSM 900 / GSM 1800 / UMTS 2100   \n",
       "\n",
       "        References and notes  \n",
       "0                        [2]  \n",
       "1                        [2]  \n",
       "2                        [2]  \n",
       "3  [3] Shut down Jan 2018[4]  "
      ]
     },
     "execution_count": 318,
     "metadata": {},
     "output_type": "execute_result"
    }
   ],
   "source": [
    "dfs[0]"
   ]
  },
  {
   "cell_type": "code",
   "execution_count": 5,
   "metadata": {},
   "outputs": [
    {
     "data": {
      "text/plain": [
       "'3. Модели ARIMA и GARCH%2C прогнозирование значений на их основе'"
      ]
     },
     "execution_count": 5,
     "metadata": {},
     "output_type": "execute_result"
    }
   ],
   "source": [
    "'3.%20Модели%20ARIMA%20и%20GARCH%2C%20прогнозирование%20значений%20на%20их%20основе'.replace('%20', ' ')"
   ]
  },
  {
   "cell_type": "code",
   "execution_count": 361,
   "metadata": {},
   "outputs": [],
   "source": [
    "url = 'https://worldtable.info/gosudarstvo/tablica-rozhdaemosti-po-godam-rossija.html'\n",
    "dfs = pd.read_html(url, flavor='bs4', header=0, index_col='Год', parse_dates=True, thousands=' ')"
   ]
  },
  {
   "cell_type": "code",
   "execution_count": 365,
   "metadata": {},
   "outputs": [
    {
     "data": {
      "text/html": [
       "<div>\n",
       "<style scoped>\n",
       "    .dataframe tbody tr th:only-of-type {\n",
       "        vertical-align: middle;\n",
       "    }\n",
       "\n",
       "    .dataframe tbody tr th {\n",
       "        vertical-align: top;\n",
       "    }\n",
       "\n",
       "    .dataframe thead th {\n",
       "        text-align: right;\n",
       "    }\n",
       "</style>\n",
       "<table border=\"1\" class=\"dataframe\">\n",
       "  <thead>\n",
       "    <tr style=\"text-align: right;\">\n",
       "      <th></th>\n",
       "      <th>Количество родившихся чел.</th>\n",
       "    </tr>\n",
       "    <tr>\n",
       "      <th>Год</th>\n",
       "      <th></th>\n",
       "    </tr>\n",
       "  </thead>\n",
       "  <tbody>\n",
       "    <tr>\n",
       "      <th>1959-01-01</th>\n",
       "      <td>2796228</td>\n",
       "    </tr>\n",
       "    <tr>\n",
       "      <th>1960-01-01</th>\n",
       "      <td>2782353</td>\n",
       "    </tr>\n",
       "    <tr>\n",
       "      <th>1961-01-01</th>\n",
       "      <td>2662135</td>\n",
       "    </tr>\n",
       "    <tr>\n",
       "      <th>1962-01-01</th>\n",
       "      <td>2482539</td>\n",
       "    </tr>\n",
       "    <tr>\n",
       "      <th>1963-01-01</th>\n",
       "      <td>2331505</td>\n",
       "    </tr>\n",
       "    <tr>\n",
       "      <th>...</th>\n",
       "      <td>...</td>\n",
       "    </tr>\n",
       "    <tr>\n",
       "      <th>2015-01-01</th>\n",
       "      <td>1944136</td>\n",
       "    </tr>\n",
       "    <tr>\n",
       "      <th>2016-01-01</th>\n",
       "      <td>1893256</td>\n",
       "    </tr>\n",
       "    <tr>\n",
       "      <th>2017-01-01</th>\n",
       "      <td>1689884</td>\n",
       "    </tr>\n",
       "    <tr>\n",
       "      <th>2018-01-01</th>\n",
       "      <td>1599316</td>\n",
       "    </tr>\n",
       "    <tr>\n",
       "      <th>2019-01-01</th>\n",
       "      <td>1484517</td>\n",
       "    </tr>\n",
       "  </tbody>\n",
       "</table>\n",
       "<p>61 rows × 1 columns</p>\n",
       "</div>"
      ],
      "text/plain": [
       "            Количество родившихся чел.\n",
       "Год                                   \n",
       "1959-01-01                     2796228\n",
       "1960-01-01                     2782353\n",
       "1961-01-01                     2662135\n",
       "1962-01-01                     2482539\n",
       "1963-01-01                     2331505\n",
       "...                                ...\n",
       "2015-01-01                     1944136\n",
       "2016-01-01                     1893256\n",
       "2017-01-01                     1689884\n",
       "2018-01-01                     1599316\n",
       "2019-01-01                     1484517\n",
       "\n",
       "[61 rows x 1 columns]"
      ]
     },
     "execution_count": 365,
     "metadata": {},
     "output_type": "execute_result"
    }
   ],
   "source": [
    "dfs[0]"
   ]
  },
  {
   "cell_type": "markdown",
   "metadata": {},
   "source": [
    "___"
   ]
  },
  {
   "cell_type": "markdown",
   "metadata": {},
   "source": [
    "Удалённые ячейки из Курсовой работы №1"
   ]
  },
  {
   "cell_type": "markdown",
   "metadata": {},
   "source": [
    "п.2.1"
   ]
  },
  {
   "cell_type": "code",
   "execution_count": 29,
   "metadata": {
    "jupyter": {
     "source_hidden": true
    }
   },
   "outputs": [],
   "source": [
    "# создаём датафрейм, по которому будем срезать основной массив\n",
    "# здесь рассчитывается номер первого модуля, в котором есть д|з для каждого курса\n",
    "df_slicer = pd.DataFrame()\n",
    "for course in courses:\n",
    "    df_slicer = df_slicer.append(pd.DataFrame(\n",
    "        (\n",
    "            (course, df_students_month[df_students_month.course_title.eq(course)].module_number.min()),\n",
    "        ),\n",
    "            columns=['course_title', 'module_number']\n",
    "                                             )\n",
    "                                )\n",
    "df_slicer"
   ]
  },
  {
   "cell_type": "code",
   "execution_count": 30,
   "metadata": {
    "jupyter": {
     "source_hidden": true
    }
   },
   "outputs": [],
   "source": [
    "# соединяем два датафрейма с фильтрацией строк по второму (срез лишних строк)\n",
    "df_students_month_merged = pd.merge(df_students_month, df_slicer,\n",
    "                                    how='right',\n",
    "                                    on=['course_title', 'module_number'],)\n",
    "df_students_month_merged"
   ]
  },
  {
   "cell_type": "markdown",
   "metadata": {
    "jupyter": {
     "source_hidden": true
    }
   },
   "source": [
    "п.4.1"
   ]
  },
  {
   "cell_type": "markdown",
   "metadata": {
    "jupyter": {
     "source_hidden": true
    }
   },
   "source": [
    "И удалим из него все строки, где д/з не сделано (`finish_date == NaT`), кроме тех, где модуль является последним на каждом из курсов. Последний модуль может быть и недоделан - это уже не повлияет на расчёты, т.к. по условию, для последнего модуля в формуле фигурирует лишь дата начала модуля и дата сдачи предпоследнего модуля. В остальных же случаях, нам важно чтобы были представлены и дата начала модуля и дата успешной сдачи д/з по каждому из модулей каждого курса.\n",
    "Итак, удалим все строки с **NaT** в колонке `finish_date` кроме тех, которые относятся к последнему модулю на каждом из курсов. Для этого найдём сначала номера последних модулей на каждом из курсов."
   ]
  },
  {
   "cell_type": "code",
   "execution_count": 62,
   "metadata": {
    "jupyter": {
     "source_hidden": true
    }
   },
   "outputs": [],
   "source": [
    "last_module = df_with_hw.groupby('course_title').module_number.transform('max')"
   ]
  },
  {
   "cell_type": "markdown",
   "metadata": {
    "jupyter": {
     "source_hidden": true
    }
   },
   "source": [
    "А теперь избавимся от неинформативных строк для расчётов по требуемой формуле"
   ]
  },
  {
   "cell_type": "code",
   "execution_count": 64,
   "metadata": {
    "jupyter": {
     "source_hidden": true
    }
   },
   "outputs": [],
   "source": [
    "# запрос, удаляющий неинформативные для данного задания строки из датафрейма\n",
    "df_hw_done = df_hw_done[~(df_hw_done.finish_date.isna() & df_hw_done.module_number.ne(last_module))]"
   ]
  },
  {
   "cell_type": "markdown",
   "metadata": {
    "jupyter": {
     "source_hidden": true
    }
   },
   "source": [
    "А теперь уберём из датафрейма тех студентов, у которых на вышеуказанных курсах выполнены не все д/з в тех модулях, в которых более чем одно д/з. Как исключение, оставим, однако, тех студентов, которые выполнили не все д/з в последнем модуле, т.к. для рассчёта конверсии завершение всех домашних работ в последнем модуле не требуется, но при этом, нужно знать сколько всего студентов перешло (начали выполнять д/з) на последний модуль. Поэтому напишем соответствущее логическое условие выборки из датафрейма нужных нам записей."
   ]
  },
  {
   "cell_type": "code",
   "execution_count": 69,
   "metadata": {
    "jupyter": {
     "source_hidden": true
    }
   },
   "outputs": [],
   "source": [
    "for course in courses:\n",
    "    df_all_lessons.loc[course, 'last_module'] = df_all_lessons.loc[course].index.get_level_values(1).max()\n",
    "    \n",
    "df_final = df_all_lessons[(df_all_lessons.lesson_number == df_all_lessons.lesson_number_all) |\n",
    "                          (df_all_lessons.index.get_level_values(2) == df_all_lessons.last_module)]\n",
    "df_final"
   ]
  },
  {
   "cell_type": "markdown",
   "metadata": {},
   "source": [
    "___"
   ]
  },
  {
   "cell_type": "code",
   "execution_count": 73,
   "metadata": {},
   "outputs": [],
   "source": [
    "with open(r'D:\\Курсы\\Skillbox\\Data Science\\Coursework#1\\contents.txt', mode='r', encoding='utf8') as ff:\n",
    "    f = open(r'D:\\Курсы\\Skillbox\\Data Science\\Coursework#1\\out.txt', mode='w', encoding='utf8')\n",
    "    for row in ff.readlines():\n",
    "        string1 = '4.' + row.strip('\\n')\n",
    "        string2 = row[:1] + ' ' + row.rstrip('\\n')[3:].lstrip('*(mp)* ')\n",
    "        string2 = f\"#4.{string2}\"\n",
    "        f.write(f\"[{string1}]({string2.replace(' ', '-')})<br>\\n\")\n",
    "    f.close()"
   ]
  },
  {
   "cell_type": "code",
   "execution_count": 74,
   "metadata": {},
   "outputs": [],
   "source": [
    "with open(r'D:\\Курсы\\Skillbox\\Data Science\\Coursework#1\\contents.txt', mode='r', encoding='utf8') as ff:\n",
    "    f = open(r'D:\\Курсы\\Skillbox\\Data Science\\Coursework#1\\out.txt', mode='w', encoding='utf8')\n",
    "    for row in ff.readlines():\n",
    "        string = row[:1] + ' ' + row.rstrip('\\n')[3:].lstrip('*(mp)* ')        \n",
    "        f.write(f\"### 4.{string}\\n\")\n",
    "    f.close()"
   ]
  }
 ],
 "metadata": {
  "kernelspec": {
   "display_name": "Python 3",
   "language": "python",
   "name": "python3"
  },
  "language_info": {
   "codemirror_mode": {
    "name": "ipython",
    "version": 3
   },
   "file_extension": ".py",
   "mimetype": "text/x-python",
   "name": "python",
   "nbconvert_exporter": "python",
   "pygments_lexer": "ipython3",
   "version": "3.8.3"
  }
 },
 "nbformat": 4,
 "nbformat_minor": 4
}
