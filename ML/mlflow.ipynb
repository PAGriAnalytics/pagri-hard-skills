{
 "cells": [
  {
   "cell_type": "markdown",
   "metadata": {},
   "source": [
    "https://github.com/mlflow/mlflow"
   ]
  },
  {
   "cell_type": "markdown",
   "metadata": {},
   "source": [
    "MLflow - это инструмент для управления жизненным циклом машинного обучения: отслеживание экспериментов,  \n",
    "управление и деплой моделей и проектов. В этом руководстве мы посмотрим, как организовать эксперименты и запуски,  \n",
    "оптимизировать гиперпараметры с помощью optuna, сравнивать модели и выбирать лучшие параметры.   \n",
    "Также рассмотрим логирование моделей, использование их в разных форматах, упаковку проекта в MLproject и установку удаленного Tracking Server MLflow."
   ]
  },
  {
   "cell_type": "code",
   "execution_count": null,
   "metadata": {},
   "outputs": [],
   "source": [
    "!pip uninstall mlflow"
   ]
  },
  {
   "cell_type": "markdown",
   "metadata": {},
   "source": [
    "Можно просто установить mlflow и испольовать"
   ]
  },
  {
   "cell_type": "markdown",
   "metadata": {},
   "source": [
    "Можно установить conda и создать новоет окружение:"
   ]
  },
  {
   "cell_type": "code",
   "execution_count": null,
   "metadata": {
    "vscode": {
     "languageId": "shellscript"
    }
   },
   "outputs": [],
   "source": [
    "name: mlflow-example\n",
    "channels:\n",
    "  - conda-forge\n",
    "  - defaults\n",
    "dependencies:\n",
    "  - python=3.11.4\n",
    "  - pip=24.0\n",
    "  - mlflow=2.14.2\n",
    "  - xgboost=2.0.3\n",
    "  - jupyter=1.0.0\n",
    "  - loguru=0.7.2\n",
    "  - shap=0.45.1\n",
    "  - pandas=2.2.2\n",
    "  - scikit-learn=1.5.1\n",
    "  - scipy=1.14.0\n",
    "  - numpy=1.26.4\n",
    "  - jupytext=1.16.3\n",
    "  - psutil=6.0.0\n",
    "  - boto3=1.34.148\n",
    "  - psycopg2-binary=2.9.9\n",
    "  - pip:\n",
    "    - optuna==3.6.1\n",
    "    - mlserver==1.3.5\n",
    "    - mlserver-mlflow==1.3.5\n",
    "    - mlserver-xgboost==1.3.5"
   ]
  },
  {
   "cell_type": "markdown",
   "metadata": {},
   "source": [
    "Можно установить вручную или сохранить этот файл локально и вызвать:  \n",
    "\n",
    "conda env create -f conda.yaml  \n",
    "Теперь можно использовать это окружение в IDE или в терминале:  \n",
    "\n",
    "conda activate mlflow-example  "
   ]
  },
  {
   "cell_type": "markdown",
   "metadata": {},
   "source": [
    "Выполните в терминале mlflow ui, чтобы запустить MLflow на localhost:5000.\n",
    "\n",
    "Mlflow будет запущен в локальном режиме, по умолчанию он создаст папку mlruns для хранения артефактов и метаинформации."
   ]
  },
  {
   "cell_type": "code",
   "execution_count": null,
   "metadata": {},
   "outputs": [],
   "source": [
    "!mlflow ui"
   ]
  },
  {
   "cell_type": "markdown",
   "metadata": {},
   "source": [
    "Далее просто передаем в метод `mlflow.log_metric` то, что хотим трекать "
   ]
  },
  {
   "cell_type": "code",
   "execution_count": null,
   "metadata": {},
   "outputs": [],
   "source": [
    "import mlflow\n",
    "\n",
    "def log_metrics(rmse_train, \n",
    "                mae_train, \n",
    "                r2_train, \n",
    "                rmse_valid, \n",
    "                mae_valid, \n",
    "                r2_valid):\n",
    "    mlflow.log_metric('rmse_train', rmse_train)\n",
    "    mlflow.log_metric('mae_train', mae_train)\n",
    "    mlflow.log_metric('r2_train', r2_train)\n",
    "    \n",
    "    mlflow.log_metric('rmse_valid', rmse_valid)\n",
    "    mlflow.log_metric('mae_valid', mae_valid)\n",
    "    mlflow.log_metric('r2_valid', r2_valid)"
   ]
  },
  {
   "cell_type": "code",
   "execution_count": null,
   "metadata": {},
   "outputs": [],
   "source": [
    "def log_parameters(model, only_model_name=True, **params):\n",
    "    name = model.__class__.__name__\n",
    "    if only_model_name:\n",
    "        mlflow.log_param('model_name', name)\n",
    "    else:\n",
    "        mlflow.sklearn.log_model(model, name)\n",
    "    mlflow.log_params(params)"
   ]
  },
  {
   "cell_type": "markdown",
   "metadata": {},
   "source": [
    "Теперь указываем, что мы будем проводить эксперимент такой-то  \n",
    "По сути создасться папка и в нее будет все скаладываться"
   ]
  },
  {
   "cell_type": "code",
   "execution_count": null,
   "metadata": {},
   "outputs": [],
   "source": [
    "mlflow.set_experiment('Boston')"
   ]
  },
  {
   "cell_type": "markdown",
   "metadata": {},
   "source": [
    "Используем примерно так"
   ]
  },
  {
   "cell_type": "code",
   "execution_count": null,
   "metadata": {},
   "outputs": [],
   "source": [
    "X_train, y_train, X_valid, y_valid = fixed_train_test_split(df)\n",
    "\n",
    "clf = LinearRegression()\n",
    "clf.fit(X_train, y_train)\n",
    "\n",
    "y_pred_t = clf.predict(X_train)\n",
    "y_pred = clf.predict(X_valid)\n",
    "\n",
    "rt, mt, r2t = calc_metrics(y_train, y_pred_t)\n",
    "r, m, r2 = calc_metrics(y_valid, y_pred)\n",
    "\n",
    "# создаем новую строчку в таблице и называем ее 'Baseline'\n",
    "with mlflow.start_run(run_name='Baseline'):\n",
    "    log_metrics(rt, mt, r2t, r, m, r2)\n",
    "    log_parameters(clf)"
   ]
  },
  {
   "cell_type": "markdown",
   "metadata": {},
   "source": [
    "Теперь нам нужно из папки с проектом запустить в командной строке  \n",
    "`mlflow ui`  \n",
    "У нас в папке проекта будет папка `mlflow` с данными, которые мы трекали,  \n",
    "поэтому нужно запускать команду `mlflow ui` из папки проекта"
   ]
  }
 ],
 "metadata": {
  "kernelspec": {
   "display_name": "Python 3.7.1 64-bit",
   "language": "python",
   "name": "python3"
  },
  "language_info": {
   "codemirror_mode": {
    "name": "ipython",
    "version": 3
   },
   "file_extension": ".py",
   "mimetype": "text/x-python",
   "name": "python",
   "nbconvert_exporter": "python",
   "pygments_lexer": "ipython3",
   "version": "3.7.1"
  },
  "orig_nbformat": 4,
  "vscode": {
   "interpreter": {
    "hash": "fbe58ca63fe33f9eeae9e71d10368d2b4a57f2b1b395836210cc60d362c66949"
   }
  }
 },
 "nbformat": 4,
 "nbformat_minor": 2
}
