{
 "cells": [
  {
   "cell_type": "code",
   "execution_count": null,
   "metadata": {},
   "outputs": [],
   "source": [
    "!pip install xlsxwriter"
   ]
  },
  {
   "cell_type": "code",
   "execution_count": 5,
   "metadata": {},
   "outputs": [],
   "source": [
    "import xlsxwriter\n",
    "import random"
   ]
  },
  {
   "cell_type": "markdown",
   "metadata": {},
   "source": [
    "https://www.geeksforgeeks.org/working-with-xlsxwriter-module-python/"
   ]
  },
  {
   "cell_type": "code",
   "execution_count": 10,
   "metadata": {},
   "outputs": [],
   "source": [
    "with xlsxwriter.Workbook('excel_from_python.xlsx') as workbook:\n",
    "    worksheet = workbook.add_worksheet('first sheet')\n",
    "    bold = workbook.add_format({'bold': True})\n",
    "    worksheet.write(0, 0, 'Название счетчика', bold)\n",
    "    worksheet.write(0, 1, 'Номер счетчика', bold)\n",
    "    worksheet.write(0, 2, 'Pageviews', bold)\n",
    "    worksheet.write(0, 3, 'Users', bold)\n",
    "    worksheet.write(0, 4, 'Visits', bold)\n",
    "\n",
    "    for i in range(1, 20):\n",
    "        worksheet.write(i, 0, random.random(), bold)\n",
    "        worksheet.write(i, 1, random.random(), bold)\n",
    "        worksheet.write(i, 2, random.random(), bold)\n",
    "        worksheet.write(i, 3, random.random(), bold)\n",
    "        worksheet.write(i, 4, random.random(), bold)"
   ]
  },
  {
   "cell_type": "markdown",
   "metadata": {},
   "source": [
    "working with formula"
   ]
  },
  {
   "cell_type": "code",
   "execution_count": null,
   "metadata": {},
   "outputs": [],
   "source": [
    "workbook = xlsxwriter.Workbook('sample.xlsx') \n",
    "worksheet = workbook.add_worksheet() \n",
    " \n",
    "content = [1, 2] \n",
    " \n",
    "# Writing to row and column respectively\n",
    "worksheet.write_row(0, 1, content)\n",
    "worksheet.write_column(1, 0, content)\n",
    " \n",
    "# Using the array formula to find the\n",
    "# sum and the product of the given cells\n",
    "worksheet.write_formula('A4', '{=SUM(A2, A3)}')\n",
    "worksheet.write_formula('D1', '{=PRODUCT(B1, C1)}')\n",
    " \n",
    "workbook.close()"
   ]
  },
  {
   "cell_type": "code",
   "execution_count": null,
   "metadata": {},
   "outputs": [],
   "source": [
    "!pip install openpyxl"
   ]
  },
  {
   "cell_type": "code",
   "execution_count": 11,
   "metadata": {},
   "outputs": [],
   "source": [
    "import openpyxl"
   ]
  },
  {
   "cell_type": "markdown",
   "metadata": {},
   "source": [
    "https://translated.turbopages.org/proxy_u/en-ru.ru.062168bc-66975116-e7a102c5-74722d776562/https/www.geeksforgeeks.org/working-with-excel-spreadsheets-in-python/  \n",
    "https://translated.turbopages.org/proxy_u/en-ru.ru.062168bc-66975116-e7a102c5-74722d776562/https/www.geeksforgeeks.org/python-arithmetic-operations-in-excel-file-using-openpyxl/"
   ]
  },
  {
   "cell_type": "code",
   "execution_count": null,
   "metadata": {},
   "outputs": [],
   "source": [
    "\n",
    "# Replace 'f_name_xls' with the path to your Excel file.\n",
    "with open(f_name_xls, 'rb') as f:\n",
    "    wb = load_workbook(f)\n",
    "    ws = wb.active\n",
    "    # Perform your operations on the worksheet (ws) here."
   ]
  },
  {
   "cell_type": "code",
   "execution_count": 24,
   "metadata": {},
   "outputs": [
    {
     "name": "stdout",
     "output_type": "stream",
     "text": [
      "('Hello, World!', 'Привет, Мир!')\n",
      "(None, None)\n",
      "(None, None)\n",
      "(None, None)\n",
      "(None, None)\n"
     ]
    }
   ],
   "source": [
    "# Чтение из excel\n",
    "with open('excel_from_python.xlsx', 'rb') as f:\n",
    "    workbook = openpyxl.load_workbook(f)\n",
    "    sheet = workbook.active  # Получение активного листа\n",
    "    sheet = workbook[\"New Sheet\"]  # Получение листа по имени\n",
    "    cell_value = sheet[\"A1\"].value  # Получение значения ячейки A1\n",
    "    cell_value = sheet.cell(row=1, column=2).value  # Получение значения ячейки A1\n",
    "    # Также можно перебирать ячейки в цикле, например:\n",
    "    for row in sheet.iter_rows(min_row=1, max_row=5, values_only=True):\n",
    "        print(row)        "
   ]
  },
  {
   "cell_type": "code",
   "execution_count": 29,
   "metadata": {},
   "outputs": [],
   "source": [
    "# Запись в excel\n",
    "with open('excel_from_python.xlsx', 'rb') as f:\n",
    "    workbook = openpyxl.load_workbook(f)\n",
    "    workbook = openpyxl.load_workbook(\"excel_from_python.xlsx\")\n",
    "    sheet = workbook.create_sheet(\"New Sheet test\")  # Создание нового листа\n",
    "    sheet[\"A1\"] = \"Hello, World!\"  # Запись значения в ячейку A1\n",
    "    sheet.cell(row=1, column=2, value=\"Привет, Мир!\")  # Запись значения в ячейку B1    \n",
    "    data = ( \n",
    "    (1, 2, 3), \n",
    "    (4, 5, 6) \n",
    "    ) \n",
    "    \n",
    "    for row in data: \n",
    "        # добавляет данные в конец листа (конец это последняя строка с данными в листе)\n",
    "        sheet.append(row) \n",
    "\n",
    "    sheet['E1'] = 200\n",
    "    sheet['E2'] = 300\n",
    "    sheet['E3'] = 400\n",
    "    sheet['E4'] = 500\n",
    "    sheet['E5'] = 600\n",
    "\n",
    "    sheet['E7'] = '= SUM(E1:E5)'\n",
    "    workbook.save(\"excel_from_python.xlsx\")"
   ]
  },
  {
   "cell_type": "code",
   "execution_count": null,
   "metadata": {},
   "outputs": [],
   "source": [
    "?sheet.append"
   ]
  },
  {
   "cell_type": "markdown",
   "metadata": {},
   "source": [
    "Я перепробовал все эти решения для закрытия файла xlsx в режиме \"только для чтения\", и, похоже, ни одно из них не справляется с этой задачей.   \n",
    "В итоге я использовал файл in-mem:"
   ]
  },
  {
   "cell_type": "code",
   "execution_count": null,
   "metadata": {},
   "outputs": [],
   "source": [
    "import io\n",
    "with open(xlsx_filename, \"rb\") as f:\n",
    "    in_mem_file = io.BytesIO(f.read())\n",
    "\n",
    "wb = openpyxl.load_workbook(in_mem_file, read_only=True)"
   ]
  },
  {
   "cell_type": "code",
   "execution_count": null,
   "metadata": {},
   "outputs": [],
   "source": []
  }
 ],
 "metadata": {
  "kernelspec": {
   "display_name": "Python 3.7.1 64-bit",
   "language": "python",
   "name": "python3"
  },
  "language_info": {
   "codemirror_mode": {
    "name": "ipython",
    "version": 3
   },
   "file_extension": ".py",
   "mimetype": "text/x-python",
   "name": "python",
   "nbconvert_exporter": "python",
   "pygments_lexer": "ipython3",
   "version": "3.7.1"
  },
  "orig_nbformat": 4,
  "vscode": {
   "interpreter": {
    "hash": "fbe58ca63fe33f9eeae9e71d10368d2b4a57f2b1b395836210cc60d362c66949"
   }
  }
 },
 "nbformat": 4,
 "nbformat_minor": 2
}
