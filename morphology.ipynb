{
 "cells": [
  {
   "cell_type": "markdown",
   "metadata": {},
   "source": [
    "MyStem — это продукт от Яндекса, предоставляющий возможности для морфологического и синтаксического анализа текстов.   \n",
    "Он работает как консольное приложение и доступен для различных операционных систем (Windows, Linux, MacOS).   \n",
    "MyStem использует собственные алгоритмы для определения начальной формы слова и его грамматических характеристик  \n",
    "\n",
    "Например, базовая лемматизация и морфологический анализ:"
   ]
  },
  {
   "cell_type": "code",
   "execution_count": null,
   "metadata": {},
   "outputs": [],
   "source": [
    "!pip install pymystem3"
   ]
  },
  {
   "cell_type": "code",
   "execution_count": null,
   "metadata": {},
   "outputs": [],
   "source": [
    "\n",
    "from pymystem3 import Mystem\n",
    "\n",
    "m = Mystem()\n",
    "text = \"Мама мыла раму каждый вечер перед сном.\"\n",
    "lemmas = m.lemmatize(text)\n",
    "print(''.join(lemmas))breakpoint\n",
    "\n",
    "analyzed = m.analyze(text)\n",
    "for word_info in analyzed:\n",
    "    if 'analysis' in word_info and word_info['analysis']:\n",
    "        gr = word_info['analysis'][0]['gr']\n",
    "        print(f\"{word_info['text']} - {gr}\")"
   ]
  },
  {
   "cell_type": "markdown",
   "metadata": {},
   "source": [
    "- С помощью лематизации мы можем сократить количество категорий.  "
   ]
  },
  {
   "cell_type": "code",
   "execution_count": null,
   "metadata": {},
   "outputs": [],
   "source": [
    "# лемматизация\n",
    "\n",
    "unique_purpose = data['purpose'].unique()\n",
    "lemmas_list = []\n",
    "m = Mystem()\n",
    "for purpose in unique_purpose:\n",
    "    lemmas = ''.join(m.lemmatize(purpose)).strip()\n",
    "    lemmas_list.append(lemmas)\n"
   ]
  },
  {
   "cell_type": "markdown",
   "metadata": {},
   "source": [
    "Выделяются группы:\n",
    "- операции с автомобилем (ключевое слово - автомобиль)\n",
    "- операции с недвижимостью (ключевые слова: жилье, недвижимость)\n",
    "- проведение свадьбы (ключевое слово: свадьба)\n",
    "- получение образования (ключевое слово: образование)\n"
   ]
  },
  {
   "cell_type": "code",
   "execution_count": null,
   "metadata": {},
   "outputs": [],
   "source": [
    "# Функция для назначения категории цели\n",
    "\n",
    "def create_category_purpose(row):\n",
    "    lem_purpose = m.lemmatize(row['purpose'])\n",
    "    try:\n",
    "        if 'автомобиль' in lem_purpose:\n",
    "            return 'операции с автомобилем'\n",
    "        if ('жилье' in lem_purpose) or ('недвижимость' in lem_purpose ):\n",
    "            return 'операции с недвижимостью'\n",
    "        if 'свадьба' in lem_purpose:\n",
    "            return 'проведение свадьбы'\n",
    "        if 'образование' in lem_purpose:\n",
    "            return 'получение образования'\n",
    "    except:\n",
    "        return 'нет категории'"
   ]
  },
  {
   "cell_type": "markdown",
   "metadata": {},
   "source": [
    "PyMorphy2 также предоставляет функции для морфологического анализа текстов, но в отличие от MyStem,   \n",
    "PyMorphy2 полностью открыта и развивается сообществом. Библиотека использует словари OpenCorpora для анализа и может работать с русским и украинским языком.   \n",
    "PyMorphy2 также предлагает API.\n",
    "\n",
    "Примеры использования:\n"
   ]
  },
  {
   "cell_type": "code",
   "execution_count": null,
   "metadata": {},
   "outputs": [],
   "source": [
    "\n",
    "import pymorphy2\n",
    "\n",
    "\n",
    "# Определение части речи и форм слова:\n",
    "\n",
    "morph = pymorphy2.MorphAnalyzer()\n",
    "word = 'стали'\n",
    "parsed_word = morph.parse(word)[0]\n",
    "print(f\"Нормальная форма: {parsed_word.normal_form}\")\n",
    "print(f\"Часть речи: {parsed_word.tag.POS}\")\n",
    "print(f\"Полное морфологическое описание: {parsed_word.tag}\")\n",
    "\n",
    "# Согласование слова с числом:\n",
    "\n",
    "word = 'книга'\n",
    "parsed_word = morph.parse(word)[0]\n",
    "plural = parsed_word.make_agree_with_number(5).word\n",
    "print(f\"Множественное число слова '{word}': {plural}\")\n",
    "\n",
    "# Работа с различными падежами:\n",
    "\n",
    "word = 'город'\n",
    "parsed_word = morph.parse(word)[0]\n",
    "for case in ['nomn', 'gent', 'datv', 'accs', 'ablt', 'loct']:\n",
    "    form = parsed_word.inflect({case}).word\n",
    "    print(f\"{case}: {form}\")"
   ]
  },
  {
   "cell_type": "code",
   "execution_count": null,
   "metadata": {},
   "outputs": [],
   "source": []
  }
 ],
 "metadata": {
  "kernelspec": {
   "display_name": "Python 3.7.1 64-bit",
   "language": "python",
   "name": "python3"
  },
  "language_info": {
   "codemirror_mode": {
    "name": "ipython",
    "version": 3
   },
   "file_extension": ".py",
   "mimetype": "text/x-python",
   "name": "python",
   "nbconvert_exporter": "python",
   "pygments_lexer": "ipython3",
   "version": "3.7.1"
  },
  "orig_nbformat": 4,
  "vscode": {
   "interpreter": {
    "hash": "fbe58ca63fe33f9eeae9e71d10368d2b4a57f2b1b395836210cc60d362c66949"
   }
  }
 },
 "nbformat": 4,
 "nbformat_minor": 2
}
