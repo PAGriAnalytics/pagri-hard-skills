{
 "cells": [
  {
   "cell_type": "markdown",
   "metadata": {},
   "source": [
    "Табло для синих переменных (дискретных) создает разбивку, а для зеленых (непрерывных) — создает ось.  "
   ]
  },
  {
   "cell_type": "markdown",
   "metadata": {
    "vscode": {
     "languageId": "plaintext"
    }
   },
   "source": [
    "Если у нас на графике много  линий и получается спагети, то нужно выделить главную.  \n",
    "Чтобы это сделать \n",
    "- слева нажимаем на нужную категорию\n",
    "- выбираем create\n",
    "- set\n",
    "- далее выбираем категории, которые мы хотим выделить\n",
    "- и далее в color добавляем новую set переменную"
   ]
  },
  {
   "cell_type": "markdown",
   "metadata": {
    "vscode": {
     "languageId": "plaintext"
    }
   },
   "source": [
    "Подписи по оси y лучше выравнивать по левому краю, так лучше читается и удобнее выравнивать на дашборде.  "
   ]
  },
  {
   "cell_type": "markdown",
   "metadata": {
    "vscode": {
     "languageId": "plaintext"
    }
   },
   "source": [
    "Чтобы создать таблицу нужно категорию кинуть в столбцы или строки, а mesure values кинуть в текст и ещё дополнительно mesure names кинуть в строки или столбцы (в зависимости от того, куда кинули категорию)"
   ]
  },
  {
   "cell_type": "code",
   "execution_count": null,
   "metadata": {
    "vscode": {
     "languageId": "plaintext"
    }
   },
   "outputs": [],
   "source": []
  },
  {
   "cell_type": "code",
   "execution_count": null,
   "metadata": {
    "vscode": {
     "languageId": "plaintext"
    }
   },
   "outputs": [],
   "source": []
  }
 ],
 "metadata": {
  "language_info": {
   "name": "python"
  }
 },
 "nbformat": 4,
 "nbformat_minor": 2
}
