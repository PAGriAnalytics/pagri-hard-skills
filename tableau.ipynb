{
 "cells": [
  {
   "cell_type": "markdown",
   "metadata": {},
   "source": [
    "Табло для синих переменных (дискретных) создает разбивку, а для зеленых (непрерывных) — создает ось.  "
   ]
  },
  {
   "cell_type": "markdown",
   "metadata": {
    "vscode": {
     "languageId": "plaintext"
    }
   },
   "source": [
    "Если у нас на графике много  линий и получается спагети, то нужно выделить главную.  \n",
    "Чтобы это сделать \n",
    "- слева нажимаем на нужную категорию\n",
    "- выбираем create\n",
    "- set\n",
    "- далее выбираем категории, которые мы хотим выделить\n",
    "- и далее в color добавляем эту категорию"
   ]
  },
  {
   "cell_type": "code",
   "execution_count": null,
   "metadata": {
    "vscode": {
     "languageId": "plaintext"
    }
   },
   "outputs": [],
   "source": []
  },
  {
   "cell_type": "code",
   "execution_count": null,
   "metadata": {
    "vscode": {
     "languageId": "plaintext"
    }
   },
   "outputs": [],
   "source": []
  },
  {
   "cell_type": "code",
   "execution_count": null,
   "metadata": {
    "vscode": {
     "languageId": "plaintext"
    }
   },
   "outputs": [],
   "source": []
  }
 ],
 "metadata": {
  "language_info": {
   "name": "python"
  }
 },
 "nbformat": 4,
 "nbformat_minor": 2
}
