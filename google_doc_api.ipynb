{
 "cells": [
  {
   "cell_type": "code",
   "execution_count": 1,
   "metadata": {},
   "outputs": [],
   "source": [
    "import gspread\n",
    "import pandas as pd\n",
    "from oauth2client.service_account import ServiceAccountCredentials\n",
    "from df2gspread import df2gspread as d2g\n",
    "# Specify path to your file with credentials\n",
    "path_to_credential = '/home/pagri/Downloads/phrasal-indexer-441011-f5-d22bec1302ba.json'# Specify name of table in google sheets\n",
    "my_mail = 'pagri-404@phrasal-indexer-441011-f5.iam.gserviceaccount.com'\n",
    "scope = ['https://spreadsheets.google.com/feeds',\n",
    "'https://www.googleapis.com/auth/drive']\n",
    "credentials = ServiceAccountCredentials.from_json_keyfile_name(path_to_credential, scope)\n",
    "gs = gspread.authorize(credentials)"
   ]
  },
  {
   "cell_type": "markdown",
   "metadata": {},
   "source": [
    "ВАЖНО  \n",
    "нужно добавить сервисную почту в права доступа таблицы или сделать таблицу публичной"
   ]
  },
  {
   "cell_type": "code",
   "execution_count": 36,
   "metadata": {},
   "outputs": [
    {
     "data": {
      "text/html": [
       "<div>\n",
       "<style scoped>\n",
       "    .dataframe tbody tr th:only-of-type {\n",
       "        vertical-align: middle;\n",
       "    }\n",
       "\n",
       "    .dataframe tbody tr th {\n",
       "        vertical-align: top;\n",
       "    }\n",
       "\n",
       "    .dataframe thead th {\n",
       "        text-align: right;\n",
       "    }\n",
       "</style>\n",
       "<table border=\"1\" class=\"dataframe\">\n",
       "  <thead>\n",
       "    <tr style=\"text-align: right;\">\n",
       "      <th></th>\n",
       "      <th>name</th>\n",
       "      <th>salary</th>\n",
       "      <th>gender</th>\n",
       "    </tr>\n",
       "  </thead>\n",
       "  <tbody>\n",
       "    <tr>\n",
       "      <th>0</th>\n",
       "      <td>sam</td>\n",
       "      <td>100</td>\n",
       "      <td>male</td>\n",
       "    </tr>\n",
       "    <tr>\n",
       "      <th>1</th>\n",
       "      <td>john</td>\n",
       "      <td>200</td>\n",
       "      <td>male</td>\n",
       "    </tr>\n",
       "    <tr>\n",
       "      <th>2</th>\n",
       "      <td>magy</td>\n",
       "      <td>50</td>\n",
       "      <td>female</td>\n",
       "    </tr>\n",
       "    <tr>\n",
       "      <th>3</th>\n",
       "      <td>tony</td>\n",
       "      <td>400</td>\n",
       "      <td>male</td>\n",
       "    </tr>\n",
       "    <tr>\n",
       "      <th>4</th>\n",
       "      <td>tony</td>\n",
       "      <td>400</td>\n",
       "      <td>male</td>\n",
       "    </tr>\n",
       "  </tbody>\n",
       "</table>\n",
       "</div>"
      ],
      "text/plain": [
       "   name salary  gender\n",
       "0   sam    100    male\n",
       "1  john    200    male\n",
       "2  magy     50  female\n",
       "3  tony    400    male\n",
       "4  tony    400    male"
      ]
     },
     "execution_count": 36,
     "metadata": {},
     "output_type": "execute_result"
    }
   ],
   "source": [
    "table_name = 'test_sheet_for_doc_api'\n",
    "work_sheet = gs.open(table_name)\n",
    "# Select 1st sheet\n",
    "sheet1 = work_sheet.sheet1\n",
    "# Get data in python lists format\n",
    "data = sheet1.get_all_values()\n",
    "# Get header from data\n",
    "headers = data.pop(0)\n",
    "# Create df\n",
    "df = pd.DataFrame(data, columns=headers)\n",
    "df.head()"
   ]
  },
  {
   "cell_type": "markdown",
   "metadata": {},
   "source": [
    "Чтобы загрузить в таблицу строку"
   ]
  },
  {
   "cell_type": "code",
   "execution_count": 28,
   "metadata": {},
   "outputs": [
    {
     "data": {
      "text/plain": [
       "{'spreadsheetId': '1CKWTv_odAiT7XkF4N6eIeD_bNDlfiPKsdmz8HcZlIeo',\n",
       " 'tableRange': 'Sheet1!A1:C4',\n",
       " 'updates': {'spreadsheetId': '1CKWTv_odAiT7XkF4N6eIeD_bNDlfiPKsdmz8HcZlIeo',\n",
       "  'updatedRange': 'Sheet1!A5:C5',\n",
       "  'updatedRows': 1,\n",
       "  'updatedColumns': 3,\n",
       "  'updatedCells': 3}}"
      ]
     },
     "execution_count": 28,
     "metadata": {},
     "output_type": "execute_result"
    }
   ],
   "source": [
    "sheet1.append_row(['tony', '400', 'male'])"
   ]
  },
  {
   "cell_type": "markdown",
   "metadata": {},
   "source": [
    "Создание своей таблицы"
   ]
  },
  {
   "cell_type": "code",
   "execution_count": 52,
   "metadata": {},
   "outputs": [
    {
     "data": {
      "text/plain": [
       "<Response [200]>"
      ]
     },
     "execution_count": 52,
     "metadata": {},
     "output_type": "execute_result"
    }
   ],
   "source": [
    "# Create empty table\n",
    "table_name = 'new_test_spreaddsheet'\n",
    "spreadsheet = gs.create(table_name)\n",
    "# Make it visible to other guys\n",
    "spreadsheet.share('bestorlov1992@gmail.com', perm_type='user', role='writer')\n",
    "spreadsheet.share(my_mail, perm_type='user', role='writer')"
   ]
  },
  {
   "cell_type": "markdown",
   "metadata": {},
   "source": [
    "Создаем лист"
   ]
  },
  {
   "cell_type": "code",
   "execution_count": null,
   "metadata": {},
   "outputs": [],
   "source": [
    "new_worksheet = spreadsheet.add_worksheet(title=\"Master\", rows=\"100\", cols=\"20\")"
   ]
  },
  {
   "cell_type": "markdown",
   "metadata": {},
   "source": [
    "Чтобы загрузить лист"
   ]
  },
  {
   "cell_type": "markdown",
   "metadata": {},
   "source": [
    "Если лист пустой, то нужно указать `clean=False`"
   ]
  },
  {
   "cell_type": "code",
   "execution_count": 7,
   "metadata": {},
   "outputs": [],
   "source": [
    "df = pd.DataFrame({'column1': [5, 2, 3], 'column2': [4, 5, 6]})"
   ]
  },
  {
   "cell_type": "code",
   "execution_count": null,
   "metadata": {},
   "outputs": [],
   "source": [
    "d2g.upload(df, table_name, 'Master', credentials=credentials, clean=True)"
   ]
  }
 ],
 "metadata": {
  "kernelspec": {
   "display_name": "pagri-projects-W8_aXYna-py3.12",
   "language": "python",
   "name": "python3"
  },
  "language_info": {
   "codemirror_mode": {
    "name": "ipython",
    "version": 3
   },
   "file_extension": ".py",
   "mimetype": "text/x-python",
   "name": "python",
   "nbconvert_exporter": "python",
   "pygments_lexer": "ipython3",
   "version": "3.12.7"
  }
 },
 "nbformat": 4,
 "nbformat_minor": 2
}
