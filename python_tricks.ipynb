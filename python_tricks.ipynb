{
 "cells": [
  {
   "cell_type": "markdown",
   "metadata": {},
   "source": [
    "Когда устанавливаем библиотеки, то не забываем подумать где мы их ставим.  \n",
    "Есил мы ставим их не себе на комп, то нужно добавлять --user, чтобы поставить только текущему пользователю,  \n",
    "чтобы не мещать другим   \n",
    "также лучше добавлять --upgrade, чтобы обновить версию  "
   ]
  },
  {
   "cell_type": "code",
   "execution_count": null,
   "metadata": {},
   "outputs": [],
   "source": [
    "!pip install module_name --user --upgrade"
   ]
  },
  {
   "cell_type": "markdown",
   "metadata": {},
   "source": [
    "`sys.getsizeof` возвращает размер объета в байтах"
   ]
  },
  {
   "cell_type": "code",
   "execution_count": 19,
   "metadata": {},
   "outputs": [
    {
     "data": {
      "text/plain": [
       "73"
      ]
     },
     "execution_count": 19,
     "metadata": {},
     "output_type": "execute_result"
    }
   ],
   "source": [
    "import sys\n",
    "d = {'asdfasdf': 1, 'dfsfsgdfg': 2}\n",
    "sys.getsizeof(d)"
   ]
  },
  {
   "cell_type": "markdown",
   "metadata": {},
   "source": [
    "Если нам нужно проводить сложные вычисления и у нас много повторных вычислений для одного аргумента,  \n",
    "то лучше испльзовать кэширование в словарь  \n",
    "Очень пригодиться, когда нужно лематизировать большой текст, чтобы не лематизировать одно и то же слово много раз"
   ]
  },
  {
   "cell_type": "code",
   "execution_count": 1,
   "metadata": {},
   "outputs": [],
   "source": [
    "def func(x):\n",
    "    return x**3 + x**3 + x + 11\n",
    "d = {}\n",
    "\n",
    "def f_cached(x):\n",
    "    if x in d:\n",
    "        return d[x]\n",
    "    res = func(x)\n",
    "    d[x] = res\n",
    "    return res"
   ]
  },
  {
   "cell_type": "markdown",
   "metadata": {},
   "source": [
    "Объединение через распоковку"
   ]
  },
  {
   "cell_type": "markdown",
   "metadata": {},
   "source": [
    "распаковку словарей очень удобно делать, когда функция принимает именнованые параметры,  \n",
    "например в plotly layout или в том же матплотлиб параметры для графика   \n",
    "удобно написать словарь с параметрами (где ключ это название параметра, а значение это значение параметра),  \n",
    "а в функции или методе написать распаковку этого словаря   "
   ]
  },
  {
   "cell_type": "code",
   "execution_count": 12,
   "metadata": {},
   "outputs": [
    {
     "data": {
      "text/plain": [
       "{'a': 1, 'b': 2, 'c': 3, 'd': 4}"
      ]
     },
     "execution_count": 12,
     "metadata": {},
     "output_type": "execute_result"
    }
   ],
   "source": [
    "x = {'a': 1, 'b': 2}\n",
    "y = dict(c = 3, d = 4)\n",
    "z = {**x, **y}\n",
    "z"
   ]
  },
  {
   "cell_type": "markdown",
   "metadata": {},
   "source": [
    "Распаковывать можно и списко, и кортеж, и множество"
   ]
  },
  {
   "cell_type": "code",
   "execution_count": 13,
   "metadata": {},
   "outputs": [
    {
     "data": {
      "text/plain": [
       "(1, 2, 3, 4, 5, 6, 8, 9, 11, 12, 14, 15)"
      ]
     },
     "execution_count": 13,
     "metadata": {},
     "output_type": "execute_result"
    }
   ],
   "source": [
    "a = [1,2,3,4]\n",
    "b = (5, 6, 8, 9)\n",
    "c = {11, 12, 14, 15}\n",
    "\n",
    "# объединенный список в принципе проще через +\n",
    "# но вот кортеж и множество так удобно\n",
    "res_list = [*a, *b, *c]\n",
    "res_tuple = (*a, *b, *c)\n",
    "res_tuple"
   ]
  },
  {
   "cell_type": "code",
   "execution_count": 14,
   "metadata": {},
   "outputs": [
    {
     "data": {
      "text/plain": [
       "{1, 2, 3, 4, 5, 6, 8, 9, 11, 12, 14, 15}"
      ]
     },
     "execution_count": 14,
     "metadata": {},
     "output_type": "execute_result"
    }
   ],
   "source": [
    "res_set = {*a, *b, *c}\n",
    "res_set"
   ]
  },
  {
   "cell_type": "markdown",
   "metadata": {},
   "source": [
    "Можно перреопределить функцию"
   ]
  },
  {
   "cell_type": "code",
   "execution_count": 18,
   "metadata": {},
   "outputs": [],
   "source": [
    "# сохраним изначальны print\n",
    "print_ = print \n",
    "\n",
    "def print(*args, **kwargs):\n",
    "    # тут пишем код, например можно сделать вывод в файл, на почту или в телегу,  \n",
    "    # тогда у нас принт не будет выводиться на экран, а будет писать куда-то\n",
    "    pass"
   ]
  },
  {
   "cell_type": "markdown",
   "metadata": {},
   "source": [
    "Типизация в параметрах функции"
   ]
  },
  {
   "cell_type": "code",
   "execution_count": null,
   "metadata": {},
   "outputs": [],
   "source": [
    "from typing import Union\n",
    "\n",
    "# создаем новый тип для типизации\n",
    "any_number = Union[int, float, str, list]\n",
    "\n",
    "# теперь можем использовать и будет понятно что можно преедавать\n",
    "# таким образом мы как бы создаем алиас для группы типов\n",
    "def func(a: int, b: any_number) -> any_number:\n",
    "    pass\n"
   ]
  },
  {
   "cell_type": "code",
   "execution_count": null,
   "metadata": {},
   "outputs": [],
   "source": [
    "!pip install enforce"
   ]
  },
  {
   "cell_type": "code",
   "execution_count": null,
   "metadata": {},
   "outputs": [],
   "source": [
    "# а если мы хотим явно проверять переданные типы, чтобы они совпадали с типизацией, то используем следующую библиотеку\n",
    "import enforce\n",
    "\n",
    "from typing import Union\n",
    "\n",
    "any_number = Union[int, float, str, list]\n",
    "\n",
    "# теперь если мы декарируем нашу функцию, и у нас будет передан аргумент не того типа, то будет ошибка   \n",
    "# тут плюс в том, что мы сразу видим какая ошибка, елси бы мы это не сделали, и у нас бы передася не тот аргумент,  \n",
    "# и в функции прошел бы неверный расчет, то мы бы очень долго не могли понять где баг\n",
    "@enforce.runtime_validation\n",
    "def func(a: int, b: any_number) -> any_number:\n",
    "    pass"
   ]
  },
  {
   "cell_type": "markdown",
   "metadata": {},
   "source": [
    "Разгрузка кода  \n",
    "Когда у нас часто пишется один и тот же код, например, для задания параметров графика, то можно внести это все в функцию"
   ]
  },
  {
   "cell_type": "code",
   "execution_count": 28,
   "metadata": {},
   "outputs": [],
   "source": [
    "import matplotlib.pyplot as plt\n",
    "\n",
    "# через kwargs можно передавать параметры для внутренней функции,  \n",
    "# например мы внутри вызываем функцию и хотим ей передать параметры,  \n",
    "# тогда мы передаем параметры show, а внутри show мы распаковываем kwargs в нужную функцию  \n",
    "def show(img, **kwargs):\n",
    "    plt.figure(figsize=(20, 15))\n",
    "    plt.imshow(img)\n",
    "    plt.axis('off')\n",
    "    plt.show()"
   ]
  },
  {
   "cell_type": "markdown",
   "metadata": {},
   "source": [
    "Когда нужно загрузить много файлов и сделать из них дата сеты, то удобно делать так  "
   ]
  },
  {
   "cell_type": "code",
   "execution_count": null,
   "metadata": {},
   "outputs": [],
   "source": [
    "import pandas as pd \n",
    "# Загрузка файлов \n",
    "\n",
    "datasets = ['calls', 'internet', 'messages', 'tariffs', 'users']\n",
    "dfs = {}\n",
    "for dataset in datasets:\n",
    "    dfs[dataset] = pd.read_csv('datasets/' + dataset + '.csv')"
   ]
  },
  {
   "cell_type": "code",
   "execution_count": null,
   "metadata": {},
   "outputs": [],
   "source": []
  },
  {
   "cell_type": "code",
   "execution_count": null,
   "metadata": {},
   "outputs": [],
   "source": [
    "# Если нужно использовать f строку, то пере : ставим название переменной  \n",
    "# например, print(f'{a:<30} {b:>7} {c:>12}')\n",
    "# число значит сколько мест будет выделено для данных,  \n",
    "# > значит ровнять  по левому краю (по умолчанию ровняет по правому)\n",
    "print('{:10} {:>7} {:>12}'.format('Датасет', 'Колонок', 'Строк'))\n",
    "for name, df in dfs.items(): #возвращает пары (ключ, значение)\n",
    "    print('{:10} {:7} {:12}'.format(name, df.shape[1], df.shape[0]))"
   ]
  },
  {
   "cell_type": "markdown",
   "metadata": {},
   "source": [
    "Удобно отображает инфо с указанием датафрейма"
   ]
  },
  {
   "cell_type": "code",
   "execution_count": null,
   "metadata": {},
   "outputs": [],
   "source": [
    "for key, value in dfs.items():\n",
    "    print(' ' + '-' * len(key))\n",
    "    print('|' + key + '|')\n",
    "    print(' ' + '-' * len(key))\n",
    "    print(value.info())\n",
    "    print()"
   ]
  },
  {
   "cell_type": "markdown",
   "metadata": {},
   "source": [
    "Если мы хотим передать в виде файла список или другой объект питона,  \n",
    "то мы его превращаем в `json` и можем передавать как файл или разместить в облаке  \n",
    "Например, нам нужно на гитхабе сделать испточник со списком или словарем из которого мы с помощью `requests` будет брать данные"
   ]
  },
  {
   "cell_type": "code",
   "execution_count": 2,
   "metadata": {},
   "outputs": [],
   "source": [
    "import json\n",
    "\n",
    "my_numbers = {'numbers': [1, 2, 3, 4, 5, 6, 7]}\n",
    "with open('mu_numbers.json', 'w') as f:\n",
    "    json.dump(my_numbers, f)"
   ]
  },
  {
   "cell_type": "markdown",
   "metadata": {},
   "source": [
    "Если у нас много списков и нам нужно их передавать внутри программы,  \n",
    "или сохранить в файл, то удобно использовать словарь, ключами которого будут названия списков  "
   ]
  },
  {
   "cell_type": "code",
   "execution_count": 1,
   "metadata": {},
   "outputs": [
    {
     "data": {
      "text/plain": [
       "{'l1': [1, 2, 3],\n",
       " 'l2': [1, 2, 3, 4],\n",
       " 'l3': [1, 2, 3],\n",
       " 'l4': [1, 2, 3, 4, 5],\n",
       " 'l5': [1, 2]}"
      ]
     },
     "execution_count": 1,
     "metadata": {},
     "output_type": "execute_result"
    }
   ],
   "source": [
    "l1 = [1,2,3]\n",
    "l2 = [1,2,3,4]\n",
    "l3 = [1,2,3]\n",
    "l4 = [1,2,3,4,5]\n",
    "l5 = [1,2]\n",
    "data = {\n",
    "    'l1': l1,\n",
    "    'l2': l2,\n",
    "    'l3': l3,\n",
    "    'l4': l4,\n",
    "    'l5': l5\n",
    "}\n",
    "data"
   ]
  },
  {
   "cell_type": "markdown",
   "metadata": {},
   "source": [
    "Замыкание  \n",
    "Если нам нужно куда-то передать функцию, и чтобы она под капотом имела счетчик,  \n",
    "то удобно сделать замыкание  "
   ]
  },
  {
   "cell_type": "code",
   "execution_count": 1,
   "metadata": {},
   "outputs": [
    {
     "name": "stdout",
     "output_type": "stream",
     "text": [
      "2\n",
      "3\n",
      "4\n",
      "5\n",
      "6\n"
     ]
    }
   ],
   "source": [
    "def decor():\n",
    "    count = 1\n",
    "    def wrapper(x):\n",
    "        nonlocal count\n",
    "        count += 1\n",
    "        return x + count\n",
    "    return wrapper\n",
    "f = decor()\n",
    "for _ in range(5):\n",
    "    print(f(0))"
   ]
  }
 ],
 "metadata": {
  "kernelspec": {
   "display_name": "Python 3.7.1 64-bit",
   "language": "python",
   "name": "python3"
  },
  "language_info": {
   "codemirror_mode": {
    "name": "ipython",
    "version": 3
   },
   "file_extension": ".py",
   "mimetype": "text/x-python",
   "name": "python",
   "nbconvert_exporter": "python",
   "pygments_lexer": "ipython3",
   "version": "3.7.1"
  },
  "orig_nbformat": 4,
  "vscode": {
   "interpreter": {
    "hash": "fbe58ca63fe33f9eeae9e71d10368d2b4a57f2b1b395836210cc60d362c66949"
   }
  }
 },
 "nbformat": 4,
 "nbformat_minor": 2
}
