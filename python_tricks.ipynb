{
 "cells": [
  {
   "cell_type": "markdown",
   "metadata": {},
   "source": [
    "Когда устанавливаем библиотеки, то не забываем подумать где мы их ставим.  \n",
    "Есил мы ставим их не себе на комп, то нужно добавлять --user, чтобы поставить только текущему пользователю,  \n",
    "чтобы не мещать другим   \n",
    "также лучше добавлять --upgrade, чтобы обновить версию  "
   ]
  },
  {
   "cell_type": "code",
   "execution_count": null,
   "metadata": {},
   "outputs": [],
   "source": [
    "!pip install module_name --user --upgrade"
   ]
  },
  {
   "cell_type": "markdown",
   "metadata": {},
   "source": [
    "`sys.getsizeof` возвращает размер объета в байтах"
   ]
  },
  {
   "cell_type": "code",
   "execution_count": 19,
   "metadata": {},
   "outputs": [
    {
     "data": {
      "text/plain": [
       "73"
      ]
     },
     "execution_count": 19,
     "metadata": {},
     "output_type": "execute_result"
    }
   ],
   "source": [
    "import sys\n",
    "d = {'asdfasdf': 1, 'dfsfsgdfg': 2}\n",
    "sys.getsizeof(d)"
   ]
  },
  {
   "cell_type": "markdown",
   "metadata": {},
   "source": [
    "Если нам нужно проводить сложные вычисления и у нас много повторных вычислений для одного аргумента,  \n",
    "то лучше испльзовать кэширование в словарь  \n",
    "Очень пригодиться, когда нужно лематизировать большой текст, чтобы не лематизировать одно и то же слово много раз"
   ]
  },
  {
   "cell_type": "code",
   "execution_count": 1,
   "metadata": {},
   "outputs": [],
   "source": [
    "def func(x):\n",
    "    return x**3 + x**3 + x + 11\n",
    "d = {}\n",
    "\n",
    "def f_cached(x):\n",
    "    if x in d:\n",
    "        return d[x]\n",
    "    res = func(x)\n",
    "    d[x] = res\n",
    "    return res"
   ]
  },
  {
   "cell_type": "markdown",
   "metadata": {},
   "source": [
    "Объединение через распоковку"
   ]
  },
  {
   "cell_type": "markdown",
   "metadata": {},
   "source": [
    "распаковку словарей очень удобно делать, когда функция принимает именнованые параметры,  \n",
    "например в plotly layout или в том же матплотлиб параметры для графика   \n",
    "удобно написать словарь с параметрами (где ключ это название параметра, а значение это значение параметра),  \n",
    "а в функции или методе написать распаковку этого словаря   "
   ]
  },
  {
   "cell_type": "code",
   "execution_count": 12,
   "metadata": {},
   "outputs": [
    {
     "data": {
      "text/plain": [
       "{'a': 1, 'b': 2, 'c': 3, 'd': 4}"
      ]
     },
     "execution_count": 12,
     "metadata": {},
     "output_type": "execute_result"
    }
   ],
   "source": [
    "x = {'a': 1, 'b': 2}\n",
    "y = dict(c = 3, d = 4)\n",
    "z = {**x, **y}\n",
    "z"
   ]
  },
  {
   "cell_type": "markdown",
   "metadata": {},
   "source": [
    "Распаковывать можно и списко, и кортеж, и множество"
   ]
  },
  {
   "cell_type": "code",
   "execution_count": 13,
   "metadata": {},
   "outputs": [
    {
     "data": {
      "text/plain": [
       "(1, 2, 3, 4, 5, 6, 8, 9, 11, 12, 14, 15)"
      ]
     },
     "execution_count": 13,
     "metadata": {},
     "output_type": "execute_result"
    }
   ],
   "source": [
    "a = [1,2,3,4]\n",
    "b = (5, 6, 8, 9)\n",
    "c = {11, 12, 14, 15}\n",
    "\n",
    "# объединенный список в принципе проще через +\n",
    "# но вот кортеж и множество так удобно\n",
    "res_list = [*a, *b, *c]\n",
    "res_tuple = (*a, *b, *c)\n",
    "res_tuple"
   ]
  },
  {
   "cell_type": "code",
   "execution_count": 14,
   "metadata": {},
   "outputs": [
    {
     "data": {
      "text/plain": [
       "{1, 2, 3, 4, 5, 6, 8, 9, 11, 12, 14, 15}"
      ]
     },
     "execution_count": 14,
     "metadata": {},
     "output_type": "execute_result"
    }
   ],
   "source": [
    "res_set = {*a, *b, *c}\n",
    "res_set"
   ]
  },
  {
   "cell_type": "markdown",
   "metadata": {},
   "source": [
    "Можно перреопределить функцию"
   ]
  },
  {
   "cell_type": "code",
   "execution_count": 18,
   "metadata": {},
   "outputs": [],
   "source": [
    "# сохраним изначальны print\n",
    "print_ = print \n",
    "\n",
    "def print(*args, **kwargs):\n",
    "    # тут пишем код, например можно сделать вывод в файл, на почту или в телегу,  \n",
    "    # тогда у нас принт не будет выводиться на экран, а будет писать куда-то\n",
    "    pass"
   ]
  },
  {
   "cell_type": "markdown",
   "metadata": {},
   "source": [
    "Типизация в параметрах функции"
   ]
  },
  {
   "cell_type": "code",
   "execution_count": null,
   "metadata": {},
   "outputs": [],
   "source": [
    "from typing import Union\n",
    "\n",
    "# создаем новый тип для типизации\n",
    "any_number = Union[int, float, str, list]\n",
    "\n",
    "# теперь можем использовать и будет понятно что можно преедавать\n",
    "# таким образом мы как бы создаем алиас для группы типов\n",
    "def func(a: int, b: any_number) -> any_number:\n",
    "    pass\n"
   ]
  },
  {
   "cell_type": "code",
   "execution_count": null,
   "metadata": {},
   "outputs": [],
   "source": [
    "!pip install enforce"
   ]
  },
  {
   "cell_type": "code",
   "execution_count": null,
   "metadata": {},
   "outputs": [],
   "source": [
    "# а если мы хотим явно проверять переданные типы, чтобы они совпадали с типизацией, то используем следующую библиотеку\n",
    "import enforce\n",
    "\n",
    "from typing import Union\n",
    "\n",
    "any_number = Union[int, float, str, list]\n",
    "\n",
    "# теперь если мы декарируем нашу функцию, и у нас будет передан аргумент не того типа, то будет ошибка   \n",
    "# тут плюс в том, что мы сразу видим какая ошибка, елси бы мы это не сделали, и у нас бы передася не тот аргумент,  \n",
    "# и в функции прошел бы неверный расчет, то мы бы очень долго не могли понять где баг\n",
    "@enforce.runtime_validation\n",
    "def func(a: int, b: any_number) -> any_number:\n",
    "    pass"
   ]
  },
  {
   "cell_type": "markdown",
   "metadata": {},
   "source": [
    "Разгрузка кода  \n",
    "Когда у нас часто пишется один и тот же код, например, для задания параметров графика, то можно внести это все в функцию"
   ]
  },
  {
   "cell_type": "code",
   "execution_count": 28,
   "metadata": {},
   "outputs": [],
   "source": [
    "import matplotlib.pyplot as plt\n",
    "\n",
    "# через kwargs можно передавать параметры для внутренней функции,  \n",
    "# например мы внутри вызываем функцию и хотим ей передать параметры,  \n",
    "# тогда мы передаем параметры show, а внутри show мы распаковываем kwargs в нужную функцию  \n",
    "def show(img, **kwargs):\n",
    "    plt.figure(figsize=(20, 15))\n",
    "    plt.imshow(img)\n",
    "    plt.axis('off')\n",
    "    plt.show()"
   ]
  },
  {
   "cell_type": "markdown",
   "metadata": {},
   "source": [
    "Когда нужно загрузить много файлов и сделать из них дата сеты, то удобно делать так  "
   ]
  },
  {
   "cell_type": "code",
   "execution_count": null,
   "metadata": {},
   "outputs": [],
   "source": [
    "import pandas as pd \n",
    "# Загрузка файлов \n",
    "\n",
    "datasets = ['calls', 'internet', 'messages', 'tariffs', 'users']\n",
    "dfs = {}\n",
    "for dataset in datasets:\n",
    "    dfs[dataset] = pd.read_csv('datasets/' + dataset + '.csv')"
   ]
  },
  {
   "cell_type": "code",
   "execution_count": null,
   "metadata": {},
   "outputs": [],
   "source": []
  },
  {
   "cell_type": "code",
   "execution_count": null,
   "metadata": {},
   "outputs": [],
   "source": [
    "# Если нужно использовать f строку, то пере : ставим название переменной  \n",
    "# например, print(f'{a:<30} {b:>7} {c:>12}')\n",
    "# число значит сколько мест будет выделено для данных,  \n",
    "# > значит ровнять  по левому краю (по умолчанию ровняет по правому)\n",
    "print('{:10} {:>7} {:>12}'.format('Датасет', 'Колонок', 'Строк'))\n",
    "for name, df in dfs.items(): #возвращает пары (ключ, значение)\n",
    "    print('{:10} {:7} {:12}'.format(name, df.shape[1], df.shape[0]))"
   ]
  },
  {
   "cell_type": "markdown",
   "metadata": {},
   "source": [
    "Удобно отображает инфо с указанием датафрейма"
   ]
  },
  {
   "cell_type": "code",
   "execution_count": null,
   "metadata": {},
   "outputs": [],
   "source": [
    "for key, value in dfs.items():\n",
    "    print(' ' + '-' * len(key))\n",
    "    print('|' + key + '|')\n",
    "    print(' ' + '-' * len(key))\n",
    "    print(value.info())\n",
    "    print()"
   ]
  },
  {
   "cell_type": "markdown",
   "metadata": {},
   "source": [
    "Если мы хотим передать в виде файла список или другой объект питона,  \n",
    "то мы его превращаем в `json` и можем передавать как файл или разместить в облаке  \n",
    "Например, нам нужно на гитхабе сделать испточник со списком или словарем из которого мы с помощью `requests` будет брать данные"
   ]
  },
  {
   "cell_type": "code",
   "execution_count": 2,
   "metadata": {},
   "outputs": [],
   "source": [
    "import json\n",
    "\n",
    "my_numbers = {'numbers': [1, 2, 3, 4, 5, 6, 7]}\n",
    "with open('mu_numbers.json', 'w') as f:\n",
    "    json.dump(my_numbers, f)"
   ]
  },
  {
   "cell_type": "markdown",
   "metadata": {},
   "source": [
    "Если у нас много списков и нам нужно их передавать внутри программы,  \n",
    "или сохранить в файл, то удобно использовать словарь, ключами которого будут названия списков  "
   ]
  },
  {
   "cell_type": "code",
   "execution_count": 1,
   "metadata": {},
   "outputs": [
    {
     "data": {
      "text/plain": [
       "{'l1': [1, 2, 3],\n",
       " 'l2': [1, 2, 3, 4],\n",
       " 'l3': [1, 2, 3],\n",
       " 'l4': [1, 2, 3, 4, 5],\n",
       " 'l5': [1, 2]}"
      ]
     },
     "execution_count": 1,
     "metadata": {},
     "output_type": "execute_result"
    }
   ],
   "source": [
    "l1 = [1,2,3]\n",
    "l2 = [1,2,3,4]\n",
    "l3 = [1,2,3]\n",
    "l4 = [1,2,3,4,5]\n",
    "l5 = [1,2]\n",
    "data = {\n",
    "    'l1': l1,\n",
    "    'l2': l2,\n",
    "    'l3': l3,\n",
    "    'l4': l4,\n",
    "    'l5': l5\n",
    "}\n",
    "data"
   ]
  },
  {
   "cell_type": "markdown",
   "metadata": {},
   "source": [
    "Замыкание   \n",
    "Замыкание это функция, которая сохранила параметр и можно его не вводить постоянно  \n"
   ]
  },
  {
   "cell_type": "code",
   "execution_count": 2,
   "metadata": {},
   "outputs": [
    {
     "data": {
      "text/plain": [
       "9"
      ]
     },
     "execution_count": 2,
     "metadata": {},
     "output_type": "execute_result"
    }
   ],
   "source": [
    "def decor(a):\n",
    "    def wrapper(b):\n",
    "        return a + b\n",
    "    return wrapper\n",
    "my_func = decor(7)    \n",
    "my_func(2)"
   ]
  },
  {
   "cell_type": "markdown",
   "metadata": {},
   "source": [
    "Если нам нужно куда-то передать функцию, и чтобы она под капотом имела счетчик,  \n",
    "то удобно сделать замыкание  "
   ]
  },
  {
   "cell_type": "code",
   "execution_count": 1,
   "metadata": {},
   "outputs": [
    {
     "name": "stdout",
     "output_type": "stream",
     "text": [
      "2\n",
      "3\n",
      "4\n",
      "5\n",
      "6\n"
     ]
    }
   ],
   "source": [
    "def decor():\n",
    "    count = 1\n",
    "    def wrapper(x):\n",
    "        nonlocal count\n",
    "        count += 1\n",
    "        return x + count\n",
    "    return wrapper\n",
    "f = decor()\n",
    "for _ in range(5):\n",
    "    print(f(0))"
   ]
  },
  {
   "cell_type": "markdown",
   "metadata": {},
   "source": [
    "Если нужно вывести несколько графиков циклом и после каждого вывод"
   ]
  },
  {
   "cell_type": "code",
   "execution_count": 1,
   "metadata": {},
   "outputs": [],
   "source": [
    "from IPython import get_ipython\n",
    "ipython = get_ipython()"
   ]
  },
  {
   "cell_type": "code",
   "execution_count": 10,
   "metadata": {},
   "outputs": [],
   "source": [
    "import seaborn as sns\n",
    "import matplotlib.pyplot as plt"
   ]
  },
  {
   "cell_type": "code",
   "execution_count": null,
   "metadata": {},
   "outputs": [],
   "source": [
    "issues = [\n",
    "    'aaaaaaaaaaaaaaa'\n",
    "    , 'bbbbbbbbbbbbbbb'\n",
    "    , 'ccccccc'\n",
    "]\n",
    "graphs = []\n",
    "for i in range(3):\n",
    "    sns.lineplot([i,2,3])\n",
    "    plt.show()\n",
    "    print(issues[i]) "
   ]
  },
  {
   "cell_type": "markdown",
   "metadata": {},
   "source": [
    "Этот код работает только в jupyter notebook"
   ]
  },
  {
   "cell_type": "markdown",
   "metadata": {},
   "source": [
    "Выводит графики в новых ячейках  \n",
    "Между ними можно в ручную добавить текстовые ячейки"
   ]
  },
  {
   "cell_type": "code",
   "execution_count": null,
   "metadata": {},
   "outputs": [],
   "source": [
    "from IPython.display import display, Javascript\n",
    "\n",
    "def add_cell(text,  type='code', direct='below'):\n",
    "    text = text.replace('\\n','\\\\n').replace(\"\\\"\", \"\\\\\\\"\").replace(\"'\", \"\\\\'\")\n",
    "    display(Javascript('''\n",
    "        var cell = IPython.notebook.insert_cell_{}(\"{}\")\n",
    "        cell.set_text(\"{}\")\n",
    "        cell.execute()\n",
    "        '''.format(direct, type, text)))\n",
    "graphs = []\n",
    "for i in range(3):\n",
    "    fig, _ = plt.subplots()\n",
    "    sns.lineplot([i,2,3])\n",
    "    plt.close()\n",
    "    graphs.append(fig)\n",
    "for i in range(len(graphs)-1, -1, -1):\n",
    "    add_cell(f'graphs[{i}]')"
   ]
  },
  {
   "cell_type": "markdown",
   "metadata": {},
   "source": [
    "Следующий код скрывет содержимое ячейки  \n",
    "переменная в функции `toggle_text` дает название кнопки для открытия и скрытия"
   ]
  },
  {
   "cell_type": "markdown",
   "metadata": {},
   "source": [
    "This is an extension of Mathmagician's answer, which enables you to:\n",
    "\n",
    "toggle just a single cell (the JS function name has a random suffix, so if used more than one time, it would not conflict with other usages)\n",
    "toggle the cell below the current cell - this is super handy in RISE presentations where you may want to show the code, but then hide it to display its output"
   ]
  },
  {
   "cell_type": "code",
   "execution_count": 13,
   "metadata": {},
   "outputs": [],
   "source": [
    "from IPython.display import HTML\n",
    "import random\n",
    "\n",
    "def hide_toggle(for_next=False):\n",
    "    this_cell = \"\"\"$('div.cell.code_cell.rendered.selected')\"\"\"\n",
    "    next_cell = this_cell + '.next()'\n",
    "\n",
    "    toggle_text = 'Toggle show/hide'  # text shown on toggle link\n",
    "    target_cell = this_cell  # target cell to control with toggle\n",
    "    js_hide_current = ''  # bit of JS to permanently hide code in current cell (only when toggling next cell)\n",
    "\n",
    "    if for_next:\n",
    "        target_cell = next_cell\n",
    "        toggle_text += ' next cell'\n",
    "        js_hide_current = this_cell + '.find(\"div.input\").hide();'\n",
    "\n",
    "    js_f_name = 'code_toggle_{}'.format(str(random.randint(1,2**64)))\n",
    "\n",
    "    html = \"\"\"\n",
    "        <script>\n",
    "            function {f_name}() {{\n",
    "                {cell_selector}.find('div.input').toggle();\n",
    "            }}\n",
    "\n",
    "            {js_hide_current}\n",
    "        </script>\n",
    "\n",
    "        <a href=\"javascript:{f_name}()\">{toggle_text}</a>\n",
    "    \"\"\".format(\n",
    "        f_name=js_f_name,\n",
    "        cell_selector=target_cell,\n",
    "        js_hide_current=js_hide_current, \n",
    "        toggle_text=toggle_text\n",
    "    )\n",
    "\n",
    "    return HTML(html)"
   ]
  },
  {
   "cell_type": "code",
   "execution_count": 16,
   "metadata": {},
   "outputs": [
    {
     "name": "stdout",
     "output_type": "stream",
     "text": [
      "Result is 1 + 2\n"
     ]
    },
    {
     "data": {
      "text/html": [
       "\n",
       "        <script>\n",
       "            function code_toggle_174654101152713085() {\n",
       "                $('div.cell.code_cell.rendered.selected').find('div.input').toggle();\n",
       "            }\n",
       "\n",
       "            \n",
       "        </script>\n",
       "\n",
       "        <a href=\"javascript:code_toggle_174654101152713085()\">Toggle show/hide</a>\n",
       "    "
      ],
      "text/plain": [
       "<IPython.core.display.HTML object>"
      ]
     },
     "execution_count": 16,
     "metadata": {},
     "output_type": "execute_result"
    }
   ],
   "source": [
    "x = 1\n",
    "y = 2\n",
    "print('Result is {} + {}'.format(x, y))\n",
    "\n",
    "hide_toggle()"
   ]
  },
  {
   "cell_type": "markdown",
   "metadata": {},
   "source": [
    "Если у нас есть функция, и мы хотим выводить сообщения когда она начала работать,  \n",
    "и когда закончила, то используем декоратор  "
   ]
  },
  {
   "cell_type": "markdown",
   "metadata": {},
   "source": [
    "Тут самое главное, что мы добавили куски кода, которые нам нужны, не трогая функцию  \n",
    "Это очень полезно, когда мы работаем в команде и используем чужую функцию, естественно не правильно менять код этой функции под себя  \n",
    "Поэтому мы используем декоратор, чтобы добавить нуный нам код до её вызова и после  "
   ]
  },
  {
   "cell_type": "code",
   "execution_count": 8,
   "metadata": {},
   "outputs": [
    {
     "name": "stdout",
     "output_type": "stream",
     "text": [
      "Начинаю работу в 1724061343.9600701\n",
      "Работа выполнена в 1724061346.960242\n"
     ]
    }
   ],
   "source": [
    "import time\n",
    "def decor(func):\n",
    "    def wrapper(*args, **kwargs):\n",
    "        # можем сделать что хотим до вызова функции\n",
    "        t_start = time.time()\n",
    "        print(f'Начинаю работу в {t_start}')\n",
    "        func(*args, **kwargs)\n",
    "        # можем сделать что хотим после вызова функции\n",
    "        t_finish = time.time()\n",
    "        print(f\"Работа выполнена в {t_finish}\")\n",
    "    return wrapper\n",
    "@decor\n",
    "def my_func(work_s):\n",
    "    time.sleep(work_s)\n",
    "\n",
    "my_func(3)\n"
   ]
  },
  {
   "cell_type": "markdown",
   "metadata": {},
   "source": [
    "Если нам нужно получить результат работы функции"
   ]
  },
  {
   "cell_type": "code",
   "execution_count": 10,
   "metadata": {},
   "outputs": [
    {
     "name": "stdout",
     "output_type": "stream",
     "text": [
      "Начинаю работу в 1724061386.7615182\n",
      "Работа выполнена в 1724061389.76169\n"
     ]
    },
    {
     "data": {
      "text/plain": [
       "'res'"
      ]
     },
     "execution_count": 10,
     "metadata": {},
     "output_type": "execute_result"
    }
   ],
   "source": [
    "import time\n",
    "def decor(func):\n",
    "    def wrapper(*args, **kwargs):\n",
    "        # можем сделать что хотим до вызова функции\n",
    "        t_start = time.time()\n",
    "        print(f'Начинаю работу в {t_start}')\n",
    "        res = func(*args, **kwargs)\n",
    "        # можем сделать что хотим после вызова функции\n",
    "        t_finish = time.time()\n",
    "        print(f\"Работа выполнена в {t_finish}\")\n",
    "        return res\n",
    "    return wrapper\n",
    "@decor\n",
    "def my_func(work_s):\n",
    "    time.sleep(work_s)\n",
    "    return 'res'\n",
    "my_func(3)"
   ]
  },
  {
   "cell_type": "markdown",
   "metadata": {},
   "source": [
    "Если у нас есть только название функции, например мы берем ее из другого модуля, то используем явную передачу в декоратор"
   ]
  },
  {
   "cell_type": "code",
   "execution_count": 11,
   "metadata": {},
   "outputs": [
    {
     "name": "stdout",
     "output_type": "stream",
     "text": [
      "Начинаю работу в 1724061469.1422303\n",
      "Работа выполнена в 1724061472.1424017\n"
     ]
    }
   ],
   "source": [
    "import time\n",
    "\n",
    "def my_func(work_s):\n",
    "    time.sleep(work_s)\n",
    "    \n",
    "def decor(func):\n",
    "    def wrapper(*args, **kwargs):\n",
    "        # можем сделать что хотим до вызова функции\n",
    "        t_start = time.time()\n",
    "        print(f'Начинаю работу в {t_start}')\n",
    "        func(*args, **kwargs)\n",
    "        # можем сделать что хотим после вызова функции\n",
    "        t_finish = time.time()\n",
    "        print(f\"Работа выполнена в {t_finish}\")\n",
    "    return wrapper\n",
    "\n",
    "my_func = decor(my_func)\n",
    "\n",
    "my_func(3)"
   ]
  },
  {
   "cell_type": "markdown",
   "metadata": {},
   "source": [
    "Если загрузить файлы в pandas или сделать разные действия нужно в зависимости от ситуации,  \n",
    "то удобно использовать конструкцию `try except`"
   ]
  },
  {
   "cell_type": "code",
   "execution_count": null,
   "metadata": {},
   "outputs": [],
   "source": [
    "# в данном случае, если по пути path1 файла не буедт, то будет искаться по пути path2\n",
    "import pandas as pd\n",
    "try:\n",
    "    pd.read_csv(\"path1\")\n",
    "except:\n",
    "    pd.read_csv(\"path2\")\n",
    "    \n"
   ]
  },
  {
   "cell_type": "markdown",
   "metadata": {},
   "source": [
    "Чтобы загрузить модуль из репозитория по url"
   ]
  },
  {
   "cell_type": "code",
   "execution_count": null,
   "metadata": {},
   "outputs": [],
   "source": [
    "with httpimport.remote_repo('http://my-codes.example.com/python_packages'):\n",
    "    import package1"
   ]
  },
  {
   "cell_type": "markdown",
   "metadata": {},
   "source": [
    "Когда нужно индексы одномерного списка использовать для задач, где нужно двумерные индексы, то удобно использовать `divmod`"
   ]
  },
  {
   "cell_type": "code",
   "execution_count": 3,
   "metadata": {},
   "outputs": [
    {
     "name": "stdout",
     "output_type": "stream",
     "text": [
      "0 0\n",
      "0 1\n",
      "0 2\n",
      "0 3\n",
      "1 0\n",
      "1 1\n",
      "1 2\n",
      "1 3\n"
     ]
    },
    {
     "data": {
      "text/plain": [
       "[[1, 2, 3, 4], [5, 6, 7, 8]]"
      ]
     },
     "execution_count": 3,
     "metadata": {},
     "output_type": "execute_result"
    }
   ],
   "source": [
    "arr = [1,2,3,4,5,6,7,8]\n",
    "res = [[0, 0, 0, 0]\n",
    "       ,[0, 0, 0, 0]]\n",
    "for i, el in enumerate(arr):\n",
    "    row, col = divmod(i, 4)\n",
    "    print(row, col)\n",
    "    res[row][col] = arr[i]\n",
    "res"
   ]
  },
  {
   "cell_type": "markdown",
   "metadata": {},
   "source": [
    "Если нужно за одно действие повторить список и распаковать его, то можно сделать так"
   ]
  },
  {
   "cell_type": "code",
   "execution_count": 1,
   "metadata": {},
   "outputs": [
    {
     "name": "stdout",
     "output_type": "stream",
     "text": [
      "1 2 3 1 2 3\n"
     ]
    }
   ],
   "source": [
    "def func(a, b, c, d, e, f):\n",
    "    print(a, b, c, d, e, f)\n",
    "func(*[1, 2, 3]*2)"
   ]
  },
  {
   "cell_type": "code",
   "execution_count": null,
   "metadata": {},
   "outputs": [],
   "source": []
  },
  {
   "cell_type": "code",
   "execution_count": null,
   "metadata": {},
   "outputs": [],
   "source": []
  }
 ],
 "metadata": {
  "kernelspec": {
   "display_name": "pagri-projects-W8_aXYna-py3.12",
   "language": "python",
   "name": "python3"
  },
  "language_info": {
   "codemirror_mode": {
    "name": "ipython",
    "version": 3
   },
   "file_extension": ".py",
   "mimetype": "text/x-python",
   "name": "python",
   "nbconvert_exporter": "python",
   "pygments_lexer": "ipython3",
   "version": "3.12.6"
  },
  "orig_nbformat": 4
 },
 "nbformat": 4,
 "nbformat_minor": 2
}
