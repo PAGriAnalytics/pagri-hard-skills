{
 "cells": [
  {
   "cell_type": "markdown",
   "metadata": {},
   "source": [
    "Какие метрики мы можем посчитать  "
   ]
  },
  {
   "cell_type": "code",
   "execution_count": null,
   "metadata": {},
   "outputs": [],
   "source": [
    "- накопительная сумма продаж    \n",
    "- остаток на балансе (количество пришедших едениц минус количество ушедших)   \n",
    "- накопительный остаток   \n",
    "- создание категориальной переменной новый / постоянный клиент. Считаем для каждого клиента дату первой покупки,  если текущая дата  \n",
    "- равна минимальной, то это новый. Также можно добавить, что если прошло больше N дней, то тоже новый."
   ]
  }
 ],
 "metadata": {
  "kernelspec": {
   "display_name": "Python 3.7.1 64-bit",
   "language": "python",
   "name": "python3"
  },
  "language_info": {
   "name": "python",
   "version": "3.7.1"
  },
  "orig_nbformat": 4,
  "vscode": {
   "interpreter": {
    "hash": "fbe58ca63fe33f9eeae9e71d10368d2b4a57f2b1b395836210cc60d362c66949"
   }
  }
 },
 "nbformat": 4,
 "nbformat_minor": 2
}
