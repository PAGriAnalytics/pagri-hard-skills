{
 "cells": [
  {
   "cell_type": "markdown",
   "metadata": {
    "vscode": {
     "languageId": "plaintext"
    }
   },
   "source": [
    "### Heart"
   ]
  },
  {
   "cell_type": "markdown",
   "metadata": {},
   "source": [
    "фреймворк от Google, помогающего оценить UX (от англ. user experience, «пользовательский опыт»). Его название HEART (англ. «сердце») образовано от пяти направлений метрик:\n",
    "- Happiness (от англ. happiness, «счастье»)\n",
    "Нравится ли пользователю продукт/сервис?\n",
    "- Engagement (от англ. еngagement, «вовлечённость»)\n",
    "Как часто пользуются и рассказывают о продукте в социальных сетях?\n",
    "- Adoption (от англ. adoption, «принятие»)\n",
    "Сколько новых пользователей появилось?\n",
    "- Retention (от англ. retention, «удержание»)\n",
    "Как много клиентов остаются верны сервису?\n",
    "- Task success (от англ. task success, «успех задачи»)\n",
    "\n",
    "Насколько успешно выполняется целевое действие (подписка, покупка, добавление товара в корзину)?\n",
    "\n",
    "Благодаря простоте фреймворк HEART широко применяют в оценке разных продуктов. Кроме того, его можно дорабатывать. Обычно этот фреймворк используется вместе с подходом Goals-Signals-Metrics (от англ. goals, «цели»; signals, «сигналы»; metrics, «метрики»).\n",
    "\n",
    "Он помогает определить ключевые для каждого направления метрики.\n",
    "\n",
    "Работа выстраивается так:\n",
    "\n",
    "Формулируем цели продукта.\n",
    "\n",
    "Отвечаем на вопрос: как на пользовательском поведении отразится достижение целей или их провал.\n",
    "\n",
    "Решаем, как измерить сигналы."
   ]
  },
  {
   "cell_type": "markdown",
   "metadata": {
    "vscode": {
     "languageId": "plaintext"
    }
   },
   "source": [
    "![heart framework](heart_framework.jpg)"
   ]
  },
  {
   "cell_type": "markdown",
   "metadata": {
    "vscode": {
     "languageId": "plaintext"
    }
   },
   "source": [
    "### AARRR"
   ]
  },
  {
   "cell_type": "markdown",
   "metadata": {
    "vscode": {
     "languageId": "plaintext"
    }
   },
   "source": [
    "Какие метрики входят в AARRR?\n",
    "- Acquisition (от англ. acquisition, «привлечение»)  \n",
    "Откуда приходят клиенты?\n",
    "- Activation (от англ. activation, «активация»)  \n",
    "Дошёл ли пользователь до целевого действия, когда начал взаимодействие с продуктом?\n",
    "- Retention (от англ. retention, «удержание»)  \n",
    "Сколько клиентов остаются с вами и почему теряете остальных?\n",
    "- Referral (от англ. referral, «рекомендация»)  \n",
    "Готовы ли пользователи рекомендовать продукт?\n",
    "- Revenue (от англ. revenue, «доход»)  \n",
    "Как можно увеличить доход?"
   ]
  },
  {
   "cell_type": "code",
   "execution_count": null,
   "metadata": {
    "vscode": {
     "languageId": "plaintext"
    }
   },
   "outputs": [],
   "source": []
  },
  {
   "cell_type": "code",
   "execution_count": null,
   "metadata": {
    "vscode": {
     "languageId": "plaintext"
    }
   },
   "outputs": [],
   "source": []
  }
 ],
 "metadata": {
  "language_info": {
   "name": "python"
  }
 },
 "nbformat": 4,
 "nbformat_minor": 2
}
