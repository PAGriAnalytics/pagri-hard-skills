{
 "cells": [
  {
   "cell_type": "code",
   "execution_count": 12,
   "metadata": {},
   "outputs": [],
   "source": [
    "import numpy as np\n",
    "import seaborn as sns\n",
    "import matplotlib.pyplot as plt\n",
    "plt.rcParams['figure.figsize'] = [5, 3]"
   ]
  },
  {
   "cell_type": "markdown",
   "metadata": {},
   "source": [
    "Схема такая\n",
    "- мы берем данные и изучаем их\n",
    "- находим какие-то закономерности, которые могут улучшить результаты бизнеса\n",
    "- проверяем стат тестами, что эти зависимости стат значимы\n",
    "- в итоге у нас появляется гипотеза\n",
    "- далее дизайним экспеример и проводим АБ тест для этой гипотезы\n",
    "- И если полсе аб теста мы подтвердили гипозу, то мы можем запускать этот эксперимент в продакшене."
   ]
  },
  {
   "cell_type": "markdown",
   "metadata": {},
   "source": [
    "ВАЖНО  \n",
    "Когда мы имеем данные, имеем проблему и у нас задача провести аб тест, то не нужно сразу бросаться и придумывать всякие идеи как мы можем его провести.  \n",
    "То есть не нужно сразу предлагать отправить всем пуш уведомления, предлагать скидку ушедшим и прочее и для этого провести аб тест.  \n",
    "Идеи о проведении аб теста нужно делать после изучения данных.  \n",
    "То есть задача сначала определить как мы можем решить имеющуюся проблему, а это можно понять только по данным.  \n",
    "- нужно понять в чем проблема\n",
    "- почему проблема\n",
    "- и как проблему решать  \n",
    "\n",
    "И вот как только мы поняли как проблему решать, вот только тогда для этого и проводим аб тест.  \n",
    "Пример, у нас есть данные о водителях такси и их поездки.  \n",
    "И наша проблема, что водители уходят.  \n",
    "Вот тут не нужно сразу генерить кучу идей для аб теста.  \n",
    "Нужно изучить данные, определить какие факторы сильнее других влияют на отток и уже для этого фактора генерировать идеи для аб теста.  \n",
    "Мы провели анализ и обнаружили, что водители уходят, когда им ставят плохие оценки.  \n",
    "И вот теперь мы думаем как бы решить эту проблему и для этого проводим аб тест, чтобы првоерить нашу гипотезу для решения.  \n",
    "И очень часто и аб тест будет не нужен, потому что проблема может быть очевидная.  \n",
    "Например, просто что-то сломалось в приложении и для решения проблемы не нужны аб тесты, нужно просто обнаружить причину проблемы.  \n",
    "Поэтому очень важно сначала изучить исторические данные и обнаружить факторы, которые влияют на проблему.  "
   ]
  },
  {
   "cell_type": "markdown",
   "metadata": {},
   "source": [
    "Поиск факторов, которые влияют на проблему нужно начинать с высокоуровневых факторов и двигаться к менее высокоуровневым.  \n",
    "Например, у нас уходят пользователи, не лучший вариант запросить всю информацию о пользователях и проверять влияет ли количество пикселей на телефоне на уход.  \n",
    "Нужно сначала начать с более важных факторов, как возраст, регион, модель телефона и другие.  \n",
    "Для каждого случая будут разные факторы, которые нужно сначала изучить.  \n",
    "Тут можно представить это как поиск слона в посудной лавке.  \n",
    "В большинстве случаев проблема будет в значимом факторе. Поэтому двигаться нужно от главных к менее важным.  "
   ]
  },
  {
   "cell_type": "markdown",
   "metadata": {},
   "source": [
    "Очень важно выяснить до аб теста есть ли сезонность в нашем эксперименте.  \n",
    "Можно посмотреть количество новых пользователей в день и количество сессий в день. Если мы проводим аб тест на новых пользователях.  \n",
    "То есть например месячная или недельная сезонность. То есть у нас в какие-то дни приходит мало пользователей, а в какие-то много и так  \n",
    "продолжнается каждую неделю.  \n",
    "Если мы вычислили, что нам нужно для теста 3 дня и мы запустим эксперимент, не учитывая сезонност, то мы можем получить  \n",
    "искаженную картину, так как мы можем запустить эксперимент, когда у нас будет мало или наоборот много пользователй.  \n",
    "В этом случае нам нужно увеличить эксперимент до 7 дней.  \n",
    "Важно учитывать сезонность, чтобы учесть весь период сезонности.  "
   ]
  },
  {
   "cell_type": "markdown",
   "metadata": {},
   "source": [
    "Также важно првоерить не попали ли у нас одни и те же пользователи и в группу А и в группу Б.  \n",
    "И конечно нужно проверить выполняются ли предварительные условия, например, мы хотели проводить тест только на москвичах, а у нас есть пользователи  \n",
    "из других регионов.  \n",
    "Тут важно понимать, что разрабы тоже могут ошибаться, и нужно проверить корректные ли у нас данные после теста или во время него (если мы мониторим).  "
   ]
  },
  {
   "cell_type": "markdown",
   "metadata": {},
   "source": [
    "Пример AB эксперимента  \n",
    "https://habr.com/ru/companies/X5Tech/articles/596279/  \n",
    "https://glowbyteconsulting.com/kak_podgotovit_i_provesti_a/b-testirovaniye  \n",
    "Начнём с рассмотрения примера. Допустим, у нас есть интернет-магазин продуктов с доставкой,    \n",
    "и мы хотим стимулировать увеличение средней выручки на пользователя. Для этого мы решили отправить письма с рекламой сервиса активным клиентам.   \n",
    "Перед тем как запустить рассылку на всех активных клиентов, нужно проверить её эффективность с помощью AB эксперимента.\n",
    "\n",
    "В самом простом сценарии для этого потребуется:\n",
    "\n",
    "- Очень важно запускать тест, убедившись, что на результат будет влиять в основном наш вносимый фактор. Потому, что если в каком-то блоге, у которого очень много пользователей, про нас упомянули положительно, то у нас может быть всплеск активности и воздействие может перебить наш фактор.   \n",
    "\n",
    "- Сформировать экспериментальную и контрольную группу. Используем стратификацию.  \n",
    "\n",
    "- Определить целевую метрику.    \n",
    "Чтобы понять какая версия изменений лучше, нам нужно как-то сравнить их. Для этого нужно определить метрику, по которой мы сможем определить что одна лучше другой, при чем это должны быть значимые и понятные метрики для бизнеса.\n",
    "На начальном этапе важно определиться с метрикой, за которой будем наблюдать. Кажется, что это не так сложно — берем «деньги» и все. Ведь в конечном итоге цель бизнеса — растить прибыль. Но не все так однозначно. Начиная с того, что деньги бывают разные — средний чек, или сумма трат в неделю, или средняя маржа. Заканчивая тем, что на текущем этапе важнее могут быть другие метрики: CTR (click-through-rate), конверсия в покупку или удовлетворенность пользователей сервисом. К выбору метрики нельзя относиться снисходительно и необходимо определить, на какие параметры ваш эксперимент должен оказать влияние.\n",
    "\n",
    "В целом, метрики можно разделить на три типа:\n",
    "\n",
    "целевая;\n",
    "прокси (опережающая);\n",
    "guardrail (барьерная).\n",
    "\n",
    "На основе целевой метрики принимается решение об успешности эксперимента. Это основная метрика, за которой наблюдаем.\n",
    "\n",
    "Не всегда есть возможность ждать результатов по целевой метрике. Например, интересует результат в деньгах, но чтобы увидеть статистически значимый эффект необходимо собирать данные три месяца. Долго. Поэтому, как один из вариантов, можно рассмотреть прокси-метрику «конверсия», для получения результатов по которой необходимо только две недели.\n",
    "\n",
    "Прокси-метрика подбирается по историческим данным. Одна должна быть сонаправлена с целевой, т.е. меняться в ту же сторону при внешнем воздействии, что и целевая. Еще один принципиальный момент — бизнес должен быть согласен с прокси-метрикой в качестве целевой.\n",
    "\n",
    "Также прокси-метрика нужна, когда у нас не достаточно пользователей для целевой метрики, например, мы только запустили проект и покупок ещё мало, и тогда мы можем использовать прокси-метрику, например, количество заявок на покупку.  \n",
    "\n",
    "Guardrail-метрика — общая для всей компании барьерная метрика, которую нельзя «ронять». При запуске теста нужно удостовериться, что барьерных метрик нет или они есть, но изменение в тесте на них не влияет или влияет положительно. В качестве примера такой метрики может выступать маржа.\n",
    "- Сформулировать статистическую гипотезу и критерий её проверки.\n",
    "\n",
    "- Зафиксировать минимальный ожидаемый эффект и допустимые вероятности ошибок I и II рода.\n",
    "\n",
    "- Оценить необходимый размер групп.\n",
    "\n",
    "- Учесть сезонность и микроцикл (например, недельный цикл в магазине), то если нам достточно пары дней чтобы набрать нужно количетсво пользователей, то лучше продлить эксперимент и захватить всю неделю, чтобы захватить весь цикл.\n",
    "\n",
    "- Можно дополнительно использовать CUPED (controlled-experiment using pre-experemental data)\n",
    "\n",
    "- Делим на группы. Важно, чтобы в обоих группах были максимально похожие пользователи. То есть примерно одного возраста, из одных регионовв, с одинаковым уровнем дохода и т.д. При этом не значит что все должны быть из Москвы. Это значит, что распределение пользователей в группах должно быть примерно одинаковым. То есть если в одной группе половина пользоователлей из Москвы в возрасте до 30 лет с высшим образованием, то и во второй группе должно быть примерно так же.\n",
    "\n",
    "- Замораживаем клиентов, участвующих в кампании (контрольная и тестовая группы)\n",
    "\n",
    "На клиентах, отобранных для тестовой и контрольной групп, нельзя запускать другие кампании. Поэтому такие клиенты замораживаются — до окончания текущего эксперимента их данные нельзя использовать для тестирования гипотез.\n",
    "\n",
    "- Провести АА тест и убедиться, что наша система сплитования (разбиение на группы, например, при входе на сайт) работает правильно. И в разные группы попадают клиенты с одинаковыми характеристиками. В идеале взять уже собранные группы для АБ теста и дать им одинаковые варианты. Но также возможна ситуация, когда мы просто хотим убедиться, что система сплитования работает правильно и тогда мы можем взять до набора наших групп другие группы и на них проверить систему сплитования.  \n",
    "\n",
    "- Провести эксперимент.\n",
    "\n",
    "- Оценить результаты эксперимента.\n",
    "Тут важно сначала определить какой переменной является наша метрика, по которйо мы сравниваем группы.  \n",
    "- Если это метрическая переменная (мы можем ее измерить, можем построить гистограмму), то тут по сути нам нужно сравнить распределения двух групп либо по среднему (т тест), либо по рангам (критерий Манна-Уитни), либо по медиане (бутсттреп)..\n",
    "- Если у нас метрика это просто результат события, которое либо случилось, либо нет. То есть у нас есть конверсия.  \n",
    "То тут либо мы просто используем z тест для долей, либо берем только количество событий и используем хи квадрат (важно для хи квадрата в ячейке должно быть не менее 5 наблюдений)."
   ]
  },
  {
   "cell_type": "markdown",
   "metadata": {},
   "source": [
    "ВАЖНО  \n",
    "нельзя делать выводы только на основе конечного значения p-value  \n",
    "нужно изучить динамику его во времени всего эксперимента  \n",
    "И важно, что если после окончания эксперимента метрика не стабилизировалась, то возможно нужно продлить эксперимент, так как по ЦПТ метрика должна стабилизироваться.  \n",
    "И также обратное, если метрика стабилизировалась, то эксперимент можно завершить раньше.\n",
    "\n",
    "Чтобы нагляднее увидеть разницу между группами, строят график относительного различия. Каждую его точку рассчитывают так: кумулятивная метрика группы B / кумулятивная метрика группы A - 1."
   ]
  },
  {
   "cell_type": "markdown",
   "metadata": {},
   "source": [
    "ВАЖНО  \n",
    "При определении длительности теста важно понимать, какие всплески активности бывают у вашей аудитории.\n",
    "Возможные причины всплесков:\n",
    "- Будни или выходные;\n",
    "- Праздники (увеличение спроса на «подарочные» товары);\n",
    "- Распродажи, акции, маркетинговые активности (скидки увеличивают активность аудитории, меняя её покупательское поведение);\n",
    "- Особые события (например, покупки товаров для школы в августе);\n",
    "- Сезонность продукта (например, обогреватели);\n",
    "- Деятельность конкурентов (конкуренты снизили цены на продукт, и активность ваших пользователей уменьшилась);\n",
    "- Изменение в политической и экономической обстановке (кризис, рост цен, запрет на торговлю товаром, увеличение его стоимости из-за дополнительных пошлин).\n",
    "\n",
    "Помимо всплесков активности следует понимать, каков цикл реализации измеряемой метрики? Чаще всего он связан с циклом принятия решения о покупке — временем, прошедшим от первой мысли о приобретении товара до его покупки.  \n",
    "Например, если магазин продает диваны, то время принятия решения может быть несколько недель и нельзя проводить тест всего на неделю,  \n",
    "так как мы не захватим полный цикл принятия решения, так как изменения не повлияли на тех, кто оказался в тесте, так как они начали выбирать диван несколкьо недель назад."
   ]
  },
  {
   "cell_type": "markdown",
   "metadata": {},
   "source": [
    "ВАЖНО  \n",
    "Для сравнения групп можно использовать количество заказов на пользователя.  \n",
    "То есть сгруппировать по пользователям, посчитать количество заказов у каждого пользователя.  \n",
    "Сделать 2 выборки для каждой групп. Пользователей без заказов заполнить нулями.  \n",
    "И провести t тест или тест Манна-Уитни.  \n",
    "В принципе это будет аналог конверсии в каком, то роде, так как будут кто не покупал и кто покупал.  "
   ]
  },
  {
   "cell_type": "markdown",
   "metadata": {},
   "source": [
    "ВАЖНО  \n",
    "АБ тест нужно анализировать и с выбросами и без них.  \n",
    "В иделае сделать 2 варинта данных - исходные и обрезанные от 1 до 99 квантиля.  \n",
    "И если результаты будут одинаковыми, то все норм, иначе думать что делать."
   ]
  },
  {
   "cell_type": "markdown",
   "metadata": {},
   "source": [
    "ВАЖНО  \n",
    "Не только считаем статистическую значимость через p-value разницы между метриками, но обязательно записываем абсолютное значение разницы.  \n",
    "В итоге вывод должен быть примерно следующий - \n",
    "- Конверсия группы В на 15% лучше конверсии группы А и эта разница статистически значима"
   ]
  },
  {
   "cell_type": "markdown",
   "metadata": {},
   "source": [
    "Мощность статистического теста (statistical power) — это величина, которую мы не можем напрямую изменить, но можем влияять на неё косвенно, изменяя другие параметры эксперимента.   \n",
    "Мощность — это вероятность того, что тест обнаружит статистически значимый эффект, если он действительно существует.   \n",
    "Чтобы изменить мощность, мы можем менять следующие параметры:\n",
    "- Размера выборки (n) — чем больше данных, тем выше мощность.\n",
    "- Уровня значимости (α) — обычно фиксируется на уровне 0.05 или 0.01.\n",
    "- Минимального обнаруживаемого эффекта (MDE) — чем меньше эффект, который мы хотим обнаружить, тем больше данных нужно.\n",
    "- Дисперсии данных (σ²) — чем меньше дисперсия, тем выше мощность.\n"
   ]
  },
  {
   "cell_type": "markdown",
   "metadata": {},
   "source": [
    "И в итоге у нас есть формула, в которую мы подставляем нужную мощность и уже подбираем другие параметры, чтобы мощность была заявленной."
   ]
  },
  {
   "cell_type": "markdown",
   "metadata": {},
   "source": [
    "Мы не можем напрямую \"увеличить мощность\", но можем изменить параметры, которые на неё влияют:\n",
    "\n",
    "1. Увеличить размер выборки (n):\n",
    "\n",
    "- Чем больше данных, тем выше вероятность обнаружить эффект.\n",
    "- Это самый прямой способ повысить мощность.\n",
    "\n",
    "2. Уменьшить дисперсию (σ²):\n",
    "\n",
    "- Можно улучшить дизайн эксперимента, например, использовать стратификацию или блокировку.\n",
    "- Выбрать менее вариативную метрику.\n",
    "\n",
    "3. Увеличить MDE:\n",
    "\n",
    "- Если мы готовы обнаруживать более крупные эффекты, то мощность увеличится.\n",
    "- Однако это может быть нежелательно, если нас интересуют небольшие, но важные изменения.\n",
    "\n",
    "4. Изменить уровень значимости (α):\n",
    "\n",
    "- Увеличение α (например, с 0.05 до 0.1) повышает мощность, но увеличивает вероятность ложноположительных результатов (ошибка первого рода)."
   ]
  },
  {
   "cell_type": "markdown",
   "metadata": {},
   "source": [
    "MDE (Minimum Detectable Effect) — это минимальный эффект, который мы считаем практически значимым для бизнеса или исследования. Он действительно используется для того, чтобы увеличить мощность эксперимента, сосредоточившись только на тех различиях, которые имеют значение.  \n",
    "Если мы не зададим MDE, тест будет пытаться обнаружить любые различия, даже очень маленькие, которые могут быть статистически значимыми, но не имеют практической ценности для бизнеса.   \n",
    "Чем больше MDE, тем выше мощность при фиксированном размере выборки. Это связано с тем, что обнаружить больший эффект проще, чем меньший."
   ]
  },
  {
   "cell_type": "markdown",
   "metadata": {},
   "source": [
    "ОЧЕНЬ ВАЖНО  \n",
    "Когда мы получили датафреймы с результатами АБ теста,  \n",
    "то нужно обязательно проверить не попали ли у нас пользователи в обе группы,"
   ]
  },
  {
   "cell_type": "code",
   "execution_count": null,
   "metadata": {},
   "outputs": [],
   "source": [
    "duplicated_users = orders.groupby('visitor_id').agg({'group': ['nunique', 'unique']})\n",
    "duplicated_users.columns = ['groups', 'group_names']\n",
    "duplicated_users = duplicated_users.query('groups > 1')\n",
    "display(duplicated_users.head())\n",
    "len(duplicated_users)"
   ]
  },
  {
   "cell_type": "markdown",
   "metadata": {},
   "source": [
    "### Анализ и обрезание аномальных значений"
   ]
  },
  {
   "cell_type": "markdown",
   "metadata": {},
   "source": [
    "Аномалии могут искажать результаты A/B-теста.  \n",
    "Если мы сравниваем средние чеки, то слишком большие средние чеки в одной из выборок будут искажать результаты теста.  \n",
    "Также если мы сравниваем конверсии, то покупатели с большим количеством заказов также будут искажать результаты теста."
   ]
  },
  {
   "cell_type": "markdown",
   "metadata": {},
   "source": [
    "ВАЖНО  \n",
    "нужно обрезать выбросы не только в исходных данных, а также промежуточные метрики, из которых будет состоянть финальная метрика.  \n",
    "Например, мы хотим сравнить apc. Для этого нам нужно количество заказов разделить на количество покупателей.  \n",
    "Сначала нам нужно посчитать для каждого пользователя количество заказов и посмотреть распределение этой метрики (например на боксплоте)\n",
    "Также со средним чеком, нужно проверить нет ли у нас аномально дорогих покупок.  \n",
    "И все эти аномалии нужно удалять, например обрезая данные по 1 и 99 перцентилю или по 5 и 95 перцентилю."
   ]
  },
  {
   "cell_type": "markdown",
   "metadata": {},
   "source": [
    "Но не всегда нужно просто брать определенные перцентили и квантили, лучше сначала подумать может есть физически реальное предельное значнение,  \n",
    "после которого значение будет аномальным. Нужно посмотреть на распределение и выбрать границу."
   ]
  },
  {
   "cell_type": "code",
   "execution_count": null,
   "metadata": {},
   "outputs": [],
   "source": [
    "ordersByUsers = (\n",
    "    data.groupby('userId', as_index=False)\n",
    "    .agg({'orderId': 'nunique'})\n",
    ")"
   ]
  },
  {
   "cell_type": "markdown",
   "metadata": {},
   "source": [
    "### Проблема ненормального  распределения для параметрических тестов"
   ]
  },
  {
   "cell_type": "markdown",
   "metadata": {},
   "source": [
    "Если мы возьмем две выборки с ненормальным распределением, и будем многократно брать из них выборки  \n",
    "и считать разность средних выборок, то разность средних будет распределена нормально.  \n",
    "Это верно. Но когда мы будет проводить, например, t тест, то мы будем брать наши выборки  \n",
    "и их средние, так вот из-за того, что они распределны ненормально, то высока вероятнсоть  \n",
    "получить разность средних сильно отличающуюся от распределения этих средних.  \n",
    "Например у нас 2 лог нормальных распределения и мы берем из них средние,  \n",
    "то в зависимости от формы обоих выборок мы будем получать разыне средние и следовательно эта разность может обрабатываться некорректно.  \n",
    "Простыми словами, если у нас номальное распределение, то среднее какждой выборки будет примерно всегда по середине,  \n",
    "а если у нас ненормальное распределение, то средние наших распределений могут скакать в зависимости от формы.  \n",
    "Так как у нормального распределения есть симметрия и среднее будет по середине.  \n",
    "А у  ненормлаьного симметрии нет, и оно среднее значение будет гулять.  \n",
    "И тогда несмотря, что разность средних будет распределена нормально, у нас есть высокая вероятнсоть получить значение разности  \n",
    "сильно отличающиещя от распределения разности, и это не будет говорить, о том, что они разные, просто такая форма наших  \n",
    "исходных выборок дала такие средние.  \n",
    "Поэтому нужно очень аккуратно использовать параметрические тесты, когда у нас ненормальное распределение.  \n",
    "Лучше попробовать логарифмировать, а если не помогает, то использовать непараметрику или бутстреп. "
   ]
  },
  {
   "cell_type": "markdown",
   "metadata": {},
   "source": [
    "### Как работать с ненормальным распределением"
   ]
  },
  {
   "cell_type": "markdown",
   "metadata": {},
   "source": [
    "Если у нас распределение не нормальное, то даже несмотря на ЦПТ параметрические тесты могут давать некорректные резльтаты.  \n",
    "Поэтому нам нужно, чтобы использовать параметрику, привести распределение к более менее нормальному виду"
   ]
  },
  {
   "cell_type": "markdown",
   "metadata": {},
   "source": [
    "#### Примеры функций для преобразования"
   ]
  },
  {
   "cell_type": "markdown",
   "metadata": {},
   "source": [
    "Для разных форм исходного распределения нам нужно использовать разные функции для преобразования,  \n",
    "чтобы итоговое распределение было как можно ближе к номальному "
   ]
  },
  {
   "cell_type": "code",
   "execution_count": 52,
   "metadata": {},
   "outputs": [
    {
     "data": {
      "text/plain": [
       "<matplotlib.legend.Legend at 0x1dc91cf8>"
      ]
     },
     "execution_count": 52,
     "metadata": {},
     "output_type": "execute_result"
    },
    {
     "data": {
      "image/png": "[encoded data removed]",
      "text/plain": [
       "<Figure size 800x600 with 1 Axes>"
      ]
     },
     "metadata": {},
     "output_type": "display_data"
    }
   ],
   "source": [
    "x = np.linspace(0.01, 10, 1000)\n",
    "# 1 / x\n",
    "y_1 = 1 / x\n",
    "y_2 = 1 / x**2\n",
    "y_3 = 1 / np.power(x, 1/2)\n",
    "y_4 = np.log(x)\n",
    "y_5 = np.power(x, 1/2)\n",
    "y_6 = np.power(x, 1/3)\n",
    "y_7 = np.power(x, x**2)\n",
    "sns.lineplot(x=x, y=y_1, label=r'$\\frac{1}{x}$')\n",
    "sns.lineplot(x=x, y=y_2, label=r'$\\frac{1}{x^2}$')\n",
    "sns.lineplot(x=x, y=y_3, label=r'$\\frac{1}{\\sqrt{x}}$')\n",
    "sns.lineplot(x=x, y=y_4, label=r'$\\ln{x}$')\n",
    "sns.lineplot(x=x, y=y_5, label=r'$\\sqrt{x}$')\n",
    "sns.lineplot(x=x, y=y_6, label=r'$\\sqrt[3]{x}$')\n",
    "sns.lineplot(x=x, y=y_7, label=r'$x^2$')\n",
    "plt.gca().set_ylim(-5, 5)\n",
    "plt.gcf().set_size_inches(8, 6)\n",
    "plt.legend(loc='upper center', bbox_to_anchor=(0.5, 1.12), borderaxespad= 0, ncol=8, prop={'size': 12}) "
   ]
  },
  {
   "cell_type": "markdown",
   "metadata": {},
   "source": [
    "#### Логарифмируем"
   ]
  },
  {
   "cell_type": "markdown",
   "metadata": {},
   "source": [
    "Основание будет влиять на итоговые значения после логарифмирования,  \n",
    "чем больше основание, тем меньше будет итоговое значение, так как степерь будет меньше, для его возведения  \n",
    "Например, если у нас исходные данные от 0.000001 до 1_000_000, то нам удобнее взять основание 10, так как тогда у нас будет результат от -6 до +6\n",
    "а если у нас исходные данные от 0.01 до 10, то нам лучше брать степерь меньше"
   ]
  },
  {
   "cell_type": "markdown",
   "metadata": {},
   "source": [
    "ниже на графике ось x это наши исходные значения, а ось y это логарифмированные значения"
   ]
  },
  {
   "cell_type": "markdown",
   "metadata": {},
   "source": [
    "В итоге все что от 0 до 1 в исхдных данных расшириться, а все что от 1 до n сожметься"
   ]
  },
  {
   "cell_type": "markdown",
   "metadata": {},
   "source": [
    "Наша задача сделать так, чтобы пик был от 0 до 1, тогда он разгладится"
   ]
  },
  {
   "cell_type": "code",
   "execution_count": 61,
   "metadata": {},
   "outputs": [
    {
     "data": {
      "text/plain": [
       "<matplotlib.legend.Legend at 0x1ba11e48>"
      ]
     },
     "execution_count": 61,
     "metadata": {},
     "output_type": "execute_result"
    },
    {
     "data": {
      "image/png": "[encoded data removed]",
      "text/plain": [
       "<Figure size 500x300 with 1 Axes>"
      ]
     },
     "metadata": {},
     "output_type": "display_data"
    }
   ],
   "source": [
    "x = np.linspace(0.00000001, 1000, 10000)\n",
    "log_10 = np.log10(x)\n",
    "log_e = np.log(x)\n",
    "log_2 = np.log2(x)\n",
    "sns.lineplot(x=x, y=log_10, label='10')\n",
    "sns.lineplot(x=x, y=log_e, label='e')\n",
    "sns.lineplot(x=x, y=log_2, label='2')\n",
    "plt.legend()"
   ]
  },
  {
   "cell_type": "markdown",
   "metadata": {},
   "source": [
    "Допустим у нас есть цены проданных товаров от 10 рублей до 1_000"
   ]
  },
  {
   "cell_type": "code",
   "execution_count": 62,
   "metadata": {},
   "outputs": [
    {
     "data": {
      "text/plain": [
       "<AxesSubplot:ylabel='Count'>"
      ]
     },
     "execution_count": 62,
     "metadata": {},
     "output_type": "execute_result"
    },
    {
     "data": {
      "image/png": "[encoded data removed]",
      "text/plain": [
       "<Figure size 500x300 with 1 Axes>"
      ]
     },
     "metadata": {},
     "output_type": "display_data"
    }
   ],
   "source": [
    "sales = np.concatenate([np.random.rand(10000000), np.random.randint(100, 500, 100000), np.random.randint(500, 800, 500), np.random.randint(500, 1000, 10)])\n",
    "sns.histplot(sales, bins=10)"
   ]
  },
  {
   "cell_type": "code",
   "execution_count": 63,
   "metadata": {},
   "outputs": [
    {
     "data": {
      "text/plain": [
       "<AxesSubplot:ylabel='Count'>"
      ]
     },
     "execution_count": 63,
     "metadata": {},
     "output_type": "execute_result"
    },
    {
     "data": {
      "image/png": "[encoded data removed]",
      "text/plain": [
       "<Figure size 500x300 with 1 Axes>"
      ]
     },
     "metadata": {},
     "output_type": "display_data"
    }
   ],
   "source": [
    "sns.histplot(np.log10(sales), bins=10)"
   ]
  },
  {
   "cell_type": "markdown",
   "metadata": {},
   "source": [
    "Если у нас данные от нуля, то можно использовать `np.log1p`  \n",
    "вычисляет `log(1 + x)`\n"
   ]
  },
  {
   "cell_type": "markdown",
   "metadata": {},
   "source": [
    "Чтобы убрать ноль, можно либо также использовать `np.log1p`, но тогда мы теряем возможность сжатия от 0 до 1,  \n",
    "в этом случае у нас график сожметься и станет более плавный, но не будет нормальности.  \n",
    "Если нужно сохранить нормальностЬ, то нужно добавить какое-нибудь минимальное значение.  \n",
    "И если есть минусовые значения, то ещё добавить модуль этого минусового значения, чтобы сдвинуть значения в плюсовую зону"
   ]
  },
  {
   "cell_type": "code",
   "execution_count": 80,
   "metadata": {},
   "outputs": [
    {
     "data": {
      "text/plain": [
       "array([-16.11809565,   1.60943793,   2.3025851 ,   2.39789528,\n",
       "         2.48490666,   2.63905734])"
      ]
     },
     "execution_count": 80,
     "metadata": {},
     "output_type": "execute_result"
    }
   ],
   "source": [
    "x = [-10, -5, 0, 1, 2, 4]\n",
    "eps = 0.0000001\n",
    "np.log(x + abs(np.min(x)) + eps)"
   ]
  },
  {
   "cell_type": "markdown",
   "metadata": {},
   "source": [
    "#### Используем функцию конря n-ой степени"
   ]
  },
  {
   "cell_type": "code",
   "execution_count": 7,
   "metadata": {},
   "outputs": [
    {
     "data": {
      "text/plain": [
       "<matplotlib.legend.Legend at 0x15fe4f60>"
      ]
     },
     "execution_count": 7,
     "metadata": {},
     "output_type": "execute_result"
    },
    {
     "data": {
      "image/png": "[encoded data removed]",
      "text/plain": [
       "<Figure size 500x300 with 1 Axes>"
      ]
     },
     "metadata": {},
     "output_type": "display_data"
    }
   ],
   "source": [
    "x = np.linspace(0.00000001, 1000, 10000)\n",
    "root_2 = np.power(x, 1/2)\n",
    "root_5 = np.power(x, 1/5)\n",
    "root_10 = np.power(x, 1/10)\n",
    "root_20 = np.power(x, 1/20)\n",
    "sns.lineplot(x=x, y=root_2, label='2')\n",
    "sns.lineplot(x=x, y=root_5, label='5')\n",
    "sns.lineplot(x=x, y=root_10, label='10')\n",
    "sns.lineplot(x=x, y=root_20, label='20')\n",
    "plt.legend()"
   ]
  },
  {
   "cell_type": "code",
   "execution_count": 8,
   "metadata": {},
   "outputs": [
    {
     "data": {
      "text/plain": [
       "<AxesSubplot:ylabel='Count'>"
      ]
     },
     "execution_count": 8,
     "metadata": {},
     "output_type": "execute_result"
    },
    {
     "data": {
      "image/png": "[encoded data removed]",
      "text/plain": [
       "<Figure size 500x300 with 1 Axes>"
      ]
     },
     "metadata": {},
     "output_type": "display_data"
    }
   ],
   "source": [
    "sales = np.concatenate([np.random.rand(100000), np.random.randint(100, 500, 10000), np.random.randint(500, 800, 500), np.random.randint(500, 1000, 10)])\n",
    "sns.histplot(sales, bins=10)"
   ]
  },
  {
   "cell_type": "code",
   "execution_count": 11,
   "metadata": {},
   "outputs": [
    {
     "data": {
      "text/plain": [
       "<AxesSubplot:ylabel='Count'>"
      ]
     },
     "execution_count": 11,
     "metadata": {},
     "output_type": "execute_result"
    },
    {
     "data": {
      "image/png": "[encoded data removed]",
      "text/plain": [
       "<Figure size 500x300 with 1 Axes>"
      ]
     },
     "metadata": {},
     "output_type": "display_data"
    }
   ],
   "source": [
    "sns.histplot(np.power(sales, 1/10), bins=10)"
   ]
  },
  {
   "cell_type": "markdown",
   "metadata": {},
   "source": [
    "### Как сократить время аб теста"
   ]
  },
  {
   "cell_type": "markdown",
   "metadata": {},
   "source": [
    "Время аб теста зависит\n",
    "- от метрики  \n",
    "метрика ежемесячных подписок будет требовать больше времени, чем просмотр в часах, так как время в часах мы можем быстрее набрать.  \n",
    "- размера аудитории  \n",
    "если сайт имеет аудиторию 1млн человек, то он быстрее наберет 1000 человек, а если сайт имеет аудиторию 1000 человек, то ему нужно будет больше времени\n",
    "- размера выборки   \n",
    "чем больше нам нужен размер выборки, тем дольше мы будем проводить тест  \n",
    "- дисперсия метрики  \n",
    "чем больше дисперсия метрики, тем более пузатое будет распределение и нам нужно будет больше выборка, чтобы получить нужную мощноть "
   ]
  },
  {
   "cell_type": "markdown",
   "metadata": {},
   "source": [
    "Чтобы сократить время аб теста, нам нужно подумать, а может есть метрика, которая коррелирует с нашей метрикой, которую мы хотим измерить,  \n",
    "но для этой новой метрики нужно меньше вермени.  \n",
    "Например, нетфликс заметил, что месячный ретеншн сильно коррелирует с дневным просмотром в часах.  \n",
    "Они заменили метрику, и им не нужно было ждать целый месяц, чтобы получить результаты.  "
   ]
  },
  {
   "cell_type": "markdown",
   "metadata": {},
   "source": [
    "### Как сократить дисперсию"
   ]
  },
  {
   "cell_type": "markdown",
   "metadata": {},
   "source": [
    "ВАЖНО  \n",
    "Стратификация и CUPED не помогают сделать тест более мощным на этапе дизайна (например, при расчете размера выборки), но они помогают улучшить результаты уже после проведения теста.  "
   ]
  },
  {
   "cell_type": "markdown",
   "metadata": {},
   "source": [
    "#### Стратификация"
   ]
  },
  {
   "cell_type": "markdown",
   "metadata": {},
   "source": [
    "Если у нас есть 2 выборки с дисперсией D1 и D2, то сумма этих дисперсий будет меньше чем, если мы не делим на группы и берем общую диспресию.  \n",
    "То есть изначальное распределение у нас широкое и дисперсия логично больше, а если мы выделим группы, то каждая группа будет частью общего и будет уже.  "
   ]
  },
  {
   "cell_type": "markdown",
   "metadata": {},
   "source": [
    "Суть в том, что мы делим аудиторию на А и Б группы не случайно, согласно некоторой пропорции, которую мы знаем.  \n",
    "Нарпимер, мужчины и женщины и прочее.  \n",
    "Например, у нас мужчин, смотрящих фильмы, 70 процентов, а женщин 30.  \n",
    "Если мы разделим выборки поравну, то мы увеличим дисперсию.  \n",
    "Но если мы выборки возьмем с пропорциями 70 на 30, то дисперсия будет меньше.  \n"
   ]
  },
  {
   "cell_type": "markdown",
   "metadata": {},
   "source": [
    "Стратификация позволяет получить более репрезентативную выборку на меньшем объеме данных. Этот метод я рекомендую применять всегда, когда есть возможность.  \n",
    "При стратификации происходит разделение выборки на сопоставимые группы по определенным параметрам.   \n",
    "Для этого исходный датасет разбивается на подгруппы путем кластеризации или бакетирования.  "
   ]
  },
  {
   "cell_type": "markdown",
   "metadata": {},
   "source": [
    "Ковариата - метрика, которая коррелирует с целевой метрикой, может быть измерена до эксперимента (строго говоря, нет) и не зависит от других экспериментов.   \n",
    "В нашем случае факт регистрации в программе лояльности до эксперимента будет ковариатой.  \n",
    "\n",
    "Приведём несколько примеров ковариат для экспериментов с людьми: пол, возраст, город проживания, операционная система устройства пользователя.  \n",
    "Если эксперимент проводится не на людях, а на магазинах, то ковариатами могут быть размер торговой площади,   \n",
    "расположение (в торговом центре или в отдельном здании), режим работы (круглосуточный или нет) и так далее.\n",
    "\n",
    "Популяция - все пользователи, на которых мы можем повлиять нашим экспериментом. Пусть в нашей популяции будет 10 тысяч активных пользователей.\n",
    "\n",
    "С помощью ковариат можно разделить популяцию на непересекающиеся подмножества, которые будут обладать уникальным набором значений ковариат.  \n",
    "Такие подмножества будем называть стратами."
   ]
  },
  {
   "cell_type": "markdown",
   "metadata": {},
   "source": [
    "#### CUPED - controlled-experiment using pre-experimental data"
   ]
  },
  {
   "cell_type": "markdown",
   "metadata": {},
   "source": [
    "https://habr.com/ru/companies/X5Tech/articles/780270/"
   ]
  },
  {
   "cell_type": "markdown",
   "metadata": {},
   "source": [
    "Позволяет сократить дисперсию в данных путем расчета разности целевой переменной и переменной X, независимой от целевой.    \n",
    "Ковариата — это метрика, скоррелированная с метрикой эксперимента, которая не зависит от эксперимента. В качестве ковариаты часто берут значения метрики эксперимента, посчитанные на периоде до эксперимента. Обозначим значения метрики эксперимента как Y, а значения ковариаты как X.\n",
    "\n",
    "Суть метода CUPED состоит в переходе от метрики Yк метрике Y_{cuped}, которая вычисляется по формуле:"
   ]
  },
  {
   "cell_type": "markdown",
   "metadata": {},
   "source": [
    "$$Y_{cuped} = Y - \\theta X$$"
   ]
  },
  {
   "cell_type": "markdown",
   "metadata": {},
   "source": [
    "Разность рассчитывается с учетом коэффициента тетта"
   ]
  },
  {
   "cell_type": "markdown",
   "metadata": {},
   "source": [
    "$$\\theta = \\frac{cov(Y,X)}{var(X)}$$"
   ]
  },
  {
   "cell_type": "markdown",
   "metadata": {},
   "source": [
    "Суть данного преобразования в том, что мы убираем определенную составляющую вариативности Y, которая обусловленна ковариатой X"
   ]
  },
  {
   "cell_type": "markdown",
   "metadata": {},
   "source": [
    "Чем сильнее ковариата коррелирует с целевой метрикой, тем сильнее с помощью CUPED можно снизить дисперсию.\n",
    "\n",
    "Алгоритм применения CUPED:\n",
    "\n",
    "вычислить значения исходной метрики Y для каждого пользователя в контрольной и экспериментальной группах;\n",
    "\n",
    "вычислить значения ковариаты X для каждого пользователя в контрольной и экспериментальной группах;\n",
    "\n",
    "вычислить параметр \\theta по формуле $\\theta = \\frac{\\mathrm{cov}(Y,X)}{\\mathbb{V}(X)}$;\n",
    "\n",
    "для каждого пользователя вычислить CUPED-метрику по формуле $Y_{cuped} = Y - \\theta X$;\n",
    "\n",
    "применить статистический тест на значениях CUPED-метрики контрольной и экспериментальной групп."
   ]
  },
  {
   "cell_type": "markdown",
   "metadata": {},
   "source": [
    "### Gap boundary (как бороться с эффектом новизны)"
   ]
  },
  {
   "cell_type": "markdown",
   "metadata": {},
   "source": [
    "Если мы изменили интерфейс, то нужно учитывать тот факт, что человек в начале может проявлять  \n",
    "повышенную акивность. Он может скролить, тыкать разные кнопки, репостить.  \n",
    "Но это может быть по 2 причинам, ему действительно нравится, а может ему все настолько не нравится,  \n",
    "что он тыкает кнопки скринит и шлет друзьям и пишет как все ужасно.  \n",
    "И разницу мы можем понять только через определенный промежуток времени.  \n",
    "Так как человек, которому не нравится, он потыкает, порепостит и потом больше не появится,  \n",
    "так как ему не нравится. А тот, кому нравится он продолжит пользователься сервисом.  \n",
    "Вот для этого нужно начинать анализ через определенный промежуток времени, то есть осечь вот этот эффект новизны,  \n",
    "когда человек, которому не нарвится будет вести себя также как тот, которому нравится.  "
   ]
  },
  {
   "cell_type": "markdown",
   "metadata": {},
   "source": [
    "Чтобы не выкидывать кусок данных из-за эффекта новизны, можно испоьзовать такой метод  \n",
    "Методологоия Facebook"
   ]
  },
  {
   "cell_type": "markdown",
   "metadata": {},
   "source": [
    "- Выкатываем новый дизайн. Группа А видит старый, группа Б видит новый.  \n",
    "- Делим группу Б ещё раз, но хитрее: будем сравнивать тех, кто видел старый  \n",
    "и тех, кто зарегистрировался после того, как новый дизайн был предложен.  \n",
    "\n",
    "В итоге сначала сравниваются обе подгруппы Б между собой, а потом сравнивается вся Б и А. "
   ]
  },
  {
   "cell_type": "markdown",
   "metadata": {},
   "source": [
    "### Тестирование при невозможности разбить на группы A и B"
   ]
  },
  {
   "cell_type": "markdown",
   "metadata": {},
   "source": [
    "Например, при офлайн тесте мы не можем одновременно для одной аудитории расставить товары одинм способом, а для другой другим.  "
   ]
  },
  {
   "cell_type": "markdown",
   "metadata": {},
   "source": [
    "Casual Impact  \n",
    "библиотека, которая использует временные ряды для предсказания"
   ]
  },
  {
   "cell_type": "markdown",
   "metadata": {},
   "source": [
    "https://habr.com/ru/companies/uzum/articles/817473/"
   ]
  },
  {
   "cell_type": "markdown",
   "metadata": {},
   "source": [
    "Байесовские модели пространства-состояния  \n",
    "• Берем нашу задачу и рассматриваем ее как временной ряд:  \n",
    "например, продажи пива день ото дня во время чемпионата.  \n",
    "• Далее находим некоторый коррелирующий временной ряд.  \n",
    "Например, продажи пива в другом городе.  \n",
    "• На основе этих двух рядов будет сформировано предсказание.  \n",
    "• Если фактические цифры выйдут за доверительных интервал  \n",
    "предсказанного продолжения ряда, то мы уверены, что некоторое  \n",
    "воздействие было оказано  "
   ]
  },
  {
   "cell_type": "markdown",
   "metadata": {},
   "source": [
    "### Поправка на множественное сравнение"
   ]
  },
  {
   "cell_type": "markdown",
   "metadata": {},
   "source": [
    "Поправки для множественного сравнения\n",
    "- поправка Бонферрони (очень консервативная и сильно уменьшает мощность, поэтому увеличивается ошибка второго рода, не определить различия там, где они действительно есть)  \n",
    "Подходит для небольшого числа тестов (например, до 5), когда важно избежать ложных положительных результатов.\n",
    "- поправка Бонферрони-Холма (менее консервативаня) Более мощный, так как корректирует p-значения с учетом их порядка.  \n",
    "Рекомендуется для большего числа тестов, так как он более гибкий и менее консервативный.  "
   ]
  },
  {
   "cell_type": "markdown",
   "metadata": {},
   "source": [
    "Бонферони"
   ]
  },
  {
   "cell_type": "markdown",
   "metadata": {},
   "source": [
    "Если мы сравниваем не 2 варианта, а больше, то  \n",
    "Нулевая гипотеза будет, что все равны,  \n",
    "Альтернативная, что хотя бы одна выбивается, то есть хотя бы у одной пары p value будет меньше уровня значимости    \n",
    "\n",
    "Тут сразу возникает проблема, что если мы знаем, что хорошая только одна версия, а остальные группы смотрят плохую версию,    \n",
    "то получается мы изначально портим прибыль не 1 плохой как при 2 вариантах, а 4 плохими.    \n",
    "\n",
    "Если у нас 5 тестов и мы выбрали уровень значимотси 0.05, то  \n",
    "Р(хотя бы один результат значимый) = 1 - Р(все результаты незначимы) =   \n",
    "= $1 - (1 - 0.05)^5 = 1 - 0.95^5 = 0.2262$    \n",
    "Получается, что если даже все тесты незначимы, то все равно 22.62 процентов шансов, что мы ошибочно получим значимый результат.    \n",
    "\n",
    "А теперь разделим наш уровень значимости на количество пар, то есть на 5  \n",
    "Р(хотя бы один результат значимый) = 1 - Р(все результаты незначимы) =   \n",
    "= $1 - (1 - 0.01)^5 = 1 - 0.99^5 = 0.0491$     \n",
    "\n",
    "Такой трюк называется поправкой Холма-Бонферонни. Таким образом, чем больше гипотез, тем меньше требуемый уровень значимости,   \n",
    "тем больше пользователей нужно нагнать в каждый тест.  \n",
    "Так как для получения уровня значимости в каждой группе в 5 раз меньше, нам нужно больше пользователей в каждую группу, согласно формуле расчета количества  \n",
    "участников в группе.  "
   ]
  },
  {
   "cell_type": "markdown",
   "metadata": {},
   "source": [
    "Холма"
   ]
  },
  {
   "cell_type": "code",
   "execution_count": null,
   "metadata": {},
   "outputs": [],
   "source": [
    "import numpy as np\n",
    "from statsmodels.stats.multitest import multipletests\n",
    "\n",
    "# Пример p-значений для нескольких тестов\n",
    "p_values = [0.01, 0.04, 0.03, 0.2, 0.005]\n",
    "\n",
    "# Применение поправки Холма\n",
    "reject, p_corrected, _, _ = multipletests(p_values, method='holm')\n",
    "\n",
    "# Вывод результатов\n",
    "print(\"Исходные p-значения:\", p_values)\n",
    "print(\"Скорректированные p-значения (Холм):\", p_corrected)\n",
    "print(\"Отклонить нулевую гипотезу?\", reject)"
   ]
  },
  {
   "cell_type": "markdown",
   "metadata": {},
   "source": [
    "- p_values: Список p-значений, полученных в результате нескольких статистических тестов.\n",
    "- multipletests: Функция из библиотеки statsmodels, которая применяет поправку Холма (или другие методы коррекции).\n",
    "    - Параметр method='holm' указывает, что нужно использовать метод Холма.\n",
    "- reject: Логический массив, показывающий, какие гипотезы отклоняются (True — отклоняем, False — не отклоняем).\n",
    "- p_corrected: Скорректированные p-значения после применения поправки Холма."
   ]
  },
  {
   "cell_type": "markdown",
   "metadata": {},
   "source": [
    "Алгоритм применения поправки Холма  \n",
    "- Упорядочить p-значения по возрастанию\n",
    "- Определить уровни значимости для каждого значения\n",
    "- Сравнить p-значения с уровнем значимости"
   ]
  },
  {
   "cell_type": "markdown",
   "metadata": {},
   "source": [
    "Пример"
   ]
  },
  {
   "cell_type": "markdown",
   "metadata": {},
   "source": [
    "- Уровень значимости ( \\alpha = 0.05 ).\n",
    "- p-значения: ( [0.01, 0.04, 0.03, 0.2, 0.005] )."
   ]
  },
  {
   "cell_type": "markdown",
   "metadata": {},
   "source": [
    "- Упорядочиваем p-значения: [ [0.005, 0.01, 0.03, 0.04, 0.2] ]\n",
    "\n",
    "- Определяем уровни значимости для каждого p-значения:\n",
    "\n",
    "    - Для ( i = 1 ): ( \\alpha / (5 - 1 + 1) = 0.05 / 5 = 0.01 ).\n",
    "    - Для ( i = 2 ): ( \\alpha / (5 - 2 + 1) = 0.05 / 4 = 0.0125 ).\n",
    "    - Для ( i = 3 ): ( \\alpha / (5 - 3 + 1) = 0.05 / 3 \\approx 0.0167 ).\n",
    "    - Для ( i = 4 ): ( \\alpha / (5 - 4 + 1) = 0.05 / 2 = 0.025 ).\n",
    "    - Для ( i = 5 ): ( \\alpha / (5 - 5 + 1) = 0.05 / 1 = 0.05 ).\n",
    "\n",
    "- Сравниваем p-значения с уровнями значимости:\n",
    "\n",
    "    - ( p_{(1)} = 0.005 \\leq 0.01 ) → отклоняем ( H_{(1)} ).\n",
    "    - ( p_{(2)} = 0.01 \\leq 0.0125 ) → отклоняем ( H_{(2)} ).\n",
    "    - ( p_{(3)} = 0.03 > 0.0167 ) → не отклоняем ( H_{(3)} ), и все последующие гипотезы также не отклоняются."
   ]
  },
  {
   "cell_type": "markdown",
   "metadata": {},
   "source": [
    "Результат:\n",
    "- Отклоняем гипотезы с p-значениями 0.005 и 0.01.\n",
    "- Остальные гипотезы не отклоняются."
   ]
  },
  {
   "cell_type": "code",
   "execution_count": null,
   "metadata": {},
   "outputs": [],
   "source": [
    "def holm_correction(p_values, alpha=0.05):\n",
    "    # Упорядочиваем p-значения и сохраняем их индексы\n",
    "    sorted_p = sorted(zip(p_values, range(len(p_values))), key=lambda x: x[0])\n",
    "    m = len(p_values)\n",
    "    \n",
    "    # Применяем поправку Холма\n",
    "    reject = [False] * m\n",
    "    for i, (p, idx) in enumerate(sorted_p):\n",
    "        # Уровень значимости для текущего p-значения\n",
    "        threshold = alpha / (m - i)\n",
    "        if p <= threshold:\n",
    "            reject[idx] = True\n",
    "        else:\n",
    "            # Если p > threshold, остальные гипотезы не отклоняются\n",
    "            break\n",
    "    \n",
    "    return reject"
   ]
  },
  {
   "cell_type": "code",
   "execution_count": null,
   "metadata": {},
   "outputs": [],
   "source": []
  },
  {
   "cell_type": "markdown",
   "metadata": {},
   "source": [
    "### Байесовские многорукие бандиты против A/B тестов"
   ]
  },
  {
   "cell_type": "markdown",
   "metadata": {},
   "source": [
    "https://habr.com/ru/companies/ods/articles/325416/"
   ]
  },
  {
   "cell_type": "markdown",
   "metadata": {},
   "source": [
    "### Кумулятивные метрики для анализа АБ теста"
   ]
  },
  {
   "cell_type": "markdown",
   "metadata": {},
   "source": [
    "Важно каждый день строить кумулятивные метрики, если у нас исторические данные,  \n",
    "то сделать это можно так"
   ]
  },
  {
   "cell_type": "code",
   "execution_count": null,
   "metadata": {},
   "outputs": [],
   "source": [
    "import pandas as pd\n",
    "import datetime as dt\n",
    "import numpy as np\n",
    "orders = pd.read_csv('https://code.s3.yandex.net/datasets/orders_for_anomalies_detection.csv', sep=',')\n",
    "orders['date'] = orders['date'].map(\n",
    "    lambda x: dt.datetime.strptime(x, '%Y-%m-%d')\n",
    ")\n",
    "visitors = pd.read_csv(\n",
    "    'https://code.s3.yandex.net/datasets/orders_for_anomalies_detection_visitors.csv', sep=','\n",
    ")\n",
    "visitors['date'] = visitors['date'].map(\n",
    "    lambda x: dt.datetime.strptime(x, '%d/%m/%Y')\n",
    ")\n",
    "print(orders.head())\n",
    "print(visitors.head())"
   ]
  },
  {
   "cell_type": "code",
   "execution_count": 14,
   "metadata": {},
   "outputs": [
    {
     "data": {
      "text/html": [
       "<div>\n",
       "<style scoped>\n",
       "    .dataframe tbody tr th:only-of-type {\n",
       "        vertical-align: middle;\n",
       "    }\n",
       "\n",
       "    .dataframe tbody tr th {\n",
       "        vertical-align: top;\n",
       "    }\n",
       "\n",
       "    .dataframe thead th {\n",
       "        text-align: right;\n",
       "    }\n",
       "</style>\n",
       "<table border=\"1\" class=\"dataframe\">\n",
       "  <thead>\n",
       "    <tr style=\"text-align: right;\">\n",
       "      <th></th>\n",
       "      <th>date</th>\n",
       "      <th>group</th>\n",
       "      <th>orders</th>\n",
       "      <th>buyers</th>\n",
       "      <th>revenue</th>\n",
       "      <th>visitors</th>\n",
       "    </tr>\n",
       "  </thead>\n",
       "  <tbody>\n",
       "    <tr>\n",
       "      <th>0</th>\n",
       "      <td>2019-04-01</td>\n",
       "      <td>A</td>\n",
       "      <td>6</td>\n",
       "      <td>6</td>\n",
       "      <td>128276</td>\n",
       "      <td>455</td>\n",
       "    </tr>\n",
       "    <tr>\n",
       "      <th>1</th>\n",
       "      <td>2019-04-01</td>\n",
       "      <td>B</td>\n",
       "      <td>3</td>\n",
       "      <td>3</td>\n",
       "      <td>4082</td>\n",
       "      <td>464</td>\n",
       "    </tr>\n",
       "    <tr>\n",
       "      <th>2</th>\n",
       "      <td>2019-04-02</td>\n",
       "      <td>A</td>\n",
       "      <td>12</td>\n",
       "      <td>12</td>\n",
       "      <td>157683</td>\n",
       "      <td>956</td>\n",
       "    </tr>\n",
       "    <tr>\n",
       "      <th>3</th>\n",
       "      <td>2019-04-02</td>\n",
       "      <td>B</td>\n",
       "      <td>7</td>\n",
       "      <td>6</td>\n",
       "      <td>136535</td>\n",
       "      <td>977</td>\n",
       "    </tr>\n",
       "    <tr>\n",
       "      <th>4</th>\n",
       "      <td>2019-04-03</td>\n",
       "      <td>A</td>\n",
       "      <td>23</td>\n",
       "      <td>20</td>\n",
       "      <td>199868</td>\n",
       "      <td>2269</td>\n",
       "    </tr>\n",
       "  </tbody>\n",
       "</table>\n",
       "</div>"
      ],
      "text/plain": [
       "        date group  orders  buyers  revenue  visitors\n",
       "0 2019-04-01     A       6       6   128276       455\n",
       "1 2019-04-01     B       3       3     4082       464\n",
       "2 2019-04-02     A      12      12   157683       956\n",
       "3 2019-04-02     B       7       6   136535       977\n",
       "4 2019-04-03     A      23      20   199868      2269"
      ]
     },
     "execution_count": 14,
     "metadata": {},
     "output_type": "execute_result"
    }
   ],
   "source": [
    "# создаем массив уникальных пар значений дат и групп теста\n",
    "datesGroups = orders[['date','group']].drop_duplicates()\n",
    "\n",
    "# получаем агрегированные кумулятивные по дням данные о заказах \n",
    "ordersAggregated = datesGroups.apply(lambda x: orders[np.logical_and(orders['date'] <= x['date'], orders['group'] == x['group'])].agg({'date' : 'max', 'group' : 'max', 'orderId' : 'nunique', 'userId' : 'nunique', 'revenue' : 'sum'}), axis=1).sort_values(by=['date','group'])\n",
    "\n",
    "# получаем агрегированные кумулятивные по дням данные о посетителях интернет-магазина \n",
    "visitorsAggregated = datesGroups.apply(lambda x: visitors[np.logical_and(visitors['date'] <= x['date'], visitors['group'] == x['group'])].agg({'date' : 'max', 'group' : 'max', 'visitors' : 'sum'}), axis=1).sort_values(by=['date','group'])\n",
    "\n",
    "# объединяем кумулятивные данные в одной таблице и присваиваем ее столбцам понятные названия\n",
    "cumulativeData = ordersAggregated.merge(visitorsAggregated, left_on=['date', 'group'], right_on=['date', 'group'])\n",
    "cumulativeData.columns = ['date', 'group', 'orders', 'buyers', 'revenue', 'visitors']\n",
    "cumulativeData.head()"
   ]
  },
  {
   "cell_type": "markdown",
   "metadata": {},
   "source": [
    "Далее расчитываем дополнительно все нужные метрики"
   ]
  },
  {
   "cell_type": "code",
   "execution_count": 27,
   "metadata": {},
   "outputs": [],
   "source": [
    "cumulativeData['aov'] = (cumulativeData['revenue'] / cumulativeData['orders'])\n",
    "cumulativeData['C1'] = (cumulativeData['buyers'] / cumulativeData['visitors'])"
   ]
  },
  {
   "cell_type": "markdown",
   "metadata": {},
   "source": [
    "Теперь нужно постриоть графики графики каждой метрики на одном графике для обоих групп  \n",
    "и сравнить изменение во времени метрики между группами."
   ]
  },
  {
   "cell_type": "markdown",
   "metadata": {},
   "source": [
    "Очень важно строить не только, например, 2 линии на одном графике для каждой группы и сравнивать их.  \n",
    "Также нужно постриоть отношение метрики группы Б к метрике группы А.  \n",
    "На таком графике хорошо видно, где одна опережала другую."
   ]
  },
  {
   "cell_type": "code",
   "execution_count": 28,
   "metadata": {},
   "outputs": [
    {
     "data": {
      "text/html": [
       "<div>\n",
       "<style scoped>\n",
       "    .dataframe tbody tr th:only-of-type {\n",
       "        vertical-align: middle;\n",
       "    }\n",
       "\n",
       "    .dataframe tbody tr th {\n",
       "        vertical-align: top;\n",
       "    }\n",
       "\n",
       "    .dataframe thead tr th {\n",
       "        text-align: left;\n",
       "    }\n",
       "</style>\n",
       "<table border=\"1\" class=\"dataframe\">\n",
       "  <thead>\n",
       "    <tr>\n",
       "      <th></th>\n",
       "      <th>date</th>\n",
       "      <th colspan=\"2\" halign=\"left\">orders</th>\n",
       "      <th colspan=\"2\" halign=\"left\">buyers</th>\n",
       "      <th colspan=\"2\" halign=\"left\">revenue</th>\n",
       "      <th colspan=\"2\" halign=\"left\">visitors</th>\n",
       "      <th colspan=\"2\" halign=\"left\">aov</th>\n",
       "      <th colspan=\"2\" halign=\"left\">C1</th>\n",
       "    </tr>\n",
       "    <tr>\n",
       "      <th>group</th>\n",
       "      <th></th>\n",
       "      <th>A</th>\n",
       "      <th>B</th>\n",
       "      <th>A</th>\n",
       "      <th>B</th>\n",
       "      <th>A</th>\n",
       "      <th>B</th>\n",
       "      <th>A</th>\n",
       "      <th>B</th>\n",
       "      <th>A</th>\n",
       "      <th>B</th>\n",
       "      <th>A</th>\n",
       "      <th>B</th>\n",
       "    </tr>\n",
       "  </thead>\n",
       "  <tbody>\n",
       "    <tr>\n",
       "      <th>0</th>\n",
       "      <td>2019-04-01</td>\n",
       "      <td>6</td>\n",
       "      <td>3</td>\n",
       "      <td>6</td>\n",
       "      <td>3</td>\n",
       "      <td>128276</td>\n",
       "      <td>4082</td>\n",
       "      <td>455</td>\n",
       "      <td>464</td>\n",
       "      <td>21379.333333</td>\n",
       "      <td>1360.666667</td>\n",
       "      <td>0.013187</td>\n",
       "      <td>0.006466</td>\n",
       "    </tr>\n",
       "    <tr>\n",
       "      <th>1</th>\n",
       "      <td>2019-04-02</td>\n",
       "      <td>12</td>\n",
       "      <td>7</td>\n",
       "      <td>12</td>\n",
       "      <td>6</td>\n",
       "      <td>157683</td>\n",
       "      <td>136535</td>\n",
       "      <td>956</td>\n",
       "      <td>977</td>\n",
       "      <td>13140.250000</td>\n",
       "      <td>19505.000000</td>\n",
       "      <td>0.012552</td>\n",
       "      <td>0.006141</td>\n",
       "    </tr>\n",
       "    <tr>\n",
       "      <th>2</th>\n",
       "      <td>2019-04-03</td>\n",
       "      <td>23</td>\n",
       "      <td>21</td>\n",
       "      <td>20</td>\n",
       "      <td>19</td>\n",
       "      <td>199868</td>\n",
       "      <td>184062</td>\n",
       "      <td>2269</td>\n",
       "      <td>2290</td>\n",
       "      <td>8689.913043</td>\n",
       "      <td>8764.857143</td>\n",
       "      <td>0.008814</td>\n",
       "      <td>0.008297</td>\n",
       "    </tr>\n",
       "    <tr>\n",
       "      <th>3</th>\n",
       "      <td>2019-04-04</td>\n",
       "      <td>29</td>\n",
       "      <td>26</td>\n",
       "      <td>26</td>\n",
       "      <td>24</td>\n",
       "      <td>238929</td>\n",
       "      <td>213534</td>\n",
       "      <td>2824</td>\n",
       "      <td>2868</td>\n",
       "      <td>8238.931034</td>\n",
       "      <td>8212.846154</td>\n",
       "      <td>0.009207</td>\n",
       "      <td>0.008368</td>\n",
       "    </tr>\n",
       "    <tr>\n",
       "      <th>4</th>\n",
       "      <td>2019-04-05</td>\n",
       "      <td>34</td>\n",
       "      <td>32</td>\n",
       "      <td>30</td>\n",
       "      <td>28</td>\n",
       "      <td>255336</td>\n",
       "      <td>233694</td>\n",
       "      <td>3388</td>\n",
       "      <td>3445</td>\n",
       "      <td>7509.882353</td>\n",
       "      <td>7302.937500</td>\n",
       "      <td>0.008855</td>\n",
       "      <td>0.008128</td>\n",
       "    </tr>\n",
       "  </tbody>\n",
       "</table>\n",
       "</div>"
      ],
      "text/plain": [
       "            date orders     buyers     revenue         visitors        \\\n",
       "group                 A   B      A   B       A       B        A     B   \n",
       "0     2019-04-01      6   3      6   3  128276    4082      455   464   \n",
       "1     2019-04-02     12   7     12   6  157683  136535      956   977   \n",
       "2     2019-04-03     23  21     20  19  199868  184062     2269  2290   \n",
       "3     2019-04-04     29  26     26  24  238929  213534     2824  2868   \n",
       "4     2019-04-05     34  32     30  28  255336  233694     3388  3445   \n",
       "\n",
       "                aov                      C1            \n",
       "group             A             B         A         B  \n",
       "0      21379.333333   1360.666667  0.013187  0.006466  \n",
       "1      13140.250000  19505.000000  0.012552  0.006141  \n",
       "2       8689.913043   8764.857143  0.008814  0.008297  \n",
       "3       8238.931034   8212.846154  0.009207  0.008368  \n",
       "4       7509.882353   7302.937500  0.008855  0.008128  "
      ]
     },
     "execution_count": 28,
     "metadata": {},
     "output_type": "execute_result"
    }
   ],
   "source": [
    "unstackedcumulativeData = cumulativeData.set_index(['date', 'group']).unstack().reset_index()\n",
    "unstackedcumulativeData.head(5)"
   ]
  },
  {
   "cell_type": "code",
   "execution_count": 34,
   "metadata": {},
   "outputs": [
    {
     "data": {
      "text/html": [
       "<div>\n",
       "<style scoped>\n",
       "    .dataframe tbody tr th:only-of-type {\n",
       "        vertical-align: middle;\n",
       "    }\n",
       "\n",
       "    .dataframe tbody tr th {\n",
       "        vertical-align: top;\n",
       "    }\n",
       "\n",
       "    .dataframe thead tr th {\n",
       "        text-align: left;\n",
       "    }\n",
       "</style>\n",
       "<table border=\"1\" class=\"dataframe\">\n",
       "  <thead>\n",
       "    <tr>\n",
       "      <th></th>\n",
       "      <th>date</th>\n",
       "      <th colspan=\"2\" halign=\"left\">orders</th>\n",
       "      <th colspan=\"2\" halign=\"left\">buyers</th>\n",
       "      <th colspan=\"2\" halign=\"left\">revenue</th>\n",
       "      <th colspan=\"2\" halign=\"left\">visitors</th>\n",
       "      <th colspan=\"2\" halign=\"left\">aov</th>\n",
       "      <th colspan=\"2\" halign=\"left\">C1</th>\n",
       "      <th>aov_group_ratio</th>\n",
       "      <th>C1_group_ratio</th>\n",
       "    </tr>\n",
       "    <tr>\n",
       "      <th>group</th>\n",
       "      <th></th>\n",
       "      <th>A</th>\n",
       "      <th>B</th>\n",
       "      <th>A</th>\n",
       "      <th>B</th>\n",
       "      <th>A</th>\n",
       "      <th>B</th>\n",
       "      <th>A</th>\n",
       "      <th>B</th>\n",
       "      <th>A</th>\n",
       "      <th>B</th>\n",
       "      <th>A</th>\n",
       "      <th>B</th>\n",
       "      <th></th>\n",
       "      <th></th>\n",
       "    </tr>\n",
       "  </thead>\n",
       "  <tbody>\n",
       "    <tr>\n",
       "      <th>0</th>\n",
       "      <td>2019-04-01</td>\n",
       "      <td>6</td>\n",
       "      <td>3</td>\n",
       "      <td>6</td>\n",
       "      <td>3</td>\n",
       "      <td>128276</td>\n",
       "      <td>4082</td>\n",
       "      <td>455</td>\n",
       "      <td>464</td>\n",
       "      <td>21379.333333</td>\n",
       "      <td>1360.666667</td>\n",
       "      <td>0.013187</td>\n",
       "      <td>0.006466</td>\n",
       "      <td>-0.94</td>\n",
       "      <td>-0.51</td>\n",
       "    </tr>\n",
       "    <tr>\n",
       "      <th>1</th>\n",
       "      <td>2019-04-02</td>\n",
       "      <td>12</td>\n",
       "      <td>7</td>\n",
       "      <td>12</td>\n",
       "      <td>6</td>\n",
       "      <td>157683</td>\n",
       "      <td>136535</td>\n",
       "      <td>956</td>\n",
       "      <td>977</td>\n",
       "      <td>13140.250000</td>\n",
       "      <td>19505.000000</td>\n",
       "      <td>0.012552</td>\n",
       "      <td>0.006141</td>\n",
       "      <td>0.48</td>\n",
       "      <td>-0.51</td>\n",
       "    </tr>\n",
       "    <tr>\n",
       "      <th>2</th>\n",
       "      <td>2019-04-03</td>\n",
       "      <td>23</td>\n",
       "      <td>21</td>\n",
       "      <td>20</td>\n",
       "      <td>19</td>\n",
       "      <td>199868</td>\n",
       "      <td>184062</td>\n",
       "      <td>2269</td>\n",
       "      <td>2290</td>\n",
       "      <td>8689.913043</td>\n",
       "      <td>8764.857143</td>\n",
       "      <td>0.008814</td>\n",
       "      <td>0.008297</td>\n",
       "      <td>0.01</td>\n",
       "      <td>-0.06</td>\n",
       "    </tr>\n",
       "    <tr>\n",
       "      <th>3</th>\n",
       "      <td>2019-04-04</td>\n",
       "      <td>29</td>\n",
       "      <td>26</td>\n",
       "      <td>26</td>\n",
       "      <td>24</td>\n",
       "      <td>238929</td>\n",
       "      <td>213534</td>\n",
       "      <td>2824</td>\n",
       "      <td>2868</td>\n",
       "      <td>8238.931034</td>\n",
       "      <td>8212.846154</td>\n",
       "      <td>0.009207</td>\n",
       "      <td>0.008368</td>\n",
       "      <td>-0.00</td>\n",
       "      <td>-0.09</td>\n",
       "    </tr>\n",
       "    <tr>\n",
       "      <th>4</th>\n",
       "      <td>2019-04-05</td>\n",
       "      <td>34</td>\n",
       "      <td>32</td>\n",
       "      <td>30</td>\n",
       "      <td>28</td>\n",
       "      <td>255336</td>\n",
       "      <td>233694</td>\n",
       "      <td>3388</td>\n",
       "      <td>3445</td>\n",
       "      <td>7509.882353</td>\n",
       "      <td>7302.937500</td>\n",
       "      <td>0.008855</td>\n",
       "      <td>0.008128</td>\n",
       "      <td>-0.03</td>\n",
       "      <td>-0.08</td>\n",
       "    </tr>\n",
       "  </tbody>\n",
       "</table>\n",
       "</div>"
      ],
      "text/plain": [
       "            date orders     buyers     revenue         visitors        \\\n",
       "group                 A   B      A   B       A       B        A     B   \n",
       "0     2019-04-01      6   3      6   3  128276    4082      455   464   \n",
       "1     2019-04-02     12   7     12   6  157683  136535      956   977   \n",
       "2     2019-04-03     23  21     20  19  199868  184062     2269  2290   \n",
       "3     2019-04-04     29  26     26  24  238929  213534     2824  2868   \n",
       "4     2019-04-05     34  32     30  28  255336  233694     3388  3445   \n",
       "\n",
       "                aov                      C1           aov_group_ratio  \\\n",
       "group             A             B         A         B                   \n",
       "0      21379.333333   1360.666667  0.013187  0.006466           -0.94   \n",
       "1      13140.250000  19505.000000  0.012552  0.006141            0.48   \n",
       "2       8689.913043   8764.857143  0.008814  0.008297            0.01   \n",
       "3       8238.931034   8212.846154  0.009207  0.008368           -0.00   \n",
       "4       7509.882353   7302.937500  0.008855  0.008128           -0.03   \n",
       "\n",
       "      C1_group_ratio  \n",
       "group                 \n",
       "0              -0.51  \n",
       "1              -0.51  \n",
       "2              -0.06  \n",
       "3              -0.09  \n",
       "4              -0.08  "
      ]
     },
     "execution_count": 34,
     "metadata": {},
     "output_type": "execute_result"
    }
   ],
   "source": [
    "unstackedcumulativeData['aov_group_ratio'] = (unstackedcumulativeData.aov.B / unstackedcumulativeData.aov.A - 1).round(2)\n",
    "unstackedcumulativeData['C1_group_ratio'] = (unstackedcumulativeData.C1.B / unstackedcumulativeData.C1.A - 1).round(2)\n",
    "unstackedcumulativeData.head(5)"
   ]
  },
  {
   "cell_type": "code",
   "execution_count": 22,
   "metadata": {},
   "outputs": [],
   "source": [
    "import plotly.express as px"
   ]
  },
  {
   "cell_type": "code",
   "execution_count": null,
   "metadata": {},
   "outputs": [],
   "source": [
    "fig = px.line(unstackedcumulativeData, x='date', y='C1_group_ratio')\n",
    "fig.add_shape(\n",
    "    type='line',\n",
    "    x0=unstackedcumulativeData['date'].min(),\n",
    "    x1=unstackedcumulativeData['date'].max(),\n",
    "    y0=0,\n",
    "    y1=0,\n",
    "    line=dict(color='grey', width=2) \n",
    ")"
   ]
  },
  {
   "cell_type": "code",
   "execution_count": null,
   "metadata": {},
   "outputs": [],
   "source": [
    "config = dict(\n",
    "    df = df_orders_aggregated\n",
    "    , x = 'date'\n",
    "    , y = 'revenue'\n",
    "    , category = 'group'\n",
    "    , height = 450\n",
    "    , width = 1000\n",
    ")\n",
    "fig = pagri_data_tools.line(config, titles_for_axis)\n",
    "fig.update_layout(\n",
    "    xaxis=dict(\n",
    "        dtick='D1',\n",
    "        tickformat=\"%d %b\",  # Формат отображения даты\n",
    "        tickangle=-45,  # Угол наклона меток\n",
    "        tickvals=pd.date_range(start='2019-08-01', periods=11, freq='3D')\n",
    "    )    \n",
    ")"
   ]
  }
 ],
 "metadata": {
  "kernelspec": {
   "display_name": "pagri-projects-W8_aXYna-py3.12",
   "language": "python",
   "name": "python3"
  },
  "language_info": {
   "codemirror_mode": {
    "name": "ipython",
    "version": 3
   },
   "file_extension": ".py",
   "mimetype": "text/x-python",
   "name": "python",
   "nbconvert_exporter": "python",
   "pygments_lexer": "ipython3",
   "version": "3.12.7"
  },
  "orig_nbformat": 4
 },
 "nbformat": 4,
 "nbformat_minor": 2
}
