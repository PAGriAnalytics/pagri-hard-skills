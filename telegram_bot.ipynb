{
 "cells": [
  {
   "cell_type": "markdown",
   "metadata": {},
   "source": [
    "https://github.com/olferuk/Nautical"
   ]
  },
  {
   "cell_type": "markdown",
   "metadata": {},
   "source": [
    "Preparation"
   ]
  },
  {
   "cell_type": "code",
   "execution_count": null,
   "metadata": {},
   "outputs": [],
   "source": [
    "from nautical.bot import TelegramBot\n",
    "from nautical.message import Message\n",
    "\n",
    "bot = TelegramBot(token='<YOUR_TOKEN>', config_path='./config.db')"
   ]
  },
  {
   "cell_type": "markdown",
   "metadata": {},
   "source": [
    "Create a bot like was shown in the snippet above. Your token can be acquired from the @bot_father in Telegram.  \n",
    "Bot is running and ready to listen to your commands! Let's check:"
   ]
  },
  {
   "cell_type": "markdown",
   "metadata": {},
   "source": [
    "Обращаемся к @botfather\n",
    "- Нажимаем по Start или пишем ему команду /start\n",
    "- /newbot\n",
    "- Вводим имя. Может быть любым текстом с любыми символами (это не то имя, которое будет в урле, это отображаемое имя, когда открывается чат)\n",
    "- Вводим никнейм. Это то, как найти бота, попадает в url, поэтому\n",
    "только символы латинского алфавита и знак _"
   ]
  },
  {
   "cell_type": "markdown",
   "metadata": {},
   "source": [
    "Получаем chat_id  \n",
    "Это идентификатор чата, где будем общаться с ботом  "
   ]
  },
  {
   "cell_type": "markdown",
   "metadata": {},
   "source": [
    "Заходим сюда:  \n",
    "https://api.telegram.org/bot<здесь токен от BotFather>/getUpdates  \n",
    "и подрезаем здесь chat id нашего приватного диалога."
   ]
  },
  {
   "cell_type": "markdown",
   "metadata": {},
   "source": [
    "Если видим такой результат: `{“ok”:true,\"result\":[]}`, то  \n",
    "выполняем еще и следующие шаги:  \n",
    "- Создаем группу с собой и женой, например.\n",
    "- Добавляем бота. Важно, чтобы он не был добавлен сразу при\n",
    "создании, а лишь добавлен уже после.\n",
    "- Пишем что-нибудь.\n",
    "- Переходим по той же ссылке, копируем оттуда chat id.\n",
    "- Кикаем всех из беседы. Да, даже жену."
   ]
  },
  {
   "cell_type": "markdown",
   "metadata": {},
   "source": [
    "Библиотек масса, для отправки простых пушей нам подойдет Notifiers:  \n",
    "pip install notifiers  \n",
    "После чего напишем функцию для отправки сообщений send  "
   ]
  },
  {
   "cell_type": "code",
   "execution_count": null,
   "metadata": {},
   "outputs": [],
   "source": [
    "!pip install notifiers"
   ]
  },
  {
   "cell_type": "code",
   "execution_count": 5,
   "metadata": {},
   "outputs": [],
   "source": [
    "from notifiers import get_notifier\n",
    "\n",
    "def make_telegram_notifier(\n",
    "    token = ''\n",
    "    , chat_id = ''):\n",
    "    def wrapper(message):\n",
    "        telegram = get_notifier('telegram')\n",
    "        telegram.notify(message=message\n",
    "                        , token=token\n",
    "                        , chat_id=chat_id)\n",
    "    return wrapper\n"
   ]
  },
  {
   "cell_type": "code",
   "execution_count": 6,
   "metadata": {},
   "outputs": [],
   "source": [
    "send_telegram = make_telegram_notifier()\n",
    "send_telegram('This is test message!')"
   ]
  },
  {
   "cell_type": "markdown",
   "metadata": {},
   "source": [
    "notifiers шлет только текстовые сообщения  \n",
    "Если нужно слать картинки"
   ]
  },
  {
   "cell_type": "code",
   "execution_count": null,
   "metadata": {},
   "outputs": [],
   "source": [
    "!pip install telepot validators"
   ]
  },
  {
   "cell_type": "code",
   "execution_count": 16,
   "metadata": {},
   "outputs": [],
   "source": [
    "import telepot\n",
    "from validators import url as is_url\n",
    "\n",
    "def make_telepot(\n",
    "    token = ''\n",
    "    , chat_id = ''):\n",
    "    bot = telepot.Bot(token)\n",
    "    def wrapper(message=\"\", image=None):\n",
    "        if image is None:\n",
    "            bot.sendMessage(chat_id, message)\n",
    "            return\n",
    "        if not is_url(image):\n",
    "            with open(image, 'rb') as image:\n",
    "                bot.sendPhoto(chat_id, image, caption=message)\n",
    "                return\n",
    "        bot.sendPhoto(chat_id, image, caption=message)\n",
    "    return wrapper"
   ]
  },
  {
   "cell_type": "code",
   "execution_count": 17,
   "metadata": {},
   "outputs": [],
   "source": [
    "send_telegram = make_telepot()\n",
    "send_telegram('test picture', 'test.png')"
   ]
  },
  {
   "cell_type": "code",
   "execution_count": 18,
   "metadata": {},
   "outputs": [],
   "source": [
    "send_telegram = make_telepot()\n",
    "send_telegram('test picture', 'https://avatars.mds.yandex.net/i?id=a8ffc42530d11d373e07ff512a9e4a966448e3dc-5179924-images-thumbs&n=13')"
   ]
  },
  {
   "cell_type": "markdown",
   "metadata": {},
   "source": [
    "Пример нотификатора о работе какой-то функции "
   ]
  },
  {
   "cell_type": "code",
   "execution_count": 41,
   "metadata": {},
   "outputs": [],
   "source": [
    "import telepot\n",
    "from validators import url as is_url\n",
    "import time\n",
    "from datetime import datetime\n",
    "\n",
    "\n",
    "def telegram_timer(\n",
    "    f # функция, которую мы декорируем\n",
    "    , token = 'your_token'\n",
    "    , chat_id = 'your_chart_id'):\n",
    "    bot = telepot.Bot(token)\n",
    "    def wrapper(*args, **kwargs):\n",
    "        t_start = datetime.now()\n",
    "        t_start_str = datetime.strftime(t_start, '%Y-%m-%d %H:%M:%S.%f')[:-3]\n",
    "        res = f(*args, **kwargs)\n",
    "        t_finish = datetime.now()\n",
    "        t_finish_str = datetime.strftime(t_finish, '%Y-%m-%d %H:%M:%S.%f')[:-3]\n",
    "        duration = str(t_finish - t_start)[:-3]\n",
    "        message = f\"Начал работать {t_start_str}\\nЗакончил работать {t_finish_str}\\nВремя выполения: {duration}\"\n",
    "        bot.sendMessage(chat_id, message)\n",
    "        return res\n",
    "    return wrapper"
   ]
  },
  {
   "cell_type": "code",
   "execution_count": 42,
   "metadata": {},
   "outputs": [],
   "source": [
    "my_func = telegram_timer(time.sleep)\n",
    "my_func(3)"
   ]
  }
 ],
 "metadata": {
  "kernelspec": {
   "display_name": "Python 3.7.1 64-bit",
   "language": "python",
   "name": "python3"
  },
  "language_info": {
   "codemirror_mode": {
    "name": "ipython",
    "version": 3
   },
   "file_extension": ".py",
   "mimetype": "text/x-python",
   "name": "python",
   "nbconvert_exporter": "python",
   "pygments_lexer": "ipython3",
   "version": "3.7.1"
  },
  "orig_nbformat": 4,
  "vscode": {
   "interpreter": {
    "hash": "fbe58ca63fe33f9eeae9e71d10368d2b4a57f2b1b395836210cc60d362c66949"
   }
  }
 },
 "nbformat": 4,
 "nbformat_minor": 2
}
