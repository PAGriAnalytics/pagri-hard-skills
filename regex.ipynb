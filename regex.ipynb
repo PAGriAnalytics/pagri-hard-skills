{
 "cells": [
  {
   "cell_type": "markdown",
   "metadata": {},
   "source": [
    "Регулярные выражения – грамматика поиска подстрок в строках.  \n",
    "Другими словами, это набор правил, описывающий искомую строку в  \n",
    "тексте.   "
   ]
  },
  {
   "cell_type": "markdown",
   "metadata": {},
   "source": [
    "Удобно подбирать регулярные выражения в оналйн песочницах, так как там есть подсветка слов  \n",
    "https://regex101.com/"
   ]
  },
  {
   "cell_type": "markdown",
   "metadata": {},
   "source": [
    "regex кроссворды  \n",
    "https://regexcrossword.com/  \n"
   ]
  },
  {
   "cell_type": "markdown",
   "metadata": {},
   "source": [
    "\n",
    "Среди стандартных модулей python существует библиотека для работы [с регулярными выражениями re](https://docs.python.org/3/library/re.html) (подробнее [тут](https://tproger.ru/translations/regular-expression-python/))\n",
    "\n",
    "Простешая задача для регулярных выражений - разделение текста на отдельные слова."
   ]
  },
  {
   "cell_type": "code",
   "execution_count": 1,
   "metadata": {},
   "outputs": [],
   "source": [
    "import re\n",
    "import pandas as pd"
   ]
  },
  {
   "cell_type": "markdown",
   "metadata": {},
   "source": [
    "Методы модуля `re`  \n",
    "\n",
    "`объект match` содержит полностью найденный шаблон и все группы и имеет много полезных методов  \n",
    "`re.search` - находит первое вхождение шаблона и возвращает для него объект match  \n",
    "`re.finditer` - работает как `re.search`, но содержит все найденные вхождения шаблона (если итерировать, то вернет все `match`)  \n",
    "`re.findall` - возвращет список со всеми вхождениями шаблона, если указать группировку, то вернет только группы,    \n",
    "`re.sub` - заменяет найденную подстроку в строке на заменитель (заменителем может быть функция, которая возвращает заменитель) и возвращает всю строку   \n",
    "c помощью `re.sub` можно обрамлять любые элементы по бокам, напримем можем из строки 'слово дом в скобках' сделать строку 'слово (дом) в скобках'  \n",
    "`re.subn` -  вернет кортеж (строка с заменой, количество замен)  \n",
    "`re.split` - разбивает строку на подстроки, разделителем является то, что подходит под паттерн  \n",
    "`re.match` - проверяет совпадение патерна с начала строки (то есть, если первый символ не подходит, то стоп)  \n",
    "`re.compile` - компилирует регулярное выражение (если указаны флаги, то применяет их) и возращает объект класса Pattern   \n",
    "далее мы можем вызывать все методы выше используя аналогичные методы объекта Pattern, при этом шаблон указывать уже не нужно"
   ]
  },
  {
   "cell_type": "code",
   "execution_count": 1,
   "metadata": {},
   "outputs": [
    {
     "name": "stdout",
     "output_type": "stream",
     "text": [
      "компилированное регулярное вырадение  <class 're.Pattern'> \n",
      "\n",
      "\n",
      "['Леди', 'удача', 'авантюрная', 'романтическая', 'комедия', 'снятая', 'в', 'двадцатые', 'годы', 'ХХ', 'века', 'на', 'заре', 'звукового', 'кинематографа', 'Главную', 'роль', 'исполнила', 'обаятельная', 'Норма', 'Ширер', 'пятикратный', 'номинант', 'и', 'лауреат', 'премии', 'Оскар', 'за', 'фильм', 'Развод', 'Сюжет', 'и', 'посыл', 'картины', 'несмотря', 'на', 'ее', 'почтенный', 'возраст', 'нисколько', 'не', 'устарели', 'В', 'мелодраме', 'которую', 'вы', 'можете', 'посмотреть', 'онлайн', 'представлена', 'забавная', 'история', 'авантюристки', 'по', 'прозвищу', 'Ангельское', 'Личико', 'С', 'равным', 'успехом', 'показанные', 'события', 'могли', 'произойти', 'и', 'в', 'наше', 'время', 'как', 'вы', 'сами', 'можете', 'убедиться', 'люди', 'за', 'несколько', 'десятилетий', 'мало', 'изменились', 'в', 'глобальных', 'вещах', 'Прелестная', 'девушка', 'Долли', 'опасная', 'авантюристка', 'со', 'стажем', 'Она', 'зарабатывает', 'на', 'жизнь', 'шантажом', 'по', 'простой', 'и', 'многократно', 'отработанной', 'схеме', 'Долли', 'знакомится', 'с', 'богатым', 'мужчиной', 'приглашает', 'его', 'к', 'себе', 'на', 'квартиру', 'а', 'затем', 'начинает', 'требовать', 'деньги', 'за', 'соблюдение', 'молчания', 'В', 'результате', 'полицейских', 'происков', 'девушка', 'оказывается', 'под', 'арестом', 'однако', 'избегает', 'строгого', 'наказания', 'Выйдя', 'на', 'свободу', 'она', 'снимает', 'номер', 'в', 'отеле', 'где', 'знакомится', 'с', 'новой', 'жертвой', 'молодым', 'человеком', 'по', 'имени', 'Стив', 'Стив', 'утверждает', 'что', 'он', 'изобретатель', 'миллионер', 'однако', 'несколько', 'искажает', 'факты', 'На', 'самом', 'деле', 'герой', 'просто', 'ученый', 'создавший', 'вещь', 'способную', 'принести', 'миллионы']\n"
     ]
    }
   ],
   "source": [
    "text_df = pd.read_csv(\"content_description.csv\", sep='\\t')\n",
    "text_df.head()\n",
    "\n",
    "# строка для примера\n",
    "test_string = text_df.description.values[4]\n",
    "# шаблон регулярного выражения\n",
    "reg_expr = r'\\w+'\n",
    "# компилируем регулярное выражение\n",
    "reg_expr_compiled = re.compile(reg_expr)\n",
    "print(\"компилированное регулярное вырадение \", type(reg_expr_compiled), '\\n\\n')\n",
    "# применяем метод findall для поиска всех совпадений с шаблоном регулярного выражения в тексте \n",
    "res = reg_expr_compiled.findall(test_string) \n",
    "# результат\n",
    "print (res)"
   ]
  },
  {
   "cell_type": "markdown",
   "metadata": {},
   "source": [
    "В этом примере можно увидеть базовые приёмы применения библиотеки регулярных выражений в python\n",
    "\n",
    "* регулярное выражение - строка в кавычках (перед кавычками вспомогательный символ `r`)\n",
    "* строку перед использованием нужно скомпилировать в специальный объеrn [Regular expression object](https://docs.python.org/3/library/re.html#regular-expression-objects)\n",
    "* В шаблонах можно использовать `спецсимволы`\n",
    "\n",
    "Когда нужно символ взять только 1, например 1 пробел, то не нужно ставить квантификатор  \n",
    "`\\w\\s\\d` - найдет все подстроки где сначала одна буква (или цифра и _), потом один пробел и потом одна цифра\n",
    "\n",
    "Для кириллицы не забываем дописывать ё [А-Яа-яЁё], так как ё не входит в набор\n",
    "\n",
    "Чтобы указать поиск пробела, то ставим сам пробел  \n",
    "Анологично таб и символ переноса строки  \n",
    "`\\s` это группа пробел, таб и перенос строки\n",
    "\n",
    "Примеры спецсимволов:\n",
    "\n",
    "* `.` Любой символ, кроме `\\n`  \n",
    "**Очень важный момента с переносом строк**  \n",
    "Если нам нужно найти фрагмент, в котором есть переносы строк, то  \n",
    "шаблон `.*` ничего не найдет, так как перенос строки не входит в `.`  \n",
    "В этом случае нужно использовать `\\w\\W`  \n",
    "* `\\w`  Любая буква (то, что может быть частью слова), а также цифры от 0 до 9 и _  \n",
    "Эквивалентно `[A-Za-z0-9_]`\n",
    "В модуле `re` по умолчанию `\\w` учитывает и русские буквы  \n",
    "`flags = re.ASCII` - устновит набор символов для `\\w` такой [a-zA-Z0-0_]  \n",
    "*  `\\W`  Всё, что не входит в `\\w` \n",
    "*  `\\d`  Любая цифра \n",
    "*  `\\D`  Всё, что не входит в `\\d` \n",
    "* `\\b` граница слова (начало слова или конец слова)  \n",
    "(внутри символьных классов `[]` воспринимается как `backspace`)\n",
    "* `\\B` не граница слова\n",
    "* `\\A` начало текста\n",
    "* `\\Z` конец текста\n",
    "* `[…]`  Символьный класс - любой из перечисленных символов   \n",
    "если нам нужно только один символ из списка, то не нужно ставить квантификатор  \n",
    "`[a-z]` любая  буква от a до z    \n",
    "`[^a-z]` все что угодно, но не буква от a до z   \n",
    "`[0-9]` любая цифра, эквивалентно `\\d`   \n",
    "`[123]` символ 1, 2 или 3, не 123  \n",
    "`[A-Za-z0-9_]` эквивалентно `\\w`  \n",
    "`[a-z^]` любая  буква от a до z или начало строки  \n",
    "`[0-9$]` любая цифра или конец строки \n",
    "`[0-9]` любая цифра, эквивалентно `\\d`     \n",
    "* ` \\ ` экранирует спецсимвол, например `\\.` точка будет восприниматься как точка  \n",
    "также используется как индекс для обращения к элементу группы\n",
    "* ` | ` аналог ИЛИ. Требует скобок, когда хотим или для части запроса `(http|www)`  \n",
    "также можно так `\"abc\\s=\\sabc|cba\\s=\\scba\"` в данном случае будет или один целый патерн или другой целый  \n",
    "* `\\n` и `\\t` не являются спецсимволами, они воспринимаются как символ переноса строки и табуляции\n",
    "\n",
    "Кроме спецсимволов можно использовать т.н. квантификаторы - указатели количества\n",
    "\n",
    "* `+` - одно или более вхождений\n",
    "* `*` ноль или больше вхождений\n",
    "* `?` ноль или одно вхождение (может быть символ, а может не быть)\n",
    "* `{m,n}` от m до n вхождений\n",
    "* `{n}` ровно `n` вхождений\n",
    "* `{n,}` от `n` раз, то есть `n` и более раз\n",
    "* `{,n}` не более `n` раз\n",
    "* `\\s` пробельный символ - например, табуляция, перенос строки, любые из `\\n\\t\\r\\f\\v`\n",
    "* `\\S` любой не пробельный символ\n",
    "* `^` начало вхождения\n",
    "* `$` конец вхождения  \n",
    "`^$` означает, что в строке должоно быть только то, что мы указали как шаблон,  \n",
    "мы не берем строки, в которых наш паттерн является подстрокой  \n",
    "* `()` - группирующие скобки. Позволяет искать подстроки  \n",
    "`(?:pattern)` - означает, что группирующая скобка является не сохраняющей    \n",
    "Если мы хотим сохранить оба уровня группировки (то есть то что в скобках и весь найденный кусок),   \n",
    "то нужно ещё поставить скобки в начале и конце `((\\w*)\\s=\\s(\\w*))` - это вернет кортеж, в уровнями группировки    \n",
    "То есть когда мы ставим в начале в круглых скобках `?:`, то мы превращаем это в обычный патерн, а не группировку,  \n",
    "и тут важно, что если у нас есть скобки без `?:` и с `?:`, то скобки с `?:` будут как обычный патерн и в результат не попадут  \n",
    "И скобок можно ставить сколько угодно, каждая группа будет элементом кортежа, например  \n",
    "`r'(((выа|ооо)о)о)'` будет давать такой результат  `[('выаоо', 'выао', 'выа'), ('ооооо', 'оооо', 'ооо')]`  \n",
    "Работает по разному для search и findall  \n",
    "Для findall без `?:`он будут искать патерн как и нужно, но вернет, только то, что указано в скобках  \n",
    "Если нужно использовать и группы и найти все, то нужно использовать `re.finditer`  \n",
    "Без скобок шаблон go+ означает символ g и идущий после него символ o,  \n",
    "который повторяется один или более раз. Например, goooo или gooooooooo.  \n",
    "Скобки группируют символы вместе. Так что (go)+ означает go, gogo, gogogo и т.п.    \n",
    "\n",
    "\n",
    "Например, регулярное выражение '(\\w+\\.)+\\w+' найдет любое из перечисленного,   \n",
    "за счет группировки буквы (1 или более раз) и точки, и эта групп может быть 1 или более раз     \n",
    "mail.com  \n",
    "users.mail.com  \n",
    "smith.users.mail.com  \n",
    "\n",
    "Также скобки позволяют обращаться к группе по индексу,  то есть если написать регулярку '([AB])\\s([cde])\\1\\2'  \n",
    "то у нас создались 2 группы в скобках и мы можем обращаться к символу (последовательности символов), которые нашлись  \n",
    "то есть у нас \\1 это будт либо буква A, либо буква B, смотря что попадется  \n",
    "а \\2 это будет c, d или e\n",
    "\n",
    "Имена для групп вместо `\\1`  \n",
    "Если мы добавим ещё где-то группы, то нам придется следить, чтобы индексы были верными,  \n",
    "чтобы этих проблем не было, можно группам давать имена  \n",
    "Когда создаем группу, то пишем  \n",
    "`(?P<name>...)` - мы присвоили этой группе имя `name`  \n",
    "Когда нужно указать индекс (то есть указать, что в каком-то месте должен идти элемент группы), то пишем    \n",
    "`(?P=name)`  \n",
    "Например  \n",
    "создаем группу `(?P<q>123)`  аналог `(123)`  \n",
    "обращаемся к группе `(?P=q)`  аналог `\\1`  \n",
    "\n",
    "Флажки\n",
    "\n",
    "* `/i` ignore case, то есть регистронезависимый  \n",
    "* `/m` multiline, то конструкция `^$` будет считать началом строки первый символ после переноса строки,  \n",
    "а последним символовм символ пере переносом.  \n",
    "А если этот флаг не стоит, то начало строки это начало всего текста в ковычках (не важно есть переносы или нет),  \n",
    "а конец текста это конец всего текста в ковычках.   \n",
    "Поэтому он и называется multiline, так как включает режим 'много строк'\n",
    "* `/g` (global) Он включает поиск всех сопоставлений в строке и не останавливает поиск после первого совпадения.  \n",
    "не в питоне /pattern/img  \n",
    "в питоне  \n",
    "`re.findall(pattern, string, flags=re.I|re.M)`  \n",
    "`re.ASCII` - устновит набор символов для `\\w` такой [a-zA-Z0-0_]  \n",
    "если этот флаг не включаем, то `\\w` будет любой символ слова, в том числе и русские буквы\n",
    "\n",
    "Квантификаторы\n",
    "Располагаются следом за символьным классом, группой или одиночным символом, указывая количество их повторений, например .* обозначает любые символы в любом количестве.\n",
    "\n",
    "По умолчанию квантификаторы являются «жадными», например если произвести поиск всех тегов в HTML-коде <.*>, то все теги будут трактоваться как один, так как после первого совпадения следующие теги будут соответствовать .*. Для решения задачи нужно или уточнить искомый результат <[^>]*>, или сделать квантификатор «ленивым», поставив ? после квантификатора <.*?>.\n",
    "\n",
    "Существует еще один «сверхжадный» режим, его еще называют «ревнивым», он является самым быстродейственным и служит для поиска самого длинного варианта. Данный режим полезен для проверки существования подстроки в строке, а также для исключения из результатов поиска нежелаемых совпадений. Для включения «ревнивого» режима нужно поставить + после квантификатора.\n",
    "\n",
    "Жадный\tЛенивый\tРевнивый  \n",
    "\n",
    "?&nbsp;&nbsp;&nbsp;&nbsp;&nbsp;&nbsp;&nbsp;&nbsp;&nbsp;&nbsp;&nbsp;&nbsp;??&nbsp;&nbsp;&nbsp;&nbsp;&nbsp;&nbsp;&nbsp;&nbsp;&nbsp;&nbsp;&nbsp;&nbsp;?+  \n",
    "\\+&nbsp;&nbsp;&nbsp;&nbsp;&nbsp;&nbsp;&nbsp;&nbsp;&nbsp;&nbsp;&nbsp;&nbsp;+?&nbsp;&nbsp;&nbsp;&nbsp;&nbsp;&nbsp;&nbsp;&nbsp;&nbsp;&nbsp;&nbsp;&nbsp; ++  \n",
    "\\*&nbsp;&nbsp;&nbsp;&nbsp;&nbsp;&nbsp;&nbsp;&nbsp;&nbsp;&nbsp;&nbsp;&nbsp;*? &nbsp;&nbsp;&nbsp;&nbsp;&nbsp;&nbsp;&nbsp;&nbsp;&nbsp;&nbsp;&nbsp;&nbsp; *+  \n",
    "\n",
    "Подмаски  \n",
    "Подмаска дает возможность применять условия типа if и if-else:   \n",
    "В шаблон-условие используется либо индекс группы, либо имя\n",
    "\n",
    "(?(шаблон-условие)шаблон-если-успех);  \n",
    "(?(шаблон-условие)шаблон-если-успех|шаблон-если-провал).  \n",
    "\n",
    "| Формат | Название | Пример | Результат |\n",
    "| - | - | - | - |\n",
    "| (?=...) |\tПросмотр вперёд (проверяются символы впереди на опрежение, и если нашли шаблон, то стоп, шаблон не берем) |\t.*(?=\\\\.com)\t| **example**.com example.org  |\n",
    "| (?!...) |\tПросмотр назад (проверяются символы, которые уже взяли, то есть ретроспективно и шаблон берем) |\t.*(?!\\\\.com)\t| example.com **example**.org  |\n",
    "| (?<=...) |\tПозитивный просмотр назад, аналогично (?=...), но шаблон входит в результат  |\t(?<=example\\\\.).* |\texample.**com** example.**org**  |\n",
    "| (?<!...) |\tНегативный просмотр назад |\t(?<!example\\\\.).* |\texample.com example.org  |\n",
    "\n",
    "Продемонстрируем простейшие примеры применения регулярных выражений."
   ]
  },
  {
   "cell_type": "markdown",
   "metadata": {},
   "source": [
    "Использование группировки и индексов групп  \n",
    "В следующем примере, нам нужно взять то, что в ковычках в значении `src`, но проблема в том,  \n",
    "что если встретится открывающаяся `\"`, а закрывающаяся `'` или наоборот, нам это не подходит  \n",
    "для этого ипользуем индексы групп и первую ковычку добавим в группу"
   ]
  },
  {
   "cell_type": "code",
   "execution_count": 17,
   "metadata": {},
   "outputs": [
    {
     "data": {
      "text/plain": [
       "[(\"'\", 'bg.jpg')]"
      ]
     },
     "execution_count": 17,
     "metadata": {},
     "output_type": "execute_result"
    }
   ],
   "source": [
    "# Хотим выбрать занчение scr\n",
    "s = \"<p> Picture <img src='bg.jpg'> in text\"\n",
    "re.findall(r\"<img\\s+[^>]*src\\s*=\\s*([\\\"'])(.+?)\\1\", s)"
   ]
  },
  {
   "cell_type": "markdown",
   "metadata": {},
   "source": [
    "Если нам нужно взять подстроку до какого-то символа, то удобно так  \n",
    "`r'{^symbol}'` получается мы берем все кроме этого символа, и как только он появится, то будет остановка"
   ]
  },
  {
   "cell_type": "code",
   "execution_count": 18,
   "metadata": {},
   "outputs": [
    {
     "data": {
      "text/plain": [
       "['key1=value1', 'key2=value2', 'key3 = value3', 'key4     =   value4']"
      ]
     },
     "execution_count": 18,
     "metadata": {},
     "output_type": "execute_result"
    }
   ],
   "source": [
    "s = 'key1=value1; key2=value2; key3 = value3;   key4     =   value4'\n",
    "\n",
    "re.findall(r'\\w+\\s*=\\s*[^;]+', s)"
   ]
  },
  {
   "cell_type": "markdown",
   "metadata": {},
   "source": [
    "А если добавить группировку, то мы можем вытищить кортежами нужные нам пары ключ и значение.  \n",
    "Если в паттерне несколько групп, то они помещаются в один общий кортеж, то есть один патерн - один кортеж и каждый элемент кортежа,  \n",
    "это отдельная группа (то что в круглых скобках)"
   ]
  },
  {
   "cell_type": "code",
   "execution_count": 21,
   "metadata": {},
   "outputs": [
    {
     "data": {
      "text/plain": [
       "[('key1', 'value1'),\n",
       " ('key2', 'value2'),\n",
       " ('key3', 'value3'),\n",
       " ('key4', 'value4')]"
      ]
     },
     "execution_count": 21,
     "metadata": {},
     "output_type": "execute_result"
    }
   ],
   "source": [
    "s = 'key1=value1; key2=value2; key3 = value3;   key4     =   value4'\n",
    "\n",
    "re.findall(r'(\\w+)\\s*=\\s*([^;]+)', s)"
   ]
  },
  {
   "cell_type": "markdown",
   "metadata": {},
   "source": [
    "Использование группировок ()"
   ]
  },
  {
   "cell_type": "markdown",
   "metadata": {},
   "source": [
    "Если нужно использовать функционал search,  \n",
    "то есть мы хотим работать с объектом `Match`  \n",
    "Например, мы хотим использовать методы `group`, `groups`, `span`, `groupdict` и другие  \n",
    "то нужно использовать `re.finditer`  \n",
    "если его итерировать, то он будет возвращать `match` объекты для каждого найденного шаблона   "
   ]
  },
  {
   "cell_type": "code",
   "execution_count": 28,
   "metadata": {},
   "outputs": [
    {
     "name": "stdout",
     "output_type": "stream",
     "text": [
      "<re.Match object; span=(10, 16), match='x3453x'>\n",
      "('x',)\n",
      "<re.Match object; span=(45, 51), match='y1323y'>\n",
      "('y',)\n"
     ]
    }
   ],
   "source": [
    "s = 'this is a x3453x string with word and digits y1323y sdfasf z4324z'\n",
    "\n",
    "# мы ищем любое количество цифр, перед которыми стоит или x или y и в конце тоже x или y\n",
    "\n",
    "iter = re.finditer(r'([xy])\\d+\\1', s)\n",
    "for el in iter:\n",
    "    print(el)\n",
    "    print(el.groups())"
   ]
  },
  {
   "cell_type": "code",
   "execution_count": 113,
   "metadata": {},
   "outputs": [
    {
     "data": {
      "text/plain": [
       "['x', 'y']"
      ]
     },
     "execution_count": 113,
     "metadata": {},
     "output_type": "execute_result"
    }
   ],
   "source": [
    "s = 'this is a x3453x string with word and digits y1323y sdfasf z4324z'\n",
    "\n",
    "# мы ищем любое количество цифр, перед которыми стоит или x или y и в конце тоже x или y\n",
    "# находит паттерн, но вернет только то, что в группе\n",
    "\n",
    "re.findall(r'([xy])\\d+\\1', s)"
   ]
  },
  {
   "cell_type": "markdown",
   "metadata": {},
   "source": [
    "`re.sub(pattern, repl, string, count, flags)`   \n",
    "выполняет замену в строке `string`, найденных совпадений строкой, строкой `repl` или результатом работы функции  \n",
    "`count` максимальное число замен, если не указан, то неограниченное число замент (заменит всё)"
   ]
  },
  {
   "cell_type": "code",
   "execution_count": 42,
   "metadata": {},
   "outputs": [
    {
     "name": "stdout",
     "output_type": "stream",
     "text": [
      "<option>Moscow</option>\n",
      "<option>Kazan</option>\n",
      "<option>Tver</option>\n",
      "<option>Samara</option>\n",
      "<option>Ufa</option>\n",
      "\n"
     ]
    }
   ],
   "source": [
    "s = '''Moscow\n",
    "Kazan\n",
    "Tver\n",
    "Samara\n",
    "Ufa\n",
    "'''\n",
    "\n",
    "# заменяет найденную подстроку в строке на заменитель и возвращает всю строку \n",
    "res = re.sub(pattern = r'\\s*(\\w+)\\s*', repl= r'<option>\\1</option>\\n', string=s)\n",
    "print(res)"
   ]
  },
  {
   "cell_type": "markdown",
   "metadata": {},
   "source": [
    "Можно испоьзовать функцию вместо заменителя,  \n",
    "на вход функции будет подаваться найденный элемент, который нужно заменить "
   ]
  },
  {
   "cell_type": "code",
   "execution_count": 58,
   "metadata": {},
   "outputs": [
    {
     "name": "stdout",
     "output_type": "stream",
     "text": [
      "<option value='1'>Moscow</option>\n",
      "<option value='2'>Kazan</option>\n",
      "<option value='3'>Tver</option>\n",
      "<option value='4'>Samara</option>\n",
      "<option value='5'>Ufa</option>\n",
      "\n"
     ]
    }
   ],
   "source": [
    "s = '''Moscow\n",
    "Kazan\n",
    "Tver\n",
    "Samara\n",
    "Ufa\n",
    "'''\n",
    "\n",
    "# заменяет найденную подстроку в строке на заменитель и возвращает всю строку \n",
    "\n",
    "def func():\n",
    "    count = 0\n",
    "    def wrapper(match: re.Match):\n",
    "        nonlocal count\n",
    "        count += 1\n",
    "        return f\"<option value='{count}'>{match.group(1)}</option>\\n\"\n",
    "    return wrapper\n",
    "func = func()    \n",
    "res = re.sub(pattern = r'\\s*(\\w+)\\s*', repl= func, string=s)\n",
    "print(res)"
   ]
  },
  {
   "cell_type": "code",
   "execution_count": 35,
   "metadata": {},
   "outputs": [
    {
     "name": "stdout",
     "output_type": "stream",
     "text": [
      "<re.Match object; span=(10, 14), match='3453'>\n"
     ]
    },
    {
     "data": {
      "text/plain": [
       "'this is a REPLACEMENT string with word and digits 123'"
      ]
     },
     "execution_count": 35,
     "metadata": {},
     "output_type": "execute_result"
    }
   ],
   "source": [
    "s = 'this is a 3453 string with word and digits 123'\n",
    "\n",
    "# заменяет найденную подстроку в строке на заменитель и возвращает всю строку \n",
    "def func(x):\n",
    "    print(x)\n",
    "    return 'REPLACEMENT'\n",
    "re.sub(pattern = r'\\d+', repl= func, string=s, count=1)"
   ]
  },
  {
   "cell_type": "code",
   "execution_count": 41,
   "metadata": {},
   "outputs": [
    {
     "data": {
      "text/plain": [
       "('this is a REPLACEMENT string with word and digits REPLACEMENT', 2)"
      ]
     },
     "execution_count": 41,
     "metadata": {},
     "output_type": "execute_result"
    }
   ],
   "source": [
    "s = 'this is a 3453 string with word and digits 123'\n",
    "\n",
    "# вернет кортеж (строка с заменой, количество замен)\n",
    "\n",
    "re.subn(pattern = r'\\d+', repl= 'REPLACEMENT', string=s)"
   ]
  },
  {
   "cell_type": "markdown",
   "metadata": {},
   "source": [
    "`search` возращает только первое вхождение шаблона в строку  \n",
    "`search` возращает под индексом 0 всё найденное выражение,  \n",
    "и под индексами 1, 2, ... возвращаются сохраненные группы,  \n",
    "елси были группировки"
   ]
  },
  {
   "cell_type": "code",
   "execution_count": 31,
   "metadata": {},
   "outputs": [
    {
     "name": "stdout",
     "output_type": "stream",
     "text": [
      "None\n"
     ]
    }
   ],
   "source": [
    "s = 'this 4435 is a string 345 with 555 word and digits 123' \n",
    "\n",
    "# возвращает объект re.Match, в котором первый найденный элемент и его индексы\n",
    "# чтобы получить индексы или само совпадение используем методы span и group\n",
    "# если не нашел, то вернет None\n",
    "\n",
    "match = re.search(r'(\\d+)[^\\d]*(\\d+)', s)\n",
    "match"
   ]
  },
  {
   "cell_type": "markdown",
   "metadata": {},
   "source": [
    "В индексе 0 всё найденное (как будто у нас скобки без сохранения)"
   ]
  },
  {
   "cell_type": "code",
   "execution_count": 11,
   "metadata": {},
   "outputs": [
    {
     "data": {
      "text/plain": [
       "'4435 is a string 345'"
      ]
     },
     "execution_count": 11,
     "metadata": {},
     "output_type": "execute_result"
    }
   ],
   "source": [
    "match.group(0)"
   ]
  },
  {
   "cell_type": "markdown",
   "metadata": {},
   "source": [
    "В индексах 1 и 2 будут группы"
   ]
  },
  {
   "cell_type": "code",
   "execution_count": 15,
   "metadata": {},
   "outputs": [
    {
     "data": {
      "text/plain": [
       "'4435'"
      ]
     },
     "execution_count": 15,
     "metadata": {},
     "output_type": "execute_result"
    }
   ],
   "source": [
    "match.group(1)"
   ]
  },
  {
   "cell_type": "code",
   "execution_count": 6,
   "metadata": {},
   "outputs": [
    {
     "data": {
      "text/plain": [
       "('4435', '345')"
      ]
     },
     "execution_count": 6,
     "metadata": {},
     "output_type": "execute_result"
    }
   ],
   "source": [
    "match.groups()"
   ]
  },
  {
   "cell_type": "code",
   "execution_count": 18,
   "metadata": {},
   "outputs": [
    {
     "data": {
      "text/plain": [
       "False"
      ]
     },
     "execution_count": 18,
     "metadata": {},
     "output_type": "execute_result"
    }
   ],
   "source": [
    "s = 'this 4435 is a string 345 with 555 word and digits 123' \n",
    "\n",
    "# возвращает объект re.Match, в котором первый найденный элемент и его индексы\n",
    "# чтобы получить индексы или само совпадение используем методы span и group\n",
    "# если не нашел, то вернет None\n",
    "\n",
    "match = re.search(r'(\\d+)[^\\d]*(\\d+)', s)\n",
    "match == None"
   ]
  },
  {
   "cell_type": "code",
   "execution_count": 19,
   "metadata": {},
   "outputs": [
    {
     "data": {
      "text/plain": [
       "(5, 25)"
      ]
     },
     "execution_count": 19,
     "metadata": {},
     "output_type": "execute_result"
    }
   ],
   "source": [
    "match.span()"
   ]
  },
  {
   "cell_type": "code",
   "execution_count": null,
   "metadata": {},
   "outputs": [],
   "source": [
    "# `span` с индексом возвращает начальный и конечный индексы группы встроке"
   ]
  },
  {
   "cell_type": "code",
   "execution_count": 21,
   "metadata": {},
   "outputs": [
    {
     "data": {
      "text/plain": [
       "(5, 9)"
      ]
     },
     "execution_count": 21,
     "metadata": {},
     "output_type": "execute_result"
    }
   ],
   "source": [
    "match.span(1)"
   ]
  },
  {
   "cell_type": "markdown",
   "metadata": {},
   "source": [
    "Пример жадного и ленивого варианта"
   ]
  },
  {
   "cell_type": "code",
   "execution_count": 7,
   "metadata": {},
   "outputs": [
    {
     "data": {
      "text/plain": [
       "['ооооо', 'ооооо', 'оо']"
      ]
     },
     "execution_count": 7,
     "metadata": {},
     "output_type": "execute_result"
    }
   ],
   "source": [
    "s = 'выаоооооыфв ооооооыва оовыа'\n",
    "\n",
    "re.findall(r'о{2,5}', s)"
   ]
  },
  {
   "cell_type": "code",
   "execution_count": 8,
   "metadata": {},
   "outputs": [
    {
     "data": {
      "text/plain": [
       "['оо', 'оо', 'оо', 'оо', 'оо', 'оо']"
      ]
     },
     "execution_count": 8,
     "metadata": {},
     "output_type": "execute_result"
    }
   ],
   "source": [
    "s = 'выаоооооыфв ооооооыва оовыа'\n",
    "\n",
    "re.findall(r'о{2,5}?', s)"
   ]
  },
  {
   "cell_type": "markdown",
   "metadata": {},
   "source": [
    "search и группы"
   ]
  },
  {
   "cell_type": "code",
   "execution_count": 76,
   "metadata": {},
   "outputs": [
    {
     "data": {
      "text/plain": [
       "<re.Match object; span=(5, 14), match='4435-2344'>"
      ]
     },
     "execution_count": 76,
     "metadata": {},
     "output_type": "execute_result"
    }
   ],
   "source": [
    "s = 'this 4435-2344 is a string 345 with word and digits 123-324' \n",
    "\n",
    "\n",
    "match = re.search(r'(\\d+)-(\\d+)', s)\n",
    "match"
   ]
  },
  {
   "cell_type": "code",
   "execution_count": 85,
   "metadata": {},
   "outputs": [
    {
     "data": {
      "text/plain": [
       "'4435'"
      ]
     },
     "execution_count": 85,
     "metadata": {},
     "output_type": "execute_result"
    }
   ],
   "source": [
    "match.group(1)"
   ]
  },
  {
   "cell_type": "code",
   "execution_count": 86,
   "metadata": {},
   "outputs": [
    {
     "data": {
      "text/plain": [
       "('4435', '2344')"
      ]
     },
     "execution_count": 86,
     "metadata": {},
     "output_type": "execute_result"
    }
   ],
   "source": [
    "match.groups()"
   ]
  },
  {
   "cell_type": "markdown",
   "metadata": {},
   "source": [
    "Если мы группам дадим имена, то в `groupdict` будет словарь,  \n",
    "где имена групп ключи, а значения группы"
   ]
  },
  {
   "cell_type": "code",
   "execution_count": 24,
   "metadata": {},
   "outputs": [
    {
     "data": {
      "text/plain": [
       "<re.Match object; span=(5, 14), match='4435-2344'>"
      ]
     },
     "execution_count": 24,
     "metadata": {},
     "output_type": "execute_result"
    }
   ],
   "source": [
    "s = 'this 4435-2344 is a string 345 with word and digits 123-324' \n",
    "\n",
    "\n",
    "match = re.search(r'(?P<gr1>\\d+)-(?P<gr2>\\d+)', s)\n",
    "match"
   ]
  },
  {
   "cell_type": "code",
   "execution_count": 26,
   "metadata": {},
   "outputs": [
    {
     "data": {
      "text/plain": [
       "{'gr1': '4435', 'gr2': '2344'}"
      ]
     },
     "execution_count": 26,
     "metadata": {},
     "output_type": "execute_result"
    }
   ],
   "source": [
    "match.groupdict()"
   ]
  },
  {
   "cell_type": "markdown",
   "metadata": {},
   "source": [
    "Использование группировок для проверок  "
   ]
  },
  {
   "cell_type": "markdown",
   "metadata": {},
   "source": [
    "`?=` опережающая проверка, то есть шаблон не попадет в результа  \n",
    "как только встречаем то, что находится после `?=` в скобках, мы прерываем проверку  "
   ]
  },
  {
   "cell_type": "code",
   "execution_count": 33,
   "metadata": {},
   "outputs": [
    {
     "data": {
      "text/plain": [
       "['<p> Picture ']"
      ]
     },
     "execution_count": 33,
     "metadata": {},
     "output_type": "execute_result"
    }
   ],
   "source": [
    "s = \"<p> Picture <img src='bg.jpg'> <img src='bg.jpg'> in text\"\n",
    "re.findall(r\"^.*?(?=<img)\", s)"
   ]
  },
  {
   "cell_type": "markdown",
   "metadata": {},
   "source": [
    "`?<=` ретроспективная, то есть снаала находим, а потом проверяем,  \n",
    "поэтому шаблон попадает в результат"
   ]
  },
  {
   "cell_type": "code",
   "execution_count": 31,
   "metadata": {},
   "outputs": [
    {
     "data": {
      "text/plain": [
       "['<p> Picture <img']"
      ]
     },
     "execution_count": 31,
     "metadata": {},
     "output_type": "execute_result"
    }
   ],
   "source": [
    "s = \"<p> Picture <img src='bg.jpg'> in text\"\n",
    "re.findall(r\"^.*(?<=<img)\", s)"
   ]
  },
  {
   "cell_type": "markdown",
   "metadata": {},
   "source": [
    "Констрикция если, иначе в регулярных выражениях  \n",
    "`(?(if)then|else)`"
   ]
  },
  {
   "cell_type": "code",
   "execution_count": 54,
   "metadata": {},
   "outputs": [
    {
     "data": {
      "text/plain": [
       "['11']"
      ]
     },
     "execution_count": 54,
     "metadata": {},
     "output_type": "execute_result"
    }
   ],
   "source": [
    "s = \"любые слова 11 одиннадцать тут могут быть любые слова 12 двенадцать\"\n",
    "re.findall(r\".*(?P<q>11)\\s(?(q)одиннадцать)\", s)"
   ]
  },
  {
   "cell_type": "markdown",
   "metadata": {},
   "source": [
    "Функция findall() модуля re возвращает все неперекрывающиеся совпадения шаблона pattern в строке string в виде списка строк или список кортежей.     \n",
    "Строка сканируется слева направо, и совпадения возвращаются в найденном порядке.\n",
    "\n",
    "Результат зависит от количества групп захвата в шаблоне:\n",
    "\n",
    "Если групп нет, то возвращается список строк, соответствующих всему шаблону.  \n",
    "Если существует ровно одна группа, то возвращается список строк, соответствующих этой группе.  \n",
    "Если присутствует несколько групп, то возвращается список кортежей строк, соответствующих группам.  "
   ]
  },
  {
   "cell_type": "code",
   "execution_count": 63,
   "metadata": {},
   "outputs": [
    {
     "data": {
      "text/plain": [
       "['4435', '345', '123']"
      ]
     },
     "execution_count": 63,
     "metadata": {},
     "output_type": "execute_result"
    }
   ],
   "source": [
    "s = 'this 4435 is a string 345 with word and digits 123' \n",
    "\n",
    "# находит все подстроки по шаблону и возвращает список вхождений\n",
    "\n",
    "re.findall(r'\\d+', s)"
   ]
  },
  {
   "cell_type": "markdown",
   "metadata": {},
   "source": [
    "split разбивает строку, разделителем является совпадение с шаблоном"
   ]
  },
  {
   "cell_type": "code",
   "execution_count": 31,
   "metadata": {},
   "outputs": [
    {
     "data": {
      "text/plain": [
       "['this is first 7 string with numbers',\n",
       " '    this is second string without numbers',\n",
       " ' this is third string',\n",
       " '    this is fourth string',\n",
       " ' this is fifth string',\n",
       " '']"
      ]
     },
     "execution_count": 31,
     "metadata": {},
     "output_type": "execute_result"
    }
   ],
   "source": [
    "s = '''this is first 7 string with numbers\n",
    "    this is second string without numbers, this is third string\n",
    "    this is fourth string; this is fifth string\n",
    "'''\n",
    "\n",
    "re.split(r'[\\n,;]+', s)"
   ]
  },
  {
   "cell_type": "code",
   "execution_count": 88,
   "metadata": {},
   "outputs": [
    {
     "data": {
      "text/plain": [
       "['this is a ', ' string ', ' with word and digits ', ' sdfasf ', '']"
      ]
     },
     "execution_count": 88,
     "metadata": {},
     "output_type": "execute_result"
    }
   ],
   "source": [
    "s = 'this is a 3453 string 345 with word and digits 1323 sdfasf 4324'\n",
    "\n",
    "# разбивает строку на подстроки, разделителем является то, что подходит под паттерн\n",
    "\n",
    "re.split(r'\\d+', s)"
   ]
  },
  {
   "cell_type": "markdown",
   "metadata": {},
   "source": [
    "Про флаг /m и начало/конец строки"
   ]
  },
  {
   "cell_type": "code",
   "execution_count": 22,
   "metadata": {},
   "outputs": [
    {
     "data": {
      "text/plain": [
       "[]"
      ]
     },
     "execution_count": 22,
     "metadata": {},
     "output_type": "execute_result"
    }
   ],
   "source": [
    "s = '''fsadfasdf sdfas dsfdasf\n",
    "sadfasf sdfsadf\n",
    "sdfasdf dsfdasf dsfasd dsfdasf'''\n",
    "# так будет искать любое количество букв подряд от начала до конца строки,  \n",
    "# и конец строки это конец текта, естественно не найдет, так как переноса строки нет в группе поиска\n",
    "re.findall(r'^[\\w]+$', s)"
   ]
  },
  {
   "cell_type": "code",
   "execution_count": 26,
   "metadata": {},
   "outputs": [
    {
     "data": {
      "text/plain": [
       "['fsadfasdf sdfas dsfdasf',\n",
       " 'sadfasf sdfsadf',\n",
       " 'sdfasdf dsfdasf dsfasd dsfdasf']"
      ]
     },
     "execution_count": 26,
     "metadata": {},
     "output_type": "execute_result"
    }
   ],
   "source": [
    "s = '''fsadfasdf sdfas dsfdasf\n",
    "sadfasf sdfsadf\n",
    "sdfasdf dsfdasf dsfasd dsfdasf'''\n",
    "# так будет искать любое количество букв подряд от начала до конца строки,  \n",
    "# но теперь конец строки это символ переноса  \n",
    "re.findall(r'^[\\w ]+$', s, flags=re.M)"
   ]
  },
  {
   "cell_type": "markdown",
   "metadata": {},
   "source": [
    "match проверяет совпадение шаблона в начале строки  \n",
    "вернет None, если нет совпадения   \n",
    "и дополнительно использование условного  оператора"
   ]
  },
  {
   "cell_type": "code",
   "execution_count": 27,
   "metadata": {},
   "outputs": [
    {
     "data": {
      "text/plain": [
       "<re.Match object; span=(0, 12), match='+74354325534'>"
      ]
     },
     "execution_count": 27,
     "metadata": {},
     "output_type": "execute_result"
    }
   ],
   "source": [
    "# если + есть, то ищем после него 7, а если плюса нет, то ищем после него 8\n",
    "s = '+74354325534'\n",
    "\n",
    "re.match(r'(?P<plus>\\+)?(?(plus)7|8)(?P<bracket>\\()?\\d{3}(?(bracket)\\)|)\\d{3}-?\\d{2}-?\\d{2}', s)"
   ]
  },
  {
   "cell_type": "markdown",
   "metadata": {},
   "source": [
    "Пример различия пробела и `\\s`"
   ]
  },
  {
   "cell_type": "code",
   "execution_count": 28,
   "metadata": {},
   "outputs": [
    {
     "data": {
      "text/plain": [
       "['fsadfasdf sdfas dsfdasf\\nsadfasf sdfsadf\\nsdfasdf dsfdasf dsfasd dsfdasf']"
      ]
     },
     "execution_count": 28,
     "metadata": {},
     "output_type": "execute_result"
    }
   ],
   "source": [
    "s = '''fsadfasdf sdfas dsfdasf\n",
    "sadfasf sdfsadf\n",
    "sdfasdf dsfdasf dsfasd dsfdasf'''\n",
    "# если мы укажем \\s, то у нас поймает и пробел и перенос строки\n",
    "re.findall(r'^[\\w\\s]+$', s)"
   ]
  },
  {
   "cell_type": "code",
   "execution_count": 17,
   "metadata": {},
   "outputs": [
    {
     "name": "stdout",
     "output_type": "stream",
     "text": [
      "['М', 'а', 'м', 'а', ' ', 'm', 'a', 'm', 'a', '@', 'y', 'a', '.', 'r', 'u', ' ', 'м', 'ы', 'л', 'а', ' ', 'р', 'а', 'м', 'у', ' ', 'с', ' ', 'м', 'ы', 'л', 'о', 'м']\n"
     ]
    }
   ],
   "source": [
    "sample_str = 'Мама mama@ya.ru мыла раму с мылом'\n",
    "\n",
    "result = re.findall(r'.', sample_str)\n",
    "print(result)"
   ]
  },
  {
   "cell_type": "markdown",
   "metadata": {},
   "source": [
    "Усложним регулярку и извлечём все слова - идущие подряд непробельные символы (спецсимволы не в счёт)"
   ]
  },
  {
   "cell_type": "code",
   "execution_count": 11,
   "metadata": {},
   "outputs": [
    {
     "name": "stdout",
     "output_type": "stream",
     "text": [
      "['Мама', '', 'mama', '', 'ya', '', 'ru', '', '7', '', 'мы7ла', '', 'раму', '', 'с', '', 'мылом', '']\n"
     ]
    }
   ],
   "source": [
    "result = re.findall(r'\\w*', sample_str)\n",
    "print(result)"
   ]
  },
  {
   "cell_type": "markdown",
   "metadata": {},
   "source": [
    "В выдаче есть пробелы - заменим `*` на `+`"
   ]
  },
  {
   "cell_type": "code",
   "execution_count": 33,
   "metadata": {},
   "outputs": [
    {
     "name": "stdout",
     "output_type": "stream",
     "text": [
      "['Мама', 'mama', 'ya', 'ru', 'мыла', 'раму', 'с', 'мылом']\n"
     ]
    }
   ],
   "source": [
    "result = re.findall(r'\\w+', sample_str)\n",
    "print(result)"
   ]
  },
  {
   "cell_type": "markdown",
   "metadata": {},
   "source": [
    "Если нужно взять слова определенного размера  \n",
    "или слова от n до m символов, то используем {n, m} вметсо +"
   ]
  },
  {
   "cell_type": "code",
   "execution_count": 34,
   "metadata": {},
   "outputs": [
    {
     "name": "stdout",
     "output_type": "stream",
     "text": [
      "['Мама', 'mama', 'мыла', 'раму', 'мылом']\n"
     ]
    }
   ],
   "source": [
    "result = re.findall(r'\\w{3,5}', sample_str)\n",
    "print(result)"
   ]
  },
  {
   "cell_type": "markdown",
   "metadata": {},
   "source": [
    "Первое слово в тексте"
   ]
  },
  {
   "cell_type": "code",
   "execution_count": 6,
   "metadata": {},
   "outputs": [
    {
     "name": "stdout",
     "output_type": "stream",
     "text": [
      "['Мама']\n"
     ]
    }
   ],
   "source": [
    "result = re.findall(r'^\\w+', sample_str)\n",
    "print(result)"
   ]
  },
  {
   "cell_type": "markdown",
   "metadata": {},
   "source": [
    "Последнее слово в тексте"
   ]
  },
  {
   "cell_type": "code",
   "execution_count": 7,
   "metadata": {},
   "outputs": [
    {
     "name": "stdout",
     "output_type": "stream",
     "text": [
      "['мылом']\n"
     ]
    }
   ],
   "source": [
    "result = re.findall(r'\\w+$', sample_str)\n",
    "print(result)"
   ]
  },
  {
   "cell_type": "markdown",
   "metadata": {},
   "source": [
    "Вернуть все пары символов"
   ]
  },
  {
   "cell_type": "code",
   "execution_count": 8,
   "metadata": {},
   "outputs": [
    {
     "name": "stdout",
     "output_type": "stream",
     "text": [
      "['Ма', 'ма', 'ma', 'ma', 'ya', 'ru', 'мы', 'ла', 'ра', 'му', 'мы', 'ло']\n"
     ]
    }
   ],
   "source": [
    "result = re.findall(r'\\w\\w', sample_str)\n",
    "print(result)"
   ]
  },
  {
   "cell_type": "code",
   "execution_count": 38,
   "metadata": {},
   "outputs": [
    {
     "data": {
      "text/plain": [
       "['Мам', 'mam', 'мыл', 'рам', 'мыл']"
      ]
     },
     "execution_count": 38,
     "metadata": {},
     "output_type": "execute_result"
    }
   ],
   "source": [
    "re.findall(r'\\w\\w\\w', sample_str)"
   ]
  },
  {
   "cell_type": "markdown",
   "metadata": {},
   "source": [
    "Вернуть все пары символов только в начале слова (включая пробелы)"
   ]
  },
  {
   "cell_type": "code",
   "execution_count": 39,
   "metadata": {},
   "outputs": [
    {
     "name": "stdout",
     "output_type": "stream",
     "text": [
      "['Ма', 'ma', 'ya', 'ru', 'мы', 'ра', 'с ', 'мы']\n"
     ]
    }
   ],
   "source": [
    "result = re.findall(r'\\b\\w.', sample_str)\n",
    "print(result)"
   ]
  },
  {
   "cell_type": "markdown",
   "metadata": {},
   "source": [
    "в конце слова"
   ]
  },
  {
   "cell_type": "code",
   "execution_count": 44,
   "metadata": {},
   "outputs": [
    {
     "data": {
      "text/plain": [
       "['ма', 'ma', 'ya', 'ru', 'ла', 'му', 'ом']"
      ]
     },
     "execution_count": 44,
     "metadata": {},
     "output_type": "execute_result"
    }
   ],
   "source": [
    "re.findall(r'\\w\\w\\b', sample_str)"
   ]
  },
  {
   "cell_type": "markdown",
   "metadata": {},
   "source": [
    "Вернуть список доменов электронной почты"
   ]
  },
  {
   "cell_type": "code",
   "execution_count": 46,
   "metadata": {},
   "outputs": [
    {
     "data": {
      "text/plain": [
       "['mama']"
      ]
     },
     "execution_count": 46,
     "metadata": {},
     "output_type": "execute_result"
    }
   ],
   "source": [
    "re.findall(r'm\\w+', sample_str)"
   ]
  },
  {
   "cell_type": "code",
   "execution_count": 10,
   "metadata": {},
   "outputs": [
    {
     "name": "stdout",
     "output_type": "stream",
     "text": [
      "['@ya']\n"
     ]
    }
   ],
   "source": [
    "result = re.findall(r'@\\w+', sample_str)\n",
    "print(result)"
   ]
  },
  {
   "cell_type": "markdown",
   "metadata": {},
   "source": [
    "не забываем, что точка это любой символ  \n",
    "и если нам нужно взять последовательность, где есть .  \n",
    "то используем \\."
   ]
  },
  {
   "cell_type": "code",
   "execution_count": 54,
   "metadata": {},
   "outputs": [
    {
     "name": "stdout",
     "output_type": "stream",
     "text": [
      "[]\n"
     ]
    }
   ],
   "source": [
    "result = re.findall(r'@\\w+\\.\\w+', 'sadfa@gmail_com')\n",
    "print(result)"
   ]
  },
  {
   "cell_type": "code",
   "execution_count": 55,
   "metadata": {},
   "outputs": [
    {
     "name": "stdout",
     "output_type": "stream",
     "text": [
      "['@gmail_com']\n"
     ]
    }
   ],
   "source": [
    "result = re.findall(r'@\\w+.\\w+', 'sadfa@gmail_com')\n",
    "print(result)"
   ]
  },
  {
   "cell_type": "markdown",
   "metadata": {},
   "source": [
    "Добавим в результат доменную зону(домен верхнего уровня)"
   ]
  },
  {
   "cell_type": "code",
   "execution_count": 11,
   "metadata": {},
   "outputs": [
    {
     "name": "stdout",
     "output_type": "stream",
     "text": [
      "['@ya.ru']\n"
     ]
    }
   ],
   "source": [
    "result = re.findall(r'@\\w+.\\w+', sample_str)\n",
    "print(result)"
   ]
  },
  {
   "cell_type": "markdown",
   "metadata": {},
   "source": [
    "Второй вариант — вытащить только доменную зону, используя группировку"
   ]
  },
  {
   "cell_type": "code",
   "execution_count": 12,
   "metadata": {},
   "outputs": [
    {
     "name": "stdout",
     "output_type": "stream",
     "text": [
      "['ru']\n"
     ]
    }
   ],
   "source": [
    "result = re.findall(r'@\\w+.(\\w+)', sample_str)\n",
    "print(result)"
   ]
  },
  {
   "cell_type": "code",
   "execution_count": 62,
   "metadata": {},
   "outputs": [
    {
     "name": "stdout",
     "output_type": "stream",
     "text": [
      "[('@', '.ru')]\n"
     ]
    }
   ],
   "source": [
    "result = re.findall(r'(@)\\w+(.\\w+)', sample_str)\n",
    "print(result)"
   ]
  },
  {
   "cell_type": "markdown",
   "metadata": {},
   "source": [
    "Наконец, извлечём email полностью"
   ]
  },
  {
   "cell_type": "code",
   "execution_count": 13,
   "metadata": {},
   "outputs": [
    {
     "name": "stdout",
     "output_type": "stream",
     "text": [
      "['mama@ya.ru']\n"
     ]
    }
   ],
   "source": [
    "result = re.findall(r'\\w+@\\w+.\\w+', sample_str)\n",
    "print(result)"
   ]
  },
  {
   "cell_type": "markdown",
   "metadata": {},
   "source": [
    "Разбив текст на отдельные слова, мы получаем список отдельных сущностей (т.н. токенов) каждый токен можно обработать отдельно своей регуляркой - например проверить телефонный номер - номер должен быть длиной 10 знаков и начинаться с 8 или 7."
   ]
  },
  {
   "cell_type": "code",
   "execution_count": 73,
   "metadata": {},
   "outputs": [
    {
     "name": "stdout",
     "output_type": "stream",
     "text": [
      "<re.Match object; span=(0, 10), match='7999999999'>\n",
      "phone number\n",
      "None\n",
      "no\n",
      "None\n",
      "no\n",
      "<re.Match object; span=(0, 10), match='7996663132'>\n",
      "phone number\n"
     ]
    }
   ],
   "source": [
    "tokens = ['7999999999', '999999-999', '99999x9999', '7996663132']\n",
    "\n",
    "for val in tokens:\n",
    "    print(re.match(r'[7-8]{1}[0-9]{9}', val))\n",
    "    if re.match(r'[7-8]{1}[0-9]{9}', val) and len(val) == 10:\n",
    "        print('phone number')\n",
    "    else:\n",
    "        print('no')"
   ]
  },
  {
   "cell_type": "markdown",
   "metadata": {},
   "source": [
    "Другой интересный кейс - вытаскивание из текста всех имён собственных. Именем собственным мы будем считать любой текст, заключённый внутри кавычек. Для этой задачи нам помогут группирующие скобки `()`."
   ]
  },
  {
   "cell_type": "markdown",
   "metadata": {},
   "source": [
    "? говорит, что мы хотим получить не точное совпадение от начал до конца,  \n",
    "а хотим выбрать все возможные совпадения внутри  "
   ]
  },
  {
   "cell_type": "code",
   "execution_count": 88,
   "metadata": {},
   "outputs": [
    {
     "name": "stdout",
     "output_type": "stream",
     "text": [
      "«Леди удача» – авантюрная романтическая комедия, снятая в двадцатые годы ХХ века, на заре звукового кинематографа. Главную роль исполнила обаятельная Норма Ширер, пятикратный номинант и лауреат премии «Оскар» за фильм «Развод». Сюжет и посыл картины, несмотря на ее почтенный возраст, нисколько не устарели. В мелодраме, которую вы можете посмотреть онлайн, представлена забавная история авантюристки по прозвищу Ангельское Личико. С равным успехом показанные события могли произойти и в наше время – как вы сами можете убедиться, люди за несколько десятилетий мало изменились в глобальных вещах.   Прелестная девушка Долли – опасная авантюристка со стажем. Она зарабатывает на жизнь шантажом по простой и многократно отработанной схеме. Долли знакомится с богатым мужчиной, приглашает его к себе на квартиру, а затем начинает требовать деньги за соблюдение молчания. В результате полицейских происков девушка оказывается под арестом, однако избегает строгого наказания. Выйдя на свободу, она снимает номер в отеле, где знакомится с новой жертвой – молодым человеком по имени Стив. Стив утверждает, что он изобретатель-миллионер, однако несколько искажает факты. На самом деле, герой – просто ученый, создавший вещь, способную принести миллионы.\n",
      "\n",
      "\n",
      "Пользуясь регулярными выражения, доcтанем из текста имена собственные (всё, что внутри кавычек):\n",
      "\n",
      "\n",
      "Леди удача\n",
      "Оскар\n",
      "Развод\n"
     ]
    }
   ],
   "source": [
    "print(text_df.description.values[4])\n",
    "raw_text = text_df.description.values[4]\n",
    "\n",
    "print(\"\\n\\nПользуясь регулярными выражения, доcтанем из текста имена собственные (всё, что внутри кавычек):\\n\\n\")\n",
    "regular_expr = r'«(.*?)»'\n",
    "reg_expr_compiled = re.compile(regular_expr)\n",
    "# применяем выражение к тексту\n",
    "for g in reg_expr_compiled.findall(raw_text):\n",
    "    print(g)"
   ]
  }
 ],
 "metadata": {
  "kernelspec": {
   "display_name": "pagri-projects-W8_aXYna-py3.12",
   "language": "python",
   "name": "python3"
  },
  "language_info": {
   "codemirror_mode": {
    "name": "ipython",
    "version": 3
   },
   "file_extension": ".py",
   "mimetype": "text/x-python",
   "name": "python",
   "nbconvert_exporter": "python",
   "pygments_lexer": "ipython3",
   "version": "3.12.7"
  }
 },
 "nbformat": 4,
 "nbformat_minor": 2
}
