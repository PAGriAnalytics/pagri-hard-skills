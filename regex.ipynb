{
 "cells": [
  {
   "cell_type": "markdown",
   "metadata": {},
   "source": [
    "\n",
    "Среди стандартных модулей python существует библиотека для работы [с регулярными выражениями re](https://docs.python.org/3/library/re.html) (подробнее [тут](https://tproger.ru/translations/regular-expression-python/))\n",
    "\n",
    "Простешая задача для регулярных выражений - разделение текста на отдельные слова."
   ]
  },
  {
   "cell_type": "code",
   "execution_count": 1,
   "metadata": {},
   "outputs": [
    {
     "name": "stdout",
     "output_type": "stream",
     "text": [
      "компилированное регулярное вырадение  <class 're.Pattern'> \n",
      "\n",
      "\n",
      "['Леди', 'удача', 'авантюрная', 'романтическая', 'комедия', 'снятая', 'в', 'двадцатые', 'годы', 'ХХ', 'века', 'на', 'заре', 'звукового', 'кинематографа', 'Главную', 'роль', 'исполнила', 'обаятельная', 'Норма', 'Ширер', 'пятикратный', 'номинант', 'и', 'лауреат', 'премии', 'Оскар', 'за', 'фильм', 'Развод', 'Сюжет', 'и', 'посыл', 'картины', 'несмотря', 'на', 'ее', 'почтенный', 'возраст', 'нисколько', 'не', 'устарели', 'В', 'мелодраме', 'которую', 'вы', 'можете', 'посмотреть', 'онлайн', 'представлена', 'забавная', 'история', 'авантюристки', 'по', 'прозвищу', 'Ангельское', 'Личико', 'С', 'равным', 'успехом', 'показанные', 'события', 'могли', 'произойти', 'и', 'в', 'наше', 'время', 'как', 'вы', 'сами', 'можете', 'убедиться', 'люди', 'за', 'несколько', 'десятилетий', 'мало', 'изменились', 'в', 'глобальных', 'вещах', 'Прелестная', 'девушка', 'Долли', 'опасная', 'авантюристка', 'со', 'стажем', 'Она', 'зарабатывает', 'на', 'жизнь', 'шантажом', 'по', 'простой', 'и', 'многократно', 'отработанной', 'схеме', 'Долли', 'знакомится', 'с', 'богатым', 'мужчиной', 'приглашает', 'его', 'к', 'себе', 'на', 'квартиру', 'а', 'затем', 'начинает', 'требовать', 'деньги', 'за', 'соблюдение', 'молчания', 'В', 'результате', 'полицейских', 'происков', 'девушка', 'оказывается', 'под', 'арестом', 'однако', 'избегает', 'строгого', 'наказания', 'Выйдя', 'на', 'свободу', 'она', 'снимает', 'номер', 'в', 'отеле', 'где', 'знакомится', 'с', 'новой', 'жертвой', 'молодым', 'человеком', 'по', 'имени', 'Стив', 'Стив', 'утверждает', 'что', 'он', 'изобретатель', 'миллионер', 'однако', 'несколько', 'искажает', 'факты', 'На', 'самом', 'деле', 'герой', 'просто', 'ученый', 'создавший', 'вещь', 'способную', 'принести', 'миллионы']\n"
     ]
    }
   ],
   "source": [
    "import re\n",
    "import pandas as pd\n",
    "\n",
    "text_df = pd.read_csv(\"content_description.csv\", sep='\\t')\n",
    "text_df.head()\n",
    "\n",
    "# строка для примера\n",
    "test_string = text_df.description.values[4]\n",
    "# шаблон регулярного выражения\n",
    "reg_expr = r'\\w+'\n",
    "# компилируем регулярное выражение\n",
    "reg_expr_compiled = re.compile(reg_expr)\n",
    "print(\"компилированное регулярное вырадение \", type(reg_expr_compiled), '\\n\\n')\n",
    "# применяем метод findall для поиска всех совпадений с шаблоном регулярного выражения в тексте \n",
    "res = reg_expr_compiled.findall(test_string) \n",
    "# результат\n",
    "print (res)"
   ]
  },
  {
   "cell_type": "markdown",
   "metadata": {},
   "source": [
    "В этом примере можно увидеть базовые приёмы применения библиотеки регулярных выражений в python\n",
    "\n",
    "* регулярное выражение - строка в кавычках (перед кавычками вспомогательный символ `r`)\n",
    "* строку перед использованием нужно скомпилировать в специальный объеrn [Regular expression object](https://docs.python.org/3/library/re.html#regular-expression-objects)\n",
    "* В шаблонах можно использовать `спецсимволы`\n",
    "\n",
    "Примеры спецсимволов:\n",
    "\n",
    "* `.` Любой символ\n",
    "* `\\w`  Любая буква (то, что может быть частью слова), а также цифры и _ \n",
    "*  `\\W`  Всё, что не входит в `\\w` \n",
    "*  `\\d`  Любая цифра \n",
    "*  `\\D`  Всё, что не входит в `\\d` \n",
    "* `\\b` граница слова\n",
    "* `[…]`  Символьный класс - любой из перечисленных символов \n",
    "\n",
    "Кроме спецсимволов можно использовать т.н. квантификаторы - указатели количества\n",
    "\n",
    "* `+` - одно или более вхождений\n",
    "* `*` ноль или больше вхождений\n",
    "* `{m,n}` от m до n вхождений\n",
    "* `{n}` ровно `n` вхождений\n",
    "* `\\s` пробельный символ - например, табуляция\n",
    "* `^` начало вхождения\n",
    "* `$` конец вхождения\n",
    "* `()` - группирующие скобки. Позволяет искать подстроки\n",
    "\n",
    "Квантификаторы\n",
    "Располагаются следом за символьным классом, группой или одиночным символом, указывая количество их повторений, например .* обозначает любые символы в любом количестве.\n",
    "\n",
    "По умолчанию квантификаторы являются «жадными», например если произвести поиск всех тегов в HTML-коде <.*>, то все теги будут трактоваться как один, так как после первого совпадения следующие теги будут соответствовать .*. Для решения задачи нужно или уточнить искомый результат <[^>]*>, или сделать квантификатор «ленивым», поставив ? после квантификатора <.*?>.\n",
    "\n",
    "Существует еще один «сверхжадный» режим, его еще называют «ревнивым», он является самым быстродейственным и служит для поиска самого длинного варианта. Данный режим полезен для проверки существования подстроки в строке, а также для исключения из результатов поиска нежелаемых совпадений. Для включения «ревнивого» режима нужно поставить + после квантификатора.\n",
    "\n",
    "Жадный\tЛенивый\tРевнивый  \n",
    "\n",
    "?&nbsp;&nbsp;&nbsp;&nbsp;&nbsp;&nbsp;&nbsp;&nbsp;&nbsp;&nbsp;&nbsp;&nbsp;??&nbsp;&nbsp;&nbsp;&nbsp;&nbsp;&nbsp;&nbsp;&nbsp;&nbsp;&nbsp;&nbsp;&nbsp;?+  \n",
    "\\+&nbsp;&nbsp;&nbsp;&nbsp;&nbsp;&nbsp;&nbsp;&nbsp;&nbsp;&nbsp;&nbsp;&nbsp;+?&nbsp;&nbsp;&nbsp;&nbsp;&nbsp;&nbsp;&nbsp;&nbsp;&nbsp;&nbsp;&nbsp;&nbsp; ++  \n",
    "\\*&nbsp;&nbsp;&nbsp;&nbsp;&nbsp;&nbsp;&nbsp;&nbsp;&nbsp;&nbsp;&nbsp;&nbsp;*? &nbsp;&nbsp;&nbsp;&nbsp;&nbsp;&nbsp;&nbsp;&nbsp;&nbsp;&nbsp;&nbsp;&nbsp; *+  \n",
    "\n",
    "Продемонстрируем простейшие примеры применения регулярных выражений."
   ]
  },
  {
   "cell_type": "code",
   "execution_count": 17,
   "metadata": {},
   "outputs": [
    {
     "name": "stdout",
     "output_type": "stream",
     "text": [
      "['М', 'а', 'м', 'а', ' ', 'm', 'a', 'm', 'a', '@', 'y', 'a', '.', 'r', 'u', ' ', 'м', 'ы', 'л', 'а', ' ', 'р', 'а', 'м', 'у', ' ', 'с', ' ', 'м', 'ы', 'л', 'о', 'м']\n"
     ]
    }
   ],
   "source": [
    "sample_str = 'Мама mama@ya.ru мыла раму с мылом'\n",
    "\n",
    "result = re.findall(r'.', sample_str)\n",
    "print(result)"
   ]
  },
  {
   "cell_type": "markdown",
   "metadata": {},
   "source": [
    "Усложним регулярку и извлечём все слова - идущие подряд непробельные символы (спецсимволы не в счёт)"
   ]
  },
  {
   "cell_type": "code",
   "execution_count": 11,
   "metadata": {},
   "outputs": [
    {
     "name": "stdout",
     "output_type": "stream",
     "text": [
      "['Мама', '', 'mama', '', 'ya', '', 'ru', '', '7', '', 'мы7ла', '', 'раму', '', 'с', '', 'мылом', '']\n"
     ]
    }
   ],
   "source": [
    "result = re.findall(r'\\w*', sample_str)\n",
    "print(result)"
   ]
  },
  {
   "cell_type": "markdown",
   "metadata": {},
   "source": [
    "В выдаче есть пробелы - заменим `*` на `+`"
   ]
  },
  {
   "cell_type": "code",
   "execution_count": 33,
   "metadata": {},
   "outputs": [
    {
     "name": "stdout",
     "output_type": "stream",
     "text": [
      "['Мама', 'mama', 'ya', 'ru', 'мыла', 'раму', 'с', 'мылом']\n"
     ]
    }
   ],
   "source": [
    "result = re.findall(r'\\w+', sample_str)\n",
    "print(result)"
   ]
  },
  {
   "cell_type": "markdown",
   "metadata": {},
   "source": [
    "Если нужно взять слова определенного размера  \n",
    "или слова от n до m символов, то используем {n, m} вметсо +"
   ]
  },
  {
   "cell_type": "code",
   "execution_count": 34,
   "metadata": {},
   "outputs": [
    {
     "name": "stdout",
     "output_type": "stream",
     "text": [
      "['Мама', 'mama', 'мыла', 'раму', 'мылом']\n"
     ]
    }
   ],
   "source": [
    "result = re.findall(r'\\w{3,5}', sample_str)\n",
    "print(result)"
   ]
  },
  {
   "cell_type": "markdown",
   "metadata": {},
   "source": [
    "Первое слово в тексте"
   ]
  },
  {
   "cell_type": "code",
   "execution_count": 6,
   "metadata": {},
   "outputs": [
    {
     "name": "stdout",
     "output_type": "stream",
     "text": [
      "['Мама']\n"
     ]
    }
   ],
   "source": [
    "result = re.findall(r'^\\w+', sample_str)\n",
    "print(result)"
   ]
  },
  {
   "cell_type": "markdown",
   "metadata": {},
   "source": [
    "Последнее слово в тексте"
   ]
  },
  {
   "cell_type": "code",
   "execution_count": 7,
   "metadata": {},
   "outputs": [
    {
     "name": "stdout",
     "output_type": "stream",
     "text": [
      "['мылом']\n"
     ]
    }
   ],
   "source": [
    "result = re.findall(r'\\w+$', sample_str)\n",
    "print(result)"
   ]
  },
  {
   "cell_type": "markdown",
   "metadata": {},
   "source": [
    "Вернуть все пары символов"
   ]
  },
  {
   "cell_type": "code",
   "execution_count": 8,
   "metadata": {},
   "outputs": [
    {
     "name": "stdout",
     "output_type": "stream",
     "text": [
      "['Ма', 'ма', 'ma', 'ma', 'ya', 'ru', 'мы', 'ла', 'ра', 'му', 'мы', 'ло']\n"
     ]
    }
   ],
   "source": [
    "result = re.findall(r'\\w\\w', sample_str)\n",
    "print(result)"
   ]
  },
  {
   "cell_type": "code",
   "execution_count": 38,
   "metadata": {},
   "outputs": [
    {
     "data": {
      "text/plain": [
       "['Мам', 'mam', 'мыл', 'рам', 'мыл']"
      ]
     },
     "execution_count": 38,
     "metadata": {},
     "output_type": "execute_result"
    }
   ],
   "source": [
    "re.findall(r'\\w\\w\\w', sample_str)"
   ]
  },
  {
   "cell_type": "markdown",
   "metadata": {},
   "source": [
    "Вернуть все пары символов только в начале слова (включая пробелы)"
   ]
  },
  {
   "cell_type": "code",
   "execution_count": 39,
   "metadata": {},
   "outputs": [
    {
     "name": "stdout",
     "output_type": "stream",
     "text": [
      "['Ма', 'ma', 'ya', 'ru', 'мы', 'ра', 'с ', 'мы']\n"
     ]
    }
   ],
   "source": [
    "result = re.findall(r'\\b\\w.', sample_str)\n",
    "print(result)"
   ]
  },
  {
   "cell_type": "markdown",
   "metadata": {},
   "source": [
    "в конце слова"
   ]
  },
  {
   "cell_type": "code",
   "execution_count": 44,
   "metadata": {},
   "outputs": [
    {
     "data": {
      "text/plain": [
       "['ма', 'ma', 'ya', 'ru', 'ла', 'му', 'ом']"
      ]
     },
     "execution_count": 44,
     "metadata": {},
     "output_type": "execute_result"
    }
   ],
   "source": [
    "re.findall(r'\\w\\w\\b', sample_str)"
   ]
  },
  {
   "cell_type": "markdown",
   "metadata": {},
   "source": [
    "Вернуть список доменов электронной почты"
   ]
  },
  {
   "cell_type": "code",
   "execution_count": 46,
   "metadata": {},
   "outputs": [
    {
     "data": {
      "text/plain": [
       "['mama']"
      ]
     },
     "execution_count": 46,
     "metadata": {},
     "output_type": "execute_result"
    }
   ],
   "source": [
    "re.findall(r'm\\w+', sample_str)"
   ]
  },
  {
   "cell_type": "code",
   "execution_count": 10,
   "metadata": {},
   "outputs": [
    {
     "name": "stdout",
     "output_type": "stream",
     "text": [
      "['@ya']\n"
     ]
    }
   ],
   "source": [
    "result = re.findall(r'@\\w+', sample_str)\n",
    "print(result)"
   ]
  },
  {
   "cell_type": "markdown",
   "metadata": {},
   "source": [
    "не забываем, что точка это любой символ  \n",
    "и если нам нужно взять последовательность, где есть .  \n",
    "то используем \\."
   ]
  },
  {
   "cell_type": "code",
   "execution_count": 54,
   "metadata": {},
   "outputs": [
    {
     "name": "stdout",
     "output_type": "stream",
     "text": [
      "[]\n"
     ]
    }
   ],
   "source": [
    "result = re.findall(r'@\\w+\\.\\w+', 'sadfa@gmail_com')\n",
    "print(result)"
   ]
  },
  {
   "cell_type": "code",
   "execution_count": 55,
   "metadata": {},
   "outputs": [
    {
     "name": "stdout",
     "output_type": "stream",
     "text": [
      "['@gmail_com']\n"
     ]
    }
   ],
   "source": [
    "result = re.findall(r'@\\w+.\\w+', 'sadfa@gmail_com')\n",
    "print(result)"
   ]
  },
  {
   "cell_type": "markdown",
   "metadata": {},
   "source": [
    "Добавим в результат доменную зону(домен верхнего уровня)"
   ]
  },
  {
   "cell_type": "code",
   "execution_count": 11,
   "metadata": {},
   "outputs": [
    {
     "name": "stdout",
     "output_type": "stream",
     "text": [
      "['@ya.ru']\n"
     ]
    }
   ],
   "source": [
    "result = re.findall(r'@\\w+.\\w+', sample_str)\n",
    "print(result)"
   ]
  },
  {
   "cell_type": "markdown",
   "metadata": {},
   "source": [
    "Второй вариант — вытащить только доменную зону, используя группировку"
   ]
  },
  {
   "cell_type": "code",
   "execution_count": 12,
   "metadata": {},
   "outputs": [
    {
     "name": "stdout",
     "output_type": "stream",
     "text": [
      "['ru']\n"
     ]
    }
   ],
   "source": [
    "result = re.findall(r'@\\w+.(\\w+)', sample_str)\n",
    "print(result)"
   ]
  },
  {
   "cell_type": "code",
   "execution_count": 62,
   "metadata": {},
   "outputs": [
    {
     "name": "stdout",
     "output_type": "stream",
     "text": [
      "[('@', '.ru')]\n"
     ]
    }
   ],
   "source": [
    "result = re.findall(r'(@)\\w+(.\\w+)', sample_str)\n",
    "print(result)"
   ]
  },
  {
   "cell_type": "markdown",
   "metadata": {},
   "source": [
    "Наконец, извлечём email полностью"
   ]
  },
  {
   "cell_type": "code",
   "execution_count": 13,
   "metadata": {},
   "outputs": [
    {
     "name": "stdout",
     "output_type": "stream",
     "text": [
      "['mama@ya.ru']\n"
     ]
    }
   ],
   "source": [
    "result = re.findall(r'\\w+@\\w+.\\w+', sample_str)\n",
    "print(result)"
   ]
  },
  {
   "cell_type": "markdown",
   "metadata": {},
   "source": [
    "Разбив текст на отдельные слова, мы получаем список отдельных сущностей (т.н. токенов) каждый токен можно обработать отдельно своей регуляркой - например проверить телефонный номер - номер должен быть длиной 10 знаков и начинаться с 8 или 7."
   ]
  },
  {
   "cell_type": "code",
   "execution_count": 73,
   "metadata": {},
   "outputs": [
    {
     "name": "stdout",
     "output_type": "stream",
     "text": [
      "<re.Match object; span=(0, 10), match='7999999999'>\n",
      "phone number\n",
      "None\n",
      "no\n",
      "None\n",
      "no\n",
      "<re.Match object; span=(0, 10), match='7996663132'>\n",
      "phone number\n"
     ]
    }
   ],
   "source": [
    "tokens = ['7999999999', '999999-999', '99999x9999', '7996663132']\n",
    "\n",
    "for val in tokens:\n",
    "    print(re.match(r'[7-8]{1}[0-9]{9}', val))\n",
    "    if re.match(r'[7-8]{1}[0-9]{9}', val) and len(val) == 10:\n",
    "        print('phone number')\n",
    "    else:\n",
    "        print('no')"
   ]
  },
  {
   "cell_type": "markdown",
   "metadata": {},
   "source": [
    "Другой интересный кейс - вытаскивание из текста всех имён собственных. Именем собственным мы будем считать любой текст, заключённый внутри кавычек. Для этой задачи нам помогут группирующие скобки `()`."
   ]
  },
  {
   "cell_type": "markdown",
   "metadata": {},
   "source": [
    "? говорит, что мы хотим получить не точное совпадение от начал до конца,  \n",
    "а хотим выбрать все возможные совпадения внутри  "
   ]
  },
  {
   "cell_type": "code",
   "execution_count": 88,
   "metadata": {},
   "outputs": [
    {
     "name": "stdout",
     "output_type": "stream",
     "text": [
      "«Леди удача» – авантюрная романтическая комедия, снятая в двадцатые годы ХХ века, на заре звукового кинематографа. Главную роль исполнила обаятельная Норма Ширер, пятикратный номинант и лауреат премии «Оскар» за фильм «Развод». Сюжет и посыл картины, несмотря на ее почтенный возраст, нисколько не устарели. В мелодраме, которую вы можете посмотреть онлайн, представлена забавная история авантюристки по прозвищу Ангельское Личико. С равным успехом показанные события могли произойти и в наше время – как вы сами можете убедиться, люди за несколько десятилетий мало изменились в глобальных вещах.   Прелестная девушка Долли – опасная авантюристка со стажем. Она зарабатывает на жизнь шантажом по простой и многократно отработанной схеме. Долли знакомится с богатым мужчиной, приглашает его к себе на квартиру, а затем начинает требовать деньги за соблюдение молчания. В результате полицейских происков девушка оказывается под арестом, однако избегает строгого наказания. Выйдя на свободу, она снимает номер в отеле, где знакомится с новой жертвой – молодым человеком по имени Стив. Стив утверждает, что он изобретатель-миллионер, однако несколько искажает факты. На самом деле, герой – просто ученый, создавший вещь, способную принести миллионы.\n",
      "\n",
      "\n",
      "Пользуясь регулярными выражения, доcтанем из текста имена собственные (всё, что внутри кавычек):\n",
      "\n",
      "\n",
      "Леди удача\n",
      "Оскар\n",
      "Развод\n"
     ]
    }
   ],
   "source": [
    "print(text_df.description.values[4])\n",
    "raw_text = text_df.description.values[4]\n",
    "\n",
    "print(\"\\n\\nПользуясь регулярными выражения, доcтанем из текста имена собственные (всё, что внутри кавычек):\\n\\n\")\n",
    "regular_expr = r'«(.*?)»'\n",
    "reg_expr_compiled = re.compile(regular_expr)\n",
    "# применяем выражение к тексту\n",
    "for g in reg_expr_compiled.findall(raw_text):\n",
    "    print(g)"
   ]
  }
 ],
 "metadata": {
  "kernelspec": {
   "display_name": "Python 3.7.1 64-bit",
   "language": "python",
   "name": "python3"
  },
  "language_info": {
   "codemirror_mode": {
    "name": "ipython",
    "version": 3
   },
   "file_extension": ".py",
   "mimetype": "text/x-python",
   "name": "python",
   "nbconvert_exporter": "python",
   "pygments_lexer": "ipython3",
   "version": "3.7.1"
  },
  "vscode": {
   "interpreter": {
    "hash": "fbe58ca63fe33f9eeae9e71d10368d2b4a57f2b1b395836210cc60d362c66949"
   }
  }
 },
 "nbformat": 4,
 "nbformat_minor": 2
}
