{
 "cells": [
  {
   "cell_type": "markdown",
   "metadata": {},
   "source": [
    "# Даты"
   ]
  },
  {
   "cell_type": "code",
   "execution_count": null,
   "metadata": {},
   "outputs": [],
   "source": [
    "from exchange import Rate"
   ]
  },
  {
   "cell_type": "code",
   "execution_count": null,
   "metadata": {},
   "outputs": [],
   "source": [
    "import exchange"
   ]
  },
  {
   "cell_type": "code",
   "execution_count": null,
   "metadata": {},
   "outputs": [],
   "source": [
    "import datetime"
   ]
  },
  {
   "cell_type": "code",
   "execution_count": 20,
   "metadata": {},
   "outputs": [],
   "source": [
    "date_string = '09.05.2018  09:00'"
   ]
  },
  {
   "cell_type": "code",
   "execution_count": 21,
   "metadata": {},
   "outputs": [
    {
     "data": {
      "text/plain": [
       "str"
      ]
     },
     "execution_count": 21,
     "metadata": {},
     "output_type": "execute_result"
    }
   ],
   "source": [
    "# сейчас date_string это просто строка\n",
    "type(date_string)"
   ]
  },
  {
   "cell_type": "code",
   "execution_count": 31,
   "metadata": {},
   "outputs": [
    {
     "data": {
      "text/plain": [
       "'09.05.2018'"
      ]
     },
     "execution_count": 31,
     "metadata": {},
     "output_type": "execute_result"
    }
   ],
   "source": [
    "date_string[:10]"
   ]
  },
  {
   "cell_type": "code",
   "execution_count": 38,
   "metadata": {},
   "outputs": [
    {
     "data": {
      "text/plain": [
       "datetime.datetime(2018, 5, 9, 9, 0)"
      ]
     },
     "execution_count": 38,
     "metadata": {},
     "output_type": "execute_result"
    }
   ],
   "source": [
    "datetime.strptime('09.05.2018 09:00', '%d.%m.%Y %I:%M')"
   ]
  },
  {
   "cell_type": "code",
   "execution_count": null,
   "metadata": {},
   "outputs": [],
   "source": [
    "datetime.strptime('09.05.2018Z09:00', '%d.%m.%YZ%H:%M')"
   ]
  },
  {
   "cell_type": "code",
   "execution_count": 39,
   "metadata": {},
   "outputs": [
    {
     "data": {
      "text/plain": [
       "datetime.datetime(2018, 5, 9, 9, 0)"
      ]
     },
     "execution_count": 39,
     "metadata": {},
     "output_type": "execute_result"
    }
   ],
   "source": [
    "# https://docs.python.org/3/library/datetime.html\n",
    "\n",
    "date_datetime = datetime.strptime( date_string, '%d.%m.%Y %H:%M' )\n",
    "date_datetime"
   ]
  },
  {
   "cell_type": "code",
   "execution_count": 40,
   "metadata": {},
   "outputs": [
    {
     "data": {
      "text/plain": [
       "datetime.datetime"
      ]
     },
     "execution_count": 40,
     "metadata": {},
     "output_type": "execute_result"
    }
   ],
   "source": [
    "# теперь можем работать с датами\n",
    "type(date_datetime)"
   ]
  },
  {
   "cell_type": "code",
   "execution_count": 41,
   "metadata": {},
   "outputs": [
    {
     "data": {
      "text/plain": [
       "(2018, 9)"
      ]
     },
     "execution_count": 41,
     "metadata": {},
     "output_type": "execute_result"
    }
   ],
   "source": [
    "date_datetime.year, date_datetime.hour"
   ]
  },
  {
   "cell_type": "markdown",
   "metadata": {},
   "source": [
    "### Упражнение\n",
    "С помощью метода datetime.strptime переведите строку 'May 25 2017 5:00AM' в формат datetime."
   ]
  },
  {
   "cell_type": "code",
   "execution_count": 42,
   "metadata": {},
   "outputs": [
    {
     "data": {
      "text/plain": [
       "datetime.datetime(2017, 5, 25, 5, 0)"
      ]
     },
     "execution_count": 42,
     "metadata": {},
     "output_type": "execute_result"
    }
   ],
   "source": [
    "datetime.strptime('May 25 2017 5:00AM', '%B %d %Y %I:%M%p')"
   ]
  },
  {
   "cell_type": "code",
   "execution_count": 43,
   "metadata": {},
   "outputs": [
    {
     "data": {
      "text/plain": [
       "datetime.datetime(2017, 5, 25, 5, 0)"
      ]
     },
     "execution_count": 43,
     "metadata": {},
     "output_type": "execute_result"
    }
   ],
   "source": [
    "datetime.strptime('May 25 2017 5:00AM', '%B %d %Y %I:%M%p')"
   ]
  },
  {
   "cell_type": "code",
   "execution_count": 48,
   "metadata": {},
   "outputs": [
    {
     "data": {
      "text/plain": [
       "datetime.datetime(2017, 5, 25, 5, 0)"
      ]
     },
     "execution_count": 48,
     "metadata": {},
     "output_type": "execute_result"
    }
   ],
   "source": [
    "datetime.strptime('May 25 2017 5:00AM', '%b %d %Y %I:%M%p')"
   ]
  },
  {
   "cell_type": "code",
   "execution_count": null,
   "metadata": {},
   "outputs": [],
   "source": [
    "datetime.strptime('Мая 25 2017 5:00AM', '%B %d %Y %I:%M%p')"
   ]
  },
  {
   "cell_type": "code",
   "execution_count": null,
   "metadata": {},
   "outputs": [],
   "source": []
  },
  {
   "cell_type": "code",
   "execution_count": 49,
   "metadata": {},
   "outputs": [
    {
     "data": {
      "text/plain": [
       "datetime.datetime(2019, 5, 23, 20, 7, 7, 681410)"
      ]
     },
     "execution_count": 49,
     "metadata": {},
     "output_type": "execute_result"
    }
   ],
   "source": [
    "datetime.now()"
   ]
  },
  {
   "cell_type": "code",
   "execution_count": null,
   "metadata": {},
   "outputs": [],
   "source": [
    "UTC+3"
   ]
  },
  {
   "cell_type": "code",
   "execution_count": 50,
   "metadata": {},
   "outputs": [
    {
     "data": {
      "text/plain": [
       "datetime.datetime(2019, 5, 23, 20, 7, 14, 822555)"
      ]
     },
     "execution_count": 50,
     "metadata": {},
     "output_type": "execute_result"
    }
   ],
   "source": [
    "datetime.today()"
   ]
  },
  {
   "cell_type": "markdown",
   "metadata": {},
   "source": [
    "### Прибавление интервала к датам"
   ]
  },
  {
   "cell_type": "code",
   "execution_count": 51,
   "metadata": {},
   "outputs": [],
   "source": [
    "from datetime import timedelta"
   ]
  },
  {
   "cell_type": "code",
   "execution_count": 52,
   "metadata": {},
   "outputs": [],
   "source": [
    "start_date = '2018-01-01'\n",
    "end_date = '2018-01-07'"
   ]
  },
  {
   "cell_type": "code",
   "execution_count": 53,
   "metadata": {},
   "outputs": [
    {
     "data": {
      "text/plain": [
       "str"
      ]
     },
     "execution_count": 53,
     "metadata": {},
     "output_type": "execute_result"
    }
   ],
   "source": [
    "type(start_date)"
   ]
  },
  {
   "cell_type": "code",
   "execution_count": 54,
   "metadata": {},
   "outputs": [
    {
     "data": {
      "text/plain": [
       "datetime.datetime(2018, 1, 1, 0, 0)"
      ]
     },
     "execution_count": 54,
     "metadata": {},
     "output_type": "execute_result"
    }
   ],
   "source": [
    "start_date_datetime = datetime.strptime(start_date, '%Y-%m-%d')\n",
    "start_date_datetime"
   ]
  },
  {
   "cell_type": "code",
   "execution_count": 55,
   "metadata": {},
   "outputs": [
    {
     "data": {
      "text/plain": [
       "datetime.datetime(2018, 1, 2, 0, 0)"
      ]
     },
     "execution_count": 55,
     "metadata": {},
     "output_type": "execute_result"
    }
   ],
   "source": [
    "start_date_datetime + timedelta(days=1)"
   ]
  },
  {
   "cell_type": "code",
   "execution_count": 57,
   "metadata": {},
   "outputs": [
    {
     "data": {
      "text/plain": [
       "datetime.datetime(2017, 12, 31, 0, 0)"
      ]
     },
     "execution_count": 57,
     "metadata": {},
     "output_type": "execute_result"
    }
   ],
   "source": [
    "start_date_datetime + timedelta(days=-1)"
   ]
  },
  {
   "cell_type": "code",
   "execution_count": 59,
   "metadata": {},
   "outputs": [
    {
     "data": {
      "text/plain": [
       "datetime.datetime(2017, 12, 24, 23, 59)"
      ]
     },
     "execution_count": 59,
     "metadata": {},
     "output_type": "execute_result"
    }
   ],
   "source": [
    "start_date_datetime + timedelta(days=-7, minutes=-1)"
   ]
  },
  {
   "cell_type": "code",
   "execution_count": 60,
   "metadata": {},
   "outputs": [
    {
     "data": {
      "text/plain": [
       "0"
      ]
     },
     "execution_count": 60,
     "metadata": {},
     "output_type": "execute_result"
    }
   ],
   "source": [
    "start_date_datetime.weekday()"
   ]
  },
  {
   "cell_type": "markdown",
   "metadata": {},
   "source": [
    "### Упражнение\n",
    "Дана дата в формате '2018-09-01T09:30:00'. Прибавьте к ней 12 часов 15минут и 3 секунды."
   ]
  },
  {
   "cell_type": "code",
   "execution_count": 61,
   "metadata": {},
   "outputs": [],
   "source": [
    "date_str = '2018-09-01T09:30:00'"
   ]
  },
  {
   "cell_type": "code",
   "execution_count": null,
   "metadata": {},
   "outputs": [],
   "source": [
    "datetime.strptime(date_str, '%Y-%m-%dT%')"
   ]
  },
  {
   "cell_type": "code",
   "execution_count": 62,
   "metadata": {},
   "outputs": [
    {
     "data": {
      "text/plain": [
       "datetime.datetime(2018, 9, 1, 21, 45, 3)"
      ]
     },
     "execution_count": 62,
     "metadata": {},
     "output_type": "execute_result"
    }
   ],
   "source": [
    "a=datetime.strptime('2018-09-01T09:30:00', '%Y-%m-%dT%H:%M:%S')\n",
    "a+timedelta(hours=12,minutes=15,seconds=3)"
   ]
  },
  {
   "cell_type": "code",
   "execution_count": 63,
   "metadata": {},
   "outputs": [
    {
     "data": {
      "text/plain": [
       "datetime.datetime(2018, 9, 1, 21, 45, 3)"
      ]
     },
     "execution_count": 63,
     "metadata": {},
     "output_type": "execute_result"
    }
   ],
   "source": [
    "date_ = datetime.strptime('2018-09-01T09:30:00','%Y-%m-%dT%H:%M:%S')\n",
    "date_ + timedelta(hours=12, minutes=15, seconds=3)"
   ]
  },
  {
   "cell_type": "markdown",
   "metadata": {},
   "source": [
    "### Перевод обратно в строку"
   ]
  },
  {
   "cell_type": "code",
   "execution_count": 65,
   "metadata": {},
   "outputs": [
    {
     "data": {
      "text/plain": [
       "datetime.datetime(2018, 9, 1, 0, 0)"
      ]
     },
     "execution_count": 65,
     "metadata": {},
     "output_type": "execute_result"
    }
   ],
   "source": [
    "date = datetime(2018, 9, 1)\n",
    "date"
   ]
  },
  {
   "cell_type": "code",
   "execution_count": 66,
   "metadata": {},
   "outputs": [
    {
     "data": {
      "text/plain": [
       "'2018-09-01'"
      ]
     },
     "execution_count": 66,
     "metadata": {},
     "output_type": "execute_result"
    }
   ],
   "source": [
    "date.strftime('%Y-%m-%d')"
   ]
  },
  {
   "cell_type": "code",
   "execution_count": 67,
   "metadata": {
    "scrolled": true
   },
   "outputs": [
    {
     "data": {
      "text/plain": [
       "'September 01 2018 12:00AM'"
      ]
     },
     "execution_count": 67,
     "metadata": {},
     "output_type": "execute_result"
    }
   ],
   "source": [
    "date.strftime('%B %d %Y %I:%M%p')"
   ]
  },
  {
   "cell_type": "code",
   "execution_count": 68,
   "metadata": {},
   "outputs": [
    {
     "data": {
      "text/plain": [
       "'2018-09-01'"
      ]
     },
     "execution_count": 68,
     "metadata": {},
     "output_type": "execute_result"
    }
   ],
   "source": [
    "# внезапно\n",
    "\n",
    "date.strftime('%Y-%m-01')"
   ]
  },
  {
   "cell_type": "code",
   "execution_count": 69,
   "metadata": {},
   "outputs": [
    {
     "data": {
      "text/plain": [
       "('2018-01-01', '2018-01-07')"
      ]
     },
     "execution_count": 69,
     "metadata": {},
     "output_type": "execute_result"
    }
   ],
   "source": [
    "start_date, end_date"
   ]
  },
  {
   "cell_type": "code",
   "execution_count": 70,
   "metadata": {},
   "outputs": [
    {
     "name": "stdout",
     "output_type": "stream",
     "text": [
      "2018-01-01 00:00:00 2018-01-07 00:00:00\n"
     ]
    }
   ],
   "source": [
    "start_date_dt = datetime.strptime(start_date, '%Y-%m-%d')\n",
    "end_date_dt = datetime.strptime(end_date, '%Y-%m-%d')\n",
    "\n",
    "print(start_date_dt, end_date_dt)"
   ]
  },
  {
   "cell_type": "code",
   "execution_count": 71,
   "metadata": {},
   "outputs": [
    {
     "data": {
      "text/plain": [
       "datetime.datetime(2018, 1, 1, 0, 0)"
      ]
     },
     "execution_count": 71,
     "metadata": {},
     "output_type": "execute_result"
    }
   ],
   "source": [
    "start_date_dt"
   ]
  },
  {
   "cell_type": "code",
   "execution_count": 72,
   "metadata": {},
   "outputs": [
    {
     "name": "stdout",
     "output_type": "stream",
     "text": [
      "1\n",
      "2\n",
      "3\n",
      "4\n",
      "5\n",
      "6\n",
      "7\n",
      "8\n",
      "9\n",
      "10\n"
     ]
    }
   ],
   "source": [
    "i = 0\n",
    "\n",
    "while i < 10:\n",
    "    # ...\n",
    "    i += 1\n",
    "    print(i)"
   ]
  },
  {
   "cell_type": "code",
   "execution_count": 73,
   "metadata": {
    "scrolled": true
   },
   "outputs": [
    {
     "name": "stdout",
     "output_type": "stream",
     "text": [
      "2018-01-01\n",
      "2018-01-02\n",
      "2018-01-03\n",
      "2018-01-04\n",
      "2018-01-05\n",
      "2018-01-06\n",
      "2018-01-07\n"
     ]
    }
   ],
   "source": [
    "current_dt = start_date_dt\n",
    "\n",
    "while current_dt <= end_date_dt:\n",
    "    print(current_dt.strftime('%Y-%m-%d'))\n",
    "    \n",
    "    current_dt += timedelta(days=1)"
   ]
  },
  {
   "cell_type": "code",
   "execution_count": null,
   "metadata": {},
   "outputs": [],
   "source": [
    "current_dt = start_date_dt\n",
    "\n",
    "while current_dt.strftime('%Y-%m-%d') <= end_date:\n",
    "    print(current_dt.strftime('%Y-%m-%d'))\n",
    "    \n",
    "    current_dt += timedelta(days=1)"
   ]
  },
  {
   "cell_type": "code",
   "execution_count": null,
   "metadata": {},
   "outputs": [],
   "source": [
    "for current_dt in range(start_date_dt, end_date_dt, timedelta):\n",
    "    print(current_dt)"
   ]
  },
  {
   "cell_type": "code",
   "execution_count": 78,
   "metadata": {},
   "outputs": [
    {
     "data": {
      "text/plain": [
       "['2018-01-01',\n",
       " '2018-01-02',\n",
       " '2018-01-03',\n",
       " '2018-01-04',\n",
       " '2018-01-05',\n",
       " '2018-01-06',\n",
       " '2018-01-07',\n",
       " '2018-01-08',\n",
       " '2018-01-09',\n",
       " '2018-01-10']"
      ]
     },
     "execution_count": 78,
     "metadata": {},
     "output_type": "execute_result"
    }
   ],
   "source": [
    "[(start_date_dt + timedelta(days=x)).strftime('%Y-%m-%d') for x in range(10)]"
   ]
  },
  {
   "cell_type": "markdown",
   "metadata": {},
   "source": [
    "### Упражнение\n",
    "Напишите алгоритм, который \"пробегает\" период 1 до 7 сентября по часам. Формат вывода '06.01.2018 23:00:00'."
   ]
  },
  {
   "cell_type": "code",
   "execution_count": 79,
   "metadata": {},
   "outputs": [
    {
     "name": "stdout",
     "output_type": "stream",
     "text": [
      "01.09.2019 00:00:00\n",
      "01.09.2019 01:00:00\n",
      "01.09.2019 02:00:00\n",
      "01.09.2019 03:00:00\n",
      "01.09.2019 04:00:00\n",
      "01.09.2019 05:00:00\n",
      "01.09.2019 06:00:00\n",
      "01.09.2019 07:00:00\n",
      "01.09.2019 08:00:00\n",
      "01.09.2019 09:00:00\n",
      "01.09.2019 10:00:00\n",
      "01.09.2019 11:00:00\n",
      "01.09.2019 12:00:00\n",
      "01.09.2019 13:00:00\n",
      "01.09.2019 14:00:00\n",
      "01.09.2019 15:00:00\n",
      "01.09.2019 16:00:00\n",
      "01.09.2019 17:00:00\n",
      "01.09.2019 18:00:00\n",
      "01.09.2019 19:00:00\n",
      "01.09.2019 20:00:00\n",
      "01.09.2019 21:00:00\n",
      "01.09.2019 22:00:00\n",
      "01.09.2019 23:00:00\n",
      "02.09.2019 00:00:00\n",
      "02.09.2019 01:00:00\n",
      "02.09.2019 02:00:00\n",
      "02.09.2019 03:00:00\n",
      "02.09.2019 04:00:00\n",
      "02.09.2019 05:00:00\n",
      "02.09.2019 06:00:00\n",
      "02.09.2019 07:00:00\n",
      "02.09.2019 08:00:00\n",
      "02.09.2019 09:00:00\n",
      "02.09.2019 10:00:00\n",
      "02.09.2019 11:00:00\n",
      "02.09.2019 12:00:00\n",
      "02.09.2019 13:00:00\n",
      "02.09.2019 14:00:00\n",
      "02.09.2019 15:00:00\n",
      "02.09.2019 16:00:00\n",
      "02.09.2019 17:00:00\n",
      "02.09.2019 18:00:00\n",
      "02.09.2019 19:00:00\n",
      "02.09.2019 20:00:00\n",
      "02.09.2019 21:00:00\n",
      "02.09.2019 22:00:00\n",
      "02.09.2019 23:00:00\n",
      "03.09.2019 00:00:00\n",
      "03.09.2019 01:00:00\n",
      "03.09.2019 02:00:00\n",
      "03.09.2019 03:00:00\n",
      "03.09.2019 04:00:00\n",
      "03.09.2019 05:00:00\n",
      "03.09.2019 06:00:00\n",
      "03.09.2019 07:00:00\n",
      "03.09.2019 08:00:00\n",
      "03.09.2019 09:00:00\n",
      "03.09.2019 10:00:00\n",
      "03.09.2019 11:00:00\n",
      "03.09.2019 12:00:00\n",
      "03.09.2019 13:00:00\n",
      "03.09.2019 14:00:00\n",
      "03.09.2019 15:00:00\n",
      "03.09.2019 16:00:00\n",
      "03.09.2019 17:00:00\n",
      "03.09.2019 18:00:00\n",
      "03.09.2019 19:00:00\n",
      "03.09.2019 20:00:00\n",
      "03.09.2019 21:00:00\n",
      "03.09.2019 22:00:00\n",
      "03.09.2019 23:00:00\n",
      "04.09.2019 00:00:00\n",
      "04.09.2019 01:00:00\n",
      "04.09.2019 02:00:00\n",
      "04.09.2019 03:00:00\n",
      "04.09.2019 04:00:00\n",
      "04.09.2019 05:00:00\n",
      "04.09.2019 06:00:00\n",
      "04.09.2019 07:00:00\n",
      "04.09.2019 08:00:00\n",
      "04.09.2019 09:00:00\n",
      "04.09.2019 10:00:00\n",
      "04.09.2019 11:00:00\n",
      "04.09.2019 12:00:00\n",
      "04.09.2019 13:00:00\n",
      "04.09.2019 14:00:00\n",
      "04.09.2019 15:00:00\n",
      "04.09.2019 16:00:00\n",
      "04.09.2019 17:00:00\n",
      "04.09.2019 18:00:00\n",
      "04.09.2019 19:00:00\n",
      "04.09.2019 20:00:00\n",
      "04.09.2019 21:00:00\n",
      "04.09.2019 22:00:00\n",
      "04.09.2019 23:00:00\n",
      "05.09.2019 00:00:00\n",
      "05.09.2019 01:00:00\n",
      "05.09.2019 02:00:00\n",
      "05.09.2019 03:00:00\n",
      "05.09.2019 04:00:00\n",
      "05.09.2019 05:00:00\n",
      "05.09.2019 06:00:00\n",
      "05.09.2019 07:00:00\n",
      "05.09.2019 08:00:00\n",
      "05.09.2019 09:00:00\n",
      "05.09.2019 10:00:00\n",
      "05.09.2019 11:00:00\n",
      "05.09.2019 12:00:00\n",
      "05.09.2019 13:00:00\n",
      "05.09.2019 14:00:00\n",
      "05.09.2019 15:00:00\n",
      "05.09.2019 16:00:00\n",
      "05.09.2019 17:00:00\n",
      "05.09.2019 18:00:00\n",
      "05.09.2019 19:00:00\n",
      "05.09.2019 20:00:00\n",
      "05.09.2019 21:00:00\n",
      "05.09.2019 22:00:00\n",
      "05.09.2019 23:00:00\n",
      "06.09.2019 00:00:00\n",
      "06.09.2019 01:00:00\n",
      "06.09.2019 02:00:00\n",
      "06.09.2019 03:00:00\n",
      "06.09.2019 04:00:00\n",
      "06.09.2019 05:00:00\n",
      "06.09.2019 06:00:00\n",
      "06.09.2019 07:00:00\n",
      "06.09.2019 08:00:00\n",
      "06.09.2019 09:00:00\n",
      "06.09.2019 10:00:00\n",
      "06.09.2019 11:00:00\n",
      "06.09.2019 12:00:00\n",
      "06.09.2019 13:00:00\n",
      "06.09.2019 14:00:00\n",
      "06.09.2019 15:00:00\n",
      "06.09.2019 16:00:00\n",
      "06.09.2019 17:00:00\n",
      "06.09.2019 18:00:00\n",
      "06.09.2019 19:00:00\n",
      "06.09.2019 20:00:00\n",
      "06.09.2019 21:00:00\n",
      "06.09.2019 22:00:00\n",
      "06.09.2019 23:00:00\n",
      "07.09.2019 00:00:00\n"
     ]
    }
   ],
   "source": [
    "start_date, end_date = '2019-09-01', '2019-09-07'\n",
    "\n",
    "start_date_dt = datetime.strptime(start_date, '%Y-%m-%d')\n",
    "end_date_dt = datetime.strptime(end_date, '%Y-%m-%d')\n",
    "\n",
    "current_dt = start_date_dt\n",
    "\n",
    "while current_dt <= end_date_dt:\n",
    "    print(current_dt.strftime('%d.%m.%Y %H:%M:%S'))\n",
    "    \n",
    "    current_dt += timedelta(hours=1)"
   ]
  },
  {
   "cell_type": "code",
   "execution_count": 80,
   "metadata": {},
   "outputs": [
    {
     "name": "stdout",
     "output_type": "stream",
     "text": [
      "01.09.2019 00:00:00\n",
      "01.09.2019 01:00:00\n",
      "01.09.2019 02:00:00\n",
      "01.09.2019 03:00:00\n",
      "01.09.2019 04:00:00\n",
      "01.09.2019 05:00:00\n",
      "01.09.2019 06:00:00\n",
      "01.09.2019 07:00:00\n",
      "01.09.2019 08:00:00\n",
      "01.09.2019 09:00:00\n",
      "01.09.2019 10:00:00\n",
      "01.09.2019 11:00:00\n",
      "01.09.2019 12:00:00\n",
      "01.09.2019 13:00:00\n",
      "01.09.2019 14:00:00\n",
      "01.09.2019 15:00:00\n",
      "01.09.2019 16:00:00\n",
      "01.09.2019 17:00:00\n",
      "01.09.2019 18:00:00\n",
      "01.09.2019 19:00:00\n",
      "01.09.2019 20:00:00\n",
      "01.09.2019 21:00:00\n",
      "01.09.2019 22:00:00\n",
      "01.09.2019 23:00:00\n",
      "02.09.2019 00:00:00\n",
      "02.09.2019 01:00:00\n",
      "02.09.2019 02:00:00\n",
      "02.09.2019 03:00:00\n",
      "02.09.2019 04:00:00\n",
      "02.09.2019 05:00:00\n",
      "02.09.2019 06:00:00\n",
      "02.09.2019 07:00:00\n",
      "02.09.2019 08:00:00\n",
      "02.09.2019 09:00:00\n",
      "02.09.2019 10:00:00\n",
      "02.09.2019 11:00:00\n",
      "02.09.2019 12:00:00\n",
      "02.09.2019 13:00:00\n",
      "02.09.2019 14:00:00\n",
      "02.09.2019 15:00:00\n",
      "02.09.2019 16:00:00\n",
      "02.09.2019 17:00:00\n",
      "02.09.2019 18:00:00\n",
      "02.09.2019 19:00:00\n",
      "02.09.2019 20:00:00\n",
      "02.09.2019 21:00:00\n",
      "02.09.2019 22:00:00\n",
      "02.09.2019 23:00:00\n",
      "03.09.2019 00:00:00\n",
      "03.09.2019 01:00:00\n",
      "03.09.2019 02:00:00\n",
      "03.09.2019 03:00:00\n",
      "03.09.2019 04:00:00\n",
      "03.09.2019 05:00:00\n",
      "03.09.2019 06:00:00\n",
      "03.09.2019 07:00:00\n",
      "03.09.2019 08:00:00\n",
      "03.09.2019 09:00:00\n",
      "03.09.2019 10:00:00\n",
      "03.09.2019 11:00:00\n",
      "03.09.2019 12:00:00\n",
      "03.09.2019 13:00:00\n",
      "03.09.2019 14:00:00\n",
      "03.09.2019 15:00:00\n",
      "03.09.2019 16:00:00\n",
      "03.09.2019 17:00:00\n",
      "03.09.2019 18:00:00\n",
      "03.09.2019 19:00:00\n",
      "03.09.2019 20:00:00\n",
      "03.09.2019 21:00:00\n",
      "03.09.2019 22:00:00\n",
      "03.09.2019 23:00:00\n",
      "04.09.2019 00:00:00\n",
      "04.09.2019 01:00:00\n",
      "04.09.2019 02:00:00\n",
      "04.09.2019 03:00:00\n",
      "04.09.2019 04:00:00\n",
      "04.09.2019 05:00:00\n",
      "04.09.2019 06:00:00\n",
      "04.09.2019 07:00:00\n",
      "04.09.2019 08:00:00\n",
      "04.09.2019 09:00:00\n",
      "04.09.2019 10:00:00\n",
      "04.09.2019 11:00:00\n",
      "04.09.2019 12:00:00\n",
      "04.09.2019 13:00:00\n",
      "04.09.2019 14:00:00\n",
      "04.09.2019 15:00:00\n",
      "04.09.2019 16:00:00\n",
      "04.09.2019 17:00:00\n",
      "04.09.2019 18:00:00\n",
      "04.09.2019 19:00:00\n",
      "04.09.2019 20:00:00\n",
      "04.09.2019 21:00:00\n",
      "04.09.2019 22:00:00\n",
      "04.09.2019 23:00:00\n",
      "05.09.2019 00:00:00\n",
      "05.09.2019 01:00:00\n",
      "05.09.2019 02:00:00\n",
      "05.09.2019 03:00:00\n",
      "05.09.2019 04:00:00\n",
      "05.09.2019 05:00:00\n",
      "05.09.2019 06:00:00\n",
      "05.09.2019 07:00:00\n",
      "05.09.2019 08:00:00\n",
      "05.09.2019 09:00:00\n",
      "05.09.2019 10:00:00\n",
      "05.09.2019 11:00:00\n",
      "05.09.2019 12:00:00\n",
      "05.09.2019 13:00:00\n",
      "05.09.2019 14:00:00\n",
      "05.09.2019 15:00:00\n",
      "05.09.2019 16:00:00\n",
      "05.09.2019 17:00:00\n",
      "05.09.2019 18:00:00\n",
      "05.09.2019 19:00:00\n",
      "05.09.2019 20:00:00\n",
      "05.09.2019 21:00:00\n",
      "05.09.2019 22:00:00\n",
      "05.09.2019 23:00:00\n",
      "06.09.2019 00:00:00\n",
      "06.09.2019 01:00:00\n",
      "06.09.2019 02:00:00\n",
      "06.09.2019 03:00:00\n",
      "06.09.2019 04:00:00\n",
      "06.09.2019 05:00:00\n",
      "06.09.2019 06:00:00\n",
      "06.09.2019 07:00:00\n",
      "06.09.2019 08:00:00\n",
      "06.09.2019 09:00:00\n",
      "06.09.2019 10:00:00\n",
      "06.09.2019 11:00:00\n",
      "06.09.2019 12:00:00\n",
      "06.09.2019 13:00:00\n",
      "06.09.2019 14:00:00\n",
      "06.09.2019 15:00:00\n",
      "06.09.2019 16:00:00\n",
      "06.09.2019 17:00:00\n",
      "06.09.2019 18:00:00\n",
      "06.09.2019 19:00:00\n",
      "06.09.2019 20:00:00\n",
      "06.09.2019 21:00:00\n",
      "06.09.2019 22:00:00\n",
      "06.09.2019 23:00:00\n",
      "07.09.2019 00:00:00\n"
     ]
    }
   ],
   "source": [
    "start_date, end_date = '2019-09-01','2019-09-07'\n",
    "\n",
    "start_date_dt = datetime.strptime(start_date, '%Y-%m-%d')\n",
    "end_date_dt = datetime.strptime(end_date, '%Y-%m-%d')\n",
    "\n",
    "current_dt = start_date_dt\n",
    "\n",
    "while current_dt <= end_date_dt:    \n",
    "    print(current_dt.strftime('%d.%m.%Y %H:%M:%S'))        \n",
    "    current_dt += timedelta(hours=1)"
   ]
  },
  {
   "cell_type": "code",
   "execution_count": null,
   "metadata": {},
   "outputs": [],
   "source": []
  },
  {
   "cell_type": "markdown",
   "metadata": {},
   "source": [
    "### Нагрузка на систему по часам"
   ]
  },
  {
   "cell_type": "code",
   "execution_count": 81,
   "metadata": {},
   "outputs": [
    {
     "name": "stdout",
     "output_type": "stream",
     "text": [
      "2018-04-30T21:37:41Z\n",
      "2018-04-30 21:37:41\n"
     ]
    },
    {
     "data": {
      "text/plain": [
       "{}"
      ]
     },
     "execution_count": 81,
     "metadata": {},
     "output_type": "execute_result"
    }
   ],
   "source": [
    "stats = {}\n",
    "\n",
    "with open('logs.csv', 'r') as f:\n",
    "    for line in f:\n",
    "        line = line.strip()\n",
    "        print(line)\n",
    "        \n",
    "        dt = datetime.strptime(line, '%Y-%m-%dT%H:%M:%SZ')\n",
    "        dt.hour\n",
    "        print(dt)\n",
    "        break\n",
    "        \n",
    "        # вычисления нагрузки на систему...\n",
    "        \n",
    "# результат\n",
    "stats"
   ]
  },
  {
   "cell_type": "code",
   "execution_count": 82,
   "metadata": {},
   "outputs": [],
   "source": [
    "line = '2018-04-30T21:37:41Z'"
   ]
  },
  {
   "cell_type": "code",
   "execution_count": 89,
   "metadata": {},
   "outputs": [
    {
     "data": {
      "text/plain": [
       "'21'"
      ]
     },
     "execution_count": 89,
     "metadata": {},
     "output_type": "execute_result"
    }
   ],
   "source": [
    "line.split('T')[1][:2]"
   ]
  },
  {
   "cell_type": "code",
   "execution_count": 86,
   "metadata": {},
   "outputs": [
    {
     "data": {
      "text/plain": [
       "'21'"
      ]
     },
     "execution_count": 86,
     "metadata": {},
     "output_type": "execute_result"
    }
   ],
   "source": [
    "line[11:13]"
   ]
  },
  {
   "cell_type": "code",
   "execution_count": null,
   "metadata": {},
   "outputs": [],
   "source": [
    "# а в процентном соотношении?\n"
   ]
  },
  {
   "cell_type": "code",
   "execution_count": null,
   "metadata": {},
   "outputs": [],
   "source": []
  },
  {
   "cell_type": "code",
   "execution_count": null,
   "metadata": {},
   "outputs": [],
   "source": []
  },
  {
   "cell_type": "code",
   "execution_count": null,
   "metadata": {},
   "outputs": [],
   "source": []
  },
  {
   "cell_type": "markdown",
   "metadata": {},
   "source": [
    "###  Unixtime\n",
    "Количество секунд, прошедших с 1 января 1970 года по UTC"
   ]
  },
  {
   "cell_type": "code",
   "execution_count": 90,
   "metadata": {},
   "outputs": [],
   "source": [
    "import time\n",
    "from datetime import date\n",
    "from datetime import datetime"
   ]
  },
  {
   "cell_type": "code",
   "execution_count": 91,
   "metadata": {},
   "outputs": [
    {
     "data": {
      "text/plain": [
       "1552251600.0"
      ]
     },
     "execution_count": 91,
     "metadata": {},
     "output_type": "execute_result"
    }
   ],
   "source": [
    "d = date(2019, 3, 11)\n",
    "\n",
    "unixtime = time.mktime(d.timetuple())\n",
    "unixtime"
   ]
  },
  {
   "cell_type": "code",
   "execution_count": 92,
   "metadata": {},
   "outputs": [],
   "source": [
    "from datetime import datetime"
   ]
  },
  {
   "cell_type": "code",
   "execution_count": 93,
   "metadata": {},
   "outputs": [
    {
     "data": {
      "text/plain": [
       "datetime.datetime(2019, 3, 11, 0, 0)"
      ]
     },
     "execution_count": 93,
     "metadata": {},
     "output_type": "execute_result"
    }
   ],
   "source": [
    "datetime.fromtimestamp(1552251600)"
   ]
  },
  {
   "cell_type": "markdown",
   "metadata": {},
   "source": [
    "На практике все сложнее https://habr.com/ru/post/452584/"
   ]
  },
  {
   "cell_type": "code",
   "execution_count": null,
   "metadata": {},
   "outputs": [],
   "source": []
  }
 ],
 "metadata": {
  "kernelspec": {
   "display_name": "Python 3.7.1 64-bit",
   "language": "python",
   "name": "python3"
  },
  "language_info": {
   "codemirror_mode": {
    "name": "ipython",
    "version": 3
   },
   "file_extension": ".py",
   "mimetype": "text/x-python",
   "name": "python",
   "nbconvert_exporter": "python",
   "pygments_lexer": "ipython3",
   "version": "3.7.1"
  },
  "vscode": {
   "interpreter": {
    "hash": "fbe58ca63fe33f9eeae9e71d10368d2b4a57f2b1b395836210cc60d362c66949"
   }
  }
 },
 "nbformat": 4,
 "nbformat_minor": 2
}
