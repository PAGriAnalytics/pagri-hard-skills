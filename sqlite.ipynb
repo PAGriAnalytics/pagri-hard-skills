{
 "cells": [
  {
   "cell_type": "markdown",
   "metadata": {},
   "source": [
    "https://sqlitebrowser.org/"
   ]
  },
  {
   "cell_type": "markdown",
   "metadata": {},
   "source": [
    "## Работа с БД: SQLite3\n",
    "sqlite3 - либа для работы с реляционными СУБД. Реляционные СУБД представляют собой таблицы, которые соединяются друг с другом с помощью ключей. Ключ - это поле, значение которого в одной таблице совпадает со значением в другой таблице."
   ]
  },
  {
   "cell_type": "markdown",
   "metadata": {},
   "source": [
    "SQLite - это компактная и легкая встраиваемая база данных, которая позволяет хранить и управлять данными прямо внутри вашего приложения.   \n",
    "Её простота в использовании и широкая поддержка делают её прекрасным выбором для различных проектов, включая веб-приложения, мобильные приложения и многое другое."
   ]
  },
  {
   "cell_type": "code",
   "execution_count": 18,
   "metadata": {},
   "outputs": [],
   "source": [
    "import sqlite3 as sq\n",
    "with sq.connect('sqlite.db') as con:\n",
    "    cur = con.cursor()\n",
    "\n",
    "    query = '''\n",
    "        DROP TABLE IF EXISTS users\n",
    "    '''\n",
    "    cur.execute(query)\n",
    "    query = '''\n",
    "        CREATE TABLE IF NOT EXISTS users (\n",
    "        user_id INTEGER PRIMARY KEY AUTOINCREMENT NOT NULL,\n",
    "        name VARCHAR NOT NULL,\n",
    "        sex INTEGER NOT NULL DEFAULT 1,\n",
    "        old INTEGER,\n",
    "        score INTEGER)\n",
    "    '''\n",
    "    cur.execute(query)\n",
    "\n"
   ]
  },
  {
   "cell_type": "code",
   "execution_count": 14,
   "metadata": {},
   "outputs": [
    {
     "name": "stdout",
     "output_type": "stream",
     "text": [
      "Типизация connection <class 'sqlite3.Connection'>, типизация cursor <class 'sqlite3.Cursor'>\n",
      "\n",
      "Выполняем INSERT в базу...\n",
      "Выполнили INSERT, закрываем соединение\n"
     ]
    }
   ],
   "source": [
    "import sqlite3\n",
    "import csv\n",
    "\n",
    "with sqlite3.connect('my_database.db') as conn:\n",
    "    c = conn.cursor()\n",
    "    print(\"Типизация connection {}, типизация cursor {}\\n\".format(type(conn), type(c)))\n",
    "\n",
    "    # Create table\n",
    "    c.execute('''DROP TABLE IF EXISTS jira_task''')\n",
    "    c.execute('''CREATE TABLE jira_task (value real, experimentVariant text)''')\n",
    "    with open('hw_bootstrap.csv','r') as fin: # т.н. менеджер контекста, аналогично уроку про чтение из файлов в python \n",
    "        # csv.DictReader использует первую строку текстового файла как заголовки столбцов по умолчанию\n",
    "        dr = csv.reader(fin, delimiter=';') # запятая - разделитель полей по умолчанию\n",
    "        next(dr, None)  # пропускаем заголовок\n",
    "        dataset = [(i[1], i[2]) for i in dr]\n",
    "\n",
    "    print(\"Выполняем INSERT в базу...\")\n",
    "    c.executemany(\"INSERT INTO jira_task VALUES (?, ?);\", dataset)\n",
    "    print(\"Выполнили INSERT, закрываем соединение\")\n",
    "    conn.commit()"
   ]
  },
  {
   "cell_type": "markdown",
   "metadata": {},
   "source": [
    "После того, как таблицы созданы, можно читать из них данные"
   ]
  },
  {
   "cell_type": "code",
   "execution_count": 15,
   "metadata": {},
   "outputs": [
    {
     "name": "stdout",
     "output_type": "stream",
     "text": [
      "Открываем соединение с БД и читаем данные...\n",
      "\n",
      "('9,77311267424938', 'Treatment')\n",
      "('9,31124557661141', 'Treatment')\n",
      "('11,1728280618157', 'Treatment')\n",
      "('11,6245100581039', 'Treatment')\n",
      "('10,4623312287876', 'Treatment')\n",
      "('10,3811435221337', 'Treatment')\n",
      "('11,5479241097813', 'Treatment')\n",
      "('11,6017357847944', 'Treatment')\n",
      "('10,1714644311471', 'Treatment')\n",
      "('12,1911555744297', 'Treatment')\n",
      "\n",
      "Типизация строки <class 'tuple'>\n"
     ]
    }
   ],
   "source": [
    "print(\"Открываем соединение с БД и читаем данные...\\n\")\n",
    "with sqlite3.connect('my_database.db') as conn:\n",
    "        c = conn.cursor()\n",
    "        some_row = None\n",
    "        for row in c.execute('SELECT * FROM jira_task LIMIT 10;'):\n",
    "                print(row)\n",
    "                some_row = row\n",
    "        conn.close()\n",
    "        print(\"\\nТипизация строки %s\" % type(row))"
   ]
  }
 ],
 "metadata": {
  "kernelspec": {
   "display_name": "Python 3.7.1 64-bit",
   "language": "python",
   "name": "python3"
  },
  "language_info": {
   "codemirror_mode": {
    "name": "ipython",
    "version": 3
   },
   "file_extension": ".py",
   "mimetype": "text/x-python",
   "name": "python",
   "nbconvert_exporter": "python",
   "pygments_lexer": "ipython3",
   "version": "3.7.1"
  },
  "vscode": {
   "interpreter": {
    "hash": "fbe58ca63fe33f9eeae9e71d10368d2b4a57f2b1b395836210cc60d362c66949"
   }
  }
 },
 "nbformat": 4,
 "nbformat_minor": 2
}
