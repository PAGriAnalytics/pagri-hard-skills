{
 "cells": [
  {
   "cell_type": "markdown",
   "metadata": {},
   "source": [
    "## Termcolor"
   ]
  },
  {
   "cell_type": "markdown",
   "metadata": {},
   "source": [
    "Termcolor - это пакет Python для цветового форматирования ANSII для вывода текста в терминале. "
   ]
  },
  {
   "cell_type": "code",
   "execution_count": null,
   "metadata": {},
   "outputs": [],
   "source": [
    "!pip install termcolor"
   ]
  },
  {
   "cell_type": "code",
   "execution_count": 2,
   "metadata": {},
   "outputs": [
    {
     "name": "stdout",
     "output_type": "stream",
     "text": [
      "Привет мир!\n",
      "Привет мир!\n",
      "Привет, всем!\n",
      "Вывод с помощью cprint\n"
     ]
    }
   ],
   "source": [
    "from termcolor import colored, cprint\n",
    "print(colored('Привет мир!', 'red', attrs=['underline']))\n",
    "print(colored('Привет', 'red', attrs=['underline']), colored('мир!', 'green'))\n",
    "print('Привет, всем!')\n",
    "cprint('Вывод с помощью cprint', 'green', 'on_blue')"
   ]
  },
  {
   "cell_type": "markdown",
   "metadata": {},
   "source": [
    "## Numba "
   ]
  },
  {
   "cell_type": "markdown",
   "metadata": {},
   "source": [
    "\n",
    "https://numba.pydata.org/  \n",
    "транслирует функцию в C  \n",
    "Функцию нужно декарировать с помощью декоратора @git  \n",
    "Особенно сильно ускореят, если в функции есть циклы  \n",
    "например, мы декарируем функция и эта функция сначала скомпилируется в С и потом уже выполнится   \n",
    "jit (just in time)  \n",
    "Важно, чтобы добиться ускорения, на вход функции должен приходить numpy array  \n",
    "Поэтому pandas series нужно преобразовывать перед передачей в функцию "
   ]
  },
  {
   "cell_type": "markdown",
   "metadata": {},
   "source": [
    "то есть, в функцию передаем `df.column_name.values`"
   ]
  },
  {
   "cell_type": "code",
   "execution_count": 1,
   "metadata": {},
   "outputs": [
    {
     "name": "stdout",
     "output_type": "stream",
     "text": [
      "^C\n"
     ]
    }
   ],
   "source": [
    "!pip uninstall numba"
   ]
  },
  {
   "cell_type": "code",
   "execution_count": 5,
   "metadata": {},
   "outputs": [],
   "source": [
    "from numba import njit\n",
    "import random\n",
    "import numpy as np\n",
    "import pandas as pd\n",
    "import numba\n",
    "\n",
    "@njit\n",
    "def monte_carlo_pi(nsamples):\n",
    "    acc = 0\n",
    "    for i in range(nsamples):\n",
    "        x = random.random()\n",
    "        y = random.random()\n",
    "        if (x ** 2 + y ** 2) < 1.0:\n",
    "            acc += 1\n",
    "    return 4.0 * acc / nsamples"
   ]
  },
  {
   "cell_type": "code",
   "execution_count": 2,
   "metadata": {},
   "outputs": [],
   "source": [
    "@njit(parallel=True)\n",
    "def logistic_regression(Y, X, w, iterations):\n",
    "    for i in range(iterations):\n",
    "        w -= np.dot(((1.0 /\n",
    "              (1.0 + np.exp(-Y * np.dot(X, w)))\n",
    "              - 1.0) * Y), X)\n",
    "    return w"
   ]
  },
  {
   "cell_type": "markdown",
   "metadata": {},
   "source": [
    "Смоделируем типичную ситуацию — нужно добавить новую колонку, применив какую-то функцию к уже существующей с помощью метода apply."
   ]
  },
  {
   "cell_type": "code",
   "execution_count": 9,
   "metadata": {},
   "outputs": [
    {
     "name": "stdout",
     "output_type": "stream",
     "text": [
      "105 ms ± 11.6 ms per loop (mean ± std. dev. of 7 runs, 10 loops each)\n",
      "2.2 ms ± 395 µs per loop (mean ± std. dev. of 7 runs, 100 loops each)\n",
      "2.68 ms ± 994 µs per loop (mean ± std. dev. of 7 runs, 1 loop each)\n"
     ]
    }
   ],
   "source": [
    "# создадим таблицу в 100 000 строк и 4 колонки, заполненную случайными числами от 0 до 100\n",
    "df = pd.DataFrame(np.random.randint(0,100,size=(100000, 4)),columns=['a', 'b', 'c', 'd'])\n",
    "\n",
    "# функция для создания новой колонки\n",
    "def multiply(x):\n",
    "    return x * 5\n",
    "    \n",
    "# оптимизированная с помощью numba версия\n",
    "@numba.vectorize\n",
    "def multiply_numba(x):\n",
    "    return x * 5\n",
    "\n",
    "# наша функция\n",
    "%timeit df['new_col'] = df['a'].apply(multiply)\n",
    "\n",
    "# встроенная имплементация Pandas\n",
    "%timeit df['new_col'] = df['a'] * 5\n",
    "\n",
    "# наша функция с numba\n",
    "# мы отдаем весь вектор значений, чтобы numba сам провел оптимизацию цикла\n",
    "%timeit df['new_col'] = multiply_numba(df['a'].to_numpy())"
   ]
  },
  {
   "cell_type": "markdown",
   "metadata": {},
   "source": [
    "В принципе пандас неплохо справился, но   \n",
    "если будет посложнее"
   ]
  },
  {
   "cell_type": "code",
   "execution_count": 10,
   "metadata": {},
   "outputs": [
    {
     "name": "stdout",
     "output_type": "stream",
     "text": [
      "47.5 s ± 7.18 s per loop (mean ± std. dev. of 7 runs, 1 loop each)\n",
      "12.4 ms ± 799 µs per loop (mean ± std. dev. of 7 runs, 1 loop each)\n"
     ]
    }
   ],
   "source": [
    "# возводим значения строки в квадрат и берем их среднее \n",
    "def square_mean(row):\n",
    "    row = np.power(row, 2)\n",
    "    return np.mean(row)\n",
    "\n",
    "%timeit df['new_col'] = df.apply(square_mean, axis=1)\n",
    "\n",
    "\n",
    "@numba.njit\n",
    "def square_mean_numba(arr):\n",
    "    res = np.empty(arr.shape[0])\n",
    "    arr = np.power(arr, 2)\n",
    "    for i in range(arr.shape[0]):\n",
    "        res[i] = np.mean(arr[i])\n",
    "    return res\n",
    "\n",
    "# numba не умеет работать с примитивами pandas (Dataframe, Series и тд.)\n",
    "# поэтому мы даем ей двумерный массив numpy\n",
    "%timeit df['new_col'] = square_mean_numba(df.to_numpy())"
   ]
  },
  {
   "cell_type": "markdown",
   "metadata": {},
   "source": [
    "## Modin"
   ]
  },
  {
   "cell_type": "markdown",
   "metadata": {},
   "source": [
    "https://github.com/modin-project/modin"
   ]
  },
  {
   "cell_type": "markdown",
   "metadata": {},
   "source": [
    "Modin занимается распараллеливанием вычислений, но вместе с этим позволяет использовать дисковое пространство, когда оперативки не хватает  \n",
    "Опция использования дискового пространства включена по дефолту"
   ]
  },
  {
   "cell_type": "markdown",
   "metadata": {},
   "source": [
    "modin разбивает датафрейм на куски, что позволяет ему записывать данные на диск,    \n",
    "но это замедляет работу, даже если памяти хватает, так как теперь нужно не только найти столбец, но ещё кусок этого столбца при индексации  \n",
    "Поэтому используем только, когда не хватает памяти "
   ]
  },
  {
   "cell_type": "markdown",
   "metadata": {},
   "source": [
    "При размере файла меньше 1Гб не стоит использовать, эффекта может не быть"
   ]
  },
  {
   "cell_type": "code",
   "execution_count": null,
   "metadata": {},
   "outputs": [],
   "source": [
    "pip install \"modin[all]\" # (Recommended) Install Modin with Ray and Dask engines."
   ]
  },
  {
   "cell_type": "markdown",
   "metadata": {},
   "source": [
    "Импортируем и работаем как с обычным `pandas`"
   ]
  },
  {
   "cell_type": "code",
   "execution_count": null,
   "metadata": {},
   "outputs": [],
   "source": [
    "import modin.pandas as pd\n"
   ]
  },
  {
   "cell_type": "markdown",
   "metadata": {},
   "source": [
    "## Folium"
   ]
  },
  {
   "cell_type": "markdown",
   "metadata": {},
   "source": [
    "Folium — это мощная библиотека визуализации данных в Python, которая была создана в первую очередь для того,  \n",
    "чтобы помочь людям визуализировать гео-пространственные данные.  \n",
    "https://python-visualization.github.io/folium/latest/getting_started.html"
   ]
  },
  {
   "cell_type": "code",
   "execution_count": null,
   "metadata": {},
   "outputs": [],
   "source": [
    "!pip install folium"
   ]
  },
  {
   "cell_type": "code",
   "execution_count": 2,
   "metadata": {},
   "outputs": [],
   "source": [
    "import folium\n",
    "import pandas as pd"
   ]
  },
  {
   "cell_type": "code",
   "execution_count": 5,
   "metadata": {},
   "outputs": [
    {
     "data": {
      "text/html": [
       "<div>\n",
       "<style scoped>\n",
       "    .dataframe tbody tr th:only-of-type {\n",
       "        vertical-align: middle;\n",
       "    }\n",
       "\n",
       "    .dataframe tbody tr th {\n",
       "        vertical-align: top;\n",
       "    }\n",
       "\n",
       "    .dataframe thead th {\n",
       "        text-align: right;\n",
       "    }\n",
       "</style>\n",
       "<table border=\"1\" class=\"dataframe\">\n",
       "  <thead>\n",
       "    <tr style=\"text-align: right;\">\n",
       "      <th></th>\n",
       "      <th>lat</th>\n",
       "      <th>lon</th>\n",
       "      <th>type</th>\n",
       "    </tr>\n",
       "  </thead>\n",
       "  <tbody>\n",
       "    <tr>\n",
       "      <th>0</th>\n",
       "      <td>55.754170</td>\n",
       "      <td>37.620000</td>\n",
       "      <td>Красная площадь</td>\n",
       "    </tr>\n",
       "    <tr>\n",
       "      <th>1</th>\n",
       "      <td>55.453700</td>\n",
       "      <td>37.370100</td>\n",
       "      <td>Большой театр</td>\n",
       "    </tr>\n",
       "    <tr>\n",
       "      <th>2</th>\n",
       "      <td>55.748139</td>\n",
       "      <td>37.537172</td>\n",
       "      <td>Москва Сиити</td>\n",
       "    </tr>\n",
       "  </tbody>\n",
       "</table>\n",
       "</div>"
      ],
      "text/plain": [
       "         lat        lon             type\n",
       "0  55.754170  37.620000  Красная площадь\n",
       "1  55.453700  37.370100    Большой театр\n",
       "2  55.748139  37.537172     Москва Сиити"
      ]
     },
     "execution_count": 5,
     "metadata": {},
     "output_type": "execute_result"
    }
   ],
   "source": [
    "df = pd.DataFrame(data={\n",
    "    'lat': [55.75417, 55.4537, 55.7481389],\n",
    "    'lon': [37.62, 37.3701, 37.5371719],\n",
    "    'type': ['Красная площадь', 'Большой театр', 'Москва Сиити']\n",
    "})\n",
    "df"
   ]
  },
  {
   "cell_type": "code",
   "execution_count": null,
   "metadata": {},
   "outputs": [],
   "source": [
    "# mp = folium.Map(location=(df['lat'].mean(), df['lon'].mean()), zoom_start=13)  # , \n",
    "mp = folium.Map(location=(55.75417, 37.62), zoom_start=13)  # , \n",
    "mp"
   ]
  },
  {
   "cell_type": "code",
   "execution_count": null,
   "metadata": {},
   "outputs": [],
   "source": [
    "# popup - это что будет показываться, когда нажать на маркер на карте\n",
    "# icon - это настройки маркеров\n",
    "def add_marker(row, mp):\n",
    "    folium.Marker([row['lat'], row['lon']], \n",
    "                  popup=row['type'], \n",
    "                  icon=folium.Icon(color=\"green\" if row['type'] == 'Москва Сиити' else 'blue')).add_to(mp)\n",
    "    \n",
    "df.apply(add_marker, args=[mp], axis=1);\n",
    "mp"
   ]
  },
  {
   "cell_type": "markdown",
   "metadata": {},
   "source": [
    "## urllib"
   ]
  },
  {
   "cell_type": "code",
   "execution_count": 1,
   "metadata": {},
   "outputs": [],
   "source": [
    "from urllib.parse import urljoin"
   ]
  },
  {
   "cell_type": "markdown",
   "metadata": {},
   "source": [
    "Если у нас есть 2 урл и мы хотим их соеденить"
   ]
  },
  {
   "cell_type": "code",
   "execution_count": 5,
   "metadata": {},
   "outputs": [
    {
     "data": {
      "text/plain": [
       "'https://my_cite.com/cat4/cat5pic.jpg'"
      ]
     },
     "execution_count": 5,
     "metadata": {},
     "output_type": "execute_result"
    }
   ],
   "source": [
    "url1 = 'https://my_cite.com/cat1/cat2/cat3/index.html'\n",
    "url2 = '../../../cat4/cat5pic.jpg'\n",
    "urljoin(url1, url2)"
   ]
  },
  {
   "cell_type": "markdown",
   "metadata": {},
   "source": [
    "## tqdm"
   ]
  },
  {
   "cell_type": "markdown",
   "metadata": {},
   "source": [
    "https://tqdm.github.io/docs/tqdm/"
   ]
  },
  {
   "cell_type": "code",
   "execution_count": 1,
   "metadata": {},
   "outputs": [],
   "source": [
    "from tqdm.auto import tqdm"
   ]
  },
  {
   "cell_type": "markdown",
   "metadata": {},
   "source": [
    "Если мы хотим увидеть бар с динамикой выполнения кода, то  \n",
    "нужно `tqdm` поместить в for "
   ]
  },
  {
   "cell_type": "markdown",
   "metadata": {},
   "source": [
    "- iterable: iterable, optional  \n",
    "Iterable to decorate with a progressbar. Leave blank to manually manage the updates.  \n",
    "- desc: str, optional  \n",
    "Prefix for the progressbar.  "
   ]
  },
  {
   "cell_type": "code",
   "execution_count": 4,
   "metadata": {},
   "outputs": [
    {
     "data": {
      "application/vnd.jupyter.widget-view+json": {
       "model_id": "f3e08c51960648e99bdec0397e86409c",
       "version_major": 2,
       "version_minor": 0
      },
      "text/plain": [
       "my_prefix:   0%|          | 0/99999 [00:00<?, ?it/s]"
      ]
     },
     "metadata": {},
     "output_type": "display_data"
    }
   ],
   "source": [
    "for i in tqdm(iterable=range(1, 100000), desc='my_prefix'):\n",
    "    i*i"
   ]
  }
 ],
 "metadata": {
  "kernelspec": {
   "display_name": "Python 3.7.1 64-bit",
   "language": "python",
   "name": "python3"
  },
  "language_info": {
   "codemirror_mode": {
    "name": "ipython",
    "version": 3
   },
   "file_extension": ".py",
   "mimetype": "text/x-python",
   "name": "python",
   "nbconvert_exporter": "python",
   "pygments_lexer": "ipython3",
   "version": "3.7.1"
  },
  "orig_nbformat": 4,
  "vscode": {
   "interpreter": {
    "hash": "fbe58ca63fe33f9eeae9e71d10368d2b4a57f2b1b395836210cc60d362c66949"
   }
  }
 },
 "nbformat": 4,
 "nbformat_minor": 2
}
